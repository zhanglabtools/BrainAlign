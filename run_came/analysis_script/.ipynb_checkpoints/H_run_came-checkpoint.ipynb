{
 "cells": [
  {
   "cell_type": "code",
   "execution_count": null,
   "id": "befa887d-0cc5-4d4d-a7b1-1a21dfb4e5f1",
   "metadata": {
    "scrolled": true
   },
   "outputs": [],
   "source": [
    "# -- coding: utf-8 --\n",
    "\n",
    "\n",
    "import warnings\n",
    "warnings.filterwarnings(\"ignore\")\n",
    "import sys\n",
    "sys.path.append('../')\n",
    "\n",
    "from analysis_utils import ttest_plot_utils\n",
    "from analysis_utils import homo_random_config as config\n",
    "import os\n",
    "\n",
    "\n",
    "if __name__ == '__main__':\n",
    "\n",
    "    cfg = config._C\n",
    "    #os.environ['CUDA_VISIBLE_DEVICES'] = '-1' #cfg.CAME.visible_device\n",
    "    #cfg.CAME.n_top_genes = 1000\n",
    "    cfg.CAME.visible_device = '0'\n",
    "    n_top_genes_list = [2000]\n",
    "\n",
    "    cfg.CAME.n_top_genes = n_top_genes_list[0]\n",
    "    cfg.CAME.sparse = False\n",
    "    cfg.CAME.do_normalize = [False, False]\n",
    "    cfg.CAME.ROOT = '../analysis_results/macaque_mouse_hippocampus/'\n",
    "    cfg.CAME.path_rawdata2 = '../../BrainAlign/data/srrsc_mouse_macaque_hippocampus/Data/Mouse.h5ad'\n",
    "    cfg.CAME.path_rawdata1 = '../../BrainAlign/data/srrsc_mouse_macaque_hippocampus/Data/Macaque.h5ad'\n",
    "\n",
    "    cfg.CAME.path_labels_2 = '../../BrainAlign/data/srrsc_mouse_macaque_hippocampus/Data/mouse_region_list.csv'\n",
    "    cfg.CAME.path_labels_1 = '../../BrainAlign/data/srrsc_mouse_macaque_hippocampus/Data/macaque_region_list.csv'\n",
    "\n",
    "    cfg.CAME.human_mouse_homo_region = '../../BrainAlign/data/srrsc_mouse_macaque_hippocampus/Data/mouse_macaque_homo_region.csv'\n",
    "    #    ttest_plot_utils.run_came_homo_random(cfg)\n",
    "\n",
    "    cfg.CAME.path_varmap = '../../BrainAlign/data/srrsc_mouse_macaque_hippocampus/Data/Macaque_Mouse_multi2multi.csv'\n",
    "    cfg.CAME.path_varmap_1v1 = '../../BrainAlign/data/srrsc_mouse_macaque_hippocampus/Data/Macaque_Mouse_one2one.csv'\n",
    "\n",
    "    cfg.PROCESS.path_rawdata1 = cfg.CAME.path_rawdata1\n",
    "    cfg.PROCESS.path_rawdata2 = cfg.CAME.path_rawdata2\n",
    "\n",
    "    ttest_plot_utils.run_came_homo_random(cfg)\n",
    "\n"
   ]
  },
  {
   "cell_type": "code",
   "execution_count": null,
   "id": "d1071b72-043c-46aa-a9e0-541dc7a15ede",
   "metadata": {},
   "outputs": [],
   "source": []
  }
 ],
 "metadata": {
  "kernelspec": {
   "display_name": "env_came",
   "language": "python",
   "name": "env_came"
  },
  "language_info": {
   "codemirror_mode": {
    "name": "ipython",
    "version": 3
   },
   "file_extension": ".py",
   "mimetype": "text/x-python",
   "name": "python",
   "nbconvert_exporter": "python",
   "pygments_lexer": "ipython3",
   "version": "3.8.18"
  }
 },
 "nbformat": 4,
 "nbformat_minor": 5
}
