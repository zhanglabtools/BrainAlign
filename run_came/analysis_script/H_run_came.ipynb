{
 "cells": [
  {
   "cell_type": "code",
   "execution_count": 1,
   "id": "befa887d-0cc5-4d4d-a7b1-1a21dfb4e5f1",
   "metadata": {
    "scrolled": true
   },
   "outputs": [
    {
     "name": "stdout",
     "output_type": "stream",
     "text": [
      "(7630, 3)\n",
      "      Gene name Mouse gene name Mouse homology type\n",
      "0        ZNF692          Zfp692    ortholog_one2one\n",
      "1        ZNF672          Zfp672    ortholog_one2one\n",
      "2       SH3BP5L         Sh3bp5l    ortholog_one2one\n",
      "16       ZNF496        Zkscan17    ortholog_one2one\n",
      "17       AHCTF1          Ahctf1    ortholog_one2one\n",
      "...         ...             ...                 ...\n",
      "16070      COX1          mt-Co1    ortholog_one2one\n",
      "16075       ND3          mt-Nd3    ortholog_one2one\n",
      "16077       ND4          mt-Nd4    ortholog_one2one\n",
      "16078       ND5          mt-Nd5    ortholog_one2one\n",
      "16079      CYTB         mt-Cytb    ortholog_one2one\n",
      "\n",
      "[7630 rows x 3 columns]\n",
      "AnnData object with n_obs × n_vars = 28499 × 14932\n",
      "    obs: 'gene_area', 'annotation', 'species_id', 'batch_name', 'slice_name', 'louvain', 'mclust', 'mclust_separate', 'STAGATE_annotation', 'region', 'region_name', 'Macaque ITPKA', 'Macaque AMIGO2', 'Macaque HS3ST4', 'Macaque LRRTM4'\n",
      "    var: 'highly_variable', 'highly_variable_rank', 'means', 'variances', 'variances_norm'\n",
      "    uns: 'STAGATE_annotation_colors', 'Spatial_Net', 'adj', 'annotation_colors', 'batch_name_colors', 'hvg', 'log1p', 'louvain', 'louvain_colors', 'mclust_colors', 'mclust_separate_colors', 'neighbors', 'umap'\n",
      "    obsm: 'STAGATE', 'X_umap', 'spatial'\n",
      "    obsp: 'connectivities', 'distances'\n",
      "Index(['A2M', 'A2ML1', 'A3GALT2', 'AAAS', 'AACS', 'AADAC', 'AADACL2',\n",
      "       'AADACL3', 'AADACL4', 'AADAT',\n",
      "       ...\n",
      "       'ZYX', 'ZZEF1', 'ZZZ3', 'ar', 'snoMBII-202', 'snoU109', 'snoU2-30',\n",
      "       'snoU85', 'snoU89', 'snoZ39'],\n",
      "      dtype='object', length=14932)\n"
     ]
    },
    {
     "name": "stderr",
     "output_type": "stream",
     "text": [
      "... storing 'species_id' as categorical\n"
     ]
    },
    {
     "name": "stdout",
     "output_type": "stream",
     "text": [
      "2024-03-13 14:22:46,901 Running CAME and analysis INFO: Running with config:\n",
      "ANALYSIS:\n",
      "  cut_ov: 0\n",
      "  human_umap_neighbor: 20\n",
      "  mouse_umap_neighbor: 20\n",
      "  umap_neighbor: 20\n",
      "CAME:\n",
      "  ROOT: ../analysis_results/macaque_mouse_hippocampus/\n",
      "  annotation_name: ['region_name', 'region_name']\n",
      "  do_normalize: [True, True]\n",
      "  embedding_path: None\n",
      "  embedding_size: 64\n",
      "  human_mouse_homo_region: ../../BrainAlign/data/srrsc_mouse_macaque_hippocampus/Data/mouse_macaque_homo_region.csv\n",
      "  n_top_genes: 3000\n",
      "  path_labels_1: ../../BrainAlign/data/srrsc_mouse_macaque_hippocampus/Data/macaque_region_list.csv\n",
      "  path_labels_2: ../../BrainAlign/data/srrsc_mouse_macaque_hippocampus/Data/mouse_region_list.csv\n",
      "  path_rawdata1: ../../BrainAlign/data/srrsc_mouse_macaque_hippocampus/Data/Macaque.h5ad\n",
      "  path_rawdata2: ../../BrainAlign/data/srrsc_mouse_macaque_hippocampus/Data/Mouse.h5ad\n",
      "  path_varmap: ../../BrainAlign/data/srrsc_mouse_macaque_hippocampus/Data/Macaque_Mouse_multi2multi.csv\n",
      "  path_varmap_1v1: ../../BrainAlign/data/srrsc_mouse_macaque_hippocampus/Data/Macaque_Mouse_one2one.csv\n",
      "  quantile_gene: 0.5\n",
      "  quantile_sample: 0.99\n",
      "  sparse: False\n",
      "  species_name_list: ['Macaque', 'Mouse']\n",
      "  visible_device: -1\n",
      "HOMO_RANDOM:\n",
      "  \n",
      "PROCESS:\n",
      "  path_human_labels: ../brain_human_mouse/human_88_label_10regions.csv\n",
      "  path_mouse_labels: ../brain_human_mouse/mouse_67_label_10regions.csv\n",
      "  path_rawdata1: ../../BrainAlign/data/srrsc_mouse_macaque_hippocampus/Data/Macaque.h5ad\n",
      "  path_rawdata1_part: ../../Brain_ST_human_mouse/data/10regions_mouse_brain_region_67_sagittal.h5ad\n",
      "  path_rawdata2: ../../BrainAlign/data/srrsc_mouse_macaque_hippocampus/Data/Mouse.h5ad\n",
      "  path_rawdata2_part: ../../Brain_ST_human_mouse/data/10regions_human_brain_region_88_sparse_with3d.h5ad\n"
     ]
    },
    {
     "name": "stderr",
     "output_type": "stream",
     "text": [
      "2024-03-13 14:22:46,901 ttest_plot_utils.py-230-run_came(): INFO\n",
      " Running with config:\n",
      "ANALYSIS:\n",
      "  cut_ov: 0\n",
      "  human_umap_neighbor: 20\n",
      "  mouse_umap_neighbor: 20\n",
      "  umap_neighbor: 20\n",
      "CAME:\n",
      "  ROOT: ../analysis_results/macaque_mouse_hippocampus/\n",
      "  annotation_name: ['region_name', 'region_name']\n",
      "  do_normalize: [True, True]\n",
      "  embedding_path: None\n",
      "  embedding_size: 64\n",
      "  human_mouse_homo_region: ../../BrainAlign/data/srrsc_mouse_macaque_hippocampus/Data/mouse_macaque_homo_region.csv\n",
      "  n_top_genes: 3000\n",
      "  path_labels_1: ../../BrainAlign/data/srrsc_mouse_macaque_hippocampus/Data/macaque_region_list.csv\n",
      "  path_labels_2: ../../BrainAlign/data/srrsc_mouse_macaque_hippocampus/Data/mouse_region_list.csv\n",
      "  path_rawdata1: ../../BrainAlign/data/srrsc_mouse_macaque_hippocampus/Data/Macaque.h5ad\n",
      "  path_rawdata2: ../../BrainAlign/data/srrsc_mouse_macaque_hippocampus/Data/Mouse.h5ad\n",
      "  path_varmap: ../../BrainAlign/data/srrsc_mouse_macaque_hippocampus/Data/Macaque_Mouse_multi2multi.csv\n",
      "  path_varmap_1v1: ../../BrainAlign/data/srrsc_mouse_macaque_hippocampus/Data/Macaque_Mouse_one2one.csv\n",
      "  quantile_gene: 0.5\n",
      "  quantile_sample: 0.99\n",
      "  sparse: False\n",
      "  species_name_list: ['Macaque', 'Mouse']\n",
      "  visible_device: -1\n",
      "HOMO_RANDOM:\n",
      "  \n",
      "PROCESS:\n",
      "  path_human_labels: ../brain_human_mouse/human_88_label_10regions.csv\n",
      "  path_mouse_labels: ../brain_human_mouse/mouse_67_label_10regions.csv\n",
      "  path_rawdata1: ../../BrainAlign/data/srrsc_mouse_macaque_hippocampus/Data/Macaque.h5ad\n",
      "  path_rawdata1_part: ../../Brain_ST_human_mouse/data/10regions_mouse_brain_region_67_sagittal.h5ad\n",
      "  path_rawdata2: ../../BrainAlign/data/srrsc_mouse_macaque_hippocampus/Data/Mouse.h5ad\n",
      "  path_rawdata2_part: ../../Brain_ST_human_mouse/data/10regions_human_brain_region_88_sparse_with3d.h5ad\n"
     ]
    },
    {
     "name": "stdout",
     "output_type": "stream",
     "text": [
      "already exists:\n",
      "\t../analysis_results/macaque_mouse_hippocampus/Macaque-Mouse/figs/\n"
     ]
    },
    {
     "name": "stderr",
     "output_type": "stream",
     "text": [
      "2024-03-13 14:22:47,431 pipeline.py-933-preprocess_unaligned(): INFO\n",
      " ================ preprocessing ===============\n",
      "2024-03-13 14:22:47,506 preprocess.py-1916-quick_preprocess(): INFO\n",
      " A copy of AnnData made!\n",
      "2024-03-13 14:22:47,507 preprocess.py-1347-normalize_default(): INFO\n",
      " No copy was made, the input AnnData will be changed!\n",
      "2024-03-13 14:22:47,508 preprocess.py-1348-normalize_default(): INFO\n",
      " normalizing datasets with default settings.\n",
      "2024-03-13 14:22:47,508 preprocess.py-1350-normalize_default(): INFO\n",
      " performing total-sum normalization, target_sum=None...\n"
     ]
    },
    {
     "name": "stdout",
     "output_type": "stream",
     "text": [
      "                    Macaque   Mouse\n",
      "Macaque_background  17968.0     NaN\n",
      "Macaque_SUB          2242.0     NaN\n",
      "Macaque_CA1          2042.0     NaN\n",
      "Macaque_paraS        1650.0     NaN\n",
      "Macaque_preS         1272.0     NaN\n",
      "Macaque_CA4          1229.0     NaN\n",
      "Macaque_DG            835.0     NaN\n",
      "Macaque_CA3           825.0     NaN\n",
      "Macaque_CA2           436.0     NaN\n",
      "Mouse_background        NaN  3106.0\n",
      "Mouse_CA1               NaN   474.0\n",
      "Mouse_CA3               NaN   468.0\n",
      "Mouse_DG                NaN   367.0\n",
      "Mouse_CA2               NaN   125.0\n",
      "WARNING: adata.X seems to be already log-transformed.\n"
     ]
    },
    {
     "name": "stderr",
     "output_type": "stream",
     "text": [
      "2024-03-13 14:22:48,677 preprocess.py-1517-wrapper_scale(): INFO\n",
      " using the build-in function `sc.pp.scale(..)`\n",
      "2024-03-13 14:23:04,038 preprocess.py-1916-quick_preprocess(): INFO\n",
      " A copy of AnnData made!\n",
      "2024-03-13 14:23:04,039 preprocess.py-1347-normalize_default(): INFO\n",
      " No copy was made, the input AnnData will be changed!\n",
      "2024-03-13 14:23:04,040 preprocess.py-1348-normalize_default(): INFO\n",
      " normalizing datasets with default settings.\n",
      "2024-03-13 14:23:04,041 preprocess.py-1350-normalize_default(): INFO\n",
      " performing total-sum normalization, target_sum=None...\n"
     ]
    },
    {
     "name": "stdout",
     "output_type": "stream",
     "text": [
      "WARNING: adata.X seems to be already log-transformed.\n"
     ]
    },
    {
     "name": "stderr",
     "output_type": "stream",
     "text": [
      "2024-03-13 14:23:04,303 preprocess.py-1517-wrapper_scale(): INFO\n",
      " using the build-in function `sc.pp.scale(..)`\n",
      "2024-03-13 14:23:44,659 preprocess.py-2252-get_leiden_labels(): INFO\n",
      " Leiden results:\n",
      "0      613\n",
      "1      608\n",
      "2      596\n",
      "3      567\n",
      "4      531\n",
      "      ... \n",
      "242     25\n",
      "243     24\n",
      "244     19\n",
      "245     18\n",
      "246     14\n",
      "Name: clust_lbs, Length: 247, dtype: int64\n"
     ]
    },
    {
     "name": "stdout",
     "output_type": "stream",
     "text": [
      "[leiden] Time used:  33.4556 s\n"
     ]
    },
    {
     "name": "stderr",
     "output_type": "stream",
     "text": [
      "2024-03-13 14:23:47,585 preprocess.py-2252-get_leiden_labels(): INFO\n",
      " Leiden results:\n",
      "0      119\n",
      "1      107\n",
      "2      106\n",
      "3       80\n",
      "4       79\n",
      "      ... \n",
      "181      9\n",
      "182      9\n",
      "183      8\n",
      "184      7\n",
      "185      7\n",
      "Name: clust_lbs, Length: 186, dtype: int64\n",
      "2024-03-13 14:23:47,588 preprocess.py-2205-compute_and_get_DEGs(): INFO\n",
      " computing differentially expressed genes using t-test\n",
      "2024-03-13 14:23:47,589 preprocess.py-2210-compute_and_get_DEGs(): INFO\n",
      " computing differential expression genes using default settings(assume that the expression values are already normalized)\n",
      "2024-03-13 14:23:47,591 preprocess.py-1119-remove_small_groups(): INFO\n",
      " groups to be removed:\n",
      "\t[]\n"
     ]
    },
    {
     "name": "stdout",
     "output_type": "stream",
     "text": [
      "[leiden] Time used:  2.9228 s\n"
     ]
    },
    {
     "name": "stderr",
     "output_type": "stream",
     "text": [
      "... storing 'cluster_region' as categorical\n",
      "2024-03-13 14:23:50,461 preprocess.py-2205-compute_and_get_DEGs(): INFO\n",
      " computing differentially expressed genes using t-test\n",
      "2024-03-13 14:23:50,462 preprocess.py-2210-compute_and_get_DEGs(): INFO\n",
      " computing differential expression genes using default settings(assume that the expression values are already normalized)\n",
      "2024-03-13 14:23:50,464 preprocess.py-1119-remove_small_groups(): INFO\n",
      " groups to be removed:\n",
      "\t[]\n",
      "... storing 'cluster_region' as categorical\n",
      "2024-03-13 14:24:47,438 preprocess.py-2205-compute_and_get_DEGs(): INFO\n",
      " computing differentially expressed genes using t-test\n",
      "2024-03-13 14:24:47,442 preprocess.py-2210-compute_and_get_DEGs(): INFO\n",
      " computing differential expression genes using default settings(assume that the expression values are already normalized)\n",
      "2024-03-13 14:24:47,447 preprocess.py-1119-remove_small_groups(): INFO\n",
      " groups to be removed:\n",
      "\t[]\n",
      "... storing 'cluster_region' as categorical\n",
      "2024-03-13 14:24:48,014 preprocess.py-2205-compute_and_get_DEGs(): INFO\n",
      " computing differentially expressed genes using t-test\n",
      "2024-03-13 14:24:48,016 preprocess.py-2210-compute_and_get_DEGs(): INFO\n",
      " computing differential expression genes using default settings(assume that the expression values are already normalized)\n",
      "2024-03-13 14:24:48,017 preprocess.py-1119-remove_small_groups(): INFO\n",
      " groups to be removed:\n",
      "\t[]\n",
      "... storing 'cluster_region' as categorical\n"
     ]
    },
    {
     "name": "stdout",
     "output_type": "stream",
     "text": [
      "2024-03-13 14:24:59,394 Running CAME and analysis INFO: came_results:\n"
     ]
    },
    {
     "name": "stderr",
     "output_type": "stream",
     "text": [
      "2024-03-13 14:24:59,394 ttest_plot_utils.py-289-run_came(): INFO\n",
      " came_results:\n",
      "2024-03-13 14:24:59,398 preprocess.py-1347-normalize_default(): INFO\n",
      " No copy was made, the input AnnData will be changed!\n",
      "2024-03-13 14:24:59,398 preprocess.py-1348-normalize_default(): INFO\n",
      " normalizing datasets with default settings.\n",
      "2024-03-13 14:24:59,399 preprocess.py-1350-normalize_default(): INFO\n",
      " performing total-sum normalization, target_sum=None...\n"
     ]
    },
    {
     "name": "stdout",
     "output_type": "stream",
     "text": [
      "already exists:\n",
      "\t../analysis_results/macaque_mouse_hippocampus/Macaque-Mouse/figs\n",
      "already exists:\n",
      "\t../analysis_results/macaque_mouse_hippocampus/Macaque-Mouse\n",
      "WARNING: adata.X seems to be already log-transformed.\n"
     ]
    },
    {
     "name": "stderr",
     "output_type": "stream",
     "text": [
      "2024-03-13 14:24:59,536 preprocess.py-1347-normalize_default(): INFO\n",
      " No copy was made, the input AnnData will be changed!\n",
      "2024-03-13 14:24:59,537 preprocess.py-1348-normalize_default(): INFO\n",
      " normalizing datasets with default settings.\n",
      "2024-03-13 14:24:59,538 preprocess.py-1350-normalize_default(): INFO\n",
      " performing total-sum normalization, target_sum=None...\n"
     ]
    },
    {
     "name": "stdout",
     "output_type": "stream",
     "text": [
      "WARNING: adata.X seems to be already log-transformed.\n"
     ]
    },
    {
     "name": "stderr",
     "output_type": "stream",
     "text": [
      "2024-03-13 14:24:59,587 pipeline.py-425-main_for_unaligned(): INFO\n",
      " preparing DataPair object...\n",
      "2024-03-13 14:25:00,261 preprocess.py-859-reduce_to_align_features(): INFO\n",
      " [AdjacentTrans] reduce features to align, trans_to=0\n",
      "2024-03-13 14:25:00,594 preprocess.py-849-reduce_to_align(): INFO\n",
      " [AdjacentTrans] reduce to align, trans_to=0\n"
     ]
    },
    {
     "name": "stdout",
     "output_type": "stream",
     "text": [
      "trans.shape= (1675, 1677)\n",
      "[*] Setting dataset names:\n",
      "\t0-->Macaque\n",
      "\t1-->Mouse\n",
      "[*] Setting aligned features for observation nodes (self._features)\n",
      "[*] Setting un-aligned features (`self._ov_adjs`) for making links connecting observation and variable nodes\n",
      "[*] Setting adjacent matrix connecting variables from these 2 datasets (`self._vv_adj`)\n",
      "-------------------- Summary of the DGL-Heterograph --------------------\n",
      "Graph(num_nodes={'cell': 33039, 'gene': 9250},\n",
      "      num_edges={('cell', 'express', 'gene'): 9876049, ('cell', 'self_loop_cell', 'cell'): 33039, ('cell', 'similar_to', 'cell'): 218812, ('gene', 'expressed_by', 'cell'): 9876049, ('gene', 'homolog_with', 'gene'): 16398},\n",
      "      metagraph=[('cell', 'gene', 'express'), ('cell', 'cell', 'self_loop_cell'), ('cell', 'cell', 'similar_to'), ('gene', 'cell', 'expressed_by'), ('gene', 'gene', 'homolog_with')])\n",
      "second-order connection: False\n",
      "self-loops for observation-nodes: True\n",
      "self-loops for variable-nodes: True\n",
      "\n",
      "DataPair with 33039 obs- and 9250 var-nodes\n",
      "obs1 x var1 (Macaque): 28499 x 5007\n",
      "obs2 x var2 (Mouse): 4540 x 4243\n",
      "Dimensions of the obs-node-features: 1675\n"
     ]
    },
    {
     "name": "stderr",
     "output_type": "stream",
     "text": [
      "2024-03-13 14:25:02,580 pipeline.py-441-main_for_unaligned(): INFO\n",
      " dict_keys(['classes', 'g', 'feat_dict', 'train_labels', 'test_labels', 'train_idx', 'test_idx', 'cluster_labels'])\n",
      "2024-03-13 14:25:02,593 base.py-113-save_json_dict(): INFO\n",
      " ../analysis_results/macaque_mouse_hippocampus/Macaque-Mouse/model_params.json\n"
     ]
    },
    {
     "name": "stdout",
     "output_type": "stream",
     "text": [
      "main directory: ../analysis_results/macaque_mouse_hippocampus/Macaque-Mouse\n",
      "model directory: ../analysis_results/macaque_mouse_hippocampus/Macaque-Mouse/_models\n",
      "============== start training (device='cpu') ===============\n"
     ]
    },
    {
     "name": "stderr",
     "output_type": "stream",
     "text": [
      "100%|██████████| 14/14 [00:08<00:00,  1.59it/s]\n",
      "100%|██████████| 3/3 [00:00<00:00,  4.83it/s]\n"
     ]
    },
    {
     "name": "stdout",
     "output_type": "stream",
     "text": [
      "Epoch 0000 | Train Acc: 0.0651 | Test: 0.0689 (max=0.0689) | AMI=0.0349 | Time: 9.5446\n"
     ]
    },
    {
     "name": "stderr",
     "output_type": "stream",
     "text": [
      "100%|██████████| 14/14 [00:08<00:00,  1.59it/s]\n",
      "100%|██████████| 3/3 [00:00<00:00,  5.62it/s]\n",
      "100%|██████████| 14/14 [00:09<00:00,  1.42it/s]\n",
      "100%|██████████| 3/3 [00:00<00:00,  5.37it/s]\n",
      "100%|██████████| 14/14 [00:09<00:00,  1.50it/s]\n",
      "100%|██████████| 3/3 [00:00<00:00,  5.14it/s]\n"
     ]
    },
    {
     "name": "stdout",
     "output_type": "stream",
     "text": [
      "Epoch 0003 | Train Acc: 0.1086 | Test: 0.1141 (max=0.1141) | AMI=0.0384 | Time: 9.8538\n"
     ]
    },
    {
     "name": "stderr",
     "output_type": "stream",
     "text": [
      "100%|██████████| 14/14 [00:09<00:00,  1.43it/s]\n",
      "100%|██████████| 3/3 [00:00<00:00,  5.79it/s]\n",
      "100%|██████████| 14/14 [00:10<00:00,  1.37it/s]\n",
      "100%|██████████| 3/3 [00:00<00:00,  5.04it/s]\n",
      "100%|██████████| 14/14 [00:09<00:00,  1.42it/s]\n",
      "100%|██████████| 3/3 [00:00<00:00,  5.45it/s]\n"
     ]
    },
    {
     "name": "stdout",
     "output_type": "stream",
     "text": [
      "Epoch 0006 | Train Acc: 0.1546 | Test: 0.1363 (max=0.1363) | AMI=0.1505 | Time: 10.1607\n"
     ]
    },
    {
     "name": "stderr",
     "output_type": "stream",
     "text": [
      "100%|██████████| 14/14 [00:09<00:00,  1.54it/s]\n",
      "100%|██████████| 3/3 [00:00<00:00,  5.30it/s]\n",
      "100%|██████████| 14/14 [00:08<00:00,  1.59it/s]\n",
      "100%|██████████| 3/3 [00:00<00:00,  4.91it/s]\n",
      "100%|██████████| 14/14 [00:08<00:00,  1.56it/s]\n",
      "100%|██████████| 3/3 [00:00<00:00,  5.30it/s]\n"
     ]
    },
    {
     "name": "stdout",
     "output_type": "stream",
     "text": [
      "Epoch 0009 | Train Acc: 0.1729 | Test: 0.1273 (max=0.1443) | AMI=0.1494 | Time: 9.9958\n"
     ]
    },
    {
     "name": "stderr",
     "output_type": "stream",
     "text": [
      "100%|██████████| 14/14 [00:09<00:00,  1.47it/s]\n",
      "100%|██████████| 3/3 [00:00<00:00,  5.51it/s]\n",
      "100%|██████████| 14/14 [00:08<00:00,  1.56it/s]\n",
      "100%|██████████| 3/3 [00:00<00:00,  5.22it/s]\n",
      "100%|██████████| 14/14 [00:08<00:00,  1.60it/s]\n",
      "100%|██████████| 3/3 [00:00<00:00,  5.85it/s]\n"
     ]
    },
    {
     "name": "stdout",
     "output_type": "stream",
     "text": [
      "Epoch 0012 | Train Acc: 0.2148 | Test: 0.1161 (max=0.1443) | AMI=0.1673 | Time: 9.9251\n"
     ]
    },
    {
     "name": "stderr",
     "output_type": "stream",
     "text": [
      "100%|██████████| 14/14 [00:08<00:00,  1.57it/s]\n",
      "100%|██████████| 3/3 [00:00<00:00,  5.31it/s]\n",
      "100%|██████████| 14/14 [00:08<00:00,  1.58it/s]\n",
      "100%|██████████| 3/3 [00:00<00:00,  4.71it/s]\n",
      "100%|██████████| 14/14 [00:08<00:00,  1.67it/s]\n",
      "100%|██████████| 3/3 [00:00<00:00,  4.58it/s]\n"
     ]
    },
    {
     "name": "stdout",
     "output_type": "stream",
     "text": [
      "Epoch 0015 | Train Acc: 0.2409 | Test: 0.1522 (max=0.1522) | AMI=0.1680 | Time: 9.8269\n"
     ]
    },
    {
     "name": "stderr",
     "output_type": "stream",
     "text": [
      "100%|██████████| 14/14 [00:09<00:00,  1.53it/s]\n",
      "100%|██████████| 3/3 [00:00<00:00,  5.48it/s]\n",
      "100%|██████████| 14/14 [00:09<00:00,  1.51it/s]\n",
      "100%|██████████| 3/3 [00:00<00:00,  5.43it/s]\n",
      "100%|██████████| 14/14 [00:09<00:00,  1.53it/s]\n",
      "100%|██████████| 3/3 [00:00<00:00,  5.68it/s]\n"
     ]
    },
    {
     "name": "stdout",
     "output_type": "stream",
     "text": [
      "Epoch 0018 | Train Acc: 0.2703 | Test: 0.1615 (max=0.1615) | AMI=0.1706 | Time: 9.8188\n"
     ]
    },
    {
     "name": "stderr",
     "output_type": "stream",
     "text": [
      "100%|██████████| 14/14 [00:12<00:00,  1.09it/s]\n",
      "100%|██████████| 3/3 [00:00<00:00,  3.80it/s]\n",
      "100%|██████████| 14/14 [00:09<00:00,  1.50it/s]\n",
      "100%|██████████| 3/3 [00:00<00:00,  5.45it/s]\n",
      "100%|██████████| 14/14 [00:09<00:00,  1.44it/s]\n",
      "100%|██████████| 3/3 [00:00<00:00,  5.44it/s]\n"
     ]
    },
    {
     "name": "stdout",
     "output_type": "stream",
     "text": [
      "Epoch 0021 | Train Acc: 0.3114 | Test: 0.1656 (max=0.1689) | AMI=0.1706 | Time: 10.0262\n"
     ]
    },
    {
     "name": "stderr",
     "output_type": "stream",
     "text": [
      "100%|██████████| 14/14 [00:10<00:00,  1.34it/s]\n",
      "100%|██████████| 3/3 [00:00<00:00,  4.82it/s]\n",
      "100%|██████████| 14/14 [00:11<00:00,  1.17it/s]\n",
      "100%|██████████| 3/3 [00:00<00:00,  4.59it/s]\n",
      "100%|██████████| 14/14 [00:09<00:00,  1.45it/s]\n",
      "100%|██████████| 3/3 [00:00<00:00,  4.75it/s]\n"
     ]
    },
    {
     "name": "stdout",
     "output_type": "stream",
     "text": [
      "Epoch 0024 | Train Acc: 0.3583 | Test: 0.2253 (max=0.2253) | AMI=0.1720 | Time: 10.1862\n"
     ]
    },
    {
     "name": "stderr",
     "output_type": "stream",
     "text": [
      "100%|██████████| 14/14 [00:08<00:00,  1.68it/s]\n",
      "100%|██████████| 3/3 [00:00<00:00,  5.11it/s]\n",
      "100%|██████████| 14/14 [00:08<00:00,  1.57it/s]\n",
      "100%|██████████| 3/3 [00:00<00:00,  5.26it/s]\n",
      "100%|██████████| 14/14 [00:09<00:00,  1.52it/s]\n",
      "100%|██████████| 3/3 [00:00<00:00,  5.40it/s]\n"
     ]
    },
    {
     "name": "stdout",
     "output_type": "stream",
     "text": [
      "Epoch 0027 | Train Acc: 0.4102 | Test: 0.2705 (max=0.2707) | AMI=0.1974 | Time: 10.1066\n"
     ]
    },
    {
     "name": "stderr",
     "output_type": "stream",
     "text": [
      "100%|██████████| 14/14 [00:09<00:00,  1.50it/s]\n",
      "100%|██████████| 3/3 [00:00<00:00,  4.66it/s]\n",
      "100%|██████████| 14/14 [00:09<00:00,  1.52it/s]\n",
      "100%|██████████| 3/3 [00:00<00:00,  5.36it/s]\n",
      "100%|██████████| 14/14 [00:08<00:00,  1.71it/s]\n",
      "100%|██████████| 3/3 [00:00<00:00,  4.71it/s]\n"
     ]
    },
    {
     "name": "stdout",
     "output_type": "stream",
     "text": [
      "Epoch 0030 | Train Acc: 0.4422 | Test: 0.2826 (max=0.2837) | AMI=0.1988 | Time: 10.0549\n"
     ]
    },
    {
     "name": "stderr",
     "output_type": "stream",
     "text": [
      "100%|██████████| 14/14 [00:08<00:00,  1.64it/s]\n",
      "100%|██████████| 3/3 [00:00<00:00,  5.30it/s]\n",
      "100%|██████████| 14/14 [00:08<00:00,  1.67it/s]\n",
      "100%|██████████| 3/3 [00:00<00:00,  4.69it/s]\n",
      "100%|██████████| 14/14 [00:08<00:00,  1.65it/s]\n",
      "100%|██████████| 3/3 [00:00<00:00,  4.59it/s]\n"
     ]
    },
    {
     "name": "stdout",
     "output_type": "stream",
     "text": [
      "Epoch 0033 | Train Acc: 0.4801 | Test: 0.3086 (max=0.3086) | AMI=0.1949 | Time: 9.9750\n"
     ]
    },
    {
     "name": "stderr",
     "output_type": "stream",
     "text": [
      "100%|██████████| 14/14 [00:08<00:00,  1.63it/s]\n",
      "100%|██████████| 3/3 [00:00<00:00,  5.47it/s]\n",
      "100%|██████████| 14/14 [00:08<00:00,  1.61it/s]\n",
      "100%|██████████| 3/3 [00:00<00:00,  4.76it/s]\n",
      "100%|██████████| 14/14 [00:08<00:00,  1.61it/s]\n",
      "100%|██████████| 3/3 [00:00<00:00,  4.33it/s]\n"
     ]
    },
    {
     "name": "stdout",
     "output_type": "stream",
     "text": [
      "Epoch 0036 | Train Acc: 0.5098 | Test: 0.2916 (max=0.3119) | AMI=0.1788 | Time: 9.9252\n"
     ]
    },
    {
     "name": "stderr",
     "output_type": "stream",
     "text": [
      "100%|██████████| 14/14 [00:08<00:00,  1.69it/s]\n",
      "100%|██████████| 3/3 [00:00<00:00,  5.66it/s]\n",
      "100%|██████████| 14/14 [00:09<00:00,  1.52it/s]\n",
      "100%|██████████| 3/3 [00:00<00:00,  5.46it/s]\n",
      "100%|██████████| 14/14 [00:08<00:00,  1.66it/s]\n",
      "100%|██████████| 3/3 [00:00<00:00,  5.47it/s]\n"
     ]
    },
    {
     "name": "stdout",
     "output_type": "stream",
     "text": [
      "Epoch 0039 | Train Acc: 0.5234 | Test: 0.2960 (max=0.3119) | AMI=0.1781 | Time: 9.8747\n"
     ]
    },
    {
     "name": "stderr",
     "output_type": "stream",
     "text": [
      "100%|██████████| 14/14 [00:08<00:00,  1.64it/s]\n",
      "100%|██████████| 3/3 [00:00<00:00,  5.03it/s]\n",
      "100%|██████████| 14/14 [00:08<00:00,  1.65it/s]\n",
      "100%|██████████| 3/3 [00:00<00:00,  5.25it/s]\n",
      "100%|██████████| 14/14 [00:10<00:00,  1.37it/s]\n",
      "100%|██████████| 3/3 [00:00<00:00,  4.65it/s]\n"
     ]
    },
    {
     "name": "stdout",
     "output_type": "stream",
     "text": [
      "Epoch 0042 | Train Acc: 0.5336 | Test: 0.3086 (max=0.3119) | AMI=0.1836 | Time: 9.8654\n"
     ]
    },
    {
     "name": "stderr",
     "output_type": "stream",
     "text": [
      "100%|██████████| 14/14 [00:08<00:00,  1.64it/s]\n",
      "100%|██████████| 3/3 [00:00<00:00,  4.98it/s]\n",
      "100%|██████████| 14/14 [00:08<00:00,  1.63it/s]\n",
      "100%|██████████| 3/3 [00:00<00:00,  5.08it/s]\n",
      "100%|██████████| 14/14 [00:08<00:00,  1.71it/s]\n",
      "100%|██████████| 3/3 [00:00<00:00,  5.75it/s]\n"
     ]
    },
    {
     "name": "stdout",
     "output_type": "stream",
     "text": [
      "Epoch 0045 | Train Acc: 0.5415 | Test: 0.2971 (max=0.3119) | AMI=0.1742 | Time: 9.8136\n"
     ]
    },
    {
     "name": "stderr",
     "output_type": "stream",
     "text": [
      "100%|██████████| 14/14 [00:08<00:00,  1.57it/s]\n",
      "100%|██████████| 3/3 [00:00<00:00,  5.26it/s]\n",
      "100%|██████████| 14/14 [00:10<00:00,  1.30it/s]\n",
      "100%|██████████| 3/3 [00:00<00:00,  4.71it/s]\n",
      "100%|██████████| 14/14 [00:16<00:00,  1.21s/it]\n",
      "100%|██████████| 3/3 [00:00<00:00,  4.57it/s]\n"
     ]
    },
    {
     "name": "stdout",
     "output_type": "stream",
     "text": [
      "Epoch 0048 | Train Acc: 0.5496 | Test: 0.2996 (max=0.3119) | AMI=0.1750 | Time: 10.0058\n"
     ]
    },
    {
     "name": "stderr",
     "output_type": "stream",
     "text": [
      "100%|██████████| 14/14 [00:12<00:00,  1.12it/s]\n",
      "100%|██████████| 3/3 [00:00<00:00,  5.67it/s]\n"
     ]
    },
    {
     "name": "stdout",
     "output_type": "stream",
     "text": [
      "[current best] model weights backup\n",
      "Epoch 0049 | Train Acc: 0.5496 | Test: 0.3020 (max=0.3119) | AMI=0.1804 | Time: 10.0689\n"
     ]
    },
    {
     "name": "stderr",
     "output_type": "stream",
     "text": [
      "100%|██████████| 14/14 [00:17<00:00,  1.24s/it]\n",
      "100%|██████████| 3/3 [00:00<00:00,  5.32it/s]\n",
      "100%|██████████| 14/14 [00:09<00:00,  1.56it/s]\n",
      "100%|██████████| 3/3 [00:00<00:00,  5.58it/s]\n"
     ]
    },
    {
     "name": "stdout",
     "output_type": "stream",
     "text": [
      "[current best] model weights backup\n",
      "Epoch 0051 | Train Acc: 0.5516 | Test: 0.3075 (max=0.3119) | AMI=0.1806 | Time: 10.2138\n"
     ]
    },
    {
     "name": "stderr",
     "output_type": "stream",
     "text": [
      "100%|██████████| 14/14 [00:15<00:00,  1.14s/it]\n",
      "100%|██████████| 3/3 [00:00<00:00,  4.79it/s]\n",
      "100%|██████████| 14/14 [00:09<00:00,  1.51it/s]\n",
      "100%|██████████| 3/3 [00:00<00:00,  3.23it/s]\n",
      "100%|██████████| 14/14 [00:13<00:00,  1.05it/s]\n",
      "100%|██████████| 3/3 [00:00<00:00,  5.00it/s]\n"
     ]
    },
    {
     "name": "stdout",
     "output_type": "stream",
     "text": [
      "[current best] model weights backup\n",
      "Epoch 0054 | Train Acc: 0.5573 | Test: 0.2952 (max=0.3119) | AMI=0.1822 | Time: 10.4007\n"
     ]
    },
    {
     "name": "stderr",
     "output_type": "stream",
     "text": [
      "100%|██████████| 14/14 [00:16<00:00,  1.19s/it]\n",
      "100%|██████████| 3/3 [00:00<00:00,  5.37it/s]\n",
      "100%|██████████| 14/14 [00:08<00:00,  1.64it/s]\n",
      "100%|██████████| 3/3 [00:00<00:00,  4.68it/s]\n",
      "100%|██████████| 14/14 [00:15<00:00,  1.11s/it]\n",
      "100%|██████████| 3/3 [00:00<00:00,  4.29it/s]\n"
     ]
    },
    {
     "name": "stdout",
     "output_type": "stream",
     "text": [
      "Epoch 0057 | Train Acc: 0.5619 | Test: 0.2938 (max=0.3119) | AMI=0.1738 | Time: 10.6029\n"
     ]
    },
    {
     "name": "stderr",
     "output_type": "stream",
     "text": [
      "100%|██████████| 14/14 [00:08<00:00,  1.66it/s]\n",
      "100%|██████████| 3/3 [00:02<00:00,  1.19it/s]\n",
      "100%|██████████| 14/14 [00:08<00:00,  1.70it/s]\n",
      "100%|██████████| 3/3 [00:01<00:00,  2.84it/s]\n",
      "100%|██████████| 14/14 [00:07<00:00,  1.75it/s]\n",
      "100%|██████████| 3/3 [00:00<00:00,  5.45it/s]\n"
     ]
    },
    {
     "name": "stdout",
     "output_type": "stream",
     "text": [
      "Epoch 0060 | Train Acc: 0.5596 | Test: 0.2859 (max=0.3119) | AMI=0.1764 | Time: 10.5583\n"
     ]
    },
    {
     "name": "stderr",
     "output_type": "stream",
     "text": [
      "100%|██████████| 14/14 [00:16<00:00,  1.18s/it]\n",
      "100%|██████████| 3/3 [00:00<00:00,  5.35it/s]\n",
      "100%|██████████| 14/14 [00:07<00:00,  1.78it/s]\n",
      "100%|██████████| 3/3 [00:00<00:00,  5.44it/s]\n",
      "100%|██████████| 14/14 [00:32<00:00,  2.34s/it]\n",
      "100%|██████████| 3/3 [00:00<00:00,  5.23it/s]\n"
     ]
    },
    {
     "name": "stdout",
     "output_type": "stream",
     "text": [
      "Epoch 0063 | Train Acc: 0.5619 | Test: 0.3018 (max=0.3119) | AMI=0.1785 | Time: 10.9858\n"
     ]
    },
    {
     "name": "stderr",
     "output_type": "stream",
     "text": [
      "100%|██████████| 14/14 [00:07<00:00,  1.78it/s]\n",
      "100%|██████████| 3/3 [00:00<00:00,  5.68it/s]\n",
      "100%|██████████| 14/14 [00:07<00:00,  1.77it/s]\n",
      "100%|██████████| 3/3 [00:00<00:00,  5.38it/s]\n",
      "100%|██████████| 14/14 [00:09<00:00,  1.53it/s]\n",
      "100%|██████████| 3/3 [00:05<00:00,  1.81s/it]\n"
     ]
    },
    {
     "name": "stdout",
     "output_type": "stream",
     "text": [
      "Epoch 0066 | Train Acc: 0.5646 | Test: 0.2861 (max=0.3119) | AMI=0.1796 | Time: 10.9710\n"
     ]
    },
    {
     "name": "stderr",
     "output_type": "stream",
     "text": [
      "100%|██████████| 14/14 [00:08<00:00,  1.56it/s]\n",
      "100%|██████████| 3/3 [00:00<00:00,  5.01it/s]\n",
      "100%|██████████| 14/14 [00:08<00:00,  1.73it/s]\n",
      "100%|██████████| 3/3 [00:00<00:00,  5.64it/s]\n",
      "100%|██████████| 14/14 [00:08<00:00,  1.69it/s]\n",
      "100%|██████████| 3/3 [00:00<00:00,  5.64it/s]\n"
     ]
    },
    {
     "name": "stdout",
     "output_type": "stream",
     "text": [
      "Epoch 0069 | Train Acc: 0.5663 | Test: 0.2896 (max=0.3119) | AMI=0.1783 | Time: 10.8894\n"
     ]
    },
    {
     "name": "stderr",
     "output_type": "stream",
     "text": [
      "100%|██████████| 14/14 [00:08<00:00,  1.70it/s]\n",
      "100%|██████████| 3/3 [00:00<00:00,  5.42it/s]\n",
      "100%|██████████| 14/14 [00:08<00:00,  1.63it/s]\n",
      "100%|██████████| 3/3 [00:00<00:00,  5.32it/s]\n",
      "100%|██████████| 14/14 [00:08<00:00,  1.65it/s]\n",
      "100%|██████████| 3/3 [00:00<00:00,  5.34it/s]\n"
     ]
    },
    {
     "name": "stdout",
     "output_type": "stream",
     "text": [
      "Epoch 0072 | Train Acc: 0.5620 | Test: 0.2927 (max=0.3119) | AMI=0.1725 | Time: 10.8146\n"
     ]
    },
    {
     "name": "stderr",
     "output_type": "stream",
     "text": [
      "100%|██████████| 14/14 [00:14<00:00,  1.06s/it]\n",
      "100%|██████████| 3/3 [00:00<00:00,  5.44it/s]\n",
      "100%|██████████| 14/14 [00:08<00:00,  1.61it/s]\n",
      "100%|██████████| 3/3 [00:00<00:00,  5.41it/s]\n",
      "100%|██████████| 14/14 [00:08<00:00,  1.71it/s]\n",
      "100%|██████████| 3/3 [00:00<00:00,  4.99it/s]\n"
     ]
    },
    {
     "name": "stdout",
     "output_type": "stream",
     "text": [
      "Epoch 0075 | Train Acc: 0.5638 | Test: 0.2839 (max=0.3119) | AMI=0.1742 | Time: 10.8294\n"
     ]
    },
    {
     "name": "stderr",
     "output_type": "stream",
     "text": [
      "100%|██████████| 14/14 [00:08<00:00,  1.67it/s]\n",
      "100%|██████████| 3/3 [00:00<00:00,  5.30it/s]\n",
      "100%|██████████| 14/14 [00:08<00:00,  1.58it/s]\n",
      "100%|██████████| 3/3 [00:00<00:00,  4.52it/s]\n",
      "100%|██████████| 14/14 [00:08<00:00,  1.56it/s]\n",
      "100%|██████████| 3/3 [00:00<00:00,  5.29it/s]\n"
     ]
    },
    {
     "name": "stdout",
     "output_type": "stream",
     "text": [
      "Epoch 0078 | Train Acc: 0.5663 | Test: 0.2800 (max=0.3119) | AMI=0.1635 | Time: 10.7751\n"
     ]
    },
    {
     "name": "stderr",
     "output_type": "stream",
     "text": [
      "100%|██████████| 14/14 [00:08<00:00,  1.61it/s]\n",
      "100%|██████████| 3/3 [00:00<00:00,  5.03it/s]\n",
      "100%|██████████| 14/14 [00:08<00:00,  1.56it/s]\n",
      "100%|██████████| 3/3 [00:00<00:00,  5.51it/s]\n",
      "100%|██████████| 14/14 [00:09<00:00,  1.55it/s]\n",
      "100%|██████████| 3/3 [00:00<00:00,  5.28it/s]\n"
     ]
    },
    {
     "name": "stdout",
     "output_type": "stream",
     "text": [
      "Epoch 0081 | Train Acc: 0.5676 | Test: 0.2941 (max=0.3119) | AMI=0.1776 | Time: 10.7298\n"
     ]
    },
    {
     "name": "stderr",
     "output_type": "stream",
     "text": [
      "100%|██████████| 14/14 [00:08<00:00,  1.63it/s]\n",
      "100%|██████████| 3/3 [00:00<00:00,  4.99it/s]\n",
      "100%|██████████| 14/14 [00:08<00:00,  1.65it/s]\n",
      "100%|██████████| 3/3 [00:00<00:00,  5.24it/s]\n",
      "100%|██████████| 14/14 [00:08<00:00,  1.69it/s]\n",
      "100%|██████████| 3/3 [00:00<00:00,  5.02it/s]\n"
     ]
    },
    {
     "name": "stdout",
     "output_type": "stream",
     "text": [
      "Epoch 0084 | Train Acc: 0.5655 | Test: 0.2714 (max=0.3119) | AMI=0.1684 | Time: 10.6727\n"
     ]
    },
    {
     "name": "stderr",
     "output_type": "stream",
     "text": [
      "100%|██████████| 14/14 [00:08<00:00,  1.72it/s]\n",
      "100%|██████████| 3/3 [00:00<00:00,  5.64it/s]\n",
      "100%|██████████| 14/14 [00:08<00:00,  1.68it/s]\n",
      "100%|██████████| 3/3 [00:00<00:00,  5.73it/s]\n",
      "100%|██████████| 14/14 [00:08<00:00,  1.64it/s]\n",
      "100%|██████████| 3/3 [00:00<00:00,  6.02it/s]\n"
     ]
    },
    {
     "name": "stdout",
     "output_type": "stream",
     "text": [
      "Epoch 0087 | Train Acc: 0.5674 | Test: 0.2868 (max=0.3119) | AMI=0.1780 | Time: 10.6131\n"
     ]
    },
    {
     "name": "stderr",
     "output_type": "stream",
     "text": [
      "100%|██████████| 14/14 [00:08<00:00,  1.67it/s]\n",
      "100%|██████████| 3/3 [00:00<00:00,  5.22it/s]\n",
      "100%|██████████| 14/14 [00:09<00:00,  1.55it/s]\n",
      "100%|██████████| 3/3 [00:00<00:00,  5.69it/s]\n",
      "100%|██████████| 14/14 [00:08<00:00,  1.72it/s]\n",
      "100%|██████████| 3/3 [00:00<00:00,  5.13it/s]\n"
     ]
    },
    {
     "name": "stdout",
     "output_type": "stream",
     "text": [
      "Epoch 0090 | Train Acc: 0.5699 | Test: 0.2907 (max=0.3119) | AMI=0.1751 | Time: 10.5653\n"
     ]
    },
    {
     "name": "stderr",
     "output_type": "stream",
     "text": [
      "100%|██████████| 14/14 [00:08<00:00,  1.74it/s]\n",
      "100%|██████████| 3/3 [00:00<00:00,  5.77it/s]\n",
      "100%|██████████| 14/14 [00:08<00:00,  1.75it/s]\n",
      "100%|██████████| 3/3 [00:00<00:00,  5.23it/s]\n",
      "100%|██████████| 14/14 [00:08<00:00,  1.75it/s]\n",
      "100%|██████████| 3/3 [00:00<00:00,  5.90it/s]\n"
     ]
    },
    {
     "name": "stdout",
     "output_type": "stream",
     "text": [
      "Epoch 0093 | Train Acc: 0.5682 | Test: 0.2828 (max=0.3119) | AMI=0.1736 | Time: 10.5031\n"
     ]
    },
    {
     "name": "stderr",
     "output_type": "stream",
     "text": [
      "100%|██████████| 14/14 [00:08<00:00,  1.74it/s]\n",
      "100%|██████████| 3/3 [00:00<00:00,  5.81it/s]\n",
      "100%|██████████| 14/14 [00:08<00:00,  1.74it/s]\n",
      "100%|██████████| 3/3 [00:00<00:00,  5.62it/s]\n",
      "100%|██████████| 14/14 [00:08<00:00,  1.59it/s]\n",
      "100%|██████████| 3/3 [00:00<00:00,  5.23it/s]\n"
     ]
    },
    {
     "name": "stdout",
     "output_type": "stream",
     "text": [
      "Epoch 0096 | Train Acc: 0.5680 | Test: 0.2828 (max=0.3119) | AMI=0.1710 | Time: 10.4535\n"
     ]
    },
    {
     "name": "stderr",
     "output_type": "stream",
     "text": [
      "100%|██████████| 14/14 [00:08<00:00,  1.71it/s]\n",
      "100%|██████████| 3/3 [00:00<00:00,  4.65it/s]\n",
      "100%|██████████| 14/14 [00:08<00:00,  1.69it/s]\n",
      "100%|██████████| 3/3 [00:00<00:00,  5.78it/s]\n",
      "100%|██████████| 14/14 [00:08<00:00,  1.59it/s]\n",
      "100%|██████████| 3/3 [00:00<00:00,  5.74it/s]\n"
     ]
    },
    {
     "name": "stdout",
     "output_type": "stream",
     "text": [
      "Epoch 0099 | Train Acc: 0.5715 | Test: 0.2833 (max=0.3119) | AMI=0.1748 | Time: 10.4111\n"
     ]
    },
    {
     "name": "stderr",
     "output_type": "stream",
     "text": [
      "100%|██████████| 14/14 [00:08<00:00,  1.69it/s]\n",
      "100%|██████████| 3/3 [00:00<00:00,  4.85it/s]\n",
      "100%|██████████| 14/14 [00:08<00:00,  1.68it/s]\n",
      "100%|██████████| 3/3 [00:00<00:00,  5.93it/s]\n",
      "100%|██████████| 14/14 [00:08<00:00,  1.62it/s]\n",
      "100%|██████████| 3/3 [00:00<00:00,  4.68it/s]\n"
     ]
    },
    {
     "name": "stdout",
     "output_type": "stream",
     "text": [
      "Epoch 0102 | Train Acc: 0.5700 | Test: 0.2830 (max=0.3119) | AMI=0.1741 | Time: 10.3726\n"
     ]
    },
    {
     "name": "stderr",
     "output_type": "stream",
     "text": [
      "100%|██████████| 14/14 [00:08<00:00,  1.74it/s]\n",
      "100%|██████████| 3/3 [00:00<00:00,  5.80it/s]\n",
      "100%|██████████| 14/14 [00:08<00:00,  1.73it/s]\n",
      "100%|██████████| 3/3 [00:00<00:00,  4.72it/s]\n",
      "100%|██████████| 14/14 [00:07<00:00,  1.86it/s]\n",
      "100%|██████████| 3/3 [00:00<00:00,  5.23it/s]\n"
     ]
    },
    {
     "name": "stdout",
     "output_type": "stream",
     "text": [
      "Epoch 0105 | Train Acc: 0.5698 | Test: 0.2729 (max=0.3119) | AMI=0.1719 | Time: 10.3205\n"
     ]
    },
    {
     "name": "stderr",
     "output_type": "stream",
     "text": [
      "100%|██████████| 14/14 [00:08<00:00,  1.73it/s]\n",
      "100%|██████████| 3/3 [00:00<00:00,  5.51it/s]\n",
      "100%|██████████| 14/14 [00:07<00:00,  1.80it/s]\n",
      "100%|██████████| 3/3 [00:00<00:00,  5.82it/s]\n",
      "100%|██████████| 14/14 [00:08<00:00,  1.74it/s]\n",
      "100%|██████████| 3/3 [00:00<00:00,  5.73it/s]\n"
     ]
    },
    {
     "name": "stdout",
     "output_type": "stream",
     "text": [
      "Epoch 0108 | Train Acc: 0.5699 | Test: 0.2720 (max=0.3119) | AMI=0.1746 | Time: 10.2718\n"
     ]
    },
    {
     "name": "stderr",
     "output_type": "stream",
     "text": [
      "100%|██████████| 14/14 [00:08<00:00,  1.73it/s]\n",
      "100%|██████████| 3/3 [00:00<00:00,  5.27it/s]\n",
      "100%|██████████| 14/14 [00:08<00:00,  1.70it/s]\n",
      "100%|██████████| 3/3 [00:00<00:00,  5.69it/s]\n",
      "100%|██████████| 14/14 [00:07<00:00,  1.77it/s]\n",
      "100%|██████████| 3/3 [00:00<00:00,  5.41it/s]\n"
     ]
    },
    {
     "name": "stdout",
     "output_type": "stream",
     "text": [
      "Epoch 0111 | Train Acc: 0.5723 | Test: 0.2954 (max=0.3119) | AMI=0.1800 | Time: 10.2297\n"
     ]
    },
    {
     "name": "stderr",
     "output_type": "stream",
     "text": [
      "100%|██████████| 14/14 [00:08<00:00,  1.72it/s]\n",
      "100%|██████████| 3/3 [00:00<00:00,  5.52it/s]\n",
      "100%|██████████| 14/14 [00:09<00:00,  1.55it/s]\n",
      "100%|██████████| 3/3 [00:00<00:00,  5.43it/s]\n",
      "100%|██████████| 14/14 [00:08<00:00,  1.62it/s]\n",
      "100%|██████████| 3/3 [00:00<00:00,  5.14it/s]\n"
     ]
    },
    {
     "name": "stdout",
     "output_type": "stream",
     "text": [
      "Epoch 0114 | Train Acc: 0.5740 | Test: 0.2808 (max=0.3119) | AMI=0.1775 | Time: 10.2032\n"
     ]
    },
    {
     "name": "stderr",
     "output_type": "stream",
     "text": [
      "100%|██████████| 14/14 [00:08<00:00,  1.63it/s]\n",
      "100%|██████████| 3/3 [00:00<00:00,  5.33it/s]\n",
      "100%|██████████| 14/14 [00:10<00:00,  1.33it/s]\n",
      "100%|██████████| 3/3 [00:00<00:00,  5.04it/s]\n",
      "100%|██████████| 14/14 [00:09<00:00,  1.45it/s]\n",
      "100%|██████████| 3/3 [00:00<00:00,  5.34it/s]\n"
     ]
    },
    {
     "name": "stdout",
     "output_type": "stream",
     "text": [
      "Epoch 0117 | Train Acc: 0.5749 | Test: 0.2859 (max=0.3119) | AMI=0.1697 | Time: 10.2039\n"
     ]
    },
    {
     "name": "stderr",
     "output_type": "stream",
     "text": [
      "100%|██████████| 14/14 [00:09<00:00,  1.51it/s]\n",
      "100%|██████████| 3/3 [00:00<00:00,  5.44it/s]\n",
      "100%|██████████| 14/14 [00:10<00:00,  1.36it/s]\n",
      "100%|██████████| 3/3 [00:00<00:00,  5.05it/s]\n",
      "100%|██████████| 14/14 [00:08<00:00,  1.65it/s]\n",
      "100%|██████████| 3/3 [00:00<00:00,  5.79it/s]\n"
     ]
    },
    {
     "name": "stdout",
     "output_type": "stream",
     "text": [
      "Epoch 0120 | Train Acc: 0.5750 | Test: 0.2941 (max=0.3119) | AMI=0.1819 | Time: 10.1983\n"
     ]
    },
    {
     "name": "stderr",
     "output_type": "stream",
     "text": [
      "100%|██████████| 14/14 [00:08<00:00,  1.67it/s]\n",
      "100%|██████████| 3/3 [00:00<00:00,  5.72it/s]\n",
      "100%|██████████| 14/14 [00:08<00:00,  1.70it/s]\n",
      "100%|██████████| 3/3 [00:00<00:00,  5.52it/s]\n",
      "100%|██████████| 14/14 [00:09<00:00,  1.43it/s]\n",
      "100%|██████████| 3/3 [00:00<00:00,  5.57it/s]\n"
     ]
    },
    {
     "name": "stdout",
     "output_type": "stream",
     "text": [
      "Epoch 0123 | Train Acc: 0.5753 | Test: 0.2998 (max=0.3119) | AMI=0.1745 | Time: 10.1787\n"
     ]
    },
    {
     "name": "stderr",
     "output_type": "stream",
     "text": [
      "100%|██████████| 14/14 [00:08<00:00,  1.69it/s]\n",
      "100%|██████████| 3/3 [00:00<00:00,  5.56it/s]\n",
      "100%|██████████| 14/14 [00:10<00:00,  1.36it/s]\n",
      "100%|██████████| 3/3 [00:00<00:00,  5.81it/s]\n",
      "100%|██████████| 14/14 [00:08<00:00,  1.57it/s]\n",
      "100%|██████████| 3/3 [00:00<00:00,  5.67it/s]\n"
     ]
    },
    {
     "name": "stdout",
     "output_type": "stream",
     "text": [
      "Epoch 0126 | Train Acc: 0.5712 | Test: 0.2881 (max=0.3119) | AMI=0.1696 | Time: 10.1688\n"
     ]
    },
    {
     "name": "stderr",
     "output_type": "stream",
     "text": [
      "100%|██████████| 14/14 [00:18<00:00,  1.35s/it]\n",
      "100%|██████████| 3/3 [00:01<00:00,  2.57it/s]\n",
      "100%|██████████| 14/14 [00:07<00:00,  1.83it/s]\n",
      "100%|██████████| 3/3 [00:00<00:00,  5.31it/s]\n",
      "100%|██████████| 14/14 [00:07<00:00,  1.88it/s]\n",
      "100%|██████████| 3/3 [00:00<00:00,  5.74it/s]\n"
     ]
    },
    {
     "name": "stdout",
     "output_type": "stream",
     "text": [
      "Epoch 0129 | Train Acc: 0.5761 | Test: 0.2797 (max=0.3119) | AMI=0.1685 | Time: 10.2142\n"
     ]
    },
    {
     "name": "stderr",
     "output_type": "stream",
     "text": [
      "100%|██████████| 14/14 [00:07<00:00,  1.92it/s]\n",
      "100%|██████████| 3/3 [00:00<00:00,  5.69it/s]\n",
      "100%|██████████| 14/14 [00:09<00:00,  1.46it/s]\n",
      "100%|██████████| 3/3 [00:00<00:00,  5.21it/s]\n",
      "100%|██████████| 14/14 [00:07<00:00,  1.88it/s]\n",
      "100%|██████████| 3/3 [00:00<00:00,  5.60it/s]\n"
     ]
    },
    {
     "name": "stdout",
     "output_type": "stream",
     "text": [
      "Epoch 0132 | Train Acc: 0.5728 | Test: 0.2822 (max=0.3119) | AMI=0.1694 | Time: 10.1805\n"
     ]
    },
    {
     "name": "stderr",
     "output_type": "stream",
     "text": [
      "100%|██████████| 14/14 [00:07<00:00,  1.89it/s]\n",
      "100%|██████████| 3/3 [00:00<00:00,  4.93it/s]\n",
      "100%|██████████| 14/14 [00:07<00:00,  1.85it/s]\n",
      "100%|██████████| 3/3 [00:00<00:00,  5.82it/s]\n",
      "100%|██████████| 14/14 [00:07<00:00,  1.84it/s]\n",
      "100%|██████████| 3/3 [00:00<00:00,  5.59it/s]\n"
     ]
    },
    {
     "name": "stdout",
     "output_type": "stream",
     "text": [
      "Epoch 0135 | Train Acc: 0.5766 | Test: 0.2837 (max=0.3119) | AMI=0.1792 | Time: 10.1352\n"
     ]
    },
    {
     "name": "stderr",
     "output_type": "stream",
     "text": [
      "100%|██████████| 14/14 [00:07<00:00,  1.77it/s]\n",
      "100%|██████████| 3/3 [00:00<00:00,  5.89it/s]\n",
      "100%|██████████| 14/14 [00:07<00:00,  1.81it/s]\n",
      "100%|██████████| 3/3 [00:00<00:00,  5.97it/s]\n",
      "100%|██████████| 14/14 [00:07<00:00,  1.91it/s]\n",
      "100%|██████████| 3/3 [00:00<00:00,  5.81it/s]\n"
     ]
    },
    {
     "name": "stdout",
     "output_type": "stream",
     "text": [
      "Epoch 0138 | Train Acc: 0.5781 | Test: 0.2896 (max=0.3119) | AMI=0.1680 | Time: 10.0940\n"
     ]
    },
    {
     "name": "stderr",
     "output_type": "stream",
     "text": [
      "100%|██████████| 14/14 [00:07<00:00,  1.81it/s]\n",
      "100%|██████████| 3/3 [00:00<00:00,  5.31it/s]\n",
      "100%|██████████| 14/14 [00:07<00:00,  1.75it/s]\n",
      "100%|██████████| 3/3 [00:00<00:00,  5.93it/s]\n",
      "100%|██████████| 14/14 [00:08<00:00,  1.74it/s]\n",
      "100%|██████████| 3/3 [00:00<00:00,  5.73it/s]\n"
     ]
    },
    {
     "name": "stdout",
     "output_type": "stream",
     "text": [
      "Epoch 0141 | Train Acc: 0.5790 | Test: 0.2896 (max=0.3119) | AMI=0.1711 | Time: 10.0607\n"
     ]
    },
    {
     "name": "stderr",
     "output_type": "stream",
     "text": [
      "100%|██████████| 14/14 [00:07<00:00,  1.91it/s]\n",
      "100%|██████████| 3/3 [00:00<00:00,  5.84it/s]\n",
      "100%|██████████| 14/14 [00:07<00:00,  1.83it/s]\n",
      "100%|██████████| 3/3 [00:00<00:00,  5.33it/s]\n",
      "100%|██████████| 14/14 [00:07<00:00,  1.82it/s]\n",
      "100%|██████████| 3/3 [00:00<00:00,  4.96it/s]\n"
     ]
    },
    {
     "name": "stdout",
     "output_type": "stream",
     "text": [
      "Epoch 0144 | Train Acc: 0.5756 | Test: 0.2963 (max=0.3119) | AMI=0.1767 | Time: 10.0217\n"
     ]
    },
    {
     "name": "stderr",
     "output_type": "stream",
     "text": [
      "100%|██████████| 14/14 [00:08<00:00,  1.66it/s]\n",
      "100%|██████████| 3/3 [00:00<00:00,  5.96it/s]\n",
      "100%|██████████| 14/14 [00:07<00:00,  1.78it/s]\n",
      "100%|██████████| 3/3 [00:00<00:00,  5.19it/s]\n",
      "100%|██████████| 14/14 [00:07<00:00,  1.90it/s]\n",
      "100%|██████████| 3/3 [00:00<00:00,  4.71it/s]\n"
     ]
    },
    {
     "name": "stdout",
     "output_type": "stream",
     "text": [
      "Epoch 0147 | Train Acc: 0.5771 | Test: 0.2930 (max=0.3119) | AMI=0.1746 | Time: 9.9911\n"
     ]
    },
    {
     "name": "stderr",
     "output_type": "stream",
     "text": [
      "100%|██████████| 14/14 [00:07<00:00,  1.81it/s]\n",
      "100%|██████████| 3/3 [00:00<00:00,  5.18it/s]\n",
      "100%|██████████| 14/14 [00:08<00:00,  1.71it/s]\n",
      "100%|██████████| 3/3 [00:00<00:00,  5.27it/s]\n",
      "100%|██████████| 14/14 [00:07<00:00,  1.77it/s]\n",
      "100%|██████████| 3/3 [00:00<00:00,  5.17it/s]\n"
     ]
    },
    {
     "name": "stdout",
     "output_type": "stream",
     "text": [
      "Epoch 0150 | Train Acc: 0.5795 | Test: 0.2938 (max=0.3119) | AMI=0.1796 | Time: 9.9631\n"
     ]
    },
    {
     "name": "stderr",
     "output_type": "stream",
     "text": [
      "100%|██████████| 14/14 [00:08<00:00,  1.63it/s]\n",
      "100%|██████████| 3/3 [00:00<00:00,  5.14it/s]\n",
      "100%|██████████| 14/14 [00:08<00:00,  1.60it/s]\n",
      "100%|██████████| 3/3 [00:00<00:00,  4.50it/s]\n",
      "100%|██████████| 14/14 [00:08<00:00,  1.64it/s]\n",
      "100%|██████████| 3/3 [00:00<00:00,  5.88it/s]\n"
     ]
    },
    {
     "name": "stdout",
     "output_type": "stream",
     "text": [
      "Epoch 0153 | Train Acc: 0.5777 | Test: 0.2857 (max=0.3119) | AMI=0.1760 | Time: 9.9495\n"
     ]
    },
    {
     "name": "stderr",
     "output_type": "stream",
     "text": [
      "100%|██████████| 14/14 [00:08<00:00,  1.64it/s]\n",
      "100%|██████████| 3/3 [00:00<00:00,  5.42it/s]\n",
      "100%|██████████| 14/14 [00:08<00:00,  1.63it/s]\n",
      "100%|██████████| 3/3 [00:00<00:00,  4.97it/s]\n",
      "100%|██████████| 14/14 [00:08<00:00,  1.63it/s]\n",
      "100%|██████████| 3/3 [00:00<00:00,  5.75it/s]\n"
     ]
    },
    {
     "name": "stdout",
     "output_type": "stream",
     "text": [
      "Epoch 0156 | Train Acc: 0.5768 | Test: 0.2857 (max=0.3119) | AMI=0.1720 | Time: 9.9351\n"
     ]
    },
    {
     "name": "stderr",
     "output_type": "stream",
     "text": [
      "100%|██████████| 14/14 [00:08<00:00,  1.74it/s]\n",
      "100%|██████████| 3/3 [00:00<00:00,  5.13it/s]\n",
      "100%|██████████| 14/14 [00:08<00:00,  1.63it/s]\n",
      "100%|██████████| 3/3 [00:00<00:00,  5.62it/s]\n",
      "100%|██████████| 14/14 [00:07<00:00,  1.75it/s]\n",
      "100%|██████████| 3/3 [00:00<00:00,  5.75it/s]\n"
     ]
    },
    {
     "name": "stdout",
     "output_type": "stream",
     "text": [
      "Epoch 0159 | Train Acc: 0.5746 | Test: 0.2952 (max=0.3119) | AMI=0.1755 | Time: 9.9142\n"
     ]
    },
    {
     "name": "stderr",
     "output_type": "stream",
     "text": [
      "100%|██████████| 14/14 [00:08<00:00,  1.71it/s]\n",
      "100%|██████████| 3/3 [00:00<00:00,  4.98it/s]\n",
      "100%|██████████| 14/14 [00:08<00:00,  1.71it/s]\n",
      "100%|██████████| 3/3 [00:00<00:00,  5.71it/s]\n",
      "100%|██████████| 14/14 [00:08<00:00,  1.68it/s]\n",
      "100%|██████████| 3/3 [00:00<00:00,  5.60it/s]\n"
     ]
    },
    {
     "name": "stdout",
     "output_type": "stream",
     "text": [
      "Epoch 0162 | Train Acc: 0.5785 | Test: 0.2919 (max=0.3119) | AMI=0.1719 | Time: 9.8946\n"
     ]
    },
    {
     "name": "stderr",
     "output_type": "stream",
     "text": [
      "100%|██████████| 14/14 [00:08<00:00,  1.70it/s]\n",
      "100%|██████████| 3/3 [00:00<00:00,  5.02it/s]\n",
      "100%|██████████| 14/14 [00:08<00:00,  1.73it/s]\n",
      "100%|██████████| 3/3 [00:00<00:00,  4.38it/s]\n",
      "100%|██████████| 14/14 [00:08<00:00,  1.71it/s]\n",
      "100%|██████████| 3/3 [00:00<00:00,  5.77it/s]\n"
     ]
    },
    {
     "name": "stdout",
     "output_type": "stream",
     "text": [
      "Epoch 0165 | Train Acc: 0.5777 | Test: 0.2890 (max=0.3119) | AMI=0.1776 | Time: 9.8756\n"
     ]
    },
    {
     "name": "stderr",
     "output_type": "stream",
     "text": [
      "100%|██████████| 14/14 [00:09<00:00,  1.45it/s]\n",
      "100%|██████████| 3/3 [00:00<00:00,  5.72it/s]\n",
      "100%|██████████| 14/14 [00:08<00:00,  1.63it/s]\n",
      "100%|██████████| 3/3 [00:00<00:00,  4.38it/s]\n",
      "100%|██████████| 14/14 [00:08<00:00,  1.64it/s]\n",
      "100%|██████████| 3/3 [00:00<00:00,  5.13it/s]\n"
     ]
    },
    {
     "name": "stdout",
     "output_type": "stream",
     "text": [
      "Epoch 0168 | Train Acc: 0.5752 | Test: 0.2795 (max=0.3119) | AMI=0.1789 | Time: 9.8709\n"
     ]
    },
    {
     "name": "stderr",
     "output_type": "stream",
     "text": [
      "100%|██████████| 14/14 [00:08<00:00,  1.69it/s]\n",
      "100%|██████████| 3/3 [00:00<00:00,  5.88it/s]\n",
      "100%|██████████| 14/14 [00:08<00:00,  1.66it/s]\n",
      "100%|██████████| 3/3 [00:00<00:00,  5.19it/s]\n",
      "100%|██████████| 14/14 [00:08<00:00,  1.67it/s]\n",
      "100%|██████████| 3/3 [00:00<00:00,  5.11it/s]\n"
     ]
    },
    {
     "name": "stdout",
     "output_type": "stream",
     "text": [
      "Epoch 0171 | Train Acc: 0.5769 | Test: 0.2868 (max=0.3119) | AMI=0.1787 | Time: 9.8553\n"
     ]
    },
    {
     "name": "stderr",
     "output_type": "stream",
     "text": [
      "100%|██████████| 14/14 [00:07<00:00,  1.77it/s]\n",
      "100%|██████████| 3/3 [00:01<00:00,  2.85it/s]\n",
      "100%|██████████| 14/14 [00:08<00:00,  1.67it/s]\n",
      "100%|██████████| 3/3 [00:00<00:00,  5.02it/s]\n",
      "100%|██████████| 14/14 [00:08<00:00,  1.66it/s]\n",
      "100%|██████████| 3/3 [00:00<00:00,  5.86it/s]\n"
     ]
    },
    {
     "name": "stdout",
     "output_type": "stream",
     "text": [
      "Epoch 0174 | Train Acc: 0.5779 | Test: 0.2775 (max=0.3119) | AMI=0.1776 | Time: 9.8409\n"
     ]
    },
    {
     "name": "stderr",
     "output_type": "stream",
     "text": [
      "100%|██████████| 14/14 [00:08<00:00,  1.66it/s]\n",
      "100%|██████████| 3/3 [00:00<00:00,  5.04it/s]\n",
      "100%|██████████| 14/14 [00:08<00:00,  1.63it/s]\n",
      "100%|██████████| 3/3 [00:00<00:00,  5.72it/s]\n",
      "100%|██████████| 14/14 [00:08<00:00,  1.60it/s]\n",
      "100%|██████████| 3/3 [00:00<00:00,  5.65it/s]\n"
     ]
    },
    {
     "name": "stdout",
     "output_type": "stream",
     "text": [
      "Epoch 0177 | Train Acc: 0.5779 | Test: 0.2907 (max=0.3119) | AMI=0.1753 | Time: 9.8301\n"
     ]
    },
    {
     "name": "stderr",
     "output_type": "stream",
     "text": [
      "100%|██████████| 14/14 [00:08<00:00,  1.63it/s]\n",
      "100%|██████████| 3/3 [00:00<00:00,  5.35it/s]\n",
      "100%|██████████| 14/14 [00:08<00:00,  1.67it/s]\n",
      "100%|██████████| 3/3 [00:00<00:00,  5.38it/s]\n",
      "100%|██████████| 14/14 [00:08<00:00,  1.68it/s]\n",
      "100%|██████████| 3/3 [00:00<00:00,  5.29it/s]\n"
     ]
    },
    {
     "name": "stdout",
     "output_type": "stream",
     "text": [
      "Epoch 0180 | Train Acc: 0.5794 | Test: 0.2767 (max=0.3119) | AMI=0.1706 | Time: 9.8172\n"
     ]
    },
    {
     "name": "stderr",
     "output_type": "stream",
     "text": [
      "100%|██████████| 14/14 [00:08<00:00,  1.63it/s]\n",
      "100%|██████████| 3/3 [00:00<00:00,  5.56it/s]\n",
      "100%|██████████| 14/14 [00:08<00:00,  1.66it/s]\n",
      "100%|██████████| 3/3 [00:00<00:00,  5.57it/s]\n",
      "100%|██████████| 14/14 [00:08<00:00,  1.62it/s]\n",
      "100%|██████████| 3/3 [00:00<00:00,  5.49it/s]\n"
     ]
    },
    {
     "name": "stdout",
     "output_type": "stream",
     "text": [
      "Epoch 0183 | Train Acc: 0.5782 | Test: 0.2996 (max=0.3119) | AMI=0.1757 | Time: 9.8068\n"
     ]
    },
    {
     "name": "stderr",
     "output_type": "stream",
     "text": [
      "100%|██████████| 14/14 [00:08<00:00,  1.68it/s]\n",
      "100%|██████████| 3/3 [00:00<00:00,  5.72it/s]\n",
      "100%|██████████| 14/14 [00:08<00:00,  1.56it/s]\n",
      "100%|██████████| 3/3 [00:00<00:00,  5.52it/s]\n",
      "100%|██████████| 14/14 [00:08<00:00,  1.67it/s]\n",
      "100%|██████████| 3/3 [00:00<00:00,  5.59it/s]\n"
     ]
    },
    {
     "name": "stdout",
     "output_type": "stream",
     "text": [
      "Epoch 0186 | Train Acc: 0.5771 | Test: 0.2736 (max=0.3119) | AMI=0.1666 | Time: 9.7964\n"
     ]
    },
    {
     "name": "stderr",
     "output_type": "stream",
     "text": [
      "100%|██████████| 14/14 [00:08<00:00,  1.71it/s]\n",
      "100%|██████████| 3/3 [00:00<00:00,  5.65it/s]\n",
      "100%|██████████| 14/14 [00:08<00:00,  1.61it/s]\n",
      "100%|██████████| 3/3 [00:00<00:00,  5.10it/s]\n",
      "100%|██████████| 14/14 [00:09<00:00,  1.49it/s]\n",
      "100%|██████████| 3/3 [00:00<00:00,  5.38it/s]\n"
     ]
    },
    {
     "name": "stdout",
     "output_type": "stream",
     "text": [
      "Epoch 0189 | Train Acc: 0.5764 | Test: 0.2764 (max=0.3119) | AMI=0.1738 | Time: 9.7895\n"
     ]
    },
    {
     "name": "stderr",
     "output_type": "stream",
     "text": [
      "100%|██████████| 14/14 [00:08<00:00,  1.69it/s]\n",
      "100%|██████████| 3/3 [00:00<00:00,  5.35it/s]\n",
      "100%|██████████| 14/14 [00:08<00:00,  1.60it/s]\n",
      "100%|██████████| 3/3 [00:00<00:00,  5.21it/s]\n",
      "100%|██████████| 14/14 [00:09<00:00,  1.51it/s]\n",
      "100%|██████████| 3/3 [00:00<00:00,  5.44it/s]\n"
     ]
    },
    {
     "name": "stdout",
     "output_type": "stream",
     "text": [
      "Epoch 0192 | Train Acc: 0.5811 | Test: 0.2817 (max=0.3119) | AMI=0.1720 | Time: 9.7832\n"
     ]
    },
    {
     "name": "stderr",
     "output_type": "stream",
     "text": [
      "100%|██████████| 14/14 [00:08<00:00,  1.67it/s]\n",
      "100%|██████████| 3/3 [00:00<00:00,  5.56it/s]\n",
      "100%|██████████| 14/14 [00:08<00:00,  1.73it/s]\n",
      "100%|██████████| 3/3 [00:00<00:00,  5.34it/s]\n",
      "100%|██████████| 14/14 [00:07<00:00,  1.77it/s]\n",
      "100%|██████████| 3/3 [00:00<00:00,  5.61it/s]\n"
     ]
    },
    {
     "name": "stdout",
     "output_type": "stream",
     "text": [
      "Epoch 0195 | Train Acc: 0.5808 | Test: 0.2804 (max=0.3119) | AMI=0.1728 | Time: 9.7670\n"
     ]
    },
    {
     "name": "stderr",
     "output_type": "stream",
     "text": [
      "100%|██████████| 14/14 [00:07<00:00,  1.85it/s]\n",
      "100%|██████████| 3/3 [00:00<00:00,  5.77it/s]\n",
      "100%|██████████| 14/14 [00:10<00:00,  1.36it/s]\n",
      "100%|██████████| 3/3 [00:04<00:00,  1.39s/it]\n",
      "100%|██████████| 14/14 [00:19<00:00,  1.36s/it]\n",
      "100%|██████████| 3/3 [00:00<00:00,  5.39it/s]\n"
     ]
    },
    {
     "name": "stdout",
     "output_type": "stream",
     "text": [
      "Epoch 0198 | Train Acc: 0.5791 | Test: 0.2835 (max=0.3119) | AMI=0.1667 | Time: 9.8323\n"
     ]
    },
    {
     "name": "stderr",
     "output_type": "stream",
     "text": [
      "100%|██████████| 14/14 [00:08<00:00,  1.63it/s]\n",
      "100%|██████████| 3/3 [00:00<00:00,  5.72it/s]\n",
      "100%|██████████| 14/14 [00:10<00:00,  1.35it/s]\n",
      "100%|██████████| 3/3 [00:00<00:00,  5.73it/s]\n",
      "100%|██████████| 14/14 [00:07<00:00,  1.90it/s]\n",
      "100%|██████████| 3/3 [00:00<00:00,  5.85it/s]\n"
     ]
    },
    {
     "name": "stdout",
     "output_type": "stream",
     "text": [
      "Epoch 0201 | Train Acc: 0.5796 | Test: 0.2881 (max=0.3119) | AMI=0.1742 | Time: 9.8255\n"
     ]
    },
    {
     "name": "stderr",
     "output_type": "stream",
     "text": [
      "100%|██████████| 14/14 [00:07<00:00,  1.91it/s]\n",
      "100%|██████████| 3/3 [00:00<00:00,  5.62it/s]\n",
      "100%|██████████| 14/14 [00:11<00:00,  1.22it/s]\n",
      "100%|██████████| 3/3 [00:00<00:00,  5.88it/s]\n",
      "100%|██████████| 14/14 [00:08<00:00,  1.60it/s]\n",
      "100%|██████████| 3/3 [00:00<00:00,  5.66it/s]\n"
     ]
    },
    {
     "name": "stdout",
     "output_type": "stream",
     "text": [
      "Epoch 0204 | Train Acc: 0.5741 | Test: 0.2905 (max=0.3119) | AMI=0.1776 | Time: 9.8248\n"
     ]
    },
    {
     "name": "stderr",
     "output_type": "stream",
     "text": [
      "100%|██████████| 14/14 [00:07<00:00,  1.78it/s]\n",
      "100%|██████████| 3/3 [00:00<00:00,  5.81it/s]\n",
      "100%|██████████| 14/14 [00:14<00:00,  1.06s/it]\n",
      "100%|██████████| 3/3 [00:00<00:00,  5.61it/s]\n",
      "100%|██████████| 14/14 [00:08<00:00,  1.71it/s]\n",
      "100%|██████████| 3/3 [00:00<00:00,  5.77it/s]\n"
     ]
    },
    {
     "name": "stdout",
     "output_type": "stream",
     "text": [
      "Epoch 0207 | Train Acc: 0.5777 | Test: 0.2874 (max=0.3119) | AMI=0.1753 | Time: 9.8400\n"
     ]
    },
    {
     "name": "stderr",
     "output_type": "stream",
     "text": [
      "100%|██████████| 14/14 [00:12<00:00,  1.13it/s]\n",
      "100%|██████████| 3/3 [00:00<00:00,  4.65it/s]\n",
      "100%|██████████| 14/14 [00:08<00:00,  1.58it/s]\n",
      "100%|██████████| 3/3 [00:00<00:00,  5.10it/s]\n",
      "100%|██████████| 14/14 [00:08<00:00,  1.73it/s]\n",
      "100%|██████████| 3/3 [00:00<00:00,  5.70it/s]\n"
     ]
    },
    {
     "name": "stdout",
     "output_type": "stream",
     "text": [
      "Epoch 0210 | Train Acc: 0.5774 | Test: 0.2782 (max=0.3119) | AMI=0.1722 | Time: 9.8483\n"
     ]
    },
    {
     "name": "stderr",
     "output_type": "stream",
     "text": [
      "100%|██████████| 14/14 [00:07<00:00,  1.78it/s]\n",
      "100%|██████████| 3/3 [00:00<00:00,  5.23it/s]\n",
      "100%|██████████| 14/14 [00:07<00:00,  1.77it/s]\n",
      "100%|██████████| 3/3 [00:00<00:00,  5.12it/s]\n",
      "100%|██████████| 14/14 [00:08<00:00,  1.66it/s]\n",
      "100%|██████████| 3/3 [00:00<00:00,  5.60it/s]\n"
     ]
    },
    {
     "name": "stdout",
     "output_type": "stream",
     "text": [
      "Epoch 0213 | Train Acc: 0.5774 | Test: 0.2837 (max=0.3119) | AMI=0.1700 | Time: 9.8322\n"
     ]
    },
    {
     "name": "stderr",
     "output_type": "stream",
     "text": [
      "100%|██████████| 14/14 [00:08<00:00,  1.68it/s]\n",
      "100%|██████████| 3/3 [00:00<00:00,  5.62it/s]\n",
      "100%|██████████| 14/14 [00:08<00:00,  1.69it/s]\n",
      "100%|██████████| 3/3 [00:00<00:00,  5.58it/s]\n",
      "100%|██████████| 14/14 [00:08<00:00,  1.73it/s]\n",
      "100%|██████████| 3/3 [00:00<00:00,  5.72it/s]\n"
     ]
    },
    {
     "name": "stdout",
     "output_type": "stream",
     "text": [
      "Epoch 0216 | Train Acc: 0.5797 | Test: 0.2835 (max=0.3119) | AMI=0.1717 | Time: 9.8181\n"
     ]
    },
    {
     "name": "stderr",
     "output_type": "stream",
     "text": [
      "100%|██████████| 14/14 [00:08<00:00,  1.64it/s]\n",
      "100%|██████████| 3/3 [00:00<00:00,  5.03it/s]\n",
      "100%|██████████| 14/14 [00:08<00:00,  1.64it/s]\n",
      "100%|██████████| 3/3 [00:00<00:00,  4.68it/s]\n",
      "100%|██████████| 14/14 [00:13<00:00,  1.07it/s]\n",
      "100%|██████████| 3/3 [00:00<00:00,  4.85it/s]\n"
     ]
    },
    {
     "name": "stdout",
     "output_type": "stream",
     "text": [
      "Epoch 0219 | Train Acc: 0.5796 | Test: 0.2795 (max=0.3119) | AMI=0.1699 | Time: 9.8305\n"
     ]
    },
    {
     "name": "stderr",
     "output_type": "stream",
     "text": [
      "100%|██████████| 14/14 [00:08<00:00,  1.59it/s]\n",
      "100%|██████████| 3/3 [00:00<00:00,  5.33it/s]\n",
      "100%|██████████| 14/14 [00:08<00:00,  1.64it/s]\n",
      "100%|██████████| 3/3 [00:00<00:00,  5.05it/s]\n",
      "100%|██████████| 14/14 [00:08<00:00,  1.64it/s]\n",
      "100%|██████████| 3/3 [00:00<00:00,  5.62it/s]\n"
     ]
    },
    {
     "name": "stdout",
     "output_type": "stream",
     "text": [
      "Epoch 0222 | Train Acc: 0.5794 | Test: 0.2835 (max=0.3119) | AMI=0.1731 | Time: 9.8226\n"
     ]
    },
    {
     "name": "stderr",
     "output_type": "stream",
     "text": [
      "100%|██████████| 14/14 [00:08<00:00,  1.64it/s]\n",
      "100%|██████████| 3/3 [00:00<00:00,  5.82it/s]\n",
      "100%|██████████| 14/14 [00:08<00:00,  1.68it/s]\n",
      "100%|██████████| 3/3 [00:00<00:00,  5.54it/s]\n",
      "100%|██████████| 14/14 [00:08<00:00,  1.56it/s]\n",
      "100%|██████████| 3/3 [00:00<00:00,  4.07it/s]\n"
     ]
    },
    {
     "name": "stdout",
     "output_type": "stream",
     "text": [
      "Epoch 0225 | Train Acc: 0.5798 | Test: 0.2861 (max=0.3119) | AMI=0.1751 | Time: 9.8153\n"
     ]
    },
    {
     "name": "stderr",
     "output_type": "stream",
     "text": [
      "100%|██████████| 14/14 [00:19<00:00,  1.41s/it]\n",
      "100%|██████████| 3/3 [00:00<00:00,  5.60it/s]\n",
      "100%|██████████| 14/14 [00:07<00:00,  1.75it/s]\n",
      "100%|██████████| 3/3 [00:00<00:00,  5.13it/s]\n",
      "100%|██████████| 14/14 [00:08<00:00,  1.73it/s]\n",
      "100%|██████████| 3/3 [00:00<00:00,  5.15it/s]\n"
     ]
    },
    {
     "name": "stdout",
     "output_type": "stream",
     "text": [
      "Epoch 0228 | Train Acc: 0.5789 | Test: 0.2952 (max=0.3119) | AMI=0.1766 | Time: 9.8511\n"
     ]
    },
    {
     "name": "stderr",
     "output_type": "stream",
     "text": [
      "100%|██████████| 14/14 [00:07<00:00,  1.77it/s]\n",
      "100%|██████████| 3/3 [00:00<00:00,  5.83it/s]\n"
     ]
    },
    {
     "name": "stdout",
     "output_type": "stream",
     "text": [
      "[current best] model weights backup\n",
      "Epoch 0229 | Train Acc: 0.5802 | Test: 0.2934 (max=0.3119) | AMI=0.1825 | Time: 9.8452\n"
     ]
    },
    {
     "name": "stderr",
     "output_type": "stream",
     "text": [
      "100%|██████████| 14/14 [00:08<00:00,  1.71it/s]\n",
      "100%|██████████| 3/3 [00:00<00:00,  5.74it/s]\n",
      "100%|██████████| 14/14 [00:08<00:00,  1.65it/s]\n",
      "100%|██████████| 3/3 [00:00<00:00,  5.43it/s]\n"
     ]
    },
    {
     "name": "stdout",
     "output_type": "stream",
     "text": [
      "Epoch 0231 | Train Acc: 0.5784 | Test: 0.2866 (max=0.3119) | AMI=0.1793 | Time: 9.8373\n"
     ]
    },
    {
     "name": "stderr",
     "output_type": "stream",
     "text": [
      "100%|██████████| 14/14 [00:08<00:00,  1.74it/s]\n",
      "100%|██████████| 3/3 [00:00<00:00,  5.76it/s]\n",
      "100%|██████████| 14/14 [00:07<00:00,  1.94it/s]\n",
      "100%|██████████| 3/3 [00:00<00:00,  5.70it/s]\n"
     ]
    },
    {
     "name": "stdout",
     "output_type": "stream",
     "text": [
      "[current best] model weights backup\n",
      "Epoch 0233 | Train Acc: 0.5756 | Test: 0.3053 (max=0.3119) | AMI=0.1832 | Time: 9.8234\n"
     ]
    },
    {
     "name": "stderr",
     "output_type": "stream",
     "text": [
      "100%|██████████| 14/14 [00:08<00:00,  1.73it/s]\n",
      "100%|██████████| 3/3 [00:00<00:00,  5.13it/s]\n"
     ]
    },
    {
     "name": "stdout",
     "output_type": "stream",
     "text": [
      "Epoch 0234 | Train Acc: 0.5805 | Test: 0.2978 (max=0.3119) | AMI=0.1791 | Time: 9.8190\n"
     ]
    },
    {
     "name": "stderr",
     "output_type": "stream",
     "text": [
      "100%|██████████| 14/14 [00:07<00:00,  1.91it/s]\n",
      "100%|██████████| 3/3 [00:00<00:00,  5.63it/s]\n",
      "100%|██████████| 14/14 [00:07<00:00,  1.83it/s]\n",
      "100%|██████████| 3/3 [00:00<00:00,  5.38it/s]\n",
      "100%|██████████| 14/14 [00:07<00:00,  1.93it/s]\n",
      "100%|██████████| 3/3 [00:00<00:00,  4.11it/s]\n"
     ]
    },
    {
     "name": "stdout",
     "output_type": "stream",
     "text": [
      "Epoch 0237 | Train Acc: 0.5794 | Test: 0.2971 (max=0.3119) | AMI=0.1776 | Time: 9.7973\n"
     ]
    },
    {
     "name": "stderr",
     "output_type": "stream",
     "text": [
      "100%|██████████| 14/14 [00:07<00:00,  1.89it/s]\n",
      "100%|██████████| 3/3 [00:00<00:00,  5.69it/s]\n",
      "100%|██████████| 14/14 [00:07<00:00,  1.93it/s]\n",
      "100%|██████████| 3/3 [00:00<00:00,  5.71it/s]\n",
      "100%|██████████| 14/14 [00:07<00:00,  1.89it/s]\n",
      "100%|██████████| 3/3 [00:00<00:00,  5.61it/s]\n"
     ]
    },
    {
     "name": "stdout",
     "output_type": "stream",
     "text": [
      "Epoch 0240 | Train Acc: 0.5771 | Test: 0.2936 (max=0.3119) | AMI=0.1722 | Time: 9.7742\n"
     ]
    },
    {
     "name": "stderr",
     "output_type": "stream",
     "text": [
      "100%|██████████| 14/14 [00:07<00:00,  1.91it/s]\n",
      "100%|██████████| 3/3 [00:00<00:00,  5.75it/s]\n",
      "100%|██████████| 14/14 [00:08<00:00,  1.69it/s]\n",
      "100%|██████████| 3/3 [00:00<00:00,  4.82it/s]\n",
      "100%|██████████| 14/14 [00:08<00:00,  1.64it/s]\n",
      "100%|██████████| 3/3 [00:00<00:00,  5.55it/s]\n"
     ]
    },
    {
     "name": "stdout",
     "output_type": "stream",
     "text": [
      "Epoch 0243 | Train Acc: 0.5807 | Test: 0.3033 (max=0.3119) | AMI=0.1790 | Time: 9.7607\n"
     ]
    },
    {
     "name": "stderr",
     "output_type": "stream",
     "text": [
      "100%|██████████| 14/14 [00:08<00:00,  1.69it/s]\n",
      "100%|██████████| 3/3 [00:00<00:00,  5.46it/s]\n",
      "100%|██████████| 14/14 [00:08<00:00,  1.74it/s]\n",
      "100%|██████████| 3/3 [00:00<00:00,  5.11it/s]\n",
      "100%|██████████| 14/14 [00:08<00:00,  1.62it/s]\n",
      "100%|██████████| 3/3 [00:00<00:00,  4.91it/s]\n"
     ]
    },
    {
     "name": "stdout",
     "output_type": "stream",
     "text": [
      "Epoch 0246 | Train Acc: 0.5808 | Test: 0.2910 (max=0.3119) | AMI=0.1747 | Time: 9.7512\n"
     ]
    },
    {
     "name": "stderr",
     "output_type": "stream",
     "text": [
      "100%|██████████| 14/14 [00:08<00:00,  1.71it/s]\n",
      "100%|██████████| 3/3 [00:00<00:00,  5.51it/s]\n",
      "100%|██████████| 14/14 [00:08<00:00,  1.63it/s]\n",
      "100%|██████████| 3/3 [00:00<00:00,  5.05it/s]\n",
      "100%|██████████| 14/14 [00:08<00:00,  1.63it/s]\n",
      "100%|██████████| 3/3 [00:00<00:00,  4.81it/s]\n"
     ]
    },
    {
     "name": "stdout",
     "output_type": "stream",
     "text": [
      "Epoch 0249 | Train Acc: 0.5791 | Test: 0.2907 (max=0.3119) | AMI=0.1726 | Time: 9.7438\n"
     ]
    },
    {
     "name": "stderr",
     "output_type": "stream",
     "text": [
      "100%|██████████| 14/14 [00:09<00:00,  1.54it/s]\n",
      "100%|██████████| 3/3 [00:00<00:00,  4.90it/s]\n",
      "100%|██████████| 14/14 [00:08<00:00,  1.67it/s]\n",
      "100%|██████████| 3/3 [00:00<00:00,  5.60it/s]\n",
      "100%|██████████| 14/14 [00:08<00:00,  1.63it/s]\n",
      "100%|██████████| 3/3 [00:00<00:00,  5.75it/s]\n"
     ]
    },
    {
     "name": "stdout",
     "output_type": "stream",
     "text": [
      "Epoch 0252 | Train Acc: 0.5788 | Test: 0.2839 (max=0.3119) | AMI=0.1693 | Time: 9.7387\n"
     ]
    },
    {
     "name": "stderr",
     "output_type": "stream",
     "text": [
      "100%|██████████| 14/14 [00:08<00:00,  1.73it/s]\n",
      "100%|██████████| 3/3 [00:00<00:00,  5.46it/s]\n",
      "100%|██████████| 14/14 [00:08<00:00,  1.73it/s]\n",
      "100%|██████████| 3/3 [00:00<00:00,  5.30it/s]\n",
      "100%|██████████| 14/14 [00:08<00:00,  1.70it/s]\n",
      "100%|██████████| 3/3 [00:00<00:00,  4.83it/s]\n"
     ]
    },
    {
     "name": "stdout",
     "output_type": "stream",
     "text": [
      "Epoch 0255 | Train Acc: 0.5781 | Test: 0.2802 (max=0.3119) | AMI=0.1705 | Time: 9.7274\n"
     ]
    },
    {
     "name": "stderr",
     "output_type": "stream",
     "text": [
      "100%|██████████| 14/14 [00:08<00:00,  1.73it/s]\n",
      "100%|██████████| 3/3 [00:00<00:00,  5.40it/s]\n",
      "100%|██████████| 14/14 [00:08<00:00,  1.72it/s]\n",
      "100%|██████████| 3/3 [00:00<00:00,  5.30it/s]\n",
      "100%|██████████| 14/14 [00:08<00:00,  1.70it/s]\n",
      "100%|██████████| 3/3 [00:00<00:00,  5.54it/s]\n"
     ]
    },
    {
     "name": "stdout",
     "output_type": "stream",
     "text": [
      "Epoch 0258 | Train Acc: 0.5796 | Test: 0.2877 (max=0.3119) | AMI=0.1720 | Time: 9.7163\n"
     ]
    },
    {
     "name": "stderr",
     "output_type": "stream",
     "text": [
      "100%|██████████| 14/14 [00:08<00:00,  1.62it/s]\n",
      "100%|██████████| 3/3 [00:00<00:00,  5.43it/s]\n",
      "100%|██████████| 14/14 [00:08<00:00,  1.69it/s]\n",
      "100%|██████████| 3/3 [00:00<00:00,  5.26it/s]\n",
      "100%|██████████| 14/14 [00:08<00:00,  1.56it/s]\n",
      "100%|██████████| 3/3 [00:00<00:00,  5.02it/s]\n"
     ]
    },
    {
     "name": "stdout",
     "output_type": "stream",
     "text": [
      "Epoch 0261 | Train Acc: 0.5823 | Test: 0.2775 (max=0.3119) | AMI=0.1750 | Time: 9.7113\n"
     ]
    },
    {
     "name": "stderr",
     "output_type": "stream",
     "text": [
      "100%|██████████| 14/14 [00:08<00:00,  1.56it/s]\n",
      "100%|██████████| 3/3 [00:00<00:00,  5.37it/s]\n",
      "100%|██████████| 14/14 [00:08<00:00,  1.70it/s]\n",
      "100%|██████████| 3/3 [00:00<00:00,  5.47it/s]\n",
      "100%|██████████| 14/14 [00:08<00:00,  1.74it/s]\n",
      "100%|██████████| 3/3 [00:00<00:00,  5.66it/s]\n"
     ]
    },
    {
     "name": "stdout",
     "output_type": "stream",
     "text": [
      "Epoch 0264 | Train Acc: 0.5795 | Test: 0.2846 (max=0.3119) | AMI=0.1759 | Time: 9.7036\n"
     ]
    },
    {
     "name": "stderr",
     "output_type": "stream",
     "text": [
      "100%|██████████| 14/14 [00:07<00:00,  1.79it/s]\n",
      "100%|██████████| 3/3 [00:00<00:00,  5.28it/s]\n",
      "100%|██████████| 14/14 [00:07<00:00,  1.78it/s]\n",
      "100%|██████████| 3/3 [00:00<00:00,  5.51it/s]\n",
      "100%|██████████| 14/14 [00:10<00:00,  1.28it/s]\n",
      "100%|██████████| 3/3 [00:00<00:00,  5.48it/s]\n"
     ]
    },
    {
     "name": "stdout",
     "output_type": "stream",
     "text": [
      "Epoch 0267 | Train Acc: 0.5807 | Test: 0.2830 (max=0.3119) | AMI=0.1745 | Time: 9.7012\n"
     ]
    },
    {
     "name": "stderr",
     "output_type": "stream",
     "text": [
      "100%|██████████| 14/14 [00:08<00:00,  1.75it/s]\n",
      "100%|██████████| 3/3 [00:00<00:00,  5.55it/s]\n",
      "100%|██████████| 14/14 [00:08<00:00,  1.71it/s]\n",
      "100%|██████████| 3/3 [00:00<00:00,  5.55it/s]\n",
      "100%|██████████| 14/14 [00:07<00:00,  1.77it/s]\n",
      "100%|██████████| 3/3 [00:00<00:00,  5.29it/s]\n"
     ]
    },
    {
     "name": "stdout",
     "output_type": "stream",
     "text": [
      "Epoch 0270 | Train Acc: 0.5788 | Test: 0.2859 (max=0.3119) | AMI=0.1756 | Time: 9.6896\n"
     ]
    },
    {
     "name": "stderr",
     "output_type": "stream",
     "text": [
      "100%|██████████| 14/14 [00:12<00:00,  1.08it/s]\n",
      "100%|██████████| 3/3 [00:00<00:00,  5.45it/s]\n",
      "100%|██████████| 14/14 [00:07<00:00,  1.82it/s]\n",
      "100%|██████████| 3/3 [00:00<00:00,  5.83it/s]\n",
      "100%|██████████| 14/14 [00:10<00:00,  1.39it/s]\n",
      "100%|██████████| 3/3 [00:00<00:00,  5.67it/s]\n"
     ]
    },
    {
     "name": "stdout",
     "output_type": "stream",
     "text": [
      "Epoch 0273 | Train Acc: 0.5785 | Test: 0.2863 (max=0.3119) | AMI=0.1698 | Time: 9.7020\n"
     ]
    },
    {
     "name": "stderr",
     "output_type": "stream",
     "text": [
      "100%|██████████| 14/14 [00:07<00:00,  1.75it/s]\n",
      "100%|██████████| 3/3 [00:00<00:00,  5.62it/s]\n",
      "100%|██████████| 14/14 [00:07<00:00,  1.81it/s]\n",
      "100%|██████████| 3/3 [00:00<00:00,  5.50it/s]\n",
      "100%|██████████| 14/14 [00:08<00:00,  1.75it/s]\n",
      "100%|██████████| 3/3 [00:00<00:00,  5.51it/s]\n"
     ]
    },
    {
     "name": "stdout",
     "output_type": "stream",
     "text": [
      "Epoch 0276 | Train Acc: 0.5807 | Test: 0.2846 (max=0.3119) | AMI=0.1723 | Time: 9.6891\n"
     ]
    },
    {
     "name": "stderr",
     "output_type": "stream",
     "text": [
      "100%|██████████| 14/14 [00:07<00:00,  1.78it/s]\n",
      "100%|██████████| 3/3 [00:00<00:00,  5.11it/s]\n",
      "100%|██████████| 14/14 [00:08<00:00,  1.66it/s]\n",
      "100%|██████████| 3/3 [00:00<00:00,  4.71it/s]\n",
      "100%|██████████| 14/14 [00:08<00:00,  1.68it/s]\n",
      "100%|██████████| 3/3 [00:00<00:00,  4.30it/s]\n"
     ]
    },
    {
     "name": "stdout",
     "output_type": "stream",
     "text": [
      "Epoch 0279 | Train Acc: 0.5800 | Test: 0.2808 (max=0.3119) | AMI=0.1674 | Time: 9.6808\n"
     ]
    },
    {
     "name": "stderr",
     "output_type": "stream",
     "text": [
      "100%|██████████| 14/14 [00:07<00:00,  1.78it/s]\n",
      "100%|██████████| 3/3 [00:00<00:00,  5.64it/s]\n",
      "100%|██████████| 14/14 [00:08<00:00,  1.64it/s]\n",
      "100%|██████████| 3/3 [00:03<00:00,  1.29s/it]\n",
      "100%|██████████| 14/14 [00:08<00:00,  1.67it/s]\n",
      "100%|██████████| 3/3 [00:00<00:00,  5.57it/s]\n"
     ]
    },
    {
     "name": "stdout",
     "output_type": "stream",
     "text": [
      "Epoch 0282 | Train Acc: 0.5801 | Test: 0.2936 (max=0.3119) | AMI=0.1791 | Time: 9.6841\n"
     ]
    },
    {
     "name": "stderr",
     "output_type": "stream",
     "text": [
      "100%|██████████| 14/14 [00:08<00:00,  1.71it/s]\n",
      "100%|██████████| 3/3 [00:00<00:00,  5.20it/s]\n",
      "100%|██████████| 14/14 [00:08<00:00,  1.69it/s]\n",
      "100%|██████████| 3/3 [00:00<00:00,  5.93it/s]\n",
      "100%|██████████| 14/14 [00:08<00:00,  1.72it/s]\n",
      "100%|██████████| 3/3 [00:00<00:00,  5.65it/s]\n"
     ]
    },
    {
     "name": "stdout",
     "output_type": "stream",
     "text": [
      "Epoch 0285 | Train Acc: 0.5822 | Test: 0.2760 (max=0.3119) | AMI=0.1739 | Time: 9.6749\n"
     ]
    },
    {
     "name": "stderr",
     "output_type": "stream",
     "text": [
      "100%|██████████| 14/14 [00:08<00:00,  1.72it/s]\n",
      "100%|██████████| 3/3 [00:00<00:00,  5.68it/s]\n",
      "100%|██████████| 14/14 [00:08<00:00,  1.63it/s]\n",
      "100%|██████████| 3/3 [00:00<00:00,  5.52it/s]\n",
      "100%|██████████| 14/14 [00:19<00:00,  1.41s/it]\n",
      "100%|██████████| 3/3 [00:00<00:00,  5.58it/s]\n"
     ]
    },
    {
     "name": "stdout",
     "output_type": "stream",
     "text": [
      "Epoch 0288 | Train Acc: 0.5807 | Test: 0.2855 (max=0.3119) | AMI=0.1749 | Time: 9.7071\n"
     ]
    },
    {
     "name": "stderr",
     "output_type": "stream",
     "text": [
      "100%|██████████| 14/14 [00:08<00:00,  1.69it/s]\n",
      "100%|██████████| 3/3 [00:00<00:00,  4.80it/s]\n",
      "100%|██████████| 14/14 [00:08<00:00,  1.74it/s]\n",
      "100%|██████████| 3/3 [00:00<00:00,  5.66it/s]\n",
      "100%|██████████| 14/14 [00:07<00:00,  1.86it/s]\n",
      "100%|██████████| 3/3 [00:00<00:00,  5.64it/s]\n"
     ]
    },
    {
     "name": "stdout",
     "output_type": "stream",
     "text": [
      "Epoch 0291 | Train Acc: 0.5788 | Test: 0.2828 (max=0.3119) | AMI=0.1752 | Time: 9.6957\n"
     ]
    },
    {
     "name": "stderr",
     "output_type": "stream",
     "text": [
      "100%|██████████| 14/14 [00:08<00:00,  1.68it/s]\n",
      "100%|██████████| 3/3 [00:00<00:00,  5.09it/s]\n",
      "100%|██████████| 14/14 [00:08<00:00,  1.73it/s]\n",
      "100%|██████████| 3/3 [00:00<00:00,  5.46it/s]\n",
      "100%|██████████| 14/14 [00:07<00:00,  1.79it/s]\n",
      "100%|██████████| 3/3 [00:00<00:00,  5.59it/s]\n"
     ]
    },
    {
     "name": "stdout",
     "output_type": "stream",
     "text": [
      "Epoch 0294 | Train Acc: 0.5798 | Test: 0.2934 (max=0.3119) | AMI=0.1723 | Time: 9.6857\n"
     ]
    },
    {
     "name": "stderr",
     "output_type": "stream",
     "text": [
      "100%|██████████| 14/14 [00:08<00:00,  1.58it/s]\n",
      "100%|██████████| 3/3 [00:00<00:00,  5.37it/s]\n",
      "100%|██████████| 14/14 [00:08<00:00,  1.66it/s]\n",
      "100%|██████████| 3/3 [00:00<00:00,  4.73it/s]\n",
      "100%|██████████| 14/14 [00:08<00:00,  1.62it/s]\n",
      "100%|██████████| 3/3 [00:00<00:00,  5.30it/s]\n"
     ]
    },
    {
     "name": "stdout",
     "output_type": "stream",
     "text": [
      "Epoch 0297 | Train Acc: 0.5821 | Test: 0.2813 (max=0.3119) | AMI=0.1732 | Time: 9.6817\n"
     ]
    },
    {
     "name": "stderr",
     "output_type": "stream",
     "text": [
      "100%|██████████| 14/14 [00:08<00:00,  1.65it/s]\n",
      "100%|██████████| 3/3 [00:00<00:00,  4.54it/s]\n",
      "100%|██████████| 14/14 [00:08<00:00,  1.63it/s]\n",
      "100%|██████████| 3/3 [00:00<00:00,  5.14it/s]\n"
     ]
    },
    {
     "name": "stdout",
     "output_type": "stream",
     "text": [
      "Epoch 0299 | Train Acc: 0.5817 | Test: 0.2711 (max=0.3119) | AMI=0.1731 | Time: 9.6788\n",
      "figure has been saved into:\n",
      "\t../analysis_results/macaque_mouse_hippocampus/Macaque-Mouse/figs/cluster_index.png\n",
      "states loaded from: ../analysis_results/macaque_mouse_hippocampus/Macaque-Mouse/_models/weights_epoch233.pt\n"
     ]
    },
    {
     "name": "stderr",
     "output_type": "stream",
     "text": [
      "100%|██████████| 21/21 [00:03<00:00,  5.72it/s]\n",
      "2024-03-13 15:13:41,186 base.py-113-save_json_dict(): INFO\n",
      " ../analysis_results/macaque_mouse_hippocampus/Macaque-Mouse/predictor.json\n",
      "2024-03-13 15:13:41,187 _predict.py-223-save(): INFO\n",
      " ../analysis_results/macaque_mouse_hippocampus/Macaque-Mouse/predictor.json\n",
      "2024-03-13 15:13:47,573 unaligned.py-311-save_init(): INFO\n",
      " inputs for construction datapair saved into ../analysis_results/macaque_mouse_hippocampus/Macaque-Mouse/datapair_init.pickle\n",
      "2024-03-13 15:13:47,586 pipeline.py-688-gather_came_results(): INFO\n",
      "     Macaque  Mouse\n",
      "0      2399    300\n",
      "1      2205    329\n",
      "3      1919     73\n",
      "2      1789    380\n",
      "4      1704    219\n",
      "..      ...    ...\n",
      "80       64     17\n",
      "81       59     13\n",
      "83       46     10\n",
      "75       25     73\n",
      "82        4     68\n",
      "\n",
      "[84 rows x 2 columns]\n",
      "2024-03-13 15:13:47,661 pipeline.py-521-main_for_unaligned(): WARNING\n",
      " An error occurred when plotting results: Cannot cast ufunc 'true_divide' output from dtype('float64') to dtype('int64') with casting rule 'same_kind'\n"
     ]
    },
    {
     "name": "stdout",
     "output_type": "stream",
     "text": [
      "object saved into:\n",
      "\t ../analysis_results/macaque_mouse_hippocampus/Macaque-Mouse/datapair_init.pickle\n",
      "(4540,)\n",
      "(4540,)\n",
      "<class 'str'>\n",
      "<class 'str'>\n",
      "figure has been saved into:\n",
      "\t../analysis_results/macaque_mouse_hippocampus/Macaque-Mouse/figs/heatmap_probas.pdf\n",
      "adding columns to `adata.obs` (ignore_index=True):\n",
      "adding columns to `adata.obs` (ignore_index=True):\n"
     ]
    },
    {
     "name": "stderr",
     "output_type": "stream",
     "text": [
      "... storing 'dataset' as categorical\n",
      "... storing 'REF' as categorical\n",
      "... storing 'celltype' as categorical\n",
      "... storing 'predicted' as categorical\n"
     ]
    },
    {
     "name": "stdout",
     "output_type": "stream",
     "text": [
      "WARNING: saving figure to file ../analysis_results/macaque_mouse_hippocampus/Macaque-Mouse/figs/umap-dataset.pdf\n",
      "WARNING: saving figure to file ../analysis_results/macaque_mouse_hippocampus/Macaque-Mouse/figs/umap-ctype.pdf\n"
     ]
    },
    {
     "name": "stderr",
     "output_type": "stream",
     "text": [
      "... storing 'name' as categorical\n",
      "... storing 'dataset' as categorical\n"
     ]
    },
    {
     "name": "stdout",
     "output_type": "stream",
     "text": [
      "WARNING: saving figure to file ../analysis_results/macaque_mouse_hippocampus/Macaque-Mouse/figs/umap_module-Macaque.pdf\n",
      "WARNING: saving figure to file ../analysis_results/macaque_mouse_hippocampus/Macaque-Mouse/figs/umap_module-Macaque.pdf\n"
     ]
    },
    {
     "name": "stderr",
     "output_type": "stream",
     "text": [
      "2024-03-13 15:14:48,546 analyze.py-673-weight_linked_vars(): INFO\n",
      " sorting links by weights\n"
     ]
    },
    {
     "name": "stdout",
     "output_type": "stream",
     "text": [
      "Computing averages grouped by cluster_region\n"
     ]
    },
    {
     "name": "stderr",
     "output_type": "stream",
     "text": [
      "2024-03-13 15:14:48,921 preprocess.py-1781-group_mean_sparse(): INFO\n",
      " Calculating feature averages for 84 groups\n",
      "2024-03-13 15:14:49,049 preprocess.py-1781-group_mean_sparse(): INFO\n",
      " Calculating feature averages for 84 groups\n"
     ]
    },
    {
     "name": "stdout",
     "output_type": "stream",
     "text": [
      "Computing averages grouped by cluster_region\n",
      "figure has been saved into:\n",
      "\t../analysis_results/macaque_mouse_hippocampus/Macaque-Mouse/figs/umap_exprAvgs-Macaque-all.png\n",
      "figure has been saved into:\n",
      "\t../analysis_results/macaque_mouse_hippocampus/Macaque-Mouse/figs/umap_exprAvgs-Mouse-all.png\n",
      "AnnData object with n_obs × n_vars = 4540 × 10105\n",
      "    obs: 'loci', 'gene_area', 'xbin', 'ybin', 'annotation', 'species_id', 'batch_name', 'slice_name', 'louvain', 'mclust', 'mclust_separate', 'STAGATE_annotation', 'region', 'region_name', 'Mouse Itpka', 'Mouse Amigo2', 'Mouse Hs3st4', 'Mouse Lrrtm4'\n",
      "    var: 'genenames', 'n_cells', 'highly_variable', 'highly_variable_rank', 'means', 'variances', 'variances_norm'\n",
      "    uns: 'STAGATE_annotation_colors', 'Spatial_Net', 'adj', 'annotation_colors', 'batch_name_colors', 'gene_area_colors', 'hvg', 'log1p', 'louvain', 'louvain_colors', 'mclust_colors', 'mclust_separate_colors', 'neighbors', 'umap'\n",
      "    obsm: 'STAGATE', 'X_umap', 'spatial'\n",
      "    obsp: 'connectivities', 'distances'\n",
      "AnnData object with n_obs × n_vars = 28499 × 14932\n",
      "    obs: 'gene_area', 'annotation', 'species_id', 'batch_name', 'slice_name', 'louvain', 'mclust', 'mclust_separate', 'STAGATE_annotation', 'region', 'region_name', 'Macaque ITPKA', 'Macaque AMIGO2', 'Macaque HS3ST4', 'Macaque LRRTM4'\n",
      "    var: 'highly_variable', 'highly_variable_rank', 'means', 'variances', 'variances_norm'\n",
      "    uns: 'STAGATE_annotation_colors', 'Spatial_Net', 'adj', 'annotation_colors', 'batch_name_colors', 'hvg', 'log1p', 'louvain', 'louvain_colors', 'mclust_colors', 'mclust_separate_colors', 'neighbors', 'umap'\n",
      "    obsm: 'STAGATE', 'X_umap', 'spatial'\n",
      "    obsp: 'connectivities', 'distances'\n",
      "AnnData object with n_obs × n_vars = 33039 × 128\n",
      "    obs: 'original_name', 'dataset', 'REF', 'celltype', 'predicted', 'max_probs', 'is_right', '8', '14', '62', '4', '13', '9', '12', '15', '19', '74', '73', '24', '33', '48', '16', '32', '51', '1', '45', '10', '5', '20', '78', '69', '18', '52', '49', '70', '39', '21', '26', '53', '44', '29', '60', '27', '35', '67', '42', '58', '38', '46', '54', '80', '7', '40', '22', '37', '34', '56', '47', '79', '11', '43', '17', '31', '23', '65', '2', '25', '59', '36', '0', '50', '63', '61', '30', '6', '57', '72', '76', '81', '68', '28', '64', '55', '71', '75', '66', '77', '3', '41', '83', '82'\n",
      "    uns: 'celltype_colors', 'dataset_colors', 'neighbors', 'umap'\n",
      "    obsm: 'X_umap'\n",
      "    obsp: 'connectivities', 'distances'\n",
      "WARNING: saving figure to file ../analysis_results/macaque_mouse_hippocampus/Macaque-Mouse/figs/umap-umap_mouse.pdf\n",
      "WARNING: saving figure to file ../analysis_results/macaque_mouse_hippocampus/Macaque-Mouse/figs/umap-umap_human.pdf\n",
      "       Mouse      Macaque\n",
      "0  Mouse_CA1  Macaque_CA1\n",
      "1  Mouse_CA2  Macaque_CA2\n",
      "2  Mouse_CA3  Macaque_CA3\n",
      "3   Mouse_DG   Macaque_DG\n",
      "1-th region finished!\n",
      "2-th region finished!\n",
      "3-th region finished!\n",
      "4-th region finished!\n",
      "AnnData object with n_obs × n_vars = 4540 × 10105\n",
      "    obs: 'loci', 'gene_area', 'xbin', 'ybin', 'annotation', 'species_id', 'batch_name', 'slice_name', 'louvain', 'mclust', 'mclust_separate', 'STAGATE_annotation', 'region', 'region_name', 'Mouse Itpka', 'Mouse Amigo2', 'Mouse Hs3st4', 'Mouse Lrrtm4'\n",
      "    var: 'genenames', 'n_cells', 'highly_variable', 'highly_variable_rank', 'means', 'variances', 'variances_norm'\n",
      "    uns: 'STAGATE_annotation_colors', 'Spatial_Net', 'adj', 'annotation_colors', 'batch_name_colors', 'gene_area_colors', 'hvg', 'log1p', 'louvain', 'louvain_colors', 'mclust_colors', 'mclust_separate_colors', 'neighbors', 'umap'\n",
      "    obsm: 'STAGATE', 'X_umap', 'spatial'\n",
      "    obsp: 'connectivities', 'distances'\n",
      "AnnData object with n_obs × n_vars = 28499 × 14932\n",
      "    obs: 'gene_area', 'annotation', 'species_id', 'batch_name', 'slice_name', 'louvain', 'mclust', 'mclust_separate', 'STAGATE_annotation', 'region', 'region_name', 'Macaque ITPKA', 'Macaque AMIGO2', 'Macaque HS3ST4', 'Macaque LRRTM4'\n",
      "    var: 'highly_variable', 'highly_variable_rank', 'means', 'variances', 'variances_norm'\n",
      "    uns: 'STAGATE_annotation_colors', 'Spatial_Net', 'adj', 'annotation_colors', 'batch_name_colors', 'hvg', 'log1p', 'louvain', 'louvain_colors', 'mclust_colors', 'mclust_separate_colors', 'neighbors', 'umap'\n",
      "    obsm: 'STAGATE', 'X_umap', 'spatial'\n",
      "    obsp: 'connectivities', 'distances'\n",
      "AnnData object with n_obs × n_vars = 33039 × 128\n",
      "    obs: 'original_name', 'dataset', 'REF', 'celltype', 'predicted', 'max_probs', 'is_right', '8', '14', '62', '4', '13', '9', '12', '15', '19', '74', '73', '24', '33', '48', '16', '32', '51', '1', '45', '10', '5', '20', '78', '69', '18', '52', '49', '70', '39', '21', '26', '53', '44', '29', '60', '27', '35', '67', '42', '58', '38', '46', '54', '80', '7', '40', '22', '37', '34', '56', '47', '79', '11', '43', '17', '31', '23', '65', '2', '25', '59', '36', '0', '50', '63', '61', '30', '6', '57', '72', '76', '81', '68', '28', '64', '55', '71', '75', '66', '77', '3', '41', '83', '82'\n",
      "    uns: 'celltype_colors', 'dataset_colors', 'neighbors', 'umap'\n",
      "    obsm: 'X_umap'\n",
      "    obsp: 'connectivities', 'distances'\n",
      "       Mouse      Macaque\n",
      "0  Mouse_CA1  Macaque_CA1\n",
      "1  Mouse_CA2  Macaque_CA2\n",
      "2  Mouse_CA3  Macaque_CA3\n",
      "3   Mouse_DG   Macaque_DG\n",
      "1-th region finished!\n",
      "2-th region finished!\n",
      "3-th region finished!\n",
      "4-th region finished!\n",
      "5-th region finished!\n",
      "6-th region finished!\n",
      "7-th region finished!\n",
      "8-th region finished!\n",
      "9-th region finished!\n",
      "10-th region finished!\n",
      "11-th region finished!\n",
      "12-th region finished!\n",
      "13-th region finished!\n",
      "14-th region finished!\n",
      "15-th region finished!\n",
      "16-th region finished!\n",
      "17-th region finished!\n",
      "18-th region finished!\n",
      "19-th region finished!\n",
      "20-th region finished!\n",
      "21-th region finished!\n",
      "22-th region finished!\n",
      "23-th region finished!\n",
      "24-th region finished!\n",
      "25-th region finished!\n",
      "26-th region finished!\n",
      "27-th region finished!\n",
      "28-th region finished!\n",
      "29-th region finished!\n",
      "30-th region finished!\n",
      "31-th region finished!\n",
      "32-th region finished!\n",
      "33-th region finished!\n",
      "34-th region finished!\n",
      "35-th region finished!\n",
      "36-th region finished!\n",
      "37-th region finished!\n",
      "38-th region finished!\n",
      "39-th region finished!\n",
      "40-th region finished!\n",
      "41-th region finished!\n"
     ]
    },
    {
     "ename": "NameError",
     "evalue": "name 'cfg' is not defined",
     "output_type": "error",
     "traceback": [
      "\u001b[0;31m---------------------------------------------------------------------------\u001b[0m",
      "\u001b[0;31mNameError\u001b[0m                                 Traceback (most recent call last)",
      "Cell \u001b[0;32mIn[1], line 43\u001b[0m\n\u001b[1;32m     40\u001b[0m cfg\u001b[38;5;241m.\u001b[39mPROCESS\u001b[38;5;241m.\u001b[39mpath_rawdata1 \u001b[38;5;241m=\u001b[39m cfg\u001b[38;5;241m.\u001b[39mCAME\u001b[38;5;241m.\u001b[39mpath_rawdata1\n\u001b[1;32m     41\u001b[0m cfg\u001b[38;5;241m.\u001b[39mPROCESS\u001b[38;5;241m.\u001b[39mpath_rawdata2 \u001b[38;5;241m=\u001b[39m cfg\u001b[38;5;241m.\u001b[39mCAME\u001b[38;5;241m.\u001b[39mpath_rawdata2\n\u001b[0;32m---> 43\u001b[0m \u001b[43mttest_plot_utils\u001b[49m\u001b[38;5;241;43m.\u001b[39;49m\u001b[43mrun_came_homo_random\u001b[49m\u001b[43m(\u001b[49m\u001b[43mcfg\u001b[49m\u001b[43m)\u001b[49m\n",
      "File \u001b[0;32m/mnt/disk1/zhangbiao/BrainAlign/run_came/analysis_script/../analysis_utils/ttest_plot_utils.py:172\u001b[0m, in \u001b[0;36mrun_came_homo_random\u001b[0;34m(cfg)\u001b[0m\n\u001b[1;32m    168\u001b[0m homo_corr(resdir, logger, cfg)\n\u001b[1;32m    170\u001b[0m random_corr(resdir, logger, cfg)\n\u001b[0;32m--> 172\u001b[0m \u001b[43mplot_homo_random\u001b[49m\u001b[43m(\u001b[49m\u001b[43mresdir\u001b[49m\u001b[43m,\u001b[49m\u001b[43m \u001b[49m\u001b[43mlogger\u001b[49m\u001b[43m)\u001b[49m\n\u001b[1;32m    174\u001b[0m ttest(resdir, logger)\n",
      "File \u001b[0;32m/mnt/disk1/zhangbiao/BrainAlign/run_came/analysis_script/../analysis_utils/ttest_plot_utils.py:797\u001b[0m, in \u001b[0;36mplot_homo_random\u001b[0;34m(resdir, logger)\u001b[0m\n\u001b[1;32m    792\u001b[0m \u001b[38;5;250m\u001b[39m\u001b[38;5;124;03m'''\u001b[39;00m\n\u001b[1;32m    793\u001b[0m \u001b[38;5;124;03mStep 1:load human and mouse cross expression data of homologous regions, and random regions\u001b[39;00m\n\u001b[1;32m    794\u001b[0m \u001b[38;5;124;03mStep 2: plot bar, mean and std\u001b[39;00m\n\u001b[1;32m    795\u001b[0m \u001b[38;5;124;03m'''\u001b[39;00m\n\u001b[1;32m    796\u001b[0m \u001b[38;5;66;03m# Read ordered labels\u001b[39;00m\n\u001b[0;32m--> 797\u001b[0m species1 \u001b[38;5;241m=\u001b[39m \u001b[43mcfg\u001b[49m\u001b[38;5;241m.\u001b[39mCAME\u001b[38;5;241m.\u001b[39mspecies_name_list[\u001b[38;5;241m0\u001b[39m]\n\u001b[1;32m    798\u001b[0m species2 \u001b[38;5;241m=\u001b[39m cfg\u001b[38;5;241m.\u001b[39mCAME\u001b[38;5;241m.\u001b[39mspecies_name_list[\u001b[38;5;241m1\u001b[39m]\n\u001b[1;32m    800\u001b[0m homo_region_data_path \u001b[38;5;241m=\u001b[39m resdir \u001b[38;5;241m+\u001b[39m \u001b[38;5;124m'\u001b[39m\u001b[38;5;124mfigs/Hiercluster_came_embedding_correlation/\u001b[39m\u001b[38;5;124m'\u001b[39m\n",
      "\u001b[0;31mNameError\u001b[0m: name 'cfg' is not defined"
     ]
    }
   ],
   "source": [
    "# -- coding: utf-8 --\n",
    "\n",
    "\n",
    "import warnings\n",
    "warnings.filterwarnings(\"ignore\")\n",
    "import sys\n",
    "sys.path.append('../')\n",
    "\n",
    "from analysis_utils import ttest_plot_utils\n",
    "from analysis_utils import homo_random_config as config\n",
    "import os\n",
    "\n",
    "\n",
    "if __name__ == '__main__':\n",
    "\n",
    "    cfg = config._C\n",
    "    #os.environ['CUDA_VISIBLE_DEVICES'] = '-1' #cfg.CAME.visible_device\n",
    "    #cfg.CAME.n_top_genes = 1000\n",
    "    cfg.CAME.visible_device = '-1'\n",
    "    n_top_genes_list = [3000]\n",
    "\n",
    "    cfg.CAME.species_name_list = ['Macaque', 'Mouse']\n",
    "\n",
    "    cfg.CAME.n_top_genes = n_top_genes_list[0]\n",
    "    cfg.CAME.sparse = False\n",
    "    cfg.CAME.do_normalize = [True, True]\n",
    "    cfg.CAME.ROOT = '../analysis_results/macaque_mouse_hippocampus/'\n",
    "    cfg.CAME.path_rawdata2 = '../../BrainAlign/data/srrsc_mouse_macaque_hippocampus/Data/Mouse.h5ad'\n",
    "    cfg.CAME.path_rawdata1 = '../../BrainAlign/data/srrsc_mouse_macaque_hippocampus/Data/Macaque.h5ad'\n",
    "\n",
    "    cfg.CAME.path_labels_2 = '../../BrainAlign/data/srrsc_mouse_macaque_hippocampus/Data/mouse_region_list.csv'\n",
    "    cfg.CAME.path_labels_1 = '../../BrainAlign/data/srrsc_mouse_macaque_hippocampus/Data/macaque_region_list.csv'\n",
    "\n",
    "    cfg.CAME.human_mouse_homo_region = '../../BrainAlign/data/srrsc_mouse_macaque_hippocampus/Data/mouse_macaque_homo_region.csv'\n",
    "    #    ttest_plot_utils.run_came_homo_random(cfg)\n",
    "\n",
    "    cfg.CAME.path_varmap = '../../BrainAlign/data/srrsc_mouse_macaque_hippocampus/Data/Macaque_Mouse_multi2multi.csv'\n",
    "    cfg.CAME.path_varmap_1v1 = '../../BrainAlign/data/srrsc_mouse_macaque_hippocampus/Data/Macaque_Mouse_one2one.csv'\n",
    "\n",
    "    cfg.PROCESS.path_rawdata1 = cfg.CAME.path_rawdata1\n",
    "    cfg.PROCESS.path_rawdata2 = cfg.CAME.path_rawdata2\n",
    "\n",
    "    ttest_plot_utils.run_came_homo_random(cfg)\n",
    "\n"
   ]
  },
  {
   "cell_type": "code",
   "execution_count": null,
   "id": "d1071b72-043c-46aa-a9e0-541dc7a15ede",
   "metadata": {},
   "outputs": [],
   "source": []
  }
 ],
 "metadata": {
  "kernelspec": {
   "display_name": "env_came",
   "language": "python",
   "name": "env_came"
  },
  "language_info": {
   "codemirror_mode": {
    "name": "ipython",
    "version": 3
   },
   "file_extension": ".py",
   "mimetype": "text/x-python",
   "name": "python",
   "nbconvert_exporter": "python",
   "pygments_lexer": "ipython3",
   "version": "3.8.18"
  }
 },
 "nbformat": 4,
 "nbformat_minor": 5
}
