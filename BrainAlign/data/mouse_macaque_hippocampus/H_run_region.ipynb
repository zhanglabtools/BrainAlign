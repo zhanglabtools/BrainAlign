{
 "cells": [
  {
   "cell_type": "code",
   "execution_count": 1,
   "id": "9a59e932-5ca0-4eee-891d-5b6aa93b602b",
   "metadata": {
    "scrolled": true
   },
   "outputs": [
    {
     "name": "stdout",
     "output_type": "stream",
     "text": [
      "(7630, 3)\n",
      "      Gene name Mouse gene name Mouse homology type\n",
      "0        ZNF692          Zfp692    ortholog_one2one\n",
      "1        ZNF672          Zfp672    ortholog_one2one\n",
      "2       SH3BP5L         Sh3bp5l    ortholog_one2one\n",
      "16       ZNF496        Zkscan17    ortholog_one2one\n",
      "17       AHCTF1          Ahctf1    ortholog_one2one\n",
      "...         ...             ...                 ...\n",
      "16070      COX1          mt-Co1    ortholog_one2one\n",
      "16075       ND3          mt-Nd3    ortholog_one2one\n",
      "16077       ND4          mt-Nd4    ortholog_one2one\n",
      "16078       ND5          mt-Nd5    ortholog_one2one\n",
      "16079      CYTB         mt-Cytb    ortholog_one2one\n",
      "\n",
      "[7630 rows x 3 columns]\n",
      "AnnData object with n_obs × n_vars = 28499 × 14932\n",
      "    obs: 'gene_area', 'annotation', 'species_id', 'batch_name', 'slice_name', 'louvain', 'mclust', 'mclust_separate', 'STAGATE_annotation', 'region', 'region_name', 'Macaque ITPKA', 'Macaque AMIGO2', 'Macaque HS3ST4', 'Macaque LRRTM4'\n",
      "    var: 'highly_variable', 'highly_variable_rank', 'means', 'variances', 'variances_norm'\n",
      "    uns: 'STAGATE_annotation_colors', 'Spatial_Net', 'adj', 'annotation_colors', 'batch_name_colors', 'hvg', 'log1p', 'louvain', 'louvain_colors', 'mclust_colors', 'mclust_separate_colors', 'neighbors', 'umap'\n",
      "    obsm: 'STAGATE', 'X_umap', 'spatial'\n",
      "    obsp: 'connectivities', 'distances'\n",
      "Index(['A2M', 'A2ML1', 'A3GALT2', 'AAAS', 'AACS', 'AADAC', 'AADACL2',\n",
      "       'AADACL3', 'AADACL4', 'AADAT',\n",
      "       ...\n",
      "       'ZYX', 'ZZEF1', 'ZZZ3', 'ar', 'snoMBII-202', 'snoU109', 'snoU2-30',\n",
      "       'snoU85', 'snoU89', 'snoZ39'],\n",
      "      dtype='object', length=14932)\n"
     ]
    },
    {
     "name": "stderr",
     "output_type": "stream",
     "text": [
      "... storing 'species_id' as categorical\n"
     ]
    },
    {
     "name": "stdout",
     "output_type": "stream",
     "text": [
      "One-to-one homologous gene number = 7630\n",
      "2024-03-28 21:13:39,276 Running CAME and analysis INFO: Running with config:\n",
      "ANALYSIS:\n",
      "  cut_ov: 0\n",
      "  human_umap_neighbor: 20\n",
      "  mouse_umap_neighbor: 20\n",
      "  umap_neighbor: 20\n",
      "CAME:\n",
      "  ROOT: ./Results/initial_embedding/\n",
      "  annotation_name: ['region_name', 'region_name']\n",
      "  do_normalize: [True, True]\n",
      "  embedding_path: None\n",
      "  embedding_size: 128\n",
      "  human_mouse_homo_region: ./Data/mouse_macaque_homo_region.csv\n",
      "  learning_label: ['region_name', 'region_name']\n",
      "  n_top_genes: 4000\n",
      "  path_labels_1: ./Data/macaque_region_list.csv\n",
      "  path_labels_2: ./Data/mouse_region_list.csv\n",
      "  path_rawdata1: ./Data/Macaque.h5ad\n",
      "  path_rawdata2: ./Data/Mouse.h5ad\n",
      "  path_varmap: ./Data/Macaque_Mouse_multi2multi.csv\n",
      "  path_varmap_1v1: ./Data/Macaque_Mouse_one2one.csv\n",
      "  preclustering_resolution: 6\n",
      "  quantile_gene: 0.5\n",
      "  quantile_sample: 0.99\n",
      "  sparse: False\n",
      "  species_name_list: ['Macaque', 'Mouse']\n",
      "  visible_device: -1\n",
      "HOMO_RANDOM:\n",
      "  \n",
      "PROCESS:\n",
      "  path_human_labels: ../brain_human_mouse/human_88_label_10regions.csv\n",
      "  path_mouse_labels: ../brain_human_mouse/mouse_67_label_10regions.csv\n",
      "  path_rawdata1: ./Data/Macaque.h5ad\n",
      "  path_rawdata1_part: ../../Brain_ST_human_mouse/data/10regions_mouse_brain_region_67_sagittal.h5ad\n",
      "  path_rawdata2: ./Data/Mouse.h5ad\n",
      "  path_rawdata2_part: ../../Brain_ST_human_mouse/data/10regions_human_brain_region_88_sparse_with3d.h5ad\n",
      "TRAINING:\n",
      "  batch_size: 2048\n",
      "  n_epochs: 300\n",
      "  n_pass: 50\n",
      "  ntop_deg: 70\n",
      "  ntop_deg_nodes: 50\n"
     ]
    },
    {
     "name": "stderr",
     "output_type": "stream",
     "text": [
      "2024-03-28 21:13:39,276 ttest_plot_utils_origin.py-238-run_came(): INFO\n",
      " Running with config:\n",
      "ANALYSIS:\n",
      "  cut_ov: 0\n",
      "  human_umap_neighbor: 20\n",
      "  mouse_umap_neighbor: 20\n",
      "  umap_neighbor: 20\n",
      "CAME:\n",
      "  ROOT: ./Results/initial_embedding/\n",
      "  annotation_name: ['region_name', 'region_name']\n",
      "  do_normalize: [True, True]\n",
      "  embedding_path: None\n",
      "  embedding_size: 128\n",
      "  human_mouse_homo_region: ./Data/mouse_macaque_homo_region.csv\n",
      "  learning_label: ['region_name', 'region_name']\n",
      "  n_top_genes: 4000\n",
      "  path_labels_1: ./Data/macaque_region_list.csv\n",
      "  path_labels_2: ./Data/mouse_region_list.csv\n",
      "  path_rawdata1: ./Data/Macaque.h5ad\n",
      "  path_rawdata2: ./Data/Mouse.h5ad\n",
      "  path_varmap: ./Data/Macaque_Mouse_multi2multi.csv\n",
      "  path_varmap_1v1: ./Data/Macaque_Mouse_one2one.csv\n",
      "  preclustering_resolution: 6\n",
      "  quantile_gene: 0.5\n",
      "  quantile_sample: 0.99\n",
      "  sparse: False\n",
      "  species_name_list: ['Macaque', 'Mouse']\n",
      "  visible_device: -1\n",
      "HOMO_RANDOM:\n",
      "  \n",
      "PROCESS:\n",
      "  path_human_labels: ../brain_human_mouse/human_88_label_10regions.csv\n",
      "  path_mouse_labels: ../brain_human_mouse/mouse_67_label_10regions.csv\n",
      "  path_rawdata1: ./Data/Macaque.h5ad\n",
      "  path_rawdata1_part: ../../Brain_ST_human_mouse/data/10regions_mouse_brain_region_67_sagittal.h5ad\n",
      "  path_rawdata2: ./Data/Mouse.h5ad\n",
      "  path_rawdata2_part: ../../Brain_ST_human_mouse/data/10regions_human_brain_region_88_sparse_with3d.h5ad\n",
      "TRAINING:\n",
      "  batch_size: 2048\n",
      "  n_epochs: 300\n",
      "  n_pass: 50\n",
      "  ntop_deg: 70\n",
      "  ntop_deg_nodes: 50\n"
     ]
    },
    {
     "name": "stdout",
     "output_type": "stream",
     "text": [
      "already exists:\n",
      "\t./Results/initial_embedding/Macaque-Mouse/figs/\n"
     ]
    },
    {
     "name": "stderr",
     "output_type": "stream",
     "text": [
      "2024-03-28 21:13:39,799 pipeline.py-939-preprocess_unaligned(): INFO\n",
      " ================ preprocessing ===============\n",
      "2024-03-28 21:13:39,874 preprocess.py-1916-quick_preprocess(): INFO\n",
      " A copy of AnnData made!\n",
      "2024-03-28 21:13:39,875 preprocess.py-1347-normalize_default(): INFO\n",
      " No copy was made, the input AnnData will be changed!\n",
      "2024-03-28 21:13:39,876 preprocess.py-1348-normalize_default(): INFO\n",
      " normalizing datasets with default settings.\n",
      "2024-03-28 21:13:39,877 preprocess.py-1350-normalize_default(): INFO\n",
      " performing total-sum normalization, target_sum=None...\n"
     ]
    },
    {
     "name": "stdout",
     "output_type": "stream",
     "text": [
      "                    Macaque   Mouse\n",
      "Macaque_background  17968.0     NaN\n",
      "Macaque_SUB          2242.0     NaN\n",
      "Macaque_CA1          2042.0     NaN\n",
      "Macaque_paraS        1650.0     NaN\n",
      "Macaque_preS         1272.0     NaN\n",
      "Macaque_CA4          1229.0     NaN\n",
      "Macaque_DG            835.0     NaN\n",
      "Macaque_CA3           825.0     NaN\n",
      "Macaque_CA2           436.0     NaN\n",
      "Mouse_background        NaN  3106.0\n",
      "Mouse_CA1               NaN   474.0\n",
      "Mouse_CA3               NaN   468.0\n",
      "Mouse_DG                NaN   367.0\n",
      "Mouse_CA2               NaN   125.0\n",
      "WARNING: adata.X seems to be already log-transformed.\n"
     ]
    },
    {
     "name": "stderr",
     "output_type": "stream",
     "text": [
      "2024-03-28 21:13:40,586 preprocess.py-1517-wrapper_scale(): INFO\n",
      " using the build-in function `sc.pp.scale(..)`\n",
      "2024-03-28 21:13:56,912 preprocess.py-1916-quick_preprocess(): INFO\n",
      " A copy of AnnData made!\n",
      "2024-03-28 21:13:56,915 preprocess.py-1347-normalize_default(): INFO\n",
      " No copy was made, the input AnnData will be changed!\n",
      "2024-03-28 21:13:56,916 preprocess.py-1348-normalize_default(): INFO\n",
      " normalizing datasets with default settings.\n",
      "2024-03-28 21:13:56,917 preprocess.py-1350-normalize_default(): INFO\n",
      " performing total-sum normalization, target_sum=None...\n"
     ]
    },
    {
     "name": "stdout",
     "output_type": "stream",
     "text": [
      "WARNING: adata.X seems to be already log-transformed.\n"
     ]
    },
    {
     "name": "stderr",
     "output_type": "stream",
     "text": [
      "2024-03-28 21:13:57,167 preprocess.py-1517-wrapper_scale(): INFO\n",
      " using the build-in function `sc.pp.scale(..)`\n",
      "2024-03-28 21:17:30,722 preprocess.py-2252-get_leiden_labels(): INFO\n",
      " Leiden results:\n",
      "0      763\n",
      "1      684\n",
      "2      614\n",
      "3      571\n",
      "4      501\n",
      "      ... \n",
      "233     26\n",
      "234     25\n",
      "235     20\n",
      "236     20\n",
      "237     12\n",
      "Name: clust_lbs, Length: 238, dtype: int64\n"
     ]
    },
    {
     "name": "stdout",
     "output_type": "stream",
     "text": [
      "[leiden] Time used:  208.4431 s\n"
     ]
    },
    {
     "name": "stderr",
     "output_type": "stream",
     "text": [
      "2024-03-28 21:17:33,696 preprocess.py-2252-get_leiden_labels(): INFO\n",
      " Leiden results:\n",
      "0      198\n",
      "1      174\n",
      "2      114\n",
      "3       91\n",
      "4       79\n",
      "      ... \n",
      "172     10\n",
      "173     10\n",
      "174      8\n",
      "175      8\n",
      "176      8\n",
      "Name: clust_lbs, Length: 177, dtype: int64\n",
      "2024-03-28 21:17:33,699 preprocess.py-2205-compute_and_get_DEGs(): INFO\n",
      " computing differentially expressed genes using t-test\n",
      "2024-03-28 21:17:33,700 preprocess.py-2210-compute_and_get_DEGs(): INFO\n",
      " computing differential expression genes using default settings(assume that the expression values are already normalized)\n",
      "2024-03-28 21:17:33,702 preprocess.py-1119-remove_small_groups(): INFO\n",
      " groups to be removed:\n",
      "\t[]\n"
     ]
    },
    {
     "name": "stdout",
     "output_type": "stream",
     "text": [
      "[leiden] Time used:  2.9695 s\n"
     ]
    },
    {
     "name": "stderr",
     "output_type": "stream",
     "text": [
      "... storing 'cluster_region' as categorical\n",
      "2024-03-28 21:17:36,644 preprocess.py-2205-compute_and_get_DEGs(): INFO\n",
      " computing differentially expressed genes using t-test\n",
      "2024-03-28 21:17:36,645 preprocess.py-2210-compute_and_get_DEGs(): INFO\n",
      " computing differential expression genes using default settings(assume that the expression values are already normalized)\n",
      "2024-03-28 21:17:36,647 preprocess.py-1119-remove_small_groups(): INFO\n",
      " groups to be removed:\n",
      "\t[]\n",
      "... storing 'cluster_region' as categorical\n",
      "2024-03-28 21:18:29,058 preprocess.py-2205-compute_and_get_DEGs(): INFO\n",
      " computing differentially expressed genes using t-test\n",
      "2024-03-28 21:18:29,061 preprocess.py-2210-compute_and_get_DEGs(): INFO\n",
      " computing differential expression genes using default settings(assume that the expression values are already normalized)\n",
      "2024-03-28 21:18:29,063 preprocess.py-1119-remove_small_groups(): INFO\n",
      " groups to be removed:\n",
      "\t[]\n",
      "... storing 'cluster_region' as categorical\n",
      "2024-03-28 21:18:29,549 preprocess.py-2205-compute_and_get_DEGs(): INFO\n",
      " computing differentially expressed genes using t-test\n",
      "2024-03-28 21:18:29,550 preprocess.py-2210-compute_and_get_DEGs(): INFO\n",
      " computing differential expression genes using default settings(assume that the expression values are already normalized)\n",
      "2024-03-28 21:18:29,552 preprocess.py-1119-remove_small_groups(): INFO\n",
      " groups to be removed:\n",
      "\t[]\n",
      "... storing 'cluster_region' as categorical\n"
     ]
    },
    {
     "name": "stdout",
     "output_type": "stream",
     "text": [
      "2024-03-28 21:18:39,132 Running CAME and analysis INFO: came_results:\n"
     ]
    },
    {
     "name": "stderr",
     "output_type": "stream",
     "text": [
      "2024-03-28 21:18:39,132 ttest_plot_utils_origin.py-297-run_came(): INFO\n",
      " came_results:\n",
      "2024-03-28 21:18:39,137 preprocess.py-1347-normalize_default(): INFO\n",
      " No copy was made, the input AnnData will be changed!\n",
      "2024-03-28 21:18:39,137 preprocess.py-1348-normalize_default(): INFO\n",
      " normalizing datasets with default settings.\n",
      "2024-03-28 21:18:39,138 preprocess.py-1350-normalize_default(): INFO\n",
      " performing total-sum normalization, target_sum=None...\n"
     ]
    },
    {
     "name": "stdout",
     "output_type": "stream",
     "text": [
      "already exists:\n",
      "\tResults/initial_embedding/Macaque-Mouse/figs\n",
      "already exists:\n",
      "\tResults/initial_embedding/Macaque-Mouse\n",
      "WARNING: adata.X seems to be already log-transformed.\n"
     ]
    },
    {
     "name": "stderr",
     "output_type": "stream",
     "text": [
      "2024-03-28 21:18:39,249 preprocess.py-1347-normalize_default(): INFO\n",
      " No copy was made, the input AnnData will be changed!\n",
      "2024-03-28 21:18:39,250 preprocess.py-1348-normalize_default(): INFO\n",
      " normalizing datasets with default settings.\n",
      "2024-03-28 21:18:39,251 preprocess.py-1350-normalize_default(): INFO\n",
      " performing total-sum normalization, target_sum=None...\n"
     ]
    },
    {
     "name": "stdout",
     "output_type": "stream",
     "text": [
      "WARNING: adata.X seems to be already log-transformed.\n"
     ]
    },
    {
     "name": "stderr",
     "output_type": "stream",
     "text": [
      "2024-03-28 21:18:39,279 pipeline.py-425-main_for_unaligned(): INFO\n",
      " preparing DataPair object...\n",
      "2024-03-28 21:18:39,856 preprocess.py-859-reduce_to_align_features(): INFO\n",
      " [AdjacentTrans] reduce features to align, trans_to=0\n",
      "2024-03-28 21:18:40,159 preprocess.py-849-reduce_to_align(): INFO\n",
      " [AdjacentTrans] reduce to align, trans_to=0\n"
     ]
    },
    {
     "name": "stdout",
     "output_type": "stream",
     "text": [
      "trans.shape= (1618, 1620)\n",
      "[*] Setting dataset names:\n",
      "\t0-->Macaque\n",
      "\t1-->Mouse\n",
      "[*] Setting aligned features for observation nodes (self._features)\n",
      "[*] Setting un-aligned features (`self._ov_adjs`) for making links connecting observation and variable nodes\n",
      "[*] Setting adjacent matrix connecting variables from these 2 datasets (`self._vv_adj`)\n",
      "-------------------- Summary of the DGL-Heterograph --------------------\n",
      "Graph(num_nodes={'cell': 33039, 'gene': 11574},\n",
      "      num_edges={('cell', 'express', 'gene'): 11487498, ('cell', 'self_loop_cell', 'cell'): 33039, ('cell', 'similar_to', 'cell'): 219628, ('gene', 'expressed_by', 'cell'): 11487498, ('gene', 'homolog_with', 'gene'): 20314},\n",
      "      metagraph=[('cell', 'gene', 'express'), ('cell', 'cell', 'self_loop_cell'), ('cell', 'cell', 'similar_to'), ('gene', 'cell', 'expressed_by'), ('gene', 'gene', 'homolog_with')])\n",
      "second-order connection: False\n",
      "self-loops for observation-nodes: True\n",
      "self-loops for variable-nodes: True\n",
      "\n",
      "DataPair with 33039 obs- and 11574 var-nodes\n",
      "obs1 x var1 (Macaque): 28499 x 6340\n",
      "obs2 x var2 (Mouse): 4540 x 5234\n",
      "Dimensions of the obs-node-features: 1618\n"
     ]
    },
    {
     "name": "stderr",
     "output_type": "stream",
     "text": [
      "2024-03-28 21:18:42,030 pipeline.py-441-main_for_unaligned(): INFO\n",
      " dict_keys(['classes', 'g', 'feat_dict', 'train_labels', 'test_labels', 'train_idx', 'test_idx', 'cluster_labels'])\n",
      "2024-03-28 21:18:42,031 base.py-113-save_json_dict(): INFO\n",
      " Results/initial_embedding/Macaque-Mouse/model_params.json\n"
     ]
    },
    {
     "name": "stdout",
     "output_type": "stream",
     "text": [
      "main directory: Results/initial_embedding/Macaque-Mouse\n",
      "model directory: Results/initial_embedding/Macaque-Mouse/_models\n",
      "self.classes [0, 1, 2, 3, 4, 5, 6, 7, 8]\n",
      "len of self.classes 9\n",
      "self.classes [9, 10, 11, 12, 13]\n",
      "len of self.classes 5\n",
      "train_idx tensor([    0,     1,     2,  ..., 28496, 28497, 28498])\n",
      "train_idx type <class 'torch.Tensor'>\n",
      "============== start training (device='cpu') ===============\n"
     ]
    },
    {
     "name": "stderr",
     "output_type": "stream",
     "text": [
      "100%|██████████| 17/17 [00:09<00:00,  1.77it/s]\n",
      "100%|██████████| 3/3 [00:00<00:00,  5.63it/s]\n"
     ]
    },
    {
     "name": "stdout",
     "output_type": "stream",
     "text": [
      "Epoch 0000 | Train Acc: 0.5119 | Test: 0.0002 (max=0.0002) | AMI=-0.0001 | Time: 10.1986\n"
     ]
    },
    {
     "name": "stderr",
     "output_type": "stream",
     "text": [
      "100%|██████████| 17/17 [00:09<00:00,  1.81it/s]\n",
      "100%|██████████| 3/3 [00:00<00:00,  5.31it/s]\n",
      "100%|██████████| 17/17 [00:09<00:00,  1.87it/s]\n",
      "100%|██████████| 3/3 [00:00<00:00,  5.63it/s]\n",
      "100%|██████████| 17/17 [00:09<00:00,  1.87it/s]\n",
      "100%|██████████| 3/3 [00:00<00:00,  5.94it/s]\n"
     ]
    },
    {
     "name": "stdout",
     "output_type": "stream",
     "text": [
      "Epoch 0003 | Train Acc: 0.6376 | Test: 0.6839 (max=0.6839) | AMI=-0.0001 | Time: 9.8796\n"
     ]
    },
    {
     "name": "stderr",
     "output_type": "stream",
     "text": [
      "100%|██████████| 17/17 [00:08<00:00,  1.92it/s]\n",
      "100%|██████████| 3/3 [00:00<00:00,  6.44it/s]\n",
      "100%|██████████| 17/17 [00:08<00:00,  1.94it/s]\n",
      "100%|██████████| 3/3 [00:00<00:00,  6.00it/s]\n",
      "100%|██████████| 17/17 [00:11<00:00,  1.53it/s]\n",
      "100%|██████████| 3/3 [00:00<00:00,  5.95it/s]\n"
     ]
    },
    {
     "name": "stdout",
     "output_type": "stream",
     "text": [
      "Epoch 0006 | Train Acc: 0.6502 | Test: 0.6839 (max=0.6839) | AMI=-0.0001 | Time: 9.9830\n"
     ]
    },
    {
     "name": "stderr",
     "output_type": "stream",
     "text": [
      "100%|██████████| 17/17 [00:15<00:00,  1.08it/s]\n",
      "100%|██████████| 3/3 [00:00<00:00,  6.03it/s]\n",
      "100%|██████████| 17/17 [00:09<00:00,  1.86it/s]\n",
      "100%|██████████| 3/3 [00:00<00:00,  5.04it/s]\n",
      "100%|██████████| 17/17 [00:09<00:00,  1.85it/s]\n",
      "100%|██████████| 3/3 [00:00<00:00,  6.22it/s]\n"
     ]
    },
    {
     "name": "stdout",
     "output_type": "stream",
     "text": [
      "Epoch 0009 | Train Acc: 0.6658 | Test: 0.6841 (max=0.6848) | AMI=-0.0003 | Time: 10.5645\n"
     ]
    },
    {
     "name": "stderr",
     "output_type": "stream",
     "text": [
      "100%|██████████| 17/17 [00:15<00:00,  1.13it/s]\n",
      "100%|██████████| 3/3 [00:00<00:00,  4.93it/s]\n",
      "100%|██████████| 17/17 [00:08<00:00,  1.92it/s]\n",
      "100%|██████████| 3/3 [00:01<00:00,  1.74it/s]\n",
      "100%|██████████| 17/17 [00:09<00:00,  1.85it/s]\n",
      "100%|██████████| 3/3 [00:00<00:00,  6.09it/s]\n"
     ]
    },
    {
     "name": "stdout",
     "output_type": "stream",
     "text": [
      "Epoch 0012 | Train Acc: 0.7049 | Test: 0.7703 (max=0.7703) | AMI=0.1274 | Time: 10.8997\n"
     ]
    },
    {
     "name": "stderr",
     "output_type": "stream",
     "text": [
      "100%|██████████| 17/17 [00:08<00:00,  1.89it/s]\n",
      "100%|██████████| 3/3 [00:00<00:00,  5.76it/s]\n",
      "100%|██████████| 17/17 [00:09<00:00,  1.84it/s]\n",
      "100%|██████████| 3/3 [00:00<00:00,  5.50it/s]\n",
      "100%|██████████| 17/17 [00:08<00:00,  1.97it/s]\n",
      "100%|██████████| 3/3 [00:00<00:00,  5.48it/s]\n"
     ]
    },
    {
     "name": "stdout",
     "output_type": "stream",
     "text": [
      "Epoch 0015 | Train Acc: 0.7464 | Test: 0.7758 (max=0.7758) | AMI=0.1563 | Time: 10.6442\n"
     ]
    },
    {
     "name": "stderr",
     "output_type": "stream",
     "text": [
      "100%|██████████| 17/17 [00:08<00:00,  1.91it/s]\n",
      "100%|██████████| 3/3 [00:00<00:00,  5.99it/s]\n",
      "100%|██████████| 17/17 [00:08<00:00,  1.93it/s]\n",
      "100%|██████████| 3/3 [00:00<00:00,  6.00it/s]\n",
      "100%|██████████| 17/17 [00:08<00:00,  1.93it/s]\n",
      "100%|██████████| 3/3 [00:00<00:00,  6.31it/s]\n"
     ]
    },
    {
     "name": "stdout",
     "output_type": "stream",
     "text": [
      "Epoch 0018 | Train Acc: 0.7711 | Test: 0.8053 (max=0.8262) | AMI=0.1419 | Time: 10.4458\n"
     ]
    },
    {
     "name": "stderr",
     "output_type": "stream",
     "text": [
      "100%|██████████| 17/17 [00:08<00:00,  1.92it/s]\n",
      "100%|██████████| 3/3 [00:00<00:00,  6.00it/s]\n",
      "100%|██████████| 17/17 [00:08<00:00,  1.96it/s]\n",
      "100%|██████████| 3/3 [00:00<00:00,  6.19it/s]\n",
      "100%|██████████| 17/17 [00:08<00:00,  1.92it/s]\n",
      "100%|██████████| 3/3 [00:00<00:00,  5.87it/s]\n"
     ]
    },
    {
     "name": "stdout",
     "output_type": "stream",
     "text": [
      "Epoch 0021 | Train Acc: 0.7918 | Test: 0.9216 (max=0.9216) | AMI=0.1916 | Time: 10.2941\n"
     ]
    },
    {
     "name": "stderr",
     "output_type": "stream",
     "text": [
      "100%|██████████| 17/17 [00:08<00:00,  1.91it/s]\n",
      "100%|██████████| 3/3 [00:00<00:00,  5.17it/s]\n",
      "100%|██████████| 17/17 [00:09<00:00,  1.87it/s]\n",
      "100%|██████████| 3/3 [00:00<00:00,  5.94it/s]\n",
      "100%|██████████| 17/17 [00:08<00:00,  1.99it/s]\n",
      "100%|██████████| 3/3 [00:00<00:00,  5.83it/s]\n"
     ]
    },
    {
     "name": "stdout",
     "output_type": "stream",
     "text": [
      "Epoch 0024 | Train Acc: 0.8070 | Test: 0.9434 (max=0.9434) | AMI=0.2191 | Time: 10.1887\n"
     ]
    },
    {
     "name": "stderr",
     "output_type": "stream",
     "text": [
      "100%|██████████| 17/17 [00:08<00:00,  1.95it/s]\n",
      "100%|██████████| 3/3 [00:00<00:00,  5.73it/s]\n",
      "100%|██████████| 17/17 [00:09<00:00,  1.89it/s]\n",
      "100%|██████████| 3/3 [00:00<00:00,  6.14it/s]\n",
      "100%|██████████| 17/17 [00:09<00:00,  1.82it/s]\n",
      "100%|██████████| 3/3 [00:00<00:00,  6.40it/s]\n"
     ]
    },
    {
     "name": "stdout",
     "output_type": "stream",
     "text": [
      "Epoch 0027 | Train Acc: 0.8218 | Test: 0.9496 (max=0.9529) | AMI=0.2116 | Time: 10.1210\n"
     ]
    },
    {
     "name": "stderr",
     "output_type": "stream",
     "text": [
      "100%|██████████| 17/17 [00:08<00:00,  1.89it/s]\n",
      "100%|██████████| 3/3 [00:00<00:00,  5.98it/s]\n",
      "100%|██████████| 17/17 [00:09<00:00,  1.89it/s]\n",
      "100%|██████████| 3/3 [00:00<00:00,  6.00it/s]\n",
      "100%|██████████| 17/17 [00:09<00:00,  1.86it/s]\n",
      "100%|██████████| 3/3 [00:00<00:00,  6.28it/s]\n"
     ]
    },
    {
     "name": "stdout",
     "output_type": "stream",
     "text": [
      "Epoch 0030 | Train Acc: 0.8225 | Test: 0.9515 (max=0.9529) | AMI=0.2156 | Time: 10.0693\n"
     ]
    },
    {
     "name": "stderr",
     "output_type": "stream",
     "text": [
      "100%|██████████| 17/17 [00:08<00:00,  1.92it/s]\n",
      "100%|██████████| 3/3 [00:00<00:00,  6.07it/s]\n",
      "100%|██████████| 17/17 [00:08<00:00,  1.94it/s]\n",
      "100%|██████████| 3/3 [00:00<00:00,  5.13it/s]\n",
      "100%|██████████| 17/17 [00:08<00:00,  1.94it/s]\n",
      "100%|██████████| 3/3 [00:00<00:00,  5.79it/s]\n"
     ]
    },
    {
     "name": "stdout",
     "output_type": "stream",
     "text": [
      "Epoch 0033 | Train Acc: 0.8309 | Test: 0.9383 (max=0.9570) | AMI=0.1969 | Time: 10.0074\n"
     ]
    },
    {
     "name": "stderr",
     "output_type": "stream",
     "text": [
      "100%|██████████| 17/17 [00:09<00:00,  1.89it/s]\n",
      "100%|██████████| 3/3 [00:00<00:00,  5.86it/s]\n",
      "100%|██████████| 17/17 [00:08<00:00,  1.94it/s]\n",
      "100%|██████████| 3/3 [00:00<00:00,  5.72it/s]\n",
      "100%|██████████| 17/17 [00:08<00:00,  1.89it/s]\n",
      "100%|██████████| 3/3 [00:00<00:00,  6.09it/s]\n"
     ]
    },
    {
     "name": "stdout",
     "output_type": "stream",
     "text": [
      "Epoch 0036 | Train Acc: 0.8341 | Test: 0.9604 (max=0.9604) | AMI=0.2201 | Time: 9.9643\n"
     ]
    },
    {
     "name": "stderr",
     "output_type": "stream",
     "text": [
      "100%|██████████| 17/17 [00:08<00:00,  1.97it/s]\n",
      "100%|██████████| 3/3 [00:00<00:00,  5.92it/s]\n",
      "100%|██████████| 17/17 [00:09<00:00,  1.83it/s]\n",
      "100%|██████████| 3/3 [00:00<00:00,  6.06it/s]\n",
      "100%|██████████| 17/17 [00:08<00:00,  1.94it/s]\n",
      "100%|██████████| 3/3 [00:00<00:00,  5.77it/s]\n"
     ]
    },
    {
     "name": "stdout",
     "output_type": "stream",
     "text": [
      "Epoch 0039 | Train Acc: 0.8371 | Test: 0.9623 (max=0.9623) | AMI=0.2197 | Time: 9.9249\n"
     ]
    },
    {
     "name": "stderr",
     "output_type": "stream",
     "text": [
      "100%|██████████| 17/17 [00:08<00:00,  1.92it/s]\n",
      "100%|██████████| 3/3 [00:00<00:00,  5.94it/s]\n",
      "100%|██████████| 17/17 [00:09<00:00,  1.89it/s]\n",
      "100%|██████████| 3/3 [00:00<00:00,  6.06it/s]\n",
      "100%|██████████| 17/17 [00:08<00:00,  1.96it/s]\n",
      "100%|██████████| 3/3 [00:00<00:00,  6.03it/s]\n"
     ]
    },
    {
     "name": "stdout",
     "output_type": "stream",
     "text": [
      "Epoch 0042 | Train Acc: 0.8414 | Test: 0.9544 (max=0.9623) | AMI=0.2076 | Time: 9.8881\n"
     ]
    },
    {
     "name": "stderr",
     "output_type": "stream",
     "text": [
      "100%|██████████| 17/17 [00:08<00:00,  1.97it/s]\n",
      "100%|██████████| 3/3 [00:00<00:00,  5.91it/s]\n",
      "100%|██████████| 17/17 [00:08<00:00,  1.98it/s]\n",
      "100%|██████████| 3/3 [00:00<00:00,  6.03it/s]\n",
      "100%|██████████| 17/17 [00:08<00:00,  1.96it/s]\n",
      "100%|██████████| 3/3 [00:00<00:00,  5.79it/s]\n"
     ]
    },
    {
     "name": "stdout",
     "output_type": "stream",
     "text": [
      "Epoch 0045 | Train Acc: 0.8431 | Test: 0.9654 (max=0.9667) | AMI=0.2187 | Time: 9.8421\n"
     ]
    },
    {
     "name": "stderr",
     "output_type": "stream",
     "text": [
      "100%|██████████| 17/17 [00:08<00:00,  1.92it/s]\n",
      "100%|██████████| 3/3 [00:00<00:00,  5.90it/s]\n",
      "100%|██████████| 17/17 [00:08<00:00,  1.90it/s]\n",
      "100%|██████████| 3/3 [00:00<00:00,  6.09it/s]\n",
      "100%|██████████| 17/17 [00:08<00:00,  1.94it/s]\n",
      "100%|██████████| 3/3 [00:00<00:00,  5.95it/s]\n"
     ]
    },
    {
     "name": "stdout",
     "output_type": "stream",
     "text": [
      "Epoch 0048 | Train Acc: 0.8449 | Test: 0.9637 (max=0.9667) | AMI=0.2220 | Time: 9.8161\n"
     ]
    },
    {
     "name": "stderr",
     "output_type": "stream",
     "text": [
      "100%|██████████| 17/17 [00:08<00:00,  1.95it/s]\n",
      "100%|██████████| 3/3 [00:00<00:00,  6.09it/s]\n"
     ]
    },
    {
     "name": "stdout",
     "output_type": "stream",
     "text": [
      "[current best] model weights backup\n",
      "Epoch 0049 | Train Acc: 0.8458 | Test: 0.9667 (max=0.9667) | AMI=0.2204 | Time: 9.8054\n"
     ]
    },
    {
     "name": "stderr",
     "output_type": "stream",
     "text": [
      "100%|██████████| 17/17 [00:08<00:00,  1.96it/s]\n",
      "100%|██████████| 3/3 [00:00<00:00,  5.91it/s]\n",
      "100%|██████████| 17/17 [00:08<00:00,  1.93it/s]\n",
      "100%|██████████| 3/3 [00:00<00:00,  5.97it/s]\n"
     ]
    },
    {
     "name": "stdout",
     "output_type": "stream",
     "text": [
      "Epoch 0051 | Train Acc: 0.8497 | Test: 0.9678 (max=0.9678) | AMI=0.2176 | Time: 9.7857\n"
     ]
    },
    {
     "name": "stderr",
     "output_type": "stream",
     "text": [
      "100%|██████████| 17/17 [00:08<00:00,  1.93it/s]\n",
      "100%|██████████| 3/3 [00:00<00:00,  6.09it/s]\n"
     ]
    },
    {
     "name": "stdout",
     "output_type": "stream",
     "text": [
      "[current best] model weights backup\n",
      "Epoch 0052 | Train Acc: 0.8469 | Test: 0.9654 (max=0.9678) | AMI=0.2231 | Time: 9.7782\n"
     ]
    },
    {
     "name": "stderr",
     "output_type": "stream",
     "text": [
      "100%|██████████| 17/17 [00:09<00:00,  1.87it/s]\n",
      "100%|██████████| 3/3 [00:00<00:00,  5.81it/s]\n",
      "100%|██████████| 17/17 [00:08<00:00,  1.93it/s]\n",
      "100%|██████████| 3/3 [00:00<00:00,  6.12it/s]\n"
     ]
    },
    {
     "name": "stdout",
     "output_type": "stream",
     "text": [
      "Epoch 0054 | Train Acc: 0.8514 | Test: 0.9689 (max=0.9689) | AMI=0.2209 | Time: 9.7679\n"
     ]
    },
    {
     "name": "stderr",
     "output_type": "stream",
     "text": [
      "100%|██████████| 17/17 [00:08<00:00,  1.97it/s]\n",
      "100%|██████████| 3/3 [00:00<00:00,  5.96it/s]\n",
      "100%|██████████| 17/17 [00:08<00:00,  1.96it/s]\n",
      "100%|██████████| 3/3 [00:00<00:00,  5.96it/s]\n",
      "100%|██████████| 17/17 [00:08<00:00,  1.92it/s]\n",
      "100%|██████████| 3/3 [00:00<00:00,  5.83it/s]\n"
     ]
    },
    {
     "name": "stdout",
     "output_type": "stream",
     "text": [
      "Epoch 0057 | Train Acc: 0.8529 | Test: 0.9687 (max=0.9689) | AMI=0.2177 | Time: 9.7426\n"
     ]
    },
    {
     "name": "stderr",
     "output_type": "stream",
     "text": [
      "100%|██████████| 17/17 [00:08<00:00,  1.91it/s]\n",
      "100%|██████████| 3/3 [00:00<00:00,  5.94it/s]\n",
      "100%|██████████| 17/17 [00:08<00:00,  1.94it/s]\n",
      "100%|██████████| 3/3 [00:00<00:00,  5.62it/s]\n",
      "100%|██████████| 17/17 [00:08<00:00,  1.96it/s]\n",
      "100%|██████████| 3/3 [00:00<00:00,  5.50it/s]\n"
     ]
    },
    {
     "name": "stdout",
     "output_type": "stream",
     "text": [
      "Epoch 0060 | Train Acc: 0.8507 | Test: 0.9665 (max=0.9689) | AMI=0.2179 | Time: 9.7239\n"
     ]
    },
    {
     "name": "stderr",
     "output_type": "stream",
     "text": [
      "100%|██████████| 17/17 [00:09<00:00,  1.83it/s]\n",
      "100%|██████████| 3/3 [00:00<00:00,  6.23it/s]\n",
      "100%|██████████| 17/17 [00:08<00:00,  1.93it/s]\n",
      "100%|██████████| 3/3 [00:00<00:00,  5.89it/s]\n",
      "100%|██████████| 17/17 [00:08<00:00,  1.93it/s]\n",
      "100%|██████████| 3/3 [00:00<00:00,  5.97it/s]\n"
     ]
    },
    {
     "name": "stdout",
     "output_type": "stream",
     "text": [
      "Epoch 0063 | Train Acc: 0.8564 | Test: 0.9681 (max=0.9692) | AMI=0.2198 | Time: 9.7137\n"
     ]
    },
    {
     "name": "stderr",
     "output_type": "stream",
     "text": [
      "100%|██████████| 17/17 [00:08<00:00,  1.95it/s]\n",
      "100%|██████████| 3/3 [00:00<00:00,  5.48it/s]\n",
      "100%|██████████| 17/17 [00:09<00:00,  1.76it/s]\n",
      "100%|██████████| 3/3 [00:00<00:00,  5.95it/s]\n",
      "100%|██████████| 17/17 [00:10<00:00,  1.59it/s]\n",
      "100%|██████████| 3/3 [00:00<00:00,  5.51it/s]\n"
     ]
    },
    {
     "name": "stdout",
     "output_type": "stream",
     "text": [
      "Epoch 0066 | Train Acc: 0.8639 | Test: 0.9681 (max=0.9692) | AMI=0.2181 | Time: 9.7390\n"
     ]
    },
    {
     "name": "stderr",
     "output_type": "stream",
     "text": [
      "100%|██████████| 17/17 [00:09<00:00,  1.89it/s]\n",
      "100%|██████████| 3/3 [00:00<00:00,  5.79it/s]\n",
      "100%|██████████| 17/17 [00:08<00:00,  1.91it/s]\n",
      "100%|██████████| 3/3 [00:00<00:00,  5.88it/s]\n",
      "100%|██████████| 17/17 [00:09<00:00,  1.86it/s]\n",
      "100%|██████████| 3/3 [00:00<00:00,  5.16it/s]\n"
     ]
    },
    {
     "name": "stdout",
     "output_type": "stream",
     "text": [
      "Epoch 0069 | Train Acc: 0.8624 | Test: 0.9696 (max=0.9696) | AMI=0.2200 | Time: 9.7333\n"
     ]
    },
    {
     "name": "stderr",
     "output_type": "stream",
     "text": [
      "100%|██████████| 17/17 [00:10<00:00,  1.56it/s]\n",
      "100%|██████████| 3/3 [00:00<00:00,  5.74it/s]\n",
      "100%|██████████| 17/17 [00:10<00:00,  1.64it/s]\n",
      "100%|██████████| 3/3 [00:00<00:00,  5.68it/s]\n",
      "100%|██████████| 17/17 [00:08<00:00,  1.90it/s]\n",
      "100%|██████████| 3/3 [00:00<00:00,  6.39it/s]\n"
     ]
    },
    {
     "name": "stdout",
     "output_type": "stream",
     "text": [
      "Epoch 0072 | Train Acc: 0.8668 | Test: 0.9667 (max=0.9696) | AMI=0.2199 | Time: 9.7696\n"
     ]
    },
    {
     "name": "stderr",
     "output_type": "stream",
     "text": [
      "100%|██████████| 17/17 [00:08<00:00,  1.96it/s]\n",
      "100%|██████████| 3/3 [00:00<00:00,  5.95it/s]\n",
      "100%|██████████| 17/17 [00:09<00:00,  1.73it/s]\n",
      "100%|██████████| 3/3 [00:00<00:00,  5.92it/s]\n",
      "100%|██████████| 17/17 [00:11<00:00,  1.47it/s]\n",
      "100%|██████████| 3/3 [00:00<00:00,  5.68it/s]\n"
     ]
    },
    {
     "name": "stdout",
     "output_type": "stream",
     "text": [
      "Epoch 0075 | Train Acc: 0.8689 | Test: 0.9687 (max=0.9700) | AMI=0.2203 | Time: 9.8022\n"
     ]
    },
    {
     "name": "stderr",
     "output_type": "stream",
     "text": [
      "100%|██████████| 17/17 [00:08<00:00,  1.89it/s]\n",
      "100%|██████████| 3/3 [00:00<00:00,  5.76it/s]\n",
      "100%|██████████| 17/17 [00:09<00:00,  1.88it/s]\n",
      "100%|██████████| 3/3 [00:00<00:00,  5.84it/s]\n",
      "100%|██████████| 17/17 [00:09<00:00,  1.84it/s]\n",
      "100%|██████████| 3/3 [00:00<00:00,  5.63it/s]\n"
     ]
    },
    {
     "name": "stdout",
     "output_type": "stream",
     "text": [
      "Epoch 0078 | Train Acc: 0.8727 | Test: 0.9683 (max=0.9700) | AMI=0.2213 | Time: 9.7971\n"
     ]
    },
    {
     "name": "stderr",
     "output_type": "stream",
     "text": [
      "100%|██████████| 17/17 [00:09<00:00,  1.79it/s]\n",
      "100%|██████████| 3/3 [00:00<00:00,  5.34it/s]\n",
      "100%|██████████| 17/17 [00:09<00:00,  1.87it/s]\n",
      "100%|██████████| 3/3 [00:00<00:00,  5.72it/s]\n",
      "100%|██████████| 17/17 [00:08<00:00,  1.89it/s]\n",
      "100%|██████████| 3/3 [00:00<00:00,  5.42it/s]\n"
     ]
    },
    {
     "name": "stdout",
     "output_type": "stream",
     "text": [
      "Epoch 0081 | Train Acc: 0.8763 | Test: 0.9685 (max=0.9700) | AMI=0.2179 | Time: 9.7969\n"
     ]
    },
    {
     "name": "stderr",
     "output_type": "stream",
     "text": [
      "100%|██████████| 17/17 [00:08<00:00,  1.92it/s]\n",
      "100%|██████████| 3/3 [00:00<00:00,  5.83it/s]\n",
      "100%|██████████| 17/17 [00:08<00:00,  1.89it/s]\n",
      "100%|██████████| 3/3 [00:00<00:00,  5.99it/s]\n",
      "100%|██████████| 17/17 [00:09<00:00,  1.87it/s]\n",
      "100%|██████████| 3/3 [00:00<00:00,  5.68it/s]\n"
     ]
    },
    {
     "name": "stdout",
     "output_type": "stream",
     "text": [
      "Epoch 0084 | Train Acc: 0.8742 | Test: 0.9681 (max=0.9700) | AMI=0.2198 | Time: 9.7878\n"
     ]
    },
    {
     "name": "stderr",
     "output_type": "stream",
     "text": [
      "100%|██████████| 17/17 [00:09<00:00,  1.88it/s]\n",
      "100%|██████████| 3/3 [00:00<00:00,  5.88it/s]\n",
      "100%|██████████| 17/17 [00:08<00:00,  1.95it/s]\n",
      "100%|██████████| 3/3 [00:00<00:00,  5.86it/s]\n",
      "100%|██████████| 17/17 [00:08<00:00,  1.97it/s]\n",
      "100%|██████████| 3/3 [00:00<00:00,  5.86it/s]\n"
     ]
    },
    {
     "name": "stdout",
     "output_type": "stream",
     "text": [
      "Epoch 0087 | Train Acc: 0.8765 | Test: 0.9696 (max=0.9700) | AMI=0.2160 | Time: 9.7733\n"
     ]
    },
    {
     "name": "stderr",
     "output_type": "stream",
     "text": [
      "100%|██████████| 17/17 [00:08<00:00,  1.94it/s]\n",
      "100%|██████████| 3/3 [00:00<00:00,  5.88it/s]\n",
      "100%|██████████| 17/17 [00:08<00:00,  1.94it/s]\n",
      "100%|██████████| 3/3 [00:00<00:00,  5.92it/s]\n",
      "100%|██████████| 17/17 [00:08<00:00,  1.99it/s]\n",
      "100%|██████████| 3/3 [00:00<00:00,  5.92it/s]\n"
     ]
    },
    {
     "name": "stdout",
     "output_type": "stream",
     "text": [
      "Epoch 0090 | Train Acc: 0.8757 | Test: 0.9685 (max=0.9700) | AMI=0.2188 | Time: 9.7564\n"
     ]
    },
    {
     "name": "stderr",
     "output_type": "stream",
     "text": [
      "100%|██████████| 17/17 [00:09<00:00,  1.83it/s]\n",
      "100%|██████████| 3/3 [00:00<00:00,  6.15it/s]\n",
      "100%|██████████| 17/17 [00:08<00:00,  1.92it/s]\n",
      "100%|██████████| 3/3 [00:00<00:00,  5.99it/s]\n",
      "100%|██████████| 17/17 [00:08<00:00,  1.89it/s]\n",
      "100%|██████████| 3/3 [00:00<00:00,  5.94it/s]\n"
     ]
    },
    {
     "name": "stdout",
     "output_type": "stream",
     "text": [
      "Epoch 0093 | Train Acc: 0.8806 | Test: 0.9694 (max=0.9700) | AMI=0.2184 | Time: 9.7513\n"
     ]
    },
    {
     "name": "stderr",
     "output_type": "stream",
     "text": [
      "100%|██████████| 17/17 [00:08<00:00,  1.93it/s]\n",
      "100%|██████████| 3/3 [00:00<00:00,  5.97it/s]\n",
      "100%|██████████| 17/17 [00:08<00:00,  1.96it/s]\n",
      "100%|██████████| 3/3 [00:00<00:00,  5.70it/s]\n",
      "100%|██████████| 17/17 [00:09<00:00,  1.79it/s]\n",
      "100%|██████████| 3/3 [00:00<00:00,  5.89it/s]\n"
     ]
    },
    {
     "name": "stdout",
     "output_type": "stream",
     "text": [
      "Epoch 0096 | Train Acc: 0.8791 | Test: 0.9689 (max=0.9700) | AMI=0.2180 | Time: 9.7458\n"
     ]
    },
    {
     "name": "stderr",
     "output_type": "stream",
     "text": [
      "100%|██████████| 17/17 [00:08<00:00,  1.92it/s]\n",
      "100%|██████████| 3/3 [00:00<00:00,  5.86it/s]\n",
      "100%|██████████| 17/17 [00:09<00:00,  1.88it/s]\n",
      "100%|██████████| 3/3 [00:00<00:00,  5.81it/s]\n",
      "100%|██████████| 17/17 [00:09<00:00,  1.87it/s]\n",
      "100%|██████████| 3/3 [00:00<00:00,  5.69it/s]\n"
     ]
    },
    {
     "name": "stdout",
     "output_type": "stream",
     "text": [
      "Epoch 0099 | Train Acc: 0.8795 | Test: 0.9692 (max=0.9700) | AMI=0.2184 | Time: 9.7404\n"
     ]
    },
    {
     "name": "stderr",
     "output_type": "stream",
     "text": [
      "100%|██████████| 17/17 [00:10<00:00,  1.62it/s]\n",
      "100%|██████████| 3/3 [00:00<00:00,  5.13it/s]\n",
      "100%|██████████| 17/17 [00:09<00:00,  1.88it/s]\n",
      "100%|██████████| 3/3 [00:00<00:00,  5.90it/s]\n",
      "100%|██████████| 17/17 [00:17<00:00,  1.06s/it]\n",
      "100%|██████████| 3/3 [00:00<00:00,  5.84it/s]\n"
     ]
    },
    {
     "name": "stdout",
     "output_type": "stream",
     "text": [
      "Epoch 0102 | Train Acc: 0.8805 | Test: 0.9674 (max=0.9700) | AMI=0.2171 | Time: 9.8376\n"
     ]
    },
    {
     "name": "stderr",
     "output_type": "stream",
     "text": [
      "100%|██████████| 17/17 [00:08<00:00,  1.90it/s]\n",
      "100%|██████████| 3/3 [00:00<00:00,  5.71it/s]\n",
      "100%|██████████| 17/17 [00:09<00:00,  1.82it/s]\n",
      "100%|██████████| 3/3 [00:00<00:00,  5.95it/s]\n",
      "100%|██████████| 17/17 [00:09<00:00,  1.85it/s]\n",
      "100%|██████████| 3/3 [00:00<00:00,  5.89it/s]\n"
     ]
    },
    {
     "name": "stdout",
     "output_type": "stream",
     "text": [
      "Epoch 0105 | Train Acc: 0.8809 | Test: 0.9707 (max=0.9707) | AMI=0.2199 | Time: 9.8343\n"
     ]
    },
    {
     "name": "stderr",
     "output_type": "stream",
     "text": [
      "100%|██████████| 17/17 [00:21<00:00,  1.28s/it]\n",
      "100%|██████████| 3/3 [00:00<00:00,  5.97it/s]\n",
      "100%|██████████| 17/17 [00:08<00:00,  1.90it/s]\n",
      "100%|██████████| 3/3 [00:00<00:00,  5.98it/s]\n",
      "100%|██████████| 17/17 [00:08<00:00,  1.93it/s]\n",
      "100%|██████████| 3/3 [00:00<00:00,  5.97it/s]\n"
     ]
    },
    {
     "name": "stdout",
     "output_type": "stream",
     "text": [
      "Epoch 0108 | Train Acc: 0.8818 | Test: 0.9667 (max=0.9707) | AMI=0.2199 | Time: 9.9417\n"
     ]
    },
    {
     "name": "stderr",
     "output_type": "stream",
     "text": [
      "100%|██████████| 17/17 [00:08<00:00,  1.95it/s]\n",
      "100%|██████████| 3/3 [00:00<00:00,  5.94it/s]\n",
      "100%|██████████| 17/17 [00:08<00:00,  1.96it/s]\n",
      "100%|██████████| 3/3 [00:00<00:00,  5.95it/s]\n",
      "100%|██████████| 17/17 [00:08<00:00,  1.94it/s]\n",
      "100%|██████████| 3/3 [00:00<00:00,  5.99it/s]\n"
     ]
    },
    {
     "name": "stdout",
     "output_type": "stream",
     "text": [
      "Epoch 0111 | Train Acc: 0.8830 | Test: 0.9700 (max=0.9707) | AMI=0.2200 | Time: 9.9236\n"
     ]
    },
    {
     "name": "stderr",
     "output_type": "stream",
     "text": [
      "100%|██████████| 17/17 [00:08<00:00,  1.97it/s]\n",
      "100%|██████████| 3/3 [00:00<00:00,  5.93it/s]\n",
      "100%|██████████| 17/17 [00:08<00:00,  1.94it/s]\n",
      "100%|██████████| 3/3 [00:00<00:00,  5.92it/s]\n",
      "100%|██████████| 17/17 [00:08<00:00,  1.91it/s]\n",
      "100%|██████████| 3/3 [00:00<00:00,  5.93it/s]\n"
     ]
    },
    {
     "name": "stdout",
     "output_type": "stream",
     "text": [
      "Epoch 0114 | Train Acc: 0.8822 | Test: 0.9681 (max=0.9707) | AMI=0.2203 | Time: 9.9082\n"
     ]
    },
    {
     "name": "stderr",
     "output_type": "stream",
     "text": [
      "100%|██████████| 17/17 [00:09<00:00,  1.88it/s]\n",
      "100%|██████████| 3/3 [00:00<00:00,  5.71it/s]\n",
      "100%|██████████| 17/17 [00:09<00:00,  1.85it/s]\n",
      "100%|██████████| 3/3 [00:00<00:00,  5.47it/s]\n",
      "100%|██████████| 17/17 [00:09<00:00,  1.70it/s]\n",
      "100%|██████████| 3/3 [00:00<00:00,  5.50it/s]\n"
     ]
    },
    {
     "name": "stdout",
     "output_type": "stream",
     "text": [
      "Epoch 0117 | Train Acc: 0.8816 | Test: 0.9694 (max=0.9707) | AMI=0.2200 | Time: 9.9104\n"
     ]
    },
    {
     "name": "stderr",
     "output_type": "stream",
     "text": [
      "100%|██████████| 17/17 [00:10<00:00,  1.66it/s]\n",
      "100%|██████████| 3/3 [00:00<00:00,  5.55it/s]\n",
      "100%|██████████| 17/17 [00:11<00:00,  1.54it/s]\n",
      "100%|██████████| 3/3 [00:03<00:00,  1.03s/it]\n",
      "100%|██████████| 17/17 [00:08<00:00,  1.93it/s]\n",
      "100%|██████████| 3/3 [00:00<00:00,  5.83it/s]\n"
     ]
    },
    {
     "name": "stdout",
     "output_type": "stream",
     "text": [
      "Epoch 0120 | Train Acc: 0.8819 | Test: 0.9687 (max=0.9707) | AMI=0.2190 | Time: 9.9489\n"
     ]
    },
    {
     "name": "stderr",
     "output_type": "stream",
     "text": [
      "100%|██████████| 17/17 [00:09<00:00,  1.87it/s]\n",
      "100%|██████████| 3/3 [00:00<00:00,  4.33it/s]\n",
      "100%|██████████| 17/17 [00:09<00:00,  1.88it/s]\n",
      "100%|██████████| 3/3 [00:00<00:00,  5.75it/s]\n",
      "100%|██████████| 17/17 [00:17<00:00,  1.03s/it]\n",
      "100%|██████████| 3/3 [00:00<00:00,  6.03it/s]\n"
     ]
    },
    {
     "name": "stdout",
     "output_type": "stream",
     "text": [
      "Epoch 0123 | Train Acc: 0.8833 | Test: 0.9689 (max=0.9707) | AMI=0.2177 | Time: 10.0109\n"
     ]
    },
    {
     "name": "stderr",
     "output_type": "stream",
     "text": [
      "100%|██████████| 17/17 [00:08<00:00,  1.91it/s]\n",
      "100%|██████████| 3/3 [00:00<00:00,  5.95it/s]\n",
      "100%|██████████| 17/17 [00:08<00:00,  1.93it/s]\n",
      "100%|██████████| 3/3 [00:00<00:00,  5.73it/s]\n",
      "100%|██████████| 17/17 [00:08<00:00,  1.94it/s]\n",
      "100%|██████████| 3/3 [00:00<00:00,  5.85it/s]\n"
     ]
    },
    {
     "name": "stdout",
     "output_type": "stream",
     "text": [
      "Epoch 0126 | Train Acc: 0.8818 | Test: 0.9696 (max=0.9707) | AMI=0.2188 | Time: 9.9960\n"
     ]
    },
    {
     "name": "stderr",
     "output_type": "stream",
     "text": [
      "100%|██████████| 17/17 [00:08<00:00,  1.92it/s]\n",
      "100%|██████████| 3/3 [00:00<00:00,  5.90it/s]\n",
      "100%|██████████| 17/17 [00:09<00:00,  1.86it/s]\n",
      "100%|██████████| 3/3 [00:00<00:00,  4.91it/s]\n",
      "100%|██████████| 17/17 [00:09<00:00,  1.87it/s]\n",
      "100%|██████████| 3/3 [00:00<00:00,  5.88it/s]\n"
     ]
    },
    {
     "name": "stdout",
     "output_type": "stream",
     "text": [
      "Epoch 0138 | Train Acc: 0.8832 | Test: 0.9705 (max=0.9707) | AMI=0.2160 | Time: 10.0342\n"
     ]
    },
    {
     "name": "stderr",
     "output_type": "stream",
     "text": [
      "100%|██████████| 17/17 [00:09<00:00,  1.84it/s]\n",
      "100%|██████████| 3/3 [00:00<00:00,  5.95it/s]\n",
      "100%|██████████| 17/17 [00:08<00:00,  1.97it/s]\n",
      "100%|██████████| 3/3 [00:07<00:00,  2.49s/it]\n",
      "100%|██████████| 17/17 [00:11<00:00,  1.52it/s]\n",
      "100%|██████████| 3/3 [00:00<00:00,  5.14it/s]\n"
     ]
    },
    {
     "name": "stdout",
     "output_type": "stream",
     "text": [
      "Epoch 0141 | Train Acc: 0.8869 | Test: 0.9709 (max=0.9789) | AMI=0.2133 | Time: 10.0889\n"
     ]
    },
    {
     "name": "stderr",
     "output_type": "stream",
     "text": [
      "100%|██████████| 17/17 [00:08<00:00,  1.89it/s]\n",
      "100%|██████████| 3/3 [00:00<00:00,  5.91it/s]\n",
      "100%|██████████| 17/17 [00:08<00:00,  1.89it/s]\n",
      "100%|██████████| 3/3 [00:01<00:00,  2.91it/s]\n",
      "100%|██████████| 17/17 [00:08<00:00,  1.89it/s]\n",
      "100%|██████████| 3/3 [00:00<00:00,  5.59it/s]\n"
     ]
    },
    {
     "name": "stdout",
     "output_type": "stream",
     "text": [
      "Epoch 0144 | Train Acc: 0.8819 | Test: 0.9771 (max=0.9789) | AMI=0.2160 | Time: 10.0813\n"
     ]
    },
    {
     "name": "stderr",
     "output_type": "stream",
     "text": [
      "100%|██████████| 17/17 [00:08<00:00,  1.90it/s]\n",
      "100%|██████████| 3/3 [00:00<00:00,  5.84it/s]\n",
      "100%|██████████| 17/17 [00:08<00:00,  1.92it/s]\n",
      "100%|██████████| 3/3 [00:00<00:00,  5.81it/s]\n",
      "100%|██████████| 17/17 [00:08<00:00,  1.93it/s]\n",
      "100%|██████████| 3/3 [00:00<00:00,  5.81it/s]\n"
     ]
    },
    {
     "name": "stdout",
     "output_type": "stream",
     "text": [
      "Epoch 0147 | Train Acc: 0.8857 | Test: 0.9896 (max=0.9896) | AMI=0.2165 | Time: 10.0683\n"
     ]
    },
    {
     "name": "stderr",
     "output_type": "stream",
     "text": [
      "100%|██████████| 17/17 [00:08<00:00,  1.91it/s]\n",
      "100%|██████████| 3/3 [00:00<00:00,  5.88it/s]\n",
      "100%|██████████| 17/17 [00:08<00:00,  1.95it/s]\n",
      "100%|██████████| 3/3 [00:00<00:00,  5.78it/s]\n",
      "100%|██████████| 17/17 [00:08<00:00,  1.95it/s]\n",
      "100%|██████████| 3/3 [00:00<00:00,  5.90it/s]\n"
     ]
    },
    {
     "name": "stdout",
     "output_type": "stream",
     "text": [
      "Epoch 0150 | Train Acc: 0.8853 | Test: 0.9881 (max=0.9907) | AMI=0.2174 | Time: 10.0540\n"
     ]
    },
    {
     "name": "stderr",
     "output_type": "stream",
     "text": [
      "100%|██████████| 17/17 [00:08<00:00,  1.93it/s]\n",
      "100%|██████████| 3/3 [00:00<00:00,  5.79it/s]\n",
      "100%|██████████| 17/17 [00:10<00:00,  1.66it/s]\n",
      "100%|██████████| 3/3 [00:00<00:00,  5.73it/s]\n",
      "100%|██████████| 17/17 [00:09<00:00,  1.87it/s]\n",
      "100%|██████████| 3/3 [00:00<00:00,  5.89it/s]\n"
     ]
    },
    {
     "name": "stdout",
     "output_type": "stream",
     "text": [
      "Epoch 0153 | Train Acc: 0.8876 | Test: 0.9870 (max=0.9907) | AMI=0.2146 | Time: 10.0520\n"
     ]
    },
    {
     "name": "stderr",
     "output_type": "stream",
     "text": [
      "100%|██████████| 17/17 [00:08<00:00,  1.94it/s]\n",
      "100%|██████████| 3/3 [00:00<00:00,  5.34it/s]\n",
      "100%|██████████| 17/17 [00:16<00:00,  1.01it/s]\n",
      "100%|██████████| 3/3 [00:00<00:00,  5.79it/s]\n",
      "100%|██████████| 17/17 [00:08<00:00,  1.95it/s]\n",
      "100%|██████████| 3/3 [00:00<00:00,  5.82it/s]\n"
     ]
    },
    {
     "name": "stdout",
     "output_type": "stream",
     "text": [
      "Epoch 0156 | Train Acc: 0.8809 | Test: 0.9863 (max=0.9907) | AMI=0.2162 | Time: 10.0895\n"
     ]
    },
    {
     "name": "stderr",
     "output_type": "stream",
     "text": [
      "100%|██████████| 17/17 [00:09<00:00,  1.85it/s]\n",
      "100%|██████████| 3/3 [00:00<00:00,  5.85it/s]\n",
      "100%|██████████| 17/17 [00:08<00:00,  1.94it/s]\n",
      "100%|██████████| 3/3 [00:00<00:00,  5.83it/s]\n",
      "100%|██████████| 17/17 [00:11<00:00,  1.42it/s]\n",
      "100%|██████████| 3/3 [00:00<00:00,  5.65it/s]\n"
     ]
    },
    {
     "name": "stdout",
     "output_type": "stream",
     "text": [
      "Epoch 0159 | Train Acc: 0.8834 | Test: 0.9861 (max=0.9907) | AMI=0.2164 | Time: 10.0980\n"
     ]
    },
    {
     "name": "stderr",
     "output_type": "stream",
     "text": [
      "100%|██████████| 17/17 [00:08<00:00,  1.94it/s]\n",
      "100%|██████████| 3/3 [00:00<00:00,  5.55it/s]\n",
      "100%|██████████| 17/17 [00:08<00:00,  1.96it/s]\n",
      "100%|██████████| 3/3 [00:00<00:00,  5.66it/s]\n",
      "100%|██████████| 17/17 [00:09<00:00,  1.86it/s]\n",
      "100%|██████████| 3/3 [00:00<00:00,  5.89it/s]\n"
     ]
    },
    {
     "name": "stdout",
     "output_type": "stream",
     "text": [
      "Epoch 0162 | Train Acc: 0.8893 | Test: 0.9905 (max=0.9945) | AMI=0.2174 | Time: 10.0858\n"
     ]
    },
    {
     "name": "stderr",
     "output_type": "stream",
     "text": [
      "100%|██████████| 17/17 [00:09<00:00,  1.87it/s]\n",
      "100%|██████████| 3/3 [00:00<00:00,  5.84it/s]\n",
      "100%|██████████| 17/17 [00:08<00:00,  1.89it/s]\n",
      "100%|██████████| 3/3 [00:00<00:00,  5.86it/s]\n",
      "100%|██████████| 17/17 [00:08<00:00,  1.94it/s]\n",
      "100%|██████████| 3/3 [00:00<00:00,  6.04it/s]\n"
     ]
    },
    {
     "name": "stdout",
     "output_type": "stream",
     "text": [
      "Epoch 0165 | Train Acc: 0.8844 | Test: 0.9914 (max=0.9945) | AMI=0.2168 | Time: 10.0752\n"
     ]
    },
    {
     "name": "stderr",
     "output_type": "stream",
     "text": [
      "100%|██████████| 17/17 [00:08<00:00,  1.93it/s]\n",
      "100%|██████████| 3/3 [00:00<00:00,  5.87it/s]\n",
      "100%|██████████| 17/17 [00:08<00:00,  1.93it/s]\n",
      "100%|██████████| 3/3 [00:00<00:00,  5.97it/s]\n",
      "100%|██████████| 17/17 [00:08<00:00,  1.93it/s]\n",
      "100%|██████████| 3/3 [00:00<00:00,  5.94it/s]\n"
     ]
    },
    {
     "name": "stdout",
     "output_type": "stream",
     "text": [
      "Epoch 0168 | Train Acc: 0.8833 | Test: 0.9934 (max=0.9949) | AMI=0.2167 | Time: 10.0626\n"
     ]
    },
    {
     "name": "stderr",
     "output_type": "stream",
     "text": [
      "100%|██████████| 17/17 [00:08<00:00,  1.93it/s]\n",
      "100%|██████████| 3/3 [00:00<00:00,  5.85it/s]\n",
      "100%|██████████| 17/17 [00:10<00:00,  1.64it/s]\n",
      "100%|██████████| 3/3 [00:00<00:00,  5.70it/s]\n",
      "100%|██████████| 17/17 [00:09<00:00,  1.82it/s]\n",
      "100%|██████████| 3/3 [00:00<00:00,  5.90it/s]\n"
     ]
    },
    {
     "name": "stdout",
     "output_type": "stream",
     "text": [
      "Epoch 0171 | Train Acc: 0.8860 | Test: 0.9943 (max=0.9949) | AMI=0.2167 | Time: 10.0628\n"
     ]
    },
    {
     "name": "stderr",
     "output_type": "stream",
     "text": [
      "100%|██████████| 17/17 [00:16<00:00,  1.03it/s]\n",
      "100%|██████████| 3/3 [00:00<00:00,  5.56it/s]\n",
      "100%|██████████| 17/17 [00:08<00:00,  1.92it/s]\n",
      "100%|██████████| 3/3 [00:00<00:00,  5.97it/s]\n",
      "100%|██████████| 17/17 [00:09<00:00,  1.85it/s]\n",
      "100%|██████████| 3/3 [00:00<00:00,  4.54it/s]\n"
     ]
    },
    {
     "name": "stdout",
     "output_type": "stream",
     "text": [
      "Epoch 0174 | Train Acc: 0.8864 | Test: 0.9949 (max=0.9956) | AMI=0.2159 | Time: 10.0981\n"
     ]
    },
    {
     "name": "stderr",
     "output_type": "stream",
     "text": [
      "100%|██████████| 17/17 [00:08<00:00,  1.95it/s]\n",
      "100%|██████████| 3/3 [00:00<00:00,  5.90it/s]\n",
      "100%|██████████| 17/17 [00:13<00:00,  1.29it/s]\n",
      "100%|██████████| 3/3 [00:00<00:00,  5.76it/s]\n",
      "100%|██████████| 17/17 [00:08<00:00,  1.91it/s]\n",
      "100%|██████████| 3/3 [00:00<00:00,  5.80it/s]\n"
     ]
    },
    {
     "name": "stdout",
     "output_type": "stream",
     "text": [
      "Epoch 0177 | Train Acc: 0.8879 | Test: 0.9974 (max=0.9974) | AMI=0.2165 | Time: 10.1107\n"
     ]
    },
    {
     "name": "stderr",
     "output_type": "stream",
     "text": [
      "100%|██████████| 17/17 [00:09<00:00,  1.87it/s]\n",
      "100%|██████████| 3/3 [00:00<00:00,  5.51it/s]\n",
      "100%|██████████| 17/17 [00:09<00:00,  1.89it/s]\n",
      "100%|██████████| 3/3 [00:00<00:00,  4.68it/s]\n",
      "100%|██████████| 17/17 [00:08<00:00,  1.92it/s]\n",
      "100%|██████████| 3/3 [00:00<00:00,  5.76it/s]\n"
     ]
    },
    {
     "name": "stdout",
     "output_type": "stream",
     "text": [
      "Epoch 0180 | Train Acc: 0.8886 | Test: 0.9941 (max=0.9974) | AMI=0.2154 | Time: 10.1023\n"
     ]
    },
    {
     "name": "stderr",
     "output_type": "stream",
     "text": [
      "100%|██████████| 17/17 [00:08<00:00,  1.91it/s]\n",
      "100%|██████████| 3/3 [00:00<00:00,  5.82it/s]\n",
      "100%|██████████| 17/17 [00:08<00:00,  1.91it/s]\n",
      "100%|██████████| 3/3 [00:00<00:00,  5.70it/s]\n",
      "100%|██████████| 17/17 [00:08<00:00,  1.92it/s]\n",
      "100%|██████████| 3/3 [00:00<00:00,  5.53it/s]\n"
     ]
    },
    {
     "name": "stdout",
     "output_type": "stream",
     "text": [
      "Epoch 0183 | Train Acc: 0.8870 | Test: 0.9925 (max=0.9974) | AMI=0.2155 | Time: 10.0918\n"
     ]
    },
    {
     "name": "stderr",
     "output_type": "stream",
     "text": [
      "100%|██████████| 17/17 [00:09<00:00,  1.89it/s]\n",
      "100%|██████████| 3/3 [00:00<00:00,  5.75it/s]\n",
      "100%|██████████| 17/17 [00:08<00:00,  1.91it/s]\n",
      "100%|██████████| 3/3 [00:00<00:00,  5.87it/s]\n",
      "100%|██████████| 17/17 [00:08<00:00,  1.92it/s]\n",
      "100%|██████████| 3/3 [00:00<00:00,  5.83it/s]\n"
     ]
    },
    {
     "name": "stdout",
     "output_type": "stream",
     "text": [
      "Epoch 0186 | Train Acc: 0.8876 | Test: 0.9952 (max=0.9974) | AMI=0.2165 | Time: 10.0822\n"
     ]
    },
    {
     "name": "stderr",
     "output_type": "stream",
     "text": [
      "100%|██████████| 17/17 [00:10<00:00,  1.64it/s]\n",
      "100%|██████████| 3/3 [00:00<00:00,  5.43it/s]\n",
      "100%|██████████| 17/17 [00:09<00:00,  1.83it/s]\n",
      "100%|██████████| 3/3 [00:00<00:00,  5.86it/s]\n",
      "100%|██████████| 17/17 [00:08<00:00,  1.95it/s]\n",
      "100%|██████████| 3/3 [00:00<00:00,  5.99it/s]\n"
     ]
    },
    {
     "name": "stdout",
     "output_type": "stream",
     "text": [
      "Epoch 0189 | Train Acc: 0.8865 | Test: 0.9967 (max=0.9974) | AMI=0.2164 | Time: 10.0814\n"
     ]
    },
    {
     "name": "stderr",
     "output_type": "stream",
     "text": [
      "100%|██████████| 17/17 [00:17<00:00,  1.06s/it]\n",
      "100%|██████████| 3/3 [00:00<00:00,  5.75it/s]\n",
      "100%|██████████| 17/17 [00:08<00:00,  1.92it/s]\n",
      "100%|██████████| 3/3 [00:00<00:00,  5.86it/s]\n",
      "100%|██████████| 17/17 [00:09<00:00,  1.86it/s]\n",
      "100%|██████████| 3/3 [00:00<00:00,  5.85it/s]\n"
     ]
    },
    {
     "name": "stdout",
     "output_type": "stream",
     "text": [
      "Epoch 0192 | Train Acc: 0.8906 | Test: 0.9974 (max=0.9974) | AMI=0.2162 | Time: 10.1197\n"
     ]
    },
    {
     "name": "stderr",
     "output_type": "stream",
     "text": [
      "100%|██████████| 17/17 [00:08<00:00,  1.97it/s]\n",
      "100%|██████████| 3/3 [00:05<00:00,  1.88s/it]\n",
      "100%|██████████| 17/17 [00:08<00:00,  1.96it/s]\n",
      "100%|██████████| 3/3 [00:00<00:00,  5.83it/s]\n",
      "100%|██████████| 17/17 [00:08<00:00,  1.94it/s]\n",
      "100%|██████████| 3/3 [00:00<00:00,  5.86it/s]\n"
     ]
    },
    {
     "name": "stdout",
     "output_type": "stream",
     "text": [
      "Epoch 0195 | Train Acc: 0.8845 | Test: 0.9958 (max=0.9974) | AMI=0.2167 | Time: 10.1327\n"
     ]
    },
    {
     "name": "stderr",
     "output_type": "stream",
     "text": [
      "100%|██████████| 17/17 [00:09<00:00,  1.81it/s]\n",
      "100%|██████████| 3/3 [00:00<00:00,  5.25it/s]\n",
      "100%|██████████| 17/17 [00:09<00:00,  1.77it/s]\n",
      "100%|██████████| 3/3 [00:00<00:00,  5.65it/s]\n",
      "100%|██████████| 17/17 [00:08<00:00,  1.91it/s]\n",
      "100%|██████████| 3/3 [00:00<00:00,  5.84it/s]\n"
     ]
    },
    {
     "name": "stdout",
     "output_type": "stream",
     "text": [
      "Epoch 0198 | Train Acc: 0.8860 | Test: 0.9943 (max=0.9974) | AMI=0.2164 | Time: 10.1288\n"
     ]
    },
    {
     "name": "stderr",
     "output_type": "stream",
     "text": [
      "100%|██████████| 17/17 [00:08<00:00,  1.89it/s]\n",
      "100%|██████████| 3/3 [00:00<00:00,  5.76it/s]\n",
      "100%|██████████| 17/17 [00:09<00:00,  1.84it/s]\n",
      "100%|██████████| 3/3 [00:00<00:00,  5.72it/s]\n",
      "100%|██████████| 17/17 [00:09<00:00,  1.85it/s]\n",
      "100%|██████████| 3/3 [00:00<00:00,  5.58it/s]\n"
     ]
    },
    {
     "name": "stdout",
     "output_type": "stream",
     "text": [
      "Epoch 0201 | Train Acc: 0.8892 | Test: 0.9958 (max=0.9974) | AMI=0.2158 | Time: 10.1225\n"
     ]
    },
    {
     "name": "stderr",
     "output_type": "stream",
     "text": [
      "100%|██████████| 17/17 [00:08<00:00,  1.92it/s]\n",
      "100%|██████████| 3/3 [00:00<00:00,  5.93it/s]\n",
      "100%|██████████| 17/17 [00:08<00:00,  1.94it/s]\n",
      "100%|██████████| 3/3 [00:00<00:00,  5.87it/s]\n",
      "100%|██████████| 17/17 [00:08<00:00,  1.93it/s]\n",
      "100%|██████████| 3/3 [00:00<00:00,  5.90it/s]\n"
     ]
    },
    {
     "name": "stdout",
     "output_type": "stream",
     "text": [
      "Epoch 0204 | Train Acc: 0.8886 | Test: 0.9960 (max=0.9974) | AMI=0.2161 | Time: 10.1114\n"
     ]
    },
    {
     "name": "stderr",
     "output_type": "stream",
     "text": [
      "100%|██████████| 17/17 [00:10<00:00,  1.63it/s]\n",
      "100%|██████████| 3/3 [00:00<00:00,  5.80it/s]\n",
      "100%|██████████| 17/17 [00:09<00:00,  1.83it/s]\n",
      "100%|██████████| 3/3 [00:00<00:00,  5.82it/s]\n",
      "100%|██████████| 17/17 [00:08<00:00,  1.96it/s]\n",
      "100%|██████████| 3/3 [00:00<00:00,  5.87it/s]\n"
     ]
    },
    {
     "name": "stdout",
     "output_type": "stream",
     "text": [
      "Epoch 0207 | Train Acc: 0.8887 | Test: 0.9947 (max=0.9974) | AMI=0.2167 | Time: 10.1103\n"
     ]
    },
    {
     "name": "stderr",
     "output_type": "stream",
     "text": [
      "100%|██████████| 17/17 [00:15<00:00,  1.08it/s]\n",
      "100%|██████████| 3/3 [00:00<00:00,  5.83it/s]\n",
      "100%|██████████| 17/17 [00:08<00:00,  1.89it/s]\n",
      "100%|██████████| 3/3 [00:00<00:00,  5.64it/s]\n",
      "100%|██████████| 17/17 [00:09<00:00,  1.84it/s]\n",
      "100%|██████████| 3/3 [00:00<00:00,  5.85it/s]\n"
     ]
    },
    {
     "name": "stdout",
     "output_type": "stream",
     "text": [
      "Epoch 0210 | Train Acc: 0.8845 | Test: 0.9921 (max=0.9974) | AMI=0.2145 | Time: 10.1354\n"
     ]
    },
    {
     "name": "stderr",
     "output_type": "stream",
     "text": [
      "100%|██████████| 17/17 [00:08<00:00,  1.94it/s]\n",
      "100%|██████████| 3/3 [00:00<00:00,  5.81it/s]\n",
      "100%|██████████| 17/17 [00:09<00:00,  1.87it/s]\n",
      "100%|██████████| 3/3 [00:03<00:00,  1.32s/it]\n",
      "100%|██████████| 17/17 [00:08<00:00,  1.90it/s]\n",
      "100%|██████████| 3/3 [00:00<00:00,  5.93it/s]\n"
     ]
    },
    {
     "name": "stdout",
     "output_type": "stream",
     "text": [
      "Epoch 0213 | Train Acc: 0.8865 | Test: 0.9960 (max=0.9974) | AMI=0.2165 | Time: 10.1426\n"
     ]
    },
    {
     "name": "stderr",
     "output_type": "stream",
     "text": [
      "100%|██████████| 17/17 [00:09<00:00,  1.87it/s]\n",
      "100%|██████████| 3/3 [00:00<00:00,  5.58it/s]\n",
      "100%|██████████| 17/17 [00:08<00:00,  1.93it/s]\n",
      "100%|██████████| 3/3 [00:00<00:00,  5.68it/s]\n",
      "100%|██████████| 17/17 [00:09<00:00,  1.85it/s]\n",
      "100%|██████████| 3/3 [00:00<00:00,  5.58it/s]\n"
     ]
    },
    {
     "name": "stdout",
     "output_type": "stream",
     "text": [
      "Epoch 0216 | Train Acc: 0.8870 | Test: 0.9958 (max=0.9974) | AMI=0.2161 | Time: 10.1354\n"
     ]
    },
    {
     "name": "stderr",
     "output_type": "stream",
     "text": [
      "100%|██████████| 17/17 [00:09<00:00,  1.77it/s]\n",
      "100%|██████████| 3/3 [00:00<00:00,  5.76it/s]\n",
      "100%|██████████| 17/17 [00:09<00:00,  1.86it/s]\n",
      "100%|██████████| 3/3 [00:00<00:00,  5.72it/s]\n",
      "100%|██████████| 17/17 [00:09<00:00,  1.88it/s]\n",
      "100%|██████████| 3/3 [00:00<00:00,  5.68it/s]\n"
     ]
    },
    {
     "name": "stdout",
     "output_type": "stream",
     "text": [
      "Epoch 0219 | Train Acc: 0.8896 | Test: 0.9967 (max=0.9974) | AMI=0.2159 | Time: 10.1313\n"
     ]
    },
    {
     "name": "stderr",
     "output_type": "stream",
     "text": [
      "100%|██████████| 17/17 [00:09<00:00,  1.85it/s]\n",
      "100%|██████████| 3/3 [00:00<00:00,  5.87it/s]\n",
      "100%|██████████| 17/17 [00:09<00:00,  1.88it/s]\n",
      "100%|██████████| 3/3 [00:00<00:00,  5.71it/s]\n",
      "100%|██████████| 17/17 [00:09<00:00,  1.85it/s]\n",
      "100%|██████████| 3/3 [00:00<00:00,  6.12it/s]\n"
     ]
    },
    {
     "name": "stdout",
     "output_type": "stream",
     "text": [
      "Epoch 0222 | Train Acc: 0.8877 | Test: 0.9956 (max=0.9974) | AMI=0.2144 | Time: 10.1254\n"
     ]
    },
    {
     "name": "stderr",
     "output_type": "stream",
     "text": [
      "100%|██████████| 17/17 [00:09<00:00,  1.81it/s]\n",
      "100%|██████████| 3/3 [00:00<00:00,  5.86it/s]\n",
      "100%|██████████| 17/17 [00:11<00:00,  1.54it/s]\n",
      "100%|██████████| 3/3 [00:00<00:00,  5.85it/s]\n",
      "100%|██████████| 17/17 [00:09<00:00,  1.87it/s]\n",
      "100%|██████████| 3/3 [00:00<00:00,  5.83it/s]\n"
     ]
    },
    {
     "name": "stdout",
     "output_type": "stream",
     "text": [
      "Epoch 0225 | Train Acc: 0.8888 | Test: 0.9943 (max=0.9974) | AMI=0.2153 | Time: 10.1290\n"
     ]
    },
    {
     "name": "stderr",
     "output_type": "stream",
     "text": [
      "100%|██████████| 17/17 [00:15<00:00,  1.12it/s]\n",
      "100%|██████████| 3/3 [00:00<00:00,  5.91it/s]\n",
      "100%|██████████| 17/17 [00:08<00:00,  1.92it/s]\n",
      "100%|██████████| 3/3 [00:00<00:00,  5.93it/s]\n",
      "100%|██████████| 17/17 [00:09<00:00,  1.84it/s]\n",
      "100%|██████████| 3/3 [00:00<00:00,  5.66it/s]\n"
     ]
    },
    {
     "name": "stdout",
     "output_type": "stream",
     "text": [
      "Epoch 0228 | Train Acc: 0.8887 | Test: 0.9963 (max=0.9974) | AMI=0.2160 | Time: 10.1488\n"
     ]
    },
    {
     "name": "stderr",
     "output_type": "stream",
     "text": [
      "100%|██████████| 17/17 [00:18<00:00,  1.06s/it]\n",
      "100%|██████████| 3/3 [00:00<00:00,  5.75it/s]\n",
      "100%|██████████| 17/17 [00:09<00:00,  1.83it/s]\n",
      "100%|██████████| 3/3 [00:00<00:00,  4.89it/s]\n",
      "100%|██████████| 17/17 [00:08<00:00,  1.90it/s]\n",
      "100%|██████████| 3/3 [00:00<00:00,  5.79it/s]\n"
     ]
    },
    {
     "name": "stdout",
     "output_type": "stream",
     "text": [
      "Epoch 0231 | Train Acc: 0.8880 | Test: 0.9941 (max=0.9974) | AMI=0.2157 | Time: 10.1817\n"
     ]
    },
    {
     "name": "stderr",
     "output_type": "stream",
     "text": [
      "100%|██████████| 17/17 [00:09<00:00,  1.80it/s]\n",
      "100%|██████████| 3/3 [00:00<00:00,  5.74it/s]\n",
      "100%|██████████| 17/17 [00:09<00:00,  1.83it/s]\n",
      "100%|██████████| 3/3 [00:00<00:00,  5.73it/s]\n",
      "100%|██████████| 17/17 [00:09<00:00,  1.85it/s]\n",
      "100%|██████████| 3/3 [00:00<00:00,  5.18it/s]\n"
     ]
    },
    {
     "name": "stdout",
     "output_type": "stream",
     "text": [
      "Epoch 0234 | Train Acc: 0.8880 | Test: 0.9963 (max=0.9974) | AMI=0.2163 | Time: 10.1782\n"
     ]
    },
    {
     "name": "stderr",
     "output_type": "stream",
     "text": [
      "100%|██████████| 17/17 [00:09<00:00,  1.85it/s]\n",
      "100%|██████████| 3/3 [00:00<00:00,  6.15it/s]\n",
      "100%|██████████| 17/17 [00:09<00:00,  1.79it/s]\n",
      "100%|██████████| 3/3 [00:00<00:00,  4.45it/s]\n",
      "100%|██████████| 17/17 [00:16<00:00,  1.01it/s]\n",
      "100%|██████████| 3/3 [00:00<00:00,  5.39it/s]\n"
     ]
    },
    {
     "name": "stdout",
     "output_type": "stream",
     "text": [
      "Epoch 0237 | Train Acc: 0.8881 | Test: 0.9925 (max=0.9974) | AMI=0.2160 | Time: 10.2069\n"
     ]
    },
    {
     "name": "stderr",
     "output_type": "stream",
     "text": [
      "100%|██████████| 17/17 [00:09<00:00,  1.87it/s]\n",
      "100%|██████████| 3/3 [00:00<00:00,  5.76it/s]\n",
      "100%|██████████| 17/17 [00:08<00:00,  1.89it/s]\n",
      "100%|██████████| 3/3 [00:00<00:00,  4.26it/s]\n",
      "100%|██████████| 17/17 [00:08<00:00,  1.96it/s]\n",
      "100%|██████████| 3/3 [00:00<00:00,  5.71it/s]\n"
     ]
    },
    {
     "name": "stdout",
     "output_type": "stream",
     "text": [
      "Epoch 0240 | Train Acc: 0.8890 | Test: 0.9976 (max=0.9976) | AMI=0.2162 | Time: 10.1987\n"
     ]
    },
    {
     "name": "stderr",
     "output_type": "stream",
     "text": [
      "100%|██████████| 17/17 [00:08<00:00,  1.91it/s]\n",
      "100%|██████████| 3/3 [00:00<00:00,  5.76it/s]\n",
      "100%|██████████| 17/17 [00:14<00:00,  1.20it/s]\n",
      "100%|██████████| 3/3 [00:00<00:00,  5.74it/s]\n",
      "100%|██████████| 17/17 [00:08<00:00,  1.92it/s]\n",
      "100%|██████████| 3/3 [00:00<00:00,  5.82it/s]\n"
     ]
    },
    {
     "name": "stdout",
     "output_type": "stream",
     "text": [
      "Epoch 0243 | Train Acc: 0.8880 | Test: 0.9945 (max=0.9976) | AMI=0.2142 | Time: 10.2111\n"
     ]
    },
    {
     "name": "stderr",
     "output_type": "stream",
     "text": [
      "100%|██████████| 17/17 [00:08<00:00,  1.90it/s]\n",
      "100%|██████████| 3/3 [00:00<00:00,  5.86it/s]\n",
      "100%|██████████| 17/17 [00:08<00:00,  1.97it/s]\n",
      "100%|██████████| 3/3 [00:00<00:00,  5.83it/s]\n",
      "100%|██████████| 17/17 [00:08<00:00,  1.91it/s]\n",
      "100%|██████████| 3/3 [00:00<00:00,  5.79it/s]\n"
     ]
    },
    {
     "name": "stdout",
     "output_type": "stream",
     "text": [
      "Epoch 0246 | Train Acc: 0.8879 | Test: 0.9907 (max=0.9976) | AMI=0.2137 | Time: 10.2011\n"
     ]
    },
    {
     "name": "stderr",
     "output_type": "stream",
     "text": [
      "100%|██████████| 17/17 [00:08<00:00,  1.89it/s]\n",
      "100%|██████████| 3/3 [00:00<00:00,  5.74it/s]\n",
      "100%|██████████| 17/17 [00:09<00:00,  1.83it/s]\n",
      "100%|██████████| 3/3 [00:00<00:00,  6.13it/s]\n",
      "100%|██████████| 17/17 [00:09<00:00,  1.71it/s]\n",
      "100%|██████████| 3/3 [00:00<00:00,  5.68it/s]\n"
     ]
    },
    {
     "name": "stdout",
     "output_type": "stream",
     "text": [
      "Epoch 0249 | Train Acc: 0.8907 | Test: 0.9892 (max=0.9976) | AMI=0.2158 | Time: 10.1983\n"
     ]
    },
    {
     "name": "stderr",
     "output_type": "stream",
     "text": [
      "100%|██████████| 17/17 [00:09<00:00,  1.88it/s]\n",
      "100%|██████████| 3/3 [00:00<00:00,  5.60it/s]\n",
      "100%|██████████| 17/17 [00:09<00:00,  1.85it/s]\n",
      "100%|██████████| 3/3 [00:00<00:00,  5.71it/s]\n",
      " 65%|██████▍   | 11/17 [00:06<00:03,  1.80it/s]IOPub message rate exceeded.\n",
      "The Jupyter server will temporarily stop sending output\n",
      "to the client in order to avoid crashing it.\n",
      "To change this limit, set the config variable\n",
      "`--ServerApp.iopub_msg_rate_limit`.\n",
      "\n",
      "Current values:\n",
      "ServerApp.iopub_msg_rate_limit=1000.0 (msgs/sec)\n",
      "ServerApp.rate_limit_window=3.0 (secs)\n",
      "\n"
     ]
    }
   ],
   "source": [
    "# -- coding: utf-8 --\n",
    "\n",
    "\n",
    "import warnings\n",
    "warnings.filterwarnings(\"ignore\")\n",
    "import sys\n",
    "#sys.path.append('../')\n",
    "sys.path.append('../../../run_came/')\n",
    "from analysis_utils import ttest_plot_utils_origin\n",
    "from analysis_utils import homo_random_config as config\n",
    "import os\n",
    "\n",
    "\n",
    "if __name__ == '__main__':\n",
    "\n",
    "    cfg = config._C\n",
    "    #os.environ['CUDA_VISIBLE_DEVICES'] = '-1' #cfg.CAME.visible_device\n",
    "    #cfg.CAME.n_top_genes = 1000\n",
    "    cfg.CAME.visible_device = '-1'\n",
    "    n_top_genes_list = [4000]\n",
    "\n",
    "    cfg.CAME.species_name_list = ['Macaque', 'Mouse']\n",
    "    cfg.CAME.learning_label = ['region_name', 'region_name']# #['cluster_name', 'cluster_name'] # ['region_name', 'region_name']\n",
    "    cfg.CAME.annotation_name = ['region_name', 'region_name']\n",
    "    \n",
    "    cfg.CAME.n_top_genes = n_top_genes_list[0]\n",
    "    cfg.CAME.sparse = False\n",
    "    cfg.CAME.do_normalize = [True, True]\n",
    "    cfg.CAME.ROOT = './Results/initial_embedding/'\n",
    "    cfg.CAME.path_rawdata2 = './Data/Mouse.h5ad'\n",
    "    cfg.CAME.path_rawdata1 = './Data/Macaque.h5ad'\n",
    "\n",
    "    cfg.CAME.path_labels_2 = './Data/mouse_region_list.csv'\n",
    "    cfg.CAME.path_labels_1 = './Data/macaque_region_list.csv'\n",
    "\n",
    "    cfg.CAME.human_mouse_homo_region = './Data/mouse_macaque_homo_region.csv'\n",
    "    #    ttest_plot_utils.run_came_homo_random(cfg)\n",
    "\n",
    "    cfg.CAME.path_varmap = './Data/Macaque_Mouse_multi2multi.csv'\n",
    "    cfg.CAME.path_varmap_1v1 = './Data/Macaque_Mouse_one2one.csv'\n",
    "\n",
    "    cfg.PROCESS.path_rawdata1 = cfg.CAME.path_rawdata1\n",
    "    cfg.PROCESS.path_rawdata2 = cfg.CAME.path_rawdata2\n",
    "\n",
    "    cfg.TRAINING.n_epochs = 300\n",
    "\n",
    "    cfg.CAME.preclustering_resolution = 6\n",
    "\n",
    "    ttest_plot_utils_origin.run_came_homo_random(cfg)\n",
    "\n"
   ]
  },
  {
   "cell_type": "code",
   "execution_count": 2,
   "id": "a1db73cf-6394-4d85-9ac9-cb8ad9be1bad",
   "metadata": {
    "scrolled": true
   },
   "outputs": [
    {
     "name": "stdout",
     "output_type": "stream",
     "text": [
      "--------------------------Config: ANALYSIS:\n",
      "  cluster_markergenes: 20\n",
      "  cut_ov: 0\n",
      "  genes_umap_neighbor: 15\n",
      "  human_umap_marker_size: 10\n",
      "  human_umap_neighbor: 30\n",
      "  mouse_umap_marker_size: 5\n",
      "  mouse_umap_neighbor: 30\n",
      "  sample_cluster_num: 60\n",
      "  umap_homo_random: 30\n",
      "  umap_marker_size: 5\n",
      "  umap_neighbor: 30\n",
      "BrainAlign:\n",
      "  DATA_PATH: ./Results/data/\n",
      "  DEG_batch_key: None\n",
      "  DEG_n_top_genes: 5000\n",
      "  M: 11574\n",
      "  M_sample_rate: [3]\n",
      "  NODE_TYPE_NUM: 2\n",
      "  S: 33039\n",
      "  S_sample_rate: [1]\n",
      "  binary_H: 5234\n",
      "  binary_M: 6340\n",
      "  binary_S: 28499\n",
      "  binary_V: 4540\n",
      "  dataset: macaque_mouse_binary\n",
      "  dsnames: ['Macaque', 'Mouse']\n",
      "  embedding_pca_dim: 30\n",
      "  embedding_type: came\n",
      "  embeddings_file_path: ./Results/embeds/\n",
      "  experiment_time: \n",
      "  fig_dpi: 500\n",
      "  fig_format: png\n",
      "  homo_region_num: 4\n",
      "  if_threshold: True\n",
      "  method: srrsc\n",
      "  mouse_dataset: 2020sa\n",
      "  node_relation: spatial_2d\n",
      "  normalize_before_pca: None\n",
      "  normalize_before_pca_target_sum: None\n",
      "  normalize_before_pruning_method: default\n",
      "  normalize_before_pruning_method_1: None\n",
      "  normalize_before_pruning_method_2: default\n",
      "  normalize_scale: True\n",
      "  palette_human_file: ../../../../CAME/brain_mouse_2020sa/human_gene_palette/gene-list.tsv\n",
      "  palette_mouse_file: ../../../../CAME/brain_mouse_2020sa/mouse_gene_palette/genes-list-266.tsv\n",
      "  positive_sample_number: 5000\n",
      "  pruning_method: std\n",
      "  pruning_normalize_axis: 0\n",
      "  pruning_normalize_axis_1: 0\n",
      "  pruning_normalize_axis_2: 0\n",
      "  pruning_std_times_sm: 3\n",
      "  pruning_std_times_vh: 2.3\n",
      "  pruning_target_sum: None\n",
      "  pruning_target_sum_1: None\n",
      "  pruning_target_sum_2: None\n",
      "  result_save_folder: ./Results\n",
      "  result_save_path: ./Results\n",
      "  sm_gene_top: 5\n",
      "  sm_sample_top: 5\n",
      "  spatial_node_neighbor: 4\n",
      "  used_data_path: ../../../used_data/\n",
      "  vh_gene_top: 5\n",
      "  vh_sample_top: 5\n",
      "CAME:\n",
      "  ROOT: ./Results/initial_embedding/Macaque-Mouse/\n",
      "  figdir: ./Results/initial_embedding/Macaque-Mouse/figs/\n",
      "  homo_region_file_path: ./Data/mouse_macaque_homo_region.csv\n",
      "  human_mouse_homo_region: ./Data/mouse_macaque_homo_region.csv\n",
      "  labels_dir: ./Data/\n",
      "  labels_human_file: human_88_label.csv\n",
      "  labels_mouse_file: mouse_region_list_64.csv\n",
      "  parent_labels_human_file: human_16_label.csv\n",
      "  parent_labels_mouse_file: mouse_parent_region_list_15.csv\n",
      "  path_labels_1: ./Data/macaque_region_list.csv\n",
      "  path_labels_2: ./Data/mouse_region_list.csv\n",
      "  path_rawdata1: ./Data/Macaque.h5ad\n",
      "  path_rawdata2: ./Data/Mouse.h5ad\n",
      "  path_varmap: ./Data/Macaque_Mouse_multi2multi.csv\n",
      "  path_varmap_1v1: ./Data/Macaque_Mouse_one2one.csv\n",
      "HOMO_RANDOM:\n",
      "  random_field: all\n",
      "  random_plot: False\n",
      "SRRSC_args:\n",
      "  data_path: ./Results/data/\n",
      "  dataset: mouse_human_binary\n",
      "  device: cpu\n",
      "  drop_prob: 0.6\n",
      "  ft_size: None\n",
      "  gpu_num: 0\n",
      "  hid_units: 256\n",
      "  hid_units2: 128\n",
      "  if_pretrained: False\n",
      "  isAtt: True\n",
      "  isBias: True\n",
      "  isLP: False\n",
      "  isSemi: False\n",
      "  labels: None\n",
      "  lamb: 0.5\n",
      "  lamb_lp: 1.0\n",
      "  lr: 0.01\n",
      "  lr_gamma: 0.5\n",
      "  lr_stepsize: 30\n",
      "  margin: 0.8\n",
      "  model: SubHIN\n",
      "  nb_epochs: 200\n",
      "  node_type: None\n",
      "  out_ft: 128\n",
      "  patience: 40\n",
      "  pretrained_model_path: ./results/2022-11-30_17-18-47/\n",
      "  rel_types: None\n",
      "  save_emb: True\n",
      "  save_path: ./Results\n",
      "  seed: 100\n",
      "  test_ratio: 0.05\n",
      "  train_ratio: 0.5\n",
      "  validation_ratio: 0.45\n",
      "TRAIN:\n",
      "  if_pretrain: False\n",
      "2024-03-28 22:39:54,591 Running SR-RSC and analysis INFO: Running with config:\n",
      "ANALYSIS:\n",
      "  cluster_markergenes: 20\n",
      "  cut_ov: 0\n",
      "  genes_umap_neighbor: 15\n",
      "  human_umap_marker_size: 10\n",
      "  human_umap_neighbor: 30\n",
      "  mouse_umap_marker_size: 5\n",
      "  mouse_umap_neighbor: 30\n",
      "  sample_cluster_num: 60\n",
      "  umap_homo_random: 30\n",
      "  umap_marker_size: 5\n",
      "  umap_neighbor: 30\n",
      "BrainAlign:\n",
      "  DATA_PATH: ./Results/data/\n",
      "  DEG_batch_key: None\n",
      "  DEG_n_top_genes: 5000\n",
      "  M: 11574\n",
      "  M_sample_rate: [3]\n",
      "  NODE_TYPE_NUM: 2\n",
      "  S: 33039\n",
      "  S_sample_rate: [1]\n",
      "  binary_H: 5234\n",
      "  binary_M: 6340\n",
      "  binary_S: 28499\n",
      "  binary_V: 4540\n",
      "  dataset: macaque_mouse_binary\n",
      "  dsnames: ['Macaque', 'Mouse']\n",
      "  embedding_pca_dim: 30\n",
      "  embedding_type: came\n",
      "  embeddings_file_path: ./Results/embeds/\n",
      "  experiment_time: \n",
      "  fig_dpi: 500\n",
      "  fig_format: png\n",
      "  homo_region_num: 4\n",
      "  if_threshold: True\n",
      "  method: srrsc\n",
      "  mouse_dataset: 2020sa\n",
      "  node_relation: spatial_2d\n",
      "  normalize_before_pca: None\n",
      "  normalize_before_pca_target_sum: None\n",
      "  normalize_before_pruning_method: default\n",
      "  normalize_before_pruning_method_1: None\n",
      "  normalize_before_pruning_method_2: default\n",
      "  normalize_scale: True\n",
      "  palette_human_file: ../../../../CAME/brain_mouse_2020sa/human_gene_palette/gene-list.tsv\n",
      "  palette_mouse_file: ../../../../CAME/brain_mouse_2020sa/mouse_gene_palette/genes-list-266.tsv\n",
      "  positive_sample_number: 5000\n",
      "  pruning_method: std\n",
      "  pruning_normalize_axis: 0\n",
      "  pruning_normalize_axis_1: 0\n",
      "  pruning_normalize_axis_2: 0\n",
      "  pruning_std_times_sm: 3\n",
      "  pruning_std_times_vh: 2.3\n",
      "  pruning_target_sum: None\n",
      "  pruning_target_sum_1: None\n",
      "  pruning_target_sum_2: None\n",
      "  result_save_folder: ./Results\n",
      "  result_save_path: ./Results\n",
      "  sm_gene_top: 5\n",
      "  sm_sample_top: 5\n",
      "  spatial_node_neighbor: 4\n",
      "  used_data_path: ../../../used_data/\n",
      "  vh_gene_top: 5\n",
      "  vh_sample_top: 5\n",
      "CAME:\n",
      "  ROOT: ./Results/initial_embedding/Macaque-Mouse/\n",
      "  figdir: ./Results/initial_embedding/Macaque-Mouse/figs/\n",
      "  homo_region_file_path: ./Data/mouse_macaque_homo_region.csv\n",
      "  human_mouse_homo_region: ./Data/mouse_macaque_homo_region.csv\n",
      "  labels_dir: ./Data/\n",
      "  labels_human_file: human_88_label.csv\n",
      "  labels_mouse_file: mouse_region_list_64.csv\n",
      "  parent_labels_human_file: human_16_label.csv\n",
      "  parent_labels_mouse_file: mouse_parent_region_list_15.csv\n",
      "  path_labels_1: ./Data/macaque_region_list.csv\n",
      "  path_labels_2: ./Data/mouse_region_list.csv\n",
      "  path_rawdata1: ./Data/Macaque.h5ad\n",
      "  path_rawdata2: ./Data/Mouse.h5ad\n",
      "  path_varmap: ./Data/Macaque_Mouse_multi2multi.csv\n",
      "  path_varmap_1v1: ./Data/Macaque_Mouse_one2one.csv\n",
      "HOMO_RANDOM:\n",
      "  random_field: all\n",
      "  random_plot: False\n",
      "SRRSC_args:\n",
      "  data_path: ./Results/data/\n",
      "  dataset: mouse_human_binary\n",
      "  device: cpu\n",
      "  drop_prob: 0.6\n",
      "  ft_size: None\n",
      "  gpu_num: 0\n",
      "  hid_units: 256\n",
      "  hid_units2: 128\n",
      "  if_pretrained: False\n",
      "  isAtt: True\n",
      "  isBias: True\n",
      "  isLP: False\n",
      "  isSemi: False\n",
      "  labels: None\n",
      "  lamb: 0.5\n",
      "  lamb_lp: 1.0\n",
      "  lr: 0.01\n",
      "  lr_gamma: 0.5\n",
      "  lr_stepsize: 30\n",
      "  margin: 0.8\n",
      "  model: SubHIN\n",
      "  nb_epochs: 200\n",
      "  node_type: None\n",
      "  out_ft: 128\n",
      "  patience: 40\n",
      "  pretrained_model_path: ./results/2022-11-30_17-18-47/\n",
      "  rel_types: None\n",
      "  save_emb: True\n",
      "  save_path: ./Results\n",
      "  seed: 100\n",
      "  test_ratio: 0.05\n",
      "  train_ratio: 0.5\n",
      "  validation_ratio: 0.45\n",
      "TRAIN:\n",
      "  if_pretrain: False\n"
     ]
    },
    {
     "name": "stderr",
     "output_type": "stream",
     "text": [
      "2024-03-28 22:39:54,591 process.py-1010-get_srrsc_input(): INFO\n",
      " Running with config:\n",
      "ANALYSIS:\n",
      "  cluster_markergenes: 20\n",
      "  cut_ov: 0\n",
      "  genes_umap_neighbor: 15\n",
      "  human_umap_marker_size: 10\n",
      "  human_umap_neighbor: 30\n",
      "  mouse_umap_marker_size: 5\n",
      "  mouse_umap_neighbor: 30\n",
      "  sample_cluster_num: 60\n",
      "  umap_homo_random: 30\n",
      "  umap_marker_size: 5\n",
      "  umap_neighbor: 30\n",
      "BrainAlign:\n",
      "  DATA_PATH: ./Results/data/\n",
      "  DEG_batch_key: None\n",
      "  DEG_n_top_genes: 5000\n",
      "  M: 11574\n",
      "  M_sample_rate: [3]\n",
      "  NODE_TYPE_NUM: 2\n",
      "  S: 33039\n",
      "  S_sample_rate: [1]\n",
      "  binary_H: 5234\n",
      "  binary_M: 6340\n",
      "  binary_S: 28499\n",
      "  binary_V: 4540\n",
      "  dataset: macaque_mouse_binary\n",
      "  dsnames: ['Macaque', 'Mouse']\n",
      "  embedding_pca_dim: 30\n",
      "  embedding_type: came\n",
      "  embeddings_file_path: ./Results/embeds/\n",
      "  experiment_time: \n",
      "  fig_dpi: 500\n",
      "  fig_format: png\n",
      "  homo_region_num: 4\n",
      "  if_threshold: True\n",
      "  method: srrsc\n",
      "  mouse_dataset: 2020sa\n",
      "  node_relation: spatial_2d\n",
      "  normalize_before_pca: None\n",
      "  normalize_before_pca_target_sum: None\n",
      "  normalize_before_pruning_method: default\n",
      "  normalize_before_pruning_method_1: None\n",
      "  normalize_before_pruning_method_2: default\n",
      "  normalize_scale: True\n",
      "  palette_human_file: ../../../../CAME/brain_mouse_2020sa/human_gene_palette/gene-list.tsv\n",
      "  palette_mouse_file: ../../../../CAME/brain_mouse_2020sa/mouse_gene_palette/genes-list-266.tsv\n",
      "  positive_sample_number: 5000\n",
      "  pruning_method: std\n",
      "  pruning_normalize_axis: 0\n",
      "  pruning_normalize_axis_1: 0\n",
      "  pruning_normalize_axis_2: 0\n",
      "  pruning_std_times_sm: 3\n",
      "  pruning_std_times_vh: 2.3\n",
      "  pruning_target_sum: None\n",
      "  pruning_target_sum_1: None\n",
      "  pruning_target_sum_2: None\n",
      "  result_save_folder: ./Results\n",
      "  result_save_path: ./Results\n",
      "  sm_gene_top: 5\n",
      "  sm_sample_top: 5\n",
      "  spatial_node_neighbor: 4\n",
      "  used_data_path: ../../../used_data/\n",
      "  vh_gene_top: 5\n",
      "  vh_sample_top: 5\n",
      "CAME:\n",
      "  ROOT: ./Results/initial_embedding/Macaque-Mouse/\n",
      "  figdir: ./Results/initial_embedding/Macaque-Mouse/figs/\n",
      "  homo_region_file_path: ./Data/mouse_macaque_homo_region.csv\n",
      "  human_mouse_homo_region: ./Data/mouse_macaque_homo_region.csv\n",
      "  labels_dir: ./Data/\n",
      "  labels_human_file: human_88_label.csv\n",
      "  labels_mouse_file: mouse_region_list_64.csv\n",
      "  parent_labels_human_file: human_16_label.csv\n",
      "  parent_labels_mouse_file: mouse_parent_region_list_15.csv\n",
      "  path_labels_1: ./Data/macaque_region_list.csv\n",
      "  path_labels_2: ./Data/mouse_region_list.csv\n",
      "  path_rawdata1: ./Data/Macaque.h5ad\n",
      "  path_rawdata2: ./Data/Mouse.h5ad\n",
      "  path_varmap: ./Data/Macaque_Mouse_multi2multi.csv\n",
      "  path_varmap_1v1: ./Data/Macaque_Mouse_one2one.csv\n",
      "HOMO_RANDOM:\n",
      "  random_field: all\n",
      "  random_plot: False\n",
      "SRRSC_args:\n",
      "  data_path: ./Results/data/\n",
      "  dataset: mouse_human_binary\n",
      "  device: cpu\n",
      "  drop_prob: 0.6\n",
      "  ft_size: None\n",
      "  gpu_num: 0\n",
      "  hid_units: 256\n",
      "  hid_units2: 128\n",
      "  if_pretrained: False\n",
      "  isAtt: True\n",
      "  isBias: True\n",
      "  isLP: False\n",
      "  isSemi: False\n",
      "  labels: None\n",
      "  lamb: 0.5\n",
      "  lamb_lp: 1.0\n",
      "  lr: 0.01\n",
      "  lr_gamma: 0.5\n",
      "  lr_stepsize: 30\n",
      "  margin: 0.8\n",
      "  model: SubHIN\n",
      "  nb_epochs: 200\n",
      "  node_type: None\n",
      "  out_ft: 128\n",
      "  patience: 40\n",
      "  pretrained_model_path: ./results/2022-11-30_17-18-47/\n",
      "  rel_types: None\n",
      "  save_emb: True\n",
      "  save_path: ./Results\n",
      "  seed: 100\n",
      "  test_ratio: 0.05\n",
      "  train_ratio: 0.5\n",
      "  validation_ratio: 0.45\n",
      "TRAIN:\n",
      "  if_pretrain: False\n"
     ]
    },
    {
     "name": "stdout",
     "output_type": "stream",
     "text": [
      "2024-03-28 22:39:54,593 Running SR-RSC and analysis INFO: Loading embeddings...\n"
     ]
    },
    {
     "name": "stderr",
     "output_type": "stream",
     "text": [
      "2024-03-28 22:39:54,593 process.py-217-load_embedding(): INFO\n",
      " Loading embeddings...\n"
     ]
    },
    {
     "name": "stdout",
     "output_type": "stream",
     "text": [
      "They are identical!\n",
      "They are identical!\n",
      "2024-03-28 22:45:19,013 Running SR-RSC and analysis DEBUG: AnnData object with n_obs × n_vars = 6340 × 128\n",
      "    obs: 'name', 'dataset', 'module'\n",
      "    uns: 'dataset_colors', 'leiden', 'module_colors', 'neighbors', 'umap'\n",
      "    obsm: 'X_umap'\n",
      "    obsp: 'connectivities', 'distances'\n"
     ]
    },
    {
     "name": "stderr",
     "output_type": "stream",
     "text": [
      "2024-03-28 22:45:19,013 process.py-174-load_gene_embedding(): DEBUG\n",
      " AnnData object with n_obs × n_vars = 6340 × 128\n",
      "    obs: 'name', 'dataset', 'module'\n",
      "    uns: 'dataset_colors', 'leiden', 'module_colors', 'neighbors', 'umap'\n",
      "    obsm: 'X_umap'\n",
      "    obsp: 'connectivities', 'distances'\n"
     ]
    },
    {
     "name": "stdout",
     "output_type": "stream",
     "text": [
      "2024-03-28 22:45:19,017 Running SR-RSC and analysis DEBUG: Gene lists are identical!\n"
     ]
    },
    {
     "name": "stderr",
     "output_type": "stream",
     "text": [
      "2024-03-28 22:45:19,017 process.py-185-load_gene_embedding(): DEBUG\n",
      " Gene lists are identical!\n"
     ]
    },
    {
     "name": "stdout",
     "output_type": "stream",
     "text": [
      "2024-03-28 22:45:19,050 Running SR-RSC and analysis DEBUG: Gene lists are identical!\n"
     ]
    },
    {
     "name": "stderr",
     "output_type": "stream",
     "text": [
      "2024-03-28 22:45:19,050 process.py-201-load_gene_embedding(): DEBUG\n",
      " Gene lists are identical!\n"
     ]
    },
    {
     "name": "stdout",
     "output_type": "stream",
     "text": [
      "2024-03-28 22:45:19,613 Running SR-RSC and analysis INFO: Generating meta_data...\n"
     ]
    },
    {
     "name": "stderr",
     "output_type": "stream",
     "text": [
      "2024-03-28 22:45:19,613 process.py-1025-get_srrsc_input(): INFO\n",
      " Generating meta_data...\n"
     ]
    },
    {
     "name": "stdout",
     "output_type": "stream",
     "text": [
      "2024-03-28 22:45:19,669 Running SR-RSC and analysis INFO: Generating labels...\n"
     ]
    },
    {
     "name": "stderr",
     "output_type": "stream",
     "text": [
      "2024-03-28 22:45:19,669 process.py-1060-get_srrsc_input(): INFO\n",
      " Generating labels...\n"
     ]
    },
    {
     "name": "stdout",
     "output_type": "stream",
     "text": [
      "2024-03-28 22:45:19,684 Running SR-RSC and analysis INFO: Generating edges...\n"
     ]
    },
    {
     "name": "stderr",
     "output_type": "stream",
     "text": [
      "2024-03-28 22:45:19,684 process.py-1074-get_srrsc_input(): INFO\n",
      " Generating edges...\n",
      "2024-03-28 22:45:23,599 preprocess.py-1347-normalize_default(): INFO\n",
      " No copy was made, the input AnnData will be changed!\n",
      "2024-03-28 22:45:23,601 preprocess.py-1348-normalize_default(): INFO\n",
      " normalizing datasets with default settings.\n",
      "2024-03-28 22:45:23,608 preprocess.py-1350-normalize_default(): INFO\n",
      " performing total-sum normalization, target_sum=None...\n"
     ]
    },
    {
     "name": "stdout",
     "output_type": "stream",
     "text": [
      "AnnData object with n_obs × n_vars = 28499 × 14932\n",
      "    obs: 'gene_area', 'annotation', 'species_id', 'batch_name', 'slice_name', 'louvain', 'mclust', 'mclust_separate', 'STAGATE_annotation', 'region', 'region_name', 'Macaque ITPKA', 'Macaque AMIGO2', 'Macaque HS3ST4', 'Macaque LRRTM4'\n",
      "    var: 'highly_variable', 'highly_variable_rank', 'means', 'variances', 'variances_norm'\n",
      "    uns: 'STAGATE_annotation_colors', 'Spatial_Net', 'adj', 'annotation_colors', 'batch_name_colors', 'hvg', 'log1p', 'louvain', 'louvain_colors', 'mclust_colors', 'mclust_separate_colors', 'neighbors', 'umap'\n",
      "    obsm: 'STAGATE', 'X_umap', 'spatial'\n",
      "    obsp: 'connectivities', 'distances'\n",
      "AnnData object with n_obs × n_vars = 4540 × 10105\n",
      "    obs: 'loci', 'gene_area', 'xbin', 'ybin', 'annotation', 'species_id', 'batch_name', 'slice_name', 'louvain', 'mclust', 'mclust_separate', 'STAGATE_annotation', 'region', 'region_name', 'Mouse Itpka', 'Mouse Amigo2', 'Mouse Hs3st4', 'Mouse Lrrtm4'\n",
      "    var: 'genenames', 'n_cells', 'highly_variable', 'highly_variable_rank', 'means', 'variances', 'variances_norm'\n",
      "    uns: 'STAGATE_annotation_colors', 'Spatial_Net', 'adj', 'annotation_colors', 'batch_name_colors', 'gene_area_colors', 'hvg', 'log1p', 'louvain', 'louvain_colors', 'mclust_colors', 'mclust_separate_colors', 'neighbors', 'umap'\n",
      "    obsm: 'STAGATE', 'X_umap', 'spatial'\n",
      "    obsp: 'connectivities', 'distances'\n",
      "2024-03-28 22:45:26,434 Running SR-RSC and analysis DEBUG: ss_: (33039, 33039)\n"
     ]
    },
    {
     "name": "stderr",
     "output_type": "stream",
     "text": [
      "2024-03-28 22:45:26,434 process.py-1129-get_srrsc_input(): DEBUG\n",
      " ss_: (33039, 33039)\n"
     ]
    },
    {
     "name": "stdout",
     "output_type": "stream",
     "text": [
      "2024-03-28 22:45:26,838 Running SR-RSC and analysis DEBUG: mm_: (11574, 11574)\n"
     ]
    },
    {
     "name": "stderr",
     "output_type": "stream",
     "text": [
      "2024-03-28 22:45:26,838 process.py-1132-get_srrsc_input(): DEBUG\n",
      " mm_: (11574, 11574)\n"
     ]
    },
    {
     "name": "stdout",
     "output_type": "stream",
     "text": [
      "Training BrainAlign...\n",
      "2024-03-28 22:47:34,273 Running SR-RSC and analysis INFO: Configs data_path: ./Results/data/\n",
      "dataset: mouse_human_binary\n",
      "device: cpu\n",
      "drop_prob: 0.6\n",
      "ft_size: None\n",
      "gpu_num: 0\n",
      "hid_units: 256\n",
      "hid_units2: 128\n",
      "if_pretrained: False\n",
      "isAtt: True\n",
      "isBias: True\n",
      "isLP: False\n",
      "isSemi: False\n",
      "labels: None\n",
      "lamb: 0.5\n",
      "lamb_lp: 1.0\n",
      "lr: 0.01\n",
      "lr_gamma: 0.5\n",
      "lr_stepsize: 30\n",
      "margin: 0.8\n",
      "model: SubHIN\n",
      "nb_epochs: 200\n",
      "node_type: None\n",
      "out_ft: 128\n",
      "patience: 40\n",
      "pretrained_model_path: ./results/2022-11-30_17-18-47/\n",
      "rel_types: None\n",
      "save_emb: True\n",
      "save_path: ./Results\n",
      "seed: 100\n",
      "test_ratio: 0.05\n",
      "train_ratio: 0.5\n",
      "validation_ratio: 0.45\n",
      "\n"
     ]
    },
    {
     "name": "stderr",
     "output_type": "stream",
     "text": [
      "2024-03-28 22:47:34,273 main_sr_rsc.py-122-run_srrsc(): INFO\n",
      " Configs data_path: ./Results/data/\n",
      "dataset: mouse_human_binary\n",
      "device: cpu\n",
      "drop_prob: 0.6\n",
      "ft_size: None\n",
      "gpu_num: 0\n",
      "hid_units: 256\n",
      "hid_units2: 128\n",
      "if_pretrained: False\n",
      "isAtt: True\n",
      "isBias: True\n",
      "isLP: False\n",
      "isSemi: False\n",
      "labels: None\n",
      "lamb: 0.5\n",
      "lamb_lp: 1.0\n",
      "lr: 0.01\n",
      "lr_gamma: 0.5\n",
      "lr_stepsize: 30\n",
      "margin: 0.8\n",
      "model: SubHIN\n",
      "nb_epochs: 200\n",
      "node_type: None\n",
      "out_ft: 128\n",
      "patience: 40\n",
      "pretrained_model_path: ./results/2022-11-30_17-18-47/\n",
      "rel_types: None\n",
      "save_emb: True\n",
      "save_path: ./Results\n",
      "seed: 100\n",
      "test_ratio: 0.05\n",
      "train_ratio: 0.5\n",
      "validation_ratio: 0.45\n",
      "\n"
     ]
    },
    {
     "name": "stdout",
     "output_type": "stream",
     "text": [
      "Dataset: mouse_human_binary\n",
      "node_type num_node:\n",
      "\n",
      "s\t 33039\n",
      "\n",
      "m\t 11574\n",
      "Graph prepared!\n",
      "Model setup:\n",
      "learning rate: 0.01\n",
      "model: SubHIN\n",
      "use cuda\n",
      "use attention\n",
      "task: cluster and classification\n",
      "2024-03-28 22:47:54,069 Running SR-RSC and analysis INFO: Epoch 0...\n"
     ]
    },
    {
     "name": "stderr",
     "output_type": "stream",
     "text": [
      "2024-03-28 22:47:54,069 SubHIN.py-44-training(): INFO\n",
      " Epoch 0...\n"
     ]
    },
    {
     "name": "stdout",
     "output_type": "stream",
     "text": [
      "2024-03-28 22:48:18,058 Running SR-RSC and analysis INFO: Epoch 0, loss 6.12, valacc 0.74614\n"
     ]
    },
    {
     "name": "stderr",
     "output_type": "stream",
     "text": [
      "2024-03-28 22:48:18,058 SubHIN.py-66-training(): INFO\n",
      " Epoch 0, loss 6.12, valacc 0.74614\n"
     ]
    },
    {
     "name": "stdout",
     "output_type": "stream",
     "text": [
      "2024-03-28 22:48:22,370 Running SR-RSC and analysis INFO: NMI=0.71810, ARI: 0.81202, f1_micro=0.95338, f1_macro=0.93591\n"
     ]
    },
    {
     "name": "stderr",
     "output_type": "stream",
     "text": [
      "2024-03-28 22:48:22,370 evaluation.py-102-evalutation(): INFO\n",
      " NMI=0.71810, ARI: 0.81202, f1_micro=0.95338, f1_macro=0.93591\n"
     ]
    },
    {
     "name": "stdout",
     "output_type": "stream",
     "text": [
      "2024-03-28 22:48:22,377 Running SR-RSC and analysis INFO: Epoch 1...\n"
     ]
    },
    {
     "name": "stderr",
     "output_type": "stream",
     "text": [
      "2024-03-28 22:48:22,377 SubHIN.py-44-training(): INFO\n",
      " Epoch 1...\n"
     ]
    },
    {
     "name": "stdout",
     "output_type": "stream",
     "text": [
      "2024-03-28 22:48:47,610 Running SR-RSC and analysis INFO: Epoch 1, loss 5.7614, valacc 0.49668\n"
     ]
    },
    {
     "name": "stderr",
     "output_type": "stream",
     "text": [
      "2024-03-28 22:48:47,610 SubHIN.py-66-training(): INFO\n",
      " Epoch 1, loss 5.7614, valacc 0.49668\n"
     ]
    },
    {
     "name": "stdout",
     "output_type": "stream",
     "text": [
      "2024-03-28 22:49:03,061 Running SR-RSC and analysis INFO: NMI=0.01923, ARI: 0.04218, f1_micro=0.95338, f1_macro=0.93574\n"
     ]
    },
    {
     "name": "stderr",
     "output_type": "stream",
     "text": [
      "2024-03-28 22:49:03,061 evaluation.py-102-evalutation(): INFO\n",
      " NMI=0.01923, ARI: 0.04218, f1_micro=0.95338, f1_macro=0.93574\n"
     ]
    },
    {
     "name": "stdout",
     "output_type": "stream",
     "text": [
      "2024-03-28 22:49:03,069 Running SR-RSC and analysis INFO: Epoch 2...\n"
     ]
    },
    {
     "name": "stderr",
     "output_type": "stream",
     "text": [
      "2024-03-28 22:49:03,069 SubHIN.py-44-training(): INFO\n",
      " Epoch 2...\n"
     ]
    },
    {
     "name": "stdout",
     "output_type": "stream",
     "text": [
      "2024-03-28 22:49:28,636 Running SR-RSC and analysis INFO: Epoch 2, loss 5.5218, valacc 0.027737\n"
     ]
    },
    {
     "name": "stderr",
     "output_type": "stream",
     "text": [
      "2024-03-28 22:49:28,636 SubHIN.py-66-training(): INFO\n",
      " Epoch 2, loss 5.5218, valacc 0.027737\n"
     ]
    },
    {
     "name": "stdout",
     "output_type": "stream",
     "text": [
      "2024-03-28 22:49:44,648 Running SR-RSC and analysis INFO: NMI=0.02277, ARI: 0.04639, f1_micro=0.94935, f1_macro=0.92958\n"
     ]
    },
    {
     "name": "stderr",
     "output_type": "stream",
     "text": [
      "2024-03-28 22:49:44,648 evaluation.py-102-evalutation(): INFO\n",
      " NMI=0.02277, ARI: 0.04639, f1_micro=0.94935, f1_macro=0.92958\n"
     ]
    },
    {
     "name": "stdout",
     "output_type": "stream",
     "text": [
      "2024-03-28 22:49:44,656 Running SR-RSC and analysis INFO: Epoch 3...\n"
     ]
    },
    {
     "name": "stderr",
     "output_type": "stream",
     "text": [
      "2024-03-28 22:49:44,656 SubHIN.py-44-training(): INFO\n",
      " Epoch 3...\n"
     ]
    },
    {
     "name": "stdout",
     "output_type": "stream",
     "text": [
      "2024-03-28 22:50:07,587 Running SR-RSC and analysis INFO: Epoch 3, loss 5.2956, valacc 0.030622\n"
     ]
    },
    {
     "name": "stderr",
     "output_type": "stream",
     "text": [
      "2024-03-28 22:50:07,587 SubHIN.py-66-training(): INFO\n",
      " Epoch 3, loss 5.2956, valacc 0.030622\n"
     ]
    },
    {
     "name": "stdout",
     "output_type": "stream",
     "text": [
      "2024-03-28 22:50:22,683 Running SR-RSC and analysis INFO: NMI=0.02826, ARI: 0.05757, f1_micro=0.94397, f1_macro=0.92116\n"
     ]
    },
    {
     "name": "stderr",
     "output_type": "stream",
     "text": [
      "2024-03-28 22:50:22,683 evaluation.py-102-evalutation(): INFO\n",
      " NMI=0.02826, ARI: 0.05757, f1_micro=0.94397, f1_macro=0.92116\n"
     ]
    },
    {
     "name": "stdout",
     "output_type": "stream",
     "text": [
      "2024-03-28 22:50:22,688 Running SR-RSC and analysis INFO: Epoch 4...\n"
     ]
    },
    {
     "name": "stderr",
     "output_type": "stream",
     "text": [
      "2024-03-28 22:50:22,688 SubHIN.py-44-training(): INFO\n",
      " Epoch 4...\n"
     ]
    },
    {
     "name": "stdout",
     "output_type": "stream",
     "text": [
      "2024-03-28 22:50:46,218 Running SR-RSC and analysis INFO: Epoch 5...\n"
     ]
    },
    {
     "name": "stderr",
     "output_type": "stream",
     "text": [
      "2024-03-28 22:50:46,218 SubHIN.py-44-training(): INFO\n",
      " Epoch 5...\n"
     ]
    },
    {
     "name": "stdout",
     "output_type": "stream",
     "text": [
      "2024-03-28 22:51:10,405 Running SR-RSC and analysis INFO: Epoch 5, loss 5.2946, valacc 0.023844\n"
     ]
    },
    {
     "name": "stderr",
     "output_type": "stream",
     "text": [
      "2024-03-28 22:51:10,405 SubHIN.py-66-training(): INFO\n",
      " Epoch 5, loss 5.2946, valacc 0.023844\n"
     ]
    },
    {
     "name": "stdout",
     "output_type": "stream",
     "text": [
      "2024-03-28 22:51:25,658 Running SR-RSC and analysis INFO: NMI=0.02237, ARI: 0.04711, f1_micro=0.94711, f1_macro=0.92652\n"
     ]
    },
    {
     "name": "stderr",
     "output_type": "stream",
     "text": [
      "2024-03-28 22:51:25,658 evaluation.py-102-evalutation(): INFO\n",
      " NMI=0.02237, ARI: 0.04711, f1_micro=0.94711, f1_macro=0.92652\n"
     ]
    },
    {
     "name": "stdout",
     "output_type": "stream",
     "text": [
      "2024-03-28 22:51:25,667 Running SR-RSC and analysis INFO: Epoch 6...\n"
     ]
    },
    {
     "name": "stderr",
     "output_type": "stream",
     "text": [
      "2024-03-28 22:51:25,667 SubHIN.py-44-training(): INFO\n",
      " Epoch 6...\n"
     ]
    },
    {
     "name": "stdout",
     "output_type": "stream",
     "text": [
      "2024-03-28 22:51:49,742 Running SR-RSC and analysis INFO: Epoch 6, loss 5.1339, valacc 0.024341\n"
     ]
    },
    {
     "name": "stderr",
     "output_type": "stream",
     "text": [
      "2024-03-28 22:51:49,742 SubHIN.py-66-training(): INFO\n",
      " Epoch 6, loss 5.1339, valacc 0.024341\n"
     ]
    },
    {
     "name": "stdout",
     "output_type": "stream",
     "text": [
      "2024-03-28 22:52:05,489 Running SR-RSC and analysis INFO: NMI=0.02143, ARI: 0.04648, f1_micro=0.95159, f1_macro=0.93336\n"
     ]
    },
    {
     "name": "stderr",
     "output_type": "stream",
     "text": [
      "2024-03-28 22:52:05,489 evaluation.py-102-evalutation(): INFO\n",
      " NMI=0.02143, ARI: 0.04648, f1_micro=0.95159, f1_macro=0.93336\n"
     ]
    },
    {
     "name": "stdout",
     "output_type": "stream",
     "text": [
      "2024-03-28 22:52:05,494 Running SR-RSC and analysis INFO: Epoch 7...\n"
     ]
    },
    {
     "name": "stderr",
     "output_type": "stream",
     "text": [
      "2024-03-28 22:52:05,494 SubHIN.py-44-training(): INFO\n",
      " Epoch 7...\n"
     ]
    },
    {
     "name": "stdout",
     "output_type": "stream",
     "text": [
      "2024-03-28 22:52:27,634 Running SR-RSC and analysis INFO: Epoch 7, loss 5.0169, valacc 0.016912\n"
     ]
    },
    {
     "name": "stderr",
     "output_type": "stream",
     "text": [
      "2024-03-28 22:52:27,634 SubHIN.py-66-training(): INFO\n",
      " Epoch 7, loss 5.0169, valacc 0.016912\n"
     ]
    },
    {
     "name": "stdout",
     "output_type": "stream",
     "text": [
      "2024-03-28 22:52:42,672 Running SR-RSC and analysis INFO: NMI=0.01563, ARI: 0.03572, f1_micro=0.95428, f1_macro=0.93698\n"
     ]
    },
    {
     "name": "stderr",
     "output_type": "stream",
     "text": [
      "2024-03-28 22:52:42,672 evaluation.py-102-evalutation(): INFO\n",
      " NMI=0.01563, ARI: 0.03572, f1_micro=0.95428, f1_macro=0.93698\n"
     ]
    },
    {
     "name": "stdout",
     "output_type": "stream",
     "text": [
      "2024-03-28 22:52:42,676 Running SR-RSC and analysis INFO: Epoch 8...\n"
     ]
    },
    {
     "name": "stderr",
     "output_type": "stream",
     "text": [
      "2024-03-28 22:52:42,676 SubHIN.py-44-training(): INFO\n",
      " Epoch 8...\n"
     ]
    },
    {
     "name": "stdout",
     "output_type": "stream",
     "text": [
      "2024-03-28 22:53:05,142 Running SR-RSC and analysis INFO: Epoch 8, loss 4.911, valacc 0.014806\n"
     ]
    },
    {
     "name": "stderr",
     "output_type": "stream",
     "text": [
      "2024-03-28 22:53:05,142 SubHIN.py-66-training(): INFO\n",
      " Epoch 8, loss 4.911, valacc 0.014806\n"
     ]
    },
    {
     "name": "stdout",
     "output_type": "stream",
     "text": [
      "2024-03-28 22:53:20,049 Running SR-RSC and analysis INFO: NMI=0.01575, ARI: 0.03601, f1_micro=0.95607, f1_macro=0.93953\n"
     ]
    },
    {
     "name": "stderr",
     "output_type": "stream",
     "text": [
      "2024-03-28 22:53:20,049 evaluation.py-102-evalutation(): INFO\n",
      " NMI=0.01575, ARI: 0.03601, f1_micro=0.95607, f1_macro=0.93953\n"
     ]
    },
    {
     "name": "stdout",
     "output_type": "stream",
     "text": [
      "2024-03-28 22:53:20,054 Running SR-RSC and analysis INFO: Epoch 9...\n"
     ]
    },
    {
     "name": "stderr",
     "output_type": "stream",
     "text": [
      "2024-03-28 22:53:20,054 SubHIN.py-44-training(): INFO\n",
      " Epoch 9...\n"
     ]
    },
    {
     "name": "stdout",
     "output_type": "stream",
     "text": [
      "2024-03-28 22:53:42,798 Running SR-RSC and analysis INFO: Epoch 9, loss 4.7295, valacc 0.016302\n"
     ]
    },
    {
     "name": "stderr",
     "output_type": "stream",
     "text": [
      "2024-03-28 22:53:42,798 SubHIN.py-66-training(): INFO\n",
      " Epoch 9, loss 4.7295, valacc 0.016302\n"
     ]
    },
    {
     "name": "stdout",
     "output_type": "stream",
     "text": [
      "2024-03-28 22:53:57,833 Running SR-RSC and analysis INFO: NMI=0.01418, ARI: 0.03206, f1_micro=0.95069, f1_macro=0.93177\n"
     ]
    },
    {
     "name": "stderr",
     "output_type": "stream",
     "text": [
      "2024-03-28 22:53:57,833 evaluation.py-102-evalutation(): INFO\n",
      " NMI=0.01418, ARI: 0.03206, f1_micro=0.95069, f1_macro=0.93177\n"
     ]
    },
    {
     "name": "stdout",
     "output_type": "stream",
     "text": [
      "2024-03-28 22:53:57,838 Running SR-RSC and analysis INFO: Epoch 10...\n"
     ]
    },
    {
     "name": "stderr",
     "output_type": "stream",
     "text": [
      "2024-03-28 22:53:57,838 SubHIN.py-44-training(): INFO\n",
      " Epoch 10...\n"
     ]
    },
    {
     "name": "stdout",
     "output_type": "stream",
     "text": [
      "2024-03-28 22:54:21,069 Running SR-RSC and analysis INFO: Epoch 11...\n"
     ]
    },
    {
     "name": "stderr",
     "output_type": "stream",
     "text": [
      "2024-03-28 22:54:21,069 SubHIN.py-44-training(): INFO\n",
      " Epoch 11...\n"
     ]
    },
    {
     "name": "stdout",
     "output_type": "stream",
     "text": [
      "2024-03-28 22:54:44,611 Running SR-RSC and analysis INFO: Epoch 11, loss 4.728, valacc 0.017288\n"
     ]
    },
    {
     "name": "stderr",
     "output_type": "stream",
     "text": [
      "2024-03-28 22:54:44,611 SubHIN.py-66-training(): INFO\n",
      " Epoch 11, loss 4.728, valacc 0.017288\n"
     ]
    },
    {
     "name": "stdout",
     "output_type": "stream",
     "text": [
      "2024-03-28 22:54:59,743 Running SR-RSC and analysis INFO: NMI=0.01724, ARI: 0.03729, f1_micro=0.94845, f1_macro=0.92805\n"
     ]
    },
    {
     "name": "stderr",
     "output_type": "stream",
     "text": [
      "2024-03-28 22:54:59,743 evaluation.py-102-evalutation(): INFO\n",
      " NMI=0.01724, ARI: 0.03729, f1_micro=0.94845, f1_macro=0.92805\n"
     ]
    },
    {
     "name": "stdout",
     "output_type": "stream",
     "text": [
      "2024-03-28 22:54:59,753 Running SR-RSC and analysis INFO: Epoch 12...\n"
     ]
    },
    {
     "name": "stderr",
     "output_type": "stream",
     "text": [
      "2024-03-28 22:54:59,753 SubHIN.py-44-training(): INFO\n",
      " Epoch 12...\n"
     ]
    },
    {
     "name": "stdout",
     "output_type": "stream",
     "text": [
      "2024-03-28 22:55:23,942 Running SR-RSC and analysis INFO: Epoch 13...\n"
     ]
    },
    {
     "name": "stderr",
     "output_type": "stream",
     "text": [
      "2024-03-28 22:55:23,942 SubHIN.py-44-training(): INFO\n",
      " Epoch 13...\n"
     ]
    },
    {
     "name": "stdout",
     "output_type": "stream",
     "text": [
      "2024-03-28 22:55:46,359 Running SR-RSC and analysis INFO: Epoch 14...\n"
     ]
    },
    {
     "name": "stderr",
     "output_type": "stream",
     "text": [
      "2024-03-28 22:55:46,359 SubHIN.py-44-training(): INFO\n",
      " Epoch 14...\n"
     ]
    },
    {
     "name": "stdout",
     "output_type": "stream",
     "text": [
      "2024-03-28 22:56:08,531 Running SR-RSC and analysis INFO: Epoch 14, loss 4.5419, valacc 0.018056\n"
     ]
    },
    {
     "name": "stderr",
     "output_type": "stream",
     "text": [
      "2024-03-28 22:56:08,531 SubHIN.py-66-training(): INFO\n",
      " Epoch 14, loss 4.5419, valacc 0.018056\n"
     ]
    },
    {
     "name": "stdout",
     "output_type": "stream",
     "text": [
      "2024-03-28 22:56:23,542 Running SR-RSC and analysis INFO: NMI=0.01462, ARI: 0.03317, f1_micro=0.94621, f1_macro=0.92467\n"
     ]
    },
    {
     "name": "stderr",
     "output_type": "stream",
     "text": [
      "2024-03-28 22:56:23,542 evaluation.py-102-evalutation(): INFO\n",
      " NMI=0.01462, ARI: 0.03317, f1_micro=0.94621, f1_macro=0.92467\n"
     ]
    },
    {
     "name": "stdout",
     "output_type": "stream",
     "text": [
      "2024-03-28 22:56:23,546 Running SR-RSC and analysis INFO: Epoch 15...\n"
     ]
    },
    {
     "name": "stderr",
     "output_type": "stream",
     "text": [
      "2024-03-28 22:56:23,546 SubHIN.py-44-training(): INFO\n",
      " Epoch 15...\n"
     ]
    },
    {
     "name": "stdout",
     "output_type": "stream",
     "text": [
      "2024-03-28 22:56:45,550 Running SR-RSC and analysis INFO: Epoch 16...\n"
     ]
    },
    {
     "name": "stderr",
     "output_type": "stream",
     "text": [
      "2024-03-28 22:56:45,550 SubHIN.py-44-training(): INFO\n",
      " Epoch 16...\n"
     ]
    },
    {
     "name": "stdout",
     "output_type": "stream",
     "text": [
      "2024-03-28 22:57:07,472 Running SR-RSC and analysis INFO: Epoch 17...\n"
     ]
    },
    {
     "name": "stderr",
     "output_type": "stream",
     "text": [
      "2024-03-28 22:57:07,472 SubHIN.py-44-training(): INFO\n",
      " Epoch 17...\n"
     ]
    },
    {
     "name": "stdout",
     "output_type": "stream",
     "text": [
      "2024-03-28 22:57:29,503 Running SR-RSC and analysis INFO: Epoch 17, loss 4.4793, valacc 0.01934\n"
     ]
    },
    {
     "name": "stderr",
     "output_type": "stream",
     "text": [
      "2024-03-28 22:57:29,503 SubHIN.py-66-training(): INFO\n",
      " Epoch 17, loss 4.4793, valacc 0.01934\n"
     ]
    },
    {
     "name": "stdout",
     "output_type": "stream",
     "text": [
      "2024-03-28 22:57:44,567 Running SR-RSC and analysis INFO: NMI=0.01533, ARI: 0.03308, f1_micro=0.94128, f1_macro=0.91670\n"
     ]
    },
    {
     "name": "stderr",
     "output_type": "stream",
     "text": [
      "2024-03-28 22:57:44,567 evaluation.py-102-evalutation(): INFO\n",
      " NMI=0.01533, ARI: 0.03308, f1_micro=0.94128, f1_macro=0.91670\n"
     ]
    },
    {
     "name": "stdout",
     "output_type": "stream",
     "text": [
      "2024-03-28 22:57:44,571 Running SR-RSC and analysis INFO: Epoch 18...\n"
     ]
    },
    {
     "name": "stderr",
     "output_type": "stream",
     "text": [
      "2024-03-28 22:57:44,571 SubHIN.py-44-training(): INFO\n",
      " Epoch 18...\n"
     ]
    },
    {
     "name": "stdout",
     "output_type": "stream",
     "text": [
      "2024-03-28 22:58:07,466 Running SR-RSC and analysis INFO: Epoch 18, loss 4.4556, valacc 0.018258\n"
     ]
    },
    {
     "name": "stderr",
     "output_type": "stream",
     "text": [
      "2024-03-28 22:58:07,466 SubHIN.py-66-training(): INFO\n",
      " Epoch 18, loss 4.4556, valacc 0.018258\n"
     ]
    },
    {
     "name": "stdout",
     "output_type": "stream",
     "text": [
      "2024-03-28 22:58:22,471 Running SR-RSC and analysis INFO: NMI=0.01496, ARI: 0.03262, f1_micro=0.94083, f1_macro=0.91577\n"
     ]
    },
    {
     "name": "stderr",
     "output_type": "stream",
     "text": [
      "2024-03-28 22:58:22,471 evaluation.py-102-evalutation(): INFO\n",
      " NMI=0.01496, ARI: 0.03262, f1_micro=0.94083, f1_macro=0.91577\n"
     ]
    },
    {
     "name": "stdout",
     "output_type": "stream",
     "text": [
      "2024-03-28 22:58:22,475 Running SR-RSC and analysis INFO: Epoch 19...\n"
     ]
    },
    {
     "name": "stderr",
     "output_type": "stream",
     "text": [
      "2024-03-28 22:58:22,475 SubHIN.py-44-training(): INFO\n",
      " Epoch 19...\n"
     ]
    },
    {
     "name": "stdout",
     "output_type": "stream",
     "text": [
      "2024-03-28 22:58:45,050 Running SR-RSC and analysis INFO: Epoch 20...\n"
     ]
    },
    {
     "name": "stderr",
     "output_type": "stream",
     "text": [
      "2024-03-28 22:58:45,050 SubHIN.py-44-training(): INFO\n",
      " Epoch 20...\n"
     ]
    },
    {
     "name": "stdout",
     "output_type": "stream",
     "text": [
      "2024-03-28 22:59:07,190 Running SR-RSC and analysis INFO: Epoch 20, loss 4.4358, valacc 0.018766\n"
     ]
    },
    {
     "name": "stderr",
     "output_type": "stream",
     "text": [
      "2024-03-28 22:59:07,190 SubHIN.py-66-training(): INFO\n",
      " Epoch 20, loss 4.4358, valacc 0.018766\n"
     ]
    },
    {
     "name": "stdout",
     "output_type": "stream",
     "text": [
      "2024-03-28 22:59:22,195 Running SR-RSC and analysis INFO: NMI=0.01617, ARI: 0.03612, f1_micro=0.93904, f1_macro=0.91405\n"
     ]
    },
    {
     "name": "stderr",
     "output_type": "stream",
     "text": [
      "2024-03-28 22:59:22,195 evaluation.py-102-evalutation(): INFO\n",
      " NMI=0.01617, ARI: 0.03612, f1_micro=0.93904, f1_macro=0.91405\n"
     ]
    },
    {
     "name": "stdout",
     "output_type": "stream",
     "text": [
      "2024-03-28 22:59:22,201 Running SR-RSC and analysis INFO: Epoch 21...\n"
     ]
    },
    {
     "name": "stderr",
     "output_type": "stream",
     "text": [
      "2024-03-28 22:59:22,201 SubHIN.py-44-training(): INFO\n",
      " Epoch 21...\n"
     ]
    },
    {
     "name": "stdout",
     "output_type": "stream",
     "text": [
      "2024-03-28 22:59:44,578 Running SR-RSC and analysis INFO: Epoch 21, loss 4.4025, valacc 0.019733\n"
     ]
    },
    {
     "name": "stderr",
     "output_type": "stream",
     "text": [
      "2024-03-28 22:59:44,578 SubHIN.py-66-training(): INFO\n",
      " Epoch 21, loss 4.4025, valacc 0.019733\n"
     ]
    },
    {
     "name": "stdout",
     "output_type": "stream",
     "text": [
      "2024-03-28 22:59:59,629 Running SR-RSC and analysis INFO: NMI=0.01926, ARI: 0.04017, f1_micro=0.93904, f1_macro=0.91358\n"
     ]
    },
    {
     "name": "stderr",
     "output_type": "stream",
     "text": [
      "2024-03-28 22:59:59,629 evaluation.py-102-evalutation(): INFO\n",
      " NMI=0.01926, ARI: 0.04017, f1_micro=0.93904, f1_macro=0.91358\n"
     ]
    },
    {
     "name": "stdout",
     "output_type": "stream",
     "text": [
      "2024-03-28 22:59:59,634 Running SR-RSC and analysis INFO: Epoch 22...\n"
     ]
    },
    {
     "name": "stderr",
     "output_type": "stream",
     "text": [
      "2024-03-28 22:59:59,634 SubHIN.py-44-training(): INFO\n",
      " Epoch 22...\n"
     ]
    },
    {
     "name": "stdout",
     "output_type": "stream",
     "text": [
      "2024-03-28 23:00:24,457 Running SR-RSC and analysis INFO: Epoch 23...\n"
     ]
    },
    {
     "name": "stderr",
     "output_type": "stream",
     "text": [
      "2024-03-28 23:00:24,457 SubHIN.py-44-training(): INFO\n",
      " Epoch 23...\n"
     ]
    },
    {
     "name": "stdout",
     "output_type": "stream",
     "text": [
      "2024-03-28 23:00:48,325 Running SR-RSC and analysis INFO: Epoch 23, loss 4.3945, valacc 0.019622\n"
     ]
    },
    {
     "name": "stderr",
     "output_type": "stream",
     "text": [
      "2024-03-28 23:00:48,325 SubHIN.py-66-training(): INFO\n",
      " Epoch 23, loss 4.3945, valacc 0.019622\n"
     ]
    },
    {
     "name": "stdout",
     "output_type": "stream",
     "text": [
      "2024-03-28 23:00:57,657 Running SR-RSC and analysis INFO: NMI=0.01594, ARI: 0.03410, f1_micro=0.93994, f1_macro=0.91401\n"
     ]
    },
    {
     "name": "stderr",
     "output_type": "stream",
     "text": [
      "2024-03-28 23:00:57,657 evaluation.py-102-evalutation(): INFO\n",
      " NMI=0.01594, ARI: 0.03410, f1_micro=0.93994, f1_macro=0.91401\n"
     ]
    },
    {
     "name": "stdout",
     "output_type": "stream",
     "text": [
      "2024-03-28 23:00:57,666 Running SR-RSC and analysis INFO: Epoch 24...\n"
     ]
    },
    {
     "name": "stderr",
     "output_type": "stream",
     "text": [
      "2024-03-28 23:00:57,666 SubHIN.py-44-training(): INFO\n",
      " Epoch 24...\n"
     ]
    },
    {
     "name": "stdout",
     "output_type": "stream",
     "text": [
      "2024-03-28 23:01:20,546 Running SR-RSC and analysis INFO: Epoch 24, loss 4.3669, valacc 0.019781\n"
     ]
    },
    {
     "name": "stderr",
     "output_type": "stream",
     "text": [
      "2024-03-28 23:01:20,546 SubHIN.py-66-training(): INFO\n",
      " Epoch 24, loss 4.3669, valacc 0.019781\n"
     ]
    },
    {
     "name": "stdout",
     "output_type": "stream",
     "text": [
      "2024-03-28 23:01:35,623 Running SR-RSC and analysis INFO: NMI=0.01724, ARI: 0.03579, f1_micro=0.93411, f1_macro=0.90560\n"
     ]
    },
    {
     "name": "stderr",
     "output_type": "stream",
     "text": [
      "2024-03-28 23:01:35,623 evaluation.py-102-evalutation(): INFO\n",
      " NMI=0.01724, ARI: 0.03579, f1_micro=0.93411, f1_macro=0.90560\n"
     ]
    },
    {
     "name": "stdout",
     "output_type": "stream",
     "text": [
      "2024-03-28 23:01:35,630 Running SR-RSC and analysis INFO: Epoch 25...\n"
     ]
    },
    {
     "name": "stderr",
     "output_type": "stream",
     "text": [
      "2024-03-28 23:01:35,630 SubHIN.py-44-training(): INFO\n",
      " Epoch 25...\n"
     ]
    },
    {
     "name": "stdout",
     "output_type": "stream",
     "text": [
      "2024-03-28 23:02:01,244 Running SR-RSC and analysis INFO: Epoch 26...\n"
     ]
    },
    {
     "name": "stderr",
     "output_type": "stream",
     "text": [
      "2024-03-28 23:02:01,244 SubHIN.py-44-training(): INFO\n",
      " Epoch 26...\n"
     ]
    },
    {
     "name": "stdout",
     "output_type": "stream",
     "text": [
      "2024-03-28 23:02:23,891 Running SR-RSC and analysis INFO: Epoch 26, loss 4.2898, valacc 0.0186\n"
     ]
    },
    {
     "name": "stderr",
     "output_type": "stream",
     "text": [
      "2024-03-28 23:02:23,891 SubHIN.py-66-training(): INFO\n",
      " Epoch 26, loss 4.2898, valacc 0.0186\n"
     ]
    },
    {
     "name": "stdout",
     "output_type": "stream",
     "text": [
      "2024-03-28 23:02:39,744 Running SR-RSC and analysis INFO: NMI=0.01785, ARI: 0.03726, f1_micro=0.93904, f1_macro=0.91236\n"
     ]
    },
    {
     "name": "stderr",
     "output_type": "stream",
     "text": [
      "2024-03-28 23:02:39,744 evaluation.py-102-evalutation(): INFO\n",
      " NMI=0.01785, ARI: 0.03726, f1_micro=0.93904, f1_macro=0.91236\n"
     ]
    },
    {
     "name": "stdout",
     "output_type": "stream",
     "text": [
      "2024-03-28 23:02:39,755 Running SR-RSC and analysis INFO: Epoch 27...\n"
     ]
    },
    {
     "name": "stderr",
     "output_type": "stream",
     "text": [
      "2024-03-28 23:02:39,755 SubHIN.py-44-training(): INFO\n",
      " Epoch 27...\n"
     ]
    },
    {
     "name": "stdout",
     "output_type": "stream",
     "text": [
      "2024-03-28 23:03:02,952 Running SR-RSC and analysis INFO: Epoch 28...\n"
     ]
    },
    {
     "name": "stderr",
     "output_type": "stream",
     "text": [
      "2024-03-28 23:03:02,952 SubHIN.py-44-training(): INFO\n",
      " Epoch 28...\n"
     ]
    },
    {
     "name": "stdout",
     "output_type": "stream",
     "text": [
      "2024-03-28 23:03:25,844 Running SR-RSC and analysis INFO: Epoch 29...\n"
     ]
    },
    {
     "name": "stderr",
     "output_type": "stream",
     "text": [
      "2024-03-28 23:03:25,844 SubHIN.py-44-training(): INFO\n",
      " Epoch 29...\n"
     ]
    },
    {
     "name": "stdout",
     "output_type": "stream",
     "text": [
      "2024-03-28 23:03:50,332 Running SR-RSC and analysis INFO: Epoch 29, loss 4.2854, valacc 0.020734\n"
     ]
    },
    {
     "name": "stderr",
     "output_type": "stream",
     "text": [
      "2024-03-28 23:03:50,332 SubHIN.py-66-training(): INFO\n",
      " Epoch 29, loss 4.2854, valacc 0.020734\n"
     ]
    },
    {
     "name": "stdout",
     "output_type": "stream",
     "text": [
      "2024-03-28 23:04:06,114 Running SR-RSC and analysis INFO: NMI=0.01717, ARI: 0.03510, f1_micro=0.93814, f1_macro=0.91169\n"
     ]
    },
    {
     "name": "stderr",
     "output_type": "stream",
     "text": [
      "2024-03-28 23:04:06,114 evaluation.py-102-evalutation(): INFO\n",
      " NMI=0.01717, ARI: 0.03510, f1_micro=0.93814, f1_macro=0.91169\n"
     ]
    },
    {
     "name": "stdout",
     "output_type": "stream",
     "text": [
      "2024-03-28 23:04:06,119 Running SR-RSC and analysis INFO: Epoch 30...\n"
     ]
    },
    {
     "name": "stderr",
     "output_type": "stream",
     "text": [
      "2024-03-28 23:04:06,119 SubHIN.py-44-training(): INFO\n",
      " Epoch 30...\n"
     ]
    },
    {
     "name": "stdout",
     "output_type": "stream",
     "text": [
      "2024-03-28 23:04:30,312 Running SR-RSC and analysis INFO: Epoch 30, loss 4.2442, valacc 0.018888\n"
     ]
    },
    {
     "name": "stderr",
     "output_type": "stream",
     "text": [
      "2024-03-28 23:04:30,312 SubHIN.py-66-training(): INFO\n",
      " Epoch 30, loss 4.2442, valacc 0.018888\n"
     ]
    },
    {
     "name": "stdout",
     "output_type": "stream",
     "text": [
      "2024-03-28 23:04:45,436 Running SR-RSC and analysis INFO: NMI=0.01778, ARI: 0.03503, f1_micro=0.94218, f1_macro=0.91669\n"
     ]
    },
    {
     "name": "stderr",
     "output_type": "stream",
     "text": [
      "2024-03-28 23:04:45,436 evaluation.py-102-evalutation(): INFO\n",
      " NMI=0.01778, ARI: 0.03503, f1_micro=0.94218, f1_macro=0.91669\n"
     ]
    },
    {
     "name": "stdout",
     "output_type": "stream",
     "text": [
      "2024-03-28 23:04:45,441 Running SR-RSC and analysis INFO: Epoch 31...\n"
     ]
    },
    {
     "name": "stderr",
     "output_type": "stream",
     "text": [
      "2024-03-28 23:04:45,441 SubHIN.py-44-training(): INFO\n",
      " Epoch 31...\n"
     ]
    },
    {
     "name": "stdout",
     "output_type": "stream",
     "text": [
      "2024-03-28 23:05:09,155 Running SR-RSC and analysis INFO: Epoch 31, loss 4.2438, valacc 0.01855\n"
     ]
    },
    {
     "name": "stderr",
     "output_type": "stream",
     "text": [
      "2024-03-28 23:05:09,155 SubHIN.py-66-training(): INFO\n",
      " Epoch 31, loss 4.2438, valacc 0.01855\n"
     ]
    },
    {
     "name": "stdout",
     "output_type": "stream",
     "text": [
      "2024-03-28 23:05:24,089 Running SR-RSC and analysis INFO: NMI=0.01736, ARI: 0.03608, f1_micro=0.93456, f1_macro=0.90537\n"
     ]
    },
    {
     "name": "stderr",
     "output_type": "stream",
     "text": [
      "2024-03-28 23:05:24,089 evaluation.py-102-evalutation(): INFO\n",
      " NMI=0.01736, ARI: 0.03608, f1_micro=0.93456, f1_macro=0.90537\n"
     ]
    },
    {
     "name": "stdout",
     "output_type": "stream",
     "text": [
      "2024-03-28 23:05:24,093 Running SR-RSC and analysis INFO: Epoch 32...\n"
     ]
    },
    {
     "name": "stderr",
     "output_type": "stream",
     "text": [
      "2024-03-28 23:05:24,093 SubHIN.py-44-training(): INFO\n",
      " Epoch 32...\n"
     ]
    },
    {
     "name": "stdout",
     "output_type": "stream",
     "text": [
      "2024-03-28 23:05:47,427 Running SR-RSC and analysis INFO: Epoch 32, loss 4.1935, valacc 0.01938\n"
     ]
    },
    {
     "name": "stderr",
     "output_type": "stream",
     "text": [
      "2024-03-28 23:05:47,427 SubHIN.py-66-training(): INFO\n",
      " Epoch 32, loss 4.1935, valacc 0.01938\n"
     ]
    },
    {
     "name": "stdout",
     "output_type": "stream",
     "text": [
      "2024-03-28 23:06:02,884 Running SR-RSC and analysis INFO: NMI=0.01728, ARI: 0.03688, f1_micro=0.94083, f1_macro=0.91553\n"
     ]
    },
    {
     "name": "stderr",
     "output_type": "stream",
     "text": [
      "2024-03-28 23:06:02,884 evaluation.py-102-evalutation(): INFO\n",
      " NMI=0.01728, ARI: 0.03688, f1_micro=0.94083, f1_macro=0.91553\n"
     ]
    },
    {
     "name": "stdout",
     "output_type": "stream",
     "text": [
      "2024-03-28 23:06:02,887 Running SR-RSC and analysis INFO: Epoch 33...\n"
     ]
    },
    {
     "name": "stderr",
     "output_type": "stream",
     "text": [
      "2024-03-28 23:06:02,887 SubHIN.py-44-training(): INFO\n",
      " Epoch 33...\n"
     ]
    },
    {
     "name": "stdout",
     "output_type": "stream",
     "text": [
      "2024-03-28 23:06:26,398 Running SR-RSC and analysis INFO: Epoch 33, loss 4.1903, valacc 0.020248\n"
     ]
    },
    {
     "name": "stderr",
     "output_type": "stream",
     "text": [
      "2024-03-28 23:06:26,398 SubHIN.py-66-training(): INFO\n",
      " Epoch 33, loss 4.1903, valacc 0.020248\n"
     ]
    },
    {
     "name": "stdout",
     "output_type": "stream",
     "text": [
      "2024-03-28 23:06:41,449 Running SR-RSC and analysis INFO: NMI=0.01693, ARI: 0.03452, f1_micro=0.93994, f1_macro=0.91377\n"
     ]
    },
    {
     "name": "stderr",
     "output_type": "stream",
     "text": [
      "2024-03-28 23:06:41,449 evaluation.py-102-evalutation(): INFO\n",
      " NMI=0.01693, ARI: 0.03452, f1_micro=0.93994, f1_macro=0.91377\n"
     ]
    },
    {
     "name": "stdout",
     "output_type": "stream",
     "text": [
      "2024-03-28 23:06:41,453 Running SR-RSC and analysis INFO: Epoch 34...\n"
     ]
    },
    {
     "name": "stderr",
     "output_type": "stream",
     "text": [
      "2024-03-28 23:06:41,453 SubHIN.py-44-training(): INFO\n",
      " Epoch 34...\n"
     ]
    },
    {
     "name": "stdout",
     "output_type": "stream",
     "text": [
      "2024-03-28 23:07:03,968 Running SR-RSC and analysis INFO: Epoch 35...\n"
     ]
    },
    {
     "name": "stderr",
     "output_type": "stream",
     "text": [
      "2024-03-28 23:07:03,968 SubHIN.py-44-training(): INFO\n",
      " Epoch 35...\n"
     ]
    },
    {
     "name": "stdout",
     "output_type": "stream",
     "text": [
      "2024-03-28 23:07:26,798 Running SR-RSC and analysis INFO: Epoch 35, loss 4.183, valacc 0.01994\n"
     ]
    },
    {
     "name": "stderr",
     "output_type": "stream",
     "text": [
      "2024-03-28 23:07:26,798 SubHIN.py-66-training(): INFO\n",
      " Epoch 35, loss 4.183, valacc 0.01994\n"
     ]
    },
    {
     "name": "stdout",
     "output_type": "stream",
     "text": [
      "2024-03-28 23:07:41,957 Running SR-RSC and analysis INFO: NMI=0.01689, ARI: 0.03492, f1_micro=0.93635, f1_macro=0.90875\n"
     ]
    },
    {
     "name": "stderr",
     "output_type": "stream",
     "text": [
      "2024-03-28 23:07:41,957 evaluation.py-102-evalutation(): INFO\n",
      " NMI=0.01689, ARI: 0.03492, f1_micro=0.93635, f1_macro=0.90875\n"
     ]
    },
    {
     "name": "stdout",
     "output_type": "stream",
     "text": [
      "2024-03-28 23:07:41,962 Running SR-RSC and analysis INFO: Epoch 36...\n"
     ]
    },
    {
     "name": "stderr",
     "output_type": "stream",
     "text": [
      "2024-03-28 23:07:41,962 SubHIN.py-44-training(): INFO\n",
      " Epoch 36...\n"
     ]
    },
    {
     "name": "stdout",
     "output_type": "stream",
     "text": [
      "2024-03-28 23:08:04,042 Running SR-RSC and analysis INFO: Epoch 36, loss 4.1702, valacc 0.020032\n"
     ]
    },
    {
     "name": "stderr",
     "output_type": "stream",
     "text": [
      "2024-03-28 23:08:04,042 SubHIN.py-66-training(): INFO\n",
      " Epoch 36, loss 4.1702, valacc 0.020032\n"
     ]
    },
    {
     "name": "stdout",
     "output_type": "stream",
     "text": [
      "2024-03-28 23:08:18,975 Running SR-RSC and analysis INFO: NMI=0.01838, ARI: 0.03804, f1_micro=0.93501, f1_macro=0.90636\n"
     ]
    },
    {
     "name": "stderr",
     "output_type": "stream",
     "text": [
      "2024-03-28 23:08:18,975 evaluation.py-102-evalutation(): INFO\n",
      " NMI=0.01838, ARI: 0.03804, f1_micro=0.93501, f1_macro=0.90636\n"
     ]
    },
    {
     "name": "stdout",
     "output_type": "stream",
     "text": [
      "2024-03-28 23:08:18,984 Running SR-RSC and analysis INFO: Epoch 37...\n"
     ]
    },
    {
     "name": "stderr",
     "output_type": "stream",
     "text": [
      "2024-03-28 23:08:18,984 SubHIN.py-44-training(): INFO\n",
      " Epoch 37...\n"
     ]
    },
    {
     "name": "stdout",
     "output_type": "stream",
     "text": [
      "2024-03-28 23:08:41,309 Running SR-RSC and analysis INFO: Epoch 37, loss 4.1684, valacc 0.019312\n"
     ]
    },
    {
     "name": "stderr",
     "output_type": "stream",
     "text": [
      "2024-03-28 23:08:41,309 SubHIN.py-66-training(): INFO\n",
      " Epoch 37, loss 4.1684, valacc 0.019312\n"
     ]
    },
    {
     "name": "stdout",
     "output_type": "stream",
     "text": [
      "2024-03-28 23:08:56,287 Running SR-RSC and analysis INFO: NMI=0.01834, ARI: 0.03845, f1_micro=0.93994, f1_macro=0.91340\n"
     ]
    },
    {
     "name": "stderr",
     "output_type": "stream",
     "text": [
      "2024-03-28 23:08:56,287 evaluation.py-102-evalutation(): INFO\n",
      " NMI=0.01834, ARI: 0.03845, f1_micro=0.93994, f1_macro=0.91340\n"
     ]
    },
    {
     "name": "stdout",
     "output_type": "stream",
     "text": [
      "2024-03-28 23:08:56,291 Running SR-RSC and analysis INFO: Epoch 38...\n"
     ]
    },
    {
     "name": "stderr",
     "output_type": "stream",
     "text": [
      "2024-03-28 23:08:56,291 SubHIN.py-44-training(): INFO\n",
      " Epoch 38...\n"
     ]
    },
    {
     "name": "stdout",
     "output_type": "stream",
     "text": [
      "2024-03-28 23:09:18,263 Running SR-RSC and analysis INFO: Epoch 38, loss 4.157, valacc 0.01879\n"
     ]
    },
    {
     "name": "stderr",
     "output_type": "stream",
     "text": [
      "2024-03-28 23:09:18,263 SubHIN.py-66-training(): INFO\n",
      " Epoch 38, loss 4.157, valacc 0.01879\n"
     ]
    },
    {
     "name": "stdout",
     "output_type": "stream",
     "text": [
      "2024-03-28 23:09:33,207 Running SR-RSC and analysis INFO: NMI=0.01693, ARI: 0.03452, f1_micro=0.93859, f1_macro=0.91203\n"
     ]
    },
    {
     "name": "stderr",
     "output_type": "stream",
     "text": [
      "2024-03-28 23:09:33,207 evaluation.py-102-evalutation(): INFO\n",
      " NMI=0.01693, ARI: 0.03452, f1_micro=0.93859, f1_macro=0.91203\n"
     ]
    },
    {
     "name": "stdout",
     "output_type": "stream",
     "text": [
      "2024-03-28 23:09:33,211 Running SR-RSC and analysis INFO: Epoch 39...\n"
     ]
    },
    {
     "name": "stderr",
     "output_type": "stream",
     "text": [
      "2024-03-28 23:09:33,211 SubHIN.py-44-training(): INFO\n",
      " Epoch 39...\n"
     ]
    },
    {
     "name": "stdout",
     "output_type": "stream",
     "text": [
      "2024-03-28 23:09:55,188 Running SR-RSC and analysis INFO: Epoch 40...\n"
     ]
    },
    {
     "name": "stderr",
     "output_type": "stream",
     "text": [
      "2024-03-28 23:09:55,188 SubHIN.py-44-training(): INFO\n",
      " Epoch 40...\n"
     ]
    },
    {
     "name": "stdout",
     "output_type": "stream",
     "text": [
      "2024-03-28 23:10:17,250 Running SR-RSC and analysis INFO: Epoch 40, loss 4.1364, valacc 0.019811\n"
     ]
    },
    {
     "name": "stderr",
     "output_type": "stream",
     "text": [
      "2024-03-28 23:10:17,250 SubHIN.py-66-training(): INFO\n",
      " Epoch 40, loss 4.1364, valacc 0.019811\n"
     ]
    },
    {
     "name": "stdout",
     "output_type": "stream",
     "text": [
      "2024-03-28 23:10:32,148 Running SR-RSC and analysis INFO: NMI=0.01965, ARI: 0.03949, f1_micro=0.93411, f1_macro=0.90507\n"
     ]
    },
    {
     "name": "stderr",
     "output_type": "stream",
     "text": [
      "2024-03-28 23:10:32,148 evaluation.py-102-evalutation(): INFO\n",
      " NMI=0.01965, ARI: 0.03949, f1_micro=0.93411, f1_macro=0.90507\n"
     ]
    },
    {
     "name": "stdout",
     "output_type": "stream",
     "text": [
      "2024-03-28 23:10:32,151 Running SR-RSC and analysis INFO: Epoch 41...\n"
     ]
    },
    {
     "name": "stderr",
     "output_type": "stream",
     "text": [
      "2024-03-28 23:10:32,151 SubHIN.py-44-training(): INFO\n",
      " Epoch 41...\n"
     ]
    },
    {
     "name": "stdout",
     "output_type": "stream",
     "text": [
      "2024-03-28 23:10:54,413 Running SR-RSC and analysis INFO: Epoch 42...\n"
     ]
    },
    {
     "name": "stderr",
     "output_type": "stream",
     "text": [
      "2024-03-28 23:10:54,413 SubHIN.py-44-training(): INFO\n",
      " Epoch 42...\n"
     ]
    },
    {
     "name": "stdout",
     "output_type": "stream",
     "text": [
      "2024-03-28 23:11:17,759 Running SR-RSC and analysis INFO: Epoch 42, loss 4.1338, valacc 0.019653\n"
     ]
    },
    {
     "name": "stderr",
     "output_type": "stream",
     "text": [
      "2024-03-28 23:11:17,759 SubHIN.py-66-training(): INFO\n",
      " Epoch 42, loss 4.1338, valacc 0.019653\n"
     ]
    },
    {
     "name": "stdout",
     "output_type": "stream",
     "text": [
      "2024-03-28 23:11:22,986 Running SR-RSC and analysis INFO: NMI=0.01897, ARI: 0.03840, f1_micro=0.94128, f1_macro=0.91635\n"
     ]
    },
    {
     "name": "stderr",
     "output_type": "stream",
     "text": [
      "2024-03-28 23:11:22,986 evaluation.py-102-evalutation(): INFO\n",
      " NMI=0.01897, ARI: 0.03840, f1_micro=0.94128, f1_macro=0.91635\n"
     ]
    },
    {
     "name": "stdout",
     "output_type": "stream",
     "text": [
      "2024-03-28 23:11:22,991 Running SR-RSC and analysis INFO: Epoch 43...\n"
     ]
    },
    {
     "name": "stderr",
     "output_type": "stream",
     "text": [
      "2024-03-28 23:11:22,991 SubHIN.py-44-training(): INFO\n",
      " Epoch 43...\n"
     ]
    },
    {
     "name": "stdout",
     "output_type": "stream",
     "text": [
      "2024-03-28 23:11:47,007 Running SR-RSC and analysis INFO: Epoch 44...\n"
     ]
    },
    {
     "name": "stderr",
     "output_type": "stream",
     "text": [
      "2024-03-28 23:11:47,007 SubHIN.py-44-training(): INFO\n",
      " Epoch 44...\n"
     ]
    },
    {
     "name": "stdout",
     "output_type": "stream",
     "text": [
      "2024-03-28 23:12:09,664 Running SR-RSC and analysis INFO: Epoch 45...\n"
     ]
    },
    {
     "name": "stderr",
     "output_type": "stream",
     "text": [
      "2024-03-28 23:12:09,664 SubHIN.py-44-training(): INFO\n",
      " Epoch 45...\n"
     ]
    },
    {
     "name": "stdout",
     "output_type": "stream",
     "text": [
      "2024-03-28 23:12:32,866 Running SR-RSC and analysis INFO: Epoch 45, loss 4.1171, valacc 0.020236\n"
     ]
    },
    {
     "name": "stderr",
     "output_type": "stream",
     "text": [
      "2024-03-28 23:12:32,866 SubHIN.py-66-training(): INFO\n",
      " Epoch 45, loss 4.1171, valacc 0.020236\n"
     ]
    },
    {
     "name": "stdout",
     "output_type": "stream",
     "text": [
      "2024-03-28 23:12:37,857 Running SR-RSC and analysis INFO: NMI=0.01721, ARI: 0.03470, f1_micro=0.94039, f1_macro=0.91471\n"
     ]
    },
    {
     "name": "stderr",
     "output_type": "stream",
     "text": [
      "2024-03-28 23:12:37,857 evaluation.py-102-evalutation(): INFO\n",
      " NMI=0.01721, ARI: 0.03470, f1_micro=0.94039, f1_macro=0.91471\n"
     ]
    },
    {
     "name": "stdout",
     "output_type": "stream",
     "text": [
      "2024-03-28 23:12:37,862 Running SR-RSC and analysis INFO: Epoch 46...\n"
     ]
    },
    {
     "name": "stderr",
     "output_type": "stream",
     "text": [
      "2024-03-28 23:12:37,862 SubHIN.py-44-training(): INFO\n",
      " Epoch 46...\n"
     ]
    },
    {
     "name": "stdout",
     "output_type": "stream",
     "text": [
      "2024-03-28 23:13:00,734 Running SR-RSC and analysis INFO: Epoch 47...\n"
     ]
    },
    {
     "name": "stderr",
     "output_type": "stream",
     "text": [
      "2024-03-28 23:13:00,734 SubHIN.py-44-training(): INFO\n",
      " Epoch 47...\n"
     ]
    },
    {
     "name": "stdout",
     "output_type": "stream",
     "text": [
      "2024-03-28 23:13:22,848 Running SR-RSC and analysis INFO: Epoch 47, loss 4.0762, valacc 0.019973\n"
     ]
    },
    {
     "name": "stderr",
     "output_type": "stream",
     "text": [
      "2024-03-28 23:13:22,848 SubHIN.py-66-training(): INFO\n",
      " Epoch 47, loss 4.0762, valacc 0.019973\n"
     ]
    },
    {
     "name": "stdout",
     "output_type": "stream",
     "text": [
      "2024-03-28 23:13:37,994 Running SR-RSC and analysis INFO: NMI=0.01810, ARI: 0.03632, f1_micro=0.93994, f1_macro=0.91425\n"
     ]
    },
    {
     "name": "stderr",
     "output_type": "stream",
     "text": [
      "2024-03-28 23:13:37,994 evaluation.py-102-evalutation(): INFO\n",
      " NMI=0.01810, ARI: 0.03632, f1_micro=0.93994, f1_macro=0.91425\n"
     ]
    },
    {
     "name": "stdout",
     "output_type": "stream",
     "text": [
      "2024-03-28 23:13:37,996 Running SR-RSC and analysis INFO: Epoch 48...\n"
     ]
    },
    {
     "name": "stderr",
     "output_type": "stream",
     "text": [
      "2024-03-28 23:13:37,996 SubHIN.py-44-training(): INFO\n",
      " Epoch 48...\n"
     ]
    },
    {
     "name": "stdout",
     "output_type": "stream",
     "text": [
      "2024-03-28 23:14:01,296 Running SR-RSC and analysis INFO: Epoch 49...\n"
     ]
    },
    {
     "name": "stderr",
     "output_type": "stream",
     "text": [
      "2024-03-28 23:14:01,296 SubHIN.py-44-training(): INFO\n",
      " Epoch 49...\n"
     ]
    },
    {
     "name": "stdout",
     "output_type": "stream",
     "text": [
      "2024-03-28 23:14:24,961 Running SR-RSC and analysis INFO: Epoch 50...\n"
     ]
    },
    {
     "name": "stderr",
     "output_type": "stream",
     "text": [
      "2024-03-28 23:14:24,961 SubHIN.py-44-training(): INFO\n",
      " Epoch 50...\n"
     ]
    },
    {
     "name": "stdout",
     "output_type": "stream",
     "text": [
      "2024-03-28 23:14:47,651 Running SR-RSC and analysis INFO: Epoch 50, loss 4.0718, valacc 0.018761\n"
     ]
    },
    {
     "name": "stderr",
     "output_type": "stream",
     "text": [
      "2024-03-28 23:14:47,651 SubHIN.py-66-training(): INFO\n",
      " Epoch 50, loss 4.0718, valacc 0.018761\n"
     ]
    },
    {
     "name": "stdout",
     "output_type": "stream",
     "text": [
      "2024-03-28 23:14:52,392 Running SR-RSC and analysis INFO: NMI=0.01614, ARI: 0.03361, f1_micro=0.94083, f1_macro=0.91530\n"
     ]
    },
    {
     "name": "stderr",
     "output_type": "stream",
     "text": [
      "2024-03-28 23:14:52,392 evaluation.py-102-evalutation(): INFO\n",
      " NMI=0.01614, ARI: 0.03361, f1_micro=0.94083, f1_macro=0.91530\n"
     ]
    },
    {
     "name": "stdout",
     "output_type": "stream",
     "text": [
      "2024-03-28 23:14:52,401 Running SR-RSC and analysis INFO: Epoch 51...\n"
     ]
    },
    {
     "name": "stderr",
     "output_type": "stream",
     "text": [
      "2024-03-28 23:14:52,401 SubHIN.py-44-training(): INFO\n",
      " Epoch 51...\n"
     ]
    },
    {
     "name": "stdout",
     "output_type": "stream",
     "text": [
      "2024-03-28 23:15:16,378 Running SR-RSC and analysis INFO: Epoch 52...\n"
     ]
    },
    {
     "name": "stderr",
     "output_type": "stream",
     "text": [
      "2024-03-28 23:15:16,378 SubHIN.py-44-training(): INFO\n",
      " Epoch 52...\n"
     ]
    },
    {
     "name": "stdout",
     "output_type": "stream",
     "text": [
      "2024-03-28 23:15:38,718 Running SR-RSC and analysis INFO: Epoch 53...\n"
     ]
    },
    {
     "name": "stderr",
     "output_type": "stream",
     "text": [
      "2024-03-28 23:15:38,718 SubHIN.py-44-training(): INFO\n",
      " Epoch 53...\n"
     ]
    },
    {
     "name": "stdout",
     "output_type": "stream",
     "text": [
      "2024-03-28 23:16:01,541 Running SR-RSC and analysis INFO: Epoch 53, loss 4.0456, valacc 0.018431\n"
     ]
    },
    {
     "name": "stderr",
     "output_type": "stream",
     "text": [
      "2024-03-28 23:16:01,541 SubHIN.py-66-training(): INFO\n",
      " Epoch 53, loss 4.0456, valacc 0.018431\n"
     ]
    },
    {
     "name": "stdout",
     "output_type": "stream",
     "text": [
      "2024-03-28 23:16:06,365 Running SR-RSC and analysis INFO: NMI=0.01435, ARI: 0.02926, f1_micro=0.93904, f1_macro=0.91346\n"
     ]
    },
    {
     "name": "stderr",
     "output_type": "stream",
     "text": [
      "2024-03-28 23:16:06,365 evaluation.py-102-evalutation(): INFO\n",
      " NMI=0.01435, ARI: 0.02926, f1_micro=0.93904, f1_macro=0.91346\n"
     ]
    },
    {
     "name": "stdout",
     "output_type": "stream",
     "text": [
      "2024-03-28 23:16:06,367 Running SR-RSC and analysis INFO: Epoch 54...\n"
     ]
    },
    {
     "name": "stderr",
     "output_type": "stream",
     "text": [
      "2024-03-28 23:16:06,367 SubHIN.py-44-training(): INFO\n",
      " Epoch 54...\n"
     ]
    },
    {
     "name": "stdout",
     "output_type": "stream",
     "text": [
      "2024-03-28 23:16:28,245 Running SR-RSC and analysis INFO: Epoch 55...\n"
     ]
    },
    {
     "name": "stderr",
     "output_type": "stream",
     "text": [
      "2024-03-28 23:16:28,245 SubHIN.py-44-training(): INFO\n",
      " Epoch 55...\n"
     ]
    },
    {
     "name": "stdout",
     "output_type": "stream",
     "text": [
      "2024-03-28 23:16:50,834 Running SR-RSC and analysis INFO: Epoch 55, loss 4.0226, valacc 0.017788\n"
     ]
    },
    {
     "name": "stderr",
     "output_type": "stream",
     "text": [
      "2024-03-28 23:16:50,834 SubHIN.py-66-training(): INFO\n",
      " Epoch 55, loss 4.0226, valacc 0.017788\n"
     ]
    },
    {
     "name": "stdout",
     "output_type": "stream",
     "text": [
      "2024-03-28 23:16:55,548 Running SR-RSC and analysis INFO: NMI=0.01609, ARI: 0.03150, f1_micro=0.94173, f1_macro=0.91739\n"
     ]
    },
    {
     "name": "stderr",
     "output_type": "stream",
     "text": [
      "2024-03-28 23:16:55,548 evaluation.py-102-evalutation(): INFO\n",
      " NMI=0.01609, ARI: 0.03150, f1_micro=0.94173, f1_macro=0.91739\n"
     ]
    },
    {
     "name": "stdout",
     "output_type": "stream",
     "text": [
      "2024-03-28 23:16:55,556 Running SR-RSC and analysis INFO: Epoch 56...\n"
     ]
    },
    {
     "name": "stderr",
     "output_type": "stream",
     "text": [
      "2024-03-28 23:16:55,556 SubHIN.py-44-training(): INFO\n",
      " Epoch 56...\n"
     ]
    },
    {
     "name": "stdout",
     "output_type": "stream",
     "text": [
      "2024-03-28 23:17:19,825 Running SR-RSC and analysis INFO: Epoch 57...\n"
     ]
    },
    {
     "name": "stderr",
     "output_type": "stream",
     "text": [
      "2024-03-28 23:17:19,825 SubHIN.py-44-training(): INFO\n",
      " Epoch 57...\n"
     ]
    },
    {
     "name": "stdout",
     "output_type": "stream",
     "text": [
      "2024-03-28 23:17:42,530 Running SR-RSC and analysis INFO: Epoch 58...\n"
     ]
    },
    {
     "name": "stderr",
     "output_type": "stream",
     "text": [
      "2024-03-28 23:17:42,530 SubHIN.py-44-training(): INFO\n",
      " Epoch 58...\n"
     ]
    },
    {
     "name": "stdout",
     "output_type": "stream",
     "text": [
      "2024-03-28 23:18:06,395 Running SR-RSC and analysis INFO: Epoch 59...\n"
     ]
    },
    {
     "name": "stderr",
     "output_type": "stream",
     "text": [
      "2024-03-28 23:18:06,395 SubHIN.py-44-training(): INFO\n",
      " Epoch 59...\n"
     ]
    },
    {
     "name": "stdout",
     "output_type": "stream",
     "text": [
      "2024-03-28 23:18:28,832 Running SR-RSC and analysis INFO: Epoch 60...\n"
     ]
    },
    {
     "name": "stderr",
     "output_type": "stream",
     "text": [
      "2024-03-28 23:18:28,832 SubHIN.py-44-training(): INFO\n",
      " Epoch 60...\n"
     ]
    },
    {
     "name": "stdout",
     "output_type": "stream",
     "text": [
      "2024-03-28 23:18:52,691 Running SR-RSC and analysis INFO: Epoch 60, loss 4.0145, valacc 0.015957\n"
     ]
    },
    {
     "name": "stderr",
     "output_type": "stream",
     "text": [
      "2024-03-28 23:18:52,691 SubHIN.py-66-training(): INFO\n",
      " Epoch 60, loss 4.0145, valacc 0.015957\n"
     ]
    },
    {
     "name": "stdout",
     "output_type": "stream",
     "text": [
      "2024-03-28 23:18:57,920 Running SR-RSC and analysis INFO: NMI=0.01155, ARI: 0.02203, f1_micro=0.93904, f1_macro=0.91358\n"
     ]
    },
    {
     "name": "stderr",
     "output_type": "stream",
     "text": [
      "2024-03-28 23:18:57,920 evaluation.py-102-evalutation(): INFO\n",
      " NMI=0.01155, ARI: 0.02203, f1_micro=0.93904, f1_macro=0.91358\n"
     ]
    },
    {
     "name": "stdout",
     "output_type": "stream",
     "text": [
      "2024-03-28 23:18:57,923 Running SR-RSC and analysis INFO: Epoch 61...\n"
     ]
    },
    {
     "name": "stderr",
     "output_type": "stream",
     "text": [
      "2024-03-28 23:18:57,923 SubHIN.py-44-training(): INFO\n",
      " Epoch 61...\n"
     ]
    },
    {
     "name": "stdout",
     "output_type": "stream",
     "text": [
      "2024-03-28 23:19:22,762 Running SR-RSC and analysis INFO: Epoch 61, loss 3.9883, valacc 0.016035\n"
     ]
    },
    {
     "name": "stderr",
     "output_type": "stream",
     "text": [
      "2024-03-28 23:19:22,762 SubHIN.py-66-training(): INFO\n",
      " Epoch 61, loss 3.9883, valacc 0.016035\n"
     ]
    },
    {
     "name": "stdout",
     "output_type": "stream",
     "text": [
      "2024-03-28 23:19:27,645 Running SR-RSC and analysis INFO: NMI=0.01349, ARI: 0.02623, f1_micro=0.94397, f1_macro=0.92007\n"
     ]
    },
    {
     "name": "stderr",
     "output_type": "stream",
     "text": [
      "2024-03-28 23:19:27,645 evaluation.py-102-evalutation(): INFO\n",
      " NMI=0.01349, ARI: 0.02623, f1_micro=0.94397, f1_macro=0.92007\n"
     ]
    },
    {
     "name": "stdout",
     "output_type": "stream",
     "text": [
      "2024-03-28 23:19:27,646 Running SR-RSC and analysis INFO: Epoch 62...\n"
     ]
    },
    {
     "name": "stderr",
     "output_type": "stream",
     "text": [
      "2024-03-28 23:19:27,646 SubHIN.py-44-training(): INFO\n",
      " Epoch 62...\n"
     ]
    },
    {
     "name": "stdout",
     "output_type": "stream",
     "text": [
      "2024-03-28 23:19:51,146 Running SR-RSC and analysis INFO: Epoch 63...\n"
     ]
    },
    {
     "name": "stderr",
     "output_type": "stream",
     "text": [
      "2024-03-28 23:19:51,146 SubHIN.py-44-training(): INFO\n",
      " Epoch 63...\n"
     ]
    },
    {
     "name": "stdout",
     "output_type": "stream",
     "text": [
      "2024-03-28 23:20:14,126 Running SR-RSC and analysis INFO: Epoch 64...\n"
     ]
    },
    {
     "name": "stderr",
     "output_type": "stream",
     "text": [
      "2024-03-28 23:20:14,126 SubHIN.py-44-training(): INFO\n",
      " Epoch 64...\n"
     ]
    },
    {
     "name": "stdout",
     "output_type": "stream",
     "text": [
      "2024-03-28 23:20:36,198 Running SR-RSC and analysis INFO: Epoch 64, loss 3.9598, valacc 0.016024\n"
     ]
    },
    {
     "name": "stderr",
     "output_type": "stream",
     "text": [
      "2024-03-28 23:20:36,198 SubHIN.py-66-training(): INFO\n",
      " Epoch 64, loss 3.9598, valacc 0.016024\n"
     ]
    },
    {
     "name": "stdout",
     "output_type": "stream",
     "text": [
      "2024-03-28 23:20:41,023 Running SR-RSC and analysis INFO: NMI=0.01442, ARI: 0.02753, f1_micro=0.94442, f1_macro=0.92153\n"
     ]
    },
    {
     "name": "stderr",
     "output_type": "stream",
     "text": [
      "2024-03-28 23:20:41,023 evaluation.py-102-evalutation(): INFO\n",
      " NMI=0.01442, ARI: 0.02753, f1_micro=0.94442, f1_macro=0.92153\n"
     ]
    },
    {
     "name": "stdout",
     "output_type": "stream",
     "text": [
      "2024-03-28 23:20:41,028 Running SR-RSC and analysis INFO: Epoch 65...\n"
     ]
    },
    {
     "name": "stderr",
     "output_type": "stream",
     "text": [
      "2024-03-28 23:20:41,028 SubHIN.py-44-training(): INFO\n",
      " Epoch 65...\n"
     ]
    },
    {
     "name": "stdout",
     "output_type": "stream",
     "text": [
      "2024-03-28 23:21:03,912 Running SR-RSC and analysis INFO: Epoch 66...\n"
     ]
    },
    {
     "name": "stderr",
     "output_type": "stream",
     "text": [
      "2024-03-28 23:21:03,912 SubHIN.py-44-training(): INFO\n",
      " Epoch 66...\n"
     ]
    },
    {
     "name": "stdout",
     "output_type": "stream",
     "text": [
      "2024-03-28 23:21:27,497 Running SR-RSC and analysis INFO: Epoch 67...\n"
     ]
    },
    {
     "name": "stderr",
     "output_type": "stream",
     "text": [
      "2024-03-28 23:21:27,497 SubHIN.py-44-training(): INFO\n",
      " Epoch 67...\n"
     ]
    },
    {
     "name": "stdout",
     "output_type": "stream",
     "text": [
      "2024-03-28 23:21:51,612 Running SR-RSC and analysis INFO: Epoch 67, loss 3.9553, valacc 0.014611\n"
     ]
    },
    {
     "name": "stderr",
     "output_type": "stream",
     "text": [
      "2024-03-28 23:21:51,612 SubHIN.py-66-training(): INFO\n",
      " Epoch 67, loss 3.9553, valacc 0.014611\n"
     ]
    },
    {
     "name": "stdout",
     "output_type": "stream",
     "text": [
      "2024-03-28 23:21:56,402 Running SR-RSC and analysis INFO: NMI=0.01236, ARI: 0.02264, f1_micro=0.93859, f1_macro=0.91276\n"
     ]
    },
    {
     "name": "stderr",
     "output_type": "stream",
     "text": [
      "2024-03-28 23:21:56,402 evaluation.py-102-evalutation(): INFO\n",
      " NMI=0.01236, ARI: 0.02264, f1_micro=0.93859, f1_macro=0.91276\n"
     ]
    },
    {
     "name": "stdout",
     "output_type": "stream",
     "text": [
      "2024-03-28 23:21:56,405 Running SR-RSC and analysis INFO: Epoch 68...\n"
     ]
    },
    {
     "name": "stderr",
     "output_type": "stream",
     "text": [
      "2024-03-28 23:21:56,405 SubHIN.py-44-training(): INFO\n",
      " Epoch 68...\n"
     ]
    },
    {
     "name": "stdout",
     "output_type": "stream",
     "text": [
      "2024-03-28 23:22:19,856 Running SR-RSC and analysis INFO: Epoch 69...\n"
     ]
    },
    {
     "name": "stderr",
     "output_type": "stream",
     "text": [
      "2024-03-28 23:22:19,856 SubHIN.py-44-training(): INFO\n",
      " Epoch 69...\n"
     ]
    },
    {
     "name": "stdout",
     "output_type": "stream",
     "text": [
      "2024-03-28 23:22:44,946 Running SR-RSC and analysis INFO: Epoch 69, loss 3.9393, valacc 0.014974\n"
     ]
    },
    {
     "name": "stderr",
     "output_type": "stream",
     "text": [
      "2024-03-28 23:22:44,946 SubHIN.py-66-training(): INFO\n",
      " Epoch 69, loss 3.9393, valacc 0.014974\n"
     ]
    },
    {
     "name": "stdout",
     "output_type": "stream",
     "text": [
      "2024-03-28 23:22:50,347 Running SR-RSC and analysis INFO: NMI=0.01177, ARI: 0.02126, f1_micro=0.94083, f1_macro=0.91612\n"
     ]
    },
    {
     "name": "stderr",
     "output_type": "stream",
     "text": [
      "2024-03-28 23:22:50,347 evaluation.py-102-evalutation(): INFO\n",
      " NMI=0.01177, ARI: 0.02126, f1_micro=0.94083, f1_macro=0.91612\n"
     ]
    },
    {
     "name": "stdout",
     "output_type": "stream",
     "text": [
      "2024-03-28 23:22:50,353 Running SR-RSC and analysis INFO: Epoch 70...\n"
     ]
    },
    {
     "name": "stderr",
     "output_type": "stream",
     "text": [
      "2024-03-28 23:22:50,353 SubHIN.py-44-training(): INFO\n",
      " Epoch 70...\n"
     ]
    },
    {
     "name": "stdout",
     "output_type": "stream",
     "text": [
      "2024-03-28 23:23:16,294 Running SR-RSC and analysis INFO: Epoch 71...\n"
     ]
    },
    {
     "name": "stderr",
     "output_type": "stream",
     "text": [
      "2024-03-28 23:23:16,294 SubHIN.py-44-training(): INFO\n",
      " Epoch 71...\n"
     ]
    },
    {
     "name": "stdout",
     "output_type": "stream",
     "text": [
      "2024-03-28 23:23:39,632 Running SR-RSC and analysis INFO: Epoch 72...\n"
     ]
    },
    {
     "name": "stderr",
     "output_type": "stream",
     "text": [
      "2024-03-28 23:23:39,632 SubHIN.py-44-training(): INFO\n",
      " Epoch 72...\n"
     ]
    },
    {
     "name": "stdout",
     "output_type": "stream",
     "text": [
      "2024-03-28 23:24:03,107 Running SR-RSC and analysis INFO: Epoch 73...\n"
     ]
    },
    {
     "name": "stderr",
     "output_type": "stream",
     "text": [
      "2024-03-28 23:24:03,107 SubHIN.py-44-training(): INFO\n",
      " Epoch 73...\n"
     ]
    },
    {
     "name": "stdout",
     "output_type": "stream",
     "text": [
      "2024-03-28 23:24:26,702 Running SR-RSC and analysis INFO: Epoch 74...\n"
     ]
    },
    {
     "name": "stderr",
     "output_type": "stream",
     "text": [
      "2024-03-28 23:24:26,702 SubHIN.py-44-training(): INFO\n",
      " Epoch 74...\n"
     ]
    },
    {
     "name": "stdout",
     "output_type": "stream",
     "text": [
      "2024-03-28 23:24:50,932 Running SR-RSC and analysis INFO: Epoch 74, loss 3.9268, valacc 0.014387\n"
     ]
    },
    {
     "name": "stderr",
     "output_type": "stream",
     "text": [
      "2024-03-28 23:24:50,932 SubHIN.py-66-training(): INFO\n",
      " Epoch 74, loss 3.9268, valacc 0.014387\n"
     ]
    },
    {
     "name": "stdout",
     "output_type": "stream",
     "text": [
      "2024-03-28 23:24:55,808 Running SR-RSC and analysis INFO: NMI=0.01002, ARI: 0.01635, f1_micro=0.94173, f1_macro=0.91728\n"
     ]
    },
    {
     "name": "stderr",
     "output_type": "stream",
     "text": [
      "2024-03-28 23:24:55,808 evaluation.py-102-evalutation(): INFO\n",
      " NMI=0.01002, ARI: 0.01635, f1_micro=0.94173, f1_macro=0.91728\n"
     ]
    },
    {
     "name": "stdout",
     "output_type": "stream",
     "text": [
      "2024-03-28 23:24:55,812 Running SR-RSC and analysis INFO: Epoch 75...\n"
     ]
    },
    {
     "name": "stderr",
     "output_type": "stream",
     "text": [
      "2024-03-28 23:24:55,812 SubHIN.py-44-training(): INFO\n",
      " Epoch 75...\n"
     ]
    },
    {
     "name": "stdout",
     "output_type": "stream",
     "text": [
      "2024-03-28 23:25:19,034 Running SR-RSC and analysis INFO: Epoch 76...\n"
     ]
    },
    {
     "name": "stderr",
     "output_type": "stream",
     "text": [
      "2024-03-28 23:25:19,034 SubHIN.py-44-training(): INFO\n",
      " Epoch 76...\n"
     ]
    },
    {
     "name": "stdout",
     "output_type": "stream",
     "text": [
      "2024-03-28 23:25:43,057 Running SR-RSC and analysis INFO: Epoch 76, loss 3.9252, valacc 0.014267\n"
     ]
    },
    {
     "name": "stderr",
     "output_type": "stream",
     "text": [
      "2024-03-28 23:25:43,057 SubHIN.py-66-training(): INFO\n",
      " Epoch 76, loss 3.9252, valacc 0.014267\n"
     ]
    },
    {
     "name": "stdout",
     "output_type": "stream",
     "text": [
      "2024-03-28 23:25:48,249 Running SR-RSC and analysis INFO: NMI=0.01340, ARI: 0.02372, f1_micro=0.93994, f1_macro=0.91497\n"
     ]
    },
    {
     "name": "stderr",
     "output_type": "stream",
     "text": [
      "2024-03-28 23:25:48,249 evaluation.py-102-evalutation(): INFO\n",
      " NMI=0.01340, ARI: 0.02372, f1_micro=0.93994, f1_macro=0.91497\n"
     ]
    },
    {
     "name": "stdout",
     "output_type": "stream",
     "text": [
      "2024-03-28 23:25:48,255 Running SR-RSC and analysis INFO: Epoch 77...\n"
     ]
    },
    {
     "name": "stderr",
     "output_type": "stream",
     "text": [
      "2024-03-28 23:25:48,255 SubHIN.py-44-training(): INFO\n",
      " Epoch 77...\n"
     ]
    },
    {
     "name": "stdout",
     "output_type": "stream",
     "text": [
      "2024-03-28 23:26:12,387 Running SR-RSC and analysis INFO: Epoch 78...\n"
     ]
    },
    {
     "name": "stderr",
     "output_type": "stream",
     "text": [
      "2024-03-28 23:26:12,387 SubHIN.py-44-training(): INFO\n",
      " Epoch 78...\n"
     ]
    },
    {
     "name": "stdout",
     "output_type": "stream",
     "text": [
      "2024-03-28 23:26:35,262 Running SR-RSC and analysis INFO: Epoch 79...\n"
     ]
    },
    {
     "name": "stderr",
     "output_type": "stream",
     "text": [
      "2024-03-28 23:26:35,262 SubHIN.py-44-training(): INFO\n",
      " Epoch 79...\n"
     ]
    },
    {
     "name": "stdout",
     "output_type": "stream",
     "text": [
      "2024-03-28 23:27:00,147 Running SR-RSC and analysis INFO: Epoch 79, loss 3.9092, valacc 0.01349\n"
     ]
    },
    {
     "name": "stderr",
     "output_type": "stream",
     "text": [
      "2024-03-28 23:27:00,147 SubHIN.py-66-training(): INFO\n",
      " Epoch 79, loss 3.9092, valacc 0.01349\n"
     ]
    },
    {
     "name": "stdout",
     "output_type": "stream",
     "text": [
      "2024-03-28 23:27:05,414 Running SR-RSC and analysis INFO: NMI=0.01190, ARI: 0.01936, f1_micro=0.94352, f1_macro=0.92026\n"
     ]
    },
    {
     "name": "stderr",
     "output_type": "stream",
     "text": [
      "2024-03-28 23:27:05,414 evaluation.py-102-evalutation(): INFO\n",
      " NMI=0.01190, ARI: 0.01936, f1_micro=0.94352, f1_macro=0.92026\n"
     ]
    },
    {
     "name": "stdout",
     "output_type": "stream",
     "text": [
      "2024-03-28 23:27:05,418 Running SR-RSC and analysis INFO: Epoch 80...\n"
     ]
    },
    {
     "name": "stderr",
     "output_type": "stream",
     "text": [
      "2024-03-28 23:27:05,418 SubHIN.py-44-training(): INFO\n",
      " Epoch 80...\n"
     ]
    },
    {
     "name": "stdout",
     "output_type": "stream",
     "text": [
      "2024-03-28 23:27:29,916 Running SR-RSC and analysis INFO: Epoch 81...\n"
     ]
    },
    {
     "name": "stderr",
     "output_type": "stream",
     "text": [
      "2024-03-28 23:27:29,916 SubHIN.py-44-training(): INFO\n",
      " Epoch 81...\n"
     ]
    },
    {
     "name": "stdout",
     "output_type": "stream",
     "text": [
      "2024-03-28 23:27:52,950 Running SR-RSC and analysis INFO: Epoch 82...\n"
     ]
    },
    {
     "name": "stderr",
     "output_type": "stream",
     "text": [
      "2024-03-28 23:27:52,950 SubHIN.py-44-training(): INFO\n",
      " Epoch 82...\n"
     ]
    },
    {
     "name": "stdout",
     "output_type": "stream",
     "text": [
      "2024-03-28 23:28:19,394 Running SR-RSC and analysis INFO: Epoch 83...\n"
     ]
    },
    {
     "name": "stderr",
     "output_type": "stream",
     "text": [
      "2024-03-28 23:28:19,394 SubHIN.py-44-training(): INFO\n",
      " Epoch 83...\n"
     ]
    },
    {
     "name": "stdout",
     "output_type": "stream",
     "text": [
      "2024-03-28 23:28:46,186 Running SR-RSC and analysis INFO: Epoch 83, loss 3.8833, valacc 0.012655\n"
     ]
    },
    {
     "name": "stderr",
     "output_type": "stream",
     "text": [
      "2024-03-28 23:28:46,186 SubHIN.py-66-training(): INFO\n",
      " Epoch 83, loss 3.8833, valacc 0.012655\n"
     ]
    },
    {
     "name": "stdout",
     "output_type": "stream",
     "text": [
      "2024-03-28 23:28:51,617 Running SR-RSC and analysis INFO: NMI=0.01006, ARI: 0.01604, f1_micro=0.94980, f1_macro=0.92931\n"
     ]
    },
    {
     "name": "stderr",
     "output_type": "stream",
     "text": [
      "2024-03-28 23:28:51,617 evaluation.py-102-evalutation(): INFO\n",
      " NMI=0.01006, ARI: 0.01604, f1_micro=0.94980, f1_macro=0.92931\n"
     ]
    },
    {
     "name": "stdout",
     "output_type": "stream",
     "text": [
      "2024-03-28 23:28:51,621 Running SR-RSC and analysis INFO: Epoch 84...\n"
     ]
    },
    {
     "name": "stderr",
     "output_type": "stream",
     "text": [
      "2024-03-28 23:28:51,621 SubHIN.py-44-training(): INFO\n",
      " Epoch 84...\n"
     ]
    },
    {
     "name": "stdout",
     "output_type": "stream",
     "text": [
      "2024-03-28 23:29:16,481 Running SR-RSC and analysis INFO: Epoch 85...\n"
     ]
    },
    {
     "name": "stderr",
     "output_type": "stream",
     "text": [
      "2024-03-28 23:29:16,481 SubHIN.py-44-training(): INFO\n",
      " Epoch 85...\n"
     ]
    },
    {
     "name": "stdout",
     "output_type": "stream",
     "text": [
      "2024-03-28 23:29:42,349 Running SR-RSC and analysis INFO: Epoch 85, loss 3.8829, valacc 0.013063\n"
     ]
    },
    {
     "name": "stderr",
     "output_type": "stream",
     "text": [
      "2024-03-28 23:29:42,349 SubHIN.py-66-training(): INFO\n",
      " Epoch 85, loss 3.8829, valacc 0.013063\n"
     ]
    },
    {
     "name": "stdout",
     "output_type": "stream",
     "text": [
      "2024-03-28 23:29:48,296 Running SR-RSC and analysis INFO: NMI=0.00896, ARI: 0.01355, f1_micro=0.94756, f1_macro=0.92611\n"
     ]
    },
    {
     "name": "stderr",
     "output_type": "stream",
     "text": [
      "2024-03-28 23:29:48,296 evaluation.py-102-evalutation(): INFO\n",
      " NMI=0.00896, ARI: 0.01355, f1_micro=0.94756, f1_macro=0.92611\n"
     ]
    },
    {
     "name": "stdout",
     "output_type": "stream",
     "text": [
      "2024-03-28 23:29:48,305 Running SR-RSC and analysis INFO: Epoch 86...\n"
     ]
    },
    {
     "name": "stderr",
     "output_type": "stream",
     "text": [
      "2024-03-28 23:29:48,305 SubHIN.py-44-training(): INFO\n",
      " Epoch 86...\n"
     ]
    },
    {
     "name": "stdout",
     "output_type": "stream",
     "text": [
      "2024-03-28 23:30:15,880 Running SR-RSC and analysis INFO: Epoch 87...\n"
     ]
    },
    {
     "name": "stderr",
     "output_type": "stream",
     "text": [
      "2024-03-28 23:30:15,880 SubHIN.py-44-training(): INFO\n",
      " Epoch 87...\n"
     ]
    },
    {
     "name": "stdout",
     "output_type": "stream",
     "text": [
      "2024-03-28 23:30:42,222 Running SR-RSC and analysis INFO: Epoch 88...\n"
     ]
    },
    {
     "name": "stderr",
     "output_type": "stream",
     "text": [
      "2024-03-28 23:30:42,222 SubHIN.py-44-training(): INFO\n",
      " Epoch 88...\n"
     ]
    },
    {
     "name": "stdout",
     "output_type": "stream",
     "text": [
      "2024-03-28 23:31:08,174 Running SR-RSC and analysis INFO: Epoch 89...\n"
     ]
    },
    {
     "name": "stderr",
     "output_type": "stream",
     "text": [
      "2024-03-28 23:31:08,174 SubHIN.py-44-training(): INFO\n",
      " Epoch 89...\n"
     ]
    },
    {
     "name": "stdout",
     "output_type": "stream",
     "text": [
      "2024-03-28 23:31:33,044 Running SR-RSC and analysis INFO: Epoch 90...\n"
     ]
    },
    {
     "name": "stderr",
     "output_type": "stream",
     "text": [
      "2024-03-28 23:31:33,044 SubHIN.py-44-training(): INFO\n",
      " Epoch 90...\n"
     ]
    },
    {
     "name": "stdout",
     "output_type": "stream",
     "text": [
      "2024-03-28 23:31:56,722 Running SR-RSC and analysis INFO: Epoch 90, loss 3.863, valacc 0.013471\n"
     ]
    },
    {
     "name": "stderr",
     "output_type": "stream",
     "text": [
      "2024-03-28 23:31:56,722 SubHIN.py-66-training(): INFO\n",
      " Epoch 90, loss 3.863, valacc 0.013471\n"
     ]
    },
    {
     "name": "stdout",
     "output_type": "stream",
     "text": [
      "2024-03-28 23:32:02,346 Running SR-RSC and analysis INFO: NMI=0.01096, ARI: 0.01723, f1_micro=0.94397, f1_macro=0.92106\n"
     ]
    },
    {
     "name": "stderr",
     "output_type": "stream",
     "text": [
      "2024-03-28 23:32:02,346 evaluation.py-102-evalutation(): INFO\n",
      " NMI=0.01096, ARI: 0.01723, f1_micro=0.94397, f1_macro=0.92106\n"
     ]
    },
    {
     "name": "stdout",
     "output_type": "stream",
     "text": [
      "2024-03-28 23:32:02,351 Running SR-RSC and analysis INFO: Epoch 91...\n"
     ]
    },
    {
     "name": "stderr",
     "output_type": "stream",
     "text": [
      "2024-03-28 23:32:02,351 SubHIN.py-44-training(): INFO\n",
      " Epoch 91...\n"
     ]
    },
    {
     "name": "stdout",
     "output_type": "stream",
     "text": [
      "2024-03-28 23:32:27,988 Running SR-RSC and analysis INFO: Epoch 92...\n"
     ]
    },
    {
     "name": "stderr",
     "output_type": "stream",
     "text": [
      "2024-03-28 23:32:27,988 SubHIN.py-44-training(): INFO\n",
      " Epoch 92...\n"
     ]
    },
    {
     "name": "stdout",
     "output_type": "stream",
     "text": [
      "2024-03-28 23:32:53,262 Running SR-RSC and analysis INFO: Epoch 92, loss 3.8494, valacc 0.01266\n"
     ]
    },
    {
     "name": "stderr",
     "output_type": "stream",
     "text": [
      "2024-03-28 23:32:53,262 SubHIN.py-66-training(): INFO\n",
      " Epoch 92, loss 3.8494, valacc 0.01266\n"
     ]
    },
    {
     "name": "stdout",
     "output_type": "stream",
     "text": [
      "2024-03-28 23:32:59,036 Running SR-RSC and analysis INFO: NMI=0.01148, ARI: 0.01971, f1_micro=0.94935, f1_macro=0.92873\n"
     ]
    },
    {
     "name": "stderr",
     "output_type": "stream",
     "text": [
      "2024-03-28 23:32:59,036 evaluation.py-102-evalutation(): INFO\n",
      " NMI=0.01148, ARI: 0.01971, f1_micro=0.94935, f1_macro=0.92873\n"
     ]
    },
    {
     "name": "stdout",
     "output_type": "stream",
     "text": [
      "2024-03-28 23:32:59,056 Running SR-RSC and analysis INFO: Epoch 93...\n"
     ]
    },
    {
     "name": "stderr",
     "output_type": "stream",
     "text": [
      "2024-03-28 23:32:59,056 SubHIN.py-44-training(): INFO\n",
      " Epoch 93...\n"
     ]
    },
    {
     "name": "stdout",
     "output_type": "stream",
     "text": [
      "2024-03-28 23:33:22,754 Running SR-RSC and analysis INFO: Epoch 94...\n"
     ]
    },
    {
     "name": "stderr",
     "output_type": "stream",
     "text": [
      "2024-03-28 23:33:22,754 SubHIN.py-44-training(): INFO\n",
      " Epoch 94...\n"
     ]
    },
    {
     "name": "stdout",
     "output_type": "stream",
     "text": [
      "2024-03-28 23:33:46,165 Running SR-RSC and analysis INFO: Epoch 95...\n"
     ]
    },
    {
     "name": "stderr",
     "output_type": "stream",
     "text": [
      "2024-03-28 23:33:46,165 SubHIN.py-44-training(): INFO\n",
      " Epoch 95...\n"
     ]
    },
    {
     "name": "stdout",
     "output_type": "stream",
     "text": [
      "2024-03-28 23:34:10,496 Running SR-RSC and analysis INFO: Epoch 96...\n"
     ]
    },
    {
     "name": "stderr",
     "output_type": "stream",
     "text": [
      "2024-03-28 23:34:10,496 SubHIN.py-44-training(): INFO\n",
      " Epoch 96...\n"
     ]
    },
    {
     "name": "stdout",
     "output_type": "stream",
     "text": [
      "2024-03-28 23:34:35,768 Running SR-RSC and analysis INFO: Epoch 97...\n"
     ]
    },
    {
     "name": "stderr",
     "output_type": "stream",
     "text": [
      "2024-03-28 23:34:35,768 SubHIN.py-44-training(): INFO\n",
      " Epoch 97...\n"
     ]
    },
    {
     "name": "stdout",
     "output_type": "stream",
     "text": [
      "2024-03-28 23:34:58,712 Running SR-RSC and analysis INFO: Epoch 98...\n"
     ]
    },
    {
     "name": "stderr",
     "output_type": "stream",
     "text": [
      "2024-03-28 23:34:58,712 SubHIN.py-44-training(): INFO\n",
      " Epoch 98...\n"
     ]
    },
    {
     "name": "stdout",
     "output_type": "stream",
     "text": [
      "2024-03-28 23:35:21,568 Running SR-RSC and analysis INFO: Epoch 98, loss 3.8459, valacc 0.01271\n"
     ]
    },
    {
     "name": "stderr",
     "output_type": "stream",
     "text": [
      "2024-03-28 23:35:21,568 SubHIN.py-66-training(): INFO\n",
      " Epoch 98, loss 3.8459, valacc 0.01271\n"
     ]
    },
    {
     "name": "stdout",
     "output_type": "stream",
     "text": [
      "2024-03-28 23:35:27,562 Running SR-RSC and analysis INFO: NMI=0.01124, ARI: 0.01873, f1_micro=0.94442, f1_macro=0.92142\n"
     ]
    },
    {
     "name": "stderr",
     "output_type": "stream",
     "text": [
      "2024-03-28 23:35:27,562 evaluation.py-102-evalutation(): INFO\n",
      " NMI=0.01124, ARI: 0.01873, f1_micro=0.94442, f1_macro=0.92142\n"
     ]
    },
    {
     "name": "stdout",
     "output_type": "stream",
     "text": [
      "2024-03-28 23:35:27,567 Running SR-RSC and analysis INFO: Epoch 99...\n"
     ]
    },
    {
     "name": "stderr",
     "output_type": "stream",
     "text": [
      "2024-03-28 23:35:27,567 SubHIN.py-44-training(): INFO\n",
      " Epoch 99...\n"
     ]
    },
    {
     "name": "stdout",
     "output_type": "stream",
     "text": [
      "2024-03-28 23:35:51,181 Running SR-RSC and analysis INFO: Epoch 100...\n"
     ]
    },
    {
     "name": "stderr",
     "output_type": "stream",
     "text": [
      "2024-03-28 23:35:51,181 SubHIN.py-44-training(): INFO\n",
      " Epoch 100...\n"
     ]
    },
    {
     "name": "stdout",
     "output_type": "stream",
     "text": [
      "2024-03-28 23:36:15,999 Running SR-RSC and analysis INFO: Epoch 101...\n"
     ]
    },
    {
     "name": "stderr",
     "output_type": "stream",
     "text": [
      "2024-03-28 23:36:15,999 SubHIN.py-44-training(): INFO\n",
      " Epoch 101...\n"
     ]
    },
    {
     "name": "stdout",
     "output_type": "stream",
     "text": [
      "2024-03-28 23:36:37,512 Running SR-RSC and analysis INFO: Epoch 102...\n"
     ]
    },
    {
     "name": "stderr",
     "output_type": "stream",
     "text": [
      "2024-03-28 23:36:37,512 SubHIN.py-44-training(): INFO\n",
      " Epoch 102...\n"
     ]
    },
    {
     "name": "stdout",
     "output_type": "stream",
     "text": [
      "2024-03-28 23:37:00,880 Running SR-RSC and analysis INFO: Epoch 103...\n"
     ]
    },
    {
     "name": "stderr",
     "output_type": "stream",
     "text": [
      "2024-03-28 23:37:00,880 SubHIN.py-44-training(): INFO\n",
      " Epoch 103...\n"
     ]
    },
    {
     "name": "stdout",
     "output_type": "stream",
     "text": [
      "2024-03-28 23:37:24,635 Running SR-RSC and analysis INFO: Epoch 104...\n"
     ]
    },
    {
     "name": "stderr",
     "output_type": "stream",
     "text": [
      "2024-03-28 23:37:24,635 SubHIN.py-44-training(): INFO\n",
      " Epoch 104...\n"
     ]
    },
    {
     "name": "stdout",
     "output_type": "stream",
     "text": [
      "2024-03-28 23:37:48,732 Running SR-RSC and analysis INFO: Epoch 104, loss 3.8331, valacc 0.012576\n"
     ]
    },
    {
     "name": "stderr",
     "output_type": "stream",
     "text": [
      "2024-03-28 23:37:48,732 SubHIN.py-66-training(): INFO\n",
      " Epoch 104, loss 3.8331, valacc 0.012576\n"
     ]
    },
    {
     "name": "stdout",
     "output_type": "stream",
     "text": [
      "2024-03-28 23:37:55,593 Running SR-RSC and analysis INFO: NMI=0.00921, ARI: 0.01332, f1_micro=0.94801, f1_macro=0.92689\n"
     ]
    },
    {
     "name": "stderr",
     "output_type": "stream",
     "text": [
      "2024-03-28 23:37:55,593 evaluation.py-102-evalutation(): INFO\n",
      " NMI=0.00921, ARI: 0.01332, f1_micro=0.94801, f1_macro=0.92689\n"
     ]
    },
    {
     "name": "stdout",
     "output_type": "stream",
     "text": [
      "2024-03-28 23:37:55,602 Running SR-RSC and analysis INFO: Epoch 105...\n"
     ]
    },
    {
     "name": "stderr",
     "output_type": "stream",
     "text": [
      "2024-03-28 23:37:55,602 SubHIN.py-44-training(): INFO\n",
      " Epoch 105...\n"
     ]
    },
    {
     "name": "stdout",
     "output_type": "stream",
     "text": [
      "2024-03-28 23:38:19,575 Running SR-RSC and analysis INFO: Epoch 106...\n"
     ]
    },
    {
     "name": "stderr",
     "output_type": "stream",
     "text": [
      "2024-03-28 23:38:19,575 SubHIN.py-44-training(): INFO\n",
      " Epoch 106...\n"
     ]
    },
    {
     "name": "stdout",
     "output_type": "stream",
     "text": [
      "2024-03-28 23:38:44,940 Running SR-RSC and analysis INFO: Epoch 107...\n"
     ]
    },
    {
     "name": "stderr",
     "output_type": "stream",
     "text": [
      "2024-03-28 23:38:44,940 SubHIN.py-44-training(): INFO\n",
      " Epoch 107...\n"
     ]
    },
    {
     "name": "stdout",
     "output_type": "stream",
     "text": [
      "2024-03-28 23:39:10,238 Running SR-RSC and analysis INFO: Epoch 108...\n"
     ]
    },
    {
     "name": "stderr",
     "output_type": "stream",
     "text": [
      "2024-03-28 23:39:10,238 SubHIN.py-44-training(): INFO\n",
      " Epoch 108...\n"
     ]
    },
    {
     "name": "stdout",
     "output_type": "stream",
     "text": [
      "2024-03-28 23:39:34,779 Running SR-RSC and analysis INFO: Epoch 109...\n"
     ]
    },
    {
     "name": "stderr",
     "output_type": "stream",
     "text": [
      "2024-03-28 23:39:34,779 SubHIN.py-44-training(): INFO\n",
      " Epoch 109...\n"
     ]
    },
    {
     "name": "stdout",
     "output_type": "stream",
     "text": [
      "2024-03-28 23:40:00,301 Running SR-RSC and analysis INFO: Epoch 109, loss 3.8237, valacc 0.012011\n"
     ]
    },
    {
     "name": "stderr",
     "output_type": "stream",
     "text": [
      "2024-03-28 23:40:00,301 SubHIN.py-66-training(): INFO\n",
      " Epoch 109, loss 3.8237, valacc 0.012011\n"
     ]
    },
    {
     "name": "stdout",
     "output_type": "stream",
     "text": [
      "2024-03-28 23:40:06,222 Running SR-RSC and analysis INFO: NMI=0.01029, ARI: 0.01613, f1_micro=0.94621, f1_macro=0.92437\n"
     ]
    },
    {
     "name": "stderr",
     "output_type": "stream",
     "text": [
      "2024-03-28 23:40:06,222 evaluation.py-102-evalutation(): INFO\n",
      " NMI=0.01029, ARI: 0.01613, f1_micro=0.94621, f1_macro=0.92437\n"
     ]
    },
    {
     "name": "stdout",
     "output_type": "stream",
     "text": [
      "2024-03-28 23:40:06,226 Running SR-RSC and analysis INFO: Epoch 110...\n"
     ]
    },
    {
     "name": "stderr",
     "output_type": "stream",
     "text": [
      "2024-03-28 23:40:06,226 SubHIN.py-44-training(): INFO\n",
      " Epoch 110...\n"
     ]
    },
    {
     "name": "stdout",
     "output_type": "stream",
     "text": [
      "2024-03-28 23:40:30,215 Running SR-RSC and analysis INFO: Epoch 111...\n"
     ]
    },
    {
     "name": "stderr",
     "output_type": "stream",
     "text": [
      "2024-03-28 23:40:30,215 SubHIN.py-44-training(): INFO\n",
      " Epoch 111...\n"
     ]
    },
    {
     "name": "stdout",
     "output_type": "stream",
     "text": [
      "2024-03-28 23:40:52,841 Running SR-RSC and analysis INFO: Epoch 112...\n"
     ]
    },
    {
     "name": "stderr",
     "output_type": "stream",
     "text": [
      "2024-03-28 23:40:52,841 SubHIN.py-44-training(): INFO\n",
      " Epoch 112...\n"
     ]
    },
    {
     "name": "stdout",
     "output_type": "stream",
     "text": [
      "2024-03-28 23:41:16,794 Running SR-RSC and analysis INFO: Epoch 113...\n"
     ]
    },
    {
     "name": "stderr",
     "output_type": "stream",
     "text": [
      "2024-03-28 23:41:16,794 SubHIN.py-44-training(): INFO\n",
      " Epoch 113...\n"
     ]
    },
    {
     "name": "stdout",
     "output_type": "stream",
     "text": [
      "2024-03-28 23:41:40,721 Running SR-RSC and analysis INFO: Epoch 114...\n"
     ]
    },
    {
     "name": "stderr",
     "output_type": "stream",
     "text": [
      "2024-03-28 23:41:40,721 SubHIN.py-44-training(): INFO\n",
      " Epoch 114...\n"
     ]
    },
    {
     "name": "stdout",
     "output_type": "stream",
     "text": [
      "2024-03-28 23:42:03,987 Running SR-RSC and analysis INFO: Epoch 115...\n"
     ]
    },
    {
     "name": "stderr",
     "output_type": "stream",
     "text": [
      "2024-03-28 23:42:03,987 SubHIN.py-44-training(): INFO\n",
      " Epoch 115...\n"
     ]
    },
    {
     "name": "stdout",
     "output_type": "stream",
     "text": [
      "2024-03-28 23:42:27,661 Running SR-RSC and analysis INFO: Epoch 115, loss 3.8159, valacc 0.055672\n"
     ]
    },
    {
     "name": "stderr",
     "output_type": "stream",
     "text": [
      "2024-03-28 23:42:27,661 SubHIN.py-66-training(): INFO\n",
      " Epoch 115, loss 3.8159, valacc 0.055672\n"
     ]
    },
    {
     "name": "stdout",
     "output_type": "stream",
     "text": [
      "2024-03-28 23:42:33,388 Running SR-RSC and analysis INFO: NMI=0.00989, ARI: 0.01565, f1_micro=0.94263, f1_macro=0.91911\n"
     ]
    },
    {
     "name": "stderr",
     "output_type": "stream",
     "text": [
      "2024-03-28 23:42:33,388 evaluation.py-102-evalutation(): INFO\n",
      " NMI=0.00989, ARI: 0.01565, f1_micro=0.94263, f1_macro=0.91911\n"
     ]
    },
    {
     "name": "stdout",
     "output_type": "stream",
     "text": [
      "2024-03-28 23:42:33,394 Running SR-RSC and analysis INFO: Epoch 116...\n"
     ]
    },
    {
     "name": "stderr",
     "output_type": "stream",
     "text": [
      "2024-03-28 23:42:33,394 SubHIN.py-44-training(): INFO\n",
      " Epoch 116...\n"
     ]
    },
    {
     "name": "stdout",
     "output_type": "stream",
     "text": [
      "2024-03-28 23:42:58,529 Running SR-RSC and analysis INFO: Epoch 117...\n"
     ]
    },
    {
     "name": "stderr",
     "output_type": "stream",
     "text": [
      "2024-03-28 23:42:58,529 SubHIN.py-44-training(): INFO\n",
      " Epoch 117...\n"
     ]
    },
    {
     "name": "stdout",
     "output_type": "stream",
     "text": [
      "2024-03-28 23:43:21,693 Running SR-RSC and analysis INFO: Epoch 118...\n"
     ]
    },
    {
     "name": "stderr",
     "output_type": "stream",
     "text": [
      "2024-03-28 23:43:21,693 SubHIN.py-44-training(): INFO\n",
      " Epoch 118...\n"
     ]
    },
    {
     "name": "stdout",
     "output_type": "stream",
     "text": [
      "2024-03-28 23:43:45,103 Running SR-RSC and analysis INFO: Epoch 119...\n"
     ]
    },
    {
     "name": "stderr",
     "output_type": "stream",
     "text": [
      "2024-03-28 23:43:45,103 SubHIN.py-44-training(): INFO\n",
      " Epoch 119...\n"
     ]
    },
    {
     "name": "stdout",
     "output_type": "stream",
     "text": [
      "2024-03-28 23:44:07,666 Running SR-RSC and analysis INFO: Epoch 120...\n"
     ]
    },
    {
     "name": "stderr",
     "output_type": "stream",
     "text": [
      "2024-03-28 23:44:07,666 SubHIN.py-44-training(): INFO\n",
      " Epoch 120...\n"
     ]
    },
    {
     "name": "stdout",
     "output_type": "stream",
     "text": [
      "2024-03-28 23:44:30,961 Running SR-RSC and analysis INFO: Epoch 121...\n"
     ]
    },
    {
     "name": "stderr",
     "output_type": "stream",
     "text": [
      "2024-03-28 23:44:30,961 SubHIN.py-44-training(): INFO\n",
      " Epoch 121...\n"
     ]
    },
    {
     "name": "stdout",
     "output_type": "stream",
     "text": [
      "2024-03-28 23:44:54,498 Running SR-RSC and analysis INFO: Epoch 122...\n"
     ]
    },
    {
     "name": "stderr",
     "output_type": "stream",
     "text": [
      "2024-03-28 23:44:54,498 SubHIN.py-44-training(): INFO\n",
      " Epoch 122...\n"
     ]
    },
    {
     "name": "stdout",
     "output_type": "stream",
     "text": [
      "2024-03-28 23:45:21,272 Running SR-RSC and analysis INFO: Epoch 123...\n"
     ]
    },
    {
     "name": "stderr",
     "output_type": "stream",
     "text": [
      "2024-03-28 23:45:21,272 SubHIN.py-44-training(): INFO\n",
      " Epoch 123...\n"
     ]
    },
    {
     "name": "stdout",
     "output_type": "stream",
     "text": [
      "2024-03-28 23:45:47,810 Running SR-RSC and analysis INFO: Epoch 124...\n"
     ]
    },
    {
     "name": "stderr",
     "output_type": "stream",
     "text": [
      "2024-03-28 23:45:47,810 SubHIN.py-44-training(): INFO\n",
      " Epoch 124...\n"
     ]
    },
    {
     "name": "stdout",
     "output_type": "stream",
     "text": [
      "2024-03-28 23:46:14,994 Running SR-RSC and analysis INFO: Epoch 124, loss 3.8098, valacc 0.013143\n"
     ]
    },
    {
     "name": "stderr",
     "output_type": "stream",
     "text": [
      "2024-03-28 23:46:14,994 SubHIN.py-66-training(): INFO\n",
      " Epoch 124, loss 3.8098, valacc 0.013143\n"
     ]
    },
    {
     "name": "stdout",
     "output_type": "stream",
     "text": [
      "2024-03-28 23:46:20,660 Running SR-RSC and analysis INFO: NMI=0.01038, ARI: 0.01549, f1_micro=0.94935, f1_macro=0.92902\n"
     ]
    },
    {
     "name": "stderr",
     "output_type": "stream",
     "text": [
      "2024-03-28 23:46:20,660 evaluation.py-102-evalutation(): INFO\n",
      " NMI=0.01038, ARI: 0.01549, f1_micro=0.94935, f1_macro=0.92902\n"
     ]
    },
    {
     "name": "stdout",
     "output_type": "stream",
     "text": [
      "2024-03-28 23:46:20,669 Running SR-RSC and analysis INFO: Epoch 125...\n"
     ]
    },
    {
     "name": "stderr",
     "output_type": "stream",
     "text": [
      "2024-03-28 23:46:20,669 SubHIN.py-44-training(): INFO\n",
      " Epoch 125...\n"
     ]
    },
    {
     "name": "stdout",
     "output_type": "stream",
     "text": [
      "2024-03-28 23:46:46,499 Running SR-RSC and analysis INFO: Epoch 126...\n"
     ]
    },
    {
     "name": "stderr",
     "output_type": "stream",
     "text": [
      "2024-03-28 23:46:46,499 SubHIN.py-44-training(): INFO\n",
      " Epoch 126...\n"
     ]
    },
    {
     "name": "stdout",
     "output_type": "stream",
     "text": [
      "2024-03-28 23:47:12,759 Running SR-RSC and analysis INFO: Epoch 127...\n"
     ]
    },
    {
     "name": "stderr",
     "output_type": "stream",
     "text": [
      "2024-03-28 23:47:12,759 SubHIN.py-44-training(): INFO\n",
      " Epoch 127...\n"
     ]
    },
    {
     "name": "stdout",
     "output_type": "stream",
     "text": [
      "2024-03-28 23:47:39,509 Running SR-RSC and analysis INFO: Epoch 127, loss 3.8068, valacc 0.013199\n"
     ]
    },
    {
     "name": "stderr",
     "output_type": "stream",
     "text": [
      "2024-03-28 23:47:39,509 SubHIN.py-66-training(): INFO\n",
      " Epoch 127, loss 3.8068, valacc 0.013199\n"
     ]
    },
    {
     "name": "stdout",
     "output_type": "stream",
     "text": [
      "2024-03-28 23:47:45,986 Running SR-RSC and analysis INFO: NMI=0.01162, ARI: 0.01959, f1_micro=0.94352, f1_macro=0.92037\n"
     ]
    },
    {
     "name": "stderr",
     "output_type": "stream",
     "text": [
      "2024-03-28 23:47:45,986 evaluation.py-102-evalutation(): INFO\n",
      " NMI=0.01162, ARI: 0.01959, f1_micro=0.94352, f1_macro=0.92037\n"
     ]
    },
    {
     "name": "stdout",
     "output_type": "stream",
     "text": [
      "2024-03-28 23:47:45,991 Running SR-RSC and analysis INFO: Epoch 128...\n"
     ]
    },
    {
     "name": "stderr",
     "output_type": "stream",
     "text": [
      "2024-03-28 23:47:45,991 SubHIN.py-44-training(): INFO\n",
      " Epoch 128...\n"
     ]
    },
    {
     "name": "stdout",
     "output_type": "stream",
     "text": [
      "2024-03-28 23:48:09,413 Running SR-RSC and analysis INFO: Epoch 129...\n"
     ]
    },
    {
     "name": "stderr",
     "output_type": "stream",
     "text": [
      "2024-03-28 23:48:09,413 SubHIN.py-44-training(): INFO\n",
      " Epoch 129...\n"
     ]
    },
    {
     "name": "stdout",
     "output_type": "stream",
     "text": [
      "2024-03-28 23:48:32,550 Running SR-RSC and analysis INFO: Epoch 129, loss 3.7876, valacc 0.013031\n"
     ]
    },
    {
     "name": "stderr",
     "output_type": "stream",
     "text": [
      "2024-03-28 23:48:32,550 SubHIN.py-66-training(): INFO\n",
      " Epoch 129, loss 3.7876, valacc 0.013031\n"
     ]
    },
    {
     "name": "stdout",
     "output_type": "stream",
     "text": [
      "2024-03-28 23:48:38,537 Running SR-RSC and analysis INFO: NMI=0.01143, ARI: 0.01916, f1_micro=0.94442, f1_macro=0.92185\n"
     ]
    },
    {
     "name": "stderr",
     "output_type": "stream",
     "text": [
      "2024-03-28 23:48:38,537 evaluation.py-102-evalutation(): INFO\n",
      " NMI=0.01143, ARI: 0.01916, f1_micro=0.94442, f1_macro=0.92185\n"
     ]
    },
    {
     "name": "stdout",
     "output_type": "stream",
     "text": [
      "2024-03-28 23:48:38,549 Running SR-RSC and analysis INFO: Epoch 130...\n"
     ]
    },
    {
     "name": "stderr",
     "output_type": "stream",
     "text": [
      "2024-03-28 23:48:38,549 SubHIN.py-44-training(): INFO\n",
      " Epoch 130...\n"
     ]
    },
    {
     "name": "stdout",
     "output_type": "stream",
     "text": [
      "2024-03-28 23:49:05,368 Running SR-RSC and analysis INFO: Epoch 131...\n"
     ]
    },
    {
     "name": "stderr",
     "output_type": "stream",
     "text": [
      "2024-03-28 23:49:05,368 SubHIN.py-44-training(): INFO\n",
      " Epoch 131...\n"
     ]
    },
    {
     "name": "stdout",
     "output_type": "stream",
     "text": [
      "2024-03-28 23:49:32,460 Running SR-RSC and analysis INFO: Epoch 132...\n"
     ]
    },
    {
     "name": "stderr",
     "output_type": "stream",
     "text": [
      "2024-03-28 23:49:32,460 SubHIN.py-44-training(): INFO\n",
      " Epoch 132...\n"
     ]
    },
    {
     "name": "stdout",
     "output_type": "stream",
     "text": [
      "2024-03-28 23:50:00,138 Running SR-RSC and analysis INFO: Epoch 133...\n"
     ]
    },
    {
     "name": "stderr",
     "output_type": "stream",
     "text": [
      "2024-03-28 23:50:00,138 SubHIN.py-44-training(): INFO\n",
      " Epoch 133...\n"
     ]
    },
    {
     "name": "stdout",
     "output_type": "stream",
     "text": [
      "2024-03-28 23:50:24,081 Running SR-RSC and analysis INFO: Epoch 134...\n"
     ]
    },
    {
     "name": "stderr",
     "output_type": "stream",
     "text": [
      "2024-03-28 23:50:24,081 SubHIN.py-44-training(): INFO\n",
      " Epoch 134...\n"
     ]
    },
    {
     "name": "stdout",
     "output_type": "stream",
     "text": [
      "2024-03-28 23:50:48,663 Running SR-RSC and analysis INFO: Epoch 135...\n"
     ]
    },
    {
     "name": "stderr",
     "output_type": "stream",
     "text": [
      "2024-03-28 23:50:48,663 SubHIN.py-44-training(): INFO\n",
      " Epoch 135...\n"
     ]
    },
    {
     "name": "stdout",
     "output_type": "stream",
     "text": [
      "2024-03-28 23:51:15,597 Running SR-RSC and analysis INFO: Epoch 136...\n"
     ]
    },
    {
     "name": "stderr",
     "output_type": "stream",
     "text": [
      "2024-03-28 23:51:15,597 SubHIN.py-44-training(): INFO\n",
      " Epoch 136...\n"
     ]
    },
    {
     "name": "stdout",
     "output_type": "stream",
     "text": [
      "2024-03-28 23:51:43,571 Running SR-RSC and analysis INFO: Epoch 137...\n"
     ]
    },
    {
     "name": "stderr",
     "output_type": "stream",
     "text": [
      "2024-03-28 23:51:43,571 SubHIN.py-44-training(): INFO\n",
      " Epoch 137...\n"
     ]
    },
    {
     "name": "stdout",
     "output_type": "stream",
     "text": [
      "2024-03-28 23:52:14,742 Running SR-RSC and analysis INFO: Epoch 138...\n"
     ]
    },
    {
     "name": "stderr",
     "output_type": "stream",
     "text": [
      "2024-03-28 23:52:14,742 SubHIN.py-44-training(): INFO\n",
      " Epoch 138...\n"
     ]
    },
    {
     "name": "stdout",
     "output_type": "stream",
     "text": [
      "2024-03-28 23:52:46,738 Running SR-RSC and analysis INFO: Epoch 139...\n"
     ]
    },
    {
     "name": "stderr",
     "output_type": "stream",
     "text": [
      "2024-03-28 23:52:46,738 SubHIN.py-44-training(): INFO\n",
      " Epoch 139...\n"
     ]
    },
    {
     "name": "stdout",
     "output_type": "stream",
     "text": [
      "2024-03-28 23:53:19,945 Running SR-RSC and analysis INFO: Epoch 140...\n"
     ]
    },
    {
     "name": "stderr",
     "output_type": "stream",
     "text": [
      "2024-03-28 23:53:19,945 SubHIN.py-44-training(): INFO\n",
      " Epoch 140...\n"
     ]
    },
    {
     "name": "stdout",
     "output_type": "stream",
     "text": [
      "2024-03-28 23:53:57,312 Running SR-RSC and analysis INFO: Epoch 141...\n"
     ]
    },
    {
     "name": "stderr",
     "output_type": "stream",
     "text": [
      "2024-03-28 23:53:57,312 SubHIN.py-44-training(): INFO\n",
      " Epoch 141...\n"
     ]
    },
    {
     "name": "stdout",
     "output_type": "stream",
     "text": [
      "2024-03-28 23:54:35,305 Running SR-RSC and analysis INFO: Epoch 142...\n"
     ]
    },
    {
     "name": "stderr",
     "output_type": "stream",
     "text": [
      "2024-03-28 23:54:35,305 SubHIN.py-44-training(): INFO\n",
      " Epoch 142...\n"
     ]
    },
    {
     "name": "stdout",
     "output_type": "stream",
     "text": [
      "2024-03-28 23:55:07,733 Running SR-RSC and analysis INFO: Epoch 143...\n"
     ]
    },
    {
     "name": "stderr",
     "output_type": "stream",
     "text": [
      "2024-03-28 23:55:07,733 SubHIN.py-44-training(): INFO\n",
      " Epoch 143...\n"
     ]
    },
    {
     "name": "stdout",
     "output_type": "stream",
     "text": [
      "2024-03-28 23:55:45,091 Running SR-RSC and analysis INFO: Epoch 143, loss 3.7872, valacc 0.013225\n"
     ]
    },
    {
     "name": "stderr",
     "output_type": "stream",
     "text": [
      "2024-03-28 23:55:45,091 SubHIN.py-66-training(): INFO\n",
      " Epoch 143, loss 3.7872, valacc 0.013225\n"
     ]
    },
    {
     "name": "stdout",
     "output_type": "stream",
     "text": [
      "2024-03-28 23:55:52,032 Running SR-RSC and analysis INFO: NMI=0.01119, ARI: 0.01819, f1_micro=0.94083, f1_macro=0.91612\n"
     ]
    },
    {
     "name": "stderr",
     "output_type": "stream",
     "text": [
      "2024-03-28 23:55:52,032 evaluation.py-102-evalutation(): INFO\n",
      " NMI=0.01119, ARI: 0.01819, f1_micro=0.94083, f1_macro=0.91612\n"
     ]
    },
    {
     "name": "stdout",
     "output_type": "stream",
     "text": [
      "2024-03-28 23:55:52,036 Running SR-RSC and analysis INFO: Epoch 144...\n"
     ]
    },
    {
     "name": "stderr",
     "output_type": "stream",
     "text": [
      "2024-03-28 23:55:52,036 SubHIN.py-44-training(): INFO\n",
      " Epoch 144...\n"
     ]
    },
    {
     "name": "stdout",
     "output_type": "stream",
     "text": [
      "2024-03-28 23:56:25,134 Running SR-RSC and analysis INFO: Epoch 145...\n"
     ]
    },
    {
     "name": "stderr",
     "output_type": "stream",
     "text": [
      "2024-03-28 23:56:25,134 SubHIN.py-44-training(): INFO\n",
      " Epoch 145...\n"
     ]
    },
    {
     "name": "stdout",
     "output_type": "stream",
     "text": [
      "2024-03-28 23:57:01,214 Running SR-RSC and analysis INFO: Epoch 146...\n"
     ]
    },
    {
     "name": "stderr",
     "output_type": "stream",
     "text": [
      "2024-03-28 23:57:01,214 SubHIN.py-44-training(): INFO\n",
      " Epoch 146...\n"
     ]
    },
    {
     "name": "stdout",
     "output_type": "stream",
     "text": [
      "2024-03-28 23:57:31,763 Running SR-RSC and analysis INFO: Epoch 147...\n"
     ]
    },
    {
     "name": "stderr",
     "output_type": "stream",
     "text": [
      "2024-03-28 23:57:31,763 SubHIN.py-44-training(): INFO\n",
      " Epoch 147...\n"
     ]
    },
    {
     "name": "stdout",
     "output_type": "stream",
     "text": [
      "2024-03-28 23:58:00,352 Running SR-RSC and analysis INFO: Epoch 148...\n"
     ]
    },
    {
     "name": "stderr",
     "output_type": "stream",
     "text": [
      "2024-03-28 23:58:00,352 SubHIN.py-44-training(): INFO\n",
      " Epoch 148...\n"
     ]
    },
    {
     "name": "stdout",
     "output_type": "stream",
     "text": [
      "2024-03-28 23:58:29,405 Running SR-RSC and analysis INFO: Epoch 149...\n"
     ]
    },
    {
     "name": "stderr",
     "output_type": "stream",
     "text": [
      "2024-03-28 23:58:29,405 SubHIN.py-44-training(): INFO\n",
      " Epoch 149...\n"
     ]
    },
    {
     "name": "stdout",
     "output_type": "stream",
     "text": [
      "2024-03-28 23:58:58,232 Running SR-RSC and analysis INFO: Epoch 150...\n"
     ]
    },
    {
     "name": "stderr",
     "output_type": "stream",
     "text": [
      "2024-03-28 23:58:58,232 SubHIN.py-44-training(): INFO\n",
      " Epoch 150...\n"
     ]
    },
    {
     "name": "stdout",
     "output_type": "stream",
     "text": [
      "2024-03-28 23:59:29,812 Running SR-RSC and analysis INFO: Epoch 151...\n"
     ]
    },
    {
     "name": "stderr",
     "output_type": "stream",
     "text": [
      "2024-03-28 23:59:29,812 SubHIN.py-44-training(): INFO\n",
      " Epoch 151...\n"
     ]
    },
    {
     "name": "stdout",
     "output_type": "stream",
     "text": [
      "2024-03-29 00:00:02,361 Running SR-RSC and analysis INFO: Epoch 151, loss 3.7806, valacc 0.013586\n"
     ]
    },
    {
     "name": "stderr",
     "output_type": "stream",
     "text": [
      "2024-03-29 00:00:02,361 SubHIN.py-66-training(): INFO\n",
      " Epoch 151, loss 3.7806, valacc 0.013586\n"
     ]
    },
    {
     "name": "stdout",
     "output_type": "stream",
     "text": [
      "2024-03-29 00:00:10,045 Running SR-RSC and analysis INFO: NMI=0.01115, ARI: 0.01852, f1_micro=0.94845, f1_macro=0.92747\n"
     ]
    },
    {
     "name": "stderr",
     "output_type": "stream",
     "text": [
      "2024-03-29 00:00:10,045 evaluation.py-102-evalutation(): INFO\n",
      " NMI=0.01115, ARI: 0.01852, f1_micro=0.94845, f1_macro=0.92747\n"
     ]
    },
    {
     "name": "stdout",
     "output_type": "stream",
     "text": [
      "2024-03-29 00:00:10,049 Running SR-RSC and analysis INFO: Epoch 152...\n"
     ]
    },
    {
     "name": "stderr",
     "output_type": "stream",
     "text": [
      "2024-03-29 00:00:10,049 SubHIN.py-44-training(): INFO\n",
      " Epoch 152...\n"
     ]
    },
    {
     "name": "stdout",
     "output_type": "stream",
     "text": [
      "2024-03-29 00:00:42,827 Running SR-RSC and analysis INFO: Epoch 153...\n"
     ]
    },
    {
     "name": "stderr",
     "output_type": "stream",
     "text": [
      "2024-03-29 00:00:42,827 SubHIN.py-44-training(): INFO\n",
      " Epoch 153...\n"
     ]
    },
    {
     "name": "stdout",
     "output_type": "stream",
     "text": [
      "2024-03-29 00:01:17,612 Running SR-RSC and analysis INFO: Epoch 154...\n"
     ]
    },
    {
     "name": "stderr",
     "output_type": "stream",
     "text": [
      "2024-03-29 00:01:17,612 SubHIN.py-44-training(): INFO\n",
      " Epoch 154...\n"
     ]
    },
    {
     "name": "stdout",
     "output_type": "stream",
     "text": [
      "2024-03-29 00:01:49,558 Running SR-RSC and analysis INFO: Epoch 155...\n"
     ]
    },
    {
     "name": "stderr",
     "output_type": "stream",
     "text": [
      "2024-03-29 00:01:49,558 SubHIN.py-44-training(): INFO\n",
      " Epoch 155...\n"
     ]
    },
    {
     "name": "stdout",
     "output_type": "stream",
     "text": [
      "2024-03-29 00:02:26,922 Running SR-RSC and analysis INFO: Epoch 156...\n"
     ]
    },
    {
     "name": "stderr",
     "output_type": "stream",
     "text": [
      "2024-03-29 00:02:26,922 SubHIN.py-44-training(): INFO\n",
      " Epoch 156...\n"
     ]
    },
    {
     "name": "stdout",
     "output_type": "stream",
     "text": [
      "2024-03-29 00:03:02,318 Running SR-RSC and analysis INFO: Epoch 156, loss 3.7679, valacc 0.013008\n"
     ]
    },
    {
     "name": "stderr",
     "output_type": "stream",
     "text": [
      "2024-03-29 00:03:02,318 SubHIN.py-66-training(): INFO\n",
      " Epoch 156, loss 3.7679, valacc 0.013008\n"
     ]
    },
    {
     "name": "stdout",
     "output_type": "stream",
     "text": [
      "2024-03-29 00:03:08,945 Running SR-RSC and analysis INFO: NMI=0.00859, ARI: 0.01387, f1_micro=0.94666, f1_macro=0.92495\n"
     ]
    },
    {
     "name": "stderr",
     "output_type": "stream",
     "text": [
      "2024-03-29 00:03:08,945 evaluation.py-102-evalutation(): INFO\n",
      " NMI=0.00859, ARI: 0.01387, f1_micro=0.94666, f1_macro=0.92495\n"
     ]
    },
    {
     "name": "stdout",
     "output_type": "stream",
     "text": [
      "2024-03-29 00:03:08,952 Running SR-RSC and analysis INFO: Epoch 157...\n"
     ]
    },
    {
     "name": "stderr",
     "output_type": "stream",
     "text": [
      "2024-03-29 00:03:08,952 SubHIN.py-44-training(): INFO\n",
      " Epoch 157...\n"
     ]
    },
    {
     "name": "stdout",
     "output_type": "stream",
     "text": [
      "2024-03-29 00:03:44,003 Running SR-RSC and analysis INFO: Epoch 158...\n"
     ]
    },
    {
     "name": "stderr",
     "output_type": "stream",
     "text": [
      "2024-03-29 00:03:44,003 SubHIN.py-44-training(): INFO\n",
      " Epoch 158...\n"
     ]
    },
    {
     "name": "stdout",
     "output_type": "stream",
     "text": [
      "2024-03-29 00:04:14,678 Running SR-RSC and analysis INFO: Epoch 159...\n"
     ]
    },
    {
     "name": "stderr",
     "output_type": "stream",
     "text": [
      "2024-03-29 00:04:14,678 SubHIN.py-44-training(): INFO\n",
      " Epoch 159...\n"
     ]
    },
    {
     "name": "stdout",
     "output_type": "stream",
     "text": [
      "2024-03-29 00:04:43,954 Running SR-RSC and analysis INFO: Epoch 160...\n"
     ]
    },
    {
     "name": "stderr",
     "output_type": "stream",
     "text": [
      "2024-03-29 00:04:43,954 SubHIN.py-44-training(): INFO\n",
      " Epoch 160...\n"
     ]
    },
    {
     "name": "stdout",
     "output_type": "stream",
     "text": [
      "2024-03-29 00:05:11,386 Running SR-RSC and analysis INFO: Epoch 161...\n"
     ]
    },
    {
     "name": "stderr",
     "output_type": "stream",
     "text": [
      "2024-03-29 00:05:11,386 SubHIN.py-44-training(): INFO\n",
      " Epoch 161...\n"
     ]
    },
    {
     "name": "stdout",
     "output_type": "stream",
     "text": [
      "2024-03-29 00:05:39,446 Running SR-RSC and analysis INFO: Epoch 162...\n"
     ]
    },
    {
     "name": "stderr",
     "output_type": "stream",
     "text": [
      "2024-03-29 00:05:39,446 SubHIN.py-44-training(): INFO\n",
      " Epoch 162...\n"
     ]
    },
    {
     "name": "stdout",
     "output_type": "stream",
     "text": [
      "2024-03-29 00:06:06,188 Running SR-RSC and analysis INFO: Epoch 163...\n"
     ]
    },
    {
     "name": "stderr",
     "output_type": "stream",
     "text": [
      "2024-03-29 00:06:06,188 SubHIN.py-44-training(): INFO\n",
      " Epoch 163...\n"
     ]
    },
    {
     "name": "stdout",
     "output_type": "stream",
     "text": [
      "2024-03-29 00:06:36,052 Running SR-RSC and analysis INFO: Epoch 164...\n"
     ]
    },
    {
     "name": "stderr",
     "output_type": "stream",
     "text": [
      "2024-03-29 00:06:36,052 SubHIN.py-44-training(): INFO\n",
      " Epoch 164...\n"
     ]
    },
    {
     "name": "stdout",
     "output_type": "stream",
     "text": [
      "2024-03-29 00:07:03,038 Running SR-RSC and analysis INFO: Epoch 165...\n"
     ]
    },
    {
     "name": "stderr",
     "output_type": "stream",
     "text": [
      "2024-03-29 00:07:03,038 SubHIN.py-44-training(): INFO\n",
      " Epoch 165...\n"
     ]
    },
    {
     "name": "stdout",
     "output_type": "stream",
     "text": [
      "2024-03-29 00:07:31,536 Running SR-RSC and analysis INFO: Epoch 166...\n"
     ]
    },
    {
     "name": "stderr",
     "output_type": "stream",
     "text": [
      "2024-03-29 00:07:31,536 SubHIN.py-44-training(): INFO\n",
      " Epoch 166...\n"
     ]
    },
    {
     "name": "stdout",
     "output_type": "stream",
     "text": [
      "2024-03-29 00:07:59,459 Running SR-RSC and analysis INFO: Epoch 166, loss 3.7668, valacc 0.013499\n"
     ]
    },
    {
     "name": "stderr",
     "output_type": "stream",
     "text": [
      "2024-03-29 00:07:59,459 SubHIN.py-66-training(): INFO\n",
      " Epoch 166, loss 3.7668, valacc 0.013499\n"
     ]
    },
    {
     "name": "stdout",
     "output_type": "stream",
     "text": [
      "2024-03-29 00:08:05,818 Running SR-RSC and analysis INFO: NMI=0.01051, ARI: 0.01621, f1_micro=0.94711, f1_macro=0.92573\n"
     ]
    },
    {
     "name": "stderr",
     "output_type": "stream",
     "text": [
      "2024-03-29 00:08:05,818 evaluation.py-102-evalutation(): INFO\n",
      " NMI=0.01051, ARI: 0.01621, f1_micro=0.94711, f1_macro=0.92573\n"
     ]
    },
    {
     "name": "stdout",
     "output_type": "stream",
     "text": [
      "2024-03-29 00:08:05,829 Running SR-RSC and analysis INFO: Epoch 167...\n"
     ]
    },
    {
     "name": "stderr",
     "output_type": "stream",
     "text": [
      "2024-03-29 00:08:05,829 SubHIN.py-44-training(): INFO\n",
      " Epoch 167...\n"
     ]
    },
    {
     "name": "stdout",
     "output_type": "stream",
     "text": [
      "2024-03-29 00:08:33,111 Running SR-RSC and analysis INFO: Epoch 168...\n"
     ]
    },
    {
     "name": "stderr",
     "output_type": "stream",
     "text": [
      "2024-03-29 00:08:33,111 SubHIN.py-44-training(): INFO\n",
      " Epoch 168...\n"
     ]
    },
    {
     "name": "stdout",
     "output_type": "stream",
     "text": [
      "2024-03-29 00:09:02,563 Running SR-RSC and analysis INFO: Epoch 169...\n"
     ]
    },
    {
     "name": "stderr",
     "output_type": "stream",
     "text": [
      "2024-03-29 00:09:02,563 SubHIN.py-44-training(): INFO\n",
      " Epoch 169...\n"
     ]
    },
    {
     "name": "stdout",
     "output_type": "stream",
     "text": [
      "2024-03-29 00:09:33,944 Running SR-RSC and analysis INFO: Epoch 170...\n"
     ]
    },
    {
     "name": "stderr",
     "output_type": "stream",
     "text": [
      "2024-03-29 00:09:33,944 SubHIN.py-44-training(): INFO\n",
      " Epoch 170...\n"
     ]
    },
    {
     "name": "stdout",
     "output_type": "stream",
     "text": [
      "2024-03-29 00:10:08,142 Running SR-RSC and analysis INFO: Epoch 171...\n"
     ]
    },
    {
     "name": "stderr",
     "output_type": "stream",
     "text": [
      "2024-03-29 00:10:08,142 SubHIN.py-44-training(): INFO\n",
      " Epoch 171...\n"
     ]
    },
    {
     "name": "stdout",
     "output_type": "stream",
     "text": [
      "2024-03-29 00:10:41,162 Running SR-RSC and analysis INFO: Epoch 172...\n"
     ]
    },
    {
     "name": "stderr",
     "output_type": "stream",
     "text": [
      "2024-03-29 00:10:41,162 SubHIN.py-44-training(): INFO\n",
      " Epoch 172...\n"
     ]
    },
    {
     "name": "stdout",
     "output_type": "stream",
     "text": [
      "2024-03-29 00:11:16,341 Running SR-RSC and analysis INFO: Epoch 173...\n"
     ]
    },
    {
     "name": "stderr",
     "output_type": "stream",
     "text": [
      "2024-03-29 00:11:16,341 SubHIN.py-44-training(): INFO\n",
      " Epoch 173...\n"
     ]
    },
    {
     "name": "stdout",
     "output_type": "stream",
     "text": [
      "2024-03-29 00:11:50,442 Running SR-RSC and analysis INFO: Epoch 174...\n"
     ]
    },
    {
     "name": "stderr",
     "output_type": "stream",
     "text": [
      "2024-03-29 00:11:50,442 SubHIN.py-44-training(): INFO\n",
      " Epoch 174...\n"
     ]
    },
    {
     "name": "stdout",
     "output_type": "stream",
     "text": [
      "2024-03-29 00:12:24,682 Running SR-RSC and analysis INFO: Epoch 175...\n"
     ]
    },
    {
     "name": "stderr",
     "output_type": "stream",
     "text": [
      "2024-03-29 00:12:24,682 SubHIN.py-44-training(): INFO\n",
      " Epoch 175...\n"
     ]
    },
    {
     "name": "stdout",
     "output_type": "stream",
     "text": [
      "2024-03-29 00:13:03,177 Running SR-RSC and analysis INFO: Epoch 176...\n"
     ]
    },
    {
     "name": "stderr",
     "output_type": "stream",
     "text": [
      "2024-03-29 00:13:03,177 SubHIN.py-44-training(): INFO\n",
      " Epoch 176...\n"
     ]
    },
    {
     "name": "stdout",
     "output_type": "stream",
     "text": [
      "2024-03-29 00:13:37,982 Running SR-RSC and analysis INFO: Epoch 177...\n"
     ]
    },
    {
     "name": "stderr",
     "output_type": "stream",
     "text": [
      "2024-03-29 00:13:37,982 SubHIN.py-44-training(): INFO\n",
      " Epoch 177...\n"
     ]
    },
    {
     "name": "stdout",
     "output_type": "stream",
     "text": [
      "2024-03-29 00:14:12,194 Running SR-RSC and analysis INFO: Epoch 178...\n"
     ]
    },
    {
     "name": "stderr",
     "output_type": "stream",
     "text": [
      "2024-03-29 00:14:12,194 SubHIN.py-44-training(): INFO\n",
      " Epoch 178...\n"
     ]
    },
    {
     "name": "stdout",
     "output_type": "stream",
     "text": [
      "2024-03-29 00:14:47,473 Running SR-RSC and analysis INFO: Epoch 179...\n"
     ]
    },
    {
     "name": "stderr",
     "output_type": "stream",
     "text": [
      "2024-03-29 00:14:47,473 SubHIN.py-44-training(): INFO\n",
      " Epoch 179...\n"
     ]
    },
    {
     "name": "stdout",
     "output_type": "stream",
     "text": [
      "2024-03-29 00:15:21,111 Running SR-RSC and analysis INFO: Epoch 180...\n"
     ]
    },
    {
     "name": "stderr",
     "output_type": "stream",
     "text": [
      "2024-03-29 00:15:21,111 SubHIN.py-44-training(): INFO\n",
      " Epoch 180...\n"
     ]
    },
    {
     "name": "stdout",
     "output_type": "stream",
     "text": [
      "2024-03-29 00:15:51,712 Running SR-RSC and analysis INFO: Epoch 181...\n"
     ]
    },
    {
     "name": "stderr",
     "output_type": "stream",
     "text": [
      "2024-03-29 00:15:51,712 SubHIN.py-44-training(): INFO\n",
      " Epoch 181...\n"
     ]
    },
    {
     "name": "stdout",
     "output_type": "stream",
     "text": [
      "2024-03-29 00:16:20,488 Running SR-RSC and analysis INFO: Epoch 182...\n"
     ]
    },
    {
     "name": "stderr",
     "output_type": "stream",
     "text": [
      "2024-03-29 00:16:20,488 SubHIN.py-44-training(): INFO\n",
      " Epoch 182...\n"
     ]
    },
    {
     "name": "stdout",
     "output_type": "stream",
     "text": [
      "2024-03-29 00:16:48,657 Running SR-RSC and analysis INFO: Epoch 183...\n"
     ]
    },
    {
     "name": "stderr",
     "output_type": "stream",
     "text": [
      "2024-03-29 00:16:48,657 SubHIN.py-44-training(): INFO\n",
      " Epoch 183...\n"
     ]
    },
    {
     "name": "stdout",
     "output_type": "stream",
     "text": [
      "2024-03-29 00:17:18,452 Running SR-RSC and analysis INFO: Epoch 184...\n"
     ]
    },
    {
     "name": "stderr",
     "output_type": "stream",
     "text": [
      "2024-03-29 00:17:18,452 SubHIN.py-44-training(): INFO\n",
      " Epoch 184...\n"
     ]
    },
    {
     "name": "stdout",
     "output_type": "stream",
     "text": [
      "2024-03-29 00:17:54,785 Running SR-RSC and analysis INFO: Epoch 185...\n"
     ]
    },
    {
     "name": "stderr",
     "output_type": "stream",
     "text": [
      "2024-03-29 00:17:54,785 SubHIN.py-44-training(): INFO\n",
      " Epoch 185...\n"
     ]
    },
    {
     "name": "stdout",
     "output_type": "stream",
     "text": [
      "2024-03-29 00:18:32,875 Running SR-RSC and analysis INFO: Epoch 186...\n"
     ]
    },
    {
     "name": "stderr",
     "output_type": "stream",
     "text": [
      "2024-03-29 00:18:32,875 SubHIN.py-44-training(): INFO\n",
      " Epoch 186...\n"
     ]
    },
    {
     "name": "stdout",
     "output_type": "stream",
     "text": [
      "2024-03-29 00:19:03,170 Running SR-RSC and analysis INFO: Epoch 187...\n"
     ]
    },
    {
     "name": "stderr",
     "output_type": "stream",
     "text": [
      "2024-03-29 00:19:03,170 SubHIN.py-44-training(): INFO\n",
      " Epoch 187...\n"
     ]
    },
    {
     "name": "stdout",
     "output_type": "stream",
     "text": [
      "2024-03-29 00:19:35,740 Running SR-RSC and analysis INFO: Epoch 188...\n"
     ]
    },
    {
     "name": "stderr",
     "output_type": "stream",
     "text": [
      "2024-03-29 00:19:35,740 SubHIN.py-44-training(): INFO\n",
      " Epoch 188...\n"
     ]
    },
    {
     "name": "stdout",
     "output_type": "stream",
     "text": [
      "2024-03-29 00:20:10,448 Running SR-RSC and analysis INFO: Epoch 189...\n"
     ]
    },
    {
     "name": "stderr",
     "output_type": "stream",
     "text": [
      "2024-03-29 00:20:10,448 SubHIN.py-44-training(): INFO\n",
      " Epoch 189...\n"
     ]
    },
    {
     "name": "stdout",
     "output_type": "stream",
     "text": [
      "2024-03-29 00:20:51,911 Running SR-RSC and analysis INFO: Epoch 190...\n"
     ]
    },
    {
     "name": "stderr",
     "output_type": "stream",
     "text": [
      "2024-03-29 00:20:51,911 SubHIN.py-44-training(): INFO\n",
      " Epoch 190...\n"
     ]
    },
    {
     "name": "stdout",
     "output_type": "stream",
     "text": [
      "2024-03-29 00:21:29,146 Running SR-RSC and analysis INFO: Epoch 191...\n"
     ]
    },
    {
     "name": "stderr",
     "output_type": "stream",
     "text": [
      "2024-03-29 00:21:29,146 SubHIN.py-44-training(): INFO\n",
      " Epoch 191...\n"
     ]
    },
    {
     "name": "stdout",
     "output_type": "stream",
     "text": [
      "2024-03-29 00:22:06,105 Running SR-RSC and analysis INFO: Epoch 192...\n"
     ]
    },
    {
     "name": "stderr",
     "output_type": "stream",
     "text": [
      "2024-03-29 00:22:06,105 SubHIN.py-44-training(): INFO\n",
      " Epoch 192...\n"
     ]
    },
    {
     "name": "stdout",
     "output_type": "stream",
     "text": [
      "2024-03-29 00:22:38,653 Running SR-RSC and analysis INFO: Epoch 193...\n"
     ]
    },
    {
     "name": "stderr",
     "output_type": "stream",
     "text": [
      "2024-03-29 00:22:38,653 SubHIN.py-44-training(): INFO\n",
      " Epoch 193...\n"
     ]
    },
    {
     "name": "stdout",
     "output_type": "stream",
     "text": [
      "2024-03-29 00:23:11,942 Running SR-RSC and analysis INFO: Epoch 194...\n"
     ]
    },
    {
     "name": "stderr",
     "output_type": "stream",
     "text": [
      "2024-03-29 00:23:11,942 SubHIN.py-44-training(): INFO\n",
      " Epoch 194...\n"
     ]
    },
    {
     "name": "stdout",
     "output_type": "stream",
     "text": [
      "2024-03-29 00:23:40,216 Running SR-RSC and analysis INFO: Epoch 195...\n"
     ]
    },
    {
     "name": "stderr",
     "output_type": "stream",
     "text": [
      "2024-03-29 00:23:40,216 SubHIN.py-44-training(): INFO\n",
      " Epoch 195...\n"
     ]
    },
    {
     "name": "stdout",
     "output_type": "stream",
     "text": [
      "2024-03-29 00:24:11,873 Running SR-RSC and analysis INFO: Epoch 196...\n"
     ]
    },
    {
     "name": "stderr",
     "output_type": "stream",
     "text": [
      "2024-03-29 00:24:11,873 SubHIN.py-44-training(): INFO\n",
      " Epoch 196...\n"
     ]
    },
    {
     "name": "stdout",
     "output_type": "stream",
     "text": [
      "2024-03-29 00:24:44,865 Running SR-RSC and analysis INFO: Epoch 196, loss 3.7638, valacc 0.063261\n"
     ]
    },
    {
     "name": "stderr",
     "output_type": "stream",
     "text": [
      "2024-03-29 00:24:44,865 SubHIN.py-66-training(): INFO\n",
      " Epoch 196, loss 3.7638, valacc 0.063261\n"
     ]
    },
    {
     "name": "stdout",
     "output_type": "stream",
     "text": [
      "2024-03-29 00:24:52,221 Running SR-RSC and analysis INFO: NMI=0.00889, ARI: 0.01104, f1_micro=0.94352, f1_macro=0.92069\n"
     ]
    },
    {
     "name": "stderr",
     "output_type": "stream",
     "text": [
      "2024-03-29 00:24:52,221 evaluation.py-102-evalutation(): INFO\n",
      " NMI=0.00889, ARI: 0.01104, f1_micro=0.94352, f1_macro=0.92069\n"
     ]
    },
    {
     "name": "stdout",
     "output_type": "stream",
     "text": [
      "2024-03-29 00:24:52,238 Running SR-RSC and analysis INFO: Epoch 197...\n"
     ]
    },
    {
     "name": "stderr",
     "output_type": "stream",
     "text": [
      "2024-03-29 00:24:52,238 SubHIN.py-44-training(): INFO\n",
      " Epoch 197...\n"
     ]
    },
    {
     "name": "stdout",
     "output_type": "stream",
     "text": [
      "2024-03-29 00:25:23,964 Running SR-RSC and analysis INFO: Epoch 198...\n"
     ]
    },
    {
     "name": "stderr",
     "output_type": "stream",
     "text": [
      "2024-03-29 00:25:23,964 SubHIN.py-44-training(): INFO\n",
      " Epoch 198...\n"
     ]
    },
    {
     "name": "stdout",
     "output_type": "stream",
     "text": [
      "2024-03-29 00:25:54,142 Running SR-RSC and analysis INFO: Epoch 199...\n"
     ]
    },
    {
     "name": "stderr",
     "output_type": "stream",
     "text": [
      "2024-03-29 00:25:54,142 SubHIN.py-44-training(): INFO\n",
      " Epoch 199...\n"
     ]
    },
    {
     "name": "stdout",
     "output_type": "stream",
     "text": [
      "time (s):5910.55\n",
      "Analysis of BrainAlign embeddings...\n",
      "(44613, 128)\n",
      "28499\n",
      "4540\n",
      "{'features': (array([[0., 0., 0., ..., 0., 0., 0.],\n",
      "       [0., 0., 0., ..., 0., 0., 0.],\n",
      "       [0., 0., 0., ..., 0., 0., 0.],\n",
      "       ...,\n",
      "       [0., 0., 0., ..., 0., 0., 0.],\n",
      "       [0., 0., 0., ..., 0., 0., 0.],\n",
      "       [0., 0., 0., ..., 0., 0., 0.]], dtype=float32), matrix([[0., 0., 0., ..., 0., 0., 0.],\n",
      "        [0., 0., 0., ..., 0., 0., 0.],\n",
      "        [0., 0., 0., ..., 0., 0., 0.],\n",
      "        ...,\n",
      "        [0., 0., 0., ..., 0., 0., 0.],\n",
      "        [0., 0., 0., ..., 0., 0., 0.],\n",
      "        [0., 0., 0., ..., 0., 0., 0.]])), 'ov_adjs': (<28499x6340 sparse matrix of type '<class 'numpy.float32'>'\n",
      "\twith 9332356 stored elements in Compressed Sparse Row format>, <4540x5234 sparse matrix of type '<class 'numpy.float32'>'\n",
      "\twith 2155142 stored elements in Compressed Sparse Row format>), 'vv_adj': <11574x11574 sparse matrix of type '<class 'numpy.int64'>'\n",
      "\twith 8740 stored elements in Compressed Sparse Row format>, 'oo_adjs': <33039x33039 sparse matrix of type '<class 'numpy.float32'>'\n",
      "\twith 219628 stored elements in COOrdinate format>, 'varnames_feat':      Macaque   Mouse\n",
      "0       AAK1    Aak1\n",
      "1       AATK    Aatk\n",
      "2       ABAT    Abat\n",
      "3      ABCA1   Abca1\n",
      "4      ABCD3   Abcd3\n",
      "...      ...     ...\n",
      "1613  ZNF536  Zfp536\n",
      "1614  ZNF706  Zfp706\n",
      "1615  ZNHIT1  Znhit1\n",
      "1616   ZNRF3   Znrf3\n",
      "1617   ZWINT   Zwint\n",
      "\n",
      "[1618 rows x 2 columns], 'varnames_node': (['DHX40', 'LRPPRC', 'RHBDD3', 'PEX3', 'COIL', 'TIPARP', 'AUNIP', 'LCP1', 'COPG2', 'ZNF606', 'MTF2', 'USP42', 'NSMCE1', 'INPP5D', 'FRMPD4', 'SCLT1', 'PPIL4', 'C10orf120', 'TTYH3', 'FBXO5', 'TGFBRAP1', 'FARP2', 'EPHA3', 'LRRC56', 'WDFY2', 'SOCS7', 'DBT', 'NAMPT', 'RASSF3', 'CAD', 'SNF8', 'DDA1', 'CCDC18', 'DEFB105A', 'NUDT4', 'GBF1', 'KCNIP3', 'MS4A4E', 'NID2', 'TCEANC2', 'NVL', 'LAGE3', 'CD63', 'DSG3', 'SPECC1', 'SOD3', 'POLR2D', 'PXN', 'TMED9', 'HDAC4', 'SRF', 'CHRNG', 'TGS1', 'C14orf37', 'ING1', 'TMEM185B', 'PYCR1', 'TAGLN2', 'MFSD5', 'CWF19L2', 'RPL18', 'FXYD6', 'HSF2BP', 'FBXL16', 'MCCC1', 'SHTN1', 'ATP11A', 'IFT80', 'INIP', 'RIOK3', 'MAP7D3', 'TMPRSS12', 'LYPLA2', 'C9', 'SLC19A1', 'FAM24A', 'PRAF2', 'MAPKAPK2', 'NLN', 'TMOD2', 'ERP27', 'PTGDS', 'PDSS2', 'MLIP', 'SNU13', 'AK1', 'TMEM238', 'GPT', 'MAN2A1', 'SLC46A1', 'SERPINB6', 'SELENBP1', 'CCDC124', 'GNAI2', 'APPL2', 'IKZF1', 'FBF1', 'TOLLIP', 'COPZ1', 'ZNF740', 'ACAA2', 'PHEX', 'SNCA', 'SMTN', 'TNPO1', 'AJAP1', 'SC5D', 'LIN9', 'VPS26A', 'SKIV2L2', 'ZNFX1-AS1_2', 'LHX2', 'TTC38', 'ACVRL1', 'PGF', 'MPZL2', 'MED9', 'PRRX1', 'FAM131A', 'NLRC5', 'ZNF804B', 'STXBP3', 'TPT1', 'PPP6R1', 'UBP1', 'GLG1', 'GALNT12', 'TIMM22', 'MYO10', 'GARNL3', 'PTPRM', 'DUSP4', 'HIP1R', 'ABCA3', 'SLC35D3', 'ERCC3', 'BSG', 'TTC24', 'CFAP46', 'P4HB', 'CDK2AP1', 'MEF2C', 'INTS1', 'ALG8', 'FAM104B', 'UHMK1', 'CEP63', 'SBSN', 'KMT2B', 'USP54', 'SPTAN1', 'POLR2C', 'B4GALT7', 'ZNF585A', 'ENAH', 'SLC20A2', 'PSMB8', 'GJB6', 'LYVE1', 'NIM1K', 'EIF4A1', 'SRSF8', 'EDNRA', 'WDR55', 'ZC3H18', 'IGSF21', 'F2R', 'CCR5', 'MTMR14', 'SOS2', 'RAP1B', 'FBXO6', 'NEXN', 'C6orf223', 'RFX7', 'FAM178B', 'MACC1', 'DTX3L', 'ISCU', 'RPS15A', 'THEM4', 'YTHDF3', 'CNOT7', 'SLC25A1', 'STAM2', 'DPP3', 'KNOP1', 'CARD18', 'NUP160', 'TOR1AIP2', 'LATS1', 'MIB1', 'CHMP6', 'RENBP', 'TBX20', 'MNDA', 'KHDRBS3', 'TBC1D24', 'CDON', 'DDX10', 'RCHY1', 'LPCAT3', 'IAH1', 'EHD3', 'GOLM1', 'PCDH17', 'APOL2', 'CDKN1B', 'DHRS7', 'ANO1', 'SYVN1', 'E2F3', 'METTL21A', 'CACYBP', 'DCAF17', 'BCORL1', 'VIP', 'ALDH4A1', 'IER3', 'MOB3B', 'CUX2', 'VWA8', 'EVA1B', 'CADM2', 'PPP1R3C', 'CCDC90B', 'SNN', 'DTL', 'COL4A1', 'ZFP36', 'IFNAR1', 'ARHGEF37', 'SST', 'ARHGAP31', 'PDCD11', 'TMEM176A', 'TTC39A', 'HS3ST2', 'HECW2', 'CYB5D2', 'ZNF131', 'NDUFAF2', 'AFAP1L1', 'CD44', 'TBX19', 'ZBTB5', 'ACOT12', 'AAMP', 'TPPP', 'FBXW11', 'TMEM109', 'RARS2', 'MAD2L2', 'DBX2', 'AGR3', 'CYTH3', 'SNX11', 'ERLIN2', 'SCIN', 'HTRA1', 'MTBP', 'SLC25A29', 'AIFM2', 'MKL1', 'SERPINA9', 'KMT2A', 'TMCC2', 'ARHGAP12', 'TOP1MT', 'HAPLN1', 'MYO1B', 'NUS1', 'TMEM240', 'ALDH1L1', 'ZNF454', 'EEF1A1', 'VSTM2L', 'ZSWIM5', 'SAP30L', 'CCDC127', 'ALDH1A1', 'ABCD3', 'SHOC2', 'CSRP1', 'CALM2', 'RIC8B', 'CSF3R', 'TTYH1', 'RPS29', 'SAXO1', 'FBXW9', 'CHCHD5', 'SLC35E4', 'APBA3', 'OLFM1', 'TP53INP2', 'OLFM2', 'SHF', 'STAB1', 'SLC6A1', 'GPBP1', 'SCYL3', 'ZBTB24', 'DPP10', 'KREMEN2', 'FAM57A', 'IFT81', 'SDSL', 'ZNF366', 'ATG13', 'MGAT3', 'AIF1', 'SEMA4C', 'ALX4', 'ZNF652', 'WASF1', 'FYN', 'DDX49', 'IGFBP5', 'CLN3', 'CLNS1A', 'NT5C2', 'CMKLR1', 'TECRL', 'DCTN4', 'TAB2', 'BCL7A', 'BICD1', 'TNFAIP1', 'LRRC8A', 'TBC1D12', 'DSN1', 'ING4', 'C21orf58', 'ZNF622', 'MLPH', 'MSANTD4', 'RBM18', 'CYLD', 'CRYAB', 'DDX17', 'AKNA', 'ADAMTS14', 'MFSD8', 'RGS14', 'UGT8', 'FCHO1', 'GK', 'PIEZO1', 'LNPEP', 'MSI2', 'ZMYM1', 'TSPAN12', 'EEF1B2', 'IL4R', 'RALGAPA2', 'RASGRP4', 'SNAPC4', 'GPD1', 'FMNL2', 'DOCK1', 'INPP5B', 'DCN', 'RAB33B', 'SLC30A10', 'VOPP1', 'DENND4B', 'ITPR2', 'CFAP45', 'EFHB', 'GIGYF2', 'PRR14L', 'BZW2', 'TMEM250', 'VSIG2', 'AP3M1', 'FOSL1', 'SLC30A4', 'PECAM1', 'CDT1', 'INSIG2', 'WASF2', 'CDCA5', 'KIF5C', 'PGM5', 'CNN3', 'PDLIM4', 'AKAP8', 'ZNF592', 'STPG2', 'NT5DC1', 'KIF20B', 'TNFRSF1A', 'NAA38', 'AJUBA', 'REEP3', 'TXLNA', 'CCR6', 'ADAM23', 'ZC3H4', 'HCLS1', 'WDR83OS', 'ENGASE', 'TMEM201', 'DNAJA1', 'RASL12', 'RNF182', 'MTX2', 'SP110', 'GNB2', 'ENG', 'NUP214', 'CPA4', 'SNRNP35', 'CYBA', 'FAM83E', 'GLT1D1', 'ZIC5', 'CASP7', 'ARHGAP21', 'KDM5A', 'BECN1', 'EPB41L1', 'TTLL12', 'ACTN3', 'FBXO38', 'GAS2L1', 'RSRC1', 'PRKAR2A', 'POU6F2', 'SYCP3', 'DPYSL5', 'AIFM3', 'RPL41', 'HMG20A', 'THBS4', 'ARMC8', 'DESI2', 'LRIG1', 'EXTL3', 'MATK', 'NPC1', 'BCL2L11', 'SORBS1', 'SLC4A2', 'GOLGA7', 'CD164', 'SAAL1', 'FNDC4', 'COBLL1', 'FNDC8', 'TIMM17A', 'TMEM182', 'NAPSA', 'RTN1', 'ZNF394', 'HACD3', 'GNB5', 'ITFG2', 'FMN2', 'RBMS3', 'NASP', 'PHGDH', 'RXRG', 'CLMN', 'SBSPON', 'BAG4', 'SNX31', 'ITFG1', 'LRRTM3', 'SDHAF4', 'MCL1', 'NF2', 'ARRDC3', 'PNPLA2', 'HEG1', 'TRIL', 'RTTN', 'SEMA3B', 'STEAP2', 'ASB11', 'AGPAT1', 'XPO1', 'SERPINA5', 'USMG5', 'RPS7', 'DYM', 'TLE4', 'GPR63', 'SLC8A3', 'GPATCH4', 'KLHL21', 'KCNK5', 'ZNF227', 'TASP1', 'ZMIZ2', 'FAM229B', 'LDHC', 'MLC1', 'SEMA7A', 'PHYHIPL', 'FGR', 'SIPA1', 'LCA5L', 'MRVI1', 'CCDC88A', 'EMX2', 'SLC6A2', 'MSANTD1', 'RHOT2', 'FAM32A', 'FNIP2', 'NSMAF', 'HCN3', 'KCNJ13', 'CAPG', 'SHARPIN', 'CENPV', 'SETD7', 'TP53', 'RAB3B', 'SEC31B', 'FLT3LG', 'NFE2L1', 'SLC24A3', 'IRF3', 'CCM2L', 'ADGRF5', 'TAX1BP1', 'AFDN', 'BRICD5', 'LHX5', 'ELOF1', 'WIPF2', 'GPR153', 'CEP350', 'PAF1', 'CPT1B', 'CLIP3', 'PRPF3', 'SMIM2', 'ITGB3BP', 'CCL19', 'PPM1M', 'SMG8', 'SLC7A13', 'MIGA1', 'DENND5B', 'ST8SIA5', 'TSPYL4', 'CNNM3', 'TMEM205', 'GRN', 'TRADD', 'KIF1C', 'SPATA6L', 'RNF169', 'CTHRC1', 'ZIC4', 'PUS3', 'OMD', 'TBC1D16', 'STAT3', 'CNP', 'ABHD12', 'MIOX', 'LMOD1', 'CCND1', 'DAPK2', 'CLEC5A', 'TLL2', 'ASTN2', 'NR1H4', 'LRR1', 'SLC5A11', 'OTOA', 'MICU3', 'CFAP53', 'HRAS', 'SLC7A11', 'TPR', 'CRYBB1', 'ARL6IP6', 'ZFPM1', 'SEC62', 'FMOD', 'SEC14L4', 'BGN', 'OAT', 'TRIM59', 'CPD', 'GHRHR', 'ATAD2', 'SERPINC1', 'EML1', 'KCMF1', 'HYDIN', 'LURAP1', 'SREK1', 'NDUFS4', 'PSEN2', 'ANAPC2', 'ARHGEF15', 'KIAA1143', 'WDR27', 'NRROS', 'GFRA1', 'PLPPR3', 'RGL2', 'GABRA1', 'HCRTR1', 'SYNDIG1L', 'VASH1', 'KDM3A', 'TMED8', 'CMSS1', 'PAIP2', 'AGT', 'HIPK3', 'NIPA1', 'NFAT5', 'FAM222B', 'FGF11', 'RAD9A', 'FCGR1A', 'STRN3', 'SPRTN', 'CASTOR1', 'RETSAT', 'PTPN1', 'EIF3E', 'ITM2A', 'SLC16A4', 'ZNF827', 'PEX16', 'FEM1B', 'GNB4', 'SLMAP', 'RPN2', 'SLC4A8', 'TMTC2', 'NTRK2', 'PNPLA7', 'NXN', 'MNT', 'CADM3', 'RNF19A', 'SNRNP40', 'RBBP6', 'PXDC1', 'LAMP2', 'RASL10A', 'ZNF790', 'ERCC2', 'MOCOS', 'PLSCR3', 'TRPM8', 'COQ8A', 'WWTR1', 'SPATA5L1', 'SP8', 'SPATA24', 'SLC19A3', 'HOMER3', 'LAS1L', 'ABCA4', 'DNAJC7', 'CDCA2', 'ADHFE1', 'CX3CR1', 'PSKH1', 'SLC22A6', 'CTDNEP1', 'TNFAIP8L1', 'ARSG', 'ENOX2', 'VEGFC', 'PAPD5', 'SPDEF', 'ANXA1', 'HCK', 'FAM69C', 'HDAC7', 'PDZD4', 'DAZAP1', 'IFI16', 'ASCL1', 'FXYD3', 'EPAS1', 'LHFPL6', 'PDE5A', 'TRAPPC11', 'NDUFA5', 'ECI2', 'SSTR2', 'API5', 'ST3GAL4', 'IGFLR1', 'HPS1', 'YIPF2', 'MCM4', 'ROBO1', 'SF3A3', 'DTHD1', 'FTL', 'ARID1B', 'FJX1', 'SLC7A5', 'PLA2G7', 'GABRR1', 'DCP1B', 'FNBP1L', 'ABCA7', 'CSNK2A2', 'RASA2', 'FZD2', 'ENPP2', 'CAMK2N2', 'DNAJC27', 'TRPM1', 'TAL2', 'FLRT1', 'NEO1', 'C1orf123', 'SYPL2', 'SORT1', 'VPS72', 'MYO6', 'BMPR1A', 'MVD', 'ZNF710', 'L3HYPDH', 'ZNF555', 'CAMK2N1', 'PGC', 'MEIS2', 'ZNF783', 'SSPN', 'WIPI2', 'BAMBI', 'NTMT1', 'DAXX', 'EPHX2', 'EIF3J', 'DNAJC22', 'NECAP2', 'PURG', 'PPP1R3F', 'CTTNBP2', 'ATP6V1D', 'POLR2F', 'UCP2', 'LSM7', 'PPP1R3E', 'TRAPPC6B', 'CTXN2', 'C1QL4', 'IL18R1', 'GRIA2', 'BICC1', 'STMP1', 'CAMK2A', 'MCM6', 'SLC23A1', 'NEUROD2', 'BTBD7', 'PATZ1', 'CLEC4A', 'MOBP', 'CCDC6', 'RASGRP3', 'FUCA2', 'GAK', 'MTX1', 'DECR1', 'EFR3A', 'SNX27', 'TM2D1', 'TPMT', 'GSS', 'PDRG1', 'SAC3D1', 'IL1RAP', 'DDX39A', 'PGBD2', 'CLEC16A', 'IFT27', 'CSF1R', 'B3GALT2', 'PHAX', 'HSDL2', 'YEATS2', 'Mafa-DRA', 'LYPD6', 'NR4A1', 'ABHD14B', 'SKI', 'CCNG1', 'FBXO42', 'ZBTB18', 'TRIM11', 'SRP72', 'MUS81', 'SLIT3', 'MED11', 'GSG1L', 'PRKCSH', 'WDR82', 'SPRYD4', 'EFEMP2', 'SERPINI1', 'ZNF26', 'ACADVL', 'CSRP2', 'CD84', 'CRAT', 'IFT140', 'HIGD1B', 'CST3', 'CNOT2', 'TMEM80', 'LAP3', 'WSCD1', 'AP2A2', 'EDEM2', 'MYO18A', 'CREBBP', 'HILPDA', 'FOXO6', 'NLRP4', 'EMSY', 'HSD17B1', 'OMA1', 'PCOLCE2', 'L3MBTL2', 'G0S2', 'MAS1', 'SIGIRR', 'TRAK1', 'TMEM222', 'BAZ1B', 'ABCG2', 'TMEM33', 'MRM1', 'SNX4', 'MFSD14B', 'MAPK1', 'SMIM22', 'PKIG', 'SETDB2', 'UNC119', 'PRR12', 'OCRL', 'GPAA1', 'EEF1G', 'FCRL3', 'NOTCH1', 'MTCL1', 'OBSCN-AS1', 'AS3MT', 'KIAA1324L', 'ASAP3', 'RNF13', 'UBE2D3', 'ATAT1', 'NUDT1', 'ABCA8', 'MTMR1', 'SFTPC', 'ZRSR2', 'RABEP1', 'FBXO47', 'MFAP1', 'BTBD11', 'STK26', 'CENPW', 'FOXJ1', 'PPIL3', 'NRIP3', 'TUBA1B', 'ZNF76', 'SYT5', 'NUTF2', 'TSPAN2', 'RFWD3', 'CLDN5', 'PSMC3IP', 'B3GALT1', 'LRRC8C', 'PPM1L', 'BEGAIN', 'STXBP5L', 'GATA6', 'LANCL2', 'RASSF8', 'LAMP1', 'CALML4', 'ITGA2', 'MTMR6', 'GABRR3', 'MYNN', 'SEMA4D', 'RNF145', 'MDFI', 'FBXO2', 'SFRP1', 'TK1', 'CAT', 'SAP130', 'COPS4', 'GTF3C5', 'ABCF3', 'MSRB3', 'MTUS1', 'BBS4', 'TMEM41B', 'ASCC3', 'FSTL1', 'UBE2H', 'LSM6', 'DKK3', 'JAZF1', 'PTTG1', 'EZH1', 'ECI1', 'DDX46', 'C5orf51', 'MDN1', 'AP3D1', 'ZNF385B', 'ANKRD45', 'NME6', 'CDRT4', 'GNAS', 'OSBPL5', 'PDZRN3', 'G6PD', 'KISS1', 'TMEM167A', 'PTPN13', 'SNUPN', 'ULK1', 'PRAP1', 'FOXP4', 'YWHAG', 'STMN2', 'VSIR', 'EFCAB6', 'KATNAL1', 'OAZ2', 'RXRA', 'COG7', 'INTS7', 'MCUR1', 'MBOAT2', 'FGD3', 'LIMD2', 'KIT', 'RGS12', 'NCR1', 'GRIN2C', 'BMP4', 'CDK13', 'LMBR1L', 'RNF220', 'SHROOM4', 'WDR41', 'APAF1', 'NUP85', 'FBXW8', 'POLR2B', 'FRMD8', 'RHOG', 'PPP1R14A', 'GMEB1', 'SMAD2', 'MS4A4A', 'EGFL7', 'CBR1', 'USP46', 'MBLAC2', 'TUBA4A', 'ACO2', 'DPYSL3', 'IGHMBP2', 'TTC1', 'LYZ', 'PMEPA1', 'IRGQ', 'RNASET2', 'TAGAP', 'POR', 'GPR107', 'TRAF1', 'MMD2', 'XPC', 'AIDA', 'DHPS', 'POLG', 'NINJ2', 'KIF2C', 'EMC1', 'PPEF2', 'MGP', 'RBM38', 'PLCG1', 'PHACTR1', 'NF1', 'SLC25A11', 'TESPA1', 'ZNF473', 'FGD4', 'FUBP1', 'SHMT2', 'ERGIC1', 'NFATC4', 'PRDM2', 'NDUFAF4', 'SUPT16H', 'XRCC3', 'PANK4', 'PDE6G', 'RSPO1', 'TMCO5A', 'HNRNPDL', 'LGSN', 'ARHGEF10', 'RAP1GAP', 'ASPDH', 'R3HCC1L', 'SLCO1A2', 'HIC1', 'MINDY2', 'PCDHB14', 'CDK12', 'MRPL51', 'CRYBB3', 'ETV5', 'ABI3BP', 'SPRED1', 'C11H12orf56', 'PRAG1', 'CAMK2B', 'PSMD12', 'PTP4A2', 'SCNM1', 'SYK', 'ZEB2', 'KIAA0556', 'TSPAN11', 'MPP1', 'FUOM', 'NEUROD6', 'SSBP3', 'SNX8', 'ACOT11', 'SETD5', 'WRNIP1', 'PAGR1', 'KALRN', 'GLI4', 'CYP26A1', 'TMEM209', 'NME7', 'SMAD7', 'ADH6', 'RPP25', 'RPS16', 'MRPS25', 'TEX36', 'FTX_4', 'ANKRD28', 'ZKSCAN2', 'MARK2', 'SMOC1', 'NEGR1', 'PNMA2', 'SGK1', 'UPB1', 'NME3', 'ARL15', 'SLC3A2', 'MRPS35', 'CYP17A1', 'CHMP4B', 'MAP2', 'AOC2', 'PTCHD4', 'KPNA6', 'CC2D2A', 'PPM1E', 'ENO2', 'KSR1', 'DDX1', 'COL12A1', 'RSPO3', 'EIF3B', 'KPNA4', 'GPT2', 'BCAS1', 'FN3K', 'RAB5B', 'PTPRT', 'LASP1', 'PBDC1', 'SMAD6', 'TRIM55', 'KLHL1', 'SLC10A7', 'MAF1', 'TRAF3', 'NOX1', 'LUZP1', 'ATP10B', 'EFCC1', 'EIF3K', 'HAAO', 'PLD6', 'DPH3', 'PCYT1B', 'NFX1', 'SLC35F2', 'FKBP1A', 'KCNE4', 'COL4A5', 'STAC2', 'RBMS1', 'APH1A', 'MVK', 'PITPNM3', 'KLHL8', 'NUP35', 'GPR137', 'GAMT', 'PPFIA2', 'ZNF667', 'PRPF38B', 'PDF', 'CCT2', 'MSI1', 'FAM9A', 'SCP2', 'CACNB3', 'ETF1', 'ZDHHC4', 'SPHK1', 'RASL11B', 'ADAL', 'PKNOX2', 'UCK2', 'KDM6B', 'INSR', 'MS4A14', 'SLC5A2', 'ZNF607', 'TNFSF14', 'THAP6', 'MAL', 'SLC27A1', 'ANK1', 'SNX1', 'ESAM', 'CELF1', 'AMPD3', 'C1QTNF5', 'C11orf94', 'PINX1', 'AGTRAP', 'RRP8', 'NPAS3', 'BACE2', 'CASC4', 'CD68', 'ZDHHC12', 'CAPN2', 'CHPT1', 'CPPED1', 'RERG', 'AKAP2', 'SLC27A3', 'CXCL12', 'CCDC51', 'TRAF3IP2', 'RHBDD2', 'MPHOSPH9', 'CEMIP', 'ASRGL1', 'WDR83', 'SLC25A22', 'YWHAH', 'CTBP2', 'NRBP2', 'ISCA2', 'GTPBP2', 'ALDH3A2', 'FBP2', 'NQO2', 'ZNF333', 'TRAPPC3', 'KIFAP3', 'NPTXR', 'RGS6', 'OPHN1', 'ARHGAP25', 'WNT2B', 'MOGS', 'CFL1', 'DHRS7B', 'PDIA3', 'YIF1A', 'G3BP2', 'AARS', 'CYP4B1', 'SV2A', 'MAFK', 'SCARNA2', 'HRH3', 'SOX2OT_exon3', 'NAPRT', 'ZNF451', 'LXN', 'KCNJ3', 'MAPK9', 'ZNHIT6', 'MED16', 'SYBU', 'ALKBH5', 'APTX', 'ELAC2', 'RAPGEF4', 'PDGFA', 'PLOD1', 'KCTD13', 'RNF17', 'SNX29', 'PEX2', 'NRN1', 'NAV1', 'CYB561A3', 'KLC4', 'LPCAT2', 'C17orf67', 'GCA', 'NXPH1', 'NET1', 'FMO3', 'PCBP2', 'SPRED2', 'NFKBIA', 'PRRG1', 'STARD13', 'MAK16', 'TDRKH', 'VAV1', 'QPCT', 'CERS5', 'AP4B1', 'MCMBP', 'ANKFY1', 'DUSP5', 'JMJD1C', 'GDPD2', 'NTF3', 'ANO3', 'SPARC', 'TTC39B', 'HOPX', 'VSNL1', 'PBRM1', 'ABCB8', 'ZFAND3', 'IRF2', 'ZBTB4', 'MTA2', 'PKIB', 'ALDH5A1', 'GNG12', 'USP44', 'RBM33', 'PALLD', 'POLR1A', 'ZNF407', 'TMEM106A', 'THAP5', 'TFEC', 'CDC42EP1', 'ABI1', 'CPAMD8', 'ARID5A', 'NRXN3', 'CALM3', 'AIP', 'RNF125', 'PHF5A', 'SLC12A9', 'NR1D1', 'TMEM27', 'TMEM39B', 'ZBTB8OS', 'SMIM13', 'ARHGAP24', 'THY1', 'PYGM', 'LDHD', 'ORMDL1', 'R3HCC1', 'XPO7', 'CPNE4', 'CENPP', 'PAXX', 'ZC3H7A', 'SFPQ', 'DYDC1', 'ASB16', 'PFKFB4', 'CCDC183', 'H3F3A', 'GRK7', 'SYT16', 'UFM1', 'RNF144A', 'GABARAPL2', 'TDP1', 'FHAD1', 'SLC32A1', 'CFAP221', 'ADAMTS1', 'DEGS1', 'AKAP13', 'ECE1', 'MAVS', 'NFATC3', 'ARHGAP30', 'FOXO4', 'POLD3', 'DAAM1', 'CD9', 'TIMP3', 'RPL3', 'ACTN2', 'MS4A6A', 'RANGAP1', 'SRSF4', 'RPS6', 'CSPG5', 'PLPP4', 'NAP1L5', 'FBXL5', 'CD52', 'B4GALT1', 'PTPRB', 'TINAGL1', 'EMP3', 'NFIC', 'PIGC', 'GCC2', 'IFIT3', 'ZNF212', 'DNTT', 'EPB41L4B', 'CEP112', 'CHD7', 'ZFP64', 'WRN', 'SEC23B', 'MRPL49', 'ZNF397', 'EPS8L2', 'PSMC1', 'MFSD12', 'REEP2', 'CAPS', 'SART1', 'RNF144B', 'AXIN2', 'HPN', 'CDC45', 'GLT8D1', 'LAMA4', 'TNS1', 'BTBD2', 'SLC22A18', 'CD3EAP', 'KRT10', 'MAN2C1', 'CA6', 'FAM229A', 'DDX54', 'CD47', 'RGMB', 'RPS6KB2', 'AURKC', 'BTF3L4', 'GALNT11', 'DVL2', 'LAMA2', 'SEC22B', 'BCAP31', 'GLCCI1', 'SLC25A47', 'SOX5', 'CACNB4', 'FGFR1', 'NRF1', 'OVOL3', 'TNIP1', 'SCAPER', 'TFAP2A', 'UBE2I', 'SBF1', 'BCL2', 'ARHGEF2', 'RBL2', 'AXL', 'LDLRAD3', 'BAZ2B', 'CLCN2', 'POLR2G', 'ZNF512B', 'EPHB3', 'PPM1K', 'TXNDC15', 'GOLGA1', 'PROM1', 'PEA15', 'PTPRC', 'SGSH', 'ATN1', 'SLC23A2', 'SMAD3', 'NRTN', 'CDH22', 'VPS18', 'ZDHHC3', 'NDUFV3', 'CMAS', 'ARPC1B', 'TAC1', 'SKP2', 'ANXA3', 'MYCT1', 'LST1', 'PSMA7', 'SLC44A1', 'ARHGAP32', 'UMPS', 'RBM41', 'SOX18', 'ZCCHC11', 'IL15', 'TNPO3', 'SCG3', 'PRMT3', 'KDM2A', 'VSIG4', 'CLTCL1', 'GFPT1', 'MGST3', 'SPRY2', 'PIGS', 'U2SURP', 'P2RX4', 'XRCC6', 'PRF1', 'GNAT1', 'GPR83', 'RSRC2', 'ZNF746', 'ST6GALNAC1', 'PDE1A', 'ZNF358', 'PLP1', 'OBSL1', 'GTPBP1', 'KLHL14', 'TYK2', 'USP2', 'PAN2', 'FARSB', 'C5', 'NOSIP', 'CPLX2', 'QSOX1', 'GFAP', 'AGO3', 'ARHGEF16', 'TMPRSS5', 'OCIAD2', 'ATP1A4', 'GPATCH3', 'UST', 'ANKRD40', 'ADAMTS4', 'ZKSCAN8', 'ZNF704', 'RAP1GAP2', 'EEF1D', 'TPO', 'ST6GALNAC4', 'CLIC1', 'STOML1', 'ACSL6', 'SIX1', 'COX6A1', 'TGIF2', 'CPED1', 'CDH18', 'PRKCE', 'APIP', 'RNF139', 'TBC1D17', 'ZNF35', 'COMP', 'SDCCAG3', 'EPX', 'CACNA1G', 'SAMD15', 'IL1RN', 'GMIP', 'MFHAS1', 'TAPBPL', 'TNNT1', 'PLTP', 'CTNNA2', 'GNS', 'KBTBD11', 'MLH3', 'PARVB', 'LUZP2', 'CD82', 'ACBD5', 'SP140', 'TBCB', 'SLC4A4', 'MTFR1L', 'HEBP2', 'IL20RA', 'UBQLN1', 'ETFB', 'SGMS2', 'NR2E3', 'UPF1', 'PLCL1', 'SKIDA1', 'LRRC28', 'TMOD3', 'ZCCHC2', 'GDA', 'RPLP0', 'TPX2', 'KCNK3', 'TNNI2', 'IMP4', 'APH1B', 'ATP5J', 'LPCAT1', 'RB1', 'PHLPP1', 'TBC1D15', 'HBP1', 'POLR3H', 'ZNF395', 'RRM2B', 'RPL26', 'ARC', 'FILIP1L', 'LMO4', 'PLEKHG1', 'ZDHHC8', 'PAFAH2', 'CTSZ', 'NREP', 'AHCY', 'ATP13A5', 'UCHL1', 'ADRB1', 'IRF8', 'SYN2', 'ARF6', 'ARSA', 'APBB1IP', 'GTF3A', 'TFPI', 'GALNT14', 'ABCG5', 'KIZ', 'CMTM4', 'MDH2', 'KLF7', 'CTSC', 'HABP4', 'FAM184B', 'GPRC5B', 'RCAN2', 'OXR1', 'STN1', 'RETREG1', 'PHRF1', 'FGD1', 'MAP4K5', 'CD300LF', 'GALNT15', 'ACACA', 'HEATR4', 'RUFY4', 'LIX1L', 'SLC1A2', 'DAD1', 'CYP21A2', 'ITPKA', 'C1QB', 'ACADM', 'IL17RB', 'STARD5', 'WDR60', 'SNAPC5', 'TXNIP', 'C1QA', 'ELOVL5', 'AGPAT4', 'DAG1', 'LARP6', 'FRMD6', 'TMEM71', 'NSMCE2', 'ARF4', 'FADS1', 'PPP1R35', 'IFNL1', 'TREM2', 'GRIK5', 'CREB3', 'UNC13D', 'PRKACA', 'ATF1', 'UBE2S', 'CKLF', 'OLFML2A', 'ARMC7', 'DIO1', 'MTMR11', 'STT3B', 'CAGE1', 'GRIA4', 'DPYD', 'TSC2', 'CTU1', 'TMEM37', 'OTUD4', 'LRP12', 'CHGA', 'VEZT', 'CLIC2', 'TNFSF13', 'CYBRD1', 'TPRA1', 'CD27', 'CLCNKB', 'TMEM94', 'CNKSR2', 'APCDD1', 'BEND5', 'C16orf45', 'NAPB', 'WDR3', 'HERC2', 'PREX2', 'PDGFRL', 'TNS2', 'FAM217A', 'OAS3', 'SLC29A3', 'TYROBP', 'COG2', 'ANAPC15', 'MFAP3L', 'VLDLR', 'BCL9L', 'IGSF23', 'C1QL1', 'ITGB8', 'GLT8D2', 'LSG1', 'MXRA8', 'TMEM72', 'CACNG7', 'OXA1L', 'IRF2BP2', 'TAAR2', 'PIAS2', 'NCBP2-AS2', 'FOXO3', 'ATPAF2', 'DNAJB14', 'GCH1', 'VPS8', 'BCL11A', 'SLCO1C1', 'POLE2', 'SHISA4', 'TAF11', 'SARS', 'ABL1', 'NUMB', 'MYRIP', 'TEK', 'MYL9', 'PPP6R2', 'SSR4', 'SOX2', 'POLR3E', 'TJP1', 'DCUN1D3', 'CKB', 'CRTC3', 'DUS1L', 'ADAM12', 'FAM189A2', 'XIAP', 'CASKIN2', 'UBE2V2', 'PIK3R1', 'NR2F2', 'TTC9B', 'SCFD2', 'TMEM156', 'ARHGEF7', 'MOGAT2', 'ALDH18A1', 'KLHL2', 'SZRD1', 'RIPOR1', 'RPS15', 'ACY3', 'ACBD7', 'ZNF888', 'TMEM163', 'GEMIN5', 'MMRN2', 'WNK1', 'STX5', 'RNF4', 'LCLAT1', 'RAB3IL1', 'DIAPH1', 'B3GAT3', 'ZNF280D', 'ADH1B', 'ZNF22', 'COL6A2', 'KCNRG', 'TLN2', 'NAXE', 'KMT5B', 'BEX3', 'FAM98A', 'ASPHD2', 'NKX6-1', 'SCARB1', 'DTX1', 'GDF11', 'NQO1', 'GNG7', 'LAT2', 'MTSS1', 'XKR8', 'IVD', 'SLC30A9', 'SOCS1', 'ECD', 'LSAMP', 'AMN', 'BEX1', 'AMELX', 'TEX29', 'SLC45A3', 'NLRC4', 'PSTPIP1', 'FARS2', 'SPATA2', 'METTL1', 'PSMB2', 'ADAM9', 'PRKDC', 'INTS8', 'GBX1', 'SATB1', 'MON1B', 'CLEC2B', 'LRIG2', 'HAGHL', 'COL6A1', 'GATA2', 'FKBP5', 'NGB', 'RHCG', 'C1QTNF6', 'SALL1', 'REV3L', 'LNX1', 'ALPK2', 'SLC40A1', 'GIPC2', 'NOD1', 'TSC22D3', 'ADIPOR2', 'PRKAA1', 'CYTH4', 'SPSB1', 'MICAL3', 'DCXR', 'TSC22D2', 'NAA40', 'FUT10', 'TSC22D4', 'PCYT1A', 'KCNC2', 'SOX13', 'TBC1D22A', 'LHB', 'RAB3GAP1', 'TPRN', 'RP1', 'ITCH', 'ETV1', 'THOC3', 'PLCD1', 'ENTPD4', 'EXOSC5', 'NUDT3', 'DPY19L1', 'PAPSS2', 'PAFAH1B1', 'SPACA6', 'TRMT44', 'ASH2L', 'EBF1', 'CCDC120', 'PIGQ', 'SLC10A1', 'ZNF343', 'SESN3', 'FAXDC2', 'UAP1L1', 'ABHD10', 'ARHGAP42', 'CYTB', 'LMO2', 'ZNF155', 'IFI27', 'ITGA9', 'SOX17', 'CCSAP', 'COQ5', 'DCAF4', 'SSBP4', 'ZIC2', 'DTNA', 'HDAC11', 'TEX261', 'NIPSNAP2', 'C22orf31', 'PPARGC1A', 'RTRAF', 'ASXL2', 'JMY', 'FAM53C', 'AHDC1', 'CPOX', 'CDR2L', 'TEX48', 'CNTFR', 'KIF13B', 'TRIP10', 'PXK', 'SNORND104', 'MVB12B', 'ZFHX4', 'INPPL1', 'CENPB', 'VTI1B', 'HEY1', 'CSMD2', 'CLDN12', 'MAPK6', 'TMX4', 'PSENEN', 'RGCC', 'KATNA1', 'ADGRG1', 'NEU1', 'GAP43', 'CORO1B', 'INPP5E', 'SMAD1', 'NINJ1', 'ALDH1A3', 'NKD2', 'FASTKD3', 'RMND5B', 'CYB5R2', 'NCAM2', 'CDH11', 'C19orf33', 'MGA', 'DNAJB6', 'CDS2', 'SCUBE1', 'TPM2', 'GAB2', 'PRRC1', 'UGGT1', 'ACAP3', 'COMMD7', 'LY6H', 'DOHH', 'MYO5C', 'KBTBD3', 'ITPR1', 'GAB3', 'NUAK1', 'APOD', 'UBXN2A', 'PYCR3', 'LGALSL', 'CARNS1', 'CRTC2', 'ZNF32', 'SNIP1', 'TFEB', 'SLC2A4', 'TNS3', 'GABBR1', 'ZNF441', 'GTF3C4', 'DIP2A', 'NDRG4', 'ZNF682', 'MRPL50', 'RNF141', 'PAX6', 'DBNDD2', 'KRT17', 'RGS7BP', 'SPINT2', 'UPRT', 'PPP2R2A', 'KIAA1671', 'SUPT3H', 'SIN3A', 'RFNG', 'ITGB1', 'LTBP3', 'NOC2L', 'UBAP1', 'CRB2', 'CBX5', 'SESN1', 'KNSTRN', 'SLC1A4', 'RFTN2', 'DMD', 'PLGRKT', 'MARCH1', 'LRWD1', 'LPIN2', 'CDH15', 'ZNFX1-AS1_3', 'GBP3', 'PDE12', 'MAP3K4', 'GLIS2', 'RHOT1', 'PPP1R15A', 'ESF1', 'SPDYC', 'PHACTR4', 'ODF2', 'ZEB1', 'SGCA', 'CA10', 'SVBP', 'BOLA3', 'DOCK6', 'CYB561D1', 'KATNB1', 'C14orf132', 'COPB2', 'TEAD1', 'DEAF1', 'QSER1', 'RRP9', 'ELAVL2', 'GLRB', 'MLYCD', 'RUBCNL', 'FOXJ2', 'CCDC82', 'ANXA2', 'KANK3', 'ACTA1', 'TRIM13', 'UBE2Q1', 'EXOC4', 'AATF', 'FBXO28', 'ERMN', 'KCNJ6', 'GNG4', 'RMST_2', 'CAMK1', 'UBXN7', 'ZNRF1', 'CYP2S1', 'MAGT1', 'SNORA24', 'FAM222A', 'IDH2', 'GOLPH3L', 'YES1', 'TSHZ1', 'MPDU1', 'IRS2', 'COLEC12', 'HMGN3', 'P2RY1', 'SUSD3', 'NONO', 'C8orf89', 'SIL1', 'NOL3', 'FXYD1', 'GADD45GIP1', 'CRHBP', 'AGAP2', 'NCAN', 'ZNF440', 'CYP4F8', 'GRB2', 'CD320', 'GPR3', 'KCNA2', 'SLC22A23', 'CCDC117', 'ELK3', 'TMEM117', 'TMEM144', 'YKT6', 'HSPA2', 'SIVA1', 'TUBA1C', 'MYL4', 'FAM76B', 'RAB31', 'ABCC10', 'UBAP1L', 'ARHGEF28', 'ELAVL4', 'TATDN3', 'MAFB', 'ACAD11', 'CHORDC1', 'PCSK2', 'GPR137C', 'CCNK', 'MBP', 'RNF41', 'NSFL1C', 'NTM', 'UTP20', 'PTGS2', 'TMEM218', 'TMEM203', 'MRPL39', 'JKAMP', 'RRP36', 'BRI3', 'FAM159B', 'PGD', 'TOX', 'DCAF10', 'TMEM56', 'WTIP', 'AKT2', 'AOX1', 'GNMT', 'MAPK10', 'ZSCAN10', 'ITGA6', 'TMEM206', 'TCF12', 'LLGL1', 'SECISBP2', 'TRIM2', 'SPHK2', 'MEGF11', 'CARD6', 'AVPI1', 'IL23R', 'MAGEE1', 'MZT1', 'SNORA20', 'TBC1D5', 'ARHGDIB', 'MOSPD3', 'PHIP', 'KYNU', 'ZBTB10', 'EBNA1BP2', 'KIF1B', 'PIBF1', 'ASNSD1', 'TGFB1', 'CSNK1G2', 'SREBF1', 'TGFBR2', 'USP6NL', 'NUDC', 'CDK18', 'HMGN5', 'CENPX', 'PRRG4', 'CASC3', 'TANGO6', 'VGLL4', 'GALNT16', 'PTPDC1', 'ACSF3', 'TBC1D25', 'HSPA14', 'TMCC3', 'GKAP1', 'PRDM9', 'RBM47', 'SPTBN4', 'ELSPBP1', 'DNM1', 'NBAS', 'CCDC80', 'HMGCS1', 'ARRDC2', 'RAPGEF3', 'NDN', 'IFI35', 'MID2', 'KHSRP', 'ABCB1', 'DNAJA2', 'GLIPR2', 'RPRD1A', 'MANEA', 'TCF4', 'NEK6', 'GRAMD1C', 'NBEAL2', 'TSPAN15', 'PLLP', 'PMPCA', 'MRRF', 'KCNK7', 'GJC3', 'FOXP3', 'SLC1A6', 'CTTNBP2NL', 'BNIPL', 'SYT11', 'STK40', 'NUP98', 'PLVAP', 'CNEP1R1', 'SNCG', 'TCP1', 'CRYM', 'SYT1', 'PHACTR3', 'GIMAP7', 'MRAS', 'HLA-DOA', 'COPA', 'ZNF317', 'RAMP3', 'ANO10', 'ATP1B3', 'CCDC153', 'TES', 'TACR3', 'DBP', 'HAUS6', 'HYOU1', 'CD81', 'ZNF626', 'DLGAP3', 'CBX1', 'IQCF1', 'HIBCH', 'ATP6V0C', 'UNG', 'BCL7C', 'SRXN1', 'DNAJC12', 'HERPUD1', 'CD48', 'GABRA5', 'FEM1C', 'KIAA2012', 'B3GALT6', 'CEP97', 'FBXL19', 'CIR1', 'KAT2B', 'DYNC2LI1', 'TNIK', 'SMG7', 'FAM20A', 'RRAS2', 'MTA1', 'PPP1R16B', 'ZNF334', 'GAPVD1', 'COL5A1', 'PLA2G15', 'JARID2', 'PRDM4', 'ALX3', 'COX19', 'LEPROT', 'GABRR2', 'FOXN3', 'FN1', 'SNX10', 'JAM3', 'WWOX', 'CYP3A43', 'CALB1', 'SELE', 'CDC20', 'C6orf52', 'ERCC6', 'PRKD1', 'TRPC6', 'DHTKD1', 'GCC1', 'TTC3', 'SNX9', 'PSMD14', 'RNF165', 'LPGAT1', 'STX1B', 'CCNJ', 'CERS2', 'PHACTR2', 'SNORA14', 'GPM6A', 'RGS10', 'OGFOD3', 'EVI5', 'ETV6', 'PTX4', 'PLAT', 'GGH', 'RANBP9', 'SNX20', 'TSPOAP1', 'EIF4A3', 'PFDN2', 'FAM181A', 'GRIA3', 'BIRC6', 'ARID1A', 'FMO4', 'CEP120', 'TMEM243', 'MLH1', 'ERN1', 'SOCS5', 'LYPD2', 'snoU109', 'FXYD7', 'RAB2B', 'AIPL1', 'TP53I3', 'MAPKBP1', 'ROBO4', 'MOG', 'TRAF2', 'SIPA1L3', 'SBDS', 'PLXNA2', 'MAN1A1', 'ASCC2', 'WISP1', 'SLC25A26', 'GABARAP', 'EBF4', 'FBXW4', 'TMEM59L', 'PICALM', 'NSG2', 'TAOK3', 'SPTSSA', 'TELO2', 'TTYH2', 'LZTFL1', 'ADGRL1', 'TMCO1', 'WNT5B', 'SCRG1', 'CDK2', 'MTMR9', 'KBTBD4', 'RHEB', 'RGS1', 'SHD', 'YDJC', 'TUSC5', 'TNFRSF19', 'GPC5', 'DNAJC1', 'EDNRB', 'TMEM38B', 'PAK2', 'MREG', 'CHD2', 'WIPF3', 'RFWD2', 'FMN1', 'PCNX4', 'CYP2J2', 'DDX3X', 'NAPA', 'CAPN11', 'PPFIA4', 'IRF9', 'NOL8', 'SUPT20H', 'DHX57', 'FABP7', 'TIMP2', 'KITLG', 'MYLK2', 'USP53', 'MROH6', 'CACNA1D', 'ZIC3', 'SMAD5', 'EGFLAM', 'RAMP1', 'TIMP4', 'CDYL', 'NENF', 'SOX10', 'FABP6', 'RFESD', 'LAMTOR1', 'PITPNM1', 'SAMM50', 'RPS6KC1', 'DENND6A', 'DCTPP1', 'WNK3', 'PITRM1', 'CYP2A24', 'MRPS18C', 'ENPP6', 'RHOB', 'DLG1', 'NAAA', 'NPVF', 'PPM1J', 'ATXN2', 'CERS6', 'PIP4K2B', 'TAF1', 'CDKAL1', 'CABP4', 'BMP1', 'TMEM64', 'CBFB', 'ID1', 'C1QC', 'ZDHHC18', 'MRPL53', 'POGK', 'BAALC', 'EXTL1', 'PLCD4', 'NAGLU', 'THOC1', 'TTC8', 'ANXA5', 'PRKAB1', 'ALDH6A1', 'ACAD9', 'VTN', 'LAMA1', 'POLR3D', 'ZMPSTE24', 'SEC61A1', 'HIF1A', 'RECQL', 'CARD19', 'ATP5G2', 'HERC5', 'ZBTB47', 'PLXNB2', 'ACO1', 'AKAP7', 'ADI1', 'NFIB', 'TESC', 'FTO', 'BOP1', 'SIAE', 'SPIDR', 'CEP76', 'FUS', 'THSD1', 'NAA20', 'SDS', 'NT5M', 'SGPL1', 'ZNF362', 'CACNA1I', 'ZNFX1', 'CGREF1', 'DNAJC21', 'FAM20B', 'CCDC3', 'MARF1', 'MTCH1', 'NUCB2', 'GNL1', 'MORC2', 'PIANP', 'HEXIM1', 'C5orf42', 'TAF1A', 'CAMTA1', 'DICER1', 'IPO11', 'LRRC41', 'SELENON', 'EPB41', 'PPP1R12B', 'PTPRR', 'EVPL', 'PUSL1', 'HOXC4', 'GFRA2', 'RNF150', 'BANF1', 'AOAH', 'DNAI1', 'FAM78A', 'NUP210L', 'STK4', 'GUF1', 'DYNC1LI2', 'TFB1M', 'MDM4', 'RPH3A', 'COLGALT1', 'HYLS1', 'USP16', 'NEURL1B', 'TAF12', 'ATF3', 'VPS25', 'DPY19L4', 'FBLIM1', 'SLC39A12', 'CEP44', 'PPP3CC', 'ILK', 'IFI44', 'LIAS', 'TXNDC9', 'FMR1NB', 'MAP2K1', 'CTSF', 'TREH', 'GBP1', 'RASGRP2', 'SSFA2', 'P2RY13', 'RCE1', 'POFUT2', 'CD248', 'MMD', 'SERTAD2', 'OSTC', 'SEMA4A', 'SUPT4H1', 'DNAJC3', 'KIF5B', 'RCBTB1', 'CDO1', 'MEA1', 'FGFR3', 'TMEM170B', 'TSSK4', 'PRKCQ', 'FNDC3A', 'SAMD13', 'NBEAL1', 'CREBRF', 'PLOD3', 'SH3GL2', 'WDR90', 'LRBA', 'PGBD5', 'EIF4G3', 'SPON1', 'CNTLN', 'PRSS46', 'ZFPM2', 'CLK4', 'AFTPH', 'ING5', 'ZNF672', 'ARSB', 'HSPA12B', 'RCAN1', 'PLEKHG3', 'LEF1', 'VPS9D1', 'NDUFA4', 'C4BPA', 'ZIC1', 'CSGALNACT2', 'SETX', 'MYBPHL', 'CDR1', 'AARS2', 'KCNK12', 'RNF24', 'WDR54', 'RAD23A', 'TACR2', 'PEX11A', 'HIPK2', 'LRRK2', 'OPALIN', 'MICAL2', 'PINK1', 'DNAL4', 'DNAJB11', 'HID1', 'PRR36', 'ACP4', 'MRPL47', 'C3orf52', 'ANGPT2', 'PDXK', 'WNT5A', 'MYOM1', 'PCSK6', 'CNOT8', 'CBLC', 'ZFYVE21', 'GP6', 'RIN2', 'MAP3K19', 'LUM', 'ADM', 'VAMP5', 'SCARNA21', 'IDUA', 'HEPH', 'VEGFA', 'C9orf64', 'ZBTB44', 'SAPCD2', 'LMNA', 'ANKS1A', 'PLK2', 'VNN1', 'ZNF138', 'ATP2A2', 'UPK2', 'DESI1', 'ZNF625', 'AP2M1', 'GDAP1', 'CLEC12A', 'KIAA0355', 'RABEP2', 'TNKS1BP1', 'CDC42SE1', 'SVIP', 'ENPP5', 'USP22', 'ZSWIM7', 'COX7C', 'PPP1R1A', 'S100A13', 'IER2', 'GLS', 'WDR24', 'DGKQ', 'SIRPG', 'TRIM5', 'GPC1', 'MRPL15', 'CDK10', 'ARMC10', 'CNTN5', 'TRPM6', 'GNE', 'NID1', 'PHC1', 'TTLL11', 'CCDC107', 'ENC1', 'SAPCD1', 'RPS6KB1', 'BRINP2', 'NUDT8', 'MED27', 'PTPRCAP', 'APOBEC2', 'SAMD4A', 'COQ4', 'MGST2', 'GIMAP6', 'EDN1', 'PDCD2', 'TTC23', 'CUL7', 'TAB1', 'ZNF133', 'CMTM3', 'NDUFB2', 'GMPR2', 'SULF2', 'CNTN2', 'AK3', 'SERPINE2', 'LRRC39', 'PNISR', 'EPB41L3', 'KCNA1', 'GNGT2', 'BNIP3', 'CRIP2', 'SLC22A1', 'OTUD7B', 'ALG12', 'LIMCH1', 'STK24', 'HINT3', 'NEBL', 'PFAS', 'IFNGR1', 'FBXO46', 'TUNAR', 'JOSD2', 'MARCH9', 'ENDOV', 'HIST2H2BF', 'UCK1', 'LGALS2', 'UFL1', 'PIGF', 'PCED1A', 'FAM124A', 'BHLHE22', 'GABRA6', 'PGAP2', 'NEK9', 'MCOLN3', 'SHANK2', 'LAT', 'STOML3', 'HK2', 'TNFAIP3', 'AMZ2', 'HLA-DPB1', 'DDX27', 'LPL', 'RAP2C', 'CPT1A', 'DISC1', 'EPHA5', 'DHRS12', 'VAPB', 'SAMD4B', 'PATL2', 'BCL2L1', 'SEL1L3', 'CCDC27', 'TUBB', 'PENK', 'RGMA', 'NDUFS8', 'GCK', 'GPX7', 'KDR', 'MGME1', 'ARMC12', 'SMU1', 'BUB1', 'IBTK', 'MFGE8', 'STON2', 'AMMECR1L', 'MEMO1', 'ACTR1A', 'C7orf50', 'RND1', 'SMPDL3B', 'STRN', 'YAF2', 'SLC9A3R1', 'AGPS', 'RPL28', 'KCNN1', 'TTLL4', 'EXT2', 'DSP', 'POC1B', 'RAB41', 'NFATC1', 'ZGPAT', 'TFE3', 'FAM114A1', 'BRD3', 'GABRE', 'ZDHHC1', 'DHDDS', 'VSIG10L2', 'CDPF1', 'WRAP53', 'SHISA9', 'AGPAT2', 'CSE1L', 'S100A2', 'ZNF200', 'ADCY4', 'PSME3', 'NAT1', 'RNF215', 'UBAP2', 'AIM2', 'LYNX1', 'LZIC', 'KIF9', 'DOK5', 'PCCB', 'CCK', 'CITED1', 'GGA3', 'TCTA', 'LRRC29', 'MCMDC2', 'CYFIP2', 'ST3GAL1', 'KRT19', 'NDUFS1', 'TMEM107', 'HES5', 'MYCBPAP', 'RINT1', 'PRR14', 'AGO1', 'GSDMD', 'PPP2R2B', 'GOLGB1', 'HIP1', 'SMIM5', 'EDRF1', 'RP2', 'PDGFRB', 'LYPD4', 'ARHGAP35', 'IFI30', 'NKAIN2', 'CEBPZ', 'GSTO2', 'TBC1D14', 'SPAG7', 'SOX7', 'ACBD3', 'PDE4D', 'VRK3', 'VPS13A', 'GDAP1L1', 'IGF1R', 'CLASRP', 'LYRM1', 'BTD', 'PI4KB', 'APCDD1L', 'C10orf143', 'UBE3B', 'SARDH', 'LOX', 'ALKAL1', 'SLC24A2', 'RHOV', 'ARPP19', 'BTBD17', 'ADCY5', 'LRRC20', 'MBTD1', 'PCK1', 'SLC14A2', 'ERP44', 'JUNB', 'NPTX1', 'PTCD2', 'CPLX1', 'RAB26', 'NTS', 'NRIP1', 'MAP3K10', 'ADD1', 'TLE3', 'TMEM176B', 'DUSP26', 'SMIM15', 'FAM83C', 'MORF4L1', 'IDH3B', 'SGTB', 'CBX8', 'ARHGEF6', 'CYYR1', 'LYSMD3', 'ZNF143', 'STAG1', 'SYNM', 'YY1', 'ZRANB1', 'C17orf100', 'NXNL2', 'KLHL28', 'BNIP2', 'NPEPL1', 'PRSS41', 'NT5C', 'BRAF', 'FAM19A4', 'ADAM18', 'XKR6', 'MTUS2', 'GLUL', 'CXCL11', 'SCAF1', 'OSBP2', 'STMN1', 'RBM23', 'SYF2', 'TTC28-AS1_4', 'POLR1B', 'PRPF31', 'SLC16A2', 'UNC5D', 'DUSP6', 'EIF2D', 'N4BP2L2', 'LEMD2', 'ZNF654', 'B4GALNT4', 'RHEBL1', 'MTHFD2L', 'LETM1', 'DDB1', 'DNM1L', 'NECTIN3', 'NXT1', 'FAM193A', 'PPIB', 'ANGPTL3', 'UBA2', 'KIR3DX1', 'CYTH1', 'TXNL4B', 'TMEM86A', 'RALA', 'HLA-DMA', 'ANKRD1', 'SERPINB1', 'IL6ST', 'ELP3', 'SGIP1', 'LMNTD2', 'PQLC2L', 'KCNIP4', 'HECTD2', 'ORMDL3', 'TP53RK', 'CTNNBL1', 'XAB2', 'ARHGAP33', 'SLC22A17', 'NELL2', 'SIRT4', 'LRRC32', 'LMTK2', 'ARMC5', 'OAZ1', 'BLVRA', 'IFI6', 'KLK4', 'GNG3', 'GNL3', 'IRX6', 'AVEN', 'LAMTOR2', 'MRPS31', 'FAM20C', 'DYNLT1', 'AAMDC', 'RNPEPL1', 'TMEM143', 'TMEM208', 'GFPT2', 'PMS2', 'UGGT2', 'TOGARAM1', 'PSMD1', 'PLEKHM3', 'RBP1', 'TRIM47', 'ZNF613', 'MAP3K11', 'RBM7', 'HAUS1', 'EMP1', 'FBXO10', 'CKAP5', 'C16orf89', 'CENPS-CORT', 'CENPM', 'RINL', 'NAGK', 'MMP17', 'ITGA1', 'UNC50', 'FGF7', 'TLR3', 'ABHD2', 'ARHGEF26', 'IFFO1', 'GALNT1', 'DOK7', 'TRIM66', 'STARD7', 'VPS4B', 'ZNF18', 'STK38L', 'SLK', 'C11orf16', 'UNC79', 'MARCKSL1', 'SGCD', 'PEX13', 'NKX2-5', 'DNAI2', 'PPRC1', 'LSM2', 'ATG2B', 'FAM151B', 'FKBP3', 'MAX', 'UPF3A', 'BLVRB', 'MSX2', 'EXOC6B', 'CEP70', 'BACH2', 'COMMD1', 'LRIT1', 'TNK2', 'RPS6KA5', 'NOTCH2', 'RFXANK', 'IGFBP3', 'CLDN11', 'HVCN1', 'LARP4B', 'TTC7B', 'MEPCE', 'CNGB3', 'HSD17B8', 'ENHO', 'CD14', 'ALYREF', 'ATF2', 'CCDC13', 'GNPTG', 'LDAH', 'C6H5orf15', 'STAT1', 'CHD1', 'NFIX', 'KLC2', 'GPC3', 'TROAP', 'CA13', 'SCGB3A1', 'ARHGAP29', 'ABHD5', 'DNAJC2', 'FOSB', 'FGF20', 'ARHGAP22', 'SPSB2', 'TMEM123', 'COX1', 'APOBEC3C', 'NETO1', 'NKX6-2', 'ATF7IP', 'LRIG3', 'PKD2', 'RNF20', 'GSTM3', 'ASB10', 'TEX10', 'BMP2K', 'ZNF34', 'HSPB8', 'FBXL14', 'SNX3', 'TRIP11', 'PLEKHA1', 'FAM167B', 'LMBRD1', 'SPATS2', 'NEDD1', 'MROH2A', 'LSM12', 'TIMP1', 'TMED5', 'DDX25', 'BRCA2', 'MED25', 'NCLN', 'PRKCG', 'GPR50', 'BROX', 'NGEF', 'DIMT1', 'TRPV2', 'SYDE1', 'RGS16', 'RASSF1', 'ANKRD33B', 'GRIA1', 'SLAIN2', 'MRO', 'BATF3', 'JMJD4', 'SH3KBP1', 'FAM107A', 'NCAPD3', 'KCTD15', 'WNT7B', 'MGAT4B', 'KIAA1755', 'GPR180', 'HHATL', 'RAB13', 'CACNG4', 'RIN1', 'GDI1', 'RRAS', 'PRKCB', 'GIN1', 'TCF3', 'FBLN5', 'SPATS2L', 'ERBIN', 'RAF1', 'EFNA2', 'UBN1', 'CD99', 'RSU1', 'ENTPD2', 'SENP8', 'MACROD2', 'FAM83G', 'PVALB', 'ZNF688', 'ATRN', 'MIER3', 'PCID2', 'ARMC4', 'USHBP1', 'DMRT3', 'NUPR1', 'PDK4', 'MTFR1', 'ACIN1', 'ATP6', 'LAPTM5', 'NEURL1', 'DTX3', 'ABCD4', 'ZPR1', 'ENKD1', 'PIK3IP1', 'SLC7A1', 'PCBP4', 'RGP1', 'UPK3A', 'TSPO', 'HNRNPC', 'FNBP4', 'FOXH1', 'ADAM10', 'KDELR2', 'CHST1', 'PTER', 'RTN4', 'ATG7', 'ST3GAL6', 'DNASE2B', 'CYP4F12', 'UBL5', 'TET1', 'CHDH', 'ENO1', 'SMARCC2', 'CSTF1', 'ZMAT3', 'FABP4', 'DBI', 'MYRF', 'FIZ1', 'IFT43', 'POMT2', 'ERI1', 'TCF7L1', 'GPATCH8', 'FUT8', 'ANGPT1', 'PHYHD1', 'BCCIP', 'SIRT3', 'KREMEN1', 'NRXN1', 'AKIRIN2', 'EXOG', 'QPCTL', 'IL2RB', 'OSBP', 'EPHA2', 'NAT9', 'TIMM17B', 'RPA2', 'RPF1', 'CCND3', 'ERAP1', 'LSS', 'DHRS3', 'RAI1', 'SLC9A3R2', 'NADK2', 'IGSF6', 'SIPA1L2', 'OTOR', 'TNFRSF10B', 'UBB', 'PTPRF', 'TBX3', 'TMEM184B', 'ELMOD3', 'CPB2', 'MINOS1', 'MRM3', 'WNK4', 'CA14', 'GALC', 'PALM', 'TRAK2', 'ATP6V0A1', 'DCAF5', 'WASF3', 'LSM10', 'TBC1D21', 'KCNMA1', 'PIGR', 'SUB1', 'TAF13', 'ZNF112', 'GRID2', 'ZCCHC8', 'EIF2B5', 'TF', 'RPRML', 'SND1', 'CLDN10', 'PLCB4', 'SSUH2', 'ADD3', 'VPS53', 'AGL', 'N6AMT1', 'ABCB10', 'RNGTT', 'LDLRAD2', 'ACSBG2', 'ATF5', 'FERMT3', 'snoU89', 'C1QTNF4', 'NES', 'PLD2', 'DHX34', 'ACSL5', 'ZNF638', 'CDC40', 'SPARCL1', 'SLC25A28', 'MAML3', 'RMND1', 'CDC14B', 'TIMMDC1', 'HIVEP3', 'MORC3', 'COX10', 'TRIM22', 'EVA1A', 'GM2A', 'N4BP3', 'NEK10', 'PRMT5', 'TXNDC16', 'Hsp90ab1', 'REC8', 'PPIL6', 'NCKAP5', 'DDR1', 'TRIM54', 'LRRC14', 'EPHX1', 'HIBADH', 'CHN1', 'MMS19', 'SLC35B4', 'ZNF507', 'C1QBP', 'CERS4', 'XRN2', 'DAPL1', 'IZUMO4', 'PIGK', 'ZNF274', 'PPP2R3A', 'LY86', 'TRO', 'B3GNT7', 'SUGT1', 'GAS2', 'PCOLCE', 'ALDH3A1', 'SLC5A8', 'C12orf54', 'SIGLEC10', 'CDK2AP2', 'SLC51A', 'PRLR', 'PHF12', 'UBLCP1', 'TBC1D4', 'FAM92A', 'ZNF782', 'FCN2', 'CHST8', 'PTPRQ', 'PRKCI', 'IGFBP4', 'COG6', 'MAU2', 'MAP4K4', 'CAMK4', 'CUEDC2', 'FOXF1', 'PLAC8', 'RRNAD1', 'CDC16', 'PARP9', 'LHPP', 'KMT2C', 'ARHGDIA', 'NUP107', 'VIRMA', 'IRAK1BP1', 'SUCO', 'HMOX2', 'CEP85L', 'WWP1', 'NCEH1', 'SLC17A7', 'LSR', 'MOB2', 'PCMTD1', 'ARPC1A', 'HEXIM2', 'KBTBD8', 'TTC9C', 'MFSD6', 'SDF2', 'RIC3', 'MTHFD1L', 'METAP1', 'NMI', 'SMAGP', 'CLU', 'PTH1R', 'TPD52L1', 'ATP2B2', 'CSPG4', 'PATL1', 'HSPA12A', 'AGO2', 'KIF21A', 'STK39', 'PRDX5', 'KBTBD2', 'GIT1', 'CCR10', 'OST4', 'MAPK1IP1L', 'GAS2L2', 'CSNK1A1L', 'NSF', 'WBP1', 'LTA4H', 'ZNF703', 'IPP', 'KLHDC1', 'ARHGAP15', 'IL6R', 'PRR7', 'PISD', 'ASCL5', 'AHNAK', 'NUP205', 'NIPA2', 'FBLN1', 'ACSS3', 'NOP9', 'PPDPF', 'CD53', 'PPP1CC', 'SUCLA2', 'TRPV3', 'PCBD1', 'ABCF1', 'PGRMC2', 'ARHGEF10L', 'CDKN1A', 'BCAS2', 'COL1A2', 'FAM107B', 'STUB1', 'CCR2', 'RNF146', 'SH2D7', 'S100A16', 'E2F1', 'ZNF462', 'NOP58', 'POLL', 'PCGF1', 'GLB1L', 'FLI1', 'RDM1', 'snoMBII-202', 'FAM217B', 'CENPT', 'DUSP7', 'EXT1', 'OAS1', 'PLXNB1', 'AAAS', 'RRM2', 'PAIP2B', 'SH2D4A', 'PTPN9', 'IZUMO2', 'LARP4', 'PTGES', 'QDPR', 'RPS27L', 'CSF1', 'CTDSPL2', 'MPL', 'MAOB', 'THUMPD3', 'CD37', 'RGL1', 'CEBPE', 'CIPC', 'GLYATL1', 'RNPC3', 'PDE4A', 'TGFB3', 'NEAT1_3', 'TPCN1', 'SDC1', 'USP30', 'RIIAD1', 'ZNRD1', 'CRCP', 'SIX5', 'SPOPL', 'BCAR3', 'DPYSL2', 'TMEM63C', 'SIK2', 'CPQ', 'KLHL38', 'METTL22', 'MYO16', 'TMEM132C', 'FAM117B', 'EDC4', 'CDC42BPA', 'NALCN', 'BOC', 'FHL1', 'SEMA6A', 'ATP13A1', 'NCAPH2', 'NRXN2', 'UNC119B', 'B4GALNT3', 'FAM13B', 'KIF21B', 'EHMT1', 'WDR37', 'PARP6', 'ZNF75D', 'HS3ST5', 'UNK', 'CCDC152', 'MMP14', 'PDGFD', 'BCL10', 'C8orf46', 'OCIAD1', 'GALNT17', 'NKD1', 'BDH1', 'RPUSD3', 'PSD2', 'TRNP1', 'LIMS2', 'IL18', 'PHF11', 'ZNF655', 'DCAF15', 'TSPAN4', 'CDCA7', 'ETV4', 'SFXN3', 'GBP2', 'SEZ6', 'ITPRIPL1', 'PNN', 'CIB1', 'HNRNPM', 'LACTB2', 'EMC9', 'IGKC', 'CGN', 'CDC42EP3', 'HBEGF', 'CLSPN', 'PAGE5', 'EFNB3', 'KDM4B', 'DENND1B', 'PDILT', 'ARAP3', 'EVI2A', 'RASAL1', 'MFN2', 'SNX6', 'FRZB', 'MT4', 'RLBP1', 'SIGLEC1', 'ADAMTS10', 'CBLL1', 'MYH6', 'SELENOO', 'MAMLD1', 'SEMA3G', 'EVX1', 'POLD1', 'LRP10', 'TSPAN5', 'SLC22A3', 'MSH2', 'CHRNB2', 'CHD3', 'HEATR5A', 'TSHZ2', 'BRD2', 'FGFR2', 'RHOU', 'ECSIT', 'TULP4', 'PIAS1', 'SLC25A14', 'CHGB', 'SGPP2', 'SV2B', 'COASY', 'TROVE2', 'BCL2L13', 'MPP4', 'LHFPL3', 'AP2S1', 'COG4', 'PIGA', 'F3', 'LRPAP1', 'PRIM2', 'NADK', 'SNAP25', 'ARHGAP26', 'ABHD17B', 'OGDHL', 'AZIN2', 'RPLP2', 'C9orf85', 'PPFIBP2', 'NANOS3', 'TMEM52', 'FA2H', 'GBE1', 'FCGRT', 'SPCS3', 'IFIH1', 'TARSL2', 'PUF60', 'DCTN6', 'CDR2', 'HTR3A', 'KLF4', 'ABHD3', 'TLCD1', 'UBALD1', 'ALG3', 'CA2', 'FRYL', 'SLC30A5', 'C2CD4C', 'CHTOP', 'ADAM11', 'CEP250', 'TMEM9B', 'RAB36', 'CHRNA2', 'PRPF4B', 'SLC5A5', 'RPS21', 'WSB1', 'SLC20A1', 'RSPH9', 'RAB34', 'GPHA2', 'BBX', 'ARAP2', 'COL1A1', 'NEURL4', 'ZNF750', 'PHF3', 'CSMD3', 'CCDC91', 'ZC3H7B', 'ING2', 'DNAL1', 'ADAMTS5', 'NPFFR1', 'SLC5A1', 'ZMYM4', 'HDGFL3', 'DDX41', 'EFCAB8', 'EIF1', 'PLRG1', 'CCDC22', 'DKKL1', 'CALCB', 'ARHGEF40', 'ABHD15', 'AMD1', 'SLC25A13', 'KAT6A', 'SPTBN2', 'TMUB1', 'ST18', 'RABGAP1', 'ZFR2', 'RASSF4', 'VCAN', 'KLF15', 'STOX2', 'TMEM204', 'BHLHE41', 'USP8', 'KLF6', 'C10orf90', 'HELZ2', 'ZNF665', 'CBX7', 'PYCARD', 'SH2D3C', 'SPSB4', 'INAVA', 'MYH11', 'SNAPC2', 'EPB42', 'GYS1', 'SERPINA3', 'WDR46', 'C1H1orf43', 'PRSS57', 'RGN', 'WDHD1', 'RHOA', 'PAAF1', 'GAS1', 'HCFC2', 'STX4', 'ZNF207', 'MLLT3', 'LAMC1', 'BBOX1', 'PDPN', 'TSTD1', 'ZNF425', 'PURA', 'TADA1', 'LEPROTL1', 'TMEM44', 'CAPN10', 'ACAN', 'THEM6', 'OTUD7A', 'UQCRQ', 'TRMT6', 'EBAG9', 'CETN3', 'PDGFRA', 'WDR81', 'NAV2', 'NCF2', 'MCFD2', 'CARD9', 'WFDC2', 'NDUFAF5', 'NOP14', 'NDST1', 'MIER2', 'STRADB', 'PDCD1LG2', 'ETNPPL', 'ZNRF3', 'RCAN3', 'CDIP1', 'BCL9', 'KDM7A', 'VPS37C', 'OGDH', 'CTDSP1', 'TMED3', 'MAST2', 'COPB1', 'BIN2', 'CORO1A', 'TSSK3', 'MED12L', 'SYS1', 'NEPRO', 'COL9A2', 'FOLR1', 'ACTR1B', 'ANKRD52', 'MSX1', 'RAD51', 'PAG1', 'SLC38A5', 'ENOSF1', 'ARFGAP2', 'DOLK', 'DDX50', 'ACP7', 'SLC1A3', 'NR3C1', 'BOD1', 'TOB2', 'WIPF1', 'ISOC1', 'FAM167A', 'EDF1', 'XPO4', 'POLB', 'PUM3', 'CAPN9', 'WDR4', 'DOCK10', 'BST2', 'AK5', 'TAF6', 'PIN1', 'MKL2', 'NUMA1', 'PLCD3', 'RP9', 'FDXACB1', 'RPGRIP1', 'DHX16', 'RAC2', 'SLFN13', 'PCYOX1', 'CNBD2', 'PPM1A', 'RPH3AL', 'TMSB10', 'MAG', 'REEP1', 'MIGA2', 'KIAA0408', 'NDUFA10', 'PTP4A3', 'TAF2', 'ARL4A', 'PROX1', 'GNPDA2', 'ZKSCAN1', 'RPL10', 'DDR2', 'RNF216', 'YAP1', 'ATP6V0E1', 'DDX18', 'GTF2A1', 'GPR27', 'KLHDC4', 'ERMP1', 'JRK', 'RPAP2', 'RECK', 'KIAA1549L', 'LBHD1', 'CECR2', 'NRP2', 'TMEM255B', 'YWHAE', 'HIST1H1E', 'LYRM7', 'CRY2', 'ZNF57', 'SLC24A4', 'ANKH', 'PIR', 'ZNF396', 'SPEN', 'TTC13', 'CLCA1', 'ADCY1', 'CCL8', 'LRSAM1', 'PTTG1IP', 'RELT', 'CHMP1A', 'CGNL1', 'SLC29A4', 'QRICH2', 'CIB2', 'CEP131', 'NUP54', 'DNAJB12', 'VCAM1', 'MRC1', 'AHCYL1', 'RNF185', 'UHRF1BP1', 'ATG14', 'TLR4', 'POU2F1', 'DUSP19', 'XYLT2', 'FADS6', 'HSD17B4', 'PIK3R4', 'LYN', 'NFKB1', 'NLK', 'AUP1', 'PEPD', 'MYL6B', 'PARP11', 'REM1', 'GABRG3', 'LINC00116', 'RBM43', 'TDRP', 'ACOT2', 'HARS2', 'FNBP1', 'PTPRD', 'PLD1', 'TMEM99', 'FAM204A', 'AIMP1', 'TGFBR3', 'CTSW', 'ADD2', 'GNPAT', 'RELN', 'CREG1', 'GLMP', 'GPN2', 'FABP5', 'RNF166', 'ALDH1L2', 'CAPS2', 'KCNMB1', 'TACC3', 'MYLK3', 'GALNT18', 'DERL1', 'MAD1L1', 'RNF5', 'GLI2', 'ARX', 'MAPK3', 'ZDHHC22', 'KANK1', 'CRADD', 'LRRC40', 'SCD', 'EZH2', 'ALS2', 'RAB3A', 'SMURF2', 'TSPAN3', 'PRR5L', 'SNRPB', 'PCGF5', 'MED20', 'EFNB1', 'EPC1', 'WDR91', 'ZNF513', 'SLC31A1', 'FGF22', 'FOXA1', 'PABPC5', 'ALKBH6', 'NUDT16', 'WASL', 'MSN', 'ZNF316', 'LIX1', 'MYH7B', 'DAGLB', 'SFXN2', 'AASDH', 'GPR157', 'PANK3', 'DZIP1L', 'LRRCC1', 'CTPS1', 'WDR38', 'PTPRK', 'CCDC190', 'ZDHHC17', 'PSMD4', 'MIER1', 'MCAM', 'RIF1', 'USP37', 'FLYWCH1', 'CHD9', 'TESK1', 'CLEC2D', 'PRKCA', 'PMVK', 'PABPC4', 'AGA', 'MXD3', 'BCAN', 'FXYD5', 'FGL2', 'PKP1', 'SLC25A33', 'SLC30A1', 'DDN', 'ASB1', 'GPC6', 'SMPD2', 'LRP4', 'NLRP3', 'ATP6V1H', 'LIMD1', 'YWHAB', 'CALD1', 'SLC24A5', 'MEGF10', 'MGRN1', 'ABCA2', 'SNORD50', 'DYNLL1', 'ZFP57', 'DCTN3', 'ZNF813', 'TMEM151A', 'ESPNL', 'DCLK1', 'PTGER1', 'SLITRK1', 'ZFPL1', 'PPP3CA', 'OLR1', 'ZNF114', 'HPS4', 'RAC1', 'MMAA', 'PRELP', 'SLC14A1', 'MCF2L2', 'WASHC4', 'DDHD1', 'ABHD4', 'MYO7B', 'LIN54', 'CDHR3', 'PLP2', 'APC', 'ATXN7', 'GORASP1', 'TOR2A', 'SH3PXD2B', 'LGI3', 'EIF4EBP1', 'RPL24', 'P3H3', 'LPAR1', 'KRAS', 'PPP4R4', 'ID2', 'TTR', 'CLCC1', 'GTSF1', 'KHNYN', 'MRNIP', 'SEMA3C', 'IGSF11', 'MKRN2', 'STRN4', 'HMGCL', 'PHLDA2', 'C8orf82', 'SREK1IP1', 'BAZ2A', 'LARGE1', 'TM4SF18', 'RHNO1', 'NDUFAF7', 'SPOP', 'LUC7L3', 'NDP', 'BCAS3', 'RBFOX1', 'VPS37A', 'LCAT', 'SLC52A2', 'ALKBH7', 'NTHL1', 'TMEM270', 'PMS1', 'RHOQ', 'SCCPDH', 'RAB27A', 'PACS2', 'FAIM2', 'SYNGR1', 'LAMA5', 'COPS6', 'TPRKB', 'SMPD1', 'RPS19', 'RTKN', 'PPY', 'RBPMS', 'TRAPPC12', 'ZYX', 'SLC39A7', 'SIAH1', 'CALN1', 'AMER2', 'MPND', 'SLC39A8', 'RTN3', 'ADAMTS9', 'SETD1B', 'OLFM4', 'ZNF148', 'APOC1B', 'THADA', 'ZMYM2', 'BATF2', 'PCP2', 'CCDC50', 'TRIM24', 'GMFG', 'RFC5', 'CDK9', 'POMT1', 'CAMSAP3', 'LAIR1', 'KCTD4', 'GDPD3', 'NDFIP1', 'DENND5A', 'GRK6', 'ALKBH1', 'PTGFR', 'FSIP1', 'CHI3L1', 'SLC30A7', 'TMEM59', 'PDLIM3', 'AGRN', 'ASAP1', 'CAB39L', 'FAM89B', 'FAH', 'MPV17L2', 'SLC6A6', 'KIAA0141', 'TMEM190', 'KDM6A', 'STAT6', 'STOM', 'STOML2', 'TNFSF10', 'EXOSC3', 'ZNF285', 'LIMS1', 'RABGGTB', 'PRDX4', 'CTNND2', 'KIFC3', 'RANBP17', 'DPEP3', 'ATP1B1', 'NUP133', 'CBX2', 'RABL6', 'CRTAP', 'UGP2', 'PSMG1', 'NPDC1', 'INSIG1', 'ACAP2', 'SEMA6D', 'ITGB5', 'PGM2', 'NOL4L', 'SLAIN1', 'HSP90AA1', 'SULT2B1', 'SAMD14', 'C4orf47', 'SEPT6', 'IRAK1', 'UBXN6', 'CLEC11A', 'OSGEP', 'SEPHS1', 'RAI14', 'TCEA3', 'TICAM1', 'ATL1', 'CNGB1', 'SMARCA1', 'EIF6', 'MBD3', 'CAMKV', 'STARD8', 'TMEM147', 'WHAMM', 'TMEM242', 'INTS9', 'SRGN', 'INTS14', 'CCDC114', 'CRYBA1', 'GNA11', 'BSCL2', 'RNF103', 'MGAT1', 'KLHL23', 'HOXD3', 'NDUFB10', 'TIMM13', 'RPL7', 'TYMS', 'SLC2A12', 'SRP14', 'CDC25A', 'GIMD1', 'KLHL32', 'AKAP1', 'KCNT1', 'PHLDA3', 'CTCF', 'FRS3', 'CXCL14', 'NDE1', 'TBL1XR1', 'HHIP', 'LARP7', 'S100A6', 'CTBP1', 'NOP10', 'EPHX3', 'ELAVL3', 'PRDM6', 'FAM13C', 'TLK2', 'GRIK2', 'TYW3', 'ANKRD50', 'ORAI1', 'TRPA1', 'TMEM245', 'DDX60', 'BOK', 'CLTA', 'SLC7A4', 'NACC2', 'GORASP2', 'ARHGAP23', 'GPATCH2', 'HDAC5', 'DYRK4', 'CXXC4', 'SUSD5', 'GSTP1', 'MYH14', 'SOX2OT_exon1', 'MTSS1L', 'SMIM30', 'RBP4', 'UBE2B', 'BPHL', 'SYNGAP1', 'SNAP47', 'SLC38A3', 'NSUN3', 'MXI1', 'WNK2', 'NUDT18', 'HDAC9', 'CWC15', 'DNAJC4', 'GRIN3A', 'SLC7A6', 'GPLD1', 'ADARB2', 'SRSF9', 'CST6', 'PTPN12', 'ADAM15', 'ATP11C', 'ST3GAL2', 'BLNK', 'DNTTIP1', 'APEX1', 'ATP6V1E1', 'STXBP4', 'LMAN2L', 'PAPPA', 'KCNH5', 'GPANK1', 'C12orf66', 'RBM11', 'RPL37', 'POMC', 'TOM1L1', 'PALB2', 'HMBOX1', 'ZRANB2', 'PCDH10', 'RASA3', 'NEMF', 'TRAF3IP1', 'FHOD3', 'PLCH2', 'PREPL', 'MECOM', 'CTSH', 'CARHSP1', 'ZNF524', 'GPC4', 'CNOT10', 'SETMAR', 'TMEM54', 'MS4A7', 'LNP1', 'EGR2', 'ZNF536', 'LUC7L', 'SLC25A3', 'TBKBP1', 'ATP1A1', 'COX7A1', 'HOXB2', 'PSEN1', 'OGN', 'CTSB', 'LDLRAD4', 'PSME2', 'TMEM229A', 'FCER1G', 'TST', 'SLIT1', 'TRIM26', 'PHF23', 'NPAS2', 'AIF1L', 'ITGA7', 'YEATS4', 'TAC3', 'PIP5K1B', 'INPP5K', 'RAPGEF1', 'CNOT4', 'FIGN', 'MT1A', 'CD38', 'ORC5', 'SEC24A', 'KCNJ16', 'PARVA', 'RBFA', 'SLC35F6', 'PSMD11', 'ANAPC7', 'BSPRY', 'FCGR3A', 'ZMYND15', 'VSIG10L', 'CLCN7', 'KANSL1', 'CD1D', 'PLPPR4', 'ARNT2', 'ZNF609', 'ATP6V0A4', 'CD2BP2', 'TWIST1', 'WNT7A', 'LRRK1', 'PON2', 'PPP1R15B', 'KCNH2', 'NEFH', 'FGGY', 'COQ3', 'UBE2Q2', 'FBRS', 'FKBP4', 'GCAT', 'CALCR', 'CCL13', 'AFF4', 'BICRA', 'TNFRSF21', 'ALDOC', 'GRIN2D', 'DCST1', 'MT2', 'RNF168', 'GNG2', 'CHCHD6', 'COX6B1', 'COL3A1', 'KIF2A', 'TRAP1', 'ARHGAP17', 'NCAM1', 'PRDM16', 'PPP2CA', 'LGALS8', 'TXNL4A', 'NDUFA2', 'PTGS1', 'BAHCC1', 'NDRG3', 'RRP15', 'ZNRF2', 'SNAP91', 'CLSTN1', 'PDYN', 'DTX4', 'RERGL', 'LAMA3', 'PXMP2', 'SEC24C', 'CCNI', 'CDK19', 'ACKR4', 'TARBP1', 'IPO4', 'TCN2', 'KCNQ5', 'TGOLN2', 'MIP', 'CAVIN2', 'ATG9A', 'COX7B', 'MAMSTR', 'DCUN1D5', 'GSTS1', 'SYNE4', 'BLOC1S6', 'PCBP1', 'TBC1D13', 'APBA2', 'PM20D1', 'SLC6A11', 'UBL3', 'PLSCR1', 'PANK1', 'SCAMP4', 'ANO8', 'NPC2', 'MRPL48', 'PRKAG3', 'TPD52L2', 'RBM4B', 'PTPN5', 'COX2', 'COX11', 'CRY1', 'BAIAP2', 'CCDC34', 'PHF21A', 'GPRASP2', 'ELOA', 'CDH9', 'DENND1A', 'UTRN', 'NMB', 'TFDP2', 'CFH', 'SCAMP2', 'NPAT', 'NEFL', 'CTDSP2', 'EFHD1', 'MSRA', 'STRA6', 'TGIF1', 'MTHFD1', 'PSMG4', 'COX15', 'DCDC2C', 'PBXIP1', 'TREML1', 'ANAPC13', 'CLCN3', 'GYG1', 'NUB1', 'SYNPR', 'FAM168B', 'TCEAL1', 'CTNND1', 'UBE2E1', 'PACRG', 'AACS', 'AK8', 'DNAJB2', 'VWA1', 'HSD11B1', 'MDGA2', 'TRPM4', 'ETS1', 'SERPING1', 'ARL8A', 'NUDT22', 'SDCCAG8', 'HSPA8', 'CEP68', 'TC2N', 'TCEAL4', 'ZNF142', 'RELA', 'PROC', 'RRBP1', 'ATAD2B', 'ATG4B', 'DNAJC28', 'CDA', 'DNAH11', 'ZNF496', 'ARFRP1', 'ALKBH4', 'PPP2R1B', 'ZDHHC7', 'AMOTL1', 'SLC38A2', 'WDFY3', 'MS4A3', 'CES1', 'APP', 'F5', 'ZNF567', 'RPL30', 'DXO', 'MAP1S', 'STARD10', 'C4H6orf201', 'CEP72', 'PPP1R17', 'ADCYAP1R1', 'ZNF217', 'PLSCR4', 'STRC', 'DCUN1D4', 'GIT2', 'ANO6', 'SPPL2A', 'RNF14', 'ROR2', 'SPATA7', 'IPO8', 'PIGG', 'ZMIZ1', 'MAPK14', 'SOX9', 'SLC25A18', 'BMF', 'INPP4A', 'DGAT2', 'ANP32A', 'PQLC3', 'MRPL18', 'NKAP', 'ACOT7', 'MKNK2', 'EDC3', 'SQOR', 'CYP1B1', 'TARS', 'DDX55', 'GRHPR', 'ZCCHC24', 'GZMB', 'BRINP3', 'NUCB1', 'RAB3GAP2', 'POLR2I', 'SMC1A', 'TMED1', 'CYB5R3', 'ZDHHC21', 'RAVER2', 'GRXCR1', 'KRT5', 'ACBD4', 'UBE2F', 'NPAS1', 'MSH6', 'DVL1', 'MYO1G', 'TMEM136', 'CFAP43', 'RAB20', 'CORO2A', 'SNAPIN', 'STARD4', 'GNG11', 'HOXD1', 'JPH4', 'PPP4R2', 'JAM2', 'PATJ', 'METTL7B', 'JUP', 'CNDP1', 'SACS', 'SPTLC2', 'RGS21', 'snoZ39', 'CTSD', 'FSCN1', 'EFHD2', 'ZNF878', 'SURF1', 'MBNL2', 'CDIPT', 'P4HA1', 'MXD4', 'FUCA1', 'RHBDF2', 'TRAF3IP3', 'MRAP', 'RIPK2', 'HK3', 'RNF43', 'XYLT1', 'TSTA3', 'MIF4GD', 'C14H11orf87', 'DERL2', 'KLF12', 'CD302', 'ATP5I', 'MOB3C', 'ABCC4', 'FAM3C', 'MMP12', 'RARG', 'LBH', 'PPP4R1', 'C20orf24', 'FTH1', 'LYRM2', 'XRCC1', 'DET1', 'SLC5A7', 'OTUB1', 'TRPM3', 'ACER2', 'PDCD2L', 'HMGB1', 'ACTB', 'TGM2', 'MYO3B', 'EEFSEC', 'CHUK', 'DNAJC24', 'ID4', 'GNG5', 'UBXN11', 'L3MBTL1', 'CUX1', 'ACTL7B', 'ZNF48', 'AP1B1', 'SMCO4', 'ST8SIA1', 'FRMD5', 'ARID5B', 'SLC6A5', 'MICALL1', 'HEATR3', 'ROCK1', 'ETV2', 'RBM17', 'SLC25A19', 'WLS', 'KIAA0930', 'AKR7A3', 'CALY', 'BIN3', 'STAG2', 'ACTN4', 'GPSM3', 'FAM160B2', 'RSPH14', 'SHE', 'GPRASP1', 'BRD1', 'TMEM207', 'LIMK2', 'SDF4', 'TCP11L1', 'INO80D', 'RNASE6', 'KLKB1', 'HP1BP3', 'BTAF1', 'CAVIN4', 'ELMO1', 'RFC1', 'CLK3', 'GAS6', 'TSC22D1', 'COPZ2', 'UNC5B', 'BEND6', 'ATP2B1', 'NUP62', 'ISYNA1', 'PALD1', 'SLC50A1', 'ARPP21', 'HHEX', 'REC114', 'PAXBP1', 'WDYHV1', 'CELF4', 'SRCIN1', 'ZNF225', 'SASH1', 'SNX22', 'HPS3', 'TTF1', 'MRPS34', 'SASH3', 'HECTD4', 'FAM174B', 'INTS12', 'TRRAP', 'SERINC5', 'RCBTB2', 'APBA1', 'TJP2', 'PMM2', 'CLNK', 'TTI2', 'TEX12', 'CBR4', 'KHDRBS1', 'JADE2', 'TMEM100', 'MRFAP1L1', 'ARL6IP4', 'OPTN', 'ZNF692', 'ZNF326', 'RPS8', 'SLC12A8', 'FNDC7', 'TENM3', 'TIMELESS', 'GSDME', 'TMEM159', 'ENDOU', 'PACSIN1', 'XIRP2', 'ETV7', 'EP400', 'SLC22A15', 'TP53I13', 'ABHD11', 'HIVEP1', 'KIF1A', 'MAP3K1', 'IRAK4', 'RHOBTB3', 'PAXIP1', 'GPSM2', 'PEX7', 'DLL1', 'ZBTB48', 'CHN2', 'CARMIL1', 'TMEM43', 'CLYBL', 'MED14OS', 'KCNB1', 'RAB9A', 'NMNAT2', 'ZFYVE9', 'PES1', 'HMG20B', 'SNORD48', 'POMGNT2', 'CEBPG', 'CHD6', 'MPC2', 'GGA1', 'ITGAM', 'RRM1', 'STK16', 'SOS1', 'APOE', 'AMOT', 'CAMK2G', 'MED7', 'FDFT1', 'SWSAP1', 'ARHGAP36', 'IL17F', 'VWC2', 'MAP3K13', 'OS9', 'YIPF6', 'CTDP1', 'ALPL', 'HS1BP3', 'JUND', 'MDS2', 'TP53BP2', 'LRRN1', 'RIDA', 'HACD2', 'DEPDC1B', 'ZNF501', 'VMO1', 'CMTR1', 'IRAK2', 'FRMD4B', 'UBE2A', 'DUSP1', 'ACSS1', 'DBNDD1', 'ALDH1B1', 'GTF2I', 'SH3GL3', 'ITIH5', 'DYNLRB1', 'GPM6B', 'CAPN5', 'TMEM138', 'NACAD', 'LTBP1', 'H2AFJ', 'PGM2L1', 'UTP23', 'NOL9', 'DOCK3', 'CAMKMT', 'M6PR', 'GOSR2', 'SORCS3', 'PREX1', 'ACADSB', 'C8orf37', 'SPACA3', 'SS18L2', 'TMEM65', 'DLGAP1', 'SKA1', 'PNOC', 'SLC15A1', 'USP3', 'ASF1A', 'CCM2', 'MYPOP', 'WBP2', 'C1RL', 'CCT7', 'SELPLG', 'AFF1', 'MLLT6', 'TDRD3', 'PPFIA1', 'FGFRL1', 'FCN3', 'STT3A', 'BEST2', 'CD101', 'LTBP4', 'COL6A3', 'LYSMD1', 'FYCO1', 'KANK2', 'ABAT', 'GMNN', 'NRGN', 'DIABLO', 'SAR1A', 'SP5', 'MACF1', 'CNR1', 'TCEAL9', 'RASSF2', 'ZAP70', 'SPEF1', 'LMO3', 'SENP2', 'ATF4', 'RPS3A', 'AP2A1', 'GPR37', 'ICAM3', 'THUMPD2', 'THBS3', 'SETDB1', 'MINDY1', 'TRPV6', 'ATP5B', 'GATA3', 'STRIP1', 'FSTL5', 'GALNT10', 'PPP5C', 'C1orf87', 'AMT', 'PKHD1L1', 'CRABP2', 'CROT', 'POLDIP3', 'FAXC', 'CCL27', 'GJC2', 'CSGALNACT1', 'ZFP36L1', 'PCP4', 'ATP10D', 'RBM22', 'RUFY2', 'FBXO33', 'COL18A1', 'CFLAR', 'STRBP', 'HAPLN4', 'TRPS1', 'TTLL13P', 'GPATCH2L', 'TTC32', 'MDH1', 'MYC', 'TPM4', 'SPOCK2', 'METTL14', 'ALCAM', 'RGS9', 'SSH2', 'P2RX1', 'SAP30BP', 'MAGED2', 'SLC13A4', 'PANX2', 'DPPA4', 'RDX', 'NCOA3', 'CP', 'ERICH1', 'ORC2', 'RAD51B', 'GPA33', 'FBXO32', 'SLC30A2', 'MPEG1', 'PYGB', 'MTMR8', 'TMEM173', 'PFKM', 'SLC35C2', 'PHKA2', 'PRIMPOL', 'TPK1', 'TXK', 'UBR2', 'WDR86', 'SETD2', 'RC3H1', 'ADGRL2', 'MRPS26', 'ARHGEF39', 'MEI4', 'CXCR4', 'CCT6B', 'PACSIN3', 'AP4E1', 'TMEM178B', 'NR4A2', 'DDIT4', 'ALDH9A1', 'HEXB', 'ZMYND11', 'MAP3K20', 'PIGH', 'ARL6IP5', 'TMEM62', 'FHIT', 'ADGRE5', 'ZNF789', 'KMT5A', 'TAPBP', 'HPCAL1', 'MORN2', 'EXOC1L', 'GPS2', 'GINS1', 'ILVBL', 'ARV1', 'TMIE', 'SENP6', 'ELFN2', 'ATG4C', 'AFF2', 'REEP5', 'SOX6', 'GRM4', 'GNA13', 'RAMP2', 'GALNT6', 'ARID4A', 'CACNG2', 'MAN1A2', 'TMEM31', 'C3orf80', 'ATP9A', 'ATP8A2', 'TULP2', 'BTG2', 'VARS2', 'FLT1', 'BRWD1', 'PTPN18', 'EIF2B4', 'SIRT2', 'MAPK8IP3', 'RUFY3', 'IGFBP2', 'MAFA-F', 'EIF5A2', 'TJAP1', 'TMPRSS11F', 'CASK', 'HDLBP', 'PLD3', 'EPB41L2', 'HNRNPU', 'SOX4', 'RAB11FIP3', 'PLA2R1', 'APBB2', 'TRIP12', 'DNMT3A', 'SPATA19', 'NR2F1', 'GNA12', 'ZDBF2', 'GPR137B', 'MAGI1', 'PKN1', 'ZNF277', 'SPATA25', 'GMPPB', 'ZCCHC12', 'ZNF383', 'TCF7L2', 'ARHGDIG', 'CCDC154', 'SLTM', 'GATD1', 'KIF3C', 'ATE1', 'RAB27B', 'AP5M1', 'PBX3', 'ACSM5', 'DHCR24', 'BNC2', 'XRCC2', 'FTSJ3', 'FOXC1', 'FUT7', 'PLIN3', 'PTDSS1', 'NARS2', 'ND4', 'LRRC31', 'SAMD9', 'CLSTN2', 'CMBL', 'MOXD1', 'PITX1', 'ZDHHC16', 'NWD1', 'RAB11FIP2', 'CSAD', 'SPESP1', 'ZNF385A', 'FAM120C', 'VIPAS39', 'PRTFDC1', 'PHKG1', 'PEX5L', 'C11orf65', 'BEAN1', 'SLC8B1', 'SLC7A6OS', 'RORB', 'PRDX6', 'THEM5', 'SNRK', 'S100A4', 'SLC26A11', 'IQUB', 'MYO1E', 'TRIM37', 'EHD1', 'RICTOR', 'ACTR10', 'TRIM9', 'SEC24D', 'C20orf204', 'UCHL5', 'GLP2R', 'LARP1B', 'RRAGA', 'RASGRP1', 'NAP1L4', 'ARHGAP5', 'ARL4C', 'ZNF862', 'GPR37L1', 'MGST1', 'EFNA1', 'CLUL1', 'HELZ', 'BANF2', 'RNF157', 'OSBPL7', 'DCLRE1C', 'CKAP4', 'DAZAP2', 'FAM129A', 'LIPE', 'OPN1LW', 'FBL', 'NCK1', 'HINT2', 'SMOX', 'C17orf58', 'RHBDL3', 'ZMYND8', 'PARP3', 'STK11IP', 'PRICKLE2', 'TRAPPC9', 'COL22A1', 'MRPL24', 'FARP1', 'CCDC163', 'CTNNA3', 'GPR17', 'PIK3R3', 'MVP', 'YARS', 'FAF2', 'MDM2', 'MTMR10', 'CACNA2D2', 'CLRN2', 'SCAF8', 'ETFRF1', 'ZNF8', 'TEF', 'S100A14', 'UFSP1', 'PHF14', 'SCD5', 'PIPOX', 'PPP1R1C', 'INTS4', 'MFSD2A', 'MICAL1', 'AKIP1', 'PLA2G3', 'IMPDH1', 'SCARA5', 'SNAP23', 'CCDC178', 'FCHO2', 'TM9SF3', 'IL13RA1', 'GRM3', 'ADGRA1', 'ATP6V1C1', 'HEPACAM', 'PSMB1', 'AP1S1', 'CEBPB', 'MAFG', 'PIWIL4', 'NDUFB7', 'FNDC3B', 'CYB5R1', 'IQGAP1', 'PLXDC1', 'LSM3', 'ABCE1', 'ND5', 'SLC6A20', 'TMEM151B', 'NECAB1', 'CTSO', 'GAREM2', 'LAMB1', 'SYT14', 'EGLN1', 'CDV3', 'FAM53B', 'ADRA1B', 'TEDC1', 'POLR3A', 'OLIG2', 'JCHAIN', 'FLII', 'FAM205C', 'GRASP', 'PDIA4', 'TCF7', 'GNPTAB', 'SDHAF3', 'B4GALT3', 'DLX1', 'FBXL3', 'METTL9', 'ETV3L', 'RAB8A', 'PLCB3', 'SUN2', 'POLD4', 'MRPS16', 'ZBTB17', 'BTBD16', 'CFD', 'WDR13', 'PLEKHO1', 'MRPS6', 'PMPCB', 'GINM1', 'WDR11', 'TRPM7', 'FLNB', 'OSBPL1A', 'TMX1', 'NRAS', 'OTX1', 'DDIT4L', 'SLC43A3', 'DDRGK1', 'BABAM1', 'PTPN23', 'GHITM', 'GUCD1', 'ARHGAP45', 'PRCP', 'SMIM1', 'KIRREL2', 'ANGPTL6', 'CD34', 'NRBP1', 'HES6', 'FSCN2', 'FAIM', 'FICD', 'LMAN1', 'IL11RA', 'BAG6', 'PC', 'STX2', 'USP48', 'ITGB2', 'NDUFA4L2', 'METTL5', 'NMRAL1', 'UTP4', 'IMPA2', 'HAUS7', 'CABP5', 'VAMP3', 'PCLO', 'RAD21L1', 'C10orf128', 'HOOK3', 'SPIN1', 'NRSN2', 'GIGYF1', 'PADI2', 'SNX18', 'POLE3', 'PSAT1', 'SAP30', 'LETM2', 'PFN1', 'SCN4B', 'TMED7', 'ANO7', 'RSBN1L', 'TTC9', 'CAVIN1', 'FYB1', 'CCNA1', 'SLC2A13', 'NFAM1', 'APLP1', 'CFAP161', 'SUSD4', 'DEF8', 'ARHGAP4', 'HSPG2', 'EIF3I', 'SLC16A5', 'TOR1AIP1', 'UPF3B', 'CYFIP1', 'STK19', 'CHRM2', 'POLI', 'AMMECR1', 'SLC39A9', 'FOXO1', 'ZCCHC14', 'EMC10', 'LGI2', 'SERPINH1', 'SRD5A1', 'EML4', 'CTC1', 'CAPN15', 'SCRN1', 'SLC12A7', 'CDC42', 'NPL', 'POLRMT', 'ASIC1', 'ZNF350', 'SLC2A8', 'SNRNP200', 'NETO2', 'GPKOW', 'BRCA1', 'NUDCD2', 'CARMIL3', 'MLST8', 'ABLIM1', 'SLC6A15', 'AGPAT5', 'MSR1', 'PRKCD', 'ZC3H14', 'TTLL8', 'YIF1B', 'RAB40C', 'FAM105A', 'RXRB', 'INTS10', 'RASAL2', 'CROCC', 'ALG11', 'CISD2', 'EDIL3', 'PHLDB1', 'SMCR8', 'MPG', 'ENTPD8', 'ANLN', 'MRPL9', 'CERK', 'ZNF324', 'IQGAP2', 'MNS1', 'ZGLP1', 'SDC4', 'FKBP9', 'FAR1', 'PPP1R36', 'TNPO2', 'IGSF1', 'OPLAH', 'SLC4A3', 'CORO6', 'SCPEP1', 'CLEC9A', 'OIT3', 'NFE2L2', 'YTHDC1', 'MDK', 'SIGLEC6', 'RAG1', 'CPM', 'GTF2B', 'CEP295NL', 'ANKRD13A', 'NECAB3', 'NUDT12', 'PRSS8', 'ZNF398', 'RASL10B', 'STARD9', 'AES', 'BASP1', 'CDC73', 'MDC1', 'TRAF4', 'LDLR', 'TMEM134', 'GAB1', 'ZKSCAN5', 'ITPR3', 'COX3', 'B3GNT6', 'TLR5', 'FIG4', 'RND2', 'NECAB2', 'ZBTB20', 'TMEM45B', 'RNF130', 'ERG', 'KDM1A', 'SIGMAR1', 'SEC16A', 'TBCK', 'CTPS2', 'PTK2', 'TMOD1', 'PCGF2', 'SLC39A1', 'TMEM25', 'FCRL6', 'PPP2R5A', 'ZNF329', 'PARP15', 'RCOR3', 'NEK4', 'CNPPD1', 'ZDHHC9', 'BCR', 'ABCC8', 'PPAN', 'FAM89A', 'ACOX3', 'WDTC1', 'SULT1C4', 'NUDT17', 'TOR1A', 'PLEKHH1', 'C1QTNF1', 'OSTM1', 'ZNF300', 'GLMN', 'TMCC1', 'PIK3C2B', 'TDP2', 'ADGRB1', 'SH3D19', 'ELFN1', 'C5orf63', 'TRPC1', 'ALDH1A2', 'MTMR7', 'MAN1C1', 'LCN2', 'SHKBP1', 'CBL', 'NSDHL', 'CXCL16', 'TRPM2', 'MSMO1', 'CHADL', 'BICRAL', 'MMP15', 'ELMOD1', 'DBN1', 'SLC29A2', 'SLC13A2', 'SRPK1', 'TNRC18', 'RABGAP1L', 'ZBTB7A', 'FAM155B', 'ZNF564', 'ASXL1', 'MTIF3', 'NDRG2', 'KIF22', 'ASAP2', 'GABPA', 'GMEB2', 'MYO1D', 'NFKBIB', 'DUSP10', 'SH3BP4', 'EIF4A2', 'EMC8', 'BAG3', 'ZNF219', 'TLR7', 'G3BP1', 'DDIT3', 'TAF6L', 'FCRL5', 'NPR2', 'CTSA', 'USH1C', 'MYOZ1', 'DNAJC9', 'ATP6AP1L', 'EFR3B', 'G6PC3', 'LGI4', 'LGALS3BP', 'NFYA', 'GATM', 'XPO6', 'EPS8', 'COL4A3BP', 'CASP3', 'RIT1', 'C1orf198', 'CCPG1', 'TBX2', 'PLPP1', 'UFD1', 'ANKRD9', 'GID4', 'TPST2', 'PHKA1', 'DOK1', 'DHX58', 'RPS24', 'IFI27L2', 'CDH5', 'CSNK1G3', 'GDF5', 'IL17RD', 'TBR1', 'KCNIP2', 'LBR', 'JAKMIP3', 'SPOCK1', 'DGKG', 'FAT1', 'EIF3A', 'SCN1B', 'GPR18', 'UBR4', 'DUOX1', 'GMDS', 'RALGPS1', 'BTG1', 'MROH8', 'OSBPL9', 'WFDC1', 'ARID2', 'PLEKHA6', 'EPHB1', 'ADAMTS3', 'CFL2', 'HAX1', 'NDUFB6', 'ZFP36L2', 'ZNF253', 'DCTD', 'FANCM', 'ABHD18', 'ZNF276', 'HTRA3', 'INTS2', 'VTA1', 'CCL2', 'GPSM1', 'USO1', 'LRRC1', 'PODXL', 'CLEC6A', 'SEZ6L', 'CTNNA1', 'ELAC1', 'MLLT1', 'SFT2D1', 'OSTF1', 'RBM10', 'SESN2', 'TACC1', 'HADH', 'RDH14', 'NCALD', 'ESR2', 'D2HGDH', 'RBM28', 'RALY', 'ANP32E', 'GRAMD2B', 'PUM2', 'SMG9', 'SLC35G1', 'SGCE', 'EIF4EBP2', 'ARF3', 'SLC7A2', 'CHD5', 'AKAP9', 'UPP2', 'SGO1', 'PRMT6', 'MPPED2', 'ND2', 'SRP9', 'CD93', 'WDR76', 'RHPN1', 'FFAR4', 'KLHL18', 'MNAT1', 'KCNJ8', 'IGFBP7', 'TEC', 'SYPL1', 'ADGRL4', 'PON3', 'TRAC', 'S1PR1', 'SRSF6', 'JPH3', 'PTPRH', 'WIZ', 'ZNF610', 'KIRREL3', 'NOS1', 'STXBP2', 'INTS11', 'CPLX3', 'HTT', 'DCPS', 'ZNF330', 'OSGIN1', 'RGS4', 'TMEM98', 'HESX1', 'ZNF736', 'FLRT2', 'NUP188', 'LIFR', 'HEXA', 'S100B', 'ANKRD10', 'SUCLG1', 'RSPRY1', 'LFNG', 'CIZ1', 'WDR6', 'DYNLRB2', 'PMP22', 'USP35', 'USP11', 'MT1X', 'SS18', 'SLCO3A1', 'SLC12A2', 'CNBP', 'DNAJA4', 'FABP3', 'CADM4', 'DCAF6', 'PTP4A1', 'MYOG', 'CSK', 'PTPN4', 'DGKH', 'PDE6C', 'MIDN', 'MED13L', 'HAUS2', 'PPP2CB', 'NSUN4', 'PIGB', 'SUPV3L1', 'SCRIB', 'LRRC45', 'AGMO', 'TPP1', 'LMO7', 'GRIPAP1', 'ALX1', 'VWF', 'CASP6', 'TM9SF4', 'TCEAL5', 'HPCA', 'ZHX2', 'MBD6', 'SORBS3', 'ACSS2', 'C9orf116', 'GNAL', 'MYSM1', 'ANKRD34B', 'GAD2', 'RBCK1', 'ASB9', 'LZTS2', 'C2orf68', 'CDKN2B', 'CSDE1', 'CYBB', 'LENG9', 'NPHP1', 'NAF1', 'MMGT1', 'ZNF512', 'TMEM179B', 'CEP164', 'SPCS2', 'INPP5F', 'CHD4', 'DENND2A', 'MYDGF', 'WWC1', 'CEP104', 'ZNF680', 'MYLK', 'SDC2', 'FAM184A', 'SELENOS', 'EPS8L1', 'NEK7', 'AKAP11', 'ARFGAP1', 'ETFDH', 'DYNC2H1', 'EFTUD2', 'C1QTNF12', 'NKIRAS2', 'TNRC6A', 'NAXD', 'RYBP', 'DYRK3', 'BZW1', 'RNFT2', 'RAPH1', 'RBX1', 'HPF1', 'MCC', 'NME5', 'MFSD1', 'TRIP4', 'TAGLN3', 'ELF1', 'KL', 'LZTR1', 'LMO1', 'CCDC92', 'AGK', 'CAMKK2', 'MACROD1', 'TSPAN13', 'KBTBD6', 'CTXN1', 'EZR', 'WAS', 'TAF4', 'NLRP6', 'FAM174A', 'RAVER1', 'PAK1', 'GINS4', 'ROGDI', 'TRUB2', 'PFDN1', 'NRM', 'PI16', 'NAT16', 'ND3', 'KRT7', 'CIC', 'HSPB1', 'ABCA1', 'CPE', 'NFATC2', 'SEMA5B', 'TMEM114', 'CDK5R2', 'C2CD3', 'VAMP8', 'ARL5A', 'MMACHC', 'TFAP2C', 'NXT2', 'ITIH1', 'EPHA4', 'LILRA2', 'TRAPPC13', 'CIT', 'FSD1L', 'ACSF2', 'SLC45A4', 'TMA7', 'SMPDL3A', 'HDAC1', 'MRPS2', 'ASTE1', 'BMPR1B', 'SFXN5', 'LSM4', 'CMC4', 'CATSPERE', 'FBXO9', 'SIM1', 'EFS', 'HNRNPUL1', 'CLGN', 'RASSF5', 'PDLIM5', 'ACAA1', 'METTL3', 'PAOX', 'NKAIN1', 'TALDO1', 'CAB39', 'DAND5', 'ADAP2', 'RAD51AP2', 'SIN3B', 'USB1', 'C16H17orf62', 'EXOC5', 'RCN2', 'ZNF653', 'C4orf19', 'UBAC1', 'GFOD2', 'DDAH2', 'KRT40', 'SH3D21', 'RSRP1', 'STAMBP', 'PDE7B', 'LCA5', 'PMM1', 'ADGRE1', 'RPE65', 'PCP4L1', 'SCO1', 'EPHB6', 'SYCE3', 'RPL26L1', 'KCNC4', 'SPINK8', 'RDH5', 'BMPR2', 'PFDN5', 'UTP11', 'CCP110', 'ZAR1L', 'EPM2AIP1', 'CASKIN1', 'WDFY4', 'LTC4S', 'RCSD1', 'SLC38A4', 'MORN1', 'FAM172A', 'DOCK5', 'RNF111', 'GART', 'SPSB3', 'KLHL26', 'NEFM', 'MERTK', 'TMEM131L', 'SHISA2', 'KIAA1644', 'SAV1', 'TAGLN', 'DRC7', 'PDLIM2', 'DAP3', 'SAG', 'LSM11', 'PEX1', 'DLEU7', 'LHFPL2', 'PAPD7', 'SLC27A4', 'COX8A', 'RER1', 'ATP5G3', 'MICU2', 'PRX', 'MAT2A', 'TSPAN14', 'COL9A3', 'JTB', 'FAM91A1', 'CPSF3', 'IDE', 'ANKLE2', 'ITGAV', 'PTK7', 'KRTCAP2', 'S100A1', 'WDR36', 'ASB7', 'TRAFD1', 'MRPS9', 'TOM1L2', 'PDIA5', 'PAK4', 'ECHDC2', 'HAPLN2', 'MCPH1', 'SCARB2', 'OXNAD1', 'PEBP1', 'HSDL1', 'NFIA', 'TOMM22', 'STK3', 'CAND1', 'ASPSCR1', 'CMTM5', 'ZFP90', 'FGF9', 'NRCAM', 'SLCO2B1', 'CDK4', 'CD86', 'PNKP', 'PSMB3', 'EIF5B', 'SMAP2', 'RPAIN', 'CDK14', 'NR1H2', 'C6orf89', 'SYT17', 'IVNS1ABP', 'ELOC', 'RGS20', 'CYHR1', 'SLC2A1', 'MMP24', 'P4HTM', 'MX1', 'LMBR1', 'MAML2', 'ITSN1', 'LRRC75A', 'TERB1', 'DYRK1A', 'NOLC1', 'CNIH2', 'SMG6', 'GPATCH11', 'SERP1', 'ZNF687', 'CTNNAL1', 'GLDC', 'FAN1', 'TYRO3', 'TMEM95', 'PDE10A', 'DNM2', 'ZCCHC17', 'NCOA4', 'HABP2', 'TEAD3', 'DPP7', 'KIF5A', 'Telomerase-vert', 'KLF11', 'CYP7B1', 'SHANK1', 'SERPINF1', 'FOXRED1', 'BIN1', 'REV1', 'EMP2', 'WDR49', 'NKAIN4', 'CYP27A1', 'BYSL', 'OTOS', 'C1QL2', 'DIP2B', 'ERCC4', 'DRAP1', 'SF3B4', 'GAS7', 'MTR', 'ZNF33A', 'METTL7A', 'MAP1B', 'SGPP1', 'POC5', 'RNF208', 'IKBKB', 'TMEM11', 'RAB23', 'PPAT', 'ERBB4', 'CNTNAP4', 'ZADH2', 'GNAI3', 'LAMB2', 'ZKSCAN4', 'VAC14', 'SLIRP', 'ND4L', 'FAM124B', 'PLEKHA3', 'PIH1D3', 'SCNN1A', 'FANCC', 'SNRPN', 'SRGAP1', 'PYCR2', 'GAL3ST3', 'SLC38A1', 'ASPA', 'DAAM2', 'RMST_9', 'CCDC146', 'ZFAND1', 'DISP1', 'HEY2', 'OXSR1', 'TCERG1', 'CD59', 'FAM181B', 'GAL3ST1', 'TEX264', 'AGAP1', 'ATL2', 'ZNF418', 'BIRC2', 'SRD5A3', 'SETD3', 'PHKG2', 'RMDN1', 'SHROOM1', 'CCDC86', 'NAA35', 'TUBB3', 'GRB14', 'DGAT1', 'CREB1', 'ATG3', 'MYO9A', 'FBXO44', 'WFDC3', 'ELAVL1', 'DSCR3', 'MIC13', 'MFRP', 'AKAP6', 'CCDC159', 'SEPT4', 'PPP1R21', 'MFN1', 'TRPT1', 'SCG5', 'CLCN6', 'TET3', 'RANBP3L', 'RNF114', 'ATP1B2', 'SELENOF', 'ITM2C', 'CXCL10', 'AFMID', 'CNIH4', 'SPACA9', 'SLC15A2', 'CFAP100', 'TRIM41', 'RPS6KA1', 'CMIP', 'PLB1', 'TRIB1', 'PNLIPRP2', 'OXLD1', 'GIMAP4', 'MIR421', 'DOCK9', 'IGFL3', 'TSPAN9', 'ITPKB', 'NUBP2', 'APOM', 'GALNT5', 'PLEKHB1', 'ND1', 'GDPD5', 'CAP2', 'UACA', 'DCTN2', 'IGDCC4', 'FAM49A', 'SLC43A2', 'PTEN', 'SOX2OT_exon4', 'PALMD', 'METTL6', 'PGPEP1', 'SLC35D2', 'SERPINA1', 'MESD', 'FAM221B', 'CCDC192', 'CUEDC1', 'SLC9A8', 'TBC1D8', 'ZNF511', 'GPR146', 'GALM', 'MPV17', 'SNCB', 'LIPM', 'GK5', 'POLA1', 'TNNC1', 'DLG5', 'ERICH6', 'NOS2', 'CD151', 'FUZ', 'BRI3BP', 'TMEM216', 'HECA', 'CACNA2D3', 'ZNF829', 'REXO1', 'TNFSF12', 'COX6A2', 'PRELID1', 'SMARCC1', 'GEMIN8', 'CLUAP1', 'FAAP100', 'SLC37A2', 'ANK2', 'FAM149A', 'SLU7', 'SAP18', 'WDR70', 'RPL4', 'ZKSCAN7', 'ZNF467', 'CDAN1', 'PAN3', 'MX2', 'SBNO1', 'TMEM235', 'ACSL3', 'NCDN', 'ACPP', 'GSN', 'NCKAP1L', 'GLIPR1L2', 'TRIP6', 'HSD17B11', 'SLC41A1', 'CC2D1A', 'C11orf84', 'ACE2', 'SLC25A4', 'STYXL1', 'TMEM87A', 'RRS1', 'NAE1', 'RAB29', 'PRKCZ', 'ENPP4', 'HDAC10', 'CEACAM7', 'TENM4', 'PSMC3', 'CD300C', 'LY6L', 'B2M', 'XRCC5', 'DSTN', 'MRPS7', 'CAAP1', 'RPTOR', 'RGS5', 'KDM5B', 'SLC13A3', 'TMEM150A', 'KCTD10', 'P2RY12', 'ATP8', 'TM7SF3', 'KLHL5', 'TTBK1', 'NDUFB4', 'SUMO2', 'ACOT8', 'PRIMA1', 'MYBL2', 'SUGP1', 'PLOD2', 'MFNG', 'SH3BP2', 'CREM', 'CBY3', 'CAV1', 'ADSSL1', 'NFRKB', 'GPRC5C', 'DIXDC1', 'NAA11', 'CUL9', 'TTC28', 'FGF1', 'AAK1', 'SNAPC1', 'ZFYVE1', 'PTPMT1', 'APMAP', 'TTBK2', 'NDUFA1', 'PRDX3', 'TBC1D9B', 'XPA', 'ZMAT2', 'VIM', 'SP100', 'KLK6', 'DKK1', 'FAM198B', 'USP24', 'VCPKMT', 'CCDC81', 'RNASEL', 'JPT2', 'P3H4', 'TMBIM1', 'JMJD8', 'SCAF11', 'ACKR1', 'CLEC2L', 'ZDHHC5', 'MPZL1', 'CCDC174', 'GPX8', 'MED19', 'PMFBP1', 'ZMYM3', 'ANKRD29', 'ZNF182', 'MRC2', 'ZNF222', 'ARL2', 'PEX6', 'SPOCK3', 'SCARA3', 'TPPP3', 'COL8A1', 'TGFBR1', 'ICAM2', 'PANX1', 'FEZF2', 'ALDH2', 'PDCD10', 'ZNF71', 'MYL3', 'RCN1', 'C2CD4D', 'CTSS', 'SLC38A11', 'TBL2', 'AFG1L', 'FRY', 'WIPI1', 'TMEM26', 'ZNF559', 'ARHGAP18', 'DNASE1L1', 'TTC12', 'GTPBP4', 'C5orf49', 'COL11A2', 'CD22', 'IL6', 'ALG2', 'OAF', 'HTRA4', 'PHC3', 'AMOTL2', 'ERBB2', 'STARD3', 'ZHX3', 'CWC22', 'MDP1', 'TMEM8B', 'CHCHD7', 'ALOX15B', 'CBS', 'STYK1', 'RASGRF1', 'KDM5C', 'HOOK1', 'LRRC10B', 'DNM3', 'CDCA7L', 'PSMF1', 'CAVIN3', 'KAZN', 'MECP2', 'CD300A', 'RGS19', 'PKP2', 'PTGES3', 'CLDND1', 'CALHM5', 'SLC12A4', 'TRIM46', 'CUTA', 'HRASLS2', 'ZFAND5', 'METTL21C', 'EIF5', 'USPL1', 'SH3GLB1', 'SH3BGRL2', 'SSBP1', 'DZIP1', 'IL33', 'CCDC47', 'MYBPC1', 'SERTAD3', 'IHH', 'COLEC11', 'PAK5', 'SEC14L2', 'CTU2', 'MAPK4', 'RXFP2', 'KIF13A', 'B3GLCT', 'BID', 'ITM2B', 'SPATA3', 'ARRB1', 'GAPDH', 'CNOT1', 'COBL', 'RTFDC1', 'PTGIS', 'MYOC', 'PKP4', 'HAVCR2', 'PPIL1', 'NPRL3', 'CUBN', 'HSD17B2', 'EXOC7', 'USP38', 'PTPRZ1', 'SLC7A10', 'NPY', 'REPS2', 'SYNE3', 'NAA30', 'ADCY8', 'TPBG', 'THBS2', 'IQCJ-SCHIP1', 'KCNJ2', 'SLCO2A1', 'NSMF', 'PER1', 'MGAT5', 'SETD1A', 'ARF1', 'PNPLA5', 'TMEM63A', 'AURKAIP1', 'NBEA', 'TMTC1', 'ARVCF', 'BEX2', 'ATP10A', 'CSDC2', 'CEP83', 'CXorf36', 'PDE8A', 'IRX1', 'TGFBI', 'ID3', 'REXO5', 'RTF1', 'ACSBG1', 'CPNE6', 'PSMA6', 'UGT3A1', 'SLC6A9', 'STX1A', 'RBMX2', 'SMIM27', 'DHX9', 'UNC93B1', 'SERF2', 'SEMA4G', 'ND6', 'ABCA5', 'PERP', 'PLA2G6', 'RDH10', 'CHST2', 'BCKDHA', 'MAPRE1', 'MPHOSPH8', 'RORA', 'PTN', 'GPN1', 'TCF20', 'PTBP3', 'QSOX2', 'GYPC', 'TMEM196', 'CACHD1', 'TEAD2', 'LY6E', 'PNPLA8', 'MRS2', 'RYR2', 'ABHD17A', 'CSRP3', 'VAT1', 'THAP2', 'DOCK11', 'COL23A1', 'CDCA3', 'JMJD6', 'FERMT2', 'QARS', 'PPP1R1B', 'TFDP1', 'MPLKIP', 'CCDC121', 'HOXB3', 'SELENOM', 'ARPC2', 'STX16', 'PELO', 'UMODL1', 'ZNF24', 'RNF26', 'GNL3L', 'LITAF'], ['Lysmd1', 'Lama4', 'Rgl2', 'Ccdc22', 'Zfp738', 'Rmnd1', 'Hivep1', 'Slc7a10', 'Zfp397', 'Myo1b', 'Rplp0', 'Dcps', 'Ubqln1', 'Tfdp1', 'Hectd4', 'Zbtb20', 'Jkamp', 'Zdhhc16', 'Inip', 'Naca', 'Ptgs1', 'Tmem59l', 'Gm5741', 'Hadhb', 'Fmc1', 'Top1mt', 'Tpra1', 'Phax', 'Pgam5', 'Pcbd1', 'Mpdu1', 'Fbxo2', 'Macf1', 'Galnt14', 'Shd', 'Gm20687', 'Nefl', 'Map4', 'Gprasp1', 'Slc41a1', 'Pink1', 'Tmed5', 'Capn5', 'Cldn11', 'Syt11', 'Cog2', 'Ctnna3', 'Rgmb', 'Vps37c', 'Tpm4', 'Spred2', 'C87436', 'Tspyl4', 'Dyrk3', 'Rars2', 'Bet1', 'Chchd7', 'Pgm2l1', 'Mllt6', 'Fam102a', 'Aff4', 'Patj', 'Rnf31', 'Cep250', 'Cst3', 'Prr18', 'Klhl5', 'Plvap', 'Degs1', 'Fbxl14', 'Atxn3', 'Tgfbr3', 'Tmem8b', 'Slc29a1', '9330159F19Rik', 'Slc43a2', 'Chchd5', 'Snn', 'Tbc1d16', 'Lta4h', 'Scrg1', 'Rev3l', 'Ddx10', 'Acad9', 'Fam104a', 'Fgf20', 'Tenm3', 'Bmp1', 'Raver2', 'Ndufs1', 'Neurl1a', 'Smpd1', 'Wiz', 'Pccb', 'Seh1l', 'Cited1', 'Tmem178b', 'Gabra5', 'Eml4', 'Cse1l', 'Tpcn1', 'Qsox1', 'Aqp4', 'Lpcat1', 'Znrf2', 'Lnx1', 'Sdc2', 'Ndufa13', 'Ccdc86', 'Kcnb1', 'Rab23', 'Fhit', 'Ttc9b', 'Wrap53', 'Eef1e1', 'Zfp24', 'Fbxl3', 'Zfp286', 'Bysl', 'Ccl27a', 'Wdr24', 'Fjx1', 'Rab6a', 'Trpm4', 'Psmb2', 'Fam129b', 'Gpr62', 'Foxred1', 'Gys1', 'Aldh4a1', 'Isyna1', 'Nap1l5', 'Aars2', 'Scamp2', 'Fdft1', 'Mau2', 'Fam76b', 'Fbxl19', 'Atg3', 'Pabpc4', 'Tm9sf4', 'Tnik', 'Anapc15', 'Grhpr', 'Rab5b', 'Dgkh', 'Elac1', 'Dnajc27', 'Ddi2', 'Zfp512', 'Golim4', 'B4galt3', 'Tbl2', 'Kcnip2', 'Tgfbrap1', 'Abat', 'Serpinh1', 'Pnn', 'Supt4a', 'Rif1', 'Oxld1', 'Kmt2b', 'Mettl6', 'Pgap2', 'Tm4sf1', 'Ppat', 'Ehd3', 'Mal', 'Tollip', 'Commd1', 'Rhoq', 'Mapk8ip3', 'Hspa8', 'Naxe', 'Nsdhl', 'Tspan2', 'Serhl', 'Cadps', 'Glp2r', 'Apba3', 'Zmym4', 'Tmem98', 'Cables1', 'Stub1', 'Aamdc', 'Smad5', 'Alkbh6', 'Coasy', 'Cic', 'Net1', 'Slc1a3', 'Zfp239', 'Bhlhe22', 'Pianp', 'Usb1', 'Fbxl5', 'Neo1', 'Rev1', 'Zfp799', 'Car14', 'Aldh6a1', 'Kbtbd3', 'Sorbs1', 'Tbc1d12', 'Gnptab', 'Pdxk', 'Ormdl2', 'Chchd6', 'Dnaja4', 'Orc5', 'Tbc1d15', 'Igsf5', 'Ankrd13a', 'Hdac8', 'Spaca6', 'Efr3b', 'Bbs4', 'Actr1a', 'Higd1b', 'Nadk', 'Gpr27', 'Sema5b', 'Scyl3', 'Rnaseh1', 'Ostf1', 'Prelp', 'Fbrs', 'Zdhhc18', 'Gins4', 'Lyz2', 'Tbr1', 'Numa1', 'Fam53c', 'Pon2', 'Cep112', 'Serpina3n', 'Ispd', 'Ppdpf', 'Acsf3', 'Rpa1', 'AI987944', 'Grid2', 'Mindy1', 'Fth1', 'Sucla2', 'Lgals1', 'Plxnb2', 'Naaa', 'Ezr', 'Car2', 'Sbsn', 'Stx18', 'Camk2n2', 'Arl6ip1', 'Csdc2', 'Isca2', 'Grin3a', 'Spink8', 'Ficd', 'Trpc1', 'Nr3c1', 'Pigq', 'Pdcd2', 'Ift27', 'Sertad2', 'Stmn2', 'Hist1h2bc', 'Gars', 'Bicd1', 'Bcl9l', 'Mapk3', 'Klhl8', 'Slc25a26', 'Atp10a', 'Utp23', 'Acot2', 'Osbpl1a', 'Lrrtm3', 'Ccdc124', 'Fam189a2', 'Lap3', 'Itpka', 'Ywhah', 'Cox15', 'Usp38', 'Caly', 'Eif3i', 'Plekhb1', 'Sun2', 'Atp11a', 'Tril', 'Gin1', 'Riiad1', 'Crem', 'Palm', 'Traf2', 'Cib1', 'Gabarapl2', 'Psmg1', 'Cuta', 'Fam32a', 'Baz1b', 'Bri3bp', 'Itm2c', '1700120G11Rik', 'Paxip1', 'Rhot1', 'Tmem147os', 'Nudt16', 'Acot8', 'Prmt5', 'Sharpin', 'Acap2', 'Rgl1', 'P4ha1', 'Bag6', 'Tagap1', 'Morf4l1', 'Zfand3', 'Magee2', 'Lrrc40', 'Ltbp4', 'Abcd3', 'Vmac', 'Mms19', 'Fndc4', 'Rab11fip5', 'Selenop', 'Heca', 'Mccc1', 'Sap30', 'Nudt22', 'BC022687', 'March6', 'Stam2', 'Krcc1', 'Cdo1', 'Fyn', 'Sncb', 'Ddrgk1', 'Fgd1', 'Kirrel3', 'Oaz1', 'Tmem205', 'Api5', 'Tmx1', 'Unc50', 'Negr1', 'Klf3', 'Zcchc14', 'Tsta3', 'Acot7', 'Ube2s', 'Fstl1', 'Rmdn1', 'Psmd7', 'Pllp', 'Cacfd1', 'Samd14', 'Selenoi', '1190005I06Rik', 'Prmt6', 'Rnaset2b', 'Magt1', 'Itpr1', 'Ndufaf4', 'Ppp1r3e', 'G0s2', 'Rps6ka5', 'Alg2', 'Trps1', 'Rnf4', 'Ptp4a2', 'Cacna1g', 'Iqgap2', 'Gjc3', 'Mfsd2a', 'Pgbd5', 'Cyth4', 'Tnfaip1', 'Neto2', 'Snx3', 'Nol9', 'Kbtbd2', 'Taf6l', 'Tdp2', 'Tsc22d1', 'Rpusd3', 'Zfhx4', 'Kifc3', 'Cand1', 'Phactr2', 'Polr2i', 'Fkbp4', 'Lsm11', 'Myh14', '5031439G07Rik', 'Raf1', 'Aldoa', 'Ube2a', 'Ppp2r5a', 'Ptk2', 'Kcnj16', 'Bcl2l2', 'Slc50a1', 'Clcn7', 'Uggt2', 'Zmym6', 'Clmn', 'Tnks1bp1', 'Cacna1i', 'Il1rap', 'Dpp7', 'Smox', 'Saal1', 'Cep97', 'Rnf216', 'As3mt', 'Tbc1d9b', 'Numb', 'Ank1', 'Nubp2', 'Mlip', 'Tmem33', 'Cct7', 'Nub1', 'Gabpa', 'Ormdl3', 'Vac14', 'Ncam1', 'B3glct', '0610037L13Rik', 'Ppp1r35', 'Kif5c', 'Nde1', 'Ston2', 'Akap6', 'Tmx4', 'Emc10', 'Laptm5', 'Idh3b', 'Hsbp1', 'Dok7', 'Fam204a', 'Rftn2', 'Ints10', 'Lsg1', 'Tsc22d2', 'Eif5a2', 'Osbpl5', 'Kansl1', 'Ccpg1os', 'Hadh', 'Nfyb', 'Acin1', 'Timm17a', 'Pcdha1', 'Abhd2', 'Mthfd2l', 'Dpysl3', 'Tmem229b', 'Pex2', 'Fbf1', 'Hexb', 'Rock1', 'Eif6', 'Lsm12', 'Nrd1', 'Angptl6', 'Tagln3', 'Tspan6', 'Ube2d3', 'Senp2', 'Ccdc6', 'Ube2e1', 'Acaa2', 'Aurkaip1', 'Map4k2', 'Desi2', 'Ppp2r3a', 'Tpt1', 'Mtf2', 'Nenf', 'Sumf2', 'Aph1a', 'Tfeb', 'Copa', 'Snapc1', 'Arl4a', 'Cd63', 'Asnsd1', 'Kiz', 'Ece1', 'Rpl37', 'Pcdh10', 'Tox', 'Wnk2', 'Rpl10', 'Ccdc174', 'Cep83', 'Rnf111', 'Mgst1', 'Sft2d3', 'Ten1', 'Dand5', 'Egfl7', 'Zfp512b', 'Ptprr', 'Diablo', 'Tmco1', 'Fig4', 'Washc4', 'Ndufb7', 'Cox6a2', 'Gcat', 'Prpf31', 'Pfkfb4', 'Lppos', 'Chgb', 'Wdr82', 'Thoc1', 'Trap1', 'Ipo4', 'Heatr6', 'Sez6l', 'Slc24a3', 'Gm5617', 'Agpat4', 'Ampd3', 'Ier3ip1', 'Man1a2', 'Rap1gap', 'Sv2b', 'Eci2', 'Slc6a15', 'Rasl10a', 'Aaas', 'Hsd17b11', 'Inpp5k', 'Arid5b', 'Ctdspl2', 'Aven', 'Nbeal1', 'Wdr13', 'Morc3', 'Hip1', 'Samd1', 'Zeb1', 'Bola3', 'Rasal1', 'Esam', 'Cpm', 'Gm26836', 'Rbm28', 'Anln', 'Lamp1', 'Crat', 'Sort1', 'Dhps', 'Rab26', 'Sgip1', 'Gne', 'Stard10', 'Psen2', 'Plxnb1', 'Galnt16', 'Adssl1', 'Plpp1', 'Zfp667', 'Psen1', 'Krtcap2', 'Shf', 'Stt3a', 'Hecw2', 'Rarres2', '1700047M11Rik', 'Prkce', 'Ipo11', 'Nudt17', 'Cdc42ep2', 'Cacng2', 'Bod1', 'Smim15', 'Gcc1', 'Rnf146', 'Zyx', 'Rhov', 'Slc46a1', 'Ogdhl', 'Cd151', 'Glmn', 'Arid1a', 'Mrps35', 'Oraov1', 'Ninj1', 'Eif3k', 'Ust', 'Psmc6', 'Aip', 'Rpl37a', 'Ncam2', 'Chst2', 'Hes6', 'Zcchc2', 'Cfap100', 'Aldh1a1', 'Klhl18', 'Mrps25', 'Ptp4a1', 'Sc5d', 'Abcf3', 'Kdm6a', 'Gtf3a', 'Fbxl16', 'Mtss1l', 'Rnf141', 'Ccdc47', 'Msh2', 'Ercc2', 'Rnaset2a', 'Rpl24', 'Champ1', 'Srgap1', 'Rps6', 'Shisa9', 'Tppp3', 'Jmjd4', 'Ncan', 'Rsbn1l', 'Slc22a17', 'Fxyd7', 'Amotl1', 'Fam168b', 'Tmco3', 'Sybu', 'Gls', 'Xpo1', 'Hs3st1', 'Uck2', 'Phf21a', 'Mapt', 'Zfp60', 'Ptprt', 'Nono', 'Anp32a', 'Cebpz', 'Ppp1r15b', 'Ctps', 'Ech1', 'Naa40', 'Dstn', 'Syt1', 'Wdfy2', 'Hint3', 'B3galt2', 'Cbl', 'Maob', 'Pacrg', 'Slc30a10', 'Sdha', 'Nxt1', 'Atp6v1e1', 'Polr2g', 'Zpr1', 'Cacng7', 'Dsp', 'Arl5a', 'Mrpl49', 'Rgs20', 'Polr3a', 'Zdhhc22', 'Fbln1', 'Dnajc9', 'Zfp638', 'Bcl11a', 'Usp37', 'Cdc73', 'Zfp655', 'Dlx6os1', 'Rpl4', 'Per1', 'Ddit3', 'Lsm10', 'Diexf', 'Rfc1', 'Gpaa1', 'Elavl3', 'Tek', 'Nxn', 'Luc7l', 'Supt3', 'Btbd11', 'Mark2', 'Ywhab', 'Jup', 'Tsc22d3', 'Rtn4rl1', 'Ntf3', 'Dhcr24', 'Slirp', 'Fgfr1', 'Rabep2', 'Cox7b', 'Adrm1', 'Arhgdig', 'Dnajb1', 'Kdm5a', 'Mrnip', 'Galnt11', 'Setd5', 'Prkcsh', 'Litaf', 'Tbcb', 'Fam217b', 'Zdhhc5', 'Elovl5', 'Prdm2', 'Anxa3', 'Tgs1', 'Xrcc6', 'Dnajb2', 'Slc25a28', 'Tmem100', 'Spint2', 'Tmtc2', 'Msi2', 'Ankrd13d', 'Mrps6', 'Anapc7', 'Tmem88b', 'Exoc5', 'Coil', 'Syvn1', 'Mydgf', 'Rcbtb1', 'Gm40578', 'Arhgdib', 'Gm49353', 'Zfp703', 'Alg9', 'Gabbr1', 'Ndrg3', '1810058I24Rik', 'Stk4', 'Cd81', 'Lefty1', 'Cox7c', 'Matk', 'Cyb5r1', 'Gm37401', 'Ubald1', 'Tmem240', 'Myo16', 'Dyrk1a', 'Lix1l', 'Vta1', 'Jph3', 'Hp1bp3', 'Agbl4', 'Pfdn5', 'Rhobtb3', 'Tmsb4x', 'E330009J07Rik', 'Dtx3', 'Whamm', 'Wnk1', 'Tmcc2', 'Birc6', 'Lmo2', 'Gm20425', 'Paqr6', 'Gpr135', 'Dnajc8', 'Fgfbp3', 'Creb1', 'St8sia1', 'Dcun1d4', 'Grk6', '1700003E16Rik', 'Pdcl3', 'Slc37a3', 'Lrp10', 'Fnbp4', 'Arx', 'Stoml2', 'Dixdc1', 'Gab1', 'Mmgt1', 'Marf1', 'Nup98', 'Sec62', 'Ptn', 'Wdr6', 'Shisa4', 'Gk', 'Cluap1', 'Otud4', 'Maged2', 'Mrpl45', 'Mafg', 'Copz1', 'Gng3', 'Cdc42se1', 'Gas6', 'Zcchc17', 'Bmpr1b', 'Tspan3', 'Tex10', 'Med27', 'Sac3d1', 'Smpdl3a', 'Luzp1', 'Tcf7l2', 'Dbndd1', 'Patl1', 'Sv2a', 'Abhd3', 'Snhg11', 'Stx16', 'Ccdc91', 'Yipf6', 'Ubl5', 'Sh2d3c', 'Hmgcs1', 'Bcl2l13', 'Dlx1as', 'Snx9', 'Rangap1', 'Abhd14b', 'Faf2', 'Zmpste24', 'Snhg6', 'Mrfap1', 'Ostc', 'Snx18', 'Tmem170b', 'Slmap', 'Gsdme', 'Cdk10', 'Klhl12', 'Cfap46', 'Tmem231', 'Rspo3', 'Bok', 'Prex2', 'Spsb3', 'Setd7', 'Pnpla2', 'Nsmce1', 'Eif2b5', 'Clns1a', 'Jph4', 'Pnoc', 'Cadm2', 'Phf12', 'Pgpep1', 'Usp42', 'Acadl', 'Echdc2', 'Vps4b', 'Srcin1', 'Ttyh2', 'Dnal1', 'Ap1b1', 'B3gat3', 'Pik3r4', 'Coq7', 'Keap1', 'Ermp1', 'Lrrc61', 'Cab39l', 'Slc25a4', 'Aaed1', 'Etv5', 'Hspb8', 'Utp4', 'Poll', 'Nudt2', 'Mea1', 'Abhd12', 'Commd6', 'Snta1', 'Pkd2', 'Cyp2d22', 'Zcchc6', 'Mtcl1', 'Mobp', 'Arhgef28', 'Pbx3', 'Tmem138', 'Rph3a', 'Pcyox1', 'Rhebl1', 'D830024N08Rik', 'Pcmtd1', 'Mas1', 'Lgi4', 'Nln', 'Git1', 'Rai1', 'Bcas2', 'Faim', 'Serpinb6a', 'Polg', 'Olig2', 'Trak2', 'Pura', 'Dvl1', 'Nme1', 'Tspan5', 'Prepl', 'Aga', 'Crot', 'Arc', 'Psmd14', 'Csnk2a1', 'Xpo6', 'Csnk1g2', 'Cipc', 'Gpr137c', 'Armc8', 'Pebp1', 'Tsc22d4', 'Gorasp2', 'Sp3os', 'Rps15', 'Tasp1', 'Acvrl1', 'AI504432', 'Arhgap33', 'Wdr12', 'Dpp10', 'Shmt2', 'Apmap', 'Frzb', 'Smpd2', 'Unk', 'Atn1', 'Pag1', 'Fbrsl1', 'Glg1', 'Zfp422', 'Cdk4', 'Hmg20a', 'Fam149a', 'Fbxo44', 'Stxbp5l', 'Gmppb', 'Mcfd2', 'Nkain4', 'Galnt10', 'Gfpt1', 'Ivns1abp', 'Mical3', 'Hspb1', 'Xylt2', 'St6galnac4', 'S1pr1', 'Sbds', 'Gm17750', 'Plod3', 'Mrps26', 'Rap1b', 'Nup210l', 'Pik3ip1', 'Slc35c2', 'Tln2', 'Cbx3', 'Sptan1', 'Retsat', 'Hmgcl', 'Tyrobp', 'Paqr7', 'Adrb1', 'Arl8a', 'Astn2', 'Scaper', 'Stx4a', 'Kndc1', 'Plekha6', 'Dnmt3a', 'H2-K1', 'Bex3', 'Baz2a', 'Eftud2', 'Tmem62', 'Mfrp', 'Tenm4', 'Cd164', 'Pdlim5', 'Nus1', 'Ttll12', 'Ccdc13', 'Cib2', '1500015O10Rik', 'Mmp24', 'Lcat', 'Wsb2', 'Dcaf10', 'Ctxn1', 'Cux2', 'Ankrd52', 'H3f3b', 'Ivd', 'Stac2', 'Rdx', 'Sec24d', 'Scarb1', 'Fah', 'Rbm18', 'Pla2g7', 'Jarid2', 'Gm14325', 'Erp44', 'D730003I15Rik', 'Garnl3', 'Csrp2', 'Tacr3', 'Jazf1', 'Pitpnc1', 'Rnf26', 'Snx1', 'Gpc5', 'Mdk', 'Tmem256', 'Fubp1', 'Micu3', 'Cryab', 'Pdcd11', 'Wrnip1', 'Extl3', 'Adgrb1', 'Pank4', 'Ppm1e', 'Cdk18', 'Ubl3', 'Abcb8', 'Gtpbp2', 'Stn1', 'Adi1', 'Cpne6', 'Eif3e', 'Irf2bp2', 'Igfbp3', 'Agpat5', 'Nup35', 'Impdh2', 'Nrf1', 'Tac1', 'Ptpn4', 'Vtn', 'Xndc1', 'Rras2', 'Cbwd1', 'Svip', 'Sec24c', 'Pdzd4', 'Dek', 'Tpp1', 'Cd52', 'Nfkb1', 'Fam69b', 'Tbc1d25', 'Grina', 'Trim11', 'Cenpw', 'Unc79', 'Msantd4', 'Actr1b', 'Ncln', 'Cbr3', 'Zfp651', 'Fmn1', 'Nck1', 'Clstn2', 'Asb1', 'Atg14', 'Ptpn5', 'Ubac1', 'Tsr2', 'Necab3', 'Zfp280d', 'Tmem185b', 'Ap2a2', 'Fbxo42', 'Snx24', 'Zfp553', 'Dnm3', 'Uchl5', 'Lix1', 'Fbxw9', 'Tdrd3', 'Ypel3', 'Abca3', 'Hmgb3', 'E130309D02Rik', 'Rdm1', 'Jtb', 'Lamb1', 'Heatr3', 'Pdzrn3', 'Rassf1', 'Dock1', 'Afg3l1', 'Csde1', 'Rnf168', 'Slc23a2', 'Asic1', 'Tmem107', 'Gpatch8', 'Asl', 'Gatad2a', 'Rgs12', 'Ints7', 'Hapln1', 'Ggnbp1', 'Ercc3', 'Lsm7', 'Lfng', 'Ezh2', 'Fam192a', 'Uso1', 'Pepd', 'Ankrd10', 'Arxes1', 'Taz', 'Abhd11', 'Togaram1', 'Cacng4', 'Nbas', 'Gda', 'Gldc', 'Ap3m1', 'Cdh11', 'Txnip', 'Cdk9', 'Raet1e', 'Spon1', 'Upp2', 'Ctnna2', 'Mettl21a', 'Entpd2', 'Mmp15', 'Stoml1', 'Apip', 'Ift80', 'Kctd15', 'Kdm3a', 'Nfe2l1', 'Ralgapa2', 'Nap1l4', 'Slc3a2', 'Ggh', 'Traf6', 'Adam9', 'Rcor3', 'Zfp942', 'Mrpl57', 'Lifr', 'Slc15a2', 'Cadm3', 'Naf1', 'Sgce', 'Efhd2', 'Camk1', 'Atp1a1', 'Trmt6', 'Psmb1', 'Sash1', 'G6pdx', 'Tnpo3', 'Rps6ka1', 'Hdac5', 'Tpm2', 'Stard8', 'Trim9', 'Pmvk', 'Tnfaip8l1', 'Basp1', 'Hopx', 'Samd4b', 'Dusp26', 'AC137513.1', 'Cacybp', 'P3h4', 'Tor1aip2', 'Itgb5', 'Heg1', 'Gpt2', 'Rcn2', 'Gm26881', 'Mog', 'Ppm1a', 'Smad7', 'Prdm16', 'Atp6v0e', 'Atrn', 'Macrod2', 'Frmd8', 'Polr3d', 'Mrpl24', 'Bnip3', 'Katnb1', 'Siva1', 'Aacs', 'Tor1aip1', 'Ap3s2', 'Tdrkh', 'Ift140', 'Selplg', 'Pea15a', 'Kdelr2', 'Pcp4', 'Ccdc50', 'Cntnap4', 'Rpl13a', 'Stx1b', 'Ctc1', 'Atg13', 'Mta1', 'Slc12a9', 'Ntrk2', 'Stat5b', 'Ric8b', 'Ddr1', 'Arl15', 'Lurap1', 'Dennd5a', 'Tmem110', 'Azin2', 'Kazn', 'Ephb3', 'Ncapd3', 'Ss18', 'Wbp1', 'Ctnnbl1', 'Gstt1', 'C1qa', 'Npas2', 'Fscn1', 'Ppan', 'Tmem151b', 'Palmd', 'Ddah2', 'Zkscan17', 'Mtmr10', 'Cbfb', 'Sphk2', 'Tmem141', 'Eif4a2', 'Gpatch2l', 'Zranb2', 'Cnot4', 'Vps72', 'Fam58b', 'Hrh3', 'Syf2', 'Nbea', 'Cnih4', 'Zfp36l1', 'Add1', 'Cep131', 'Clic1', 'Chd1', 'Ino80d', 'Cyp4f13', '4632415L05Rik', 'Large1', 'Zfp622', 'Lbh', 'Prpf18', 'H2-D1', 'Dleu7', 'Ghitm', 'Mtx1', 'Cry2', 'Pou2f1', 'Irak2', 'Abcb10', 'Pcsk6', 'Slc6a1', 'Acad11', 'Scn4b', 'Srcap', 'Hs3st2', 'Epb41l4b', 'Scrib', 'Rab5c', 'AI464131', 'Derl2', 'Nfrkb', 'Arrb1', 'Hspa12a', 'Acss1', 'Gnal', 'Ifitm1', 'Lrpap1', 'Vopp1', 'Chtop', 'Khdrbs3', 'Adgrl1', 'Cnep1r1', 'Fads1', 'Trappc5', 'Ythdc1', 'Polr2a', 'Zfp276', 'Macc1', 'Vapb', 'Akt2', 'Grn', 'Reln', 'Stx5a', 'Slc25a29', 'Cdca4', 'Atg4b', 'Tmem159', 'Dazap2', 'Paqr8', 'Btf3l4', 'Mcrip2', 'Tax1bp1', 'Gatm', 'Rps27l', 'C330018D20Rik', 'Ptges3', 'Lgals8', 'Rab34', 'Nrcam', 'Dscr3', 'Mif4gd', 'Arl6ip4', 'Nme7', 'Skap2', 'Snx6', 'Mylk', 'Mdn1', 'Rassf8', 'Hexa', 'C130071C03Rik', 'Med19', 'Cnot1', 'Metap1', 'Ltbp3', 'Faim2', 'Pou3f3', 'Fam174b', 'Stk19', 'Slc12a4', 'Gm28048', 'D430041D05Rik', 'Ndufa3', 'Sclt1', 'Kcnf1', 'Rtraf', 'Glrb', 'Sirt3', 'Megf10', 'Enpp5', 'Rapgef3', 'Kitl', 'Flna', 'Agl', 'Zranb1', 'Srd5a3', 'Gns', 'Klhdc1', 'Ick', 'Rer1', 'Recql', 'Slk', 'Bop1', 'Abhd17b', 'Kcnip3', 'Ube2i', 'Tro', 'Ngef', 'Pnpla7', 'Retreg1', 'Axin2', 'Cyp7b1', 'Dcun1d3', 'Mcm6', 'Snhg10', 'Gmpr2', 'Myo6', 'Fam181b', 'Rorb', 'Gbf1', 'Cyb5r3', 'Acbd4', 'Mapkbp1', 'Copz2', 'Etnppl', 'Mapk14', 'Cyhr1', 'Emc8', 'Cyba', 'Emc3', 'Ywhag', 'Ppp1cc', 'Pfn2', 'Rps29', 'Alkbh5', 'Mertk', 'Tyw1', 'Gss', 'Pgd', 'Rnaseh2c', 'Hacd2', 'Nlk', 'Smarcc2', 'Penk', 'Rictor', 'Hps4', 'Rchy1', 'Dnajc24', 'Zbtb4', 'C1qb', 'Elavl4', 'Gdap1', 'Dtx1', 'Rad23a', 'Dcaf7', 'Galnt1', 'Sesn2', 'Sptlc1', 'Mad2l2', 'Prkaca', 'Psmc3ip', 'Nfe2l2', 'Nrxn1', 'Rrs1', 'Bzw1', 'Rpl28', 'Spidr', 'Rnf114', 'Ube2q2', 'Cdc42', 'Tbkbp1', 'Gnai2', 'Dap3', 'Psenen', 'Asap1', 'Ppp5c', 'Ptgds', 'Caln1', 'Aspa', 'Mpv17', 'Arxes2', 'Wbp2', 'Zbtb17', 'Ddn', 'Mpzl1', 'Tmem183a', 'Gpank1', 'Ddhd1', 'Ptprm', 'Apc', 'Rasgrp1', 'Pdcd2l', 'Parvb', 'Dcun1d5', 'Lasp1', 'Mfsd5', 'Cd320', 'Rbp1', 'Sgtb', 'Vezt', 'Arl6ip5', 'Nudt8', 'Mfn1', 'Snx11', '2310039H08Rik', 'Fam3c', 'Rasgrf1', 'Itm2b', 'Lsm6', 'Rps19', 'Npas1', 'Tshz2', 'Mrpl50', 'Sox8', 'Rora', 'Glud1', 'Nt5m', 'Cbx7', 'Zfp652', 'Ift43', 'Lss', 'Rbfox1', 'Btbd17', 'Armt1', 'Med20', 'Lama2', 'Ppp1r3c', 'Mettl26', 'Zfp704', 'Atp2b2', 'Gstm5', 'Gpm6a', 'Lgi2', 'Ttbk2', 'Ccnd3', 'Sema7a', 'Gstm4', 'Lsm4', 'Sap18', 'Zfp592', 'Crocc', '2410002F23Rik', 'Bex2', 'Chd4', 'Rnf150', 'Mad1l1', 'Plekhm1', 'Csnk2a2', 'Ndufab1', 'Aplp1', 'Golph3l', 'Nacc1', 'Vps53', 'Wdr37', 'Camkv', 'Rab10os', 'Stag2', 'Gng12', 'Mrps9', 'Atp6v0a2', 'Cck', 'Ubxn11', 'Gas7', 'Pdgfra', 'Rnf130', 'Zfp653', 'Enkd1', 'Tjp1', 'Pcp4l1', 'Gm15860', 'Pced1a', 'Relt', 'Elfn2', 'Bicra', 'Ufl1', 'Pltp', 'Plpp4', 'Zfpl1', 'Klhdc4', 'Gcc2', 'Casc3', '4931406P16Rik', 'Kras', 'Nup85', 'Cerk', 'Senp3', 'Magi1', 'Elfn1', 'Wasf1', 'Evi2a', '1700088E04Rik', 'Hspa14', 'Cdh8', 'Ovca2', 'Ctla2a', 'Tmem43', 'Pcbp1', '9430038I01Rik', 'Tmem94', 'Smim27', 'Crip2', 'Zc3h18', 'Fam107a', 'Trp53inp2', 'Stxbp4', 'Rcbtb2', 'Gm42418', 'Prdx3', 'Snca', 'C1qtnf4', 'Zfyve21', 'Ptprz1', 'Ppp2r2b', 'Qk', 'Ints11', 'Tmem229a', '2810459M11Rik', 'Ddit4l', 'Qsox2', 'Phf3', 'Tac2', 'Crkl', 'Arid1b', 'Nek7', 'Dpyd', 'Eno1', 'Ammecr1l', 'Pcgf1', 'Emc9', 'Dnaja1', 'Iah1', 'Inpp5b', 'Ak1', 'Nalcn', 'Trappc3', 'Lsamp', 'Aimp1', 'Cd34', 'Mt2', 'Secisbp2', 'Marcksl1', 'Bcl2', 'Rfk', 'Cnbp', 'Foxn3', 'Atp6v1c1', 'Cpq', 'Snrpn', 'Wasl', 'Tagln2', 'Arhgef2', 'Plcb4', 'Ablim1', 'Ttc39b', 'Eloc', 'Tmem203', 'Gm21972', 'Rgs14', 'Stag1', 'Cstf1', 'Lima1', 'Ercc4', 'Ccdc189', 'Mphosph8', 'Rab3b', 'Glul', 'Nt5c2', 'Hivep3', 'Kif1c', 'mt-Nd2', 'Smg7', 'Dhx9', 'Mcur1', 'Myl4', 'Fhad1', 'Leprotl1', 'Gad2', 'Atf5', 'C2cd3', 'Trappc9', 'Arl4c', 'Prdx4', 'H2-T22', 'Tomm5', 'Otud7a', 'Tbc1d5', 'Cndp2', 'Man2c1', 'Pik3c2b', 'Vps25', '2210016F16Rik', 'Usp32', 'Wnt7b', 'Grm3', 'Zfp950', 'Bckdha', 'Nectin3', 'Rbm22', 'mt-Nd1', '1600020E01Rik', 'Ano8', 'Ndufaf7', 'Rps27a', 'Cep104', 'Ccdc127', 'Cd302', 'Tbc1d22a', 'Ephx2', 'Gm10419', 'Cdc42ep4', 'Cmtm4', 'Fcer1g', 'Slc4a2', 'AC157554.2', 'Fam20b', 'Fndc3a', 'Nckap5', 'Alg11', 'Sult2b1', 'Otub1', 'Gpbp1', 'Sema4d', 'Taok3', 'Gpn1', 'Acsl6', 'Oard1', 'Wdtc1', 'Map2', 'Scarb2', 'Fcgrt', 'Cuedc1', 'Trip4', 'Arsb', 'Ugp2', 'Nrgn', 'Ube4b', 'Lzic', 'Tor2a', 'Acss2', 'Mgat5', 'Mettl14', 'Ppp6r2', 'Rrm2b', 'Kifap3', 'Csnk1e', 'Atl2', 'Tmem109', 'Trf', 'Rtf1', 'Igfbp2', 'Fbxo6', 'Gga1', 'Chn1', 'Srek1ip1', 'Cnn3', 'Zfyve28', 'Zbtb11os1', 'Smg9', 'Nav2', 'Oxsr1', 'Gpsm2', 'Ap4b1', 'Tspan9', 'Usp3', 'Nme5', 'Clec11a', 'Drap1', 'Paxbp1', 'Ccm2', 'Mettl2', 'U2surp', 'Cbs', 'Nfix', 'Zadh2', 'Mras', 'Rpl34', 'Ubap2', 'Npc1', 'Sav1', 'Rasl11b', 'Chst8', 'Fam133b', 'Gm16105', 'Fgf9', 'Specc1l', 'Tmem214', 'P3h3', 'Trem2', 'Nkd1', 'Abcg2', 'Enpp2', 'Coro1b', 'Dhx40', 'Trmt12', 'Rgs4', 'Gm20721', 'D130009I18Rik', 'Man1c1', 'Pigf', 'Irak1bp1', 'Atf2', 'Nol4l', 'Prkci', 'Aco1', 'Kif1a', 'Gm15706', 'Ttc38', 'Bloc1s6', 'Hmbox1', 'Arhgap12', 'Pdha1', 'Tcf20', 'Smarcc1', 'Cd38', 'Zfp740', 'Phf14', 'Riok3', 'Slc12a2', 'Wdr38', 'Mgp', 'Nek9', 'Phrf1', 'Tmed9', 'Asrgl1', 'Kcna1', 'Fyco1', 'Atxn2', 'Adgre5', 'Npepl1', 'Tmem167', 'Palb2', 'Naa30', 'Rpap2', 'Ifngr1', 'Tars', 'Pex16', 'Tspan13', 'Hibadh', 'Ccz1', 'Rab36', 'Eif1', 'Zkscan3', 'Tpd52l2', 'Atp6v0e2', 'Srebf1', 'Id2', 'Smcr8', 'Jam3', 'Ninj2', 'Rabggtb', 'Rexo1', 'Epha4', 'Rbbp6', 'Dock10', 'Zfhx3', 'Alyref', 'Acox3', 'Pdrg1', 'Pacsin1', 'Midn', 'Mesd', 'Zfp358', 'Zkscan1', 'Ide', '1110002L01Rik', 'Ppm1k', 'Arpc5', 'Ahdc1', 'Fam172a', 'Zfpm1', 'Dbp', 'Rin2', 'Polrmt', 'Raly', 'Lxn', 'Spock2', 'Lhpp', 'Fcgr3', 'Cdk19', 'Rsu1', 'Rasgrp2', 'Mrps31', 'Lhfpl2', 'Rbm7', 'Kcnt1', 'Enpp4', 'Begain', 'Lats1', 'Fgfrl1', 'Lbr', 'Gga3', 'Sipa1', 'Fbl', 'Gpr137b', 'Igdcc4', 'Hsdl1', 'Pxmp2', 'Nmb', 'Farsb', 'Ftl1-ps1', 'Mtmr7', 'Larp4', 'Hint2', 'Gm26917', 'Rplp1', 'Frmpd4', 'Pycrl', 'Ctnna1', 'Cbll1', 'Cdv3', 'Eef1b2', 'S100a6', 'Mxd4', 'Gna12', 'Vkorc1', 'Slc2a13', 'Nkap', 'Ascc3', 'Efna1', 'Exoc4', 'Cnn2', 'Mmgt2', 'Mafb', 'Acot5', 'Klf12', 'Nagk', 'Cntn5', 'Smad1', 'Spats2l', 'Zmynd8', 'Insig1', '1810037I17Rik', 'Stradb', 'Ydjc', 'Fbxo28', 'Tcn2', 'Ddx27', 'Mlycd', 'Adhfe1', 'Prpf38b', 'Ifi27', 'Foxo6', 'B4galt7', 'Katna1', 'Ndst1', 'Myrip', 'Arsg', 'Pinx1', 'Cbx5', 'Zfp277', 'Polr2b', 'Vps8', 'Ociad1', 'Pak6', 'Rngtt', 'Rfc5', 'Leprot', 'Jund', 'Man2b1', 'Lyn', 'Ikbkb', 'Pias3', 'Gpx7', 'Lias', 'N4bp2l2', 'Gria1', 'Gm47071', 'Adcyap1r1', 'Smap1', 'Gm9885', 'Lmo4', 'Max', 'Htra1', 'Tab1', 'Lzts2', 'Tmem204', 'Rasl10b', 'Cat', 'Afg1l', 'Sparcl1', 'Snapc4', 'Zdhhc17', 'Tmem63a', 'Agrn', 'Bloc1s5', 'Asf1a', 'Arhgap4', 'Tspo', 'Nlrc4', 'Tulp4', 'Crtc3', 'Lancl2', 'Prr14', 'Nphp1', 'Sigmar1', 'Fgf13', 'Rgs7bp', 'Gpr45', 'Vwc2', 'Tef', 'Ints14', 'Klc2', 'Kctd4', 'Cpne4', 'Ssbp3', 'Med25', 'Fars2', 'Lrrn1', 'Zc3h7a', 'Rab3gap2', 'Bicral', 'Crhbp', 'Uspl1', 'Fyb', 'Arpc2', 'Aak1', 'Upf1', 'Lrrc75a', 'Gosr2', 'Taldo1', 'Kif22', 'Cenpb', 'Nudt4', '1500009C09Rik', 'Ttc3', 'Slc25a1', 'Pprc1', 'Zmym2', 'Tada1', 'Dad1', 'Clybl', 'Sytl2', 'R3hcc1', 'Acadvl', 'Ap3d1', 'Cisd1', 'Phka2', 'Gm9803', 'Gm28043', 'Cntn2', 'Rrp9', 'Mxra7', 'Ddx17', 'Nicn1', 'Npy', 'Ucp2', 'Ano3', 'Pex7', 'Cnksr2', 'Sfxn5', 'Mif', 'Psmd4', 'Mrpl48', 'Ass1', 'Cmc1', 'Camk2b', 'Maml3', 'Gramd3', 'Limk2', 'Tlcd1', 'Ints8', 'Kif2a', 'Cisd2', 'Ypel2', 'Bambi', 'Fsd1l', 'Ftl1', 'Gm20642', 'Tle3', 'Hook1', 'Ddx18', 'Psmg4', 'Zfp719', 'Rnf5', 'Washc2', 'Zfp507', 'Sh3glb1', 'Sptssa', 'Mmachc', 'Mrpl47', 'Nvl', 'Fezf2', 'Nbl1', 'Uchl1', 'Mllt3', 'Elof1', 'Copb1', 'Ndufs4', 'Atf7', 'Birc2', 'Chordc1', 'Ptbp3', 'P4hb', 'Sncg', 'Ankrd40', 'Trim41', 'Mir9-3hg', 'Tnfrsf1a', 'Ric3', 'Itgb3bp', 'Rabep1', 'Afap1l1', 'Rbl2', 'Synm', 'Abcd4', 'Gtpbp1', 'Lmf2', 'Acbd5', 'Puf60', 'Gpr146', 'Tab2', 'Cnbd2', 'Atp2a2', 'Ccp110', 'Cwf19l2', 'Zfp715', 'Aatf', 'Armc10', 'Ctnnd1', 'Lyrm1', 'Dzip1', 'Pnkp', 'Thrsp', 'Adgrf5', 'Psmd12', 'Socs7', 'Plrg1', 'Osbpl7', 'Trim13', 'Fam105a', 'Mindy2', 'Unc5b', 'Flt1', 'Agps', 'Zfp90', 'Itga6', 'Oat', 'Nek6', 'Ttc1', 'Cmc2', 'Cdk12', 'Colgalt1', 'Efcab6', 'Cnr1', 'Cyp4f15', 'Tagln', 'Brinp2', 'Fam98a', 'Zfp692', 'Gprasp2', 'Cog7', 'Mak16', 'Klhl21', 'Tpst2', 'Kalrn', 'mt-Nd6', 'Usp53', 'Zfp462', 'Arsa', 'Hip1r', 'Sesn1', 'Cenpv', 'Fzd2', 'Rgs5', 'Kctd10', 'Trafd1', 'Lypla2', 'Vamp5', 'Morn2', 'Cdip1', 'Tshz1', 'Esd', 'Timm50', 'Pitpnm3', 'Txnl4a', 'Cxxc4', 'Gm10073', 'Umps', 'Gria2', 'Lrsam1', 'Psd2', 'Erbin', 'Pex1', 'Stard3', 'Mfap1b', 'Sst', 'Tbc1d24', 'St8sia5', 'Ccni', 'St3gal2', 'Tfdp2', 'Gstm1', 'Chchd3', 'Rpl3', 'Elmo1', 'Mapk1', 'Med7', 'Prkcz', 'Tle4', 'Prkcd', 'Dopey2', 'Plpp3', 'Panx2', 'Pcx', 'Dusp7', 'Sdf2', 'Sdf4', 'Lamtor2', 'Nf2', 'Ddx25', 'Btg1', 'Clu', 'Lamc1', 'Cmas', 'Slc39a7', 'Xpc', 'Lsm5', 'Gm2a', 'Tbcel', 'Syngr1', 'Tubb2a', 'Mga', 'Osbpl9', 'Ttbk1', 'Hnrnpdl', 'Fermt2', 'Dirc2', 'Vcl', 'Daam2', 'Abhd5', 'Slco2a1', 'Jmjd6', 'Pole3', 'Mier2', 'Pttg1', 'Gm21974', 'Znrf3', 'Plekho2', 'Pdia3', 'Abca8b', 'Rrm1', 'Gtf2b', 'Mthfd1', 'Ppil1', 'Csmd2', 'Mfsd6', 'Pmpca', 'Emx2', 'Gak', 'Map3k10', 'Ralbp1', 'Bsg', 'Trip12', 'Grpel2', 'Srp19', 'Zfp524', 'Parp11', 'Plgrkt', '1110008P14Rik', 'Ppil4', 'Wdr81', 'Lgi3', 'Reep3', 'Fcho2', 'Amn', 'Mtfp1', 'Fam213a', 'Ttll5', 'Eci1', 'Lman1', 'Mgat4b', 'Ikbkap', 'Mob1a', 'Larp7', 'Mrpl12', 'Mbtps2', 'Gfra1', 'Orc2', 'Pnpla8', 'Cmtm5', 'Mro', 'Vamp3', 'Ryr2', 'Herpud1', 'Rxrb', 'Tmem176b', 'Fam96b', 'Ppp1r21', 'Phf23', 'Gadd45g', 'Ccdc117', 'Npas3', 'Capn2', 'Slc9a8', 'Mtx2', 'Dip2a', 'Gjb1', 'C1qtnf12', 'Rtf2', 'Adarb2', 'Ccdc74a', 'L3mbtl2', 'Acadsb', 'Pak1', 'Ednrb', 'Paf1', 'Gnb4', 'Tmem42', 'Tcte2', 'Tomm7', 'Ranbp9', 'Dnajc21', 'Pdxdc1', 'Chadl', 'Rhbdd2', 'Manea', 'Epm2aip1', 'Zc3h14', 'Clcn3', 'Mat2a', 'Zmiz1', 'Eva1b', 'Galc', 'Pdyn', 'Ppfia1', 'Ptpn12', 'Lrpprc', 'Braf', 'Vamp8', 'Nrbp2', 'Dctn6', 'Nup133', 'Taf1a', 'Crybb1', 'Slit3', 'Armc5', 'Mapk10', 'Endov', 'Cldn12', 'Nup62', 'Dgkg', 'Dus1l', 'Slu7', 'Mapk6', 'Pagr1a', 'Knop1', 'Atg4c', 'Igsf11', 'Rab33b', 'Cebpb', 'Limd2', 'Cacna2d2', 'Papss2', 'Fgfr3', '3632451O06Rik', 'Hnrnpu', 'Padi2', 'Nup188', 'Kcnq5', 'Gng8', 'Itgb8', 'Atp1a2', 'Dnajc3', 'Hdac11', 'Nr2f1', 'Asxl1', 'Bcl7c', 'Rps21', 'Cdk5rap2', 'Mxi1', 'Pms2', 'Hsp90aa1', 'Neurl1b', 'Zdhhc12', 'Wnt7a', 'Gucy1a1', 'Pdlim4', 'Cnppd1', 'Slc7a11', 'Tyro3', 'Mpp1', 'Mbtd1', 'Rfxank', 'Galnt18', 'Micu2', 'Zdhhc9', 'Polr1d', 'Ighm', 'Plppr4', 'Setx', 'Rnpepl1', 'Camsap3', 'Nudt1', 'Fastkd3', 'Larp1b', 'Habp4', 'Slc1a6', 'Cops9', 'Lrrc20', 'Boc', 'Cops4', 'Arfgap1', 'Sin3b', 'Dhrs7b', 'Dtx4', 'Znrf1', 'Atp5a1', 'Stat3', 'Mtmr1', 'Creb3', 'Hdac4', 'Nanos3', 'Anapc11', 'Pkig', 'Igfbp4', 'Prrc1', 'Npdc1', 'Rrp8', 'Ndufs8', 'Xab2', 'Zfp369', 'Tmem80', 'B4galnt4', 'Tmem11', 'Ttr', 'Phf5a', 'Serpini1', 'Smarca1', 'Sec22b', 'Dicer1', 'Plekhh1', 'Il33', 'Rras', 'Oaf', 'Eef2kmt', 'Trib1', 'Phldb1', 'Ndufb8', 'Pip4k2b', 'Uba52', 'Chd3', 'Chd9', 'Trmt112', 'Nmral1', 'Ptdss2', 'Sin3a', 'Fem1b', 'Abhd18', 'Msn', 'Taf6', 'Nkiras2', 'Usp46', 'Tmem38b', 'Ndufa1', 'Eng', 'Fbxw4', 'Ndrg2', 'Smco4', 'Pdgfa', 'Pxk', 'Zdhhc4', 'Rcan1', 'G3bp1', 'Tmem41b', 'Ncdn', 'Arhgap35', 'Brinp3', 'Fn1', 'Eif4ebp1', 'Sec16a', 'Zcchc12', 'Tfe3', 'Bub3', 'Kdm6b', 'Hmgn3', 'Ctbp2', 'Spag7', 'S100a11', 'Ost4', 'Cog6', 'Optn', 'Atf7ip', 'Faap100', 'Smad2', 'Tgoln1', 'Fastkd5', 'Gnpda2', 'Atp6v1d', 'Shisa5', 'Hars2', 'Tmem44', 'Xrn2', 'Ttc7b', 'Gpr137', 'Gm15417', 'Ppp1r3f', 'Zkscan5', 'Pak4', 'Ctu2', 'Gnptg', 'Tnpo1', 'Dip2b', 'Selenon', 'Gm49380', 'Pnisr', 'Itga7', 'Sema6a', 'Hif1a', 'Ap2m1', 'Bcas3', 'Ndufb4', 'Rbm10', 'Tspan14', 'Slc24a4', 'Sf3b4', 'Nrn1', 'Nfkbib', 'Zswim5', 'Ebp', 'Uhmk1', 'Mcl1', 'Tmem243', 'Hcfc2', 'Hhatl', 'Sos2', 'Yipf2', 'Morc2a', 'Wasf2', 'Mfsd12', 'Abl1', 'Rps15a', 'Supt20', 'Vwa8', 'Tcerg1', 'Scg2', 'Anapc2', 'Mag', 'Cdh9', 'Decr1', 'Qpct', 'Ugt8a', 'Ndufa10', 'Ripor1', 'Cc2d1a', 'Slc25a14', 'Iffo1', 'Arhgdia', 'Dcaf8', 'Ttf1', 'Sys1', 'Dynll1', 'Tmod3', 'Trim26', 'Eif4a1', 'Ksr1', 'Arf4', 'Efcab8', 'Dbt', 'Susd4', 'Uck1', 'Ctsf', 'Flnb', 'Nkain2', 'Actn2', 'Nrde2', 'Zfp672', 'Uqcrq', 'P4htm', 'Tpr', 'Rpl5', 'Gm42742', 'Mdm4', 'Arl6ip6', 'Unc119b', 'Lyrm2', 'Mvk', 'Dohh', 'Cdh22', 'Gngt2', 'Zbtb7a', 'Plcd4', 'Ash2l', 'mt-Nd3', 'Dusp18', 'Col9a3', 'Grb2', 'Usmg5', 'B230354K17Rik', 'Agap2', 'Gpn2', 'Cox10', 'Hmg20b', 'Gatad1', 'Kdm2a', 'Ndufa4', 'AI593442', 'Pum2', 'Abhd4', 'Lrba', 'Bcan', 'Zfp326', 'Akap9', 'Memo1', 'Kctd13', 'Spop', 'Gng4', 'Sulf2', 'Rapgef4', 'Hid1', 'Cadm4', 'Cep85l', 'Eif3j1', 'Syngap1', 'Prr12', 'Abcb6', 'Med16', 'Rabgap1l', 'Zhx3', 'Sco2', 'Sbf1', 'Kank3', 'Ly6a', 'Ccdc58', 'Tubb2b', 'Dact3', 'Pde4a', 'Apba2', 'Nrarp', 'Pik3r1', 'Polr3h', 'Rps16', 'Usp16', 'Ankrd9', 'Spata7', 'Tmub1', 'Pfdn1', 'Chst1', 'Chrnb2', 'Nt5dc1', 'Junb', 'Tcp1', 'Cyld', 'Lmo7', 'Slc6a8', 'Coro7', 'Fam234a', 'Pgf', 'Gtf2a1', 'Rnf215', 'Fam20c', 'Fiz1', 'Neat1', 'Csnk1g3', 'Phyhipl', 'Timp3', 'Ergic1', 'Eif5', 'Arpp21', 'Shtn1', 'Chmp6', 'Ankle2', 'Wdr3', 'Cacnb4', 'H2afj', 'Ttc9c', 'Mzt1', 'Atf4', 'Amz2', 'Rab31', 'Inpp4a', 'Dgat2', 'Coq8a', 'Ppfia4', 'Oxnad1', 'Sugt1', 'Cers2', 'Baiap2', 'Scamp4', 'Mtch1', 'Hsp90ab1', 'Fgf1', 'Pbxip1', 'Macrod1', 'Itsn1', 'Qdpr', 'St3gal4', 'Pdcd10', 'Cox4i1', 'Tmem119', 'Qars', 'Map1s', 'Abcc8', 'Nudt19', 'Ctbp1', 'Edrf1', 'Prkca', 'Bscl2', 'Hes5', 'Cmtr1', 'Pabpc1', 'Frmd4b', 'Creg1', 'Gamt', 'Eif2d', 'Fkbp9', 'Zc3h4', 'Ctsd', 'mt-Cytb', 'Virma', 'Mpv17l2', 'Crip1', 'Tatdn3', 'Cabp1', 'Ilk', 'Ppm1m', 'Gm10563', 'Zfp637', 'Sirt2', 'Ipo8', 'Dnajb6', 'Ly6h', 'Rab40c', 'Nras', 'Sap130', 'Stard4', 'Dkkl1', 'Slc35e4', 'Cox6a1', 'Zfand2a', 'Znhit2', 'Samm50', 'Spock3', 'Fhl1', 'Ttc33', 'Nefh', 'Tnpo2', 'Nop14', 'BC005561', 'Mrs2', 'Sult1a1', 'Cit', 'Zmynd11', 'Prkcb', 'Itih3', 'Prickle2', 'Cct2', 'Syngr2', 'Klhl26', 'Zfp385a', 'Trappc6b', 'mt-Nd4', 'BC017643', 'Mtss1', 'Prss35', 'Ppp4r4', 'Elmod1', 'Cd2bp2', 'Apaf1', 'Map2k1', 'Mrpl43', 'Mgrn1', 'Mrpl15', 'Pank3', 'Zfp687', 'Stk38l', 'Csk', 'Tcp11l1', 'Tubb4a', 'Dhrs7', 'Alg3', 'Tcf4', 'Rcan2', 'Grin2c', 'Cir1', 'Eipr1', 'Sap30bp', 'Nupr1', 'Mtfr1l', 'Ppp3ca', 'Anks1', 'Gpt', 'Odf2', 'Selenof', 'Eif5b', 'Chrna4', 'Rogdi', 'Eif4ebp2', 'Podxl', 'Kif1b', 'Pcgf5', 'Ppp1r14a', 'Nt5c', 'Ckap4', 'Nomo1', 'Tomm6', 'Rap2c', 'Sox5', 'Fuca2', 'Pdlim2', 'Wipi2', 'Gm38393', 'Neurod6', 'Rala', 'Clasrp', 'Apln', 'Ctdp1', 'Txndc16', 'Ccdc107', 'Nudcd3', 'Snx4', 'Magee1', 'Timm8b', 'Mlh3', 'Pde1a', 'Vps33a', 'Rhbdd3', 'Nuak1', 'Fa2h', 'Rpl30', 'Cep120', 'Thy1', 'Nrsn2', 'Brd1', 'Trpm3', 'Pfkm', 'Ctxn2', 'Cbr4', 'Lrwd1', 'Prex1', 'Pias2', 'Coro2a', 'Cthrc1', 'A830082K12Rik', 'Slc39a1', 'Slc31a1', 'Pecam1', 'Gm10031', 'Epha5', 'Setdb1', 'S100a16', 'Etv1', 'Nnat', 'Slc6a9', 'Micall1', 'Acbd3', 'Mtmr6', 'Coq9', 'Axl', 'Arhgef37', 'Trnp1', 'Cdpf1', 'Serpine2', 'Kif13a', 'Slco2b1', 'Spryd4', 'Ncald', 'Insig2', 'Zbtb24', 'Ptpdc1', 'Maf1', 'Bcr', 'Ly6c1', 'Wdyhv1', 'Plk2', 'Notch1', 'Serpinf1', 'Prdm4', 'Zfp609', 'Mgat3', 'Mthfd1l', 'Dpysl2', 'Mpnd', 'Ly86', 'Msmo1', 'Aldh3a2', 'Mgst3', 'Gnpat', 'Ttc8', 'Dcaf15', 'Tmem246', 'Gm34006', 'Tmem147', 'Klhl2', 'Sox10', 'Cwc22', 'Grk3', 'Ascc2', 'Lhfpl3', 'Afdn', 'Dnaja2', 'Mtmr9', 'Osbp2', 'Atp6v1h', 'Cox5a', 'Sox2', 'Gpr108', 'Ptprf', 'Clic4', 'Oxt', 'Samd4', 'Col11a2', 'Hey1', 'Slc22a3', 'Ppp6r1', 'Gtpbp4', 'Snrnp200', 'F3', 'Ilvbl', 'Dnm1', 'Rb1', 'Zbtb48', 'Nipsnap2', 'Aes', 'Cttnbp2', 'Gm27029', 'Gna13', 'Gm9774', 'Coa4', 'Rgs6', 'Zfp949', 'Slc52a2', 'Lrig2', 'Eva1a', 'Slc29a4', 'Stk3', 'Slc29a3', 'Trim24', 'Rhot2', 'Mgat1', 'Klhl23', 'Letm2', 'Snd1', 'Suds3', 'Sdccag8', 'Babam1', 'Cxcl12', 'Eps8l2', 'Akr1b10', 'Psme2b', 'Sema3c', 'Rpp25', 'Hnrnpm', 'Mtus1', 'Vsnl1', 'Arhgap15', '2900052N01Rik', 'Actn4', 'Csmd3', 'Ing1', 'Gng7', 'Mmd2', 'Dok5', 'Yif1b', 'Scp2', 'Cd59a', 'Oxr1', 'Kcna6', 'Aph1b', 'Fbxo18', 'Eef1d', 'C1ql2', 'Pin1', 'Pafah1b1', 'Dusp1', 'Dda1', 'Vipas39', 'Ssh2', 'Tspan7', 'Supt16', 'Mboat2', 'C2cd4b', 'Tubb5', 'Ak3', 'Smim1', 'Arf3', 'Rsrp1', 'Htt', 'Tmem176a', 'Bcorl1', 'Mt1', 'Cep68', 'Poc5', 'Slc7a5', 'Exog', 'Dhx57', 'Bcl7a', 'Rasa2', 'Dgkq', 'Arpc1b', 'Elk3', 'Actb', 'Acsbg1', 'Mid2', 'Adam11', 'Ccdc3', 'Stox2', 'Galnt17', 'Gm11549', '2210008F06Rik', 'Emc1', 'Tdrp', 'C4b', 'Arpp19', 'Vps13a', 'Nceh1', 'Tapbp', 'Mrps16', 'Parva', 'Necap2', 'Bmp2k', 'Zfp511', '2310035C23Rik', 'Sirpa', 'Mbnl2', 'Poldip3', 'Khk', 'Plxna2', 'Upf3b', 'Rmnd5b', 'Cux1', 'Myo10', 'Acsl3', 'Pax6', 'Atf1', 'Uap1l1', 'Gtpbp6', 'Ndufb2', 'Socs5', 'Mmaa', 'Rrbp1', 'Rnf14', '2700097O09Rik', 'Osgep', 'Gm11627', 'Slc25a22', 'Nsg2', 'Dync1li2', 'Mapk4', 'Tmem250-ps', 'Mrps28', 'Gm44503', 'Hax1', 'Eef1g', 'Arid4a', 'Cldn10', '1110012L19Rik', 'Arfrp1', '1110059G10Rik', 'Tmem163', 'Ebag9', 'Atp6v0a1', 'Ifitm2', 'Epb41l1', 'Cplx1', 'Cdc42ep1', 'Lgals3bp', 'Prox1', '2310061I04Rik', 'Serinc5', 'Sfxn3', 'Dym', 'Atp1b3', 'Fat1', 'Bcl9', 'Cflar', 'Nosip', 'Thbs4', 'Txlna', 'Pde12', 'Timm22', 'Tmem65', 'Bcas1', 'Ptprd', 'Nfkbia', 'Sptlc2', 'Sept4', 'Pigk', 'Gid4', 'Ttc9', 'Elovl1', 'Kif13b', 'Syt14', 'Vim', 'Necab2', 'Glis2', 'Nfatc3', 'Arhgef10', 'Rps6kb1', 'Irak1', 'Ttyh3', 'Gm15738', 'Ssr4', 'Cobl', 'Dpysl5', 'Avpi1', 'Thada', 'Il6st', 'Aup1', 'Bcl2l1', 'Pld3', 'Naxd', 'Zfp385b', 'Gopc', 'Rpl12', 'Aftph', 'Ccng1', 'Kat6a', 'Ddit4', 'Cox8a', 'Nat9', 'Cnot8', 'Ptpn18', 'Map1lc3b', 'Prr5l', 'Map3k4', 'Cnot10', 'Scaf11', 'Atg7', 'Prkar2a', 'Ankrd45', 'Fosb', 'Efr3a', 'Cnp', 'Acadm', 'Rheb', 'Vsir', 'Id3', 'Chuk', 'Slain2', 'Tubb4b', 'Lrig1', 'Srxn1', 'Cpt1a', 'Rpl18', 'Wipf2', 'Dennd5b', 'Gpr17', 'Fuca1', 'Idh2', 'Tmem25', 'Adgrl2', 'Nrtn', 'Ramp3', 'Ctsh', 'Ap5m1', 'Ecsit', 'Fam69a', 'Prkcg', 'Ublcp1', 'Slc38a5', 'Cers6', 'Pmm2', 'Arf1', 'Spcs2', 'Rab8a', 'Plekho1', 'Zfp938', 'Pip5k1b', 'Ing4', 'Ibtk', 'Rpain', 'Gripap1', 'Hpf1', 'Chn2', 'Gm3764', 'Rfng', 'Fam160b2', 'Sparc', 'Hexim1', 'Exosc2', 'Zfp334', 'Sephs1', 'Ctnnal1', 'Cdc16', 'Tmem59', 'Ezh1', 'Ankfy1', 'Pvalb', 'Cds2', 'Gpatch4', 'Apoe', 'Gm9866', 'Spock1', 'Tmem117', 'Psmd11', 'Rpl41', 'Smad3', 'Dhx16', 'Slc20a1', 'Plcg1', 'Sh3bp4', 'Pigz', 'Gigyf2', 'Phlpp1', 'Sar1a', 'Tmem56', 'Uggt1', 'Atad2b', 'Gm15478', 'Ttc32', 'Slc30a9', 'Cdr2', 'Plch2', 'Polr2c', 'Tmed3', 'Adcy5', 'Vkorc1l1', 'Map6d1', 'Daxx', 'Fam91a1', 'Mirg', 'Suclg2', 'Fnip2', 'Baz2b', 'Pelo', 'Trex1', 'Psph', 'Stard7', 'Cab39', 'Rint1', 'Dtna', 'Rgp1', 'Mrpl18', 'Eno2', 'Fabp3', 'Fam13c', 'Cox7a2', 'Rpl13', 'Ctu1', 'App', 'Msh6', '2510009E07Rik', 'Mecp2', 'Lrch4', 'Sltm', 'Pes1', 'B2m', 'Mpped2', 'Trappc11', 'Prpf3', 'Cfap74', 'Tiparp', 'Pum3', 'Gba', 'Tpd52l1', 'Chchd2', 'Glmp', 'Spg20', 'Nrbp1', 'Taf2', 'Slc6a11', 'Ldlrad4', 'F8a', 'Cald1', 'Rida', 'Olfm1', 'Amt', 'Def8', 'Trpt1', 'Cwc15', 'Bin3', 'Ajap1', 'Arhgef18', 'Ankrd28', 'Enc1', 'Cdc42bpa', 'Rhoa', 'Clk4', 'Psmc3', 'Zfp64', '2610044O15Rik8', 'Cdkn1a', 'Rnf145', 'Rhoc', 'Izumo4', 'Celf1', 'Ythdf3', 'Dnajc4', 'Rnase4', 'Trip11', 'Zfyve9', 'Tmed8', 'Xpa', 'Dctn3', 'Fhod3', 'Zcchc8', 'Dcaf17', 'Kif3c', 'Gng5', 'Pank1', 'Mrpl40', 'Tacc1', 'Scd2', 'Nfx1', 'Mrpl2', 'Acta1', 'Etfdh', 'Slco1a4', 'Map3k11', 'Gjb6', 'Setd1b', 'Homer3', 'Actr10', 'Exoc7', 'Sh3gl3', 'Ppargc1a', 'Dusp5', '1810030O07Rik', 'Fam219b', 'Fkbp2', 'Sema4g', 'Pgrmc2', 'Ptgr2', 'Agap1', 'Chd7', 'Calm2', 'Fam160a2', 'BC029722', 'Foxj2', 'Cox6b1', 'Mrpl39', 'Btaf1', 'Lpgat1', 'Lnpep', 'mt-Co1', 'Rps5', 'Mbd3', 'Mtif3', 'Cdr2l', 'Neu1', 'Shank1', 'Trpc6', 'Rgs9', 'Wwp1', 'Tbc1d17', 'Cspg5', 'Tmtc1', 'Mfsd3', 'Ssbp4', 'Sap30l', 'Ddb1', 'Cldnd1', 'Elac2', 'Zfp142', 'Stk39', 'Farp1', 'Atp13a1', 'Itfg2', 'Prkab1', 'Zfp329', 'Smc1a', 'Snap47', 'Phip', 'Bach2', 'Cpsf3', 'Mphosph9', 'Gm43055', 'Bmpr2', 'Lmbr1', 'Suclg1', 'Ago3', 'Opalin', 'Gm14399', 'Gm16183', 'Sorbs3', 'Smim13', 'Fryl', 'Scaf1', 'Ids', 'Nrep', 'Ptprb', 'Gjc2', 'Mepce', 'Rnft2', 'Ttyh1', 'Efhd1', 'Scn1b', 'N4bp3', 'B3galt6', 'Dag1', 'Dync2li1', 'Abhd10', 'Mlc1', 'Cx3cr1', 'Ano6', 'Gm996', 'Timm17b', 'Clcn6', 'Vps9d1', 'Arfgap2', 'Prr7', 'Ocrl', 'Akap13', 'Pbdc1', 'Rgs19', 'Bphl', 'Nsa2', 'Gm4950', 'Pclo', 'Itih5', 'Lpl', 'Jsrp1', 'Wipf3', 'Gm49333', 'Nrxn2', 'Lztr1', 'Epc1', 'Flrt2', 'Mrpl27', 'Srsf9', 'C2', 'Rhob', 'Crlf2', 'Adcy8', 'Mob2', 'Rplp2', 'Dusp19', 'Gm7324', 'Adam23', 'Cpox', 'Nipsnap3b', 'Trp53i13', 'Cplx3', 'Tmem242', 'Ier3', 'Yeats2', 'Gnl3', 'Aif1', 'Arhgef15', 'Srsf4', 'Ubap1', 'Mtus2', 'Oxa1l', 'Nat8f1', 'Tceal1', 'Lrrc8a', 'Nudt18', 'Rbms3', 'Rtn3', 'Pacsin3', 'Kbtbd4', 'Ctsb', 'Trappc12', 'Clcn2', 'Mier3', 'Wsb1', 'Hist1h1c', 'Gpr37l1', 'Syn2', 'Neurod2', 'Dcun1d2', 'Zfand5', 'Fabp5', 'Fam222b', 'Pin4', 'Ube3b', 'Wdr46', 'Paip2', 'Zic1', 'Extl1', 'Lsm1', 'Ints9', 'Snip1', 'Ube2ql1', 'Nfib', 'Cdk14', 'Gpkow', 'Rpf1', 'Txndc12', 'Serp1', 'Vat1', 'Ccpg1', 'Cep70', 'Wasf3', 'Guf1', 'Tdp1', 'Ppp2r2a', 'Gabra1', 'Mrrf', 'Luzp2', 'Stambp', 'Ttll11', 'Ptcd2', 'Nsmf', 'E2f3', 'Neurl4', 'Prkdc', 'Glb1', 'Gm11973', 'Vrk3', 'Ccdc90b', 'Hbp1', 'Haghl', 'Uba2', 'Fuz', 'Lrrc8c', 'Chd2', 'Ndufb10', 'Prdx6', 'Usp48', '1110051M20Rik', 'Zdbf2', 'Slc2a8', 'Plec', 'Chpt1', 'Mcrip1', 'Gm26668', 'Anxa5', 'Dennd1b', 'Ubxn2a', 'Rabgap1', 'Trp53rka', 'Epb41', 'Bex1', 'Gm30025', 'Lynx1', 'Sec24a', 'Gfra2', 'Vps33b', 'Apod', 'Farp2', 'Lmbrd1', 'Mt3', 'Cxcl14', 'Diras1', 'C1qbp', 'AI854703', 'Fam228b', 'Kcnn1', 'Lmo1', 'Dlc1', 'Rspry1', 'Polr1a', 'Ppp1r1a', 'Psme3', 'Sel1l3', 'Ift81', 'Pmepa1', 'Irs2', 'Tmem238', 'Fstl5', 'Gm31763', 'Tuba4a', 'Csrp1', 'Pomgnt2', 'Edc3', 'Hnrnpul1', 'Gpx8', 'Dock3', 'Mettl1', 'Aida', 'Serpinb1a', 'Gna11', 'Trappc13', 'Ddx55', 'Gnl1', 'Atpif1', 'Rgs16', 'Pnp', 'Gprc5b', 'Cyfip1', 'Tspan15', 'Caap1', 'Taf1', 'Myo1d', 'Mrps36', 'Prpf4b', 'Ppp1r12b', 'Tm2d1', 'Tead1', 'Lmna', 'Zbtb8os', 'Coq4', 'Strip1', 'Appl2', 'Gap43', 'Gnl3l', 'Myo9a', 'Arid5a', 'Egln1', 'Rps27', 'Nemf', 'Rtn1', 'Ppp2r3d', 'Kdm1a', 'Nptx1', 'Edc4', 'Rp9', 'Ebna1bp2', 'Pknox2', 'Gdpd5', '1600010M07Rik', '1700013F07Rik', 'Ltc4s', 'Usp54', 'Lin54', 'Gpi1', 'Ube2h', 'Sh3bgrl2', 'Nkx6-2', 'Gpc4', 'Praf2', 'Nr1h2', 'Klhl22', 'Rprm', 'Zfp131', '4931428F04Rik', 'Zfp407', 'Sypl', 'Ddx54', 'Golga7', 'Fabp7', 'Zdhhc3', 'Mtg1', 'Aldh18a1', 'Timp4', 'Fkbp1a', 'Kit', 'Szrd1', 'Pnma2', 'Cdyl', 'Ptprk', 'Tmem216', 'Lims1', '2410131K14Rik', 'Gas2l1', 'Sbk1', 'Ftsj3', 'Ppp1r3g', 'Gng11', 'Plxnd1', 'Sfpq', 'Acot11', 'Slc1a2', 'Rnf139', 'Fbxo10', 'Scg3', 'Acsl5', 'Lims2', 'Edem2', 'Srf', 'Snf8', 'Mysm1', 'Cttnbp2nl', 'Jade2', 'Wbp1l', 'Rap1gap2', 'Xylt1', 'Ank', 'Tcf3', 'Bzw2', 'Cpd', 'Gnb5', 'Thumpd3', 'Vps18', 'Ctss', 'Imp4', 'Ndrg4', 'Il18', 'Timp2', 'Gja1', 'Gkap1', 'Rsrc2', 'Cox7a1', 'Dlg1', 'Bmyc', 'Nos1', 'C1d', 'Pigb', '1700084F23Rik', 'Atp5j2', 'Ramp2', 'Smoc1', 'Nfat5', 'Tnnt1', 'Cyfip2', 'Cox11', 'Diaph1', 'Gorasp1', 'Pkib', 'Lamp2', 'Wfdc1', 'Dpp3', 'Pex3', 'Fam193a', 'Slc14a1', 'Wdfy3', 'Miga2', 'Irgq', 'Mrps2', 'Psmd1', 'Fam124a', 'Rab3a', 'Lpcat2', '1600014C10Rik', 'Map4k5', 'Kif5a', 'Gyg', 'Synpo', 'Slco1c1', 'Adgrg1', 'Phc3', '1700008O03Rik', 'Pold4', 'Pkp2', 'Ncl', 'Tmem63c', 'Slc7a4', 'Mrpl9', 'Syt5', 'Zfp219', 'Znhit6', 'Rps14', 'Lrrc45', 'Wscd1', 'Etf1', 'Flii', 'Tm7sf3', 'Gapvd1', 'Pex6', 'Amd1', 'Rbck1', 'Carmil1', 'Os9', 'Fam131a', 'Nolc1', 'Fbxo38', 'Hapln4', 'S1pr5', 'Cyb561d1', 'Tomm22', 'Ap1s1', 'Arpc1a', 'Necab1', 'Gm10684', 'Clip3', 'Lpin2', 'Ermn', 'Stk40', 'Catspere2', 'Gpr180', 'Cnot2', 'Ankrd33b', 'Fcrls', '2900026A02Rik', 'Slc9a3r1', 'Hdlbp', 'Mfhas1', 'Mapre1', 'Rpl17', 'Rptor', 'Cyp51', 'Taf13', 'Fkbp3', 'Dlgap3', 'Arnt2', 'Ufd1', 'Kdm5b', 'Agt', 'Nim1k', 'Lclat1', 'Fry', 'Reep2', 'Dcaf4', 'Uqcr11', 'Itfg1', 'Cnot7', 'Zeb2', 'Sgpl1', 'Abca2', 'Yif1a', 'Ephb6', 'Rbp4', 'Hdac9', 'Psmb3', 'Rnf103', 'Pcolce2', 'Arhgef7', 'Tex261', 'Zfp160', 'Gm45875', 'Slco3a1', 'Fam229b', 'Hras', 'Mfn2', 'Nrxn3', 'Slc32a1', 'Tmcc3', 'Nrip1', 'Phactr3', 'Gm47283', 'Sema4a', 'Csgalnact1', 'Bcar3', 'Akap11', 'Elp4', 'Mast2', 'Nup107', 'Cdkal1', 'Grin2d', 'Eps8', 'Efcab2', 'Bid', 'Ccnd1', 'Eloa', 'Flrt1', 'Atp2b1', 'Prdx5', 'Ginm1', 'E130114P18Rik', 'Fbxl18', 'Kmt2a', 'Akap8', 'Gm20458', 'Git2', 'Adal', 'Slc30a5', 'Tmed1', 'Plscr3', 'Slc20a2', 'Pcbp4', 'Napa', 'Klhl32', 'Batf2', 'Sardh', 'Thbs3', 'Nfia', 'Calb1', 'Ppp1r15a', 'Slc35e1', 'Rnf157', 'Golga1', 'Selenbp1', 'Grik5', 'Acta2', 'Chd5', 'Nrp2', 'Caskin2', 'Hepacam', 'Rnf208', 'Rcan3', 'Naa35', 'Gtf2ird2', 'Kdm7a', 'Mogs', 'Npr2', 'Dazap1', 'Parp6', 'Zfp523', 'Pygm', 'Nwd1', 'Usp2', 'Spin1', 'Zfp354c', 'Tceanc2', 'Dcaf5', 'Kmt5b', 'Napb', 'Dpy19l1', 'Tspan4', 'Bag4', 'Tspoap1', 'Map4k4', 'Slc27a4', 'Rrp36', 'Slc24a2', 'Tpd52', 'Suco', 'Camk2n1', 'Gpc1', 'Cc2d2a', 'P2ry12', 'Blvrb', 'Atp8a2', 'Gart', 'Cnpy2', 'Glcci1', 'Chga', 'Frmd6', 'Paip2b', 'Strn3', 'Plxdc1', 'Dgat1', '9530068E07Rik', 'Ctsz', 'Ophn1', 'Srrm1', 'Acaa1a', 'Mmd', 'Hacd3', 'Cd24a', 'Yy1', 'Adcy1', 'Leng9', 'Trak1', 'Plekha3', 'Pttg1ip', 'Desi1', 'Mypop', 'Prmt3', 'Cst6', 'Exoc6b', 'Cradd', 'Gmds', 'Inpp5f', 'Rrp15', 'Vwf', 'Hbegf', 'Acap3', 'Adgra1', 'Atp5h', 'Scaf8', 'Tmcc1', 'Fkbp5', 'Kif5b', 'Plppr3', 'Hpcal1', 'Zfp207', 'Rapgef1', 'Copb2', 'Jmy', 'Fam107b', 'Spata24', 'Rsrc1', 'Slc5a5', 'Irf3', 'Apba1', 'Gm15564', 'Med12l', 'Snx27', 'Rbx1', 'Arhgef40', 'Chmp1a', 'Pmpcb', 'Rbfa', 'Lypd6', 'Gstk1', 'Hnrnpc', 'Stk16', 'Stxbp3', 'Camk4', 'Gm2694', 'Ttc28', 'Haus1', 'Klhl24', 'Fam214a', 'Rps6kb2', 'Pacs2', 'Map3k13', 'Pde10a', 'Trub2', 'Tbck', 'Cldn5', 'Tceal6', 'Zfp148', 'Smurf2', 'Coq3', 'Mfsd8', 'Kcnc2', 'Dbn1', 'Akirin2', 'Pan3', 'Fam57a', 'Atpaf2', 'Katnal1', 'Slit1', 'Bhlhe41', 'Heph', 'Snrpb', 'Enah', 'Bmpr1a', 'Elavl2', 'Rps27rt', 'Txndc15', 'Ate1', 'Snrk', 'Srgn', 'Scpep1', 'Letm1', 'Lrrc75b', 'Armc7', 'Rps10', 'Fam174a', 'Clta', 'Them4', 'Gm49395', 'Stmn1', 'Rnf24', 'Asxl2', 'Nadk2', 'Maml2', '3110082I17Rik', 'Zdhhc8', 'Cd9', 'Pcsk2', 'Pla2g16', 'Cfl1', 'Vgll4', 'Znfx1', 'Mid1ip1', 'Btbd7', 'Cdk13', 'Emsy', 'Tmem9b', 'Sez6', 'Caskin1', 'Snx10', 'Fbxo22', 'Csad', 'Ctdnep1', 'Map1b', 'Uqcrh', 'Kif21a', 'Atp5g1', 'Bcl10', 'Car10', 'Igsf21', 'Sgpp1', 'Pyurf', 'Pigh', 'Zmiz2', 'Igfbp5', 'Dhdds', 'Nfic', 'Eif2b4', 'Dcun1d1', 'Mrpl17', '1600012H06Rik', 'Rnf220', 'G3bp2', 'Bean1', 'Arrdc3', 'Cebpg', 'Cyth3', 'Zc3h7b', 'Mpc2', 'Pomc', 'Lhx2', 'Srp9', 'Zmat2', 'Hdgfl3', 'Snapc5', 'Ndp', 'Erbb4', 'Ddx50', 'Camkmt', 'Dgcr6', 'Nptxr', 'Traf3', 'Mcmbp', 'Mettl5', 'Dars', 'Myoc', 'Slc7a6os', 'Vps26a', 'Ankrd29', 'Mical2', 'Trim37', 'S100b', 'Slc13a3', 'Hpca', 'Gpm6b', 'Vcpkmt', 'Kcnip4', 'Prr14l', 'Hdac1', 'Rbm33', 'Arhgap26', 'Pitpnm1', 'Tmem209', 'Nol8', 'Tlk2', '0610012G03Rik', 'Sdhaf3', 'Pofut2', 'Rhou', 'Gm26848', 'Mfap3l', '4833420G17Rik', 'Nmnat2', 'Mvb12b', 'Slc25a17', 'Tsc2', 'Eif1a', 'Tyw3', 'Pibf1', 'Rasa3', 'Ccnk', 'Lpcat3', 'Myo18a', 'Nacad', 'Slc25a19', 'Fdxr', 'Arhgap31', 'Pigc', 'Xpo7', 'Syt17', 'A030001D20Rik', 'Deaf1', 'Man2a1', 'Rac1', 'Samd12', 'Sorcs3', 'Arvcf', 'Gdi1', 'Gpr37', 'Cgref1', 'Slc22a23', 'Ubp1', 'Csf1r', 'Gal3st3', 'Rc3h1', 'Rab11fip2', 'Ranbp17', 'Slc44a2', 'Mapk9', 'Nf1', 'Vip', 'Zfp362', 'Epas1', 'Ccdc34', 'Gltp', 'Elp3', 'S100a13', 'Spry2', 'Trpv2', 'Sdsl', 'Abi1', 'Npat', 'Rpgrip1', 'Tubb3', 'Pdia4', 'Llgl1', 'Slc38a1', 'Tmem64', 'Hmox2', 'Setd2', 'Fxyd5', 'Dennd6a', 'Mfsd1', 'Gpd1', 'Ubxn6', 'Olig1', 'Tnfsf12', 'Gpc6', 'Dnajc2', 'Scfd2', 'Larp4b', 'Aldh1l1', 'Rlbp1', 'Tcta', 'Rbm43', 'Kcna2', 'Slc39a9', 'Trp53bp2', 'Alkbh7', 'Prr36', 'Myrf', 'Mageh1', 'Olfml3', 'Zbtb44', 'Ano10', 'Ubr2', 'Tom1l1', 'Ntm', 'Pglyrp1', 'Fxyd1', 'Add2', 'Ap2a1', 'Dock9', 'Cog4', 'Rnf166', 'Hsd17b4', 'Wrb', 'Dnajb12', 'Nampt', 'Gtf3c4', 'Srpk1', 'Ctnnbip1', 'Epb41l4aos', 'Wdr54', 'Lztfl1', 'Tmem201', 'Rfwd3', 'Cbx8', 'Sept8', 'Dhrs3', 'Pcyt1a', 'Cd47', 'Nsfl1c', 'Inpp5e', 'Tnfrsf12a', 'Cdk2ap2', 'Daglb', 'Phgdh', 'Ociad2', 'C030006K11Rik', 'Psme1', 'Dctn2', 'Gpld1', 'Ciz1', 'Usp29', 'Aldoc', 'Sdc4', 'Cbx1', 'Arap2', 'Ldlr', 'Cavin1', 'Btf3', 'Ctsa', 'Atp9a', 'Arrdc2', 'Sf3a3', 'Celf4', 'Plekhm3', 'Sgcd', 'Tceal9', 'Rfx7', 'Phc1', 'Fut8', 'Slc30a1', 'Bdh1', 'Zdhhc1', 'Ppp2r1b', 'Pex11a', 'Pdcd6ip', 'Coro1a', 'Polr2d', 'Pou3f1', 'Ak2', 'Pmp22', 'Sft2d1', 'Sh3bgrl3', 'Atxn7', 'Pias1', 'Camta1', 'Haus2', '2610008E11Rik', 'Arhgef26', 'Sox9', 'Timmdc1', 'Nucb2', 'Tmem245', 'Pwp2', 'Ppfia2', 'Prelid1', 'Unc13b', 'Ccsap', 'Plod1', 'Lrp12', 'Fuom', 'Stat1', 'Polb', 'Usp24', 'Ogdh', 'Zfp281', 'Sh3d19', 'Daam1', 'Mier1', 'Larp6', 'Commd7', 'Rnf41', 'Pcdhga1', 'B230311B06Rik', 'Mllt1', 'Pigs', 'Mettl22', 'Myl9', 'Agk', 'Wls', '1190002N15Rik', 'Smap2', 'Bet1l', 'Phlda3', 'Ralgps1', 'Nprl3', 'Tnrc18', 'Cavin3', 'Prkd1', 'Vars2', 'Snapc2', 'Ap2s1', 'Arf6', 'Slc16a2', 'Igfbp7', 'Evi5', 'Pak2', 'Ndufv3', 'Taf12', 'Asap2', 'Sh3gl2', 'Cpped1', 'Ndufa5', 'Reps2', 'Ptma', 'Asphd2', 'Shoc2', 'Tmbim1', 'Slc27a1', 'Wwc1', 'Cx3cl1', 'Cenpx', 'Tprkb', 'Cdk2ap1', 'Nsun3', 'Cacna1d', 'Kpna4', 'Qpctl', 'Ank2', 'Carhsp1', 'Pfdn2', 'Epb41l2', 'Cyp2j9', 'Epb41l3', 'A430046D13Rik', 'Fmnl2', 'Tmem143', 'Fggy', 'Gria3', 'Nae1', 'Zfr2', 'C1ql1', 'Cenpt', 'Hapln2', 'Rbms1', 'Calm3', 'Zfp654', 'Itch', 'Bbx', 'Dxo', 'Hexim2', 'Ccdc71l', 'Dnajc12', 'Bbc3', 'Cmbl', 'Gemin8', 'Brsk1', 'Ndrg1', 'Tmem86a', 'Slc25a3', 'Dlg5', 'Sos1', 'Dimt1', 'Rasal2', 'Fam53b', 'Lmtk2', 'Hdac7', 'Cachd1', 'Snap91', 'Tom1l2', 'Pcyt1b', 'Tprn', 'Ube2q1', 'Ppp1r16a', 'Rpn2', 'Pir', 'Zdhhc7', 'Mical1', 'Mdh1', 'Sesn3', 'Mfsd14b', 'Prss23', 'Mettl9', 'Nasp', 'Ifitm3', 'Dusp6', 'Zfp467', 'Arhgap23', 'Fam189a1', 'Polr2f', 'Epo', 'Malat1', 'Ehd1', 'Mfge8', 'Usp11', 'Camk2g', 'Enox2', 'S100a1', 'Sbno1', 'Rab3gap1', 'Ubxn7', 'Mapk1ip1', 'Ppp1r1b', 'Rufy2', 'Eif4g3', 'Depdc5', 'Psme2', 'Gm26694', 'Unc5d', 'Aco2', 'Slc27a3', 'Pik3r3', 'Hint1', 'D430019H16Rik', 'Abca7', 'Golm1', 'Add3', 'Spats2', 'Tmem151a', 'Ctdsp2', 'Nup54', 'Atp11c', 'Akap7', 'Eefsec', 'Phb2', 'Anp32e', 'Ecd', 'Sept2', 'Tnrc6a', 'Eef1a1', 'Aamp', 'Nrip3', '2310022B05Rik', 'Psmd10', 'Cntfr', 'Mlst8', 'Trrap', 'Ldah', 'Pfn1', 'Prkaa1', 'Capn10', 'Ppp1r16b', '9130011E15Rik', 'M6pr', 'Mospd3', 'Ago2', 'Dnttip1', 'Spsb1', 'Abca5', 'Mrpl51', 'Spef1', 'Txndc9', 'Gsg1l', 'Sub1', 'Rhno1', 'Filip1l', 'Rraga', 'Rela', 'Ddx3x', 'Tppp', 'Tjp2', 'Arhgap32', 'Gm26733', 'Dennd2a', 'Hmgb1', 'Man1a', 'Ehmt1', 'Ndufa2', 'Mapkapk2', 'Fto', 'Lpar1', 'Apbb2', 'Cd82', 'Dnajb11', 'Sptbn2', 'Olfm2', 'Vps37a', 'Sugp1', 'Taf4', 'Scnm1', 'Mta2', 'Ptpn9', 'Ckb', 'Ramp1', 'Cask', 'Mamld1', 'Foxo1', 'Rps3a1', 'Clcc1', 'Rdh5', 'Mcc', 'Nploc4', 'Zfp451', 'Gabarap', 'Krt10', 'Selenoo', 'Pkn1', 'Dolk', 'mt-Nd5', 'Ckap5', 'Gm15337', 'Slc35b4', 'Rhog', 'Nipa2', 'Unc119', 'Rnf169', 'Zcrb1', 'Pde4d', 'Slc17a7', '1110038F14Rik', 'Ifnar1', 'Ngb', 'Epha3', 'Ctdsp1', 'Cops6', 'Ostm1', 'Nxph1', 'Ctnnd2', 'Ddx41', 'Lamtor1', 'Zhx2', 'Smg8', 'Ttc13', 'Ggact', 'Strn4', 'Klf7', 'Hmgn5', 'Gdf11', 'Nsmce2', 'Dbx2', 'Scyl1', 'Dio2', 'Cry1', 'Rad9a', 'Plcl1', 'Eif4a3', 'Stt3b', 'Nacc2', 'Hist1h4h', 'Brd2', 'Gria4', 'Ufm1', 'Nedd8', 'Bola1', 'Paxx', 'Id4', 'Slc38a3', 'Zfp536', 'Rnf13', 'Snrnp35', 'Rab2b', 'Pla2g15', 'Rassf3', 'Hibch', 'Sap18b', 'Kcmf1', 'Naa38', 'Rnf182', 'Akr7a5', 'Nup214', 'Tma7', 'Psma7', 'Ppp4r1', 'Mrps7', 'Irf9', 'Pnrc2', 'Pten', 'Cspg4', 'Gps2', 'Zfp513', 'Ext1', 'Polr3e', 'Adra1b', 'Mknk2', 'Upf3a', 'Bms1', 'Smim12', 'Spen', 'Mus81', 'Abhd17a', 'Ccdc88a', 'Nav1', 'Rpl22l1', 'R3hcc1l', 'Phkg1', 'Etfb', 'Tet3', 'Nr4a2', 'Aldh5a1', 'Tm9sf3', 'Grm4', 'C1qc', 'Zfp316', 'Foxp4', 'Usp6nl', 'Hipk3', 'Aldh2', 'Abce1', 'Gnb1l', 'Pcid2', 'Mblac2', 'Slc4a8', 'Cep350', 'Pitrm1', 'Carmil3', 'Dbndd2', 'Swsap1', 'Rbmxl1', 'Mdga2', 'Pxdc1', 'Syt16', 'Selenow', 'Col4a1', 'Gm45062', 'Ep400', 'Snupn', 'Sstr2', 'Kpna6', 'Fbxw11', 'Pi4kb', 'Med13l', 'Siah1a', 'Rerg', 'Dph3', 'Cd44', 'Cmc4', 'Cdk5r2', 'Igf2', 'Ube2b', 'Rtkn', 'Ptdss1', 'Ctso', 'Crebrf', 'Itpr2', 'Ncaph2', 'Fnta', 'Uqcrfs1', 'Arl2', 'G6pc3', 'Ing2', 'Snrnp40', 'Myl12a', 'Tgfbr1', 'Mrm3', 'Arhgef1', 'Trpm2', '4933434E20Rik', 'Robo1', 'Ext2', 'Tmem114', 'Ago1', 'Slc38a2', 'Klc4', 'Pogk', 'Mib1', 'Gm42477', 'Setd3', 'Psmf1', 'Plin3', 'Mrps34', 'Stk11ip', 'Gadd45gip1', 'Utp11', 'Hsd11b1', 'Stard13', 'Abca1', 'Ercc5', 'Slain1', 'Cox16', 'Clec2l', 'Spata2', 'Gsn', 'D10Jhu81e', 'Mettl3', 'Exosc5', 'Cmip', 'Raph1', 'Gnai3', 'Ackr1', 'Phkg2', 'Fam117b', 'Lbhd1', 'Frmd5', 'Dmd', 'Nr4a1', 'Josd2', 'Becn1', 'Patz1', 'Cacna2d3', 'Jmjd1c', 'Ndn', 'Lgalsl', 'Zbtb18', 'Lrrk2', 'Zcchc24', 'Ighmbp2', 'Rassf5', 'Fam184a', 'Plp1', 'Wdr83', 'Jakmip3', 'Usp8', 'Wipi1', 'Ccdc92', 'Zfpm2', 'Ywhae', 'Akap1', 'Hps3', 'Metrn', 'Gtf2i', 'Nol3', 'Tcf12', 'Tst', 'Utp20', 'Gm26518', 'BC037034', 'Rabl6', 'Rps8', 'Por', 'Rnf19a', 'Efnb3', 'Kcnmb4os2', 'Lrrc10b', 'Lst1', 'Mmp17', 'Acot1', 'Utrn', 'Amdhd2', 'Ptpn23', 'Svbp', 'Slc6a6', 'Lemd2', 'Flywch1', 'Aptx', 'Arhgef10l', 'Rsph9', 'Atl1', 'Txnl4b', 'Lman2l', '1110008F13Rik', 'St3gal6', 'Agpat1', 'Shank2', 'Rgma', 'Khsrp', 'Pde7b', 'Kcnk3', 'Cpe', 'Atp1b2', 'Mrps18c', 'Acaca', 'Med11', 'Acat2', 'Tob2', 'Zgpat', 'Sec61a1', 'Gmeb2', 'Ncoa3', 'Fnbp1l', 'Rab27b', 'Ubb', 'Nme6', 'Tns3', 'Gbe1', 'C030014I23Rik', 'A830010M20Rik', 'Clstn1', 'Lamb2', 'Abcf1', 'Otud7b', 'Mdm2', 'Abhd15', 'Luc7l3', '4931406C07Rik', 'Wdr55', 'Kif21b', 'Bend6', 'Alkbh1', 'Wdr11', 'Srrm3', 'Alkbh4', 'Stx1a', 'Abcb1a', 'Pantr1', 'N6amt1', 'Brox', 'Senp6', 'Vti1b', 'Nell2', 'Atg2b', 'Mnt', 'Xrcc5', 'Yaf2', 'Osbp', 'Cyth1', 'Khdrbs1', 'Hsd17b2', 'Meis2', 'Hook3', 'Mpp4', 'Kl', 'Ykt6', 'March8', 'Kcnk12', 'Slc2a1', 'Ssfa2', 'Sox6', 'Tnip1', 'Cfl2', 'Lyrm9', 'Ufsp1', 'Gfap', 'Sgk1', 'Glrx2', 'Rnf20', 'Crebbp', 'Cln8', 'Slc25a11', 'Rfesd', 'Pomt1', 'Kcnj6', 'Ddx49', 'Rcc1l', 'Prkar1a', 'Dcp1b', 'Cox6c', 'Mcph1', 'Gm32061', 'Amer2', 'H2-DMa', 'Pdss2', 'Mthfs', 'Id1', 'Pygb', 'Impdh1', 'Prom1', 'Dusp3', 'Wdr41', 'Rgcc', 'Rprd1a', 'Nup205', 'Chn1os3', 'Ptgs2', 'Mpg', 'Ndufaf5', 'Taf11', 'Slc4a4', 'Thoc3', 'Miga1', 'Sh3kbp1', 'Gtf3c5', 'Slc9a3r2', 'Hipk2', 'Strbp', 'Lage3', 'Tnk2', 'Mef2c', 'Slc44a1', 'Klf15', 'Vstm2l', 'Hsdl2', 'Fbxo33', 'Dync2h1', 'Gatsl2', 'Ptpn1', 'Gnb2', 'Oaz2', 'Bin1', 'Phactr1', 'Ctcf', 'Eif3a', 'Wdr4', 'Ak5', 'Bcap31', 'Trpm7', 'Lrrc51', 'Exosc3', 'Med9', 'Ulk1', 'Arhgap5', 'Ephx1', 'Gm36198', 'Plat', 'Ints4', 'Dbi', 'Ctps2', 'Snrpg', 'Tbl1xr1', 'Snapin', 'Ppp3cc', 'Gpr107', 'Cyp2j6', 'Edil3', 'Snu13', 'Zswim7', 'Dcaf12l1', 'Scara3', 'Dkk3', 'Aifm3', 'E2f5', 'Bc1', 'Dnajc1', 'Erlin2', 'Notch2', 'Syncrip', 'Strn', 'Aspscr1', 'Brd3', 'Surf1', 'Tmod1', 'Rassf2', 'Lmo3', 'Vezf1', 'Them6', 'Mkrn2', 'Nr2f2', 'Cul9', 'Panx1', 'Sppl2a', 'Phka1', 'Erich1', '4933427D14Rik', 'Eif3b', 'Dclk1', 'Baalc', 'Amot', 'Ndufv2', 'Chd6', 'Atp1b1', 'Ahcyl1', 'Tbc1d13', 'Dctpp1', 'Myl6', 'Cav1', 'Pla2g6', 'Smu1', 'Dcxr', 'Zfp157', 'Skiv2l2', 'Wdr70', 'Grb14', 'Reep1', 'Mnat1', 'Camk2a', 'Clk3', 'Sil1', 'Ckmt1', 'Picalm', 'Insr', 'Haus7', 'Cetn3', 'Tmem218', 'Foxo3', 'Gpatch11', 'Slc45a4', 'Tns1', 'Itgb1', 'Gabrg3', 'CT025619.1', 'Zmym3', 'Mark4', 'Kmt5a', 'Ski', 'Nudc', 'Limch1', 'Npc2', 'Pacsin2', 'Helz', 'Jmjd8', 'Trim46', 'Cep63', 'Gnas', 'Zfp330', 'Nebl', 'Ddx1', 'Pcnx4', 'Ube2f', 'Srsf6', 'Slc7a2', 'Slc39a12', 'Mvd', 'Pcdh17', 'Srp72', 'Efna2', 'Kcnc4', 'Psmb8', 'Gpsm1', 'Naa20', 'Cap2', 'Msx1', 'Gm45785', 'Rpa2', 'Etfrf1', 'Ssbp1', 'Tbc1d14', 'Emp2', 'Nipa1', 'Vcam1', 'Cers4', 'Sipa1l2', 'Bgn', 'Tmem222', 'Dynlrb1', 'Pkp4', 'Mamdc4', 'Card19', 'Nutf2-ps1', 'Smg6', 'Derl1', 'Dynlt1a', 'Dnm2', 'Ptp4a3', 'Specc1', 'Coq5', 'Eml1', 'Stk24', 'Fnbp1', 'Gpatch2', 'Oplah', 'Akap5', 'Fam109a', 'Dvl2', 'Ppp2cb', 'Wwox', 'Eri1', 'Apex1', 'Rbmx2', 'Grik2', 'Pdf', 'B3galt1', 'Scd1', 'Slc35f6', 'Dlgap1', 'Pex5l', 'Zfyve1', 'Adipor2', 'Ly6e', 'Tti2', 'Rab9', 'Pmm1', 'Wnk3', 'Ubn1', 'Fcho1', 'Ccdc186', 'Grin1os', 'Snap25', 'Ephb1', 'Ppp3r1', 'Adam15', 'Ptchd4', 'Ntmt1', 'Kcnma1', '9330182L06Rik', 'Nme3', 'Ccdc130', 'Las1l', 'Cdc40', 'Clec16a', 'Herc2', 'Rpl10-ps3', 'Sipa1l3', 'Itgav', 'Fndc3b', 'Cul7', 'Nucb1', 'Mbp', 'Cln5', 'Rbm11', 'Sox4', 'Nop58', 'Arid2', 'Agtrap', 'Ndfip1', 'Cemip', 'Esf1', 'Kcnj3', 'Rprml', 'Ints1', 'Gstp1', 'Yeats4', 'Gmeb1', 'Fuk', 'Lrrc28', 'Cacnb3', 'Zfp746', 'Gm43713', 'Elavl1', 'Ankrd50', 'Alcam', 'Ino80c', 'Ndufb6', 'Gemin5', 'Noc2l', 'Dnm1l', 'Nop10', 'Zfp386', 'Crym', 'Flot2', 'Limd1', 'Cyp20a1', 'Slc1a4', 'Siae', 'Cdipt', 'Gdap1l1', 'Rhbdl3', 'Dctn4', 'Smim20', 'Lyrm7', 'Supv3l1', 'Plekhg1', 'Spopl', 'Cntln', 'Sec23b', 'Mfap1a', 'Chkb', 'Klf2', 'Ctsl', 'Ndufaf2', 'Irf2', 'Tmem144', 'Fbxw8', 'Hilpda', 'Mrpl36', 'Zmat3', 'Scg5', 'Pex13', 'Dhx38', 'Ccnd2', 'Nfatc2', 'Xkr6', 'Vldlr', 'Zfand1', 'Aldh9a1', 'Adamts3', 'Igf1r', 'Rab11fip3', 'Spred1', 'Hbb-bs', 'Anapc13', 'Adam10', 'E2f1', 'Kcnh2', 'Itm2a', 'Tomm20', 'Btg2', 'Tjap1', 'Fgd4', 'Rce1', 'Glt8d1', 'P2rx4', 'Ahcy', 'Thap2', 'Cdan1', 'Rps12', 'Slc7a1', 'Xrcc1', 'Chmp4b', 'Itpkb', 'Dcaf6', 'Zkscan14', 'Sccpdh', 'Adgrl4', 'Cmss1', 'Vegfa', 'Tceal3', 'Csf1', 'Mdh2', 'Ppm1l', 'Elmod3', 'Fbxo9', 'Lsm2', 'Fn3k', 'Cuedc2', 'Anxa2', 'Tmsb10', 'Fam89b', 'Camkk2', 'Wdr36', 'Wdr91', 'Tnfrsf19', 'Plekha1', 'Taf10', 'Copg2', 'Slc25a18', 'Usp22', 'Rxra', 'Capn15', 'Rin1', 'Tmem208', 'Maf', 'Pbrm1', 'Rbm4b', 'Nxt2', 'Rnf144a', 'Jpt1', '9030624J02Rik', 'Ppib', 'Prodh', 'Mplkip', 'Ccdc82', 'Rims3', 'Far1', 'Gatd1', 'Ndc1', 'Sacs', 'Sema6d', 'Slc30a4', 'Rps6kc1', 'AY036118', 'Sart1', 'Fmn2', 'Rtn4', 'Klf6', 'Rit1', 'Selenom', 'Scrn1', 'Dnajb14', 'Usp30', 'March7', 'Tmod2', 'Pusl1', 'Arhgap17', 'Cnih2', 'Dennd4b', 'Nsf', 'Sec14l2', 'Purg', 'Kdm4b', 'Fbxl2', 'Fam20a', 'Bnip2', 'AC154200.1', 'Zfp827', 'Ubr4', 'Rcn3', 'Fem1c', 'Dpy19l4', 'Slc19a1', 'Pgm2', 'Golgb1', 'Satb1', 'Arhgap21', 'Orai1', 'Siglech', 'Pycard', 'Fgfr2', 'Vwa1', 'Zfp282', 'Psat1', 'Mocs3', 'Kcnj10', 'Ddx46', 'Zcchc11', 'Neto1', 'Tnfrsf21', 'Efcab14', 'Synpr', 'Nop9', 'Telo2', 'Blvra', 'Rgs10', 'Zdhhc21', 'Zfp217', 'Repin1', 'Arpin', 'Kmt2c', 'Gigyf1', 'AC149090.1', 'St18', 'Nr1d1', 'Lrrc41', 'Rnd2', 'Hectd2', 'Reep5', 'Zkscan6', 'Rbm17', 'Psma6', 'Xiap', 'Trbc2', '2610001J05Rik', 'Iqgap1', 'Tesk1', 'Sik2', 'Jam2', 'Dennd1a']), 'obs_dfs': [                                 gene_area          annotation species_id  \\\n",
      "668_1414_Macaque_T36_4  Macaque_background  Macaque_background    Macaque   \n",
      "668_1415_Macaque_T36_4  Macaque_background  Macaque_background    Macaque   \n",
      "668_1416_Macaque_T36_4  Macaque_background  Macaque_background    Macaque   \n",
      "668_1417_Macaque_T36_4  Macaque_background  Macaque_background    Macaque   \n",
      "668_1418_Macaque_T36_4  Macaque_background  Macaque_background    Macaque   \n",
      "...                                    ...                 ...        ...   \n",
      "911_1362_Macaque_T36_4  Macaque_background  Macaque_background    Macaque   \n",
      "911_1363_Macaque_T36_4  Macaque_background  Macaque_background    Macaque   \n",
      "911_1364_Macaque_T36_4  Macaque_background  Macaque_background    Macaque   \n",
      "911_1365_Macaque_T36_4  Macaque_background  Macaque_background    Macaque   \n",
      "911_1366_Macaque_T36_4  Macaque_background  Macaque_background    Macaque   \n",
      "\n",
      "                       batch_name slice_name louvain mclust mclust_separate  \\\n",
      "668_1414_Macaque_T36_4      T36_4      T36_4       0      9               9   \n",
      "668_1415_Macaque_T36_4      T36_4      T36_4       0      9               9   \n",
      "668_1416_Macaque_T36_4      T36_4      T36_4       0      6               6   \n",
      "668_1417_Macaque_T36_4      T36_4      T36_4       0      6               6   \n",
      "668_1418_Macaque_T36_4      T36_4      T36_4       0      6               6   \n",
      "...                           ...        ...     ...    ...             ...   \n",
      "911_1362_Macaque_T36_4      T36_4      T36_4       0      9               9   \n",
      "911_1363_Macaque_T36_4      T36_4      T36_4       2      9               9   \n",
      "911_1364_Macaque_T36_4      T36_4      T36_4       0      6               6   \n",
      "911_1365_Macaque_T36_4      T36_4      T36_4       0      6               6   \n",
      "911_1366_Macaque_T36_4      T36_4      T36_4       0      1               1   \n",
      "\n",
      "                       STAGATE_annotation      region         region_name  \\\n",
      "668_1414_Macaque_T36_4         background  background  Macaque_background   \n",
      "668_1415_Macaque_T36_4         background  background  Macaque_background   \n",
      "668_1416_Macaque_T36_4         background  background  Macaque_background   \n",
      "668_1417_Macaque_T36_4         background  background  Macaque_background   \n",
      "668_1418_Macaque_T36_4         background  background  Macaque_background   \n",
      "...                                   ...         ...                 ...   \n",
      "911_1362_Macaque_T36_4         background  background  Macaque_background   \n",
      "911_1363_Macaque_T36_4         background  background  Macaque_background   \n",
      "911_1364_Macaque_T36_4         background  background  Macaque_background   \n",
      "911_1365_Macaque_T36_4         background  background  Macaque_background   \n",
      "911_1366_Macaque_T36_4         background  background  Macaque_background   \n",
      "\n",
      "                        Macaque ITPKA  Macaque AMIGO2  Macaque HS3ST4  \\\n",
      "668_1414_Macaque_T36_4            0.0             0.0             0.0   \n",
      "668_1415_Macaque_T36_4            0.0             0.0             0.0   \n",
      "668_1416_Macaque_T36_4            0.0             0.0             0.0   \n",
      "668_1417_Macaque_T36_4            0.0             0.0             0.0   \n",
      "668_1418_Macaque_T36_4            0.0             0.0             0.0   \n",
      "...                               ...             ...             ...   \n",
      "911_1362_Macaque_T36_4            0.0             0.0             0.0   \n",
      "911_1363_Macaque_T36_4            0.0             0.0             0.0   \n",
      "911_1364_Macaque_T36_4            0.0             0.0             0.0   \n",
      "911_1365_Macaque_T36_4            0.0             0.0             0.0   \n",
      "911_1366_Macaque_T36_4            0.0             0.0             0.0   \n",
      "\n",
      "                        Macaque LRRTM4 cluster_region clust_lbs  \n",
      "668_1414_Macaque_T36_4             0.0             17         6  \n",
      "668_1415_Macaque_T36_4             0.0             27        18  \n",
      "668_1416_Macaque_T36_4             0.0            191       182  \n",
      "668_1417_Macaque_T36_4             0.0              1         3  \n",
      "668_1418_Macaque_T36_4             0.0             60         7  \n",
      "...                                ...            ...       ...  \n",
      "911_1362_Macaque_T36_4             0.0            159        18  \n",
      "911_1363_Macaque_T36_4             0.0            173        72  \n",
      "911_1364_Macaque_T36_4             0.0             11        20  \n",
      "911_1365_Macaque_T36_4             0.0              1         3  \n",
      "911_1366_Macaque_T36_4             0.0             51         6  \n",
      "\n",
      "[28499 rows x 17 columns],                     loci         gene_area  xbin  ybin        annotation  \\\n",
      "0_Mouse_T315_4     12504  Mouse_background    97    88  Mouse_background   \n",
      "1_Mouse_T315_4     12505  Mouse_background    97    89  Mouse_background   \n",
      "2_Mouse_T315_4     12506  Mouse_background    97    90  Mouse_background   \n",
      "3_Mouse_T315_4     12507  Mouse_background    97    91  Mouse_background   \n",
      "4_Mouse_T315_4     12508  Mouse_background    97    92  Mouse_background   \n",
      "...                  ...               ...   ...   ...               ...   \n",
      "4535_Mouse_T315_4  27733  Mouse_background   216    85  Mouse_background   \n",
      "4536_Mouse_T315_4  27853  Mouse_background   217    77  Mouse_background   \n",
      "4537_Mouse_T315_4  27854  Mouse_background   217    78  Mouse_background   \n",
      "4538_Mouse_T315_4  27855  Mouse_background   217    79  Mouse_background   \n",
      "4539_Mouse_T315_4  27856  Mouse_background   217    80  Mouse_background   \n",
      "\n",
      "                  species_id batch_name slice_name louvain mclust  \\\n",
      "0_Mouse_T315_4         Mouse     T315_4     T315_4       4     11   \n",
      "1_Mouse_T315_4         Mouse     T315_4     T315_4       4     11   \n",
      "2_Mouse_T315_4         Mouse     T315_4     T315_4       4     11   \n",
      "3_Mouse_T315_4         Mouse     T315_4     T315_4       4     11   \n",
      "4_Mouse_T315_4         Mouse     T315_4     T315_4       4     11   \n",
      "...                      ...        ...        ...     ...    ...   \n",
      "4535_Mouse_T315_4      Mouse     T315_4     T315_4       5     10   \n",
      "4536_Mouse_T315_4      Mouse     T315_4     T315_4       4     11   \n",
      "4537_Mouse_T315_4      Mouse     T315_4     T315_4       0      9   \n",
      "4538_Mouse_T315_4      Mouse     T315_4     T315_4       5     11   \n",
      "4539_Mouse_T315_4      Mouse     T315_4     T315_4       5     11   \n",
      "\n",
      "                  mclust_separate STAGATE_annotation      region  \\\n",
      "0_Mouse_T315_4                 11         background  background   \n",
      "1_Mouse_T315_4                 11         background  background   \n",
      "2_Mouse_T315_4                 11         background  background   \n",
      "3_Mouse_T315_4                 11         background  background   \n",
      "4_Mouse_T315_4                 11         background  background   \n",
      "...                           ...                ...         ...   \n",
      "4535_Mouse_T315_4              10         background  background   \n",
      "4536_Mouse_T315_4              11         background  background   \n",
      "4537_Mouse_T315_4               9         background  background   \n",
      "4538_Mouse_T315_4              11         background  background   \n",
      "4539_Mouse_T315_4              11         background  background   \n",
      "\n",
      "                        region_name  Mouse Itpka  Mouse Amigo2  Mouse Hs3st4  \\\n",
      "0_Mouse_T315_4     Mouse_background          0.0           0.0           0.0   \n",
      "1_Mouse_T315_4     Mouse_background          0.0           0.0           0.0   \n",
      "2_Mouse_T315_4     Mouse_background          0.0           0.0           0.0   \n",
      "3_Mouse_T315_4     Mouse_background          0.0           0.0           0.0   \n",
      "4_Mouse_T315_4     Mouse_background          0.0           0.0           0.0   \n",
      "...                             ...          ...           ...           ...   \n",
      "4535_Mouse_T315_4  Mouse_background          0.0           0.0           0.0   \n",
      "4536_Mouse_T315_4  Mouse_background          0.0           0.0           0.0   \n",
      "4537_Mouse_T315_4  Mouse_background          0.0           0.0           0.0   \n",
      "4538_Mouse_T315_4  Mouse_background          0.0           0.0           0.0   \n",
      "4539_Mouse_T315_4  Mouse_background          0.0           0.0           0.0   \n",
      "\n",
      "                   Mouse Lrrtm4 cluster_region clust_lbs  \n",
      "0_Mouse_T315_4              0.0             20         5  \n",
      "1_Mouse_T315_4              0.0             37         5  \n",
      "2_Mouse_T315_4              0.0             74        72  \n",
      "3_Mouse_T315_4              0.0             20       112  \n",
      "4_Mouse_T315_4              0.0             20         5  \n",
      "...                         ...            ...       ...  \n",
      "4535_Mouse_T315_4           0.0            252         5  \n",
      "4536_Mouse_T315_4           0.0            178         5  \n",
      "4537_Mouse_T315_4           0.0             20        98  \n",
      "4538_Mouse_T315_4           0.0             73        82  \n",
      "4539_Mouse_T315_4           0.0             20         5  \n",
      "\n",
      "[4540 rows x 20 columns]], 'dataset_names': ('Macaque', 'Mouse'), 'ntypes': {'o': 'cell', 'v': 'gene'}, 'etypes': {'ov': 'express', 'vo': 'expressed_by', 'vv': 'homolog_with', 'oo': 'similar_to'}}\n",
      "6340\n",
      "5234\n",
      "Region name 668_1414_Macaque_T36_4    Macaque_background\n",
      "668_1415_Macaque_T36_4    Macaque_background\n",
      "668_1416_Macaque_T36_4    Macaque_background\n",
      "668_1417_Macaque_T36_4    Macaque_background\n",
      "668_1418_Macaque_T36_4    Macaque_background\n",
      "                                 ...        \n",
      "911_1362_Macaque_T36_4    Macaque_background\n",
      "911_1363_Macaque_T36_4    Macaque_background\n",
      "911_1364_Macaque_T36_4    Macaque_background\n",
      "911_1365_Macaque_T36_4    Macaque_background\n",
      "911_1366_Macaque_T36_4    Macaque_background\n",
      "Name: region_name, Length: 28499, dtype: category\n",
      "Categories (9, object): ['Macaque_CA1', 'Macaque_CA2', 'Macaque_CA3', 'Macaque_CA4', ..., 'Macaque_SUB', 'Macaque_background', 'Macaque_paraS', 'Macaque_preS']\n",
      "Region name 0_Mouse_T315_4       Mouse_background\n",
      "1_Mouse_T315_4       Mouse_background\n",
      "2_Mouse_T315_4       Mouse_background\n",
      "3_Mouse_T315_4       Mouse_background\n",
      "4_Mouse_T315_4       Mouse_background\n",
      "                           ...       \n",
      "4535_Mouse_T315_4    Mouse_background\n",
      "4536_Mouse_T315_4    Mouse_background\n",
      "4537_Mouse_T315_4    Mouse_background\n",
      "4538_Mouse_T315_4    Mouse_background\n",
      "4539_Mouse_T315_4    Mouse_background\n",
      "Name: region_name, Length: 4540, dtype: category\n",
      "Categories (5, object): ['Mouse_CA1', 'Mouse_CA2', 'Mouse_CA3', 'Mouse_DG', 'Mouse_background']\n",
      "{'CA1': '#CD4537', 'CA2': '#F59E1D', 'CA3': '#28AF60', 'DG': '#3A97D2', 'preS': '#8A4AA2', 'SUB': '#6E4D44', 'paraS': '#F1C7BC', 'CA4': '#FFACD5', 'Background': '#7FCBBE'}\n",
      "{'Macaque_CA1': '#CD4537', 'Macaque_CA2': '#F59E1D', 'Macaque_CA3': '#28AF60', 'Macaque_DG': '#3A97D2', 'Macaque_preS': '#8A4AA2', 'Macaque_SUB': '#6E4D44', 'Macaque_paraS': '#F1C7BC', 'Macaque_CA4': '#FFACD5', 'Macaque_background': '#7FCBBE', 'Mouse_CA1': '#CD4537', 'Mouse_CA2': '#F59E1D', 'Mouse_CA3': '#28AF60', 'Mouse_DG': '#3A97D2', 'Mouse_background': '#7FCBBE'}\n",
      "{'Macaque_CA1': 'CA1', 'Macaque_CA2': 'CA2', 'Macaque_CA3': 'CA3', 'Macaque_DG': 'DG', 'Macaque_preS': 'preS', 'Macaque_SUB': 'SUB', 'Macaque_paraS': 'paraS', 'Macaque_CA4': 'CA4', 'Macaque_background': 'Background'}\n"
     ]
    },
    {
     "name": "stderr",
     "output_type": "stream",
     "text": [
      "... storing 'dataset' as categorical\n",
      "... storing 'acronym' as categorical\n",
      "... storing 'color_hex_triplet' as categorical\n",
      "... storing 'dataset' as categorical\n",
      "... storing 'acronym' as categorical\n",
      "... storing 'color_hex_triplet' as categorical\n",
      "... storing 'region_name' as categorical\n",
      "... storing 'dataset' as categorical\n",
      "... storing 'acronym' as categorical\n",
      "... storing 'color_hex_triplet' as categorical\n",
      "... storing 'annotation' as categorical\n"
     ]
    },
    {
     "name": "stdout",
     "output_type": "stream",
     "text": [
      "[(0.6509803921568628, 0.807843137254902, 0.8901960784313725), (0.12156862745098039, 0.47058823529411764, 0.7058823529411765)]\n",
      "{'Mouse': '#FE1613', 'Macaque': '#5D8AEF'}\n",
      "adata_human_embedding.X.shape (4540, 128)\n",
      "adata_mouse_embedding.X.shape (28499, 128)\n"
     ]
    },
    {
     "name": "stderr",
     "output_type": "stream",
     "text": [
      "2024-03-29 00:26:37,467 font_manager.py-832-set_size(): INFO\n",
      " Fontsize 0.00 < 1.0 pt not allowed by FreeType. Setting fontsize = 1 pt\n",
      "2024-03-29 00:26:37,468 font_manager.py-832-set_size(): INFO\n",
      " Fontsize 0.00 < 1.0 pt not allowed by FreeType. Setting fontsize = 1 pt\n",
      "2024-03-29 00:26:37,469 font_manager.py-832-set_size(): INFO\n",
      " Fontsize 0.00 < 1.0 pt not allowed by FreeType. Setting fontsize = 1 pt\n",
      "2024-03-29 00:26:37,470 font_manager.py-832-set_size(): INFO\n",
      " Fontsize 0.00 < 1.0 pt not allowed by FreeType. Setting fontsize = 1 pt\n",
      "2024-03-29 00:26:37,471 font_manager.py-832-set_size(): INFO\n",
      " Fontsize 0.00 < 1.0 pt not allowed by FreeType. Setting fontsize = 1 pt\n",
      "2024-03-29 00:26:37,472 font_manager.py-832-set_size(): INFO\n",
      " Fontsize 0.00 < 1.0 pt not allowed by FreeType. Setting fontsize = 1 pt\n",
      "2024-03-29 00:26:37,474 font_manager.py-832-set_size(): INFO\n",
      " Fontsize 0.00 < 1.0 pt not allowed by FreeType. Setting fontsize = 1 pt\n",
      "2024-03-29 00:26:37,475 font_manager.py-832-set_size(): INFO\n",
      " Fontsize 0.00 < 1.0 pt not allowed by FreeType. Setting fontsize = 1 pt\n",
      "2024-03-29 00:26:37,476 font_manager.py-832-set_size(): INFO\n",
      " Fontsize 0.00 < 1.0 pt not allowed by FreeType. Setting fontsize = 1 pt\n",
      "2024-03-29 00:26:37,477 font_manager.py-832-set_size(): INFO\n",
      " Fontsize 0.00 < 1.0 pt not allowed by FreeType. Setting fontsize = 1 pt\n",
      "2024-03-29 00:26:37,478 font_manager.py-832-set_size(): INFO\n",
      " Fontsize 0.00 < 1.0 pt not allowed by FreeType. Setting fontsize = 1 pt\n",
      "2024-03-29 00:26:37,479 font_manager.py-832-set_size(): INFO\n",
      " Fontsize 0.00 < 1.0 pt not allowed by FreeType. Setting fontsize = 1 pt\n",
      "2024-03-29 00:26:37,480 font_manager.py-832-set_size(): INFO\n",
      " Fontsize 0.00 < 1.0 pt not allowed by FreeType. Setting fontsize = 1 pt\n",
      "2024-03-29 00:26:37,481 font_manager.py-832-set_size(): INFO\n",
      " Fontsize 0.00 < 1.0 pt not allowed by FreeType. Setting fontsize = 1 pt\n",
      "2024-03-29 00:26:37,482 font_manager.py-832-set_size(): INFO\n",
      " Fontsize 0.00 < 1.0 pt not allowed by FreeType. Setting fontsize = 1 pt\n",
      "2024-03-29 00:26:37,483 font_manager.py-832-set_size(): INFO\n",
      " Fontsize 0.00 < 1.0 pt not allowed by FreeType. Setting fontsize = 1 pt\n",
      "2024-03-29 00:26:37,484 font_manager.py-832-set_size(): INFO\n",
      " Fontsize 0.00 < 1.0 pt not allowed by FreeType. Setting fontsize = 1 pt\n",
      "2024-03-29 00:26:37,485 font_manager.py-832-set_size(): INFO\n",
      " Fontsize 0.00 < 1.0 pt not allowed by FreeType. Setting fontsize = 1 pt\n",
      "2024-03-29 00:26:37,486 font_manager.py-832-set_size(): INFO\n",
      " Fontsize 0.00 < 1.0 pt not allowed by FreeType. Setting fontsize = 1 pt\n",
      "2024-03-29 00:26:37,487 font_manager.py-832-set_size(): INFO\n",
      " Fontsize 0.00 < 1.0 pt not allowed by FreeType. Setting fontsize = 1 pt\n",
      "2024-03-29 00:26:37,488 font_manager.py-832-set_size(): INFO\n",
      " Fontsize 0.00 < 1.0 pt not allowed by FreeType. Setting fontsize = 1 pt\n",
      "2024-03-29 00:26:37,489 font_manager.py-832-set_size(): INFO\n",
      " Fontsize 0.00 < 1.0 pt not allowed by FreeType. Setting fontsize = 1 pt\n",
      "2024-03-29 00:26:37,490 font_manager.py-832-set_size(): INFO\n",
      " Fontsize 0.00 < 1.0 pt not allowed by FreeType. Setting fontsize = 1 pt\n",
      "2024-03-29 00:26:37,491 font_manager.py-832-set_size(): INFO\n",
      " Fontsize 0.00 < 1.0 pt not allowed by FreeType. Setting fontsize = 1 pt\n",
      "2024-03-29 00:26:37,491 font_manager.py-832-set_size(): INFO\n",
      " Fontsize 0.00 < 1.0 pt not allowed by FreeType. Setting fontsize = 1 pt\n",
      "2024-03-29 00:26:37,492 font_manager.py-832-set_size(): INFO\n",
      " Fontsize 0.00 < 1.0 pt not allowed by FreeType. Setting fontsize = 1 pt\n",
      "2024-03-29 00:26:37,493 font_manager.py-832-set_size(): INFO\n",
      " Fontsize 0.00 < 1.0 pt not allowed by FreeType. Setting fontsize = 1 pt\n",
      "2024-03-29 00:26:37,494 font_manager.py-832-set_size(): INFO\n",
      " Fontsize 0.00 < 1.0 pt not allowed by FreeType. Setting fontsize = 1 pt\n",
      "2024-03-29 00:26:37,495 font_manager.py-832-set_size(): INFO\n",
      " Fontsize 0.00 < 1.0 pt not allowed by FreeType. Setting fontsize = 1 pt\n",
      "2024-03-29 00:26:37,496 font_manager.py-832-set_size(): INFO\n",
      " Fontsize 0.00 < 1.0 pt not allowed by FreeType. Setting fontsize = 1 pt\n",
      "2024-03-29 00:26:37,497 font_manager.py-832-set_size(): INFO\n",
      " Fontsize 0.00 < 1.0 pt not allowed by FreeType. Setting fontsize = 1 pt\n",
      "2024-03-29 00:26:37,497 font_manager.py-832-set_size(): INFO\n",
      " Fontsize 0.00 < 1.0 pt not allowed by FreeType. Setting fontsize = 1 pt\n"
     ]
    },
    {
     "name": "stdout",
     "output_type": "stream",
     "text": [
      "AnnData object with n_obs × n_vars = 33039 × 128\n",
      "    obs: 'region_name', 'dataset', 'acronym', 'color_hex_triplet', 'annotation'\n"
     ]
    },
    {
     "name": "stderr",
     "output_type": "stream",
     "text": [
      "... storing 'region_name' as categorical\n",
      "... storing 'dataset' as categorical\n",
      "... storing 'acronym' as categorical\n",
      "... storing 'color_hex_triplet' as categorical\n",
      "... storing 'annotation' as categorical\n",
      "... storing 'region_name' as categorical\n",
      "... storing 'dataset' as categorical\n",
      "... storing 'acronym' as categorical\n",
      "... storing 'color_hex_triplet' as categorical\n",
      "... storing 'annotation' as categorical\n"
     ]
    },
    {
     "name": "stdout",
     "output_type": "stream",
     "text": [
      "{'Mouse_CA1': '#CD4537', 'Mouse_CA2': '#F59E1D', 'Mouse_CA3': '#28AF60', 'Mouse_DG': '#3A97D2', 'Mouse_background': '#7FCBBE'}\n",
      "       Mouse      Macaque\n",
      "0  Mouse_CA1  Macaque_CA1\n",
      "1  Mouse_CA2  Macaque_CA2\n",
      "2  Mouse_CA3  Macaque_CA3\n",
      "3   Mouse_DG   Macaque_DG\n",
      "['Macaque_CA1', 'Macaque_CA2', 'Macaque_CA3', 'Macaque_DG', 'Mouse_CA1', 'Mouse_CA2', 'Mouse_CA3', 'Mouse_DG']\n"
     ]
    },
    {
     "name": "stderr",
     "output_type": "stream",
     "text": [
      "... storing 'kmeans11' as categorical\n",
      "... storing 'kmeans22' as categorical\n",
      "... storing 'kmeans64' as categorical\n",
      "... storing 'kmeans100' as categorical\n"
     ]
    },
    {
     "name": "stdout",
     "output_type": "stream",
     "text": [
      "['Macaque_CA1', 'Macaque_CA2', 'Macaque_CA3', 'Macaque_DG', 'Mouse_CA1', 'Mouse_CA2', 'Mouse_CA3', 'Mouse_DG']\n"
     ]
    },
    {
     "name": "stderr",
     "output_type": "stream",
     "text": [
      "... storing 'gene_area' as categorical\n",
      "... storing 'annotation' as categorical\n",
      "... storing 'species_id' as categorical\n",
      "... storing 'batch_name' as categorical\n",
      "... storing 'slice_name' as categorical\n",
      "... storing 'louvain' as categorical\n",
      "... storing 'STAGATE_annotation' as categorical\n",
      "... storing 'region' as categorical\n",
      "... storing 'region_name' as categorical\n",
      "... storing 'dataset' as categorical\n",
      "... storing 'region_name' as categorical\n",
      "... storing 'dataset' as categorical\n",
      "... storing 'acronym' as categorical\n",
      "... storing 'color_hex_triplet' as categorical\n",
      "... storing 'annotation' as categorical\n",
      "... storing 'dataset' as categorical\n"
     ]
    },
    {
     "name": "stdout",
     "output_type": "stream",
     "text": [
      "{'Method': ['Unaligned', 'BrainAlign'], 'Alignment score': [0.5696210727598392, 0.29190770683061423]}\n"
     ]
    },
    {
     "name": "stderr",
     "output_type": "stream",
     "text": [
      "... storing 'dataset' as categorical\n"
     ]
    },
    {
     "name": "stdout",
     "output_type": "stream",
     "text": [
      "AnnData object with n_obs × n_vars = 4540 × 10105\n",
      "    obs: 'loci', 'gene_area', 'xbin', 'ybin', 'annotation', 'species_id', 'batch_name', 'slice_name', 'louvain', 'mclust', 'mclust_separate', 'STAGATE_annotation', 'region', 'region_name', 'Mouse Itpka', 'Mouse Amigo2', 'Mouse Hs3st4', 'Mouse Lrrtm4'\n",
      "    var: 'genenames', 'n_cells', 'highly_variable', 'highly_variable_rank', 'means', 'variances', 'variances_norm'\n",
      "    uns: 'STAGATE_annotation_colors', 'Spatial_Net', 'adj', 'annotation_colors', 'batch_name_colors', 'gene_area_colors', 'hvg', 'log1p', 'louvain', 'louvain_colors', 'mclust_colors', 'mclust_separate_colors', 'neighbors', 'umap'\n",
      "    obsm: 'STAGATE', 'X_umap', 'spatial'\n",
      "    obsp: 'connectivities', 'distances'\n",
      "AnnData object with n_obs × n_vars = 28499 × 14932\n",
      "    obs: 'gene_area', 'annotation', 'species_id', 'batch_name', 'slice_name', 'louvain', 'mclust', 'mclust_separate', 'STAGATE_annotation', 'region', 'region_name', 'Macaque ITPKA', 'Macaque AMIGO2', 'Macaque HS3ST4', 'Macaque LRRTM4'\n",
      "    var: 'highly_variable', 'highly_variable_rank', 'means', 'variances', 'variances_norm'\n",
      "    uns: 'STAGATE_annotation_colors', 'Spatial_Net', 'adj', 'annotation_colors', 'batch_name_colors', 'hvg', 'log1p', 'louvain', 'louvain_colors', 'mclust_colors', 'mclust_separate_colors', 'neighbors', 'umap'\n",
      "    obsm: 'STAGATE', 'X_umap', 'spatial'\n",
      "    obsp: 'connectivities', 'distances'\n",
      "       Mouse      Macaque\n",
      "0  Mouse_CA1  Macaque_CA1\n",
      "1  Mouse_CA2  Macaque_CA2\n",
      "2  Mouse_CA3  Macaque_CA3\n",
      "3   Mouse_DG   Macaque_DG\n",
      "1-th region finished!\n",
      "2-th region finished!\n",
      "3-th region finished!\n",
      "4-th region finished!\n",
      "       Mouse      Macaque\n",
      "0  Mouse_CA1  Macaque_CA1\n",
      "1  Mouse_CA2  Macaque_CA2\n",
      "2  Mouse_CA3  Macaque_CA3\n",
      "3   Mouse_DG   Macaque_DG\n",
      "1-th region finished!\n",
      "2-th region finished!\n",
      "3-th region finished!\n",
      "4-th region finished!\n",
      "5-th region finished!\n",
      "6-th region finished!\n",
      "7-th region finished!\n",
      "8-th region finished!\n",
      "9-th region finished!\n",
      "10-th region finished!\n",
      "11-th region finished!\n",
      "12-th region finished!\n",
      "13-th region finished!\n",
      "14-th region finished!\n",
      "15-th region finished!\n",
      "16-th region finished!\n",
      "17-th region finished!\n",
      "18-th region finished!\n",
      "19-th region finished!\n",
      "20-th region finished!\n",
      "21-th region finished!\n",
      "22-th region finished!\n",
      "23-th region finished!\n",
      "24-th region finished!\n",
      "25-th region finished!\n",
      "26-th region finished!\n",
      "27-th region finished!\n",
      "28-th region finished!\n",
      "29-th region finished!\n",
      "30-th region finished!\n",
      "31-th region finished!\n",
      "32-th region finished!\n",
      "33-th region finished!\n",
      "34-th region finished!\n",
      "35-th region finished!\n",
      "36-th region finished!\n",
      "37-th region finished!\n",
      "38-th region finished!\n",
      "39-th region finished!\n",
      "40-th region finished!\n",
      "41-th region finished!\n",
      "p-value annotation legend:\n",
      "ns: 5.00e-02 < p <= 1.00e+00\n",
      "*: 1.00e-02 < p <= 5.00e-02\n",
      "**: 1.00e-03 < p <= 1.00e-02\n",
      "***: 1.00e-04 < p <= 1.00e-03\n",
      "****: p <= 1.00e-04\n",
      "\n",
      "Homologous v.s. Random: t-test independent samples with Bonferroni correction, P_val=5.455e-03 stat=2.927e+00\n",
      "R = 0.8871148200798772, P = 0.11288517992012283\n",
      "Ttest_indResult(statistic=6.703756762519284, pvalue=3.250352471882362e-05)\n"
     ]
    },
    {
     "name": "stderr",
     "output_type": "stream",
     "text": [
      "2024-03-29 00:52:40,676 font_manager.py-832-set_size(): INFO\n",
      " Fontsize 0.00 < 1.0 pt not allowed by FreeType. Setting fontsize = 1 pt\n",
      "2024-03-29 00:52:40,678 font_manager.py-832-set_size(): INFO\n",
      " Fontsize 0.00 < 1.0 pt not allowed by FreeType. Setting fontsize = 1 pt\n",
      "2024-03-29 00:52:40,679 font_manager.py-832-set_size(): INFO\n",
      " Fontsize 0.00 < 1.0 pt not allowed by FreeType. Setting fontsize = 1 pt\n",
      "2024-03-29 00:52:40,679 font_manager.py-832-set_size(): INFO\n",
      " Fontsize 0.00 < 1.0 pt not allowed by FreeType. Setting fontsize = 1 pt\n",
      "2024-03-29 00:52:40,680 font_manager.py-832-set_size(): INFO\n",
      " Fontsize 0.00 < 1.0 pt not allowed by FreeType. Setting fontsize = 1 pt\n",
      "2024-03-29 00:52:40,681 font_manager.py-832-set_size(): INFO\n",
      " Fontsize 0.00 < 1.0 pt not allowed by FreeType. Setting fontsize = 1 pt\n",
      "2024-03-29 00:52:40,682 font_manager.py-832-set_size(): INFO\n",
      " Fontsize 0.00 < 1.0 pt not allowed by FreeType. Setting fontsize = 1 pt\n",
      "2024-03-29 00:52:40,682 font_manager.py-832-set_size(): INFO\n",
      " Fontsize 0.00 < 1.0 pt not allowed by FreeType. Setting fontsize = 1 pt\n",
      "2024-03-29 00:52:40,683 font_manager.py-832-set_size(): INFO\n",
      " Fontsize 0.00 < 1.0 pt not allowed by FreeType. Setting fontsize = 1 pt\n",
      "2024-03-29 00:52:40,684 font_manager.py-832-set_size(): INFO\n",
      " Fontsize 0.00 < 1.0 pt not allowed by FreeType. Setting fontsize = 1 pt\n",
      "2024-03-29 00:52:40,684 font_manager.py-832-set_size(): INFO\n",
      " Fontsize 0.00 < 1.0 pt not allowed by FreeType. Setting fontsize = 1 pt\n",
      "2024-03-29 00:52:40,685 font_manager.py-832-set_size(): INFO\n",
      " Fontsize 0.00 < 1.0 pt not allowed by FreeType. Setting fontsize = 1 pt\n",
      "2024-03-29 00:52:40,686 font_manager.py-832-set_size(): INFO\n",
      " Fontsize 0.00 < 1.0 pt not allowed by FreeType. Setting fontsize = 1 pt\n",
      "2024-03-29 00:52:40,686 font_manager.py-832-set_size(): INFO\n",
      " Fontsize 0.00 < 1.0 pt not allowed by FreeType. Setting fontsize = 1 pt\n",
      "2024-03-29 00:52:40,687 font_manager.py-832-set_size(): INFO\n",
      " Fontsize 0.00 < 1.0 pt not allowed by FreeType. Setting fontsize = 1 pt\n",
      "2024-03-29 00:52:40,688 font_manager.py-832-set_size(): INFO\n",
      " Fontsize 0.00 < 1.0 pt not allowed by FreeType. Setting fontsize = 1 pt\n",
      "2024-03-29 00:52:40,689 font_manager.py-832-set_size(): INFO\n",
      " Fontsize 0.00 < 1.0 pt not allowed by FreeType. Setting fontsize = 1 pt\n",
      "2024-03-29 00:52:40,689 font_manager.py-832-set_size(): INFO\n",
      " Fontsize 0.00 < 1.0 pt not allowed by FreeType. Setting fontsize = 1 pt\n",
      "2024-03-29 00:52:40,690 font_manager.py-832-set_size(): INFO\n",
      " Fontsize 0.00 < 1.0 pt not allowed by FreeType. Setting fontsize = 1 pt\n",
      "2024-03-29 00:52:40,691 font_manager.py-832-set_size(): INFO\n",
      " Fontsize 0.00 < 1.0 pt not allowed by FreeType. Setting fontsize = 1 pt\n",
      "2024-03-29 00:52:40,691 font_manager.py-832-set_size(): INFO\n",
      " Fontsize 0.00 < 1.0 pt not allowed by FreeType. Setting fontsize = 1 pt\n",
      "2024-03-29 00:52:40,692 font_manager.py-832-set_size(): INFO\n",
      " Fontsize 0.00 < 1.0 pt not allowed by FreeType. Setting fontsize = 1 pt\n",
      "2024-03-29 00:52:40,693 font_manager.py-832-set_size(): INFO\n",
      " Fontsize 0.00 < 1.0 pt not allowed by FreeType. Setting fontsize = 1 pt\n",
      "2024-03-29 00:52:40,693 font_manager.py-832-set_size(): INFO\n",
      " Fontsize 0.00 < 1.0 pt not allowed by FreeType. Setting fontsize = 1 pt\n",
      "2024-03-29 00:52:40,694 font_manager.py-832-set_size(): INFO\n",
      " Fontsize 0.00 < 1.0 pt not allowed by FreeType. Setting fontsize = 1 pt\n",
      "2024-03-29 00:52:40,695 font_manager.py-832-set_size(): INFO\n",
      " Fontsize 0.00 < 1.0 pt not allowed by FreeType. Setting fontsize = 1 pt\n",
      "2024-03-29 00:52:40,696 font_manager.py-832-set_size(): INFO\n",
      " Fontsize 0.00 < 1.0 pt not allowed by FreeType. Setting fontsize = 1 pt\n",
      "2024-03-29 00:52:40,696 font_manager.py-832-set_size(): INFO\n",
      " Fontsize 0.00 < 1.0 pt not allowed by FreeType. Setting fontsize = 1 pt\n",
      "2024-03-29 00:52:40,697 font_manager.py-832-set_size(): INFO\n",
      " Fontsize 0.00 < 1.0 pt not allowed by FreeType. Setting fontsize = 1 pt\n",
      "2024-03-29 00:52:40,698 font_manager.py-832-set_size(): INFO\n",
      " Fontsize 0.00 < 1.0 pt not allowed by FreeType. Setting fontsize = 1 pt\n",
      "2024-03-29 00:52:40,698 font_manager.py-832-set_size(): INFO\n",
      " Fontsize 0.00 < 1.0 pt not allowed by FreeType. Setting fontsize = 1 pt\n",
      "2024-03-29 00:52:40,699 font_manager.py-832-set_size(): INFO\n",
      " Fontsize 0.00 < 1.0 pt not allowed by FreeType. Setting fontsize = 1 pt\n",
      "... storing 'dataset' as categorical\n"
     ]
    },
    {
     "name": "stdout",
     "output_type": "stream",
     "text": [
      "AnnData object with n_obs × n_vars = 8726 × 128\n",
      "    obs: 'dataset'\n",
      "    obsm: 'X_pca', 'X_umap'\n"
     ]
    },
    {
     "name": "stderr",
     "output_type": "stream",
     "text": [
      "2024-03-29 01:57:03,442 analyze.py-673-weight_linked_vars(): INFO\n",
      " sorting links by weights\n",
      "2024-03-29 01:57:04,164 preprocess.py-1780-group_mean_sparse(): INFO\n",
      " Calculating feature averages for 9 groups\n",
      "2024-03-29 01:57:04,306 preprocess.py-1780-group_mean_sparse(): INFO\n",
      " Calculating feature averages for 5 groups\n"
     ]
    },
    {
     "name": "stdout",
     "output_type": "stream",
     "text": [
      "figure has been saved into:\n",
      "\t./Results/embeds/figs/1_alignment_STs/4_experiment_cross_species_genes_analysis/umap_exprAvgs-Macaque-all.png\n"
     ]
    },
    {
     "name": "stderr",
     "output_type": "stream",
     "text": [
      "2024-03-29 01:57:07,073 analyze.py-1350-abstract_ov_edges(): WARNING\n",
      " Edges with weights lower than 0 were cut out\n",
      "2024-03-29 01:57:07,079 analyze.py-1400-adj_to_edges(): WARNING\n",
      " Edges with weights lower than 0 were cut out.\n"
     ]
    },
    {
     "name": "stdout",
     "output_type": "stream",
     "text": [
      "figure has been saved into:\n",
      "\t./Results/embeds/figs/1_alignment_STs/4_experiment_cross_species_genes_analysis/umap_exprAvgs-Mouse-all.png\n"
     ]
    },
    {
     "name": "stderr",
     "output_type": "stream",
     "text": [
      "2024-03-29 01:57:07,153 analyze.py-1350-abstract_ov_edges(): WARNING\n",
      " Edges with weights lower than 0 were cut out\n",
      "2024-03-29 01:57:07,155 analyze.py-1400-adj_to_edges(): WARNING\n",
      " Edges with weights lower than 0 were cut out.\n",
      "2024-03-29 01:57:07,339 plot.py-1457-multipartite_layout(): INFO\n",
      " nodes per layer: {nodes_per_layer}\n",
      "2024-03-29 01:57:07,946 preprocess.py-1780-group_mean_sparse(): INFO\n",
      " Calculating feature averages for 4 groups\n"
     ]
    },
    {
     "name": "stdout",
     "output_type": "stream",
     "text": [
      "figure has been saved into:\n",
      "\t./Results/embeds/figs/1_alignment_STs/4_experiment_cross_species_genes_analysis/abstracted_graph-module-cut0-zs.png\n",
      "object saved into:\n",
      "\t ./Results/embeds/abs_graph.pickle\n",
      "3---------------------------------------------------------------------------\n"
     ]
    },
    {
     "name": "stderr",
     "output_type": "stream",
     "text": [
      "2024-03-29 01:57:08,008 preprocess.py-1780-group_mean_sparse(): INFO\n",
      " Calculating feature averages for 4 groups\n"
     ]
    },
    {
     "name": "stdout",
     "output_type": "stream",
     "text": [
      "gadt1 AnnData object with n_obs × n_vars = 6340 × 128\n",
      "    obs: 'dataset', 'module'\n",
      "    uns: 'pca', 'neighbors', 'umap', 'dataset_colors', 'leiden', 'module_colors'\n",
      "    obsm: 'X_pca', 'X_umap'\n",
      "    varm: 'PCs'\n",
      "    obsp: 'distances', 'connectivities'\n",
      "gadt2 AnnData object with n_obs × n_vars = 5234 × 128\n",
      "    obs: 'dataset', 'module'\n",
      "    uns: 'pca', 'neighbors', 'umap', 'dataset_colors', 'leiden', 'module_colors'\n",
      "    obsm: 'X_pca', 'X_umap'\n",
      "    varm: 'PCs'\n",
      "    obsp: 'distances', 'connectivities'\n",
      "figure has been saved into:\n",
      "\t./Results/embeds/figs/1_alignment_STs/4_experiment_cross_species_genes_analysis/homo_umap_exprAvgs-Macaque-all.png\n"
     ]
    },
    {
     "name": "stderr",
     "output_type": "stream",
     "text": [
      "2024-03-29 01:57:09,568 analyze.py-1350-abstract_ov_edges(): WARNING\n",
      " Edges with weights lower than 0 were cut out\n",
      "2024-03-29 01:57:09,571 analyze.py-1400-adj_to_edges(): WARNING\n",
      " Edges with weights lower than 0 were cut out.\n",
      "2024-03-29 01:57:09,632 analyze.py-1350-abstract_ov_edges(): WARNING\n",
      " Edges with weights lower than 0 were cut out\n",
      "2024-03-29 01:57:09,634 analyze.py-1400-adj_to_edges(): WARNING\n",
      " Edges with weights lower than 0 were cut out.\n"
     ]
    },
    {
     "name": "stdout",
     "output_type": "stream",
     "text": [
      "figure has been saved into:\n",
      "\t./Results/embeds/figs/1_alignment_STs/4_experiment_cross_species_genes_analysis/homo_umap_exprAvgs-Mouse-all.png\n",
      "2---------------------------------------------------------------\n"
     ]
    },
    {
     "name": "stderr",
     "output_type": "stream",
     "text": [
      "2024-03-29 01:57:09,785 plot.py-1457-multipartite_layout(): INFO\n",
      " nodes per layer: {nodes_per_layer}\n"
     ]
    },
    {
     "name": "stdout",
     "output_type": "stream",
     "text": [
      "1---------------------------------------------------------------------------\n",
      "figure has been saved into:\n",
      "\t./Results/embeds/figs/1_alignment_STs/4_experiment_cross_species_genes_analysis/homo_abstracted_graph-module-cut0-zs.png\n",
      "object saved into:\n",
      "\t ./Results/embeds/homo_abs_graph.pickle\n",
      "AnnData object with n_obs × n_vars = 8692 × 128\n",
      "    obs: 'dataset', 'module'\n",
      "    obsm: 'X_pca', 'X_umap'\n",
      "(128, 6340)\n",
      "(128, 5234)\n",
      "mean: 0.06052843701138638 std: 0.6704923892084325\n",
      "Var_Corr: (6340, 5234)\n",
      "p-value annotation legend:\n",
      "ns: 5.00e-02 < p <= 1.00e+00\n",
      "*: 1.00e-02 < p <= 5.00e-02\n",
      "**: 1.00e-03 < p <= 1.00e-02\n",
      "***: 1.00e-04 < p <= 1.00e-03\n",
      "****: p <= 1.00e-04\n",
      "\n",
      "homologous v.s. random: t-test independent samples with Bonferroni correction, P_val=0.000e+00 stat=8.060e+01\n",
      "Ttest_indResult(statistic=716.9061791326338, pvalue=0.0)\n",
      "(128, 6340)\n",
      "(128, 5234)\n",
      "(11574, 11574)\n",
      "mean: 56.04223810808501 std: 30.533563714225753\n",
      "Var_Corr: (6340, 5234)\n",
      "Ttest_indResult(statistic=-257.57385504032516, pvalue=0.0)\n",
      "(128, 6340)\n",
      "(128, 5234)\n",
      "(11574, 11574)\n",
      "mean: 0.9390634345174323 std: 0.6696529822652522\n",
      "Var_Corr: (6340, 5234)\n",
      "Ttest_indResult(statistic=-715.3963026461957, pvalue=0.0)\n",
      "(128, 6340)\n",
      "(128, 5234)\n",
      "(11574, 11574)\n",
      "mean: 11.48509060863946 std: 5.428658643292433\n",
      "Var_Corr: (6340, 5234)\n",
      "Ttest_indResult(statistic=-178.73476049671532, pvalue=0.0)\n",
      "(128, 6340)\n",
      "(128, 5234)\n",
      "(11574, 11574)\n",
      "mean: 0.9394715629886137 std: 0.6704923892084323\n",
      "Var_Corr: (6340, 5234)\n",
      "Ttest_indResult(statistic=-716.9061791326345, pvalue=0.0)\n",
      "(128, 6340)\n",
      "(128, 5234)\n",
      "(11574, 11574)\n",
      "mean: 1.1812540362608879 std: 0.8464311616115531\n",
      "Var_Corr: (6340, 5234)\n",
      "Ttest_indResult(statistic=-704.6117783815196, pvalue=0.0)\n",
      "(128, 6340)\n",
      "(128, 5234)\n",
      "(11574, 11574)\n",
      "mean: inf std: nan\n",
      "Var_Corr: (6340, 5234)\n",
      "Ttest_indResult(statistic=nan, pvalue=nan)\n",
      "(128, 6340)\n",
      "(128, 5234)\n",
      "(11574, 11574)\n",
      "mean: 87.42433707116093 std: 28.573598250073577\n",
      "Var_Corr: (6340, 5234)\n",
      "Ttest_indResult(statistic=-300.2217292523064, pvalue=0.0)\n",
      "(128, 6340)\n",
      "(128, 5234)\n",
      "(11574, 11574)\n",
      "mean: 56.04223810808501 std: 30.533563714225753\n",
      "Var_Corr: (6340, 5234)\n",
      "Ttest_indResult(statistic=-257.57385504032516, pvalue=0.0)\n"
     ]
    }
   ],
   "source": [
    "# -- coding: utf-8 --\n",
    "\n",
    "import sys\n",
    "sys.path.append('../../../')\n",
    "from BrainAlign.code.utils import set_params\n",
    "from BrainAlign.brain_analysis.configs import sr_rsc_config_binary\n",
    "from BrainAlign.brain_analysis.data_utils import load_dimensions_binary\n",
    "from BrainAlign.brain_analysis import process\n",
    "from BrainAlign.SR_RSC import main_sr_rsc\n",
    "\n",
    "from BrainAlign.brain_analysis.analysis_general import alignment_STs_analysis,\\\n",
    "    gene_comparison\n",
    "\n",
    "from BrainAlign.brain_analysis.analysis import load_srrsc_embeddings\n",
    "# from BrainAlign.brain_analysis.analysis_anatomical import anatomical_STs_analysis\n",
    "\n",
    "# from BrainAlign.brain_analysis.analysis_genomic import genomic_analysis\n",
    "\n",
    "from BrainAlign.brain_analysis.process import get_spatial_relation\n",
    "\n",
    "# from BrainAlign.brain_analysis.analysis_spatial import spatial_analysis\n",
    "\n",
    "import time\n",
    "\n",
    "import warnings\n",
    "warnings.filterwarnings(\"ignore\")\n",
    "import anndata as ad\n",
    "\n",
    "if __name__ == '__main__':\n",
    "    cfg = sr_rsc_config_binary._C\n",
    "\n",
    "    if_train = True\n",
    "\n",
    "    cfg.SRRSC_args.if_pretrained = False\n",
    "    #cfg.freeze()\n",
    "\n",
    "    cfg.CAME.path_rawdata1 = './Data/Macaque.h5ad'\n",
    "    cfg.CAME.path_rawdata2 = './Data/Mouse.h5ad'\n",
    "\n",
    "    # adata_1 = ad.read_h5ad(cfg.CAME.path_rawdata1)\n",
    "    # print(adata_1)\n",
    "    # adata_1.obs['region_name'] = adata_1.obs['gene_area']\n",
    "    # adata_1 = adata_1[adata_1.obs['annotation'].isin(['Macaque_CA1', 'Macaque_CA2', 'Macaque_CA3', 'Macaque_DG'])]\n",
    "    # adata_1.write_h5ad(cfg.CAME.path_rawdata1)\n",
    "    # print(adata_1.obs['gene_area'].unique())\n",
    "    # adata_2 = ad.read_h5ad(cfg.CAME.path_rawdata2)\n",
    "    # adata_2.obs['region_name'] = adata_2.obs['gene_area']\n",
    "    # adata_2 = adata_2[adata_2.obs['annotation'].isin(['Mouse_CA1', 'Mouse_CA2', 'Mouse_CA3', 'Mouse_DG'])]\n",
    "    # adata_2.write_h5ad(cfg.CAME.path_rawdata2)\n",
    "    # print(adata_2)\n",
    "    # print(adata_2.obs['gene_area'].unique())\n",
    "\n",
    "\n",
    "    cfg.CAME.ROOT = './Results/initial_embedding/Macaque-Mouse/'#Baron_mouse-Baron_human-05-23_21.33.44/ #Baron_mouse-Baron_human-01-03_19.40.04\n",
    "    cfg.CAME.figdir = cfg.CAME.ROOT + 'figs/'\n",
    "\n",
    "    cfg.CAME.homo_region_file_path = './Data/mouse_macaque_homo_region.csv'\n",
    "    cfg.CAME.labels_dir = './Data/'\n",
    "    \n",
    "    cfg.CAME.path_labels_2 = './Data/mouse_region_list.csv'\n",
    "    cfg.CAME.path_labels_1 = './Data/macaque_region_list.csv'\n",
    "    #    ttest_plot_utils.run_came_homo_random(cfg)\n",
    "\n",
    "    cfg.CAME.path_varmap = './Data/Macaque_Mouse_multi2multi.csv'\n",
    "    cfg.CAME.path_varmap_1v1 = './Data/Macaque_Mouse_one2one.csv'\n",
    "\n",
    "    cfg.CAME.human_mouse_homo_region = './Data/mouse_macaque_homo_region.csv'\n",
    "\n",
    "\n",
    "    cfg.BrainAlign.dsnames = ['Macaque', 'Mouse']\n",
    "    cfg.BrainAlign.homo_region_num = 4\n",
    "\n",
    "    cfg.BrainAlign.embedding_type = 'came' #came\n",
    "    cfg.BrainAlign.embedding_pca_dim = 30\n",
    "\n",
    "\n",
    "    cfg.BrainAlign.dataset = 'macaque_mouse_binary'\n",
    "    cfg.BrainAlign.result_save_folder = './Results'\n",
    "    cfg.BrainAlign.experiment_time = '' #'2024-03-12_18-38-54'#time.strftime(\"%Y-%m-%d_%H-%M-%S\")\n",
    "    cfg.BrainAlign.result_save_path = cfg.BrainAlign.result_save_folder + cfg.BrainAlign.experiment_time\n",
    "    cfg.BrainAlign.embeddings_file_path = cfg.BrainAlign.result_save_path + \"/embeds/\"\n",
    "    cfg.BrainAlign.DATA_PATH = cfg.BrainAlign.result_save_path + '/data/'\n",
    "\n",
    "    cfg.SRRSC_args.save_path = cfg.BrainAlign.result_save_path\n",
    "    cfg.SRRSC_args.data_path = cfg.BrainAlign.DATA_PATH\n",
    "\n",
    "    S, M, binary_S, binary_M, binary_H, binary_V = load_dimensions_binary(cfg.CAME.ROOT + 'datapair_init.pickle')\n",
    "\n",
    "    cfg.BrainAlign.S = S  # 21749 + 3682\n",
    "    cfg.BrainAlign.M = M  # 4035 + 6507\n",
    "\n",
    "    cfg.BrainAlign.binary_S = binary_S  # ,\n",
    "    cfg.BrainAlign.binary_M = binary_M  # 1034  # 4035\n",
    "    cfg.BrainAlign.binary_H = binary_H  # 1004  # 6507\n",
    "    cfg.BrainAlign.binary_V = binary_V\n",
    "\n",
    "    cfg.BrainAlign.node_relation = 'spatial_2d'  # 'spatial' # knn\n",
    "    cfg.BrainAlign.spatial_node_neighbor = 4 # set it to 4 for slice data, 5 for 3d data\n",
    "\n",
    "    cfg.ANALYSIS.umap_neighbor = 30  # 30\n",
    "    cfg.ANALYSIS.mouse_umap_neighbor = 30  # 40\n",
    "    cfg.ANALYSIS.human_umap_neighbor = 30\n",
    "\n",
    "    cfg.ANALYSIS.umap_marker_size = 5  # 40\n",
    "    cfg.ANALYSIS.mouse_umap_marker_size = 5  # 40\n",
    "    cfg.ANALYSIS.human_umap_marker_size = 10  # 40\n",
    "\n",
    "    cfg.ANALYSIS.genes_umap_neighbor = 15#15\n",
    "\n",
    "    cfg.ANALYSIS.sample_cluster_num = 60\n",
    "\n",
    "    cfg.ANALYSIS.cut_ov = 0\n",
    "\n",
    "    cfg.SRRSC_args.lr = 0.01\n",
    "    cfg.SRRSC_args.patience = 40\n",
    "\n",
    "    cfg.SRRSC_args.out_ft = 128\n",
    "\n",
    "    cfg.SRRSC_args.drop_prob = 0.6\n",
    "    cfg.SRRSC_args.lamb = 0.5  # coefficient for the losses in node task\n",
    "    cfg.SRRSC_args.lamb_lp = 1.0  # coefficient for the losses in link task\n",
    "    cfg.SRRSC_args.margin = 0.5 #0.8\n",
    "\n",
    "    cfg.BrainAlign.fig_format = 'png'\n",
    "\n",
    "    cfg.SRRSC_args.isAtt = True#True#True\n",
    "    cfg.SRRSC_args.isBias = True\n",
    "\n",
    "    cfg.SRRSC_args.lamb = 0.5  # coefficient for the losses in node task\n",
    "    cfg.SRRSC_args.lamb_lp = 1.0  # coefficient for the losses in link task\n",
    "    cfg.SRRSC_args.margin = 0.8  # coefficient for the margin loss\n",
    "\n",
    "    cfg.SRRSC_args.train_ratio = 0.5\n",
    "    cfg.SRRSC_args.validation_ratio = 0.45\n",
    "    cfg.SRRSC_args.test_ratio = 0.05\n",
    "\n",
    "    cfg.SRRSC_args.lr_stepsize = 30\n",
    "    cfg.SRRSC_args.lr_gamma = 0.5\n",
    "\n",
    "    cfg.SRRSC_args.nb_epochs = 200\n",
    "\n",
    "    print('--------------------------Config:', cfg)\n",
    "    if if_train:\n",
    "        logger = process.get_srrsc_input(cfg)\n",
    "        print('Training BrainAlign...')\n",
    "        main_sr_rsc.run_srrsc(cfg, logger)\n",
    "\n",
    "    print('Analysis of BrainAlign embeddings...')\n",
    "\n",
    "    load_srrsc_embeddings(cfg)  # (21749, 128)\n",
    "    #alignment_STs(cfg)\n",
    "\n",
    "    alignment_STs_analysis_obj = alignment_STs_analysis(cfg)\n",
    "    #alignment_STs_analysis_obj.forward()\n",
    "    alignment_STs_analysis_obj.init_data()\n",
    "    alignment_STs_analysis_obj.experiment_1_cross_species_clustering()\n",
    "\n",
    "    alignment_STs_analysis_obj.experiment_2_umap_evaluation()\n",
    "    \n",
    "    ##alignment_STs_analysis_obj.experiment_2_umap_diagram()\n",
    "    alignment_STs_analysis_obj.experiment_3_homo_random()\n",
    "    alignment_STs_analysis_obj.experiment_3_1_homo_random_beforeAlign\n",
    "    ##self.experiment_3_homo_random()\n",
    "    \n",
    "    alignment_STs_analysis_obj.experiment_4_cross_species_genes_analysis()\n",
    "\n",
    "    alignment_STs_analysis_obj.experiment_5_genes_homo_random()\n",
    "    # alignment_STs_analysis_obj.experiment_6_brain_region_classfier()\n",
    "    #alignment_STs_analysis_obj.experiment_7_align_cross_species()\n",
    "    #alignment_STs_analysis_obj.experiment_7_1_align_cross_species_split()\n",
    "    # alignment_STs_analysis_obj.experiment_8_cross_evaluation_aligment_cluster()\n",
    "    # alignment_STs_analysis_obj.experiment_8_1_cross_aligment_cluster_merge_lines()\n",
    "    # alignment_STs_analysis_obj.experiment_9_name_clusters()\n",
    "    #alignment_STs_analysis_obj.experiment_9_1_region_cluster_heatmap()\n",
    "    #alignment_STs_analysis_obj.experiment_10_check_alignment()\n",
    "    #alignment_STs_analysis_obj.experiment_10_1_check_alignment_plot()\n",
    "    #alignment_STs_analysis_obj.experiment_11_paga()\n",
    "\n",
    "    # alignment_STs_analysis_obj.experiment_14_clusters_alignment()\n",
    "    #\n",
    "    # alignment_STs_analysis_obj.experiment_15_regions_alignment()\n",
    "    # alignment_STs_analysis_obj.experiment_15_1_isocortex_clusters(if_load=True)\n",
    "    #\n",
    "    # alignment_STs_analysis_obj.experiment_16_thalamus_clusters(if_load=True)\n",
    "    # alignment_STs_analysis_obj.experiment_17_hypothalamus_clusters(if_load=True)\n",
    "    # alignment_STs_analysis_obj.experiment_18_pons_clusters(if_load=True)\n",
    "\n",
    "    #alignment_STs_analysis_obj.experiment_18_pons_marker_gene()\n",
    "\n",
    "    #alignment_STs_analysis_obj.experiment_19_Midbrain_hypothalamus(if_load=True, topk=30)\n",
    "\n",
    "    #alignment_STs_analysis_obj.experiment_7_align_cross_species()\n",
    "    #\n",
    "    #alignment_STs_analysis_obj.experiment_4_cross_species_genes_analysis()\n",
    "    #alignment_STs_analysis_obj.experiment_4_1_genes_statistics()\n",
    "    #alignment_STs_analysis_obj.experiment_8_cross_evaluation_aligment_cluster()\n",
    "    #alignment_STs_analysis_obj.experiment_9_name_clusters()\n",
    "    #alignment_STs_analysis_obj.experiment_10_check_alignment()\n",
    "\n",
    "    #alignment_STs_analysis_obj.forward()\n",
    "    #genomic_analysis_obj = genomic_analysis(cfg)\n",
    "    #genomic_analysis_obj.experiment_1_th_clusters_deg()\n",
    "    #genomic_analysis_obj.experiment_2_clusters_deg()\n",
    "    #genomic_analysis_obj.experiment_2_1_homoregions_deg()\n",
    "    #genomic_analysis_obj.experiment_3_regions_gene_module()\n",
    "    #genomic_analysis_obj.experiment_3_1_regions_gene_module_analysis()\n",
    "    #genomic_analysis_obj.experiment_4_clusters_gene_module()\n",
    "    #genomic_analysis_obj.experiment_5_deg_homo_distribution()\n",
    "    #genomic_analysis_obj.experiment_6_regions_gene_module_average_exp()\n",
    "    #genomic_analysis_obj.experiment_6_1_regions_gene_module_cross()\n",
    "    #genomic_analysis_obj.experiment_7_clusters_gene_module_average_exp()\n",
    "    #genomic_analysis_obj.experiment_7_1_clusters_gene_module_cross()\n",
    "    #genomic_analysis_obj.experiment_8_homoregions_go_terms_overlap()\n",
    "    #genomic_analysis_obj.experiment_8_1_plot_heatmap()\n",
    "    #genomic_analysis_obj.experiment_8_2_homoregions_go_terms_cross()\n",
    "\n",
    "    #genomic_analysis_obj.experiment_9_clusters_go_terms_overlap()\n",
    "\n",
    "    #genomic_analysis_obj.experiment_9_1_plot_heatmap()\n",
    "\n",
    "    #genomic_analysis_obj.experiment_10_binary_clustering()\n",
    "\n",
    "    #gene_comparison(cfg)\n",
    "    #anatomical_STs_analysis_obj = anatomical_STs_analysis(cfg)\n",
    "    #anatomical_STs_analysis_obj.forward()\n",
    "    #spatial_analysis_obj = spatial_analysis(cfg)\n",
    "    #spatial_analysis_obj.experiment_1_spatial_hippocampal()\n",
    "    #spatial_analysis_obj.forward()\n",
    "    #spatial_analysis_obj.experiment_2_spatial_isocortex()\n",
    "    #spatial_analysis_obj.experiment_3_spatial_clusters()\n",
    "\n",
    "\n",
    "\n"
   ]
  },
  {
   "cell_type": "code",
   "execution_count": null,
   "id": "d0eac512-5f5f-4b8f-b817-4498e1e91f7e",
   "metadata": {},
   "outputs": [],
   "source": []
  }
 ],
 "metadata": {
  "kernelspec": {
   "display_name": "env_came",
   "language": "python",
   "name": "env_came"
  },
  "language_info": {
   "codemirror_mode": {
    "name": "ipython",
    "version": 3
   },
   "file_extension": ".py",
   "mimetype": "text/x-python",
   "name": "python",
   "nbconvert_exporter": "python",
   "pygments_lexer": "ipython3",
   "version": "3.8.18"
  }
 },
 "nbformat": 4,
 "nbformat_minor": 5
}
