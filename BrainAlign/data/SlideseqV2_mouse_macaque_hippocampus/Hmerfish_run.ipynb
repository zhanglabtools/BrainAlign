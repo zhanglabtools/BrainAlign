{
 "cells": [
  {
   "cell_type": "code",
   "execution_count": 1,
   "id": "9a59e932-5ca0-4eee-891d-5b6aa93b602b",
   "metadata": {
    "scrolled": true
   },
   "outputs": [
    {
     "name": "stdout",
     "output_type": "stream",
     "text": [
      "(9964, 3)\n",
      "      Gene name Mouse gene name Mouse homology type\n",
      "0        ZNF692          Zfp692    ortholog_one2one\n",
      "1        ZNF672          Zfp672    ortholog_one2one\n",
      "2       SH3BP5L         Sh3bp5l    ortholog_one2one\n",
      "16       ZNF496        Zkscan17    ortholog_one2one\n",
      "17       AHCTF1          Ahctf1    ortholog_one2one\n",
      "...         ...             ...                 ...\n",
      "16069       ND2          mt-Nd2    ortholog_one2one\n",
      "16070      COX1          mt-Co1    ortholog_one2one\n",
      "16077       ND4          mt-Nd4    ortholog_one2one\n",
      "16078       ND5          mt-Nd5    ortholog_one2one\n",
      "16079      CYTB         mt-Cytb    ortholog_one2one\n",
      "\n",
      "[9964 rows x 3 columns]\n",
      "AnnData object with n_obs × n_vars = 28499 × 14932\n",
      "    obs: 'gene_area', 'annotation', 'species_id', 'batch_name', 'slice_name', 'louvain', 'mclust', 'mclust_separate', 'STAGATE_annotation', 'region', 'region_name', 'Macaque ITPKA', 'Macaque AMIGO2', 'Macaque HS3ST4', 'Macaque LRRTM4'\n",
      "    var: 'highly_variable', 'highly_variable_rank', 'means', 'variances', 'variances_norm'\n",
      "    uns: 'STAGATE_annotation_colors', 'Spatial_Net', 'adj', 'annotation_colors', 'batch_name_colors', 'hvg', 'log1p', 'louvain', 'louvain_colors', 'mclust_colors', 'mclust_separate_colors', 'neighbors', 'umap'\n",
      "    obsm: 'STAGATE', 'X_umap', 'spatial'\n",
      "    obsp: 'connectivities', 'distances'\n",
      "Index(['A2M', 'A2ML1', 'A3GALT2', 'AAAS', 'AACS', 'AADAC', 'AADACL2',\n",
      "       'AADACL3', 'AADACL4', 'AADAT',\n",
      "       ...\n",
      "       'ZYX', 'ZZEF1', 'ZZZ3', 'ar', 'snoMBII-202', 'snoU109', 'snoU2-30',\n",
      "       'snoU85', 'snoU89', 'snoZ39'],\n",
      "      dtype='object', length=14932)\n"
     ]
    },
    {
     "name": "stderr",
     "output_type": "stream",
     "text": [
      "... storing 'species_id' as categorical\n"
     ]
    },
    {
     "name": "stdout",
     "output_type": "stream",
     "text": [
      "One-to-one homologous gene number = 9964\n",
      "2024-03-21 13:09:24,562 Running CAME and analysis INFO: Running with config:\n",
      "ANALYSIS:\n",
      "  cut_ov: 0\n",
      "  human_umap_neighbor: 20\n",
      "  mouse_umap_neighbor: 20\n",
      "  umap_neighbor: 20\n",
      "CAME:\n",
      "  ROOT: ./Results/initial_embedding/\n",
      "  annotation_name: ['region_name', 'region_name']\n",
      "  do_normalize: [True, True]\n",
      "  embedding_path: None\n",
      "  embedding_size: 128\n",
      "  human_mouse_homo_region: ./Data/mouse_macaque_homo_region.csv\n",
      "  learning_label: ['cluster_region', 'cluster_region']\n",
      "  n_top_genes: 4000\n",
      "  path_labels_1: ./Data/macaque_region_list.csv\n",
      "  path_labels_2: ./Data/mouse_region_list.csv\n",
      "  path_rawdata1: ./Data/Macaque.h5ad\n",
      "  path_rawdata2: ./Data/Mouse_MERFISH.h5ad\n",
      "  path_varmap: ./Data/Macaque_Mouse_multi2multi.csv\n",
      "  path_varmap_1v1: ./Data/Macaque_Mouse_one2one.csv\n",
      "  preclustering_resolution: 6\n",
      "  quantile_gene: 0.5\n",
      "  quantile_sample: 0.99\n",
      "  sparse: False\n",
      "  species_name_list: ['Macaque', 'Mouse']\n",
      "  visible_device: -1\n",
      "HOMO_RANDOM:\n",
      "  \n",
      "PROCESS:\n",
      "  path_human_labels: ../brain_human_mouse/human_88_label_10regions.csv\n",
      "  path_mouse_labels: ../brain_human_mouse/mouse_67_label_10regions.csv\n",
      "  path_rawdata1: ./Data/Macaque.h5ad\n",
      "  path_rawdata1_part: ../../Brain_ST_human_mouse/data/10regions_mouse_brain_region_67_sagittal.h5ad\n",
      "  path_rawdata2: ./Data/Mouse_MERFISH.h5ad\n",
      "  path_rawdata2_part: ../../Brain_ST_human_mouse/data/10regions_human_brain_region_88_sparse_with3d.h5ad\n",
      "TRAINING:\n",
      "  batch_size: 2048\n",
      "  n_epochs: 200\n",
      "  n_pass: 50\n",
      "  ntop_deg: 70\n",
      "  ntop_deg_nodes: 50\n"
     ]
    },
    {
     "name": "stderr",
     "output_type": "stream",
     "text": [
      "2024-03-21 13:09:24,562 ttest_plot_utils.py-241-run_came(): INFO\n",
      " Running with config:\n",
      "ANALYSIS:\n",
      "  cut_ov: 0\n",
      "  human_umap_neighbor: 20\n",
      "  mouse_umap_neighbor: 20\n",
      "  umap_neighbor: 20\n",
      "CAME:\n",
      "  ROOT: ./Results/initial_embedding/\n",
      "  annotation_name: ['region_name', 'region_name']\n",
      "  do_normalize: [True, True]\n",
      "  embedding_path: None\n",
      "  embedding_size: 128\n",
      "  human_mouse_homo_region: ./Data/mouse_macaque_homo_region.csv\n",
      "  learning_label: ['cluster_region', 'cluster_region']\n",
      "  n_top_genes: 4000\n",
      "  path_labels_1: ./Data/macaque_region_list.csv\n",
      "  path_labels_2: ./Data/mouse_region_list.csv\n",
      "  path_rawdata1: ./Data/Macaque.h5ad\n",
      "  path_rawdata2: ./Data/Mouse_MERFISH.h5ad\n",
      "  path_varmap: ./Data/Macaque_Mouse_multi2multi.csv\n",
      "  path_varmap_1v1: ./Data/Macaque_Mouse_one2one.csv\n",
      "  preclustering_resolution: 6\n",
      "  quantile_gene: 0.5\n",
      "  quantile_sample: 0.99\n",
      "  sparse: False\n",
      "  species_name_list: ['Macaque', 'Mouse']\n",
      "  visible_device: -1\n",
      "HOMO_RANDOM:\n",
      "  \n",
      "PROCESS:\n",
      "  path_human_labels: ../brain_human_mouse/human_88_label_10regions.csv\n",
      "  path_mouse_labels: ../brain_human_mouse/mouse_67_label_10regions.csv\n",
      "  path_rawdata1: ./Data/Macaque.h5ad\n",
      "  path_rawdata1_part: ../../Brain_ST_human_mouse/data/10regions_mouse_brain_region_67_sagittal.h5ad\n",
      "  path_rawdata2: ./Data/Mouse_MERFISH.h5ad\n",
      "  path_rawdata2_part: ../../Brain_ST_human_mouse/data/10regions_human_brain_region_88_sparse_with3d.h5ad\n",
      "TRAINING:\n",
      "  batch_size: 2048\n",
      "  n_epochs: 200\n",
      "  n_pass: 50\n",
      "  ntop_deg: 70\n",
      "  ntop_deg_nodes: 50\n"
     ]
    },
    {
     "name": "stdout",
     "output_type": "stream",
     "text": [
      "already exists:\n",
      "\t./Results/initial_embedding/Macaque-Mouse/figs/\n"
     ]
    },
    {
     "name": "stderr",
     "output_type": "stream",
     "text": [
      "2024-03-21 13:09:25,203 pipeline.py-939-preprocess_unaligned(): INFO\n",
      " ================ preprocessing ===============\n",
      "2024-03-21 13:09:25,276 preprocess.py-1916-quick_preprocess(): INFO\n",
      " A copy of AnnData made!\n",
      "2024-03-21 13:09:25,277 preprocess.py-1347-normalize_default(): INFO\n",
      " No copy was made, the input AnnData will be changed!\n",
      "2024-03-21 13:09:25,278 preprocess.py-1348-normalize_default(): INFO\n",
      " normalizing datasets with default settings.\n",
      "2024-03-21 13:09:25,279 preprocess.py-1350-normalize_default(): INFO\n",
      " performing total-sum normalization, target_sum=None...\n"
     ]
    },
    {
     "name": "stdout",
     "output_type": "stream",
     "text": [
      "     Macaque  Mouse\n",
      "1       2002     37\n",
      "0       1523    522\n",
      "3       1496     20\n",
      "7       1116     32\n",
      "10      1015     14\n",
      "..       ...    ...\n",
      "129       23     57\n",
      "144       19     33\n",
      "132       16     59\n",
      "149       14      4\n",
      "146       11     39\n",
      "\n",
      "[150 rows x 2 columns]\n",
      "WARNING: adata.X seems to be already log-transformed.\n"
     ]
    },
    {
     "name": "stderr",
     "output_type": "stream",
     "text": [
      "2024-03-21 13:09:25,949 preprocess.py-1517-wrapper_scale(): INFO\n",
      " using the build-in function `sc.pp.scale(..)`\n",
      "2024-03-21 13:09:41,133 preprocess.py-1916-quick_preprocess(): INFO\n",
      " A copy of AnnData made!\n",
      "2024-03-21 13:09:41,136 preprocess.py-1347-normalize_default(): INFO\n",
      " No copy was made, the input AnnData will be changed!\n",
      "2024-03-21 13:09:41,137 preprocess.py-1348-normalize_default(): INFO\n",
      " normalizing datasets with default settings.\n",
      "2024-03-21 13:09:41,138 preprocess.py-1350-normalize_default(): INFO\n",
      " performing total-sum normalization, target_sum=None...\n"
     ]
    },
    {
     "name": "stdout",
     "output_type": "stream",
     "text": [
      "WARNING: adata.X seems to be already log-transformed.\n"
     ]
    },
    {
     "name": "stderr",
     "output_type": "stream",
     "text": [
      "2024-03-21 13:09:41,572 preprocess.py-1517-wrapper_scale(): INFO\n",
      " using the build-in function `sc.pp.scale(..)`\n",
      "2024-03-21 13:12:58,559 preprocess.py-2252-get_leiden_labels(): INFO\n",
      " Leiden results:\n",
      "0      763\n",
      "1      684\n",
      "2      614\n",
      "3      571\n",
      "4      501\n",
      "      ... \n",
      "233     26\n",
      "234     25\n",
      "235     20\n",
      "236     20\n",
      "237     12\n",
      "Name: clust_lbs, Length: 238, dtype: int64\n"
     ]
    },
    {
     "name": "stdout",
     "output_type": "stream",
     "text": [
      "[leiden] Time used:  185.2007 s\n"
     ]
    },
    {
     "name": "stderr",
     "output_type": "stream",
     "text": [
      "2024-03-21 13:13:10,469 preprocess.py-2252-get_leiden_labels(): INFO\n",
      " Leiden results:\n",
      "0      626\n",
      "1      547\n",
      "2      535\n",
      "3      510\n",
      "4      488\n",
      "      ... \n",
      "157     23\n",
      "158     22\n",
      "159     22\n",
      "160     16\n",
      "161      8\n",
      "Name: clust_lbs, Length: 162, dtype: int64\n",
      "2024-03-21 13:13:10,473 preprocess.py-2205-compute_and_get_DEGs(): INFO\n",
      " computing differentially expressed genes using t-test\n",
      "2024-03-21 13:13:10,473 preprocess.py-2210-compute_and_get_DEGs(): INFO\n",
      " computing differential expression genes using default settings(assume that the expression values are already normalized)\n",
      "2024-03-21 13:13:10,476 preprocess.py-1119-remove_small_groups(): INFO\n",
      " groups to be removed:\n",
      "\t[]\n"
     ]
    },
    {
     "name": "stdout",
     "output_type": "stream",
     "text": [
      "[leiden] Time used:  11.9054 s\n"
     ]
    },
    {
     "name": "stderr",
     "output_type": "stream",
     "text": [
      "... storing 'cluster_region' as categorical\n",
      "2024-03-21 13:13:13,621 preprocess.py-2205-compute_and_get_DEGs(): INFO\n",
      " computing differentially expressed genes using t-test\n",
      "2024-03-21 13:13:13,623 preprocess.py-2210-compute_and_get_DEGs(): INFO\n",
      " computing differential expression genes using default settings(assume that the expression values are already normalized)\n",
      "2024-03-21 13:13:13,625 preprocess.py-1119-remove_small_groups(): INFO\n",
      " groups to be removed:\n",
      "\t[]\n",
      "... storing 'cluster_region' as categorical\n",
      "2024-03-21 13:14:05,053 preprocess.py-2205-compute_and_get_DEGs(): INFO\n",
      " computing differentially expressed genes using t-test\n",
      "2024-03-21 13:14:05,055 preprocess.py-2210-compute_and_get_DEGs(): INFO\n",
      " computing differential expression genes using default settings(assume that the expression values are already normalized)\n",
      "2024-03-21 13:14:05,056 preprocess.py-1119-remove_small_groups(): INFO\n",
      " groups to be removed:\n",
      "\t[]\n",
      "... storing 'cluster_region' as categorical\n",
      "2024-03-21 13:14:06,246 preprocess.py-2205-compute_and_get_DEGs(): INFO\n",
      " computing differentially expressed genes using t-test\n",
      "2024-03-21 13:14:06,248 preprocess.py-2210-compute_and_get_DEGs(): INFO\n",
      " computing differential expression genes using default settings(assume that the expression values are already normalized)\n",
      "2024-03-21 13:14:06,249 preprocess.py-1119-remove_small_groups(): INFO\n",
      " groups to be removed:\n",
      "\t[]\n",
      "... storing 'cluster_region' as categorical\n"
     ]
    },
    {
     "name": "stdout",
     "output_type": "stream",
     "text": [
      "2024-03-21 13:14:25,554 Running CAME and analysis INFO: came_results:\n"
     ]
    },
    {
     "name": "stderr",
     "output_type": "stream",
     "text": [
      "2024-03-21 13:14:25,554 ttest_plot_utils.py-298-run_came(): INFO\n",
      " came_results:\n",
      "2024-03-21 13:14:25,558 preprocess.py-1347-normalize_default(): INFO\n",
      " No copy was made, the input AnnData will be changed!\n",
      "2024-03-21 13:14:25,558 preprocess.py-1348-normalize_default(): INFO\n",
      " normalizing datasets with default settings.\n",
      "2024-03-21 13:14:25,559 preprocess.py-1350-normalize_default(): INFO\n",
      " performing total-sum normalization, target_sum=None...\n"
     ]
    },
    {
     "name": "stdout",
     "output_type": "stream",
     "text": [
      "already exists:\n",
      "\tResults/initial_embedding/Macaque-Mouse/figs\n",
      "already exists:\n",
      "\tResults/initial_embedding/Macaque-Mouse\n",
      "WARNING: adata.X seems to be already log-transformed.\n"
     ]
    },
    {
     "name": "stderr",
     "output_type": "stream",
     "text": [
      "2024-03-21 13:14:25,660 preprocess.py-1347-normalize_default(): INFO\n",
      " No copy was made, the input AnnData will be changed!\n",
      "2024-03-21 13:14:25,661 preprocess.py-1348-normalize_default(): INFO\n",
      " normalizing datasets with default settings.\n",
      "2024-03-21 13:14:25,662 preprocess.py-1350-normalize_default(): INFO\n",
      " performing total-sum normalization, target_sum=None...\n"
     ]
    },
    {
     "name": "stdout",
     "output_type": "stream",
     "text": [
      "WARNING: adata.X seems to be already log-transformed.\n"
     ]
    },
    {
     "name": "stderr",
     "output_type": "stream",
     "text": [
      "2024-03-21 13:14:25,708 pipeline.py-425-main_for_unaligned(): INFO\n",
      " preparing DataPair object...\n",
      "2024-03-21 13:14:26,314 preprocess.py-859-reduce_to_align_features(): INFO\n",
      " [AdjacentTrans] reduce features to align, trans_to=0\n",
      "2024-03-21 13:14:26,984 preprocess.py-849-reduce_to_align(): INFO\n",
      " [AdjacentTrans] reduce to align, trans_to=0\n"
     ]
    },
    {
     "name": "stdout",
     "output_type": "stream",
     "text": [
      "trans.shape= (1736, 1736)\n",
      "[*] Setting dataset names:\n",
      "\t0-->Macaque\n",
      "\t1-->Mouse\n",
      "[*] Setting aligned features for observation nodes (self._features)\n",
      "[*] Setting un-aligned features (`self._ov_adjs`) for making links connecting observation and variable nodes\n",
      "[*] Setting adjacent matrix connecting variables from these 2 datasets (`self._vv_adj`)\n",
      "-------------------- Summary of the DGL-Heterograph --------------------\n",
      "Graph(num_nodes={'cell': 50418, 'gene': 12436},\n",
      "      num_edges={('cell', 'express', 'gene'): 13709570, ('cell', 'self_loop_cell', 'cell'): 50418, ('cell', 'similar_to', 'cell'): 346132, ('gene', 'expressed_by', 'cell'): 13709570, ('gene', 'homolog_with', 'gene'): 22594},\n",
      "      metagraph=[('cell', 'gene', 'express'), ('cell', 'cell', 'self_loop_cell'), ('cell', 'cell', 'similar_to'), ('gene', 'cell', 'expressed_by'), ('gene', 'gene', 'homolog_with')])\n",
      "second-order connection: False\n",
      "self-loops for observation-nodes: True\n",
      "self-loops for variable-nodes: True\n",
      "\n",
      "DataPair with 50418 obs- and 12436 var-nodes\n",
      "obs1 x var1 (Macaque): 28499 x 6256\n",
      "obs2 x var2 (Mouse): 21919 x 6180\n",
      "Dimensions of the obs-node-features: 1736\n"
     ]
    },
    {
     "name": "stderr",
     "output_type": "stream",
     "text": [
      "2024-03-21 13:14:29,574 pipeline.py-441-main_for_unaligned(): INFO\n",
      " dict_keys(['classes', 'g', 'feat_dict', 'train_labels', 'test_labels', 'train_idx', 'test_idx', 'cluster_labels'])\n",
      "2024-03-21 13:14:29,575 base.py-113-save_json_dict(): INFO\n",
      " Results/initial_embedding/Macaque-Mouse/model_params.json\n"
     ]
    },
    {
     "name": "stdout",
     "output_type": "stream",
     "text": [
      "main directory: Results/initial_embedding/Macaque-Mouse\n",
      "model directory: Results/initial_embedding/Macaque-Mouse/_models\n",
      "self.classes [0, 1, 2, 3, 4, 5, 6, 7, 8, 9, 10, 11, 12, 13, 14, 15, 16, 17, 18, 19, 20, 21, 22, 23, 24, 25, 26, 27, 28, 29, 30, 31, 32, 33, 34, 35, 36, 37, 38, 39, 40, 41, 42, 43, 44, 45, 46, 47, 48, 49, 50, 51, 52, 53, 54, 55, 56, 57, 58, 59, 60, 61, 62, 63, 64, 65, 66, 67, 68, 69, 70, 71, 72, 73, 74, 75, 76, 77, 78, 79, 80, 81, 82, 83, 84, 85, 86, 87, 88, 89, 90, 91, 92, 93, 94, 95, 96, 97, 98, 99, 100, 101, 102, 103, 104, 105, 106, 107, 108, 109, 110, 111, 112, 113, 114, 115, 116, 117, 118, 119, 120, 121, 122, 123, 124, 125, 126, 127, 128, 129, 130, 131, 132, 133, 134, 135, 136, 137, 138, 139, 140, 141, 142, 143, 144, 145, 146, 147, 148, 149]\n",
      "len of self.classes 150\n",
      "self.classes [0, 1, 2, 3, 4, 5, 6, 7, 8, 9, 10, 11, 12, 13, 14, 15, 16, 17, 18, 19, 20, 21, 22, 23, 24, 25, 26, 27, 28, 29, 30, 31, 32, 33, 34, 35, 36, 37, 38, 39, 40, 41, 42, 43, 44, 45, 46, 47, 48, 49, 50, 51, 52, 53, 54, 55, 56, 57, 58, 59, 60, 61, 62, 63, 64, 65, 66, 67, 68, 69, 70, 71, 72, 73, 74, 75, 76, 77, 78, 79, 80, 81, 82, 83, 84, 85, 86, 87, 88, 89, 90, 91, 92, 93, 94, 95, 96, 97, 98, 99, 100, 101, 102, 103, 104, 105, 106, 107, 108, 109, 110, 111, 112, 113, 114, 115, 116, 117, 118, 119, 120, 121, 122, 123, 124, 125, 126, 127, 128, 129, 130, 131, 132, 133, 134, 135, 136, 137, 138, 139, 140, 141, 142, 143, 144, 145, 146, 147, 148, 149]\n",
      "len of self.classes 150\n",
      "train_idx tensor([    0,     1,     2,  ..., 28496, 28497, 28498])\n",
      "train_idx type <class 'torch.Tensor'>\n",
      "============== start training (device='cpu') ===============\n"
     ]
    },
    {
     "name": "stderr",
     "output_type": "stream",
     "text": [
      "100%|██████████| 25/25 [00:19<00:00,  1.30it/s]\n",
      "100%|██████████| 11/11 [00:03<00:00,  3.65it/s]\n"
     ]
    },
    {
     "name": "stdout",
     "output_type": "stream",
     "text": [
      "Epoch 0000 | Train Acc: 0.0519 | Test: 0.1101 (max=0.1101) | AMI=0.1370 | Time: 22.3975\n"
     ]
    },
    {
     "name": "stderr",
     "output_type": "stream",
     "text": [
      "100%|██████████| 25/25 [00:18<00:00,  1.32it/s]\n",
      "100%|██████████| 11/11 [00:02<00:00,  3.74it/s]\n",
      "100%|██████████| 25/25 [00:19<00:00,  1.31it/s]\n",
      "100%|██████████| 11/11 [00:02<00:00,  3.70it/s]\n",
      "100%|██████████| 25/25 [00:18<00:00,  1.36it/s]\n",
      "100%|██████████| 11/11 [00:02<00:00,  3.74it/s]\n"
     ]
    },
    {
     "name": "stdout",
     "output_type": "stream",
     "text": [
      "Epoch 0003 | Train Acc: 0.1497 | Test: 0.2076 (max=0.2076) | AMI=0.2850 | Time: 22.0243\n"
     ]
    },
    {
     "name": "stderr",
     "output_type": "stream",
     "text": [
      "100%|██████████| 25/25 [00:17<00:00,  1.39it/s]\n",
      "100%|██████████| 11/11 [00:03<00:00,  3.47it/s]\n",
      "100%|██████████| 25/25 [00:18<00:00,  1.32it/s]\n",
      "100%|██████████| 11/11 [00:03<00:00,  3.64it/s]\n",
      "100%|██████████| 25/25 [00:18<00:00,  1.35it/s]\n",
      "100%|██████████| 11/11 [00:02<00:00,  3.73it/s]\n"
     ]
    },
    {
     "name": "stdout",
     "output_type": "stream",
     "text": [
      "Epoch 0006 | Train Acc: 0.1928 | Test: 0.2414 (max=0.2414) | AMI=0.3391 | Time: 21.8722\n"
     ]
    },
    {
     "name": "stderr",
     "output_type": "stream",
     "text": [
      "100%|██████████| 25/25 [00:18<00:00,  1.37it/s]\n",
      "100%|██████████| 11/11 [00:02<00:00,  3.72it/s]\n",
      "100%|██████████| 25/25 [00:18<00:00,  1.37it/s]\n",
      "100%|██████████| 11/11 [00:02<00:00,  3.78it/s]\n",
      "100%|██████████| 25/25 [00:18<00:00,  1.34it/s]\n",
      "100%|██████████| 11/11 [00:02<00:00,  3.85it/s]\n"
     ]
    },
    {
     "name": "stdout",
     "output_type": "stream",
     "text": [
      "Epoch 0009 | Train Acc: 0.2488 | Test: 0.3502 (max=0.3502) | AMI=0.3591 | Time: 21.7328\n"
     ]
    },
    {
     "name": "stderr",
     "output_type": "stream",
     "text": [
      "100%|██████████| 25/25 [00:17<00:00,  1.43it/s]\n",
      "100%|██████████| 11/11 [00:03<00:00,  3.62it/s]\n",
      "100%|██████████| 25/25 [00:18<00:00,  1.38it/s]\n",
      "100%|██████████| 11/11 [00:03<00:00,  3.63it/s]\n",
      "100%|██████████| 25/25 [00:17<00:00,  1.39it/s]\n",
      "100%|██████████| 11/11 [00:02<00:00,  3.71it/s]\n"
     ]
    },
    {
     "name": "stdout",
     "output_type": "stream",
     "text": [
      "Epoch 0012 | Train Acc: 0.3274 | Test: 0.4071 (max=0.4071) | AMI=0.3886 | Time: 21.5629\n"
     ]
    },
    {
     "name": "stderr",
     "output_type": "stream",
     "text": [
      "100%|██████████| 25/25 [00:18<00:00,  1.37it/s]\n",
      "100%|██████████| 11/11 [00:02<00:00,  3.73it/s]\n",
      "100%|██████████| 25/25 [00:18<00:00,  1.33it/s]\n",
      "100%|██████████| 11/11 [00:02<00:00,  3.73it/s]\n",
      "100%|██████████| 25/25 [00:19<00:00,  1.31it/s]\n",
      "100%|██████████| 11/11 [00:02<00:00,  3.67it/s]\n"
     ]
    },
    {
     "name": "stdout",
     "output_type": "stream",
     "text": [
      "Epoch 0015 | Train Acc: 0.3706 | Test: 0.4405 (max=0.4405) | AMI=0.3818 | Time: 21.6193\n"
     ]
    },
    {
     "name": "stderr",
     "output_type": "stream",
     "text": [
      "100%|██████████| 25/25 [00:18<00:00,  1.36it/s]\n",
      "100%|██████████| 11/11 [00:02<00:00,  3.73it/s]\n",
      "100%|██████████| 25/25 [00:18<00:00,  1.35it/s]\n",
      "100%|██████████| 11/11 [00:02<00:00,  3.69it/s]\n",
      "100%|██████████| 25/25 [00:19<00:00,  1.28it/s]\n",
      "100%|██████████| 11/11 [00:03<00:00,  3.65it/s]\n"
     ]
    },
    {
     "name": "stdout",
     "output_type": "stream",
     "text": [
      "Epoch 0018 | Train Acc: 0.3985 | Test: 0.4560 (max=0.4560) | AMI=0.3753 | Time: 21.6711\n"
     ]
    },
    {
     "name": "stderr",
     "output_type": "stream",
     "text": [
      "100%|██████████| 25/25 [00:18<00:00,  1.33it/s]\n",
      "100%|██████████| 11/11 [00:02<00:00,  3.77it/s]\n",
      "100%|██████████| 25/25 [00:18<00:00,  1.38it/s]\n",
      "100%|██████████| 11/11 [00:02<00:00,  3.75it/s]\n",
      "100%|██████████| 25/25 [00:18<00:00,  1.39it/s]\n",
      "100%|██████████| 11/11 [00:02<00:00,  3.79it/s]\n"
     ]
    },
    {
     "name": "stdout",
     "output_type": "stream",
     "text": [
      "Epoch 0021 | Train Acc: 0.4184 | Test: 0.4764 (max=0.4764) | AMI=0.3747 | Time: 21.6337\n"
     ]
    },
    {
     "name": "stderr",
     "output_type": "stream",
     "text": [
      "100%|██████████| 25/25 [00:17<00:00,  1.40it/s]\n",
      "100%|██████████| 11/11 [00:02<00:00,  3.77it/s]\n",
      "100%|██████████| 25/25 [00:17<00:00,  1.40it/s]\n",
      "100%|██████████| 11/11 [00:02<00:00,  3.83it/s]\n",
      "100%|██████████| 25/25 [00:17<00:00,  1.39it/s]\n",
      "100%|██████████| 11/11 [00:02<00:00,  3.75it/s]\n"
     ]
    },
    {
     "name": "stdout",
     "output_type": "stream",
     "text": [
      "Epoch 0024 | Train Acc: 0.4308 | Test: 0.4831 (max=0.4850) | AMI=0.3691 | Time: 21.5483\n"
     ]
    },
    {
     "name": "stderr",
     "output_type": "stream",
     "text": [
      "100%|██████████| 25/25 [00:18<00:00,  1.34it/s]\n",
      "100%|██████████| 11/11 [00:02<00:00,  3.74it/s]\n",
      "100%|██████████| 25/25 [00:18<00:00,  1.33it/s]\n",
      "100%|██████████| 11/11 [00:03<00:00,  3.66it/s]\n",
      "100%|██████████| 25/25 [00:19<00:00,  1.28it/s]\n",
      "100%|██████████| 11/11 [00:02<00:00,  3.72it/s]\n"
     ]
    },
    {
     "name": "stdout",
     "output_type": "stream",
     "text": [
      "Epoch 0027 | Train Acc: 0.4403 | Test: 0.4894 (max=0.4950) | AMI=0.3685 | Time: 21.6046\n"
     ]
    },
    {
     "name": "stderr",
     "output_type": "stream",
     "text": [
      "100%|██████████| 25/25 [00:18<00:00,  1.32it/s]\n",
      "100%|██████████| 11/11 [00:02<00:00,  3.74it/s]\n",
      "100%|██████████| 25/25 [00:18<00:00,  1.32it/s]\n",
      "100%|██████████| 11/11 [00:02<00:00,  3.69it/s]\n",
      "100%|██████████| 25/25 [00:19<00:00,  1.30it/s]\n",
      "100%|██████████| 11/11 [00:02<00:00,  3.77it/s]\n"
     ]
    },
    {
     "name": "stdout",
     "output_type": "stream",
     "text": [
      "Epoch 0030 | Train Acc: 0.4487 | Test: 0.5066 (max=0.5066) | AMI=0.3616 | Time: 21.6524\n"
     ]
    },
    {
     "name": "stderr",
     "output_type": "stream",
     "text": [
      "100%|██████████| 25/25 [00:18<00:00,  1.38it/s]\n",
      "100%|██████████| 11/11 [00:02<00:00,  3.77it/s]\n",
      "100%|██████████| 25/25 [00:17<00:00,  1.39it/s]\n",
      "100%|██████████| 11/11 [00:02<00:00,  3.86it/s]\n",
      "100%|██████████| 25/25 [00:18<00:00,  1.38it/s]\n",
      "100%|██████████| 11/11 [00:02<00:00,  3.74it/s]\n"
     ]
    },
    {
     "name": "stdout",
     "output_type": "stream",
     "text": [
      "Epoch 0033 | Train Acc: 0.4592 | Test: 0.5074 (max=0.5156) | AMI=0.3600 | Time: 21.6086\n"
     ]
    },
    {
     "name": "stderr",
     "output_type": "stream",
     "text": [
      "100%|██████████| 25/25 [00:18<00:00,  1.33it/s]\n",
      "100%|██████████| 11/11 [00:02<00:00,  3.68it/s]\n",
      "100%|██████████| 25/25 [00:18<00:00,  1.34it/s]\n",
      "100%|██████████| 11/11 [00:02<00:00,  3.92it/s]\n",
      "100%|██████████| 25/25 [00:18<00:00,  1.32it/s]\n",
      "100%|██████████| 11/11 [00:02<00:00,  3.73it/s]\n"
     ]
    },
    {
     "name": "stdout",
     "output_type": "stream",
     "text": [
      "Epoch 0036 | Train Acc: 0.4631 | Test: 0.5217 (max=0.5217) | AMI=0.3602 | Time: 21.6283\n"
     ]
    },
    {
     "name": "stderr",
     "output_type": "stream",
     "text": [
      "100%|██████████| 25/25 [00:18<00:00,  1.34it/s]\n",
      "100%|██████████| 11/11 [00:02<00:00,  3.85it/s]\n",
      "100%|██████████| 25/25 [00:18<00:00,  1.37it/s]\n",
      "100%|██████████| 11/11 [00:02<00:00,  3.77it/s]\n",
      "100%|██████████| 25/25 [00:17<00:00,  1.39it/s]\n",
      "100%|██████████| 11/11 [00:02<00:00,  3.72it/s]\n"
     ]
    },
    {
     "name": "stdout",
     "output_type": "stream",
     "text": [
      "Epoch 0039 | Train Acc: 0.4699 | Test: 0.5299 (max=0.5299) | AMI=0.3599 | Time: 21.6058\n"
     ]
    },
    {
     "name": "stderr",
     "output_type": "stream",
     "text": [
      "100%|██████████| 25/25 [00:17<00:00,  1.40it/s]\n",
      "100%|██████████| 11/11 [00:02<00:00,  3.81it/s]\n",
      "100%|██████████| 25/25 [00:18<00:00,  1.38it/s]\n",
      "100%|██████████| 11/11 [00:02<00:00,  3.75it/s]\n",
      "100%|██████████| 25/25 [00:19<00:00,  1.31it/s]\n",
      "100%|██████████| 11/11 [00:02<00:00,  3.83it/s]\n"
     ]
    },
    {
     "name": "stdout",
     "output_type": "stream",
     "text": [
      "Epoch 0042 | Train Acc: 0.4737 | Test: 0.5318 (max=0.5318) | AMI=0.3601 | Time: 21.5921\n"
     ]
    },
    {
     "name": "stderr",
     "output_type": "stream",
     "text": [
      "100%|██████████| 25/25 [00:18<00:00,  1.36it/s]\n",
      "100%|██████████| 11/11 [00:02<00:00,  3.74it/s]\n",
      "100%|██████████| 25/25 [00:18<00:00,  1.36it/s]\n",
      "100%|██████████| 11/11 [00:02<00:00,  3.78it/s]\n",
      "100%|██████████| 25/25 [00:18<00:00,  1.34it/s]\n",
      "100%|██████████| 11/11 [00:02<00:00,  3.67it/s]\n"
     ]
    },
    {
     "name": "stdout",
     "output_type": "stream",
     "text": [
      "Epoch 0045 | Train Acc: 0.4769 | Test: 0.5317 (max=0.5318) | AMI=0.3537 | Time: 21.5939\n"
     ]
    },
    {
     "name": "stderr",
     "output_type": "stream",
     "text": [
      "100%|██████████| 25/25 [00:19<00:00,  1.31it/s]\n",
      "100%|██████████| 11/11 [00:02<00:00,  3.70it/s]\n",
      "100%|██████████| 25/25 [00:20<00:00,  1.24it/s]\n",
      "100%|██████████| 11/11 [00:03<00:00,  3.64it/s]\n",
      "100%|██████████| 25/25 [00:19<00:00,  1.31it/s]\n",
      "100%|██████████| 11/11 [00:03<00:00,  3.66it/s]\n"
     ]
    },
    {
     "name": "stdout",
     "output_type": "stream",
     "text": [
      "Epoch 0048 | Train Acc: 0.4804 | Test: 0.5341 (max=0.5378) | AMI=0.3544 | Time: 21.6558\n"
     ]
    },
    {
     "name": "stderr",
     "output_type": "stream",
     "text": [
      "100%|██████████| 25/25 [00:18<00:00,  1.32it/s]\n",
      "100%|██████████| 11/11 [00:02<00:00,  3.71it/s]\n"
     ]
    },
    {
     "name": "stdout",
     "output_type": "stream",
     "text": [
      "[current best] model weights backup\n",
      "Epoch 0049 | Train Acc: 0.4814 | Test: 0.5315 (max=0.5378) | AMI=0.3525 | Time: 21.6665\n"
     ]
    },
    {
     "name": "stderr",
     "output_type": "stream",
     "text": [
      "100%|██████████| 25/25 [00:18<00:00,  1.32it/s]\n",
      "100%|██████████| 11/11 [00:02<00:00,  3.72it/s]\n"
     ]
    },
    {
     "name": "stdout",
     "output_type": "stream",
     "text": [
      "[current best] model weights backup\n",
      "Epoch 0050 | Train Acc: 0.4822 | Test: 0.5313 (max=0.5378) | AMI=0.3595 | Time: 21.6770\n"
     ]
    },
    {
     "name": "stderr",
     "output_type": "stream",
     "text": [
      "100%|██████████| 25/25 [00:19<00:00,  1.31it/s]\n",
      "100%|██████████| 11/11 [00:02<00:00,  3.67it/s]\n"
     ]
    },
    {
     "name": "stdout",
     "output_type": "stream",
     "text": [
      "Epoch 0051 | Train Acc: 0.4838 | Test: 0.5407 (max=0.5407) | AMI=0.3544 | Time: 21.6874\n"
     ]
    },
    {
     "name": "stderr",
     "output_type": "stream",
     "text": [
      "100%|██████████| 25/25 [00:18<00:00,  1.37it/s]\n",
      "100%|██████████| 11/11 [00:02<00:00,  3.68it/s]\n",
      "100%|██████████| 25/25 [00:18<00:00,  1.37it/s]\n",
      "100%|██████████| 11/11 [00:02<00:00,  3.67it/s]\n",
      "100%|██████████| 25/25 [00:18<00:00,  1.36it/s]\n",
      "100%|██████████| 11/11 [00:02<00:00,  3.74it/s]\n"
     ]
    },
    {
     "name": "stdout",
     "output_type": "stream",
     "text": [
      "[current best] model weights backup\n",
      "Epoch 0054 | Train Acc: 0.4851 | Test: 0.5428 (max=0.5428) | AMI=0.3620 | Time: 21.6755\n"
     ]
    },
    {
     "name": "stderr",
     "output_type": "stream",
     "text": [
      "100%|██████████| 25/25 [00:18<00:00,  1.32it/s]\n",
      "100%|██████████| 11/11 [00:02<00:00,  3.86it/s]\n",
      "100%|██████████| 25/25 [00:19<00:00,  1.30it/s]\n",
      "100%|██████████| 11/11 [00:02<00:00,  3.70it/s]\n",
      "100%|██████████| 25/25 [00:19<00:00,  1.30it/s]\n",
      "100%|██████████| 11/11 [00:03<00:00,  3.66it/s]\n"
     ]
    },
    {
     "name": "stdout",
     "output_type": "stream",
     "text": [
      "Epoch 0057 | Train Acc: 0.4890 | Test: 0.5408 (max=0.5443) | AMI=0.3534 | Time: 21.7068\n"
     ]
    },
    {
     "name": "stderr",
     "output_type": "stream",
     "text": [
      "100%|██████████| 25/25 [00:19<00:00,  1.30it/s]\n",
      "100%|██████████| 11/11 [00:02<00:00,  3.69it/s]\n",
      "100%|██████████| 25/25 [00:18<00:00,  1.32it/s]\n",
      "100%|██████████| 11/11 [00:02<00:00,  3.76it/s]\n",
      "100%|██████████| 25/25 [00:19<00:00,  1.30it/s]\n",
      "100%|██████████| 11/11 [00:02<00:00,  3.72it/s]\n"
     ]
    },
    {
     "name": "stdout",
     "output_type": "stream",
     "text": [
      "Epoch 0060 | Train Acc: 0.4905 | Test: 0.5351 (max=0.5485) | AMI=0.3516 | Time: 21.7343\n"
     ]
    },
    {
     "name": "stderr",
     "output_type": "stream",
     "text": [
      "100%|██████████| 25/25 [00:19<00:00,  1.30it/s]\n",
      "100%|██████████| 11/11 [00:02<00:00,  3.72it/s]\n",
      "100%|██████████| 25/25 [00:19<00:00,  1.29it/s]\n",
      "100%|██████████| 11/11 [00:02<00:00,  3.68it/s]\n",
      "100%|██████████| 25/25 [00:18<00:00,  1.32it/s]\n",
      "100%|██████████| 11/11 [00:02<00:00,  3.77it/s]\n"
     ]
    },
    {
     "name": "stdout",
     "output_type": "stream",
     "text": [
      "Epoch 0063 | Train Acc: 0.4974 | Test: 0.5495 (max=0.5547) | AMI=0.3523 | Time: 21.7599\n"
     ]
    },
    {
     "name": "stderr",
     "output_type": "stream",
     "text": [
      "100%|██████████| 25/25 [00:18<00:00,  1.35it/s]\n",
      "100%|██████████| 11/11 [00:03<00:00,  3.54it/s]\n",
      "100%|██████████| 25/25 [00:18<00:00,  1.35it/s]\n",
      "100%|██████████| 11/11 [00:02<00:00,  3.79it/s]\n",
      "100%|██████████| 25/25 [00:18<00:00,  1.34it/s]\n",
      "100%|██████████| 11/11 [00:02<00:00,  3.73it/s]\n"
     ]
    },
    {
     "name": "stdout",
     "output_type": "stream",
     "text": [
      "Epoch 0066 | Train Acc: 0.4989 | Test: 0.5474 (max=0.5547) | AMI=0.3542 | Time: 21.7587\n"
     ]
    },
    {
     "name": "stderr",
     "output_type": "stream",
     "text": [
      "100%|██████████| 25/25 [00:18<00:00,  1.33it/s]\n",
      "100%|██████████| 11/11 [00:02<00:00,  3.73it/s]\n",
      "100%|██████████| 25/25 [00:18<00:00,  1.32it/s]\n",
      "100%|██████████| 11/11 [00:02<00:00,  3.86it/s]\n",
      "100%|██████████| 25/25 [00:18<00:00,  1.32it/s]\n",
      "100%|██████████| 11/11 [00:03<00:00,  3.64it/s]\n"
     ]
    },
    {
     "name": "stdout",
     "output_type": "stream",
     "text": [
      "Epoch 0069 | Train Acc: 0.4972 | Test: 0.5486 (max=0.5583) | AMI=0.3558 | Time: 21.7704\n"
     ]
    },
    {
     "name": "stderr",
     "output_type": "stream",
     "text": [
      "100%|██████████| 25/25 [00:18<00:00,  1.32it/s]\n",
      "100%|██████████| 11/11 [00:02<00:00,  3.73it/s]\n",
      "100%|██████████| 25/25 [00:18<00:00,  1.35it/s]\n",
      "100%|██████████| 11/11 [00:02<00:00,  3.79it/s]\n",
      "100%|██████████| 25/25 [00:18<00:00,  1.34it/s]\n",
      "100%|██████████| 11/11 [00:02<00:00,  3.75it/s]\n"
     ]
    },
    {
     "name": "stdout",
     "output_type": "stream",
     "text": [
      "Epoch 0072 | Train Acc: 0.5021 | Test: 0.5586 (max=0.5609) | AMI=0.3544 | Time: 21.7705\n"
     ]
    },
    {
     "name": "stderr",
     "output_type": "stream",
     "text": [
      "100%|██████████| 25/25 [00:18<00:00,  1.36it/s]\n",
      "100%|██████████| 11/11 [00:02<00:00,  3.78it/s]\n",
      "100%|██████████| 25/25 [00:18<00:00,  1.32it/s]\n",
      "100%|██████████| 11/11 [00:02<00:00,  3.81it/s]\n",
      "100%|██████████| 25/25 [00:18<00:00,  1.33it/s]\n",
      "100%|██████████| 11/11 [00:03<00:00,  3.58it/s]\n"
     ]
    },
    {
     "name": "stdout",
     "output_type": "stream",
     "text": [
      "Epoch 0075 | Train Acc: 0.5030 | Test: 0.5627 (max=0.5627) | AMI=0.3553 | Time: 21.7735\n"
     ]
    },
    {
     "name": "stderr",
     "output_type": "stream",
     "text": [
      "100%|██████████| 25/25 [00:18<00:00,  1.37it/s]\n",
      "100%|██████████| 11/11 [00:02<00:00,  3.78it/s]\n",
      "100%|██████████| 25/25 [00:18<00:00,  1.37it/s]\n",
      "100%|██████████| 11/11 [00:02<00:00,  3.82it/s]\n",
      "100%|██████████| 25/25 [00:18<00:00,  1.37it/s]\n",
      "100%|██████████| 11/11 [00:02<00:00,  3.81it/s]\n"
     ]
    },
    {
     "name": "stdout",
     "output_type": "stream",
     "text": [
      "Epoch 0078 | Train Acc: 0.5052 | Test: 0.5642 (max=0.5642) | AMI=0.3493 | Time: 21.7538\n"
     ]
    },
    {
     "name": "stderr",
     "output_type": "stream",
     "text": [
      "100%|██████████| 25/25 [00:18<00:00,  1.38it/s]\n",
      "100%|██████████| 11/11 [00:02<00:00,  3.82it/s]\n",
      "100%|██████████| 25/25 [00:18<00:00,  1.37it/s]\n",
      "100%|██████████| 11/11 [00:02<00:00,  3.81it/s]\n",
      "100%|██████████| 25/25 [00:18<00:00,  1.37it/s]\n",
      "100%|██████████| 11/11 [00:02<00:00,  3.79it/s]\n"
     ]
    },
    {
     "name": "stdout",
     "output_type": "stream",
     "text": [
      "Epoch 0081 | Train Acc: 0.5077 | Test: 0.5648 (max=0.5718) | AMI=0.3543 | Time: 21.7365\n"
     ]
    },
    {
     "name": "stderr",
     "output_type": "stream",
     "text": [
      "100%|██████████| 25/25 [00:18<00:00,  1.38it/s]\n",
      "100%|██████████| 11/11 [00:02<00:00,  3.77it/s]\n",
      "100%|██████████| 25/25 [00:18<00:00,  1.38it/s]\n",
      "100%|██████████| 11/11 [00:02<00:00,  3.82it/s]\n",
      "100%|██████████| 25/25 [00:18<00:00,  1.36it/s]\n",
      "100%|██████████| 11/11 [00:02<00:00,  3.75it/s]\n"
     ]
    },
    {
     "name": "stdout",
     "output_type": "stream",
     "text": [
      "Epoch 0084 | Train Acc: 0.5067 | Test: 0.5670 (max=0.5718) | AMI=0.3495 | Time: 21.7191\n"
     ]
    },
    {
     "name": "stderr",
     "output_type": "stream",
     "text": [
      "100%|██████████| 25/25 [00:18<00:00,  1.34it/s]\n",
      "100%|██████████| 11/11 [00:02<00:00,  3.71it/s]\n",
      "100%|██████████| 25/25 [00:18<00:00,  1.34it/s]\n",
      "100%|██████████| 11/11 [00:02<00:00,  3.72it/s]\n",
      "100%|██████████| 25/25 [00:18<00:00,  1.36it/s]\n",
      "100%|██████████| 11/11 [00:02<00:00,  3.70it/s]\n"
     ]
    },
    {
     "name": "stdout",
     "output_type": "stream",
     "text": [
      "Epoch 0087 | Train Acc: 0.5084 | Test: 0.5664 (max=0.5720) | AMI=0.3520 | Time: 21.7185\n"
     ]
    },
    {
     "name": "stderr",
     "output_type": "stream",
     "text": [
      "100%|██████████| 25/25 [00:18<00:00,  1.35it/s]\n",
      "100%|██████████| 11/11 [00:02<00:00,  3.75it/s]\n",
      "100%|██████████| 25/25 [00:18<00:00,  1.33it/s]\n",
      "100%|██████████| 11/11 [00:02<00:00,  3.78it/s]\n",
      "100%|██████████| 25/25 [00:18<00:00,  1.33it/s]\n",
      "100%|██████████| 11/11 [00:02<00:00,  3.77it/s]\n"
     ]
    },
    {
     "name": "stdout",
     "output_type": "stream",
     "text": [
      "Epoch 0090 | Train Acc: 0.5087 | Test: 0.5675 (max=0.5720) | AMI=0.3504 | Time: 21.7200\n"
     ]
    },
    {
     "name": "stderr",
     "output_type": "stream",
     "text": [
      "100%|██████████| 25/25 [00:18<00:00,  1.36it/s]\n",
      "100%|██████████| 11/11 [00:02<00:00,  3.78it/s]\n",
      "100%|██████████| 25/25 [00:18<00:00,  1.35it/s]\n",
      "100%|██████████| 11/11 [00:02<00:00,  3.75it/s]\n",
      "100%|██████████| 25/25 [00:18<00:00,  1.33it/s]\n",
      "100%|██████████| 11/11 [00:02<00:00,  3.75it/s]\n"
     ]
    },
    {
     "name": "stdout",
     "output_type": "stream",
     "text": [
      "Epoch 0093 | Train Acc: 0.5101 | Test: 0.5700 (max=0.5720) | AMI=0.3515 | Time: 21.7164\n"
     ]
    },
    {
     "name": "stderr",
     "output_type": "stream",
     "text": [
      "100%|██████████| 25/25 [00:19<00:00,  1.31it/s]\n",
      "100%|██████████| 11/11 [00:03<00:00,  3.55it/s]\n",
      "100%|██████████| 25/25 [00:19<00:00,  1.31it/s]\n",
      "100%|██████████| 11/11 [00:02<00:00,  3.73it/s]\n",
      "100%|██████████| 25/25 [00:19<00:00,  1.31it/s]\n",
      "100%|██████████| 11/11 [00:02<00:00,  3.82it/s]\n"
     ]
    },
    {
     "name": "stdout",
     "output_type": "stream",
     "text": [
      "Epoch 0096 | Train Acc: 0.5109 | Test: 0.5674 (max=0.5720) | AMI=0.3490 | Time: 21.7334\n"
     ]
    },
    {
     "name": "stderr",
     "output_type": "stream",
     "text": [
      "100%|██████████| 25/25 [00:18<00:00,  1.35it/s]\n",
      "100%|██████████| 11/11 [00:02<00:00,  3.70it/s]\n",
      "100%|██████████| 25/25 [00:18<00:00,  1.34it/s]\n",
      "100%|██████████| 11/11 [00:02<00:00,  3.85it/s]\n",
      "100%|██████████| 25/25 [00:18<00:00,  1.33it/s]\n",
      "100%|██████████| 11/11 [00:02<00:00,  3.73it/s]\n"
     ]
    },
    {
     "name": "stdout",
     "output_type": "stream",
     "text": [
      "Epoch 0099 | Train Acc: 0.5113 | Test: 0.5681 (max=0.5723) | AMI=0.3508 | Time: 21.7329\n"
     ]
    },
    {
     "name": "stderr",
     "output_type": "stream",
     "text": [
      "100%|██████████| 25/25 [00:18<00:00,  1.33it/s]\n",
      "100%|██████████| 11/11 [00:02<00:00,  3.69it/s]\n",
      "100%|██████████| 25/25 [00:18<00:00,  1.32it/s]\n",
      "100%|██████████| 11/11 [00:02<00:00,  3.85it/s]\n",
      "100%|██████████| 25/25 [00:18<00:00,  1.32it/s]\n",
      "100%|██████████| 11/11 [00:02<00:00,  3.76it/s]\n"
     ]
    },
    {
     "name": "stdout",
     "output_type": "stream",
     "text": [
      "Epoch 0102 | Train Acc: 0.5126 | Test: 0.5702 (max=0.5746) | AMI=0.3524 | Time: 21.7396\n"
     ]
    },
    {
     "name": "stderr",
     "output_type": "stream",
     "text": [
      "100%|██████████| 25/25 [00:18<00:00,  1.32it/s]\n",
      "100%|██████████| 11/11 [00:03<00:00,  3.49it/s]\n",
      "100%|██████████| 25/25 [00:19<00:00,  1.28it/s]\n",
      "100%|██████████| 11/11 [00:02<00:00,  3.80it/s]\n",
      "100%|██████████| 25/25 [00:18<00:00,  1.32it/s]\n",
      "100%|██████████| 11/11 [00:03<00:00,  3.36it/s]\n"
     ]
    },
    {
     "name": "stdout",
     "output_type": "stream",
     "text": [
      "Epoch 0105 | Train Acc: 0.5113 | Test: 0.5691 (max=0.5746) | AMI=0.3496 | Time: 21.7586\n"
     ]
    },
    {
     "name": "stderr",
     "output_type": "stream",
     "text": [
      "100%|██████████| 25/25 [00:19<00:00,  1.31it/s]\n",
      "100%|██████████| 11/11 [00:02<00:00,  3.71it/s]\n",
      "100%|██████████| 25/25 [00:19<00:00,  1.28it/s]\n",
      "100%|██████████| 11/11 [00:03<00:00,  3.65it/s]\n",
      "100%|██████████| 25/25 [00:18<00:00,  1.33it/s]\n",
      "100%|██████████| 11/11 [00:02<00:00,  3.73it/s]\n"
     ]
    },
    {
     "name": "stdout",
     "output_type": "stream",
     "text": [
      "Epoch 0108 | Train Acc: 0.5114 | Test: 0.5667 (max=0.5746) | AMI=0.3502 | Time: 21.7730\n"
     ]
    },
    {
     "name": "stderr",
     "output_type": "stream",
     "text": [
      "100%|██████████| 25/25 [00:18<00:00,  1.36it/s]\n",
      "100%|██████████| 11/11 [00:03<00:00,  3.55it/s]\n",
      "100%|██████████| 25/25 [00:19<00:00,  1.28it/s]\n",
      "100%|██████████| 11/11 [00:02<00:00,  3.81it/s]\n",
      "100%|██████████| 25/25 [00:19<00:00,  1.27it/s]\n",
      "100%|██████████| 11/11 [00:03<00:00,  3.59it/s]\n"
     ]
    },
    {
     "name": "stdout",
     "output_type": "stream",
     "text": [
      "Epoch 0111 | Train Acc: 0.5132 | Test: 0.5689 (max=0.5746) | AMI=0.3457 | Time: 21.7903\n"
     ]
    },
    {
     "name": "stderr",
     "output_type": "stream",
     "text": [
      "100%|██████████| 25/25 [00:19<00:00,  1.27it/s]\n",
      "100%|██████████| 11/11 [00:02<00:00,  3.77it/s]\n",
      "100%|██████████| 25/25 [00:19<00:00,  1.29it/s]\n",
      "100%|██████████| 11/11 [00:02<00:00,  3.69it/s]\n",
      "100%|██████████| 25/25 [00:18<00:00,  1.33it/s]\n",
      "100%|██████████| 11/11 [00:03<00:00,  3.66it/s]\n"
     ]
    },
    {
     "name": "stdout",
     "output_type": "stream",
     "text": [
      "Epoch 0114 | Train Acc: 0.5113 | Test: 0.5745 (max=0.5746) | AMI=0.3495 | Time: 21.8059\n"
     ]
    },
    {
     "name": "stderr",
     "output_type": "stream",
     "text": [
      "100%|██████████| 25/25 [00:19<00:00,  1.30it/s]\n",
      "100%|██████████| 11/11 [00:02<00:00,  3.69it/s]\n",
      "100%|██████████| 25/25 [00:18<00:00,  1.33it/s]\n",
      "100%|██████████| 11/11 [00:02<00:00,  3.80it/s]\n",
      "100%|██████████| 25/25 [00:19<00:00,  1.31it/s]\n",
      "100%|██████████| 11/11 [00:02<00:00,  3.68it/s]\n"
     ]
    },
    {
     "name": "stdout",
     "output_type": "stream",
     "text": [
      "Epoch 0117 | Train Acc: 0.5128 | Test: 0.5697 (max=0.5746) | AMI=0.3480 | Time: 21.8153\n"
     ]
    },
    {
     "name": "stderr",
     "output_type": "stream",
     "text": [
      "100%|██████████| 25/25 [00:19<00:00,  1.31it/s]\n",
      "100%|██████████| 11/11 [00:03<00:00,  3.66it/s]\n",
      "100%|██████████| 25/25 [00:19<00:00,  1.31it/s]\n",
      "100%|██████████| 11/11 [00:03<00:00,  3.62it/s]\n",
      "100%|██████████| 25/25 [00:19<00:00,  1.28it/s]\n",
      "100%|██████████| 11/11 [00:03<00:00,  3.62it/s]\n"
     ]
    },
    {
     "name": "stdout",
     "output_type": "stream",
     "text": [
      "Epoch 0120 | Train Acc: 0.5111 | Test: 0.5684 (max=0.5746) | AMI=0.3486 | Time: 21.8306\n"
     ]
    },
    {
     "name": "stderr",
     "output_type": "stream",
     "text": [
      "100%|██████████| 25/25 [00:19<00:00,  1.26it/s]\n",
      "100%|██████████| 11/11 [00:03<00:00,  3.57it/s]\n",
      "100%|██████████| 25/25 [00:19<00:00,  1.27it/s]\n",
      "100%|██████████| 11/11 [00:03<00:00,  3.62it/s]\n",
      "100%|██████████| 25/25 [00:20<00:00,  1.22it/s]\n",
      "100%|██████████| 11/11 [00:03<00:00,  3.56it/s]\n"
     ]
    },
    {
     "name": "stdout",
     "output_type": "stream",
     "text": [
      "Epoch 0123 | Train Acc: 0.5142 | Test: 0.5686 (max=0.5746) | AMI=0.3476 | Time: 21.8641\n"
     ]
    },
    {
     "name": "stderr",
     "output_type": "stream",
     "text": [
      "100%|██████████| 25/25 [00:19<00:00,  1.26it/s]\n",
      "100%|██████████| 11/11 [00:03<00:00,  3.64it/s]\n",
      "100%|██████████| 25/25 [00:19<00:00,  1.28it/s]\n",
      "100%|██████████| 11/11 [00:03<00:00,  3.60it/s]\n",
      "100%|██████████| 25/25 [00:19<00:00,  1.27it/s]\n",
      "100%|██████████| 11/11 [00:03<00:00,  3.53it/s]\n"
     ]
    },
    {
     "name": "stdout",
     "output_type": "stream",
     "text": [
      "Epoch 0126 | Train Acc: 0.5143 | Test: 0.5668 (max=0.5746) | AMI=0.3453 | Time: 21.8889\n"
     ]
    },
    {
     "name": "stderr",
     "output_type": "stream",
     "text": [
      "100%|██████████| 25/25 [00:20<00:00,  1.25it/s]\n",
      "100%|██████████| 11/11 [00:03<00:00,  3.55it/s]\n",
      "100%|██████████| 25/25 [00:20<00:00,  1.25it/s]\n",
      "100%|██████████| 11/11 [00:03<00:00,  3.49it/s]\n",
      "100%|██████████| 25/25 [00:20<00:00,  1.25it/s]\n",
      "100%|██████████| 11/11 [00:03<00:00,  3.52it/s]\n"
     ]
    },
    {
     "name": "stdout",
     "output_type": "stream",
     "text": [
      "Epoch 0129 | Train Acc: 0.5149 | Test: 0.5733 (max=0.5757) | AMI=0.3468 | Time: 21.9217\n"
     ]
    },
    {
     "name": "stderr",
     "output_type": "stream",
     "text": [
      "100%|██████████| 25/25 [00:19<00:00,  1.28it/s]\n",
      "100%|██████████| 11/11 [00:03<00:00,  3.45it/s]\n",
      "100%|██████████| 25/25 [00:19<00:00,  1.29it/s]\n",
      "100%|██████████| 11/11 [00:03<00:00,  3.45it/s]\n",
      "100%|██████████| 25/25 [00:19<00:00,  1.29it/s]\n",
      "100%|██████████| 11/11 [00:03<00:00,  3.49it/s]\n"
     ]
    },
    {
     "name": "stdout",
     "output_type": "stream",
     "text": [
      "Epoch 0132 | Train Acc: 0.5143 | Test: 0.5708 (max=0.5757) | AMI=0.3442 | Time: 21.9416\n"
     ]
    },
    {
     "name": "stderr",
     "output_type": "stream",
     "text": [
      "100%|██████████| 25/25 [00:19<00:00,  1.29it/s]\n",
      "100%|██████████| 11/11 [00:03<00:00,  3.41it/s]\n",
      "100%|██████████| 25/25 [00:19<00:00,  1.27it/s]\n",
      "100%|██████████| 11/11 [00:03<00:00,  3.47it/s]\n",
      "100%|██████████| 25/25 [00:19<00:00,  1.29it/s]\n",
      "100%|██████████| 11/11 [00:03<00:00,  3.37it/s]\n"
     ]
    },
    {
     "name": "stdout",
     "output_type": "stream",
     "text": [
      "Epoch 0135 | Train Acc: 0.5151 | Test: 0.5716 (max=0.5757) | AMI=0.3461 | Time: 21.9608\n"
     ]
    },
    {
     "name": "stderr",
     "output_type": "stream",
     "text": [
      "100%|██████████| 25/25 [00:19<00:00,  1.30it/s]\n",
      "100%|██████████| 11/11 [00:03<00:00,  3.40it/s]\n",
      "100%|██████████| 25/25 [00:19<00:00,  1.27it/s]\n",
      "100%|██████████| 11/11 [00:03<00:00,  3.43it/s]\n",
      "100%|██████████| 25/25 [00:20<00:00,  1.24it/s]\n",
      "100%|██████████| 11/11 [00:03<00:00,  3.49it/s]\n"
     ]
    },
    {
     "name": "stdout",
     "output_type": "stream",
     "text": [
      "Epoch 0138 | Train Acc: 0.5167 | Test: 0.5705 (max=0.5757) | AMI=0.3480 | Time: 21.9843\n"
     ]
    },
    {
     "name": "stderr",
     "output_type": "stream",
     "text": [
      "100%|██████████| 25/25 [00:20<00:00,  1.21it/s]\n",
      "100%|██████████| 11/11 [00:03<00:00,  3.40it/s]\n",
      "100%|██████████| 25/25 [00:19<00:00,  1.25it/s]\n",
      "100%|██████████| 11/11 [00:03<00:00,  3.52it/s]\n",
      "100%|██████████| 25/25 [00:20<00:00,  1.24it/s]\n",
      "100%|██████████| 11/11 [00:03<00:00,  3.15it/s]\n"
     ]
    },
    {
     "name": "stdout",
     "output_type": "stream",
     "text": [
      "Epoch 0141 | Train Acc: 0.5156 | Test: 0.5706 (max=0.5757) | AMI=0.3477 | Time: 22.0208\n"
     ]
    },
    {
     "name": "stderr",
     "output_type": "stream",
     "text": [
      "100%|██████████| 25/25 [00:20<00:00,  1.21it/s]\n",
      "100%|██████████| 11/11 [00:03<00:00,  3.39it/s]\n",
      "100%|██████████| 25/25 [00:20<00:00,  1.24it/s]\n",
      "100%|██████████| 11/11 [00:03<00:00,  3.36it/s]\n",
      "100%|██████████| 25/25 [00:20<00:00,  1.23it/s]\n",
      "100%|██████████| 11/11 [00:03<00:00,  3.31it/s]\n"
     ]
    },
    {
     "name": "stdout",
     "output_type": "stream",
     "text": [
      "Epoch 0144 | Train Acc: 0.5138 | Test: 0.5684 (max=0.5757) | AMI=0.3504 | Time: 22.0580\n"
     ]
    },
    {
     "name": "stderr",
     "output_type": "stream",
     "text": [
      "100%|██████████| 25/25 [00:20<00:00,  1.23it/s]\n",
      "100%|██████████| 11/11 [00:03<00:00,  3.27it/s]\n",
      "100%|██████████| 25/25 [00:20<00:00,  1.21it/s]\n",
      "100%|██████████| 11/11 [00:03<00:00,  3.36it/s]\n",
      "100%|██████████| 25/25 [00:20<00:00,  1.21it/s]\n",
      "100%|██████████| 11/11 [00:03<00:00,  3.28it/s]\n"
     ]
    },
    {
     "name": "stdout",
     "output_type": "stream",
     "text": [
      "Epoch 0147 | Train Acc: 0.5161 | Test: 0.5732 (max=0.5757) | AMI=0.3494 | Time: 22.0979\n"
     ]
    },
    {
     "name": "stderr",
     "output_type": "stream",
     "text": [
      "100%|██████████| 25/25 [00:20<00:00,  1.22it/s]\n",
      "100%|██████████| 11/11 [00:03<00:00,  3.19it/s]\n",
      "100%|██████████| 25/25 [00:20<00:00,  1.21it/s]\n",
      "100%|██████████| 11/11 [00:03<00:00,  3.27it/s]\n",
      "100%|██████████| 25/25 [00:20<00:00,  1.22it/s]\n",
      "100%|██████████| 11/11 [00:03<00:00,  3.28it/s]\n"
     ]
    },
    {
     "name": "stdout",
     "output_type": "stream",
     "text": [
      "Epoch 0150 | Train Acc: 0.5147 | Test: 0.5732 (max=0.5757) | AMI=0.3505 | Time: 22.1383\n"
     ]
    },
    {
     "name": "stderr",
     "output_type": "stream",
     "text": [
      "100%|██████████| 25/25 [00:20<00:00,  1.22it/s]\n",
      "100%|██████████| 11/11 [00:03<00:00,  3.37it/s]\n",
      "100%|██████████| 25/25 [00:20<00:00,  1.23it/s]\n",
      "100%|██████████| 11/11 [00:03<00:00,  3.33it/s]\n",
      "100%|██████████| 25/25 [00:20<00:00,  1.23it/s]\n",
      "100%|██████████| 11/11 [00:03<00:00,  3.24it/s]\n"
     ]
    },
    {
     "name": "stdout",
     "output_type": "stream",
     "text": [
      "Epoch 0153 | Train Acc: 0.5162 | Test: 0.5721 (max=0.5757) | AMI=0.3474 | Time: 22.1726\n"
     ]
    },
    {
     "name": "stderr",
     "output_type": "stream",
     "text": [
      "100%|██████████| 25/25 [00:20<00:00,  1.21it/s]\n",
      "100%|██████████| 11/11 [00:03<00:00,  3.26it/s]\n",
      "100%|██████████| 25/25 [00:21<00:00,  1.18it/s]\n",
      "100%|██████████| 11/11 [00:03<00:00,  3.30it/s]\n",
      "100%|██████████| 25/25 [00:20<00:00,  1.22it/s]\n",
      "100%|██████████| 11/11 [00:03<00:00,  3.06it/s]\n"
     ]
    },
    {
     "name": "stdout",
     "output_type": "stream",
     "text": [
      "Epoch 0156 | Train Acc: 0.5137 | Test: 0.5694 (max=0.5757) | AMI=0.3467 | Time: 22.2154\n"
     ]
    },
    {
     "name": "stderr",
     "output_type": "stream",
     "text": [
      "100%|██████████| 25/25 [00:20<00:00,  1.20it/s]\n",
      "100%|██████████| 11/11 [00:03<00:00,  3.23it/s]\n",
      "100%|██████████| 25/25 [00:20<00:00,  1.21it/s]\n",
      "100%|██████████| 11/11 [00:03<00:00,  3.22it/s]\n",
      "100%|██████████| 25/25 [00:20<00:00,  1.20it/s]\n",
      "100%|██████████| 11/11 [00:03<00:00,  3.20it/s]\n"
     ]
    },
    {
     "name": "stdout",
     "output_type": "stream",
     "text": [
      "Epoch 0159 | Train Acc: 0.5164 | Test: 0.5719 (max=0.5757) | AMI=0.3459 | Time: 22.2560\n"
     ]
    },
    {
     "name": "stderr",
     "output_type": "stream",
     "text": [
      "100%|██████████| 25/25 [00:20<00:00,  1.20it/s]\n",
      "100%|██████████| 11/11 [00:03<00:00,  3.26it/s]\n",
      "100%|██████████| 25/25 [00:20<00:00,  1.24it/s]\n",
      "100%|██████████| 11/11 [00:03<00:00,  3.35it/s]\n",
      "100%|██████████| 25/25 [00:19<00:00,  1.25it/s]\n",
      "100%|██████████| 11/11 [00:03<00:00,  3.24it/s]\n"
     ]
    },
    {
     "name": "stdout",
     "output_type": "stream",
     "text": [
      "Epoch 0162 | Train Acc: 0.5167 | Test: 0.5718 (max=0.5757) | AMI=0.3463 | Time: 22.2845\n"
     ]
    },
    {
     "name": "stderr",
     "output_type": "stream",
     "text": [
      "100%|██████████| 25/25 [00:20<00:00,  1.24it/s]\n",
      "100%|██████████| 11/11 [00:03<00:00,  3.26it/s]\n",
      "100%|██████████| 25/25 [00:20<00:00,  1.23it/s]\n",
      "100%|██████████| 11/11 [00:03<00:00,  3.23it/s]\n",
      "100%|██████████| 25/25 [00:20<00:00,  1.23it/s]\n",
      "100%|██████████| 11/11 [00:03<00:00,  3.24it/s]\n"
     ]
    },
    {
     "name": "stdout",
     "output_type": "stream",
     "text": [
      "Epoch 0165 | Train Acc: 0.5149 | Test: 0.5737 (max=0.5757) | AMI=0.3500 | Time: 22.3122\n"
     ]
    },
    {
     "name": "stderr",
     "output_type": "stream",
     "text": [
      "100%|██████████| 25/25 [00:20<00:00,  1.23it/s]\n",
      "100%|██████████| 11/11 [00:03<00:00,  3.25it/s]\n",
      "100%|██████████| 25/25 [00:20<00:00,  1.22it/s]\n",
      "100%|██████████| 11/11 [00:03<00:00,  3.16it/s]\n",
      "100%|██████████| 25/25 [00:20<00:00,  1.24it/s]\n",
      "100%|██████████| 11/11 [00:03<00:00,  3.20it/s]\n"
     ]
    },
    {
     "name": "stdout",
     "output_type": "stream",
     "text": [
      "Epoch 0168 | Train Acc: 0.5182 | Test: 0.5699 (max=0.5757) | AMI=0.3457 | Time: 22.3411\n"
     ]
    },
    {
     "name": "stderr",
     "output_type": "stream",
     "text": [
      "100%|██████████| 25/25 [00:20<00:00,  1.22it/s]\n",
      "100%|██████████| 11/11 [00:03<00:00,  3.12it/s]\n",
      "100%|██████████| 25/25 [00:21<00:00,  1.18it/s]\n",
      "100%|██████████| 11/11 [00:03<00:00,  3.22it/s]\n",
      "100%|██████████| 25/25 [00:20<00:00,  1.21it/s]\n",
      "100%|██████████| 11/11 [00:03<00:00,  3.23it/s]\n"
     ]
    },
    {
     "name": "stdout",
     "output_type": "stream",
     "text": [
      "Epoch 0171 | Train Acc: 0.5159 | Test: 0.5732 (max=0.5757) | AMI=0.3477 | Time: 22.3765\n"
     ]
    },
    {
     "name": "stderr",
     "output_type": "stream",
     "text": [
      "100%|██████████| 25/25 [00:21<00:00,  1.18it/s]\n",
      "100%|██████████| 11/11 [00:03<00:00,  3.29it/s]\n",
      "100%|██████████| 25/25 [00:19<00:00,  1.26it/s]\n",
      "100%|██████████| 11/11 [00:03<00:00,  3.20it/s]\n",
      "100%|██████████| 25/25 [00:20<00:00,  1.21it/s]\n",
      "100%|██████████| 11/11 [00:03<00:00,  3.20it/s]\n"
     ]
    },
    {
     "name": "stdout",
     "output_type": "stream",
     "text": [
      "Epoch 0174 | Train Acc: 0.5145 | Test: 0.5737 (max=0.5757) | AMI=0.3508 | Time: 22.4076\n"
     ]
    },
    {
     "name": "stderr",
     "output_type": "stream",
     "text": [
      "100%|██████████| 25/25 [00:20<00:00,  1.22it/s]\n",
      "100%|██████████| 11/11 [00:03<00:00,  3.20it/s]\n",
      "100%|██████████| 25/25 [00:20<00:00,  1.22it/s]\n",
      "100%|██████████| 11/11 [00:03<00:00,  3.20it/s]\n",
      "100%|██████████| 25/25 [00:20<00:00,  1.22it/s]\n",
      "100%|██████████| 11/11 [00:03<00:00,  3.18it/s]\n"
     ]
    },
    {
     "name": "stdout",
     "output_type": "stream",
     "text": [
      "Epoch 0177 | Train Acc: 0.5171 | Test: 0.5709 (max=0.5757) | AMI=0.3496 | Time: 22.4367\n"
     ]
    },
    {
     "name": "stderr",
     "output_type": "stream",
     "text": [
      "100%|██████████| 25/25 [00:20<00:00,  1.22it/s]\n",
      "100%|██████████| 11/11 [00:03<00:00,  3.24it/s]\n",
      "100%|██████████| 25/25 [00:20<00:00,  1.20it/s]\n",
      "100%|██████████| 11/11 [00:03<00:00,  3.23it/s]\n",
      "100%|██████████| 25/25 [00:20<00:00,  1.21it/s]\n",
      "100%|██████████| 11/11 [00:03<00:00,  3.19it/s]\n"
     ]
    },
    {
     "name": "stdout",
     "output_type": "stream",
     "text": [
      "Epoch 0180 | Train Acc: 0.5187 | Test: 0.5734 (max=0.5757) | AMI=0.3477 | Time: 22.4669\n"
     ]
    },
    {
     "name": "stderr",
     "output_type": "stream",
     "text": [
      "100%|██████████| 25/25 [00:20<00:00,  1.22it/s]\n",
      "100%|██████████| 11/11 [00:03<00:00,  3.12it/s]\n",
      "100%|██████████| 25/25 [00:20<00:00,  1.20it/s]\n",
      "100%|██████████| 11/11 [00:03<00:00,  3.22it/s]\n",
      "100%|██████████| 25/25 [00:20<00:00,  1.22it/s]\n",
      "100%|██████████| 11/11 [00:03<00:00,  3.19it/s]\n"
     ]
    },
    {
     "name": "stdout",
     "output_type": "stream",
     "text": [
      "Epoch 0183 | Train Acc: 0.5177 | Test: 0.5746 (max=0.5757) | AMI=0.3521 | Time: 22.4956\n"
     ]
    },
    {
     "name": "stderr",
     "output_type": "stream",
     "text": [
      "100%|██████████| 25/25 [00:20<00:00,  1.22it/s]\n",
      "100%|██████████| 11/11 [00:03<00:00,  3.14it/s]\n",
      "100%|██████████| 25/25 [00:20<00:00,  1.21it/s]\n",
      "100%|██████████| 11/11 [00:03<00:00,  3.28it/s]\n",
      "100%|██████████| 25/25 [00:20<00:00,  1.21it/s]\n",
      "100%|██████████| 11/11 [00:03<00:00,  3.14it/s]\n"
     ]
    },
    {
     "name": "stdout",
     "output_type": "stream",
     "text": [
      "Epoch 0186 | Train Acc: 0.5190 | Test: 0.5688 (max=0.5757) | AMI=0.3472 | Time: 22.5235\n"
     ]
    },
    {
     "name": "stderr",
     "output_type": "stream",
     "text": [
      "100%|██████████| 25/25 [00:20<00:00,  1.20it/s]\n",
      "100%|██████████| 11/11 [00:03<00:00,  3.23it/s]\n",
      "100%|██████████| 25/25 [00:21<00:00,  1.15it/s]\n",
      "100%|██████████| 11/11 [00:03<00:00,  3.11it/s]\n",
      "100%|██████████| 25/25 [00:21<00:00,  1.19it/s]\n",
      "100%|██████████| 11/11 [00:03<00:00,  3.08it/s]\n"
     ]
    },
    {
     "name": "stdout",
     "output_type": "stream",
     "text": [
      "Epoch 0189 | Train Acc: 0.5185 | Test: 0.5756 (max=0.5757) | AMI=0.3476 | Time: 22.5608\n"
     ]
    },
    {
     "name": "stderr",
     "output_type": "stream",
     "text": [
      "100%|██████████| 25/25 [00:21<00:00,  1.18it/s]\n",
      "100%|██████████| 11/11 [00:03<00:00,  3.14it/s]\n",
      "100%|██████████| 25/25 [00:21<00:00,  1.16it/s]\n",
      "100%|██████████| 11/11 [00:03<00:00,  3.14it/s]\n",
      "100%|██████████| 25/25 [00:21<00:00,  1.18it/s]\n",
      "100%|██████████| 11/11 [00:03<00:00,  3.16it/s]\n"
     ]
    },
    {
     "name": "stdout",
     "output_type": "stream",
     "text": [
      "Epoch 0192 | Train Acc: 0.5177 | Test: 0.5736 (max=0.5757) | AMI=0.3493 | Time: 22.5985\n"
     ]
    },
    {
     "name": "stderr",
     "output_type": "stream",
     "text": [
      "100%|██████████| 25/25 [00:21<00:00,  1.19it/s]\n",
      "100%|██████████| 11/11 [00:03<00:00,  3.16it/s]\n",
      "100%|██████████| 25/25 [00:20<00:00,  1.19it/s]\n",
      "100%|██████████| 11/11 [00:03<00:00,  3.22it/s]\n",
      "100%|██████████| 25/25 [00:21<00:00,  1.18it/s]\n",
      "100%|██████████| 11/11 [00:03<00:00,  3.20it/s]\n"
     ]
    },
    {
     "name": "stdout",
     "output_type": "stream",
     "text": [
      "Epoch 0195 | Train Acc: 0.5190 | Test: 0.5722 (max=0.5757) | AMI=0.3487 | Time: 22.6301\n"
     ]
    },
    {
     "name": "stderr",
     "output_type": "stream",
     "text": [
      "100%|██████████| 25/25 [00:21<00:00,  1.19it/s]\n",
      "100%|██████████| 11/11 [00:03<00:00,  3.21it/s]\n",
      "100%|██████████| 25/25 [00:20<00:00,  1.20it/s]\n",
      "100%|██████████| 11/11 [00:03<00:00,  3.17it/s]\n",
      "100%|██████████| 25/25 [00:21<00:00,  1.17it/s]\n",
      "100%|██████████| 11/11 [00:03<00:00,  3.09it/s]\n"
     ]
    },
    {
     "name": "stdout",
     "output_type": "stream",
     "text": [
      "Epoch 0198 | Train Acc: 0.5168 | Test: 0.5718 (max=0.5757) | AMI=0.3475 | Time: 22.6622\n"
     ]
    },
    {
     "name": "stderr",
     "output_type": "stream",
     "text": [
      "100%|██████████| 25/25 [00:21<00:00,  1.17it/s]\n",
      "100%|██████████| 11/11 [00:03<00:00,  3.15it/s]\n"
     ]
    },
    {
     "name": "stdout",
     "output_type": "stream",
     "text": [
      "Epoch 0199 | Train Acc: 0.5176 | Test: 0.5729 (max=0.5757) | AMI=0.3455 | Time: 22.6737\n",
      "figure has been saved into:\n",
      "\tResults/initial_embedding/Macaque-Mouse/figs/cluster_index.png\n",
      "states loaded from: Results/initial_embedding/Macaque-Mouse/_models/weights_epoch54.pt\n"
     ]
    },
    {
     "name": "stderr",
     "output_type": "stream",
     "text": [
      "100%|██████████| 31/31 [00:06<00:00,  5.01it/s]\n",
      "2024-03-21 14:30:32,560 base.py-113-save_json_dict(): INFO\n",
      " Results/initial_embedding/Macaque-Mouse/predictor.json\n",
      "2024-03-21 14:30:32,561 _predict.py-223-save(): INFO\n",
      " Results/initial_embedding/Macaque-Mouse/predictor.json\n",
      "2024-03-21 14:30:46,993 unaligned.py-311-save_init(): INFO\n",
      " inputs for construction datapair saved into Results/initial_embedding/Macaque-Mouse/datapair_init.pickle\n",
      "2024-03-21 14:30:47,023 pipeline.py-694-gather_came_results(): INFO\n",
      "      Macaque  Mouse\n",
      "1       2002     37\n",
      "0       1523    522\n",
      "3       1496     20\n",
      "7       1116     32\n",
      "10      1015     14\n",
      "..       ...    ...\n",
      "129       23     57\n",
      "144       19     33\n",
      "132       16     59\n",
      "149       14      4\n",
      "146       11     39\n",
      "\n",
      "[150 rows x 2 columns]\n",
      "2024-03-21 14:30:47,060 pipeline.py-527-main_for_unaligned(): WARNING\n",
      " An error occurred when plotting results: Cannot cast ufunc 'true_divide' output from dtype('float64') to dtype('int64') with casting rule 'same_kind'\n"
     ]
    },
    {
     "name": "stdout",
     "output_type": "stream",
     "text": [
      "object saved into:\n",
      "\t Results/initial_embedding/Macaque-Mouse/datapair_init.pickle\n",
      "(21919,)\n",
      "(21919,)\n",
      "<class 'str'>\n",
      "<class 'str'>\n",
      "figure has been saved into:\n",
      "\t./Results/initial_embedding/Macaque-Mouse/figs/heatmap_probas.pdf\n",
      "adding columns to `adata.obs` (ignore_index=True):\n",
      "adding columns to `adata.obs` (ignore_index=True):\n"
     ]
    },
    {
     "name": "stderr",
     "output_type": "stream",
     "text": [
      "... storing 'dataset' as categorical\n",
      "... storing 'REF' as categorical\n",
      "... storing 'celltype' as categorical\n",
      "... storing 'predicted' as categorical\n"
     ]
    },
    {
     "name": "stdout",
     "output_type": "stream",
     "text": [
      "WARNING: saving figure to file Results/initial_embedding/Macaque-Mouse/figs/umap-dataset.pdf\n",
      "WARNING: saving figure to file Results/initial_embedding/Macaque-Mouse/figs/umap-ctype.pdf\n"
     ]
    },
    {
     "name": "stderr",
     "output_type": "stream",
     "text": [
      "... storing 'name' as categorical\n",
      "... storing 'dataset' as categorical\n"
     ]
    },
    {
     "name": "stdout",
     "output_type": "stream",
     "text": [
      "WARNING: saving figure to file Results/initial_embedding/Macaque-Mouse/figs/umap_module-Macaque.pdf\n",
      "WARNING: saving figure to file Results/initial_embedding/Macaque-Mouse/figs/umap_module-Macaque.pdf\n"
     ]
    },
    {
     "name": "stderr",
     "output_type": "stream",
     "text": [
      "2024-03-21 14:32:07,184 analyze.py-673-weight_linked_vars(): INFO\n",
      " sorting links by weights\n"
     ]
    },
    {
     "name": "stdout",
     "output_type": "stream",
     "text": [
      "Computing averages grouped by cluster_region\n"
     ]
    },
    {
     "name": "stderr",
     "output_type": "stream",
     "text": [
      "2024-03-21 14:32:07,832 preprocess.py-1781-group_mean_sparse(): INFO\n",
      " Calculating feature averages for 150 groups\n",
      "2024-03-21 14:32:08,079 preprocess.py-1781-group_mean_sparse(): INFO\n",
      " Calculating feature averages for 150 groups\n"
     ]
    },
    {
     "name": "stdout",
     "output_type": "stream",
     "text": [
      "Computing averages grouped by cluster_region\n",
      "figure has been saved into:\n",
      "\t./Results/initial_embedding/Macaque-Mouse/figs/umap_exprAvgs-Macaque-all.png\n",
      "figure has been saved into:\n",
      "\t./Results/initial_embedding/Macaque-Mouse/figs/umap_exprAvgs-Mouse-all.png\n",
      "AnnData object with n_obs × n_vars = 21919 × 14333\n",
      "    obs: 'n_genes_by_counts', 'log1p_n_genes_by_counts', 'total_counts', 'log1p_total_counts', 'pct_counts_in_top_50_genes', 'pct_counts_in_top_100_genes', 'pct_counts_in_top_200_genes', 'pct_counts_in_top_500_genes', 'louvain', 'species_id', 'batch_name', 'slice_name', 'mclust', 'mclust_separate', 'STAGATE_annotation', 'region', 'region_name', 'annotation', 'gene_area'\n",
      "    var: 'n_cells_by_counts', 'mean_counts', 'log1p_mean_counts', 'pct_dropout_by_counts', 'total_counts', 'log1p_total_counts', 'n_cells', 'highly_variable', 'highly_variable_rank', 'means', 'variances', 'variances_norm'\n",
      "    uns: 'Spatial_Net', 'adj', 'batch_name_colors', 'hvg', 'log1p', 'louvain', 'louvain_colors', 'mclust_colors', 'mclust_separate_colors', 'neighbors', 'pca', 'umap'\n",
      "    obsm: 'STAGATE', 'X_pca', 'X_umap', 'spatial'\n",
      "    varm: 'PCs'\n",
      "    obsp: 'connectivities', 'distances'\n",
      "AnnData object with n_obs × n_vars = 28499 × 14932\n",
      "    obs: 'gene_area', 'annotation', 'species_id', 'batch_name', 'slice_name', 'louvain', 'mclust', 'mclust_separate', 'STAGATE_annotation', 'region', 'region_name', 'Macaque ITPKA', 'Macaque AMIGO2', 'Macaque HS3ST4', 'Macaque LRRTM4'\n",
      "    var: 'highly_variable', 'highly_variable_rank', 'means', 'variances', 'variances_norm'\n",
      "    uns: 'STAGATE_annotation_colors', 'Spatial_Net', 'adj', 'annotation_colors', 'batch_name_colors', 'hvg', 'log1p', 'louvain', 'louvain_colors', 'mclust_colors', 'mclust_separate_colors', 'neighbors', 'umap'\n",
      "    obsm: 'STAGATE', 'X_umap', 'spatial'\n",
      "    obsp: 'connectivities', 'distances'\n",
      "AnnData object with n_obs × n_vars = 50418 × 128\n",
      "    obs: 'original_name', 'dataset', 'REF', 'celltype', 'predicted', 'max_probs', 'is_right', '0', '1', '10', '100', '101', '102', '103', '104', '105', '106', '107', '108', '109', '11', '110', '111', '112', '113', '114', '115', '116', '117', '118', '119', '12', '120', '121', '122', '123', '124', '125', '126', '127', '128', '129', '13', '130', '131', '132', '133', '134', '135', '136', '137', '138', '139', '14', '140', '141', '142', '143', '144', '145', '146', '147', '148', '149', '15', '16', '17', '18', '19', '2', '20', '21', '22', '23', '24', '25', '26', '27', '28', '29', '3', '30', '31', '32', '33', '34', '35', '36', '37', '38', '39', '4', '40', '41', '42', '43', '44', '45', '46', '47', '48', '49', '5', '50', '51', '52', '53', '54', '55', '56', '57', '58', '59', '6', '60', '61', '62', '63', '64', '65', '66', '67', '68', '69', '7', '70', '71', '72', '73', '74', '75', '76', '77', '78', '79', '8', '80', '81', '82', '83', '84', '85', '86', '87', '88', '89', '9', '90', '91', '92', '93', '94', '95', '96', '97', '98', '99'\n",
      "    uns: 'celltype_colors', 'dataset_colors', 'neighbors', 'umap'\n",
      "    obsm: 'X_umap'\n",
      "    obsp: 'connectivities', 'distances'\n",
      "WARNING: saving figure to file Results/initial_embedding/Macaque-Mouse/figs/umap-umap_mouse.pdf\n",
      "WARNING: saving figure to file Results/initial_embedding/Macaque-Mouse/figs/umap-umap_human.pdf\n",
      "       Mouse      Macaque\n",
      "0  Mouse_CA1  Macaque_CA1\n",
      "1  Mouse_CA2  Macaque_CA2\n",
      "2  Mouse_CA3  Macaque_CA3\n",
      "3   Mouse_DG   Macaque_DG\n",
      "1-th region finished!\n",
      "2-th region finished!\n",
      "3-th region finished!\n",
      "4-th region finished!\n",
      "AnnData object with n_obs × n_vars = 21919 × 14333\n",
      "    obs: 'n_genes_by_counts', 'log1p_n_genes_by_counts', 'total_counts', 'log1p_total_counts', 'pct_counts_in_top_50_genes', 'pct_counts_in_top_100_genes', 'pct_counts_in_top_200_genes', 'pct_counts_in_top_500_genes', 'louvain', 'species_id', 'batch_name', 'slice_name', 'mclust', 'mclust_separate', 'STAGATE_annotation', 'region', 'region_name', 'annotation', 'gene_area'\n",
      "    var: 'n_cells_by_counts', 'mean_counts', 'log1p_mean_counts', 'pct_dropout_by_counts', 'total_counts', 'log1p_total_counts', 'n_cells', 'highly_variable', 'highly_variable_rank', 'means', 'variances', 'variances_norm'\n",
      "    uns: 'Spatial_Net', 'adj', 'batch_name_colors', 'hvg', 'log1p', 'louvain', 'louvain_colors', 'mclust_colors', 'mclust_separate_colors', 'neighbors', 'pca', 'umap'\n",
      "    obsm: 'STAGATE', 'X_pca', 'X_umap', 'spatial'\n",
      "    varm: 'PCs'\n",
      "    obsp: 'connectivities', 'distances'\n",
      "AnnData object with n_obs × n_vars = 28499 × 14932\n",
      "    obs: 'gene_area', 'annotation', 'species_id', 'batch_name', 'slice_name', 'louvain', 'mclust', 'mclust_separate', 'STAGATE_annotation', 'region', 'region_name', 'Macaque ITPKA', 'Macaque AMIGO2', 'Macaque HS3ST4', 'Macaque LRRTM4'\n",
      "    var: 'highly_variable', 'highly_variable_rank', 'means', 'variances', 'variances_norm'\n",
      "    uns: 'STAGATE_annotation_colors', 'Spatial_Net', 'adj', 'annotation_colors', 'batch_name_colors', 'hvg', 'log1p', 'louvain', 'louvain_colors', 'mclust_colors', 'mclust_separate_colors', 'neighbors', 'umap'\n",
      "    obsm: 'STAGATE', 'X_umap', 'spatial'\n",
      "    obsp: 'connectivities', 'distances'\n",
      "AnnData object with n_obs × n_vars = 50418 × 128\n",
      "    obs: 'original_name', 'dataset', 'REF', 'celltype', 'predicted', 'max_probs', 'is_right', '0', '1', '10', '100', '101', '102', '103', '104', '105', '106', '107', '108', '109', '11', '110', '111', '112', '113', '114', '115', '116', '117', '118', '119', '12', '120', '121', '122', '123', '124', '125', '126', '127', '128', '129', '13', '130', '131', '132', '133', '134', '135', '136', '137', '138', '139', '14', '140', '141', '142', '143', '144', '145', '146', '147', '148', '149', '15', '16', '17', '18', '19', '2', '20', '21', '22', '23', '24', '25', '26', '27', '28', '29', '3', '30', '31', '32', '33', '34', '35', '36', '37', '38', '39', '4', '40', '41', '42', '43', '44', '45', '46', '47', '48', '49', '5', '50', '51', '52', '53', '54', '55', '56', '57', '58', '59', '6', '60', '61', '62', '63', '64', '65', '66', '67', '68', '69', '7', '70', '71', '72', '73', '74', '75', '76', '77', '78', '79', '8', '80', '81', '82', '83', '84', '85', '86', '87', '88', '89', '9', '90', '91', '92', '93', '94', '95', '96', '97', '98', '99'\n",
      "    uns: 'celltype_colors', 'dataset_colors', 'neighbors', 'umap'\n",
      "    obsm: 'X_umap'\n",
      "    obsp: 'connectivities', 'distances'\n",
      "       Mouse      Macaque\n",
      "0  Mouse_CA1  Macaque_CA1\n",
      "1  Mouse_CA2  Macaque_CA2\n",
      "2  Mouse_CA3  Macaque_CA3\n",
      "3   Mouse_DG   Macaque_DG\n",
      "1-th region finished!\n",
      "2-th region finished!\n",
      "3-th region finished!\n",
      "4-th region finished!\n",
      "5-th region finished!\n",
      "6-th region finished!\n",
      "7-th region finished!\n",
      "8-th region finished!\n",
      "9-th region finished!\n",
      "10-th region finished!\n",
      "11-th region finished!\n",
      "12-th region finished!\n",
      "13-th region finished!\n",
      "14-th region finished!\n",
      "15-th region finished!\n",
      "16-th region finished!\n",
      "17-th region finished!\n",
      "18-th region finished!\n",
      "19-th region finished!\n",
      "20-th region finished!\n",
      "21-th region finished!\n",
      "22-th region finished!\n",
      "23-th region finished!\n",
      "24-th region finished!\n",
      "25-th region finished!\n",
      "26-th region finished!\n",
      "27-th region finished!\n",
      "28-th region finished!\n",
      "29-th region finished!\n",
      "30-th region finished!\n",
      "31-th region finished!\n",
      "32-th region finished!\n",
      "33-th region finished!\n",
      "34-th region finished!\n",
      "35-th region finished!\n",
      "36-th region finished!\n",
      "37-th region finished!\n",
      "38-th region finished!\n",
      "39-th region finished!\n",
      "40-th region finished!\n",
      "41-th region finished!\n",
      "   Mouse_region_list Macaque_region_list      mean       std        type\n",
      "0          Mouse_CA1         Macaque_CA1  0.440275  0.403841  homologous\n",
      "1          Mouse_CA2         Macaque_CA2  0.506610  0.425920  homologous\n",
      "2          Mouse_CA3         Macaque_CA3  0.539292  0.428093  homologous\n",
      "3           Mouse_DG          Macaque_DG  0.792184  0.358889  homologous\n",
      "4          Mouse_CA1         Macaque_CA2  0.321632  0.407182      random\n",
      "5          Mouse_CA1         Macaque_CA3  0.271762  0.387988      random\n",
      "6          Mouse_CA1          Macaque_DG  0.381922  0.419163      random\n",
      "7          Mouse_CA1        Macaque_preS  0.210063  0.376360      random\n",
      "8          Mouse_CA1         Macaque_SUB  0.226651  0.345751      random\n",
      "9          Mouse_CA1       Macaque_paraS  0.204857  0.360115      random\n",
      "10         Mouse_CA1         Macaque_CA4  0.229737  0.351558      random\n",
      "11         Mouse_CA1  Macaque_background  0.286399  0.342912      random\n",
      "12         Mouse_CA2         Macaque_CA1  0.326810  0.400257      random\n",
      "13         Mouse_CA2         Macaque_CA3  0.438830  0.424765      random\n",
      "14         Mouse_CA2          Macaque_DG  0.348678  0.510416      random\n",
      "15         Mouse_CA2        Macaque_preS  0.210334  0.369891      random\n",
      "16         Mouse_CA2         Macaque_SUB  0.215991  0.327290      random\n",
      "17         Mouse_CA2       Macaque_paraS  0.172914  0.345655      random\n",
      "18         Mouse_CA2         Macaque_CA4  0.234950  0.370736      random\n",
      "19         Mouse_CA2  Macaque_background  0.187542  0.335349      random\n",
      "20         Mouse_CA3         Macaque_CA1  0.318457  0.419200      random\n",
      "21         Mouse_CA3         Macaque_CA2  0.664463  0.386772      random\n",
      "22         Mouse_CA3          Macaque_DG  0.320869  0.537276      random\n",
      "23         Mouse_CA3        Macaque_preS  0.245190  0.415563      random\n",
      "24         Mouse_CA3         Macaque_SUB  0.264397  0.369799      random\n",
      "25         Mouse_CA3       Macaque_paraS  0.211573  0.399115      random\n",
      "26         Mouse_CA3         Macaque_CA4  0.303609  0.421652      random\n",
      "27         Mouse_CA3  Macaque_background  0.179573  0.352887      random\n",
      "28          Mouse_DG         Macaque_CA1  0.368504  0.398758      random\n",
      "29          Mouse_DG         Macaque_CA2  0.310377  0.516075      random\n",
      "30          Mouse_DG         Macaque_CA3  0.282942  0.495860      random\n",
      "31          Mouse_DG        Macaque_preS  0.384235  0.380140      random\n",
      "32          Mouse_DG         Macaque_SUB  0.238014  0.396202      random\n",
      "33          Mouse_DG       Macaque_paraS  0.323139  0.370935      random\n",
      "34          Mouse_DG         Macaque_CA4  0.261523  0.437797      random\n",
      "35          Mouse_DG  Macaque_background  0.228441  0.348303      random\n",
      "36  Mouse_background         Macaque_CA1  0.129631  0.282471      random\n",
      "37  Mouse_background         Macaque_CA2  0.079597  0.249702      random\n",
      "38  Mouse_background         Macaque_CA3  0.084292  0.252203      random\n",
      "39  Mouse_background          Macaque_DG  0.102562  0.256193      random\n",
      "40  Mouse_background        Macaque_preS  0.156279  0.275804      random\n",
      "41  Mouse_background         Macaque_SUB  0.184838  0.296979      random\n",
      "42  Mouse_background       Macaque_paraS  0.161324  0.284677      random\n",
      "43  Mouse_background         Macaque_CA4  0.159944  0.292041      random\n",
      "44  Mouse_background  Macaque_background  0.324649  0.371037      random\n",
      "   Mouse_region_list Macaque_region_list      mean       std    type\n",
      "4          Mouse_CA1         Macaque_CA2  0.321632  0.407182  random\n",
      "5          Mouse_CA1         Macaque_CA3  0.271762  0.387988  random\n",
      "6          Mouse_CA1          Macaque_DG  0.381922  0.419163  random\n",
      "7          Mouse_CA1        Macaque_preS  0.210063  0.376360  random\n",
      "8          Mouse_CA1         Macaque_SUB  0.226651  0.345751  random\n",
      "9          Mouse_CA1       Macaque_paraS  0.204857  0.360115  random\n",
      "10         Mouse_CA1         Macaque_CA4  0.229737  0.351558  random\n",
      "11         Mouse_CA1  Macaque_background  0.286399  0.342912  random\n",
      "12         Mouse_CA2         Macaque_CA1  0.326810  0.400257  random\n",
      "13         Mouse_CA2         Macaque_CA3  0.438830  0.424765  random\n",
      "14         Mouse_CA2          Macaque_DG  0.348678  0.510416  random\n",
      "15         Mouse_CA2        Macaque_preS  0.210334  0.369891  random\n",
      "16         Mouse_CA2         Macaque_SUB  0.215991  0.327290  random\n",
      "17         Mouse_CA2       Macaque_paraS  0.172914  0.345655  random\n",
      "18         Mouse_CA2         Macaque_CA4  0.234950  0.370736  random\n",
      "19         Mouse_CA2  Macaque_background  0.187542  0.335349  random\n",
      "20         Mouse_CA3         Macaque_CA1  0.318457  0.419200  random\n",
      "21         Mouse_CA3         Macaque_CA2  0.664463  0.386772  random\n",
      "22         Mouse_CA3          Macaque_DG  0.320869  0.537276  random\n",
      "23         Mouse_CA3        Macaque_preS  0.245190  0.415563  random\n",
      "24         Mouse_CA3         Macaque_SUB  0.264397  0.369799  random\n",
      "25         Mouse_CA3       Macaque_paraS  0.211573  0.399115  random\n",
      "26         Mouse_CA3         Macaque_CA4  0.303609  0.421652  random\n",
      "27         Mouse_CA3  Macaque_background  0.179573  0.352887  random\n",
      "28          Mouse_DG         Macaque_CA1  0.368504  0.398758  random\n",
      "29          Mouse_DG         Macaque_CA2  0.310377  0.516075  random\n",
      "30          Mouse_DG         Macaque_CA3  0.282942  0.495860  random\n",
      "31          Mouse_DG        Macaque_preS  0.384235  0.380140  random\n",
      "32          Mouse_DG         Macaque_SUB  0.238014  0.396202  random\n",
      "33          Mouse_DG       Macaque_paraS  0.323139  0.370935  random\n",
      "34          Mouse_DG         Macaque_CA4  0.261523  0.437797  random\n",
      "35          Mouse_DG  Macaque_background  0.228441  0.348303  random\n",
      "36  Mouse_background         Macaque_CA1  0.129631  0.282471  random\n",
      "37  Mouse_background         Macaque_CA2  0.079597  0.249702  random\n",
      "38  Mouse_background         Macaque_CA3  0.084292  0.252203  random\n",
      "39  Mouse_background          Macaque_DG  0.102562  0.256193  random\n",
      "40  Mouse_background        Macaque_preS  0.156279  0.275804  random\n",
      "41  Mouse_background         Macaque_SUB  0.184838  0.296979  random\n",
      "42  Mouse_background       Macaque_paraS  0.161324  0.284677  random\n",
      "43  Mouse_background         Macaque_CA4  0.159944  0.292041  random\n",
      "44  Mouse_background  Macaque_background  0.324649  0.371037  random\n",
      "  Mouse_region_list Macaque_region_list      mean       std        type\n",
      "0         Mouse_CA1         Macaque_CA1  0.440275  0.403841  homologous\n",
      "1         Mouse_CA2         Macaque_CA2  0.506610  0.425920  homologous\n",
      "2         Mouse_CA3         Macaque_CA3  0.539292  0.428093  homologous\n",
      "3          Mouse_DG          Macaque_DG  0.792184  0.358889  homologous\n",
      "Ttest_indResult(statistic=3.961917306899064, pvalue=0.024265180487524313)\n"
     ]
    }
   ],
   "source": [
    "# -- coding: utf-8 --\n",
    "\n",
    "\n",
    "import warnings\n",
    "warnings.filterwarnings(\"ignore\")\n",
    "import sys\n",
    "#sys.path.append('../')\n",
    "sys.path.append('../../../run_came/')\n",
    "from analysis_utils import ttest_plot_utils\n",
    "from analysis_utils import homo_random_config as config\n",
    "import os\n",
    "\n",
    "\n",
    "if __name__ == '__main__':\n",
    "\n",
    "    cfg = config._C\n",
    "    #os.environ['CUDA_VISIBLE_DEVICES'] = '-1' #cfg.CAME.visible_device\n",
    "    #cfg.CAME.n_top_genes = 1000\n",
    "    cfg.CAME.visible_device = '-1'\n",
    "    n_top_genes_list = [4000]\n",
    "\n",
    "    cfg.CAME.species_name_list = ['Macaque', 'Mouse']\n",
    "    cfg.CAME.learning_label = ['cluster_region', 'cluster_region']# #['cluster_name', 'cluster_name'] # ['region_name', 'region_name']\n",
    "    cfg.CAME.annotation_name = ['region_name', 'region_name'] # Only used for picking genes and analysis\n",
    "    \n",
    "    cfg.CAME.n_top_genes = n_top_genes_list[0]\n",
    "    cfg.CAME.sparse = False\n",
    "    cfg.CAME.do_normalize = [True, True]\n",
    "    cfg.CAME.ROOT = './Results/initial_embedding/'\n",
    "    cfg.CAME.path_rawdata2 = './Data/Mouse_MERFISH.h5ad'\n",
    "    cfg.CAME.path_rawdata1 = './Data/Macaque.h5ad'\n",
    "\n",
    "    cfg.CAME.path_labels_2 = './Data/mouse_region_list.csv'\n",
    "    cfg.CAME.path_labels_1 = './Data/macaque_region_list.csv'\n",
    "\n",
    "    cfg.CAME.embedding_size = 128\n",
    "\n",
    "    cfg.CAME.human_mouse_homo_region = './Data/mouse_macaque_homo_region.csv'\n",
    "    #    ttest_plot_utils.run_came_homo_random(cfg)\n",
    "\n",
    "    cfg.CAME.path_varmap = './Data/Macaque_Mouse_multi2multi.csv'\n",
    "    cfg.CAME.path_varmap_1v1 = './Data/Macaque_Mouse_one2one.csv'\n",
    "\n",
    "    cfg.PROCESS.path_rawdata1 = cfg.CAME.path_rawdata1\n",
    "    cfg.PROCESS.path_rawdata2 = cfg.CAME.path_rawdata2\n",
    "\n",
    "    cfg.TRAINING.n_epochs = 200\n",
    "\n",
    "    cfg.CAME.preclustering_resolution = 6\n",
    "\n",
    "    ttest_plot_utils.run_came_homo_random(cfg)\n",
    "\n"
   ]
  },
  {
   "cell_type": "code",
   "execution_count": 2,
   "id": "a1db73cf-6394-4d85-9ac9-cb8ad9be1bad",
   "metadata": {
    "scrolled": true
   },
   "outputs": [
    {
     "name": "stdout",
     "output_type": "stream",
     "text": [
      "--------------------------Config: ANALYSIS:\n",
      "  cluster_markergenes: 20\n",
      "  cut_ov: 0\n",
      "  genes_umap_neighbor: 15\n",
      "  human_umap_marker_size: 10\n",
      "  human_umap_neighbor: 30\n",
      "  mouse_umap_marker_size: 5\n",
      "  mouse_umap_neighbor: 30\n",
      "  sample_cluster_num: 60\n",
      "  umap_homo_random: 30\n",
      "  umap_marker_size: 5\n",
      "  umap_neighbor: 30\n",
      "BrainAlign:\n",
      "  DATA_PATH: ./Results/data/\n",
      "  DEG_batch_key: None\n",
      "  DEG_n_top_genes: 5000\n",
      "  M: 12436\n",
      "  M_sample_rate: [3]\n",
      "  NODE_TYPE_NUM: 2\n",
      "  S: 50418\n",
      "  S_sample_rate: [1]\n",
      "  binary_H: 6180\n",
      "  binary_M: 6256\n",
      "  binary_S: 28499\n",
      "  binary_V: 21919\n",
      "  dataset: macaque_mouse_binary\n",
      "  dsnames: ['Macaque', 'Mouse']\n",
      "  embedding_pca_dim: 30\n",
      "  embedding_type: came\n",
      "  embeddings_file_path: ./Results/embeds/\n",
      "  experiment_time: \n",
      "  fig_dpi: 500\n",
      "  fig_format: png\n",
      "  homo_region_num: 4\n",
      "  if_threshold: True\n",
      "  method: srrsc\n",
      "  mouse_dataset: 2020sa\n",
      "  node_relation: spatial_2d\n",
      "  normalize_before_pca: None\n",
      "  normalize_before_pca_target_sum: None\n",
      "  normalize_before_pruning_method: default\n",
      "  normalize_before_pruning_method_1: None\n",
      "  normalize_before_pruning_method_2: default\n",
      "  normalize_scale: True\n",
      "  palette_human_file: ../../../../CAME/brain_mouse_2020sa/human_gene_palette/gene-list.tsv\n",
      "  palette_mouse_file: ../../../../CAME/brain_mouse_2020sa/mouse_gene_palette/genes-list-266.tsv\n",
      "  positive_sample_number: 5000\n",
      "  pruning_method: std\n",
      "  pruning_normalize_axis: 0\n",
      "  pruning_normalize_axis_1: 0\n",
      "  pruning_normalize_axis_2: 0\n",
      "  pruning_std_times_sm: 3\n",
      "  pruning_std_times_vh: 2.3\n",
      "  pruning_target_sum: None\n",
      "  pruning_target_sum_1: None\n",
      "  pruning_target_sum_2: None\n",
      "  result_save_folder: ./Results\n",
      "  result_save_path: ./Results\n",
      "  sm_gene_top: 5\n",
      "  sm_sample_top: 5\n",
      "  spatial_node_neighbor: 4\n",
      "  used_data_path: ../../../used_data/\n",
      "  vh_gene_top: 5\n",
      "  vh_sample_top: 5\n",
      "CAME:\n",
      "  ROOT: ./Results/initial_embedding/Macaque-Mouse/\n",
      "  figdir: ./Results/initial_embedding/Macaque-Mouse/figs/\n",
      "  homo_region_file_path: ./Data/mouse_macaque_homo_region.csv\n",
      "  human_mouse_homo_region: ./Data/mouse_macaque_homo_region.csv\n",
      "  labels_dir: ./Data/\n",
      "  labels_human_file: human_88_label.csv\n",
      "  labels_mouse_file: mouse_region_list_64.csv\n",
      "  parent_labels_human_file: human_16_label.csv\n",
      "  parent_labels_mouse_file: mouse_parent_region_list_15.csv\n",
      "  path_labels_1: ./Data/macaque_region_list.csv\n",
      "  path_labels_2: ./Data/mouse_region_list.csv\n",
      "  path_rawdata1: ./Data/Macaque.h5ad\n",
      "  path_rawdata2: ./Data/Mouse_MERFISH.h5ad\n",
      "  path_varmap: ./Data/Macaque_Mouse_multi2multi.csv\n",
      "  path_varmap_1v1: ./Data/Macaque_Mouse_one2one.csv\n",
      "HOMO_RANDOM:\n",
      "  random_field: all\n",
      "  random_plot: False\n",
      "SRRSC_args:\n",
      "  data_path: ./Results/data/\n",
      "  dataset: mouse_human_binary\n",
      "  device: cpu\n",
      "  drop_prob: 0.6\n",
      "  ft_size: None\n",
      "  gpu_num: 0\n",
      "  hid_units: 256\n",
      "  hid_units2: 128\n",
      "  if_pretrained: False\n",
      "  isAtt: True\n",
      "  isBias: True\n",
      "  isLP: False\n",
      "  isSemi: False\n",
      "  labels: None\n",
      "  lamb: 0.5\n",
      "  lamb_lp: 1.0\n",
      "  lr: 0.01\n",
      "  lr_gamma: 0.5\n",
      "  lr_stepsize: 20\n",
      "  margin: 0.8\n",
      "  model: SubHIN\n",
      "  nb_epochs: 150\n",
      "  node_type: None\n",
      "  out_ft: 128\n",
      "  patience: 30\n",
      "  pretrained_model_path: ./results/2022-11-30_17-18-47/\n",
      "  rel_types: None\n",
      "  save_emb: True\n",
      "  save_path: ./Results\n",
      "  seed: 100\n",
      "  test_ratio: 0.05\n",
      "  train_ratio: 0.9\n",
      "  validation_ratio: 0.45\n",
      "TRAIN:\n",
      "  if_pretrain: False\n",
      "2024-03-21 15:50:26,931 Running SR-RSC and analysis INFO: Running with config:\n",
      "ANALYSIS:\n",
      "  cluster_markergenes: 20\n",
      "  cut_ov: 0\n",
      "  genes_umap_neighbor: 15\n",
      "  human_umap_marker_size: 10\n",
      "  human_umap_neighbor: 30\n",
      "  mouse_umap_marker_size: 5\n",
      "  mouse_umap_neighbor: 30\n",
      "  sample_cluster_num: 60\n",
      "  umap_homo_random: 30\n",
      "  umap_marker_size: 5\n",
      "  umap_neighbor: 30\n",
      "BrainAlign:\n",
      "  DATA_PATH: ./Results/data/\n",
      "  DEG_batch_key: None\n",
      "  DEG_n_top_genes: 5000\n",
      "  M: 12436\n",
      "  M_sample_rate: [3]\n",
      "  NODE_TYPE_NUM: 2\n",
      "  S: 50418\n",
      "  S_sample_rate: [1]\n",
      "  binary_H: 6180\n",
      "  binary_M: 6256\n",
      "  binary_S: 28499\n",
      "  binary_V: 21919\n",
      "  dataset: macaque_mouse_binary\n",
      "  dsnames: ['Macaque', 'Mouse']\n",
      "  embedding_pca_dim: 30\n",
      "  embedding_type: came\n",
      "  embeddings_file_path: ./Results/embeds/\n",
      "  experiment_time: \n",
      "  fig_dpi: 500\n",
      "  fig_format: png\n",
      "  homo_region_num: 4\n",
      "  if_threshold: True\n",
      "  method: srrsc\n",
      "  mouse_dataset: 2020sa\n",
      "  node_relation: spatial_2d\n",
      "  normalize_before_pca: None\n",
      "  normalize_before_pca_target_sum: None\n",
      "  normalize_before_pruning_method: default\n",
      "  normalize_before_pruning_method_1: None\n",
      "  normalize_before_pruning_method_2: default\n",
      "  normalize_scale: True\n",
      "  palette_human_file: ../../../../CAME/brain_mouse_2020sa/human_gene_palette/gene-list.tsv\n",
      "  palette_mouse_file: ../../../../CAME/brain_mouse_2020sa/mouse_gene_palette/genes-list-266.tsv\n",
      "  positive_sample_number: 5000\n",
      "  pruning_method: std\n",
      "  pruning_normalize_axis: 0\n",
      "  pruning_normalize_axis_1: 0\n",
      "  pruning_normalize_axis_2: 0\n",
      "  pruning_std_times_sm: 3\n",
      "  pruning_std_times_vh: 2.3\n",
      "  pruning_target_sum: None\n",
      "  pruning_target_sum_1: None\n",
      "  pruning_target_sum_2: None\n",
      "  result_save_folder: ./Results\n",
      "  result_save_path: ./Results\n",
      "  sm_gene_top: 5\n",
      "  sm_sample_top: 5\n",
      "  spatial_node_neighbor: 4\n",
      "  used_data_path: ../../../used_data/\n",
      "  vh_gene_top: 5\n",
      "  vh_sample_top: 5\n",
      "CAME:\n",
      "  ROOT: ./Results/initial_embedding/Macaque-Mouse/\n",
      "  figdir: ./Results/initial_embedding/Macaque-Mouse/figs/\n",
      "  homo_region_file_path: ./Data/mouse_macaque_homo_region.csv\n",
      "  human_mouse_homo_region: ./Data/mouse_macaque_homo_region.csv\n",
      "  labels_dir: ./Data/\n",
      "  labels_human_file: human_88_label.csv\n",
      "  labels_mouse_file: mouse_region_list_64.csv\n",
      "  parent_labels_human_file: human_16_label.csv\n",
      "  parent_labels_mouse_file: mouse_parent_region_list_15.csv\n",
      "  path_labels_1: ./Data/macaque_region_list.csv\n",
      "  path_labels_2: ./Data/mouse_region_list.csv\n",
      "  path_rawdata1: ./Data/Macaque.h5ad\n",
      "  path_rawdata2: ./Data/Mouse_MERFISH.h5ad\n",
      "  path_varmap: ./Data/Macaque_Mouse_multi2multi.csv\n",
      "  path_varmap_1v1: ./Data/Macaque_Mouse_one2one.csv\n",
      "HOMO_RANDOM:\n",
      "  random_field: all\n",
      "  random_plot: False\n",
      "SRRSC_args:\n",
      "  data_path: ./Results/data/\n",
      "  dataset: mouse_human_binary\n",
      "  device: cpu\n",
      "  drop_prob: 0.6\n",
      "  ft_size: None\n",
      "  gpu_num: 0\n",
      "  hid_units: 256\n",
      "  hid_units2: 128\n",
      "  if_pretrained: False\n",
      "  isAtt: True\n",
      "  isBias: True\n",
      "  isLP: False\n",
      "  isSemi: False\n",
      "  labels: None\n",
      "  lamb: 0.5\n",
      "  lamb_lp: 1.0\n",
      "  lr: 0.01\n",
      "  lr_gamma: 0.5\n",
      "  lr_stepsize: 20\n",
      "  margin: 0.8\n",
      "  model: SubHIN\n",
      "  nb_epochs: 150\n",
      "  node_type: None\n",
      "  out_ft: 128\n",
      "  patience: 30\n",
      "  pretrained_model_path: ./results/2022-11-30_17-18-47/\n",
      "  rel_types: None\n",
      "  save_emb: True\n",
      "  save_path: ./Results\n",
      "  seed: 100\n",
      "  test_ratio: 0.05\n",
      "  train_ratio: 0.9\n",
      "  validation_ratio: 0.45\n",
      "TRAIN:\n",
      "  if_pretrain: False\n"
     ]
    },
    {
     "name": "stderr",
     "output_type": "stream",
     "text": [
      "2024-03-21 15:50:26,931 process.py-1010-get_srrsc_input(): INFO\n",
      " Running with config:\n",
      "ANALYSIS:\n",
      "  cluster_markergenes: 20\n",
      "  cut_ov: 0\n",
      "  genes_umap_neighbor: 15\n",
      "  human_umap_marker_size: 10\n",
      "  human_umap_neighbor: 30\n",
      "  mouse_umap_marker_size: 5\n",
      "  mouse_umap_neighbor: 30\n",
      "  sample_cluster_num: 60\n",
      "  umap_homo_random: 30\n",
      "  umap_marker_size: 5\n",
      "  umap_neighbor: 30\n",
      "BrainAlign:\n",
      "  DATA_PATH: ./Results/data/\n",
      "  DEG_batch_key: None\n",
      "  DEG_n_top_genes: 5000\n",
      "  M: 12436\n",
      "  M_sample_rate: [3]\n",
      "  NODE_TYPE_NUM: 2\n",
      "  S: 50418\n",
      "  S_sample_rate: [1]\n",
      "  binary_H: 6180\n",
      "  binary_M: 6256\n",
      "  binary_S: 28499\n",
      "  binary_V: 21919\n",
      "  dataset: macaque_mouse_binary\n",
      "  dsnames: ['Macaque', 'Mouse']\n",
      "  embedding_pca_dim: 30\n",
      "  embedding_type: came\n",
      "  embeddings_file_path: ./Results/embeds/\n",
      "  experiment_time: \n",
      "  fig_dpi: 500\n",
      "  fig_format: png\n",
      "  homo_region_num: 4\n",
      "  if_threshold: True\n",
      "  method: srrsc\n",
      "  mouse_dataset: 2020sa\n",
      "  node_relation: spatial_2d\n",
      "  normalize_before_pca: None\n",
      "  normalize_before_pca_target_sum: None\n",
      "  normalize_before_pruning_method: default\n",
      "  normalize_before_pruning_method_1: None\n",
      "  normalize_before_pruning_method_2: default\n",
      "  normalize_scale: True\n",
      "  palette_human_file: ../../../../CAME/brain_mouse_2020sa/human_gene_palette/gene-list.tsv\n",
      "  palette_mouse_file: ../../../../CAME/brain_mouse_2020sa/mouse_gene_palette/genes-list-266.tsv\n",
      "  positive_sample_number: 5000\n",
      "  pruning_method: std\n",
      "  pruning_normalize_axis: 0\n",
      "  pruning_normalize_axis_1: 0\n",
      "  pruning_normalize_axis_2: 0\n",
      "  pruning_std_times_sm: 3\n",
      "  pruning_std_times_vh: 2.3\n",
      "  pruning_target_sum: None\n",
      "  pruning_target_sum_1: None\n",
      "  pruning_target_sum_2: None\n",
      "  result_save_folder: ./Results\n",
      "  result_save_path: ./Results\n",
      "  sm_gene_top: 5\n",
      "  sm_sample_top: 5\n",
      "  spatial_node_neighbor: 4\n",
      "  used_data_path: ../../../used_data/\n",
      "  vh_gene_top: 5\n",
      "  vh_sample_top: 5\n",
      "CAME:\n",
      "  ROOT: ./Results/initial_embedding/Macaque-Mouse/\n",
      "  figdir: ./Results/initial_embedding/Macaque-Mouse/figs/\n",
      "  homo_region_file_path: ./Data/mouse_macaque_homo_region.csv\n",
      "  human_mouse_homo_region: ./Data/mouse_macaque_homo_region.csv\n",
      "  labels_dir: ./Data/\n",
      "  labels_human_file: human_88_label.csv\n",
      "  labels_mouse_file: mouse_region_list_64.csv\n",
      "  parent_labels_human_file: human_16_label.csv\n",
      "  parent_labels_mouse_file: mouse_parent_region_list_15.csv\n",
      "  path_labels_1: ./Data/macaque_region_list.csv\n",
      "  path_labels_2: ./Data/mouse_region_list.csv\n",
      "  path_rawdata1: ./Data/Macaque.h5ad\n",
      "  path_rawdata2: ./Data/Mouse_MERFISH.h5ad\n",
      "  path_varmap: ./Data/Macaque_Mouse_multi2multi.csv\n",
      "  path_varmap_1v1: ./Data/Macaque_Mouse_one2one.csv\n",
      "HOMO_RANDOM:\n",
      "  random_field: all\n",
      "  random_plot: False\n",
      "SRRSC_args:\n",
      "  data_path: ./Results/data/\n",
      "  dataset: mouse_human_binary\n",
      "  device: cpu\n",
      "  drop_prob: 0.6\n",
      "  ft_size: None\n",
      "  gpu_num: 0\n",
      "  hid_units: 256\n",
      "  hid_units2: 128\n",
      "  if_pretrained: False\n",
      "  isAtt: True\n",
      "  isBias: True\n",
      "  isLP: False\n",
      "  isSemi: False\n",
      "  labels: None\n",
      "  lamb: 0.5\n",
      "  lamb_lp: 1.0\n",
      "  lr: 0.01\n",
      "  lr_gamma: 0.5\n",
      "  lr_stepsize: 20\n",
      "  margin: 0.8\n",
      "  model: SubHIN\n",
      "  nb_epochs: 150\n",
      "  node_type: None\n",
      "  out_ft: 128\n",
      "  patience: 30\n",
      "  pretrained_model_path: ./results/2022-11-30_17-18-47/\n",
      "  rel_types: None\n",
      "  save_emb: True\n",
      "  save_path: ./Results\n",
      "  seed: 100\n",
      "  test_ratio: 0.05\n",
      "  train_ratio: 0.9\n",
      "  validation_ratio: 0.45\n",
      "TRAIN:\n",
      "  if_pretrain: False\n"
     ]
    },
    {
     "name": "stdout",
     "output_type": "stream",
     "text": [
      "2024-03-21 15:50:26,933 Running SR-RSC and analysis INFO: Loading embeddings...\n"
     ]
    },
    {
     "name": "stderr",
     "output_type": "stream",
     "text": [
      "2024-03-21 15:50:26,933 process.py-217-load_embedding(): INFO\n",
      " Loading embeddings...\n"
     ]
    },
    {
     "name": "stdout",
     "output_type": "stream",
     "text": [
      "They are identical!\n",
      "They are identical!\n",
      "2024-03-21 15:59:10,084 Running SR-RSC and analysis DEBUG: AnnData object with n_obs × n_vars = 6256 × 128\n",
      "    obs: 'name', 'dataset', 'module'\n",
      "    uns: 'dataset_colors', 'leiden', 'module_colors', 'neighbors', 'umap'\n",
      "    obsm: 'X_umap'\n",
      "    obsp: 'connectivities', 'distances'\n"
     ]
    },
    {
     "name": "stderr",
     "output_type": "stream",
     "text": [
      "2024-03-21 15:59:10,084 process.py-174-load_gene_embedding(): DEBUG\n",
      " AnnData object with n_obs × n_vars = 6256 × 128\n",
      "    obs: 'name', 'dataset', 'module'\n",
      "    uns: 'dataset_colors', 'leiden', 'module_colors', 'neighbors', 'umap'\n",
      "    obsm: 'X_umap'\n",
      "    obsp: 'connectivities', 'distances'\n"
     ]
    },
    {
     "name": "stdout",
     "output_type": "stream",
     "text": [
      "2024-03-21 15:59:10,089 Running SR-RSC and analysis DEBUG: Gene lists are identical!\n"
     ]
    },
    {
     "name": "stderr",
     "output_type": "stream",
     "text": [
      "2024-03-21 15:59:10,089 process.py-185-load_gene_embedding(): DEBUG\n",
      " Gene lists are identical!\n"
     ]
    },
    {
     "name": "stdout",
     "output_type": "stream",
     "text": [
      "2024-03-21 15:59:10,128 Running SR-RSC and analysis DEBUG: Gene lists are identical!\n"
     ]
    },
    {
     "name": "stderr",
     "output_type": "stream",
     "text": [
      "2024-03-21 15:59:10,128 process.py-201-load_gene_embedding(): DEBUG\n",
      " Gene lists are identical!\n"
     ]
    },
    {
     "name": "stdout",
     "output_type": "stream",
     "text": [
      "2024-03-21 15:59:10,985 Running SR-RSC and analysis INFO: Generating meta_data...\n"
     ]
    },
    {
     "name": "stderr",
     "output_type": "stream",
     "text": [
      "2024-03-21 15:59:10,985 process.py-1025-get_srrsc_input(): INFO\n",
      " Generating meta_data...\n"
     ]
    },
    {
     "name": "stdout",
     "output_type": "stream",
     "text": [
      "2024-03-21 15:59:11,073 Running SR-RSC and analysis INFO: Generating labels...\n"
     ]
    },
    {
     "name": "stderr",
     "output_type": "stream",
     "text": [
      "2024-03-21 15:59:11,073 process.py-1060-get_srrsc_input(): INFO\n",
      " Generating labels...\n"
     ]
    },
    {
     "name": "stdout",
     "output_type": "stream",
     "text": [
      "2024-03-21 15:59:11,094 Running SR-RSC and analysis INFO: Generating edges...\n"
     ]
    },
    {
     "name": "stderr",
     "output_type": "stream",
     "text": [
      "2024-03-21 15:59:11,094 process.py-1074-get_srrsc_input(): INFO\n",
      " Generating edges...\n",
      "2024-03-21 15:59:16,582 preprocess.py-1347-normalize_default(): INFO\n",
      " No copy was made, the input AnnData will be changed!\n",
      "2024-03-21 15:59:16,583 preprocess.py-1348-normalize_default(): INFO\n",
      " normalizing datasets with default settings.\n",
      "2024-03-21 15:59:16,584 preprocess.py-1350-normalize_default(): INFO\n",
      " performing total-sum normalization, target_sum=None...\n"
     ]
    },
    {
     "name": "stdout",
     "output_type": "stream",
     "text": [
      "AnnData object with n_obs × n_vars = 28499 × 14932\n",
      "    obs: 'gene_area', 'annotation', 'species_id', 'batch_name', 'slice_name', 'louvain', 'mclust', 'mclust_separate', 'STAGATE_annotation', 'region', 'region_name', 'Macaque ITPKA', 'Macaque AMIGO2', 'Macaque HS3ST4', 'Macaque LRRTM4'\n",
      "    var: 'highly_variable', 'highly_variable_rank', 'means', 'variances', 'variances_norm'\n",
      "    uns: 'STAGATE_annotation_colors', 'Spatial_Net', 'adj', 'annotation_colors', 'batch_name_colors', 'hvg', 'log1p', 'louvain', 'louvain_colors', 'mclust_colors', 'mclust_separate_colors', 'neighbors', 'umap'\n",
      "    obsm: 'STAGATE', 'X_umap', 'spatial'\n",
      "    obsp: 'connectivities', 'distances'\n",
      "AnnData object with n_obs × n_vars = 21919 × 14333\n",
      "    obs: 'n_genes_by_counts', 'log1p_n_genes_by_counts', 'total_counts', 'log1p_total_counts', 'pct_counts_in_top_50_genes', 'pct_counts_in_top_100_genes', 'pct_counts_in_top_200_genes', 'pct_counts_in_top_500_genes', 'louvain', 'species_id', 'batch_name', 'slice_name', 'mclust', 'mclust_separate', 'STAGATE_annotation', 'region', 'region_name', 'annotation', 'gene_area'\n",
      "    var: 'n_cells_by_counts', 'mean_counts', 'log1p_mean_counts', 'pct_dropout_by_counts', 'total_counts', 'log1p_total_counts', 'n_cells', 'highly_variable', 'highly_variable_rank', 'means', 'variances', 'variances_norm'\n",
      "    uns: 'Spatial_Net', 'adj', 'batch_name_colors', 'hvg', 'log1p', 'louvain', 'louvain_colors', 'mclust_colors', 'mclust_separate_colors', 'neighbors', 'pca', 'umap'\n",
      "    obsm: 'STAGATE', 'X_pca', 'X_umap', 'spatial'\n",
      "    varm: 'PCs'\n",
      "    obsp: 'connectivities', 'distances'\n",
      "2024-03-21 15:59:21,062 Running SR-RSC and analysis DEBUG: ss_: (50418, 50418)\n"
     ]
    },
    {
     "name": "stderr",
     "output_type": "stream",
     "text": [
      "2024-03-21 15:59:21,062 process.py-1129-get_srrsc_input(): DEBUG\n",
      " ss_: (50418, 50418)\n"
     ]
    },
    {
     "name": "stdout",
     "output_type": "stream",
     "text": [
      "2024-03-21 15:59:21,524 Running SR-RSC and analysis DEBUG: mm_: (12436, 12436)\n"
     ]
    },
    {
     "name": "stderr",
     "output_type": "stream",
     "text": [
      "2024-03-21 15:59:21,524 process.py-1132-get_srrsc_input(): DEBUG\n",
      " mm_: (12436, 12436)\n"
     ]
    },
    {
     "name": "stdout",
     "output_type": "stream",
     "text": [
      "Training BrainAlign...\n",
      "2024-03-21 16:15:55,500 Running SR-RSC and analysis INFO: Configs data_path: ./Results/data/\n",
      "dataset: mouse_human_binary\n",
      "device: cpu\n",
      "drop_prob: 0.6\n",
      "ft_size: None\n",
      "gpu_num: 0\n",
      "hid_units: 256\n",
      "hid_units2: 128\n",
      "if_pretrained: False\n",
      "isAtt: True\n",
      "isBias: True\n",
      "isLP: False\n",
      "isSemi: False\n",
      "labels: None\n",
      "lamb: 0.5\n",
      "lamb_lp: 1.0\n",
      "lr: 0.01\n",
      "lr_gamma: 0.5\n",
      "lr_stepsize: 20\n",
      "margin: 0.8\n",
      "model: SubHIN\n",
      "nb_epochs: 150\n",
      "node_type: None\n",
      "out_ft: 128\n",
      "patience: 30\n",
      "pretrained_model_path: ./results/2022-11-30_17-18-47/\n",
      "rel_types: None\n",
      "save_emb: True\n",
      "save_path: ./Results\n",
      "seed: 100\n",
      "test_ratio: 0.05\n",
      "train_ratio: 0.9\n",
      "validation_ratio: 0.45\n",
      "\n"
     ]
    },
    {
     "name": "stderr",
     "output_type": "stream",
     "text": [
      "2024-03-21 16:15:55,500 main_sr_rsc.py-122-run_srrsc(): INFO\n",
      " Configs data_path: ./Results/data/\n",
      "dataset: mouse_human_binary\n",
      "device: cpu\n",
      "drop_prob: 0.6\n",
      "ft_size: None\n",
      "gpu_num: 0\n",
      "hid_units: 256\n",
      "hid_units2: 128\n",
      "if_pretrained: False\n",
      "isAtt: True\n",
      "isBias: True\n",
      "isLP: False\n",
      "isSemi: False\n",
      "labels: None\n",
      "lamb: 0.5\n",
      "lamb_lp: 1.0\n",
      "lr: 0.01\n",
      "lr_gamma: 0.5\n",
      "lr_stepsize: 20\n",
      "margin: 0.8\n",
      "model: SubHIN\n",
      "nb_epochs: 150\n",
      "node_type: None\n",
      "out_ft: 128\n",
      "patience: 30\n",
      "pretrained_model_path: ./results/2022-11-30_17-18-47/\n",
      "rel_types: None\n",
      "save_emb: True\n",
      "save_path: ./Results\n",
      "seed: 100\n",
      "test_ratio: 0.05\n",
      "train_ratio: 0.9\n",
      "validation_ratio: 0.45\n",
      "\n"
     ]
    },
    {
     "name": "stdout",
     "output_type": "stream",
     "text": [
      "Dataset: mouse_human_binary\n",
      "node_type num_node:\n",
      "\n",
      "s\t 50418\n",
      "\n",
      "m\t 12436\n",
      "Graph prepared!\n",
      "Model setup:\n",
      "learning rate: 0.01\n",
      "model: SubHIN\n",
      "use cuda\n",
      "use attention\n",
      "task: cluster and classification\n",
      "2024-03-21 16:16:21,413 Running SR-RSC and analysis INFO: Epoch 0...\n"
     ]
    },
    {
     "name": "stderr",
     "output_type": "stream",
     "text": [
      "2024-03-21 16:16:21,413 SubHIN.py-44-training(): INFO\n",
      " Epoch 0...\n"
     ]
    },
    {
     "name": "stdout",
     "output_type": "stream",
     "text": [
      "2024-03-21 16:16:55,515 Running SR-RSC and analysis INFO: Epoch 0, loss 6.1229, valacc 0.0021805\n"
     ]
    },
    {
     "name": "stderr",
     "output_type": "stream",
     "text": [
      "2024-03-21 16:16:55,515 SubHIN.py-66-training(): INFO\n",
      " Epoch 0, loss 6.1229, valacc 0.0021805\n"
     ]
    },
    {
     "name": "stdout",
     "output_type": "stream",
     "text": [
      "2024-03-21 16:17:17,440 Running SR-RSC and analysis INFO: NMI=0.30132, ARI: 0.22769, f1_micro=0.82310, f1_macro=0.81911\n"
     ]
    },
    {
     "name": "stderr",
     "output_type": "stream",
     "text": [
      "2024-03-21 16:17:17,440 evaluation.py-102-evalutation(): INFO\n",
      " NMI=0.30132, ARI: 0.22769, f1_micro=0.82310, f1_macro=0.81911\n"
     ]
    },
    {
     "name": "stdout",
     "output_type": "stream",
     "text": [
      "2024-03-21 16:17:17,447 Running SR-RSC and analysis INFO: Epoch 1...\n"
     ]
    },
    {
     "name": "stderr",
     "output_type": "stream",
     "text": [
      "2024-03-21 16:17:17,447 SubHIN.py-44-training(): INFO\n",
      " Epoch 1...\n"
     ]
    },
    {
     "name": "stdout",
     "output_type": "stream",
     "text": [
      "2024-03-21 16:17:57,931 Running SR-RSC and analysis INFO: Epoch 1, loss 5.9696, valacc 0.28912\n"
     ]
    },
    {
     "name": "stderr",
     "output_type": "stream",
     "text": [
      "2024-03-21 16:17:57,931 SubHIN.py-66-training(): INFO\n",
      " Epoch 1, loss 5.9696, valacc 0.28912\n"
     ]
    },
    {
     "name": "stdout",
     "output_type": "stream",
     "text": [
      "2024-03-21 16:18:20,143 Running SR-RSC and analysis INFO: NMI=0.27572, ARI: 0.19329, f1_micro=0.78524, f1_macro=0.77998\n"
     ]
    },
    {
     "name": "stderr",
     "output_type": "stream",
     "text": [
      "2024-03-21 16:18:20,143 evaluation.py-102-evalutation(): INFO\n",
      " NMI=0.27572, ARI: 0.19329, f1_micro=0.78524, f1_macro=0.77998\n"
     ]
    },
    {
     "name": "stdout",
     "output_type": "stream",
     "text": [
      "2024-03-21 16:18:20,150 Running SR-RSC and analysis INFO: Epoch 2...\n"
     ]
    },
    {
     "name": "stderr",
     "output_type": "stream",
     "text": [
      "2024-03-21 16:18:20,150 SubHIN.py-44-training(): INFO\n",
      " Epoch 2...\n"
     ]
    },
    {
     "name": "stdout",
     "output_type": "stream",
     "text": [
      "2024-03-21 16:18:51,078 Running SR-RSC and analysis INFO: Epoch 2, loss 5.3404, valacc 0.012681\n"
     ]
    },
    {
     "name": "stderr",
     "output_type": "stream",
     "text": [
      "2024-03-21 16:18:51,078 SubHIN.py-66-training(): INFO\n",
      " Epoch 2, loss 5.3404, valacc 0.012681\n"
     ]
    },
    {
     "name": "stdout",
     "output_type": "stream",
     "text": [
      "2024-03-21 16:18:56,816 Running SR-RSC and analysis INFO: NMI=0.01060, ARI: 0.01423, f1_micro=0.79128, f1_macro=0.78548\n"
     ]
    },
    {
     "name": "stderr",
     "output_type": "stream",
     "text": [
      "2024-03-21 16:18:56,816 evaluation.py-102-evalutation(): INFO\n",
      " NMI=0.01060, ARI: 0.01423, f1_micro=0.79128, f1_macro=0.78548\n"
     ]
    },
    {
     "name": "stdout",
     "output_type": "stream",
     "text": [
      "2024-03-21 16:18:56,821 Running SR-RSC and analysis INFO: Epoch 3...\n"
     ]
    },
    {
     "name": "stderr",
     "output_type": "stream",
     "text": [
      "2024-03-21 16:18:56,821 SubHIN.py-44-training(): INFO\n",
      " Epoch 3...\n"
     ]
    },
    {
     "name": "stdout",
     "output_type": "stream",
     "text": [
      "2024-03-21 16:19:28,564 Running SR-RSC and analysis INFO: Epoch 4...\n"
     ]
    },
    {
     "name": "stderr",
     "output_type": "stream",
     "text": [
      "2024-03-21 16:19:28,564 SubHIN.py-44-training(): INFO\n",
      " Epoch 4...\n"
     ]
    },
    {
     "name": "stdout",
     "output_type": "stream",
     "text": [
      "2024-03-21 16:20:00,202 Running SR-RSC and analysis INFO: Epoch 5...\n"
     ]
    },
    {
     "name": "stderr",
     "output_type": "stream",
     "text": [
      "2024-03-21 16:20:00,202 SubHIN.py-44-training(): INFO\n",
      " Epoch 5...\n"
     ]
    },
    {
     "name": "stdout",
     "output_type": "stream",
     "text": [
      "2024-03-21 16:20:31,839 Running SR-RSC and analysis INFO: Epoch 5, loss 5.3104, valacc 0.020431\n"
     ]
    },
    {
     "name": "stderr",
     "output_type": "stream",
     "text": [
      "2024-03-21 16:20:31,839 SubHIN.py-66-training(): INFO\n",
      " Epoch 5, loss 5.3104, valacc 0.020431\n"
     ]
    },
    {
     "name": "stdout",
     "output_type": "stream",
     "text": [
      "2024-03-21 16:20:37,274 Running SR-RSC and analysis INFO: NMI=0.01834, ARI: 0.02827, f1_micro=0.79001, f1_macro=0.78621\n"
     ]
    },
    {
     "name": "stderr",
     "output_type": "stream",
     "text": [
      "2024-03-21 16:20:37,274 evaluation.py-102-evalutation(): INFO\n",
      " NMI=0.01834, ARI: 0.02827, f1_micro=0.79001, f1_macro=0.78621\n"
     ]
    },
    {
     "name": "stdout",
     "output_type": "stream",
     "text": [
      "2024-03-21 16:20:37,279 Running SR-RSC and analysis INFO: Epoch 6...\n"
     ]
    },
    {
     "name": "stderr",
     "output_type": "stream",
     "text": [
      "2024-03-21 16:20:37,279 SubHIN.py-44-training(): INFO\n",
      " Epoch 6...\n"
     ]
    },
    {
     "name": "stdout",
     "output_type": "stream",
     "text": [
      "2024-03-21 16:21:06,225 Running SR-RSC and analysis INFO: Epoch 6, loss 5.0307, valacc 0.018951\n"
     ]
    },
    {
     "name": "stderr",
     "output_type": "stream",
     "text": [
      "2024-03-21 16:21:06,225 SubHIN.py-66-training(): INFO\n",
      " Epoch 6, loss 5.0307, valacc 0.018951\n"
     ]
    },
    {
     "name": "stdout",
     "output_type": "stream",
     "text": [
      "2024-03-21 16:21:15,092 Running SR-RSC and analysis INFO: NMI=0.01542, ARI: 0.02268, f1_micro=0.78715, f1_macro=0.78269\n"
     ]
    },
    {
     "name": "stderr",
     "output_type": "stream",
     "text": [
      "2024-03-21 16:21:15,092 evaluation.py-102-evalutation(): INFO\n",
      " NMI=0.01542, ARI: 0.02268, f1_micro=0.78715, f1_macro=0.78269\n"
     ]
    },
    {
     "name": "stdout",
     "output_type": "stream",
     "text": [
      "2024-03-21 16:21:15,101 Running SR-RSC and analysis INFO: Epoch 7...\n"
     ]
    },
    {
     "name": "stderr",
     "output_type": "stream",
     "text": [
      "2024-03-21 16:21:15,101 SubHIN.py-44-training(): INFO\n",
      " Epoch 7...\n"
     ]
    },
    {
     "name": "stdout",
     "output_type": "stream",
     "text": [
      "2024-03-21 16:21:44,213 Running SR-RSC and analysis INFO: Epoch 7, loss 4.7701, valacc 0.015644\n"
     ]
    },
    {
     "name": "stderr",
     "output_type": "stream",
     "text": [
      "2024-03-21 16:21:44,213 SubHIN.py-66-training(): INFO\n",
      " Epoch 7, loss 4.7701, valacc 0.015644\n"
     ]
    },
    {
     "name": "stdout",
     "output_type": "stream",
     "text": [
      "2024-03-21 16:22:06,269 Running SR-RSC and analysis INFO: NMI=0.01421, ARI: 0.02062, f1_micro=0.77156, f1_macro=0.76584\n"
     ]
    },
    {
     "name": "stderr",
     "output_type": "stream",
     "text": [
      "2024-03-21 16:22:06,269 evaluation.py-102-evalutation(): INFO\n",
      " NMI=0.01421, ARI: 0.02062, f1_micro=0.77156, f1_macro=0.76584\n"
     ]
    },
    {
     "name": "stdout",
     "output_type": "stream",
     "text": [
      "2024-03-21 16:22:06,276 Running SR-RSC and analysis INFO: Epoch 8...\n"
     ]
    },
    {
     "name": "stderr",
     "output_type": "stream",
     "text": [
      "2024-03-21 16:22:06,276 SubHIN.py-44-training(): INFO\n",
      " Epoch 8...\n"
     ]
    },
    {
     "name": "stdout",
     "output_type": "stream",
     "text": [
      "2024-03-21 16:22:35,626 Running SR-RSC and analysis INFO: Epoch 8, loss 4.6598, valacc 0.014308\n"
     ]
    },
    {
     "name": "stderr",
     "output_type": "stream",
     "text": [
      "2024-03-21 16:22:35,626 SubHIN.py-66-training(): INFO\n",
      " Epoch 8, loss 4.6598, valacc 0.014308\n"
     ]
    },
    {
     "name": "stdout",
     "output_type": "stream",
     "text": [
      "2024-03-21 16:22:57,719 Running SR-RSC and analysis INFO: NMI=0.01161, ARI: 0.01613, f1_micro=0.78683, f1_macro=0.78263\n"
     ]
    },
    {
     "name": "stderr",
     "output_type": "stream",
     "text": [
      "2024-03-21 16:22:57,719 evaluation.py-102-evalutation(): INFO\n",
      " NMI=0.01161, ARI: 0.01613, f1_micro=0.78683, f1_macro=0.78263\n"
     ]
    },
    {
     "name": "stdout",
     "output_type": "stream",
     "text": [
      "2024-03-21 16:22:57,727 Running SR-RSC and analysis INFO: Epoch 9...\n"
     ]
    },
    {
     "name": "stderr",
     "output_type": "stream",
     "text": [
      "2024-03-21 16:22:57,727 SubHIN.py-44-training(): INFO\n",
      " Epoch 9...\n"
     ]
    },
    {
     "name": "stdout",
     "output_type": "stream",
     "text": [
      "2024-03-21 16:23:26,585 Running SR-RSC and analysis INFO: Epoch 9, loss 4.6163, valacc 0.017423\n"
     ]
    },
    {
     "name": "stderr",
     "output_type": "stream",
     "text": [
      "2024-03-21 16:23:26,585 SubHIN.py-66-training(): INFO\n",
      " Epoch 9, loss 4.6163, valacc 0.017423\n"
     ]
    },
    {
     "name": "stdout",
     "output_type": "stream",
     "text": [
      "2024-03-21 16:23:34,466 Running SR-RSC and analysis INFO: NMI=0.01552, ARI: 0.02213, f1_micro=0.79287, f1_macro=0.78736\n"
     ]
    },
    {
     "name": "stderr",
     "output_type": "stream",
     "text": [
      "2024-03-21 16:23:34,466 evaluation.py-102-evalutation(): INFO\n",
      " NMI=0.01552, ARI: 0.02213, f1_micro=0.79287, f1_macro=0.78736\n"
     ]
    },
    {
     "name": "stdout",
     "output_type": "stream",
     "text": [
      "2024-03-21 16:23:34,471 Running SR-RSC and analysis INFO: Epoch 10...\n"
     ]
    },
    {
     "name": "stderr",
     "output_type": "stream",
     "text": [
      "2024-03-21 16:23:34,471 SubHIN.py-44-training(): INFO\n",
      " Epoch 10...\n"
     ]
    },
    {
     "name": "stdout",
     "output_type": "stream",
     "text": [
      "2024-03-21 16:24:02,000 Running SR-RSC and analysis INFO: Epoch 10, loss 4.5368, valacc 0.016596\n"
     ]
    },
    {
     "name": "stderr",
     "output_type": "stream",
     "text": [
      "2024-03-21 16:24:02,000 SubHIN.py-66-training(): INFO\n",
      " Epoch 10, loss 4.5368, valacc 0.016596\n"
     ]
    },
    {
     "name": "stdout",
     "output_type": "stream",
     "text": [
      "2024-03-21 16:24:17,952 Running SR-RSC and analysis INFO: NMI=0.01083, ARI: 0.01547, f1_micro=0.79828, f1_macro=0.79377\n"
     ]
    },
    {
     "name": "stderr",
     "output_type": "stream",
     "text": [
      "2024-03-21 16:24:17,952 evaluation.py-102-evalutation(): INFO\n",
      " NMI=0.01083, ARI: 0.01547, f1_micro=0.79828, f1_macro=0.79377\n"
     ]
    },
    {
     "name": "stdout",
     "output_type": "stream",
     "text": [
      "2024-03-21 16:24:17,959 Running SR-RSC and analysis INFO: Epoch 11...\n"
     ]
    },
    {
     "name": "stderr",
     "output_type": "stream",
     "text": [
      "2024-03-21 16:24:17,959 SubHIN.py-44-training(): INFO\n",
      " Epoch 11...\n"
     ]
    },
    {
     "name": "stdout",
     "output_type": "stream",
     "text": [
      "2024-03-21 16:24:46,016 Running SR-RSC and analysis INFO: Epoch 11, loss 4.463, valacc 0.014417\n"
     ]
    },
    {
     "name": "stderr",
     "output_type": "stream",
     "text": [
      "2024-03-21 16:24:46,016 SubHIN.py-66-training(): INFO\n",
      " Epoch 11, loss 4.463, valacc 0.014417\n"
     ]
    },
    {
     "name": "stdout",
     "output_type": "stream",
     "text": [
      "2024-03-21 16:24:57,471 Running SR-RSC and analysis INFO: NMI=0.01371, ARI: 0.01884, f1_micro=0.79605, f1_macro=0.79118\n"
     ]
    },
    {
     "name": "stderr",
     "output_type": "stream",
     "text": [
      "2024-03-21 16:24:57,471 evaluation.py-102-evalutation(): INFO\n",
      " NMI=0.01371, ARI: 0.01884, f1_micro=0.79605, f1_macro=0.79118\n"
     ]
    },
    {
     "name": "stdout",
     "output_type": "stream",
     "text": [
      "2024-03-21 16:24:57,480 Running SR-RSC and analysis INFO: Epoch 12...\n"
     ]
    },
    {
     "name": "stderr",
     "output_type": "stream",
     "text": [
      "2024-03-21 16:24:57,480 SubHIN.py-44-training(): INFO\n",
      " Epoch 12...\n"
     ]
    },
    {
     "name": "stdout",
     "output_type": "stream",
     "text": [
      "2024-03-21 16:25:25,353 Running SR-RSC and analysis INFO: Epoch 12, loss 4.4558, valacc 0.013482\n"
     ]
    },
    {
     "name": "stderr",
     "output_type": "stream",
     "text": [
      "2024-03-21 16:25:25,353 SubHIN.py-66-training(): INFO\n",
      " Epoch 12, loss 4.4558, valacc 0.013482\n"
     ]
    },
    {
     "name": "stdout",
     "output_type": "stream",
     "text": [
      "2024-03-21 16:25:47,434 Running SR-RSC and analysis INFO: NMI=0.01102, ARI: 0.01454, f1_micro=0.78237, f1_macro=0.77711\n"
     ]
    },
    {
     "name": "stderr",
     "output_type": "stream",
     "text": [
      "2024-03-21 16:25:47,434 evaluation.py-102-evalutation(): INFO\n",
      " NMI=0.01102, ARI: 0.01454, f1_micro=0.78237, f1_macro=0.77711\n"
     ]
    },
    {
     "name": "stdout",
     "output_type": "stream",
     "text": [
      "2024-03-21 16:25:47,438 Running SR-RSC and analysis INFO: Epoch 13...\n"
     ]
    },
    {
     "name": "stderr",
     "output_type": "stream",
     "text": [
      "2024-03-21 16:25:47,438 SubHIN.py-44-training(): INFO\n",
      " Epoch 13...\n"
     ]
    },
    {
     "name": "stdout",
     "output_type": "stream",
     "text": [
      "2024-03-21 16:26:16,950 Running SR-RSC and analysis INFO: Epoch 13, loss 4.4034, valacc 0.014573\n"
     ]
    },
    {
     "name": "stderr",
     "output_type": "stream",
     "text": [
      "2024-03-21 16:26:16,950 SubHIN.py-66-training(): INFO\n",
      " Epoch 13, loss 4.4034, valacc 0.014573\n"
     ]
    },
    {
     "name": "stdout",
     "output_type": "stream",
     "text": [
      "2024-03-21 16:26:40,333 Running SR-RSC and analysis INFO: NMI=0.01514, ARI: 0.02028, f1_micro=0.80337, f1_macro=0.79803\n"
     ]
    },
    {
     "name": "stderr",
     "output_type": "stream",
     "text": [
      "2024-03-21 16:26:40,333 evaluation.py-102-evalutation(): INFO\n",
      " NMI=0.01514, ARI: 0.02028, f1_micro=0.80337, f1_macro=0.79803\n"
     ]
    },
    {
     "name": "stdout",
     "output_type": "stream",
     "text": [
      "2024-03-21 16:26:40,342 Running SR-RSC and analysis INFO: Epoch 14...\n"
     ]
    },
    {
     "name": "stderr",
     "output_type": "stream",
     "text": [
      "2024-03-21 16:26:40,342 SubHIN.py-44-training(): INFO\n",
      " Epoch 14...\n"
     ]
    },
    {
     "name": "stdout",
     "output_type": "stream",
     "text": [
      "2024-03-21 16:27:28,895 Running SR-RSC and analysis INFO: Epoch 14, loss 4.394, valacc 0.014256\n"
     ]
    },
    {
     "name": "stderr",
     "output_type": "stream",
     "text": [
      "2024-03-21 16:27:28,895 SubHIN.py-66-training(): INFO\n",
      " Epoch 14, loss 4.394, valacc 0.014256\n"
     ]
    },
    {
     "name": "stdout",
     "output_type": "stream",
     "text": [
      "2024-03-21 16:27:56,735 Running SR-RSC and analysis INFO: NMI=0.01407, ARI: 0.01938, f1_micro=0.78365, f1_macro=0.77823\n"
     ]
    },
    {
     "name": "stderr",
     "output_type": "stream",
     "text": [
      "2024-03-21 16:27:56,735 evaluation.py-102-evalutation(): INFO\n",
      " NMI=0.01407, ARI: 0.01938, f1_micro=0.78365, f1_macro=0.77823\n"
     ]
    },
    {
     "name": "stdout",
     "output_type": "stream",
     "text": [
      "2024-03-21 16:27:56,744 Running SR-RSC and analysis INFO: Epoch 15...\n"
     ]
    },
    {
     "name": "stderr",
     "output_type": "stream",
     "text": [
      "2024-03-21 16:27:56,744 SubHIN.py-44-training(): INFO\n",
      " Epoch 15...\n"
     ]
    },
    {
     "name": "stdout",
     "output_type": "stream",
     "text": [
      "2024-03-21 16:28:35,325 Running SR-RSC and analysis INFO: Epoch 15, loss 4.361, valacc 0.013869\n"
     ]
    },
    {
     "name": "stderr",
     "output_type": "stream",
     "text": [
      "2024-03-21 16:28:35,325 SubHIN.py-66-training(): INFO\n",
      " Epoch 15, loss 4.361, valacc 0.013869\n"
     ]
    },
    {
     "name": "stdout",
     "output_type": "stream",
     "text": [
      "2024-03-21 16:28:56,715 Running SR-RSC and analysis INFO: NMI=0.01511, ARI: 0.02065, f1_micro=0.79001, f1_macro=0.78398\n"
     ]
    },
    {
     "name": "stderr",
     "output_type": "stream",
     "text": [
      "2024-03-21 16:28:56,715 evaluation.py-102-evalutation(): INFO\n",
      " NMI=0.01511, ARI: 0.02065, f1_micro=0.79001, f1_macro=0.78398\n"
     ]
    },
    {
     "name": "stdout",
     "output_type": "stream",
     "text": [
      "2024-03-21 16:28:56,732 Running SR-RSC and analysis INFO: Epoch 16...\n"
     ]
    },
    {
     "name": "stderr",
     "output_type": "stream",
     "text": [
      "2024-03-21 16:28:56,732 SubHIN.py-44-training(): INFO\n",
      " Epoch 16...\n"
     ]
    },
    {
     "name": "stdout",
     "output_type": "stream",
     "text": [
      "2024-03-21 16:29:30,313 Running SR-RSC and analysis INFO: Epoch 16, loss 4.3447, valacc 0.012899\n"
     ]
    },
    {
     "name": "stderr",
     "output_type": "stream",
     "text": [
      "2024-03-21 16:29:30,313 SubHIN.py-66-training(): INFO\n",
      " Epoch 16, loss 4.3447, valacc 0.012899\n"
     ]
    },
    {
     "name": "stdout",
     "output_type": "stream",
     "text": [
      "2024-03-21 16:29:57,701 Running SR-RSC and analysis INFO: NMI=0.01138, ARI: 0.01312, f1_micro=0.78746, f1_macro=0.78146\n"
     ]
    },
    {
     "name": "stderr",
     "output_type": "stream",
     "text": [
      "2024-03-21 16:29:57,701 evaluation.py-102-evalutation(): INFO\n",
      " NMI=0.01138, ARI: 0.01312, f1_micro=0.78746, f1_macro=0.78146\n"
     ]
    },
    {
     "name": "stdout",
     "output_type": "stream",
     "text": [
      "2024-03-21 16:29:57,706 Running SR-RSC and analysis INFO: Epoch 17...\n"
     ]
    },
    {
     "name": "stderr",
     "output_type": "stream",
     "text": [
      "2024-03-21 16:29:57,706 SubHIN.py-44-training(): INFO\n",
      " Epoch 17...\n"
     ]
    },
    {
     "name": "stdout",
     "output_type": "stream",
     "text": [
      "2024-03-21 16:30:43,981 Running SR-RSC and analysis INFO: Epoch 17, loss 4.3136, valacc 0.013173\n"
     ]
    },
    {
     "name": "stderr",
     "output_type": "stream",
     "text": [
      "2024-03-21 16:30:43,981 SubHIN.py-66-training(): INFO\n",
      " Epoch 17, loss 4.3136, valacc 0.013173\n"
     ]
    },
    {
     "name": "stdout",
     "output_type": "stream",
     "text": [
      "2024-03-21 16:31:13,089 Running SR-RSC and analysis INFO: NMI=0.01092, ARI: 0.01253, f1_micro=0.79892, f1_macro=0.79484\n"
     ]
    },
    {
     "name": "stderr",
     "output_type": "stream",
     "text": [
      "2024-03-21 16:31:13,089 evaluation.py-102-evalutation(): INFO\n",
      " NMI=0.01092, ARI: 0.01253, f1_micro=0.79892, f1_macro=0.79484\n"
     ]
    },
    {
     "name": "stdout",
     "output_type": "stream",
     "text": [
      "2024-03-21 16:31:13,099 Running SR-RSC and analysis INFO: Epoch 18...\n"
     ]
    },
    {
     "name": "stderr",
     "output_type": "stream",
     "text": [
      "2024-03-21 16:31:13,099 SubHIN.py-44-training(): INFO\n",
      " Epoch 18...\n"
     ]
    },
    {
     "name": "stdout",
     "output_type": "stream",
     "text": [
      "2024-03-21 16:32:01,471 Running SR-RSC and analysis INFO: Epoch 18, loss 4.2737, valacc 0.012558\n"
     ]
    },
    {
     "name": "stderr",
     "output_type": "stream",
     "text": [
      "2024-03-21 16:32:01,471 SubHIN.py-66-training(): INFO\n",
      " Epoch 18, loss 4.2737, valacc 0.012558\n"
     ]
    },
    {
     "name": "stdout",
     "output_type": "stream",
     "text": [
      "2024-03-21 16:32:10,833 Running SR-RSC and analysis INFO: NMI=0.00938, ARI: 0.01144, f1_micro=0.78269, f1_macro=0.77810\n"
     ]
    },
    {
     "name": "stderr",
     "output_type": "stream",
     "text": [
      "2024-03-21 16:32:10,833 evaluation.py-102-evalutation(): INFO\n",
      " NMI=0.00938, ARI: 0.01144, f1_micro=0.78269, f1_macro=0.77810\n"
     ]
    },
    {
     "name": "stdout",
     "output_type": "stream",
     "text": [
      "2024-03-21 16:32:10,837 Running SR-RSC and analysis INFO: Epoch 19...\n"
     ]
    },
    {
     "name": "stderr",
     "output_type": "stream",
     "text": [
      "2024-03-21 16:32:10,837 SubHIN.py-44-training(): INFO\n",
      " Epoch 19...\n"
     ]
    },
    {
     "name": "stdout",
     "output_type": "stream",
     "text": [
      "2024-03-21 16:32:51,430 Running SR-RSC and analysis INFO: Epoch 20...\n"
     ]
    },
    {
     "name": "stderr",
     "output_type": "stream",
     "text": [
      "2024-03-21 16:32:51,430 SubHIN.py-44-training(): INFO\n",
      " Epoch 20...\n"
     ]
    },
    {
     "name": "stdout",
     "output_type": "stream",
     "text": [
      "2024-03-21 16:33:34,997 Running SR-RSC and analysis INFO: Epoch 20, loss 4.2374, valacc 0.011934\n"
     ]
    },
    {
     "name": "stderr",
     "output_type": "stream",
     "text": [
      "2024-03-21 16:33:34,997 SubHIN.py-66-training(): INFO\n",
      " Epoch 20, loss 4.2374, valacc 0.011934\n"
     ]
    },
    {
     "name": "stdout",
     "output_type": "stream",
     "text": [
      "2024-03-21 16:34:00,059 Running SR-RSC and analysis INFO: NMI=0.01153, ARI: 0.01233, f1_micro=0.78269, f1_macro=0.77798\n"
     ]
    },
    {
     "name": "stderr",
     "output_type": "stream",
     "text": [
      "2024-03-21 16:34:00,059 evaluation.py-102-evalutation(): INFO\n",
      " NMI=0.01153, ARI: 0.01233, f1_micro=0.78269, f1_macro=0.77798\n"
     ]
    },
    {
     "name": "stdout",
     "output_type": "stream",
     "text": [
      "2024-03-21 16:34:00,065 Running SR-RSC and analysis INFO: Epoch 21...\n"
     ]
    },
    {
     "name": "stderr",
     "output_type": "stream",
     "text": [
      "2024-03-21 16:34:00,065 SubHIN.py-44-training(): INFO\n",
      " Epoch 21...\n"
     ]
    },
    {
     "name": "stdout",
     "output_type": "stream",
     "text": [
      "2024-03-21 16:34:43,559 Running SR-RSC and analysis INFO: Epoch 21, loss 4.2282, valacc 0.011909\n"
     ]
    },
    {
     "name": "stderr",
     "output_type": "stream",
     "text": [
      "2024-03-21 16:34:43,559 SubHIN.py-66-training(): INFO\n",
      " Epoch 21, loss 4.2282, valacc 0.011909\n"
     ]
    },
    {
     "name": "stdout",
     "output_type": "stream",
     "text": [
      "2024-03-21 16:35:15,238 Running SR-RSC and analysis INFO: NMI=0.00906, ARI: 0.00977, f1_micro=0.79001, f1_macro=0.78449\n"
     ]
    },
    {
     "name": "stderr",
     "output_type": "stream",
     "text": [
      "2024-03-21 16:35:15,238 evaluation.py-102-evalutation(): INFO\n",
      " NMI=0.00906, ARI: 0.00977, f1_micro=0.79001, f1_macro=0.78449\n"
     ]
    },
    {
     "name": "stdout",
     "output_type": "stream",
     "text": [
      "2024-03-21 16:35:15,280 Running SR-RSC and analysis INFO: Epoch 22...\n"
     ]
    },
    {
     "name": "stderr",
     "output_type": "stream",
     "text": [
      "2024-03-21 16:35:15,280 SubHIN.py-44-training(): INFO\n",
      " Epoch 22...\n"
     ]
    },
    {
     "name": "stdout",
     "output_type": "stream",
     "text": [
      "2024-03-21 16:36:00,446 Running SR-RSC and analysis INFO: Epoch 22, loss 4.1949, valacc 0.01161\n"
     ]
    },
    {
     "name": "stderr",
     "output_type": "stream",
     "text": [
      "2024-03-21 16:36:00,446 SubHIN.py-66-training(): INFO\n",
      " Epoch 22, loss 4.1949, valacc 0.01161\n"
     ]
    },
    {
     "name": "stdout",
     "output_type": "stream",
     "text": [
      "2024-03-21 16:36:30,385 Running SR-RSC and analysis INFO: NMI=0.00958, ARI: 0.00986, f1_micro=0.77537, f1_macro=0.76923\n"
     ]
    },
    {
     "name": "stderr",
     "output_type": "stream",
     "text": [
      "2024-03-21 16:36:30,385 evaluation.py-102-evalutation(): INFO\n",
      " NMI=0.00958, ARI: 0.00986, f1_micro=0.77537, f1_macro=0.76923\n"
     ]
    },
    {
     "name": "stdout",
     "output_type": "stream",
     "text": [
      "2024-03-21 16:36:30,392 Running SR-RSC and analysis INFO: Epoch 23...\n"
     ]
    },
    {
     "name": "stderr",
     "output_type": "stream",
     "text": [
      "2024-03-21 16:36:30,392 SubHIN.py-44-training(): INFO\n",
      " Epoch 23...\n"
     ]
    },
    {
     "name": "stdout",
     "output_type": "stream",
     "text": [
      "2024-03-21 16:37:08,283 Running SR-RSC and analysis INFO: Epoch 24...\n"
     ]
    },
    {
     "name": "stderr",
     "output_type": "stream",
     "text": [
      "2024-03-21 16:37:08,283 SubHIN.py-44-training(): INFO\n",
      " Epoch 24...\n"
     ]
    },
    {
     "name": "stdout",
     "output_type": "stream",
     "text": [
      "2024-03-21 16:37:57,610 Running SR-RSC and analysis INFO: Epoch 24, loss 4.1753, valacc 0.011287\n"
     ]
    },
    {
     "name": "stderr",
     "output_type": "stream",
     "text": [
      "2024-03-21 16:37:57,610 SubHIN.py-66-training(): INFO\n",
      " Epoch 24, loss 4.1753, valacc 0.011287\n"
     ]
    },
    {
     "name": "stdout",
     "output_type": "stream",
     "text": [
      "2024-03-21 16:38:27,579 Running SR-RSC and analysis INFO: NMI=0.01214, ARI: 0.01258, f1_micro=0.78524, f1_macro=0.77924\n"
     ]
    },
    {
     "name": "stderr",
     "output_type": "stream",
     "text": [
      "2024-03-21 16:38:27,579 evaluation.py-102-evalutation(): INFO\n",
      " NMI=0.01214, ARI: 0.01258, f1_micro=0.78524, f1_macro=0.77924\n"
     ]
    },
    {
     "name": "stdout",
     "output_type": "stream",
     "text": [
      "2024-03-21 16:38:27,584 Running SR-RSC and analysis INFO: Epoch 25...\n"
     ]
    },
    {
     "name": "stderr",
     "output_type": "stream",
     "text": [
      "2024-03-21 16:38:27,584 SubHIN.py-44-training(): INFO\n",
      " Epoch 25...\n"
     ]
    },
    {
     "name": "stdout",
     "output_type": "stream",
     "text": [
      "2024-03-21 16:39:15,231 Running SR-RSC and analysis INFO: Epoch 25, loss 4.1522, valacc 0.011024\n"
     ]
    },
    {
     "name": "stderr",
     "output_type": "stream",
     "text": [
      "2024-03-21 16:39:15,231 SubHIN.py-66-training(): INFO\n",
      " Epoch 25, loss 4.1522, valacc 0.011024\n"
     ]
    },
    {
     "name": "stdout",
     "output_type": "stream",
     "text": [
      "2024-03-21 16:39:45,253 Running SR-RSC and analysis INFO: NMI=0.00838, ARI: 0.00797, f1_micro=0.78619, f1_macro=0.78157\n"
     ]
    },
    {
     "name": "stderr",
     "output_type": "stream",
     "text": [
      "2024-03-21 16:39:45,253 evaluation.py-102-evalutation(): INFO\n",
      " NMI=0.00838, ARI: 0.00797, f1_micro=0.78619, f1_macro=0.78157\n"
     ]
    },
    {
     "name": "stdout",
     "output_type": "stream",
     "text": [
      "2024-03-21 16:39:45,260 Running SR-RSC and analysis INFO: Epoch 26...\n"
     ]
    },
    {
     "name": "stderr",
     "output_type": "stream",
     "text": [
      "2024-03-21 16:39:45,260 SubHIN.py-44-training(): INFO\n",
      " Epoch 26...\n"
     ]
    },
    {
     "name": "stdout",
     "output_type": "stream",
     "text": [
      "2024-03-21 16:40:34,752 Running SR-RSC and analysis INFO: Epoch 26, loss 4.1423, valacc 0.010949\n"
     ]
    },
    {
     "name": "stderr",
     "output_type": "stream",
     "text": [
      "2024-03-21 16:40:34,752 SubHIN.py-66-training(): INFO\n",
      " Epoch 26, loss 4.1423, valacc 0.010949\n"
     ]
    },
    {
     "name": "stdout",
     "output_type": "stream",
     "text": [
      "2024-03-21 16:41:02,051 Running SR-RSC and analysis INFO: NMI=0.00995, ARI: 0.01039, f1_micro=0.79033, f1_macro=0.78582\n"
     ]
    },
    {
     "name": "stderr",
     "output_type": "stream",
     "text": [
      "2024-03-21 16:41:02,051 evaluation.py-102-evalutation(): INFO\n",
      " NMI=0.00995, ARI: 0.01039, f1_micro=0.79033, f1_macro=0.78582\n"
     ]
    },
    {
     "name": "stdout",
     "output_type": "stream",
     "text": [
      "2024-03-21 16:41:02,061 Running SR-RSC and analysis INFO: Epoch 27...\n"
     ]
    },
    {
     "name": "stderr",
     "output_type": "stream",
     "text": [
      "2024-03-21 16:41:02,061 SubHIN.py-44-training(): INFO\n",
      " Epoch 27...\n"
     ]
    },
    {
     "name": "stdout",
     "output_type": "stream",
     "text": [
      "2024-03-21 16:41:41,274 Running SR-RSC and analysis INFO: Epoch 28...\n"
     ]
    },
    {
     "name": "stderr",
     "output_type": "stream",
     "text": [
      "2024-03-21 16:41:41,274 SubHIN.py-44-training(): INFO\n",
      " Epoch 28...\n"
     ]
    },
    {
     "name": "stdout",
     "output_type": "stream",
     "text": [
      "2024-03-21 16:42:17,406 Running SR-RSC and analysis INFO: Epoch 28, loss 4.1084, valacc 0.010656\n"
     ]
    },
    {
     "name": "stderr",
     "output_type": "stream",
     "text": [
      "2024-03-21 16:42:17,406 SubHIN.py-66-training(): INFO\n",
      " Epoch 28, loss 4.1084, valacc 0.010656\n"
     ]
    },
    {
     "name": "stdout",
     "output_type": "stream",
     "text": [
      "2024-03-21 16:42:29,965 Running SR-RSC and analysis INFO: NMI=0.00793, ARI: 0.00689, f1_micro=0.77474, f1_macro=0.76983\n"
     ]
    },
    {
     "name": "stderr",
     "output_type": "stream",
     "text": [
      "2024-03-21 16:42:29,965 evaluation.py-102-evalutation(): INFO\n",
      " NMI=0.00793, ARI: 0.00689, f1_micro=0.77474, f1_macro=0.76983\n"
     ]
    },
    {
     "name": "stdout",
     "output_type": "stream",
     "text": [
      "2024-03-21 16:42:29,969 Running SR-RSC and analysis INFO: Epoch 29...\n"
     ]
    },
    {
     "name": "stderr",
     "output_type": "stream",
     "text": [
      "2024-03-21 16:42:29,969 SubHIN.py-44-training(): INFO\n",
      " Epoch 29...\n"
     ]
    },
    {
     "name": "stdout",
     "output_type": "stream",
     "text": [
      "2024-03-21 16:43:02,298 Running SR-RSC and analysis INFO: Epoch 29, loss 4.09, valacc 0.010799\n"
     ]
    },
    {
     "name": "stderr",
     "output_type": "stream",
     "text": [
      "2024-03-21 16:43:02,298 SubHIN.py-66-training(): INFO\n",
      " Epoch 29, loss 4.09, valacc 0.010799\n"
     ]
    },
    {
     "name": "stdout",
     "output_type": "stream",
     "text": [
      "2024-03-21 16:43:47,496 Running SR-RSC and analysis INFO: NMI=0.01072, ARI: 0.00973, f1_micro=0.77951, f1_macro=0.77494\n"
     ]
    },
    {
     "name": "stderr",
     "output_type": "stream",
     "text": [
      "2024-03-21 16:43:47,496 evaluation.py-102-evalutation(): INFO\n",
      " NMI=0.01072, ARI: 0.00973, f1_micro=0.77951, f1_macro=0.77494\n"
     ]
    },
    {
     "name": "stdout",
     "output_type": "stream",
     "text": [
      "2024-03-21 16:43:47,501 Running SR-RSC and analysis INFO: Epoch 30...\n"
     ]
    },
    {
     "name": "stderr",
     "output_type": "stream",
     "text": [
      "2024-03-21 16:43:47,501 SubHIN.py-44-training(): INFO\n",
      " Epoch 30...\n"
     ]
    },
    {
     "name": "stdout",
     "output_type": "stream",
     "text": [
      "2024-03-21 16:45:09,785 Running SR-RSC and analysis INFO: Epoch 31...\n"
     ]
    },
    {
     "name": "stderr",
     "output_type": "stream",
     "text": [
      "2024-03-21 16:45:09,785 SubHIN.py-44-training(): INFO\n",
      " Epoch 31...\n"
     ]
    },
    {
     "name": "stdout",
     "output_type": "stream",
     "text": [
      "2024-03-21 16:45:43,152 Running SR-RSC and analysis INFO: Epoch 31, loss 4.0612, valacc 0.011177\n"
     ]
    },
    {
     "name": "stderr",
     "output_type": "stream",
     "text": [
      "2024-03-21 16:45:43,152 SubHIN.py-66-training(): INFO\n",
      " Epoch 31, loss 4.0612, valacc 0.011177\n"
     ]
    },
    {
     "name": "stdout",
     "output_type": "stream",
     "text": [
      "2024-03-21 16:45:56,347 Running SR-RSC and analysis INFO: NMI=0.01142, ARI: 0.01067, f1_micro=0.76774, f1_macro=0.76333\n"
     ]
    },
    {
     "name": "stderr",
     "output_type": "stream",
     "text": [
      "2024-03-21 16:45:56,347 evaluation.py-102-evalutation(): INFO\n",
      " NMI=0.01142, ARI: 0.01067, f1_micro=0.76774, f1_macro=0.76333\n"
     ]
    },
    {
     "name": "stdout",
     "output_type": "stream",
     "text": [
      "2024-03-21 16:45:56,356 Running SR-RSC and analysis INFO: Epoch 32...\n"
     ]
    },
    {
     "name": "stderr",
     "output_type": "stream",
     "text": [
      "2024-03-21 16:45:56,356 SubHIN.py-44-training(): INFO\n",
      " Epoch 32...\n"
     ]
    },
    {
     "name": "stdout",
     "output_type": "stream",
     "text": [
      "2024-03-21 16:46:25,510 Running SR-RSC and analysis INFO: Epoch 32, loss 4.0582, valacc 0.010243\n"
     ]
    },
    {
     "name": "stderr",
     "output_type": "stream",
     "text": [
      "2024-03-21 16:46:25,510 SubHIN.py-66-training(): INFO\n",
      " Epoch 32, loss 4.0582, valacc 0.010243\n"
     ]
    },
    {
     "name": "stdout",
     "output_type": "stream",
     "text": [
      "2024-03-21 16:46:33,560 Running SR-RSC and analysis INFO: NMI=0.00999, ARI: 0.00843, f1_micro=0.77633, f1_macro=0.77190\n"
     ]
    },
    {
     "name": "stderr",
     "output_type": "stream",
     "text": [
      "2024-03-21 16:46:33,560 evaluation.py-102-evalutation(): INFO\n",
      " NMI=0.00999, ARI: 0.00843, f1_micro=0.77633, f1_macro=0.77190\n"
     ]
    },
    {
     "name": "stdout",
     "output_type": "stream",
     "text": [
      "2024-03-21 16:46:33,569 Running SR-RSC and analysis INFO: Epoch 33...\n"
     ]
    },
    {
     "name": "stderr",
     "output_type": "stream",
     "text": [
      "2024-03-21 16:46:33,569 SubHIN.py-44-training(): INFO\n",
      " Epoch 33...\n"
     ]
    },
    {
     "name": "stdout",
     "output_type": "stream",
     "text": [
      "2024-03-21 16:47:04,637 Running SR-RSC and analysis INFO: Epoch 33, loss 4.0555, valacc 0.0092353\n"
     ]
    },
    {
     "name": "stderr",
     "output_type": "stream",
     "text": [
      "2024-03-21 16:47:04,637 SubHIN.py-66-training(): INFO\n",
      " Epoch 33, loss 4.0555, valacc 0.0092353\n"
     ]
    },
    {
     "name": "stdout",
     "output_type": "stream",
     "text": [
      "2024-03-21 16:47:12,603 Running SR-RSC and analysis INFO: NMI=0.00709, ARI: 0.00512, f1_micro=0.77728, f1_macro=0.77243\n"
     ]
    },
    {
     "name": "stderr",
     "output_type": "stream",
     "text": [
      "2024-03-21 16:47:12,603 evaluation.py-102-evalutation(): INFO\n",
      " NMI=0.00709, ARI: 0.00512, f1_micro=0.77728, f1_macro=0.77243\n"
     ]
    },
    {
     "name": "stdout",
     "output_type": "stream",
     "text": [
      "2024-03-21 16:47:12,608 Running SR-RSC and analysis INFO: Epoch 34...\n"
     ]
    },
    {
     "name": "stderr",
     "output_type": "stream",
     "text": [
      "2024-03-21 16:47:12,608 SubHIN.py-44-training(): INFO\n",
      " Epoch 34...\n"
     ]
    },
    {
     "name": "stdout",
     "output_type": "stream",
     "text": [
      "2024-03-21 16:47:42,234 Running SR-RSC and analysis INFO: Epoch 34, loss 4.0344, valacc 0.010308\n"
     ]
    },
    {
     "name": "stderr",
     "output_type": "stream",
     "text": [
      "2024-03-21 16:47:42,234 SubHIN.py-66-training(): INFO\n",
      " Epoch 34, loss 4.0344, valacc 0.010308\n"
     ]
    },
    {
     "name": "stdout",
     "output_type": "stream",
     "text": [
      "2024-03-21 16:47:50,674 Running SR-RSC and analysis INFO: NMI=0.00849, ARI: 0.00643, f1_micro=0.75151, f1_macro=0.74578\n"
     ]
    },
    {
     "name": "stderr",
     "output_type": "stream",
     "text": [
      "2024-03-21 16:47:50,674 evaluation.py-102-evalutation(): INFO\n",
      " NMI=0.00849, ARI: 0.00643, f1_micro=0.75151, f1_macro=0.74578\n"
     ]
    },
    {
     "name": "stdout",
     "output_type": "stream",
     "text": [
      "2024-03-21 16:47:50,679 Running SR-RSC and analysis INFO: Epoch 35...\n"
     ]
    },
    {
     "name": "stderr",
     "output_type": "stream",
     "text": [
      "2024-03-21 16:47:50,679 SubHIN.py-44-training(): INFO\n",
      " Epoch 35...\n"
     ]
    },
    {
     "name": "stdout",
     "output_type": "stream",
     "text": [
      "2024-03-21 16:48:19,732 Running SR-RSC and analysis INFO: Epoch 36...\n"
     ]
    },
    {
     "name": "stderr",
     "output_type": "stream",
     "text": [
      "2024-03-21 16:48:19,732 SubHIN.py-44-training(): INFO\n",
      " Epoch 36...\n"
     ]
    },
    {
     "name": "stdout",
     "output_type": "stream",
     "text": [
      "2024-03-21 16:48:48,917 Running SR-RSC and analysis INFO: Epoch 36, loss 4.0286, valacc 0.0096308\n"
     ]
    },
    {
     "name": "stderr",
     "output_type": "stream",
     "text": [
      "2024-03-21 16:48:48,917 SubHIN.py-66-training(): INFO\n",
      " Epoch 36, loss 4.0286, valacc 0.0096308\n"
     ]
    },
    {
     "name": "stdout",
     "output_type": "stream",
     "text": [
      "2024-03-21 16:49:11,325 Running SR-RSC and analysis INFO: NMI=0.00700, ARI: 0.00514, f1_micro=0.77346, f1_macro=0.76879\n"
     ]
    },
    {
     "name": "stderr",
     "output_type": "stream",
     "text": [
      "2024-03-21 16:49:11,325 evaluation.py-102-evalutation(): INFO\n",
      " NMI=0.00700, ARI: 0.00514, f1_micro=0.77346, f1_macro=0.76879\n"
     ]
    },
    {
     "name": "stdout",
     "output_type": "stream",
     "text": [
      "2024-03-21 16:49:11,330 Running SR-RSC and analysis INFO: Epoch 37...\n"
     ]
    },
    {
     "name": "stderr",
     "output_type": "stream",
     "text": [
      "2024-03-21 16:49:11,330 SubHIN.py-44-training(): INFO\n",
      " Epoch 37...\n"
     ]
    },
    {
     "name": "stdout",
     "output_type": "stream",
     "text": [
      "2024-03-21 16:49:42,622 Running SR-RSC and analysis INFO: Epoch 37, loss 4.019, valacc 0.0090561\n"
     ]
    },
    {
     "name": "stderr",
     "output_type": "stream",
     "text": [
      "2024-03-21 16:49:42,622 SubHIN.py-66-training(): INFO\n",
      " Epoch 37, loss 4.019, valacc 0.0090561\n"
     ]
    },
    {
     "name": "stdout",
     "output_type": "stream",
     "text": [
      "2024-03-21 16:50:04,912 Running SR-RSC and analysis INFO: NMI=0.00798, ARI: 0.00567, f1_micro=0.78333, f1_macro=0.77908\n"
     ]
    },
    {
     "name": "stderr",
     "output_type": "stream",
     "text": [
      "2024-03-21 16:50:04,912 evaluation.py-102-evalutation(): INFO\n",
      " NMI=0.00798, ARI: 0.00567, f1_micro=0.78333, f1_macro=0.77908\n"
     ]
    },
    {
     "name": "stdout",
     "output_type": "stream",
     "text": [
      "2024-03-21 16:50:04,916 Running SR-RSC and analysis INFO: Epoch 38...\n"
     ]
    },
    {
     "name": "stderr",
     "output_type": "stream",
     "text": [
      "2024-03-21 16:50:04,916 SubHIN.py-44-training(): INFO\n",
      " Epoch 38...\n"
     ]
    },
    {
     "name": "stdout",
     "output_type": "stream",
     "text": [
      "2024-03-21 16:50:34,738 Running SR-RSC and analysis INFO: Epoch 38, loss 4.0033, valacc 0.0082159\n"
     ]
    },
    {
     "name": "stderr",
     "output_type": "stream",
     "text": [
      "2024-03-21 16:50:34,738 SubHIN.py-66-training(): INFO\n",
      " Epoch 38, loss 4.0033, valacc 0.0082159\n"
     ]
    },
    {
     "name": "stdout",
     "output_type": "stream",
     "text": [
      "2024-03-21 16:50:56,746 Running SR-RSC and analysis INFO: NMI=0.00689, ARI: 0.00427, f1_micro=0.76965, f1_macro=0.76568\n"
     ]
    },
    {
     "name": "stderr",
     "output_type": "stream",
     "text": [
      "2024-03-21 16:50:56,746 evaluation.py-102-evalutation(): INFO\n",
      " NMI=0.00689, ARI: 0.00427, f1_micro=0.76965, f1_macro=0.76568\n"
     ]
    },
    {
     "name": "stdout",
     "output_type": "stream",
     "text": [
      "2024-03-21 16:50:56,754 Running SR-RSC and analysis INFO: Epoch 39...\n"
     ]
    },
    {
     "name": "stderr",
     "output_type": "stream",
     "text": [
      "2024-03-21 16:50:56,754 SubHIN.py-44-training(): INFO\n",
      " Epoch 39...\n"
     ]
    },
    {
     "name": "stdout",
     "output_type": "stream",
     "text": [
      "2024-03-21 16:51:26,096 Running SR-RSC and analysis INFO: Epoch 39, loss 3.9798, valacc 0.0076424\n"
     ]
    },
    {
     "name": "stderr",
     "output_type": "stream",
     "text": [
      "2024-03-21 16:51:26,096 SubHIN.py-66-training(): INFO\n",
      " Epoch 39, loss 3.9798, valacc 0.0076424\n"
     ]
    },
    {
     "name": "stdout",
     "output_type": "stream",
     "text": [
      "2024-03-21 16:51:46,984 Running SR-RSC and analysis INFO: NMI=0.00679, ARI: 0.00418, f1_micro=0.76837, f1_macro=0.76410\n"
     ]
    },
    {
     "name": "stderr",
     "output_type": "stream",
     "text": [
      "2024-03-21 16:51:46,984 evaluation.py-102-evalutation(): INFO\n",
      " NMI=0.00679, ARI: 0.00418, f1_micro=0.76837, f1_macro=0.76410\n"
     ]
    },
    {
     "name": "stdout",
     "output_type": "stream",
     "text": [
      "2024-03-21 16:51:46,987 Running SR-RSC and analysis INFO: Epoch 40...\n"
     ]
    },
    {
     "name": "stderr",
     "output_type": "stream",
     "text": [
      "2024-03-21 16:51:46,987 SubHIN.py-44-training(): INFO\n",
      " Epoch 40...\n"
     ]
    },
    {
     "name": "stdout",
     "output_type": "stream",
     "text": [
      "2024-03-21 16:52:16,102 Running SR-RSC and analysis INFO: Epoch 41...\n"
     ]
    },
    {
     "name": "stderr",
     "output_type": "stream",
     "text": [
      "2024-03-21 16:52:16,102 SubHIN.py-44-training(): INFO\n",
      " Epoch 41...\n"
     ]
    },
    {
     "name": "stdout",
     "output_type": "stream",
     "text": [
      "2024-03-21 16:52:46,304 Running SR-RSC and analysis INFO: Epoch 41, loss 3.9735, valacc 0.0083975\n"
     ]
    },
    {
     "name": "stderr",
     "output_type": "stream",
     "text": [
      "2024-03-21 16:52:46,304 SubHIN.py-66-training(): INFO\n",
      " Epoch 41, loss 3.9735, valacc 0.0083975\n"
     ]
    },
    {
     "name": "stdout",
     "output_type": "stream",
     "text": [
      "2024-03-21 16:53:01,971 Running SR-RSC and analysis INFO: NMI=0.00876, ARI: 0.00626, f1_micro=0.76297, f1_macro=0.75818\n"
     ]
    },
    {
     "name": "stderr",
     "output_type": "stream",
     "text": [
      "2024-03-21 16:53:01,971 evaluation.py-102-evalutation(): INFO\n",
      " NMI=0.00876, ARI: 0.00626, f1_micro=0.76297, f1_macro=0.75818\n"
     ]
    },
    {
     "name": "stdout",
     "output_type": "stream",
     "text": [
      "2024-03-21 16:53:01,973 Running SR-RSC and analysis INFO: Epoch 42...\n"
     ]
    },
    {
     "name": "stderr",
     "output_type": "stream",
     "text": [
      "2024-03-21 16:53:01,973 SubHIN.py-44-training(): INFO\n",
      " Epoch 42...\n"
     ]
    },
    {
     "name": "stdout",
     "output_type": "stream",
     "text": [
      "2024-03-21 16:53:32,122 Running SR-RSC and analysis INFO: Epoch 42, loss 3.9594, valacc 0.0087409\n"
     ]
    },
    {
     "name": "stderr",
     "output_type": "stream",
     "text": [
      "2024-03-21 16:53:32,122 SubHIN.py-66-training(): INFO\n",
      " Epoch 42, loss 3.9594, valacc 0.0087409\n"
     ]
    },
    {
     "name": "stdout",
     "output_type": "stream",
     "text": [
      "2024-03-21 16:53:54,262 Running SR-RSC and analysis INFO: NMI=0.00657, ARI: 0.00412, f1_micro=0.75947, f1_macro=0.75528\n"
     ]
    },
    {
     "name": "stderr",
     "output_type": "stream",
     "text": [
      "2024-03-21 16:53:54,262 evaluation.py-102-evalutation(): INFO\n",
      " NMI=0.00657, ARI: 0.00412, f1_micro=0.75947, f1_macro=0.75528\n"
     ]
    },
    {
     "name": "stdout",
     "output_type": "stream",
     "text": [
      "2024-03-21 16:53:54,268 Running SR-RSC and analysis INFO: Epoch 43...\n"
     ]
    },
    {
     "name": "stderr",
     "output_type": "stream",
     "text": [
      "2024-03-21 16:53:54,268 SubHIN.py-44-training(): INFO\n",
      " Epoch 43...\n"
     ]
    },
    {
     "name": "stdout",
     "output_type": "stream",
     "text": [
      "2024-03-21 16:54:22,337 Running SR-RSC and analysis INFO: Epoch 43, loss 3.9515, valacc 0.0082054\n"
     ]
    },
    {
     "name": "stderr",
     "output_type": "stream",
     "text": [
      "2024-03-21 16:54:22,337 SubHIN.py-66-training(): INFO\n",
      " Epoch 43, loss 3.9515, valacc 0.0082054\n"
     ]
    },
    {
     "name": "stdout",
     "output_type": "stream",
     "text": [
      "2024-03-21 16:54:44,467 Running SR-RSC and analysis INFO: NMI=0.00703, ARI: 0.00491, f1_micro=0.76392, f1_macro=0.75913\n"
     ]
    },
    {
     "name": "stderr",
     "output_type": "stream",
     "text": [
      "2024-03-21 16:54:44,467 evaluation.py-102-evalutation(): INFO\n",
      " NMI=0.00703, ARI: 0.00491, f1_micro=0.76392, f1_macro=0.75913\n"
     ]
    },
    {
     "name": "stdout",
     "output_type": "stream",
     "text": [
      "2024-03-21 16:54:44,472 Running SR-RSC and analysis INFO: Epoch 44...\n"
     ]
    },
    {
     "name": "stderr",
     "output_type": "stream",
     "text": [
      "2024-03-21 16:54:44,472 SubHIN.py-44-training(): INFO\n",
      " Epoch 44...\n"
     ]
    },
    {
     "name": "stdout",
     "output_type": "stream",
     "text": [
      "2024-03-21 16:55:14,057 Running SR-RSC and analysis INFO: Epoch 45...\n"
     ]
    },
    {
     "name": "stderr",
     "output_type": "stream",
     "text": [
      "2024-03-21 16:55:14,057 SubHIN.py-44-training(): INFO\n",
      " Epoch 45...\n"
     ]
    },
    {
     "name": "stdout",
     "output_type": "stream",
     "text": [
      "2024-03-21 16:55:41,890 Running SR-RSC and analysis INFO: Epoch 45, loss 3.9435, valacc 0.0087916\n"
     ]
    },
    {
     "name": "stderr",
     "output_type": "stream",
     "text": [
      "2024-03-21 16:55:41,890 SubHIN.py-66-training(): INFO\n",
      " Epoch 45, loss 3.9435, valacc 0.0087916\n"
     ]
    },
    {
     "name": "stdout",
     "output_type": "stream",
     "text": [
      "2024-03-21 16:56:03,962 Running SR-RSC and analysis INFO: NMI=0.00932, ARI: 0.00681, f1_micro=0.75469, f1_macro=0.75086\n"
     ]
    },
    {
     "name": "stderr",
     "output_type": "stream",
     "text": [
      "2024-03-21 16:56:03,962 evaluation.py-102-evalutation(): INFO\n",
      " NMI=0.00932, ARI: 0.00681, f1_micro=0.75469, f1_macro=0.75086\n"
     ]
    },
    {
     "name": "stdout",
     "output_type": "stream",
     "text": [
      "2024-03-21 16:56:03,965 Running SR-RSC and analysis INFO: Epoch 46...\n"
     ]
    },
    {
     "name": "stderr",
     "output_type": "stream",
     "text": [
      "2024-03-21 16:56:03,965 SubHIN.py-44-training(): INFO\n",
      " Epoch 46...\n"
     ]
    },
    {
     "name": "stdout",
     "output_type": "stream",
     "text": [
      "2024-03-21 16:56:32,967 Running SR-RSC and analysis INFO: Epoch 46, loss 3.9342, valacc 0.0084691\n"
     ]
    },
    {
     "name": "stderr",
     "output_type": "stream",
     "text": [
      "2024-03-21 16:56:32,967 SubHIN.py-66-training(): INFO\n",
      " Epoch 46, loss 3.9342, valacc 0.0084691\n"
     ]
    },
    {
     "name": "stdout",
     "output_type": "stream",
     "text": [
      "2024-03-21 16:56:43,730 Running SR-RSC and analysis INFO: NMI=0.00738, ARI: 0.00519, f1_micro=0.76201, f1_macro=0.75723\n"
     ]
    },
    {
     "name": "stderr",
     "output_type": "stream",
     "text": [
      "2024-03-21 16:56:43,730 evaluation.py-102-evalutation(): INFO\n",
      " NMI=0.00738, ARI: 0.00519, f1_micro=0.76201, f1_macro=0.75723\n"
     ]
    },
    {
     "name": "stdout",
     "output_type": "stream",
     "text": [
      "2024-03-21 16:56:43,734 Running SR-RSC and analysis INFO: Epoch 47...\n"
     ]
    },
    {
     "name": "stderr",
     "output_type": "stream",
     "text": [
      "2024-03-21 16:56:43,734 SubHIN.py-44-training(): INFO\n",
      " Epoch 47...\n"
     ]
    },
    {
     "name": "stdout",
     "output_type": "stream",
     "text": [
      "2024-03-21 16:57:15,246 Running SR-RSC and analysis INFO: Epoch 47, loss 3.9302, valacc 0.0083726\n"
     ]
    },
    {
     "name": "stderr",
     "output_type": "stream",
     "text": [
      "2024-03-21 16:57:15,246 SubHIN.py-66-training(): INFO\n",
      " Epoch 47, loss 3.9302, valacc 0.0083726\n"
     ]
    },
    {
     "name": "stdout",
     "output_type": "stream",
     "text": [
      "2024-03-21 16:57:39,494 Running SR-RSC and analysis INFO: NMI=0.00635, ARI: 0.00427, f1_micro=0.76774, f1_macro=0.76386\n"
     ]
    },
    {
     "name": "stderr",
     "output_type": "stream",
     "text": [
      "2024-03-21 16:57:39,494 evaluation.py-102-evalutation(): INFO\n",
      " NMI=0.00635, ARI: 0.00427, f1_micro=0.76774, f1_macro=0.76386\n"
     ]
    },
    {
     "name": "stdout",
     "output_type": "stream",
     "text": [
      "2024-03-21 16:57:39,498 Running SR-RSC and analysis INFO: Epoch 48...\n"
     ]
    },
    {
     "name": "stderr",
     "output_type": "stream",
     "text": [
      "2024-03-21 16:57:39,498 SubHIN.py-44-training(): INFO\n",
      " Epoch 48...\n"
     ]
    },
    {
     "name": "stdout",
     "output_type": "stream",
     "text": [
      "2024-03-21 16:58:12,748 Running SR-RSC and analysis INFO: Epoch 49...\n"
     ]
    },
    {
     "name": "stderr",
     "output_type": "stream",
     "text": [
      "2024-03-21 16:58:12,748 SubHIN.py-44-training(): INFO\n",
      " Epoch 49...\n"
     ]
    },
    {
     "name": "stdout",
     "output_type": "stream",
     "text": [
      "2024-03-21 16:58:43,248 Running SR-RSC and analysis INFO: Epoch 49, loss 3.9192, valacc 0.0084444\n"
     ]
    },
    {
     "name": "stderr",
     "output_type": "stream",
     "text": [
      "2024-03-21 16:58:43,248 SubHIN.py-66-training(): INFO\n",
      " Epoch 49, loss 3.9192, valacc 0.0084444\n"
     ]
    },
    {
     "name": "stdout",
     "output_type": "stream",
     "text": [
      "2024-03-21 16:59:04,208 Running SR-RSC and analysis INFO: NMI=0.00628, ARI: 0.00396, f1_micro=0.75437, f1_macro=0.75002\n"
     ]
    },
    {
     "name": "stderr",
     "output_type": "stream",
     "text": [
      "2024-03-21 16:59:04,208 evaluation.py-102-evalutation(): INFO\n",
      " NMI=0.00628, ARI: 0.00396, f1_micro=0.75437, f1_macro=0.75002\n"
     ]
    },
    {
     "name": "stdout",
     "output_type": "stream",
     "text": [
      "2024-03-21 16:59:04,215 Running SR-RSC and analysis INFO: Epoch 50...\n"
     ]
    },
    {
     "name": "stderr",
     "output_type": "stream",
     "text": [
      "2024-03-21 16:59:04,215 SubHIN.py-44-training(): INFO\n",
      " Epoch 50...\n"
     ]
    },
    {
     "name": "stdout",
     "output_type": "stream",
     "text": [
      "2024-03-21 16:59:36,685 Running SR-RSC and analysis INFO: Epoch 51...\n"
     ]
    },
    {
     "name": "stderr",
     "output_type": "stream",
     "text": [
      "2024-03-21 16:59:36,685 SubHIN.py-44-training(): INFO\n",
      " Epoch 51...\n"
     ]
    },
    {
     "name": "stdout",
     "output_type": "stream",
     "text": [
      "2024-03-21 17:00:20,961 Running SR-RSC and analysis INFO: Epoch 51, loss 3.9132, valacc 0.0080937\n"
     ]
    },
    {
     "name": "stderr",
     "output_type": "stream",
     "text": [
      "2024-03-21 17:00:20,961 SubHIN.py-66-training(): INFO\n",
      " Epoch 51, loss 3.9132, valacc 0.0080937\n"
     ]
    },
    {
     "name": "stdout",
     "output_type": "stream",
     "text": [
      "2024-03-21 17:00:52,209 Running SR-RSC and analysis INFO: NMI=0.00746, ARI: 0.00449, f1_micro=0.76010, f1_macro=0.75605\n"
     ]
    },
    {
     "name": "stderr",
     "output_type": "stream",
     "text": [
      "2024-03-21 17:00:52,209 evaluation.py-102-evalutation(): INFO\n",
      " NMI=0.00746, ARI: 0.00449, f1_micro=0.76010, f1_macro=0.75605\n"
     ]
    },
    {
     "name": "stdout",
     "output_type": "stream",
     "text": [
      "2024-03-21 17:00:52,212 Running SR-RSC and analysis INFO: Epoch 52...\n"
     ]
    },
    {
     "name": "stderr",
     "output_type": "stream",
     "text": [
      "2024-03-21 17:00:52,212 SubHIN.py-44-training(): INFO\n",
      " Epoch 52...\n"
     ]
    },
    {
     "name": "stdout",
     "output_type": "stream",
     "text": [
      "2024-03-21 17:01:26,376 Running SR-RSC and analysis INFO: Epoch 52, loss 3.9085, valacc 0.0077073\n"
     ]
    },
    {
     "name": "stderr",
     "output_type": "stream",
     "text": [
      "2024-03-21 17:01:26,376 SubHIN.py-66-training(): INFO\n",
      " Epoch 52, loss 3.9085, valacc 0.0077073\n"
     ]
    },
    {
     "name": "stdout",
     "output_type": "stream",
     "text": [
      "2024-03-21 17:01:53,588 Running SR-RSC and analysis INFO: NMI=0.00530, ARI: 0.00287, f1_micro=0.76201, f1_macro=0.75803\n"
     ]
    },
    {
     "name": "stderr",
     "output_type": "stream",
     "text": [
      "2024-03-21 17:01:53,588 evaluation.py-102-evalutation(): INFO\n",
      " NMI=0.00530, ARI: 0.00287, f1_micro=0.76201, f1_macro=0.75803\n"
     ]
    },
    {
     "name": "stdout",
     "output_type": "stream",
     "text": [
      "2024-03-21 17:01:53,596 Running SR-RSC and analysis INFO: Epoch 53...\n"
     ]
    },
    {
     "name": "stderr",
     "output_type": "stream",
     "text": [
      "2024-03-21 17:01:53,596 SubHIN.py-44-training(): INFO\n",
      " Epoch 53...\n"
     ]
    },
    {
     "name": "stdout",
     "output_type": "stream",
     "text": [
      "2024-03-21 17:02:35,686 Running SR-RSC and analysis INFO: Epoch 53, loss 3.9077, valacc 0.0074966\n"
     ]
    },
    {
     "name": "stderr",
     "output_type": "stream",
     "text": [
      "2024-03-21 17:02:35,686 SubHIN.py-66-training(): INFO\n",
      " Epoch 53, loss 3.9077, valacc 0.0074966\n"
     ]
    },
    {
     "name": "stdout",
     "output_type": "stream",
     "text": [
      "2024-03-21 17:03:04,498 Running SR-RSC and analysis INFO: NMI=0.00738, ARI: 0.00484, f1_micro=0.76487, f1_macro=0.76120\n"
     ]
    },
    {
     "name": "stderr",
     "output_type": "stream",
     "text": [
      "2024-03-21 17:03:04,498 evaluation.py-102-evalutation(): INFO\n",
      " NMI=0.00738, ARI: 0.00484, f1_micro=0.76487, f1_macro=0.76120\n"
     ]
    },
    {
     "name": "stdout",
     "output_type": "stream",
     "text": [
      "2024-03-21 17:03:04,507 Running SR-RSC and analysis INFO: Epoch 54...\n"
     ]
    },
    {
     "name": "stderr",
     "output_type": "stream",
     "text": [
      "2024-03-21 17:03:04,507 SubHIN.py-44-training(): INFO\n",
      " Epoch 54...\n"
     ]
    },
    {
     "name": "stdout",
     "output_type": "stream",
     "text": [
      "2024-03-21 17:03:32,145 Running SR-RSC and analysis INFO: Epoch 54, loss 3.889, valacc 0.0085167\n"
     ]
    },
    {
     "name": "stderr",
     "output_type": "stream",
     "text": [
      "2024-03-21 17:03:32,145 SubHIN.py-66-training(): INFO\n",
      " Epoch 54, loss 3.889, valacc 0.0085167\n"
     ]
    },
    {
     "name": "stdout",
     "output_type": "stream",
     "text": [
      "2024-03-21 17:03:56,706 Running SR-RSC and analysis INFO: NMI=0.00680, ARI: 0.00429, f1_micro=0.75501, f1_macro=0.75096\n"
     ]
    },
    {
     "name": "stderr",
     "output_type": "stream",
     "text": [
      "2024-03-21 17:03:56,706 evaluation.py-102-evalutation(): INFO\n",
      " NMI=0.00680, ARI: 0.00429, f1_micro=0.75501, f1_macro=0.75096\n"
     ]
    },
    {
     "name": "stdout",
     "output_type": "stream",
     "text": [
      "2024-03-21 17:03:56,712 Running SR-RSC and analysis INFO: Epoch 55...\n"
     ]
    },
    {
     "name": "stderr",
     "output_type": "stream",
     "text": [
      "2024-03-21 17:03:56,712 SubHIN.py-44-training(): INFO\n",
      " Epoch 55...\n"
     ]
    },
    {
     "name": "stdout",
     "output_type": "stream",
     "text": [
      "2024-03-21 17:04:28,579 Running SR-RSC and analysis INFO: Epoch 56...\n"
     ]
    },
    {
     "name": "stderr",
     "output_type": "stream",
     "text": [
      "2024-03-21 17:04:28,579 SubHIN.py-44-training(): INFO\n",
      " Epoch 56...\n"
     ]
    },
    {
     "name": "stdout",
     "output_type": "stream",
     "text": [
      "2024-03-21 17:05:30,093 Running SR-RSC and analysis INFO: Epoch 57...\n"
     ]
    },
    {
     "name": "stderr",
     "output_type": "stream",
     "text": [
      "2024-03-21 17:05:30,093 SubHIN.py-44-training(): INFO\n",
      " Epoch 57...\n"
     ]
    },
    {
     "name": "stdout",
     "output_type": "stream",
     "text": [
      "2024-03-21 17:06:38,245 Running SR-RSC and analysis INFO: Epoch 57, loss 3.8746, valacc 0.0084656\n"
     ]
    },
    {
     "name": "stderr",
     "output_type": "stream",
     "text": [
      "2024-03-21 17:06:38,245 SubHIN.py-66-training(): INFO\n",
      " Epoch 57, loss 3.8746, valacc 0.0084656\n"
     ]
    },
    {
     "name": "stdout",
     "output_type": "stream",
     "text": [
      "2024-03-21 17:07:15,966 Running SR-RSC and analysis INFO: NMI=0.00691, ARI: 0.00471, f1_micro=0.75183, f1_macro=0.74703\n"
     ]
    },
    {
     "name": "stderr",
     "output_type": "stream",
     "text": [
      "2024-03-21 17:07:15,966 evaluation.py-102-evalutation(): INFO\n",
      " NMI=0.00691, ARI: 0.00471, f1_micro=0.75183, f1_macro=0.74703\n"
     ]
    },
    {
     "name": "stdout",
     "output_type": "stream",
     "text": [
      "2024-03-21 17:07:15,970 Running SR-RSC and analysis INFO: Epoch 58...\n"
     ]
    },
    {
     "name": "stderr",
     "output_type": "stream",
     "text": [
      "2024-03-21 17:07:15,970 SubHIN.py-44-training(): INFO\n",
      " Epoch 58...\n"
     ]
    },
    {
     "name": "stdout",
     "output_type": "stream",
     "text": [
      "2024-03-21 17:08:33,517 Running SR-RSC and analysis INFO: Epoch 59...\n"
     ]
    },
    {
     "name": "stderr",
     "output_type": "stream",
     "text": [
      "2024-03-21 17:08:33,517 SubHIN.py-44-training(): INFO\n",
      " Epoch 59...\n"
     ]
    },
    {
     "name": "stdout",
     "output_type": "stream",
     "text": [
      "2024-03-21 17:10:05,935 Running SR-RSC and analysis INFO: Epoch 60...\n"
     ]
    },
    {
     "name": "stderr",
     "output_type": "stream",
     "text": [
      "2024-03-21 17:10:05,935 SubHIN.py-44-training(): INFO\n",
      " Epoch 60...\n"
     ]
    },
    {
     "name": "stdout",
     "output_type": "stream",
     "text": [
      "2024-03-21 17:11:13,265 Running SR-RSC and analysis INFO: Epoch 61...\n"
     ]
    },
    {
     "name": "stderr",
     "output_type": "stream",
     "text": [
      "2024-03-21 17:11:13,265 SubHIN.py-44-training(): INFO\n",
      " Epoch 61...\n"
     ]
    },
    {
     "name": "stdout",
     "output_type": "stream",
     "text": [
      "2024-03-21 17:12:10,115 Running SR-RSC and analysis INFO: Epoch 62...\n"
     ]
    },
    {
     "name": "stderr",
     "output_type": "stream",
     "text": [
      "2024-03-21 17:12:10,115 SubHIN.py-44-training(): INFO\n",
      " Epoch 62...\n"
     ]
    },
    {
     "name": "stdout",
     "output_type": "stream",
     "text": [
      "2024-03-21 17:13:07,158 Running SR-RSC and analysis INFO: Epoch 63...\n"
     ]
    },
    {
     "name": "stderr",
     "output_type": "stream",
     "text": [
      "2024-03-21 17:13:07,158 SubHIN.py-44-training(): INFO\n",
      " Epoch 63...\n"
     ]
    },
    {
     "name": "stdout",
     "output_type": "stream",
     "text": [
      "2024-03-21 17:14:11,460 Running SR-RSC and analysis INFO: Epoch 63, loss 3.8625, valacc 0.0082552\n"
     ]
    },
    {
     "name": "stderr",
     "output_type": "stream",
     "text": [
      "2024-03-21 17:14:11,460 SubHIN.py-66-training(): INFO\n",
      " Epoch 63, loss 3.8625, valacc 0.0082552\n"
     ]
    },
    {
     "name": "stdout",
     "output_type": "stream",
     "text": [
      "2024-03-21 17:14:34,917 Running SR-RSC and analysis INFO: NMI=0.00693, ARI: 0.00437, f1_micro=0.74897, f1_macro=0.74512\n"
     ]
    },
    {
     "name": "stderr",
     "output_type": "stream",
     "text": [
      "2024-03-21 17:14:34,917 evaluation.py-102-evalutation(): INFO\n",
      " NMI=0.00693, ARI: 0.00437, f1_micro=0.74897, f1_macro=0.74512\n"
     ]
    },
    {
     "name": "stdout",
     "output_type": "stream",
     "text": [
      "2024-03-21 17:14:34,920 Running SR-RSC and analysis INFO: Epoch 64...\n"
     ]
    },
    {
     "name": "stderr",
     "output_type": "stream",
     "text": [
      "2024-03-21 17:14:34,920 SubHIN.py-44-training(): INFO\n",
      " Epoch 64...\n"
     ]
    },
    {
     "name": "stdout",
     "output_type": "stream",
     "text": [
      "2024-03-21 17:15:24,579 Running SR-RSC and analysis INFO: Epoch 65...\n"
     ]
    },
    {
     "name": "stderr",
     "output_type": "stream",
     "text": [
      "2024-03-21 17:15:24,579 SubHIN.py-44-training(): INFO\n",
      " Epoch 65...\n"
     ]
    },
    {
     "name": "stdout",
     "output_type": "stream",
     "text": [
      "2024-03-21 17:16:41,858 Running SR-RSC and analysis INFO: Epoch 66...\n"
     ]
    },
    {
     "name": "stderr",
     "output_type": "stream",
     "text": [
      "2024-03-21 17:16:41,858 SubHIN.py-44-training(): INFO\n",
      " Epoch 66...\n"
     ]
    },
    {
     "name": "stdout",
     "output_type": "stream",
     "text": [
      "2024-03-21 17:17:59,470 Running SR-RSC and analysis INFO: Epoch 67...\n"
     ]
    },
    {
     "name": "stderr",
     "output_type": "stream",
     "text": [
      "2024-03-21 17:17:59,470 SubHIN.py-44-training(): INFO\n",
      " Epoch 67...\n"
     ]
    },
    {
     "name": "stdout",
     "output_type": "stream",
     "text": [
      "2024-03-21 17:18:45,029 Running SR-RSC and analysis INFO: Epoch 67, loss 3.8432, valacc 0.0089434\n"
     ]
    },
    {
     "name": "stderr",
     "output_type": "stream",
     "text": [
      "2024-03-21 17:18:45,029 SubHIN.py-66-training(): INFO\n",
      " Epoch 67, loss 3.8432, valacc 0.0089434\n"
     ]
    },
    {
     "name": "stdout",
     "output_type": "stream",
     "text": [
      "2024-03-21 17:19:30,805 Running SR-RSC and analysis INFO: NMI=0.00850, ARI: 0.00631, f1_micro=0.76487, f1_macro=0.76080\n"
     ]
    },
    {
     "name": "stderr",
     "output_type": "stream",
     "text": [
      "2024-03-21 17:19:30,805 evaluation.py-102-evalutation(): INFO\n",
      " NMI=0.00850, ARI: 0.00631, f1_micro=0.76487, f1_macro=0.76080\n"
     ]
    },
    {
     "name": "stdout",
     "output_type": "stream",
     "text": [
      "2024-03-21 17:19:30,811 Running SR-RSC and analysis INFO: Epoch 68...\n"
     ]
    },
    {
     "name": "stderr",
     "output_type": "stream",
     "text": [
      "2024-03-21 17:19:30,811 SubHIN.py-44-training(): INFO\n",
      " Epoch 68...\n"
     ]
    },
    {
     "name": "stdout",
     "output_type": "stream",
     "text": [
      "2024-03-21 17:20:26,637 Running SR-RSC and analysis INFO: Epoch 68, loss 3.8328, valacc 0.0089005\n"
     ]
    },
    {
     "name": "stderr",
     "output_type": "stream",
     "text": [
      "2024-03-21 17:20:26,637 SubHIN.py-66-training(): INFO\n",
      " Epoch 68, loss 3.8328, valacc 0.0089005\n"
     ]
    },
    {
     "name": "stdout",
     "output_type": "stream",
     "text": [
      "2024-03-21 17:20:56,411 Running SR-RSC and analysis INFO: NMI=0.00964, ARI: 0.00767, f1_micro=0.75374, f1_macro=0.74987\n"
     ]
    },
    {
     "name": "stderr",
     "output_type": "stream",
     "text": [
      "2024-03-21 17:20:56,411 evaluation.py-102-evalutation(): INFO\n",
      " NMI=0.00964, ARI: 0.00767, f1_micro=0.75374, f1_macro=0.74987\n"
     ]
    },
    {
     "name": "stdout",
     "output_type": "stream",
     "text": [
      "2024-03-21 17:20:56,415 Running SR-RSC and analysis INFO: Epoch 69...\n"
     ]
    },
    {
     "name": "stderr",
     "output_type": "stream",
     "text": [
      "2024-03-21 17:20:56,415 SubHIN.py-44-training(): INFO\n",
      " Epoch 69...\n"
     ]
    },
    {
     "name": "stdout",
     "output_type": "stream",
     "text": [
      "2024-03-21 17:22:09,118 Running SR-RSC and analysis INFO: Epoch 70...\n"
     ]
    },
    {
     "name": "stderr",
     "output_type": "stream",
     "text": [
      "2024-03-21 17:22:09,118 SubHIN.py-44-training(): INFO\n",
      " Epoch 70...\n"
     ]
    },
    {
     "name": "stdout",
     "output_type": "stream",
     "text": [
      "2024-03-21 17:22:59,025 Running SR-RSC and analysis INFO: Epoch 71...\n"
     ]
    },
    {
     "name": "stderr",
     "output_type": "stream",
     "text": [
      "2024-03-21 17:22:59,025 SubHIN.py-44-training(): INFO\n",
      " Epoch 71...\n"
     ]
    },
    {
     "name": "stdout",
     "output_type": "stream",
     "text": [
      "2024-03-21 17:24:19,626 Running SR-RSC and analysis INFO: Epoch 72...\n"
     ]
    },
    {
     "name": "stderr",
     "output_type": "stream",
     "text": [
      "2024-03-21 17:24:19,626 SubHIN.py-44-training(): INFO\n",
      " Epoch 72...\n"
     ]
    },
    {
     "name": "stdout",
     "output_type": "stream",
     "text": [
      "2024-03-21 17:25:34,110 Running SR-RSC and analysis INFO: Epoch 73...\n"
     ]
    },
    {
     "name": "stderr",
     "output_type": "stream",
     "text": [
      "2024-03-21 17:25:34,110 SubHIN.py-44-training(): INFO\n",
      " Epoch 73...\n"
     ]
    },
    {
     "name": "stdout",
     "output_type": "stream",
     "text": [
      "2024-03-21 17:27:02,760 Running SR-RSC and analysis INFO: Epoch 74...\n"
     ]
    },
    {
     "name": "stderr",
     "output_type": "stream",
     "text": [
      "2024-03-21 17:27:02,760 SubHIN.py-44-training(): INFO\n",
      " Epoch 74...\n"
     ]
    },
    {
     "name": "stdout",
     "output_type": "stream",
     "text": [
      "2024-03-21 17:28:30,155 Running SR-RSC and analysis INFO: Epoch 75...\n"
     ]
    },
    {
     "name": "stderr",
     "output_type": "stream",
     "text": [
      "2024-03-21 17:28:30,155 SubHIN.py-44-training(): INFO\n",
      " Epoch 75...\n"
     ]
    },
    {
     "name": "stdout",
     "output_type": "stream",
     "text": [
      "2024-03-21 17:29:23,293 Running SR-RSC and analysis INFO: Epoch 76...\n"
     ]
    },
    {
     "name": "stderr",
     "output_type": "stream",
     "text": [
      "2024-03-21 17:29:23,293 SubHIN.py-44-training(): INFO\n",
      " Epoch 76...\n"
     ]
    },
    {
     "name": "stdout",
     "output_type": "stream",
     "text": [
      "2024-03-21 17:30:28,033 Running SR-RSC and analysis INFO: Epoch 77...\n"
     ]
    },
    {
     "name": "stderr",
     "output_type": "stream",
     "text": [
      "2024-03-21 17:30:28,033 SubHIN.py-44-training(): INFO\n",
      " Epoch 77...\n"
     ]
    },
    {
     "name": "stdout",
     "output_type": "stream",
     "text": [
      "2024-03-21 17:32:13,436 Running SR-RSC and analysis INFO: Epoch 79, loss 3.8295, valacc 0.0079008\n"
     ]
    },
    {
     "name": "stderr",
     "output_type": "stream",
     "text": [
      "2024-03-21 17:32:13,436 SubHIN.py-66-training(): INFO\n",
      " Epoch 79, loss 3.8295, valacc 0.0079008\n"
     ]
    },
    {
     "name": "stdout",
     "output_type": "stream",
     "text": [
      "2024-03-21 17:32:30,072 Running SR-RSC and analysis INFO: NMI=0.00729, ARI: 0.00509, f1_micro=0.74674, f1_macro=0.74238\n"
     ]
    },
    {
     "name": "stderr",
     "output_type": "stream",
     "text": [
      "2024-03-21 17:32:30,072 evaluation.py-102-evalutation(): INFO\n",
      " NMI=0.00729, ARI: 0.00509, f1_micro=0.74674, f1_macro=0.74238\n"
     ]
    },
    {
     "name": "stdout",
     "output_type": "stream",
     "text": [
      "2024-03-21 17:32:30,081 Running SR-RSC and analysis INFO: Epoch 80...\n"
     ]
    },
    {
     "name": "stderr",
     "output_type": "stream",
     "text": [
      "2024-03-21 17:32:30,081 SubHIN.py-44-training(): INFO\n",
      " Epoch 80...\n"
     ]
    },
    {
     "name": "stdout",
     "output_type": "stream",
     "text": [
      "2024-03-21 17:33:02,093 Running SR-RSC and analysis INFO: Epoch 80, loss 3.8169, valacc 0.0082873\n"
     ]
    },
    {
     "name": "stderr",
     "output_type": "stream",
     "text": [
      "2024-03-21 17:33:02,093 SubHIN.py-66-training(): INFO\n",
      " Epoch 80, loss 3.8169, valacc 0.0082873\n"
     ]
    },
    {
     "name": "stdout",
     "output_type": "stream",
     "text": [
      "2024-03-21 17:33:18,996 Running SR-RSC and analysis INFO: NMI=0.00945, ARI: 0.00770, f1_micro=0.75597, f1_macro=0.75231\n"
     ]
    },
    {
     "name": "stderr",
     "output_type": "stream",
     "text": [
      "2024-03-21 17:33:18,996 evaluation.py-102-evalutation(): INFO\n",
      " NMI=0.00945, ARI: 0.00770, f1_micro=0.75597, f1_macro=0.75231\n"
     ]
    },
    {
     "name": "stdout",
     "output_type": "stream",
     "text": [
      "2024-03-21 17:33:19,000 Running SR-RSC and analysis INFO: Epoch 81...\n"
     ]
    },
    {
     "name": "stderr",
     "output_type": "stream",
     "text": [
      "2024-03-21 17:33:19,000 SubHIN.py-44-training(): INFO\n",
      " Epoch 81...\n"
     ]
    },
    {
     "name": "stdout",
     "output_type": "stream",
     "text": [
      "2024-03-21 17:33:49,074 Running SR-RSC and analysis INFO: Epoch 82...\n"
     ]
    },
    {
     "name": "stderr",
     "output_type": "stream",
     "text": [
      "2024-03-21 17:33:49,074 SubHIN.py-44-training(): INFO\n",
      " Epoch 82...\n"
     ]
    },
    {
     "name": "stdout",
     "output_type": "stream",
     "text": [
      "2024-03-21 17:34:19,758 Running SR-RSC and analysis INFO: Epoch 83...\n"
     ]
    },
    {
     "name": "stderr",
     "output_type": "stream",
     "text": [
      "2024-03-21 17:34:19,758 SubHIN.py-44-training(): INFO\n",
      " Epoch 83...\n"
     ]
    },
    {
     "name": "stdout",
     "output_type": "stream",
     "text": [
      "2024-03-21 17:34:50,208 Running SR-RSC and analysis INFO: Epoch 84...\n"
     ]
    },
    {
     "name": "stderr",
     "output_type": "stream",
     "text": [
      "2024-03-21 17:34:50,208 SubHIN.py-44-training(): INFO\n",
      " Epoch 84...\n"
     ]
    },
    {
     "name": "stdout",
     "output_type": "stream",
     "text": [
      "2024-03-21 17:35:23,790 Running SR-RSC and analysis INFO: Epoch 85...\n"
     ]
    },
    {
     "name": "stderr",
     "output_type": "stream",
     "text": [
      "2024-03-21 17:35:23,790 SubHIN.py-44-training(): INFO\n",
      " Epoch 85...\n"
     ]
    },
    {
     "name": "stdout",
     "output_type": "stream",
     "text": [
      "2024-03-21 17:35:58,342 Running SR-RSC and analysis INFO: Epoch 85, loss 3.8049, valacc 0.0084439\n"
     ]
    },
    {
     "name": "stderr",
     "output_type": "stream",
     "text": [
      "2024-03-21 17:35:58,342 SubHIN.py-66-training(): INFO\n",
      " Epoch 85, loss 3.8049, valacc 0.0084439\n"
     ]
    },
    {
     "name": "stdout",
     "output_type": "stream",
     "text": [
      "2024-03-21 17:36:05,087 Running SR-RSC and analysis INFO: NMI=0.00674, ARI: 0.00419, f1_micro=0.76201, f1_macro=0.75823\n"
     ]
    },
    {
     "name": "stderr",
     "output_type": "stream",
     "text": [
      "2024-03-21 17:36:05,087 evaluation.py-102-evalutation(): INFO\n",
      " NMI=0.00674, ARI: 0.00419, f1_micro=0.76201, f1_macro=0.75823\n"
     ]
    },
    {
     "name": "stdout",
     "output_type": "stream",
     "text": [
      "2024-03-21 17:36:05,091 Running SR-RSC and analysis INFO: Epoch 86...\n"
     ]
    },
    {
     "name": "stderr",
     "output_type": "stream",
     "text": [
      "2024-03-21 17:36:05,091 SubHIN.py-44-training(): INFO\n",
      " Epoch 86...\n"
     ]
    },
    {
     "name": "stdout",
     "output_type": "stream",
     "text": [
      "2024-03-21 17:36:38,054 Running SR-RSC and analysis INFO: Epoch 87...\n"
     ]
    },
    {
     "name": "stderr",
     "output_type": "stream",
     "text": [
      "2024-03-21 17:36:38,054 SubHIN.py-44-training(): INFO\n",
      " Epoch 87...\n"
     ]
    },
    {
     "name": "stdout",
     "output_type": "stream",
     "text": [
      "2024-03-21 17:37:09,018 Running SR-RSC and analysis INFO: Epoch 88...\n"
     ]
    },
    {
     "name": "stderr",
     "output_type": "stream",
     "text": [
      "2024-03-21 17:37:09,018 SubHIN.py-44-training(): INFO\n",
      " Epoch 88...\n"
     ]
    },
    {
     "name": "stdout",
     "output_type": "stream",
     "text": [
      "2024-03-21 17:37:41,016 Running SR-RSC and analysis INFO: Epoch 89...\n"
     ]
    },
    {
     "name": "stderr",
     "output_type": "stream",
     "text": [
      "2024-03-21 17:37:41,016 SubHIN.py-44-training(): INFO\n",
      " Epoch 89...\n"
     ]
    },
    {
     "name": "stdout",
     "output_type": "stream",
     "text": [
      "2024-03-21 17:38:13,034 Running SR-RSC and analysis INFO: Epoch 90...\n"
     ]
    },
    {
     "name": "stderr",
     "output_type": "stream",
     "text": [
      "2024-03-21 17:38:13,034 SubHIN.py-44-training(): INFO\n",
      " Epoch 90...\n"
     ]
    },
    {
     "name": "stdout",
     "output_type": "stream",
     "text": [
      "2024-03-21 17:38:42,678 Running SR-RSC and analysis INFO: Epoch 91...\n"
     ]
    },
    {
     "name": "stderr",
     "output_type": "stream",
     "text": [
      "2024-03-21 17:38:42,678 SubHIN.py-44-training(): INFO\n",
      " Epoch 91...\n"
     ]
    },
    {
     "name": "stdout",
     "output_type": "stream",
     "text": [
      "2024-03-21 17:39:13,051 Running SR-RSC and analysis INFO: Epoch 92...\n"
     ]
    },
    {
     "name": "stderr",
     "output_type": "stream",
     "text": [
      "2024-03-21 17:39:13,051 SubHIN.py-44-training(): INFO\n",
      " Epoch 92...\n"
     ]
    },
    {
     "name": "stdout",
     "output_type": "stream",
     "text": [
      "2024-03-21 17:39:46,826 Running SR-RSC and analysis INFO: Epoch 93...\n"
     ]
    },
    {
     "name": "stderr",
     "output_type": "stream",
     "text": [
      "2024-03-21 17:39:46,826 SubHIN.py-44-training(): INFO\n",
      " Epoch 93...\n"
     ]
    },
    {
     "name": "stdout",
     "output_type": "stream",
     "text": [
      "2024-03-21 17:40:16,538 Running SR-RSC and analysis INFO: Epoch 94...\n"
     ]
    },
    {
     "name": "stderr",
     "output_type": "stream",
     "text": [
      "2024-03-21 17:40:16,538 SubHIN.py-44-training(): INFO\n",
      " Epoch 94...\n"
     ]
    },
    {
     "name": "stdout",
     "output_type": "stream",
     "text": [
      "2024-03-21 17:40:49,313 Running SR-RSC and analysis INFO: Epoch 94, loss 3.8032, valacc 0.0087569\n"
     ]
    },
    {
     "name": "stderr",
     "output_type": "stream",
     "text": [
      "2024-03-21 17:40:49,313 SubHIN.py-66-training(): INFO\n",
      " Epoch 94, loss 3.8032, valacc 0.0087569\n"
     ]
    },
    {
     "name": "stdout",
     "output_type": "stream",
     "text": [
      "2024-03-21 17:41:11,883 Running SR-RSC and analysis INFO: NMI=0.00947, ARI: 0.00717, f1_micro=0.76774, f1_macro=0.76442\n"
     ]
    },
    {
     "name": "stderr",
     "output_type": "stream",
     "text": [
      "2024-03-21 17:41:11,883 evaluation.py-102-evalutation(): INFO\n",
      " NMI=0.00947, ARI: 0.00717, f1_micro=0.76774, f1_macro=0.76442\n"
     ]
    },
    {
     "name": "stdout",
     "output_type": "stream",
     "text": [
      "2024-03-21 17:41:11,893 Running SR-RSC and analysis INFO: Epoch 95...\n"
     ]
    },
    {
     "name": "stderr",
     "output_type": "stream",
     "text": [
      "2024-03-21 17:41:11,893 SubHIN.py-44-training(): INFO\n",
      " Epoch 95...\n"
     ]
    },
    {
     "name": "stdout",
     "output_type": "stream",
     "text": [
      "2024-03-21 17:41:43,058 Running SR-RSC and analysis INFO: Epoch 96...\n"
     ]
    },
    {
     "name": "stderr",
     "output_type": "stream",
     "text": [
      "2024-03-21 17:41:43,058 SubHIN.py-44-training(): INFO\n",
      " Epoch 96...\n"
     ]
    },
    {
     "name": "stdout",
     "output_type": "stream",
     "text": [
      "2024-03-21 17:42:13,049 Running SR-RSC and analysis INFO: Epoch 97...\n"
     ]
    },
    {
     "name": "stderr",
     "output_type": "stream",
     "text": [
      "2024-03-21 17:42:13,049 SubHIN.py-44-training(): INFO\n",
      " Epoch 97...\n"
     ]
    },
    {
     "name": "stdout",
     "output_type": "stream",
     "text": [
      "2024-03-21 17:42:45,502 Running SR-RSC and analysis INFO: Epoch 98...\n"
     ]
    },
    {
     "name": "stderr",
     "output_type": "stream",
     "text": [
      "2024-03-21 17:42:45,502 SubHIN.py-44-training(): INFO\n",
      " Epoch 98...\n"
     ]
    },
    {
     "name": "stdout",
     "output_type": "stream",
     "text": [
      "2024-03-21 17:43:15,594 Running SR-RSC and analysis INFO: Epoch 99...\n"
     ]
    },
    {
     "name": "stderr",
     "output_type": "stream",
     "text": [
      "2024-03-21 17:43:15,594 SubHIN.py-44-training(): INFO\n",
      " Epoch 99...\n"
     ]
    },
    {
     "name": "stdout",
     "output_type": "stream",
     "text": [
      "2024-03-21 17:43:47,340 Running SR-RSC and analysis INFO: Epoch 100...\n"
     ]
    },
    {
     "name": "stderr",
     "output_type": "stream",
     "text": [
      "2024-03-21 17:43:47,340 SubHIN.py-44-training(): INFO\n",
      " Epoch 100...\n"
     ]
    },
    {
     "name": "stdout",
     "output_type": "stream",
     "text": [
      "2024-03-21 17:44:17,223 Running SR-RSC and analysis INFO: Epoch 101...\n"
     ]
    },
    {
     "name": "stderr",
     "output_type": "stream",
     "text": [
      "2024-03-21 17:44:17,223 SubHIN.py-44-training(): INFO\n",
      " Epoch 101...\n"
     ]
    },
    {
     "name": "stdout",
     "output_type": "stream",
     "text": [
      "2024-03-21 17:44:46,490 Running SR-RSC and analysis INFO: Epoch 101, loss 3.7911, valacc 0.0082859\n"
     ]
    },
    {
     "name": "stderr",
     "output_type": "stream",
     "text": [
      "2024-03-21 17:44:46,490 SubHIN.py-66-training(): INFO\n",
      " Epoch 101, loss 3.7911, valacc 0.0082859\n"
     ]
    },
    {
     "name": "stdout",
     "output_type": "stream",
     "text": [
      "2024-03-21 17:45:09,172 Running SR-RSC and analysis INFO: NMI=0.00714, ARI: 0.00466, f1_micro=0.75851, f1_macro=0.75421\n"
     ]
    },
    {
     "name": "stderr",
     "output_type": "stream",
     "text": [
      "2024-03-21 17:45:09,172 evaluation.py-102-evalutation(): INFO\n",
      " NMI=0.00714, ARI: 0.00466, f1_micro=0.75851, f1_macro=0.75421\n"
     ]
    },
    {
     "name": "stdout",
     "output_type": "stream",
     "text": [
      "2024-03-21 17:45:09,175 Running SR-RSC and analysis INFO: Epoch 102...\n"
     ]
    },
    {
     "name": "stderr",
     "output_type": "stream",
     "text": [
      "2024-03-21 17:45:09,175 SubHIN.py-44-training(): INFO\n",
      " Epoch 102...\n"
     ]
    },
    {
     "name": "stdout",
     "output_type": "stream",
     "text": [
      "2024-03-21 17:45:40,251 Running SR-RSC and analysis INFO: Epoch 103...\n"
     ]
    },
    {
     "name": "stderr",
     "output_type": "stream",
     "text": [
      "2024-03-21 17:45:40,251 SubHIN.py-44-training(): INFO\n",
      " Epoch 103...\n"
     ]
    },
    {
     "name": "stdout",
     "output_type": "stream",
     "text": [
      "2024-03-21 17:46:12,476 Running SR-RSC and analysis INFO: Epoch 104...\n"
     ]
    },
    {
     "name": "stderr",
     "output_type": "stream",
     "text": [
      "2024-03-21 17:46:12,476 SubHIN.py-44-training(): INFO\n",
      " Epoch 104...\n"
     ]
    },
    {
     "name": "stdout",
     "output_type": "stream",
     "text": [
      "2024-03-21 17:46:43,734 Running SR-RSC and analysis INFO: Epoch 105...\n"
     ]
    },
    {
     "name": "stderr",
     "output_type": "stream",
     "text": [
      "2024-03-21 17:46:43,734 SubHIN.py-44-training(): INFO\n",
      " Epoch 105...\n"
     ]
    },
    {
     "name": "stdout",
     "output_type": "stream",
     "text": [
      "2024-03-21 17:47:19,860 Running SR-RSC and analysis INFO: Epoch 106...\n"
     ]
    },
    {
     "name": "stderr",
     "output_type": "stream",
     "text": [
      "2024-03-21 17:47:19,860 SubHIN.py-44-training(): INFO\n",
      " Epoch 106...\n"
     ]
    },
    {
     "name": "stdout",
     "output_type": "stream",
     "text": [
      "2024-03-21 17:47:50,294 Running SR-RSC and analysis INFO: Epoch 107...\n"
     ]
    },
    {
     "name": "stderr",
     "output_type": "stream",
     "text": [
      "2024-03-21 17:47:50,294 SubHIN.py-44-training(): INFO\n",
      " Epoch 107...\n"
     ]
    },
    {
     "name": "stdout",
     "output_type": "stream",
     "text": [
      "2024-03-21 17:48:19,609 Running SR-RSC and analysis INFO: Epoch 108...\n"
     ]
    },
    {
     "name": "stderr",
     "output_type": "stream",
     "text": [
      "2024-03-21 17:48:19,609 SubHIN.py-44-training(): INFO\n",
      " Epoch 108...\n"
     ]
    },
    {
     "name": "stdout",
     "output_type": "stream",
     "text": [
      "2024-03-21 17:48:49,803 Running SR-RSC and analysis INFO: Epoch 109...\n"
     ]
    },
    {
     "name": "stderr",
     "output_type": "stream",
     "text": [
      "2024-03-21 17:48:49,803 SubHIN.py-44-training(): INFO\n",
      " Epoch 109...\n"
     ]
    },
    {
     "name": "stdout",
     "output_type": "stream",
     "text": [
      "2024-03-21 17:49:20,806 Running SR-RSC and analysis INFO: Epoch 109, loss 3.7853, valacc 0.0084353\n"
     ]
    },
    {
     "name": "stderr",
     "output_type": "stream",
     "text": [
      "2024-03-21 17:49:20,806 SubHIN.py-66-training(): INFO\n",
      " Epoch 109, loss 3.7853, valacc 0.0084353\n"
     ]
    },
    {
     "name": "stdout",
     "output_type": "stream",
     "text": [
      "2024-03-21 17:49:26,367 Running SR-RSC and analysis INFO: NMI=0.00643, ARI: 0.00393, f1_micro=0.76137, f1_macro=0.75815\n"
     ]
    },
    {
     "name": "stderr",
     "output_type": "stream",
     "text": [
      "2024-03-21 17:49:26,367 evaluation.py-102-evalutation(): INFO\n",
      " NMI=0.00643, ARI: 0.00393, f1_micro=0.76137, f1_macro=0.75815\n"
     ]
    },
    {
     "name": "stdout",
     "output_type": "stream",
     "text": [
      "2024-03-21 17:49:26,379 Running SR-RSC and analysis INFO: Epoch 110...\n"
     ]
    },
    {
     "name": "stderr",
     "output_type": "stream",
     "text": [
      "2024-03-21 17:49:26,379 SubHIN.py-44-training(): INFO\n",
      " Epoch 110...\n"
     ]
    },
    {
     "name": "stdout",
     "output_type": "stream",
     "text": [
      "2024-03-21 17:49:57,250 Running SR-RSC and analysis INFO: Epoch 111...\n"
     ]
    },
    {
     "name": "stderr",
     "output_type": "stream",
     "text": [
      "2024-03-21 17:49:57,250 SubHIN.py-44-training(): INFO\n",
      " Epoch 111...\n"
     ]
    },
    {
     "name": "stdout",
     "output_type": "stream",
     "text": [
      "2024-03-21 17:50:28,355 Running SR-RSC and analysis INFO: Epoch 112...\n"
     ]
    },
    {
     "name": "stderr",
     "output_type": "stream",
     "text": [
      "2024-03-21 17:50:28,355 SubHIN.py-44-training(): INFO\n",
      " Epoch 112...\n"
     ]
    },
    {
     "name": "stdout",
     "output_type": "stream",
     "text": [
      "2024-03-21 17:50:57,465 Running SR-RSC and analysis INFO: Epoch 113...\n"
     ]
    },
    {
     "name": "stderr",
     "output_type": "stream",
     "text": [
      "2024-03-21 17:50:57,465 SubHIN.py-44-training(): INFO\n",
      " Epoch 113...\n"
     ]
    },
    {
     "name": "stdout",
     "output_type": "stream",
     "text": [
      "2024-03-21 17:51:26,441 Running SR-RSC and analysis INFO: Epoch 114...\n"
     ]
    },
    {
     "name": "stderr",
     "output_type": "stream",
     "text": [
      "2024-03-21 17:51:26,441 SubHIN.py-44-training(): INFO\n",
      " Epoch 114...\n"
     ]
    },
    {
     "name": "stdout",
     "output_type": "stream",
     "text": [
      "2024-03-21 17:51:58,141 Running SR-RSC and analysis INFO: Epoch 115...\n"
     ]
    },
    {
     "name": "stderr",
     "output_type": "stream",
     "text": [
      "2024-03-21 17:51:58,141 SubHIN.py-44-training(): INFO\n",
      " Epoch 115...\n"
     ]
    },
    {
     "name": "stdout",
     "output_type": "stream",
     "text": [
      "2024-03-21 17:52:27,787 Running SR-RSC and analysis INFO: Epoch 116...\n"
     ]
    },
    {
     "name": "stderr",
     "output_type": "stream",
     "text": [
      "2024-03-21 17:52:27,787 SubHIN.py-44-training(): INFO\n",
      " Epoch 116...\n"
     ]
    },
    {
     "name": "stdout",
     "output_type": "stream",
     "text": [
      "2024-03-21 17:52:57,325 Running SR-RSC and analysis INFO: Epoch 117...\n"
     ]
    },
    {
     "name": "stderr",
     "output_type": "stream",
     "text": [
      "2024-03-21 17:52:57,325 SubHIN.py-44-training(): INFO\n",
      " Epoch 117...\n"
     ]
    },
    {
     "name": "stdout",
     "output_type": "stream",
     "text": [
      "2024-03-21 17:53:25,951 Running SR-RSC and analysis INFO: Epoch 118...\n"
     ]
    },
    {
     "name": "stderr",
     "output_type": "stream",
     "text": [
      "2024-03-21 17:53:25,951 SubHIN.py-44-training(): INFO\n",
      " Epoch 118...\n"
     ]
    },
    {
     "name": "stdout",
     "output_type": "stream",
     "text": [
      "2024-03-21 17:53:55,291 Running SR-RSC and analysis INFO: Epoch 119...\n"
     ]
    },
    {
     "name": "stderr",
     "output_type": "stream",
     "text": [
      "2024-03-21 17:53:55,291 SubHIN.py-44-training(): INFO\n",
      " Epoch 119...\n"
     ]
    },
    {
     "name": "stdout",
     "output_type": "stream",
     "text": [
      "2024-03-21 17:54:23,881 Running SR-RSC and analysis INFO: Epoch 120...\n"
     ]
    },
    {
     "name": "stderr",
     "output_type": "stream",
     "text": [
      "2024-03-21 17:54:23,881 SubHIN.py-44-training(): INFO\n",
      " Epoch 120...\n"
     ]
    },
    {
     "name": "stdout",
     "output_type": "stream",
     "text": [
      "2024-03-21 17:54:55,153 Running SR-RSC and analysis INFO: Epoch 121...\n"
     ]
    },
    {
     "name": "stderr",
     "output_type": "stream",
     "text": [
      "2024-03-21 17:54:55,153 SubHIN.py-44-training(): INFO\n",
      " Epoch 121...\n"
     ]
    },
    {
     "name": "stdout",
     "output_type": "stream",
     "text": [
      "2024-03-21 17:55:24,215 Running SR-RSC and analysis INFO: Epoch 122...\n"
     ]
    },
    {
     "name": "stderr",
     "output_type": "stream",
     "text": [
      "2024-03-21 17:55:24,215 SubHIN.py-44-training(): INFO\n",
      " Epoch 122...\n"
     ]
    },
    {
     "name": "stdout",
     "output_type": "stream",
     "text": [
      "2024-03-21 17:55:56,249 Running SR-RSC and analysis INFO: Epoch 123...\n"
     ]
    },
    {
     "name": "stderr",
     "output_type": "stream",
     "text": [
      "2024-03-21 17:55:56,249 SubHIN.py-44-training(): INFO\n",
      " Epoch 123...\n"
     ]
    },
    {
     "name": "stdout",
     "output_type": "stream",
     "text": [
      "2024-03-21 17:56:26,477 Running SR-RSC and analysis INFO: Epoch 124...\n"
     ]
    },
    {
     "name": "stderr",
     "output_type": "stream",
     "text": [
      "2024-03-21 17:56:26,477 SubHIN.py-44-training(): INFO\n",
      " Epoch 124...\n"
     ]
    },
    {
     "name": "stdout",
     "output_type": "stream",
     "text": [
      "2024-03-21 17:56:59,766 Running SR-RSC and analysis INFO: Epoch 125...\n"
     ]
    },
    {
     "name": "stderr",
     "output_type": "stream",
     "text": [
      "2024-03-21 17:56:59,766 SubHIN.py-44-training(): INFO\n",
      " Epoch 125...\n"
     ]
    },
    {
     "name": "stdout",
     "output_type": "stream",
     "text": [
      "2024-03-21 17:57:31,302 Running SR-RSC and analysis INFO: Epoch 126...\n"
     ]
    },
    {
     "name": "stderr",
     "output_type": "stream",
     "text": [
      "2024-03-21 17:57:31,302 SubHIN.py-44-training(): INFO\n",
      " Epoch 126...\n"
     ]
    },
    {
     "name": "stdout",
     "output_type": "stream",
     "text": [
      "2024-03-21 17:58:01,164 Running SR-RSC and analysis INFO: Epoch 127...\n"
     ]
    },
    {
     "name": "stderr",
     "output_type": "stream",
     "text": [
      "2024-03-21 17:58:01,164 SubHIN.py-44-training(): INFO\n",
      " Epoch 127...\n"
     ]
    },
    {
     "name": "stdout",
     "output_type": "stream",
     "text": [
      "2024-03-21 17:58:32,404 Running SR-RSC and analysis INFO: Epoch 128...\n"
     ]
    },
    {
     "name": "stderr",
     "output_type": "stream",
     "text": [
      "2024-03-21 17:58:32,404 SubHIN.py-44-training(): INFO\n",
      " Epoch 128...\n"
     ]
    },
    {
     "name": "stdout",
     "output_type": "stream",
     "text": [
      "2024-03-21 17:59:01,466 Running SR-RSC and analysis INFO: Epoch 129...\n"
     ]
    },
    {
     "name": "stderr",
     "output_type": "stream",
     "text": [
      "2024-03-21 17:59:01,466 SubHIN.py-44-training(): INFO\n",
      " Epoch 129...\n"
     ]
    },
    {
     "name": "stdout",
     "output_type": "stream",
     "text": [
      "2024-03-21 17:59:32,359 Running SR-RSC and analysis INFO: Epoch 130...\n"
     ]
    },
    {
     "name": "stderr",
     "output_type": "stream",
     "text": [
      "2024-03-21 17:59:32,359 SubHIN.py-44-training(): INFO\n",
      " Epoch 130...\n"
     ]
    },
    {
     "name": "stdout",
     "output_type": "stream",
     "text": [
      "2024-03-21 18:00:05,203 Running SR-RSC and analysis INFO: Epoch 131...\n"
     ]
    },
    {
     "name": "stderr",
     "output_type": "stream",
     "text": [
      "2024-03-21 18:00:05,203 SubHIN.py-44-training(): INFO\n",
      " Epoch 131...\n"
     ]
    },
    {
     "name": "stdout",
     "output_type": "stream",
     "text": [
      "2024-03-21 18:00:38,755 Running SR-RSC and analysis INFO: Epoch 132...\n"
     ]
    },
    {
     "name": "stderr",
     "output_type": "stream",
     "text": [
      "2024-03-21 18:00:38,755 SubHIN.py-44-training(): INFO\n",
      " Epoch 132...\n"
     ]
    },
    {
     "name": "stdout",
     "output_type": "stream",
     "text": [
      "2024-03-21 18:01:08,733 Running SR-RSC and analysis INFO: Epoch 132, loss 3.7763, valacc 0.007875\n"
     ]
    },
    {
     "name": "stderr",
     "output_type": "stream",
     "text": [
      "2024-03-21 18:01:08,733 SubHIN.py-66-training(): INFO\n",
      " Epoch 132, loss 3.7763, valacc 0.007875\n"
     ]
    },
    {
     "name": "stdout",
     "output_type": "stream",
     "text": [
      "2024-03-21 18:01:31,045 Running SR-RSC and analysis INFO: NMI=0.00947, ARI: 0.00743, f1_micro=0.74356, f1_macro=0.73973\n"
     ]
    },
    {
     "name": "stderr",
     "output_type": "stream",
     "text": [
      "2024-03-21 18:01:31,045 evaluation.py-102-evalutation(): INFO\n",
      " NMI=0.00947, ARI: 0.00743, f1_micro=0.74356, f1_macro=0.73973\n"
     ]
    },
    {
     "name": "stdout",
     "output_type": "stream",
     "text": [
      "2024-03-21 18:01:31,049 Running SR-RSC and analysis INFO: Epoch 133...\n"
     ]
    },
    {
     "name": "stderr",
     "output_type": "stream",
     "text": [
      "2024-03-21 18:01:31,049 SubHIN.py-44-training(): INFO\n",
      " Epoch 133...\n"
     ]
    },
    {
     "name": "stdout",
     "output_type": "stream",
     "text": [
      "2024-03-21 18:02:01,509 Running SR-RSC and analysis INFO: Epoch 134...\n"
     ]
    },
    {
     "name": "stderr",
     "output_type": "stream",
     "text": [
      "2024-03-21 18:02:01,509 SubHIN.py-44-training(): INFO\n",
      " Epoch 134...\n"
     ]
    },
    {
     "name": "stdout",
     "output_type": "stream",
     "text": [
      "2024-03-21 18:02:31,888 Running SR-RSC and analysis INFO: Epoch 135...\n"
     ]
    },
    {
     "name": "stderr",
     "output_type": "stream",
     "text": [
      "2024-03-21 18:02:31,888 SubHIN.py-44-training(): INFO\n",
      " Epoch 135...\n"
     ]
    },
    {
     "name": "stdout",
     "output_type": "stream",
     "text": [
      "2024-03-21 18:03:02,526 Running SR-RSC and analysis INFO: Epoch 136...\n"
     ]
    },
    {
     "name": "stderr",
     "output_type": "stream",
     "text": [
      "2024-03-21 18:03:02,526 SubHIN.py-44-training(): INFO\n",
      " Epoch 136...\n"
     ]
    },
    {
     "name": "stdout",
     "output_type": "stream",
     "text": [
      "2024-03-21 18:03:33,211 Running SR-RSC and analysis INFO: Epoch 137...\n"
     ]
    },
    {
     "name": "stderr",
     "output_type": "stream",
     "text": [
      "2024-03-21 18:03:33,211 SubHIN.py-44-training(): INFO\n",
      " Epoch 137...\n"
     ]
    },
    {
     "name": "stdout",
     "output_type": "stream",
     "text": [
      "2024-03-21 18:04:01,961 Running SR-RSC and analysis INFO: Epoch 138...\n"
     ]
    },
    {
     "name": "stderr",
     "output_type": "stream",
     "text": [
      "2024-03-21 18:04:01,961 SubHIN.py-44-training(): INFO\n",
      " Epoch 138...\n"
     ]
    },
    {
     "name": "stdout",
     "output_type": "stream",
     "text": [
      "2024-03-21 18:04:31,837 Running SR-RSC and analysis INFO: Epoch 139...\n"
     ]
    },
    {
     "name": "stderr",
     "output_type": "stream",
     "text": [
      "2024-03-21 18:04:31,837 SubHIN.py-44-training(): INFO\n",
      " Epoch 139...\n"
     ]
    },
    {
     "name": "stdout",
     "output_type": "stream",
     "text": [
      "2024-03-21 18:05:01,910 Running SR-RSC and analysis INFO: Epoch 140...\n"
     ]
    },
    {
     "name": "stderr",
     "output_type": "stream",
     "text": [
      "2024-03-21 18:05:01,910 SubHIN.py-44-training(): INFO\n",
      " Epoch 140...\n"
     ]
    },
    {
     "name": "stdout",
     "output_type": "stream",
     "text": [
      "2024-03-21 18:05:32,403 Running SR-RSC and analysis INFO: Epoch 141...\n"
     ]
    },
    {
     "name": "stderr",
     "output_type": "stream",
     "text": [
      "2024-03-21 18:05:32,403 SubHIN.py-44-training(): INFO\n",
      " Epoch 141...\n"
     ]
    },
    {
     "name": "stdout",
     "output_type": "stream",
     "text": [
      "2024-03-21 18:06:05,107 Running SR-RSC and analysis INFO: Epoch 142...\n"
     ]
    },
    {
     "name": "stderr",
     "output_type": "stream",
     "text": [
      "2024-03-21 18:06:05,107 SubHIN.py-44-training(): INFO\n",
      " Epoch 142...\n"
     ]
    },
    {
     "name": "stdout",
     "output_type": "stream",
     "text": [
      "2024-03-21 18:06:36,683 Running SR-RSC and analysis INFO: Epoch 143...\n"
     ]
    },
    {
     "name": "stderr",
     "output_type": "stream",
     "text": [
      "2024-03-21 18:06:36,683 SubHIN.py-44-training(): INFO\n",
      " Epoch 143...\n"
     ]
    },
    {
     "name": "stdout",
     "output_type": "stream",
     "text": [
      "2024-03-21 18:07:09,018 Running SR-RSC and analysis INFO: Epoch 144...\n"
     ]
    },
    {
     "name": "stderr",
     "output_type": "stream",
     "text": [
      "2024-03-21 18:07:09,018 SubHIN.py-44-training(): INFO\n",
      " Epoch 144...\n"
     ]
    },
    {
     "name": "stdout",
     "output_type": "stream",
     "text": [
      "2024-03-21 18:07:39,330 Running SR-RSC and analysis INFO: Epoch 145...\n"
     ]
    },
    {
     "name": "stderr",
     "output_type": "stream",
     "text": [
      "2024-03-21 18:07:39,330 SubHIN.py-44-training(): INFO\n",
      " Epoch 145...\n"
     ]
    },
    {
     "name": "stdout",
     "output_type": "stream",
     "text": [
      "2024-03-21 18:08:11,344 Running SR-RSC and analysis INFO: Epoch 146...\n"
     ]
    },
    {
     "name": "stderr",
     "output_type": "stream",
     "text": [
      "2024-03-21 18:08:11,344 SubHIN.py-44-training(): INFO\n",
      " Epoch 146...\n"
     ]
    },
    {
     "name": "stdout",
     "output_type": "stream",
     "text": [
      "2024-03-21 18:08:42,315 Running SR-RSC and analysis INFO: Epoch 147...\n"
     ]
    },
    {
     "name": "stderr",
     "output_type": "stream",
     "text": [
      "2024-03-21 18:08:42,315 SubHIN.py-44-training(): INFO\n",
      " Epoch 147...\n"
     ]
    },
    {
     "name": "stdout",
     "output_type": "stream",
     "text": [
      "2024-03-21 18:09:13,388 Running SR-RSC and analysis INFO: Epoch 148...\n"
     ]
    },
    {
     "name": "stderr",
     "output_type": "stream",
     "text": [
      "2024-03-21 18:09:13,388 SubHIN.py-44-training(): INFO\n",
      " Epoch 148...\n"
     ]
    },
    {
     "name": "stdout",
     "output_type": "stream",
     "text": [
      "2024-03-21 18:09:45,745 Running SR-RSC and analysis INFO: Epoch 149...\n"
     ]
    },
    {
     "name": "stderr",
     "output_type": "stream",
     "text": [
      "2024-03-21 18:09:45,745 SubHIN.py-44-training(): INFO\n",
      " Epoch 149...\n"
     ]
    },
    {
     "name": "stdout",
     "output_type": "stream",
     "text": [
      "time (s):6835.16\n",
      "Analysis of BrainAlign embeddings...\n",
      "(62854, 128)\n",
      "28499\n",
      "21919\n",
      "{'features': (array([[0., 0., 0., ..., 0., 0., 0.],\n",
      "       [0., 0., 0., ..., 0., 0., 0.],\n",
      "       [0., 0., 0., ..., 0., 0., 0.],\n",
      "       ...,\n",
      "       [0., 0., 0., ..., 0., 0., 0.],\n",
      "       [0., 0., 0., ..., 0., 0., 0.],\n",
      "       [0., 0., 0., ..., 0., 0., 0.]], dtype=float32), matrix([[0.28213629, 0.        , 0.        , ..., 0.23256858, 0.        ,\n",
      "         0.35627168],\n",
      "        [0.11305946, 0.        , 0.        , ..., 0.11305946, 0.        ,\n",
      "         0.21714802],\n",
      "        [0.32990104, 0.11277127, 0.        , ..., 0.24251778, 0.        ,\n",
      "         0.26629215],\n",
      "        ...,\n",
      "        [0.        , 0.        , 0.        , ..., 0.        , 0.        ,\n",
      "         0.        ],\n",
      "        [0.        , 0.        , 0.        , ..., 0.        , 0.        ,\n",
      "         0.        ],\n",
      "        [0.        , 0.        , 0.        , ..., 0.        , 0.        ,\n",
      "         0.        ]])), 'ov_adjs': (<28499x6256 sparse matrix of type '<class 'numpy.float32'>'\n",
      "\twith 9191088 stored elements in Compressed Sparse Row format>, <21919x6180 sparse matrix of type '<class 'numpy.float32'>'\n",
      "\twith 4518482 stored elements in Compressed Sparse Row format>), 'vv_adj': <12436x12436 sparse matrix of type '<class 'numpy.int64'>'\n",
      "\twith 10158 stored elements in Compressed Sparse Row format>, 'oo_adjs': <50418x50418 sparse matrix of type '<class 'numpy.float32'>'\n",
      "\twith 346132 stored elements in COOrdinate format>, 'varnames_feat':      Macaque   Mouse\n",
      "0       AAK1    Aak1\n",
      "1       ABAT    Abat\n",
      "2      ABCA1   Abca1\n",
      "3      ABCA2   Abca2\n",
      "4      ABCC4   Abcc4\n",
      "...      ...     ...\n",
      "1731  ZNF536  Zfp536\n",
      "1732  ZNF609  Zfp609\n",
      "1733  ZNF706  Zfp706\n",
      "1734   ZNRF3   Znrf3\n",
      "1735   ZWINT   Zwint\n",
      "\n",
      "[1736 rows x 2 columns], 'varnames_node': (['TTC39B', 'ZNF665', 'FLT3LG', 'GLT8D2', 'LACTB', 'CBS', 'EFNA1', 'NIP7', 'CDK9', 'SIAH1', 'ICAM4', 'ATP6V0A4', 'GNL3', 'SCARNA2', 'SLMAP', 'PAXX', 'snoU89', 'CEACAM7', 'TMEM136', 'PAPPA', 'EBAG9', 'SNCA', 'KRT10', 'INTS12', 'CAMKK2', 'CDC42SE1', 'CHD3', 'EVI2A', 'SLC15A2', 'RHOT1', 'APBB1', 'ARHGEF16', 'TOM1L1', 'HAPLN4', 'BMPR1A', 'EPHA8', 'GNA11', 'CEPT1', 'BIRC2', 'COMP', 'ANXA5', 'ETFB', 'JUNB', 'ITGB2', 'NIPBL', 'PCGF6', 'ARAF', 'CYP4F8', 'MSL1', 'SERPINA9', 'ISCA1', 'AGFG1', 'ZNF625', 'FAXDC2', 'CHGB', 'SEMA3G', 'TRPV2', 'RBM38', 'SYT1', 'ANKS3', 'PRRX1', 'ADCY8', 'ABI2', 'COL6A1', 'CCS', 'CALCR', 'GNG2', 'FAM155B', 'WNT2B', 'ECSIT', 'PPP1R12C', 'NOS2', 'TAGLN3', 'TCN2', 'CHCHD7', 'GLIS2', 'MYO5C', 'ADRB1', 'BANF2', 'NPY', 'EHD3', 'RNF111', 'LEPROT', 'SUSD6', 'CEP290', 'ND4', 'CCDC159', 'MAFA-F', 'PDLIM3', 'NFE2L3', 'FANCC', 'FYB1', 'CELF1', 'MIS18A', 'MRPS18C', 'IL18', 'IFT140', 'MTX1', 'POLG2', 'ATF3', 'VIPAS39', 'SGSM2', 'RBFOX1', 'FIBP', 'ZNF34', 'DDX54', 'TFAP2A', 'DUSP10', 'C8orf46', 'ABHD17B', 'CD300LF', 'SLC25A24', 'CEP350', 'ZBTB38', 'FADS3', 'UBAP2', 'MON1B', 'ENPP5', 'FAM13B', 'LAMB1', 'SERP2', 'PRDX2', 'EFHB', 'TNPO3', 'HK3', 'LIN7B', 'TRPM8', 'HRASLS2', 'SHARPIN', 'SNRK', 'ZEB1', 'SPAG1', 'TTYH2', 'ZBTB7A', 'SMIM2', 'FLNB', 'GPR153', 'RGS8', 'NIPA1', 'PTGS2', 'PEX5L', 'WAC', 'SRSF6', 'RPS6KB1', 'SOX2OT_exon3', 'SALL3', 'TRPV3', 'H2AFJ', 'PDE1B', 'DNAJC7', 'MCMDC2', 'TNFRSF1A', 'PRKAB1', 'PRR5', 'FAM24A', 'NIT2', 'PSMB2', 'RNF168', 'CTNNA2', 'ALDH9A1', 'ND4L', 'NEURL4', 'OAS3', 'KLHDC9', 'UNK', 'CR1', 'CAD', 'PLD5', 'SASH1', 'EIF3K', 'LITAF', 'CDK5RAP1', 'PHKA1', 'TROVE2', 'PHF20', 'KRAS', 'FAM171B', 'LCT', 'VCP', 'KCNK7', 'SUB1', 'CFD', 'SDC1', 'APOBEC2', 'PNPLA2', 'ENTPD4', 'MAK16', 'PPP2CA', 'NEURL1', 'FAM159B', 'DOC2A', 'SHISA4', 'ZNF804B', 'SMARCAD1', 'SLC7A2', 'KIAA2012', 'FAM69C', 'C11orf16', 'RNF139', 'CCL27', 'COL9A2', 'RPL26', 'HIPK3', 'ICAM3', 'BTG1', 'GBP3', 'CROT', 'MAML2', 'RNF166', 'RAP1GAP2', 'R3HDM4', 'CHST1', 'ZNF609', 'MEGF8', 'PYCR3', 'SHKBP1', 'PROSER3', 'STOML3', 'GABRE', 'TMEM56', 'COX15', 'IMPA2', 'CISD2', 'ADAM18', 'AMELX', 'AGMO', 'SMARCD3', 'METTL21C', 'WDYHV1', 'CLK3', 'IFI35', 'PRKCE', 'LCAT', 'MEGF6', 'TRIP4', 'FAM104B', 'RIPK2', 'GFAP', 'ACBD5', 'PUS3', 'PLXNB1', 'EVI5L', 'GPR3', 'SNAP91', 'PYGB', 'EIF3I', 'TANGO2', 'KREMEN1', 'RIMBP2', 'PDIA3', 'OSBP2', 'ACTN3', 'RFC3', 'HMGCLL1', 'NR4A1', 'FIZ1', 'KANK3', 'MMP14', 'PTPRM', 'POU6F1', 'SLC27A3', 'RANBP9', 'ALX4', 'PGM2L1', 'LRSAM1', 'FNDC7', 'SNU13', 'HIP1', 'APH1B', 'GLB1L', 'MYNN', 'PEX7', 'RFX4', 'CENPJ', 'EXOSC5', 'SRP68', 'CYHR1', 'MSX2', 'KBTBD4', 'DHX57', 'GAP43', 'POLD4', 'NUDT3', 'CWC22', 'ITGA2', 'NLRC5', 'SOX2OT_exon4', 'TMEM176A', 'MEGF11', 'EPC1', 'MAX', 'LRRC17', 'OSBPL7', 'TGFBR1', 'ZSCAN26', 'MLH1', 'CLNK', 'NOS1AP', 'RSBN1L', 'MGST2', 'KIFC3', 'GPR107', 'ST6GALNAC6', 'INTS1', 'SETD7', 'NCOA1', 'PKIG', 'HLA-DOA', 'BZW2', 'CHID1', 'CREM', 'ARC', 'VEGFB', 'ZADH2', 'XRCC1', 'MEMO1', 'SNX5', 'CADM4', 'FYCO1', 'ARHGEF28', 'VSIG10L2', 'MAPK6', 'LTBP3', 'SNX21', 'GPN3', 'NCOA6', 'NIPA2', 'USP42', 'GALNT15', 'JPT2', 'WDR60', 'ZDHHC17', 'AGTRAP', 'CSK', 'USP6NL', 'MFAP3', 'SLC25A29', 'IQGAP2', 'TBC1D15', 'POLE3', 'PSKH1', 'UBE2O', 'COL6A3', 'SYNE3', 'ZNHIT6', 'PMP22', 'KHNYN', 'PRSS57', 'TXNDC15', 'ATP5G3', 'NINJ1', 'CEP68', 'NUS1', 'CEP126', 'CDH3', 'TRIM11', 'RGS17', 'SAG', 'FKBP3', 'CPEB2', 'COBL', 'ATP13A1', 'AGL', 'PDE12', 'MXD3', 'FCRL3', 'STK40', 'PPP1R16B', 'ENGASE', 'IER3', 'PMEPA1', 'WIPI2', 'DNAJC11', 'KATNBL1', 'LHX5', 'CACNG2', 'RBM43', 'ADHFE1', 'FAN1', 'LAMB2', 'TAGLN', 'SHF', 'NPC2', 'POLQ', 'ADGRL2', 'FLT3', 'P4HTM', 'SBF1', 'MARK2', 'RASGRF2', 'LSR', 'ETV3L', 'SEMA7A', 'PHF11', 'GLT8D1', 'SSR4', 'DAND5', 'BRD3', 'C17orf100', 'PTER', 'PRICKLE2', 'PDSS2', 'SUPT4H1', 'BEX3', 'KDELR2', 'SLC1A3', 'UQCRB', 'GRIN2A', 'ZNF292', 'TMEM26', 'UPF1', 'ITGB1', 'FAM83C', 'TBC1D5', 'PLEKHB1', 'NFATC1', 'BCCIP', 'NR2C2AP', 'SLC7A14', 'TENM3', 'FRS2', 'ATP1B1', 'NMB', 'TMEM54', 'TMEM204', 'FAM193B', 'KRT40', 'CHD8', 'DNAH11', 'RGS4', 'SELENOS', 'MAPK9', 'UBE2V2', 'PDGFD', 'TULP4', 'RPS19', 'GALNT14', 'CAVIN4', 'RAP1B', 'MEI4', 'SPPL2A', 'TIMM17B', 'DPP10', 'EDC3', 'CDC34', 'TWIST1', 'FZD6', 'CAPN9', 'FEM1B', 'CCDC106', 'AAMP', 'ADCY1', 'VTA1', 'LRRC24', 'VSTM2L', 'MED9', 'VARS2', 'NDUFAF4', 'SYNDIG1L', 'NADK', 'RNF26', 'MAP1S', 'SFR1', 'TMEM99', 'RAB31', 'TP53I13', 'ACVR1B', 'PLCL1', 'LCA5L', 'SEC24A', 'ND5', 'PUSL1', 'COA5', 'MRPS11', 'ZFP36', 'PLCD3', 'DNAJC28', 'APBA3', 'IGSF23', 'DHRS11', 'SRGN', 'PFDN2', 'RFC5', 'ING5', 'NDUFA1', 'ZNF160', 'SAAL1', 'MYH14', 'CGREF1', 'DTX4', 'ARL8A', 'FSD1', 'ABHD10', 'GSTCD', 'LONP1', 'SESN1', 'XYLT1', 'INTS2', 'ZC3H7A', 'ATRN', 'SOAT1', 'ATG2A', 'SYNE1', 'DNAJC19', 'RHBDF2', 'FGL2', 'GRP', 'GALNT5', 'HIPK1', 'PRF1', 'CHST9', 'MKL2', 'ADGRA1', 'GRXCR1', 'FAM167A', 'HIST1H1E', 'ATP6V1G2', 'PREP', 'ZDHHC18', 'CHN1', 'CCR5', 'HCFC1', 'TRIM22', 'USP34', 'SSFA2', 'PQBP1', 'DISC1', 'IMMP2L', 'FSTL5', 'FAM111A', 'GALC', 'ZNF682', 'MXI1', 'HSF4', 'PDCD2L', 'OSGIN1', 'CDV3', 'SLC5A11', 'BTG2', 'RSPO1', 'TNFAIP3', 'SPSB3', 'COPS7B', 'FHDC1', 'SYNPR', 'PDE1A', 'IFT172', 'RASGRP1', 'SLC25A14', 'PTPRT', 'TMEM8B', 'CDKN2B', 'KATNA1', 'FILIP1L', 'LMTK2', 'MZT1', 'PSMD13', 'GIGYF2', 'ADCY5', 'CCDC12', 'DPPA4', 'REV3L', 'ZNF143', 'ALDH1A1', 'ALG3', 'ALYREF', 'CLEC5A', 'FKBP10', 'PDCD10', 'P2RY1', 'FAM131A', 'TTPAL', 'CLUL1', 'NPTX1', 'BAG3', 'BMP7', 'REV1', 'SPCS2', 'WAS', 'DDX55', 'CNOT2', 'ERICH1', 'LMAN2', 'PTGDS', 'TMTC2', 'FUS', 'GPR155', 'RTN4IP1', 'EZR', 'HIBADH', 'EPX', 'HBP1', 'MIEN1', 'CPNE2', 'GYPC', 'SIM1', 'KCNH5', 'AMZ1', 'NTS', 'EEF1B2', 'SENP8', 'HBEGF', 'TRAF3IP2', 'SNAPC2', 'RNF4', 'TBRG4', 'STARD8', 'GLI4', 'SUPT16H', 'CYTH1', 'LIMK2', 'TADA2B', 'NR4A2', 'CNNM2', 'DUOX1', 'AXL', 'SLC15A1', 'SEC61A1', 'CCDC192', 'POLA1', 'SLC6A1', 'PSTPIP1', 'PGBD5', 'DGKQ', 'ZNF551', 'FFAR4', 'CFL1', 'HAVCR2', 'SEC16A', 'STX16', 'PTPN12', 'ZNF277', 'SEC31A', 'TEX48', 'KALRN', 'ECI1', 'NINJ2', 'HARS2', 'CYFIP2', 'ZFAND1', 'CD164', 'ANKRD62', 'ZNF219', 'FKBP9', 'ZNF397', 'DDX51', 'MSANTD1', 'UPK3A', 'CDO1', 'ACTL7B', 'PMVK', 'PHF3', 'UMPS', 'SEMA4G', 'SLC5A7', 'ITIH5', 'TTC28-AS1_4', 'LRP4', 'OPA3', 'STOM', 'FKBP15', 'PCYOX1', 'UCKL1', 'TMX4', 'RRP12', 'SETD1B', 'FANCE', 'GCAT', 'PLD4', 'DYNLRB1', 'CBX2', 'KCNT1', 'RB1CC1', 'SLC43A2', 'CDCA7L', 'GDPD5', 'DEGS2', 'MEPCE', 'ZMYM2', 'DOCK9', 'SLC39A7', 'AURKC', 'RAC2', 'RRBP1', 'SYN2', 'SYNE4', 'TJP1', 'SCN3A', 'THAP5', 'MARF1', 'C4H6orf201', 'TRAPPC1', 'SPARC', 'MLX', 'UBN1', 'LDB2', 'WDR4', 'ELOVL7', 'C5orf49', 'ERICH6', 'GPHA2', 'FAM193A', 'NDRG3', 'BMP2K', 'MAD1L1', 'SCN8A', 'CCNK', 'ABCB10', 'DDR1', 'PRELID1', 'CRTAP', 'ALKBH4', 'STK10', 'TMEM64', 'PPME1', 'NCBP2-AS2', 'INSIG2', 'COX6A1', 'HPCAL1', 'ESR2', 'ARHGEF2', 'CYP1B1', 'SPIN1', 'STXBP6', 'CDH19', 'SLC7A7', 'CCNJ', 'KLHL26', 'LRPPRC', 'AGPAT1', 'CNBD2', 'PCP4', 'SLC22A18', 'MGAT4B', 'PPP2R1B', 'NPAS3', 'DOCK6', 'BAG4', 'KIAA1671', 'NAMPT', 'ABLIM3', 'PDZD11', 'DAG1', 'PIAS2', 'TMEM43', 'ANKRD1', 'SNX1', 'S100B', 'RPL26L1', 'ADGRB1', 'CD52', 'AFF1', 'TYROBP', 'TAAR2', 'GJB6', 'HDAC1', 'CLCN3', 'BECN1', 'PUF60', 'PRRC1', 'MVK', 'XRCC2', 'ENDOU', 'TUBB3', 'FTL', 'SRI', 'TM9SF3', 'PHYHIPL', 'RPS6KL1', 'TMEM63A', 'DCDC2C', 'GBX1', 'OMG', 'RSPO2', 'PDLIM4', 'ZFP36L1', 'MTDH', 'CYP46A1', 'POLR2D', 'IGDCC4', 'B3GNT7', 'CYP21A2', 'PRTFDC1', 'CDC16', 'CBLL1', 'GPATCH11', 'MYDGF', 'ZNF473', 'MICAL3', 'BEND5', 'BMP6', 'CGNL1', 'NQO1', 'COX19', 'LRRC55', 'ZNF155', 'ZNF408', 'IRF9', 'SMU1', 'MSRA', 'CERS5', 'ARHGDIG', 'SMIM14', 'DPP7', 'CTTNBP2NL', 'LRIF1', 'POLR3A', 'HDAC10', 'FAM120C', 'FAXC', 'NCAM2', 'GDF9', 'TNFRSF21', 'RASD2', 'ID3', 'TRAPPC6B', 'BHLHE22', 'DOLK', 'FAM216A', 'MRPL24', 'LGSN', 'HEXB', 'AGAP2', 'PDZD4', 'PTGIS', 'ATXN2', 'INO80', 'ZNF333', 'LRRC73', 'NIF3L1', 'CTSD', 'MCPH1', 'AUTS2', 'MPZL2', 'HTRA4', 'ACAP3', 'TRPM1', 'PQLC3', 'IDH3B', 'CMTR1', 'SLC6A15', 'SERINC1', 'E2F1', 'LTC4S', 'ATP6V0D1', 'CKLF', 'TCF7L2', 'PSME2', 'KIAA0355', 'ABI1', 'CDCA3', 'CYP4F12', 'TM9SF4', 'EVA1B', 'RND1', 'RRS1', 'DNAL4', 'CYTB', 'ENO1', 'EFHD2', 'PRIMA1', 'AMOTL1', 'RNF169', 'MYO9A', 'HAUS2', 'AKAP2', 'COL4A3BP', 'NID2', 'DZIP1', 'MBD3', 'POLR2F', 'MYO10', 'OPALIN', 'ATP5G2', 'WIPF2', 'LMO4', 'DSP', 'BRAT1', 'PPFIA1', 'MORN4', 'IER2', 'POLRMT', 'NUP205', 'COX10', 'IDUA', 'MROH1', 'TMEM238', 'SLC13A4', 'AKR1E2', 'DYNLL1', 'LDAH', 'WASF2', 'PRSS8', 'SLC52A2', 'TNS3', 'RAG1', 'PHTF2', 'ISLR2', 'ATP11A', 'OSGIN2', 'ARMC7', 'SNRPB2', 'MX2', 'RPL27A', 'ZBTB12', 'RAB3A', 'BEX2', 'CNDP1', 'SPEG', 'TAGAP', 'SKIV2L2', 'NPRL3', 'SOX18', 'XIRP2', 'LRRC2', 'CCDC174', 'OTUB1', 'NR2F6', 'MPP4', 'ZNF513', 'EIF6', 'SLC5A1', 'RSF1', 'CD1D', 'PIGR', 'ITPKA', 'DNLZ', 'COMMD9', 'MLPH', 'CDS2', 'CLIP4', 'TESC', 'BCAN', 'LAPTM5', 'NADK2', 'TRIM26', 'RASSF8', 'SCCPDH', 'MAP4K5', 'NEFL', 'CENPS-CORT', 'HEPH', 'NDUFAF5', 'TCF7', 'IL6', 'OCIAD1', 'BCL2L1', 'NUP210L', 'EGFL6', 'ZNF496', 'GATB', 'CD3EAP', 'CLEC12A', 'MID2', 'IGFLR1', 'GALNT12', 'RPS8', 'KAT2B', 'LYSMD2', 'KYNU', 'ATP2A2', 'UBE2M', 'PON2', 'CD53', 'PPP1R18', 'APCDD1L', 'ZNF878', 'POLR2B', 'GNB5', 'EML1', 'KIF2C', 'EIF2AK2', 'MORC3', 'MED16', 'ZNF862', 'TCEAL4', 'KCNV1', 'DOCK5', 'SFI1', 'SUCO', 'FAM83E', 'NECAP1', 'ALS2', 'BMPR1B', 'FBLN5', 'SLCO2B1', 'SRM', 'KCNC2', 'TERF2', 'HCN3', 'ATP5B', 'TYSND1', 'RAP2C', 'IFNAR1', 'ROCK1', 'SLC20A2', 'NASP', 'PBRM1', 'ERP27', 'RAPGEF3', 'HSF2BP', 'MACROD1', 'SORCS1', 'PGGT1B', 'GPD1', 'NEFM', 'SLC38A11', 'CHD7', 'CAMK2B', 'APOM', 'TRPT1', 'MAP3K20', 'DNAJC1', 'PPP4R4', 'COX2', 'DCAF5', 'WIPF1', 'WASL', 'SAT1', 'ETF1', 'SH3D21', 'ITGA9', 'ASXL1', 'SDCCAG3', 'SRSF8', 'SIDT2', 'NUP160', 'STAU1', 'NECAB3', 'CALM2', 'WRN', 'MXRA8', 'BTD', 'JAK2', 'ZMYM1', 'VCAN', 'MTHFD2', 'FOXC1', 'PIK3R4', 'LPL', 'FOXO3', 'APOE', 'DENND2A', 'FAM205C', 'NKX6-1', 'THEM6', 'ZNF26', 'RSRC2', 'SMIM1', 'MYCBP2', 'CCDC183', 'MAMLD1', 'CECR2', 'EDEM2', 'AIDA', 'NMI', 'UNC93B1', 'KIF1A', 'TECPR1', 'PRKAR2A', 'RPL22', 'AKT3', 'AHCYL1', 'DNTT', 'PPP3CC', 'SLC4A3', 'GPC3', 'AP1G1', 'GAB2', 'SMOC1', 'EIF4ENIF1', 'GRIA2', 'ZNF441', 'PCLO', 'SMOX', 'RNF144B', 'FAM221B', 'ECHDC2', 'RTTN', 'MTIF3', 'WASF3', 'RBCK1', 'EPS8L1', 'CHORDC1', 'BTF3L4', 'POMT2', 'HESX1', 'CLU', 'WNT5A', 'KLHL8', 'SHE', 'MCM4', 'MSX1', 'NT5C', 'PES1', 'WNT11', 'GPRC5B', 'KIF22', 'PARP11', 'TNFRSF10B', 'ZIC2', 'E4F1', 'GPBP1', 'APPL2', 'BTBD11', 'YLPM1', 'SIPA1L3', 'OMD', 'USP8', 'S100A10', 'DSTN', 'USP53', 'LDLRAD3', 'KLKB1', 'KIAA1324L', 'SPSB2', 'COL18A1', 'PCOLCE', 'GOLGA1', 'WDR36', 'RIPK1', 'PGRMC2', 'DPF3', 'HIGD1B', 'NLRP6', 'GNG5', 'SLC30A5', 'SERTAD3', 'SLC16A4', 'RAB40C', 'TUNAR', 'IFNGR1', 'MAFB', 'HLA-DMA', 'SLC25A4', 'RAB11FIP3', 'GINS1', 'CNPPD1', 'BEST2', 'SLC45A3', 'HEY2', 'TTC28', 'CAPN10', 'REXO1', 'MT1X', 'OPN1LW', 'RORA', 'ZIC4', 'IGFBP6', 'SLC43A3', 'MDS2', 'CTPS2', 'SLCO1A2', 'EXOSC8', 'PUM2', 'CUTA', 'WRAP53', 'GALM', 'MFNG', 'MTRR', 'METTL9', 'FCER1G', 'GINS4', 'PSMC5', 'NDUFAF2', 'CARHSP1', 'COX7C', 'NEK7', 'SLC38A2', 'TREML1', 'PTH1R', 'ITGB3BP', 'ZDHHC4', 'FAM181A', 'ASCL1', 'INTS4', 'SAMD4B', 'WDR86', 'SLC25A26', 'PMPCA', 'AAMDC', 'PARP15', 'PMFBP1', 'DVL2', 'FAM210B', 'KMT2D', 'SLC25A11', 'TBC1D21', 'CAPRIN1', 'EIF2S1', 'TRMT10A', 'PNPLA5', 'CAAP1', 'PPDPF', 'ARMC6', 'RAB34', 'CREB5', 'CCDC86', 'PTGER1', 'AJUBA', 'TTLL13P', 'GLCCI1', 'MYADM', 'C1QC', 'TMEM126B', 'NEK9', 'SLC9A3R2', 'GPR37', 'TGIF1', 'ETFDH', 'ITM2B', 'STX1A', 'P2RY13', 'HSPB1', 'RAF1', 'TESPA1', 'SSPN', 'KLHL1', 'MAG', 'BAZ2A', 'FABP4', 'ENO2', 'ST3GAL4', 'TSPAN3', 'CD44', 'AKT1', 'ACSS1', 'GABRR3', 'CAGE1', 'XPO5', 'RSPH9', 'UMODL1', 'COQ10A', 'SH3GL2', 'JARID2', 'PPP2CB', 'EVC', 'TMCC1', 'TSPAN4', 'UROS', 'NR1D1', 'UBXN2A', 'PLA2R1', 'GKAP1', 'MIC13', 'PKP4', 'DRAM1', 'CYB5B', 'PALB2', 'JMY', 'CYSTM1', 'TRPC1', 'CREBRF', 'SPRTN', 'RPL41', 'EFEMP2', 'SLC12A6', 'MRPL22', 'OAF', 'POLR3B', 'UACA', 'GDA', 'VPS72', 'HEATR1', 'SELENOI', 'RAPH1', 'GRIA4', 'ATG4B', 'MYBPC1', 'FAM57A', 'S100A14', 'NIPSNAP1', 'SIRT3', 'NCALD', 'TBC1D4', 'FBP2', 'ACAD9', 'LRRC8A', 'DNAJC12', 'MRPS34', 'ARRB2', 'TEAD1', 'TRPS1', 'TMEM39B', 'VSNL1', 'VPS53', 'TIMP2', 'TNIP2', 'FNIP2', 'AHSA1', 'FECH', 'GFPT1', 'NAGA', 'KIN', 'CLTCL1', 'ASPH', 'RPN1', 'DNPEP', 'ARHGEF37', 'ARRB1', 'LPCAT3', 'SRP14', 'LRRC31', 'ZNF398', 'PSMB5', 'STAT3', 'SLC25A42', 'SPRYD3', 'RAI1', 'TMCC3', 'PCBD2', 'STK11IP', 'OGN', 'MKL1', 'RRP36', 'ADCY3', 'CORO6', 'CLIC2', 'SLC25A51', 'HCFC2', 'TMEM147', 'TMEM184C', 'NFIA', 'SGSH', 'NAGLU', 'HDAC4', 'ANKRD9', 'RAI14', 'GSN', 'FDFT1', 'PSMD12', 'CBX1', 'NBEA', 'TVP23A', 'IL1RAPL2', 'PRCP', 'SEC31B', 'PLAC8', 'SLC35F2', 'UPK2', 'SOWAHA', 'GSTM5', 'REXO5', 'ANAPC13', 'TMEM62', 'CCDC120', 'ZNF514', 'CYBB', 'PTP4A2', 'CINP', 'TCEAL9', 'NOTCH2', 'RER1', 'REC114', 'KLC4', 'GOLGB1', 'TGIF2', 'HIF1A', 'SERPINH1', 'MPEG1', 'FGF22', 'GPX1', 'ZNF438', 'VPS37C', 'QPCTL', 'DLX1', 'NET1', 'SAP130', 'ZSWIM4', 'TMEM65', 'MINOS1', 'BLZF1', 'CUL7', 'SMYD3', 'MSH2', 'HK1', 'AFF2', 'ITIH1', 'PDILT', 'CLDND1', 'ARFGAP1', 'UBALD1', 'FAM124A', 'SEMA3A', 'PCID2', 'RRM2', 'PIPOX', 'ADAMTS10', 'ALG2', 'TARS', 'OCEL1', 'ATXN7L1', 'WDR27', 'DLG5', 'PPP1R12B', 'GATA2', 'COPS2', 'LHFPL6', 'DEAF1', 'POFUT2', 'CPB2', 'TMOD1', 'KIF3C', 'ALDH5A1', 'LETM1', 'EPHA4', 'ZNF236', 'CYTH3', 'SSTR1', 'RPLP0', 'NDUFA2', 'CELA1', 'GABRA4', 'LYPD2', 'PHKG2', 'CA10', 'MCU', 'RIC8B', 'PDIA6', 'SEC23B', 'MRPS7', 'DGAT1', 'CRYBB1', 'GORASP1', 'UPP2', 'ATF4', 'TMEM95', 'SRSF9', 'HMGB1', 'NAT1', 'KCNMB4', 'CUL9', 'CALB2', 'NUB1', 'BEAN1', 'SOX13', 'SSBP2', 'ATAD5', 'ADAR', 'DNAJC21', 'SERTM1', 'SENP2', 'TET3', 'FYN', 'ERBB2', 'UBB', 'GPR18', 'FABP7', 'VAT1', 'BGN', 'FBXO2', 'ATP6V1C1', 'SNAPIN', 'ST3GAL1', 'BCAS1', 'ZNF829', 'IGSF21', 'RFNG', 'SLC35D2', 'DES', 'XPO7', 'ESRRA', 'CGN', 'IRF3', 'CDAN1', 'ADAMTS5', 'PEX14', 'OSTM1', 'ANXA1', 'TMEM143', 'SLC35E4', 'MFAP1', 'PHLPP2', 'GRN', 'HK2', 'HNRNPC', 'FAM78A', 'PPP1R3C', 'ATP5I', 'NGDN', 'TRIM9', 'MAP9', 'MTHFD1L', 'TPK1', 'PI4KB', 'GAB3', 'UNC13C', 'EPHA2', 'PCSK1N', 'PCBP2', 'RPL7', 'SAMD9', 'CNOT8', 'TTC12', 'TTLL12', 'PARP3', 'CLMN', 'UFM1', 'TMEM156', 'LGR4', 'CLIP3', 'HFM1', 'ARHGAP4', 'EVL', 'ZC4H2', 'SCAMP2', 'WFDC2', 'RNF220', 'GAL3ST1', 'NFATC2IP', 'DESI1', 'DYNLRB2', 'AFTPH', 'BICC1', 'ATP10D', 'KATNB1', 'ROGDI', 'PPIC', 'CD27', 'EZH2', 'TIAL1', 'SPATA3', 'SAMM50', 'ENKD1', 'AMN1', 'TIMP1', 'PDCD2', 'QRICH2', 'RASA2', 'OLAH', 'EIF4A1', 'MMAB', 'PLEKHG1', 'NDUFA11', 'C1orf123', 'UBA5', 'EXOSC3', 'PRELP', 'TARBP1', 'IL17RD', 'TMEM127', 'PPARGC1A', 'NPPA', 'DOCK11', 'WDR70', 'C1QL2', 'PLD6', 'BMPR2', 'IQUB', 'RAB3IL1', 'ATF5', 'ADGRG2', 'LPCAT2', 'C1QTNF1', 'MANEA', 'RP2', 'FBXO9', 'PWWP2A', 'GID8', 'EDN1', 'MED6', 'FAM92A', 'RAMP2', 'ARHGEF6', 'TSC22D1', 'MALSU1', 'SIN3B', 'ZBTB17', 'FBF1', 'SLC35A1', 'TMED9', 'ARL10', 'OSBPL2', 'PTGS1', 'CYYR1', 'GK5', 'ATP2B2', 'ARL6IP5', 'SNX29', 'PIEZO1', 'TNS1', 'TMEM222', 'ARRDC3', 'TRAF3IP3', 'SETMAR', 'SLC17A7', 'MCM5', 'MRPL4', 'TMEM45B', 'TMEM117', 'PSD2', 'LENG1', 'MPV17', 'PKN1', 'EPAS1', 'TCF7L1', 'C1QTNF4', 'LRRC58', 'SFTPC', 'CCT7', 'AOX1', 'OPRL1', 'LSM10', 'SEMA3B', 'MAPK1', 'GGPS1', 'FAM174A', 'POMC', 'PERP', 'GRM1', 'TUBA1C', 'RDH10', 'SLC35G1', 'FAM149B1', 'MEIS2', 'HELZ', 'AUP1', 'GALNT9', 'ZKSCAN5', 'SLC8A3', 'CPT1C', 'PDPN', 'MED13L', 'CRYBA1', 'ANO1', 'LAMA1', 'TST', 'GTSF1', 'SPIDR', 'IL15', 'LAMP2', 'CHD1L', 'SAR1A', 'CA1', 'SAE1', 'PAIP2', 'NME6', 'WDR83', 'DPYD', 'TBCC', 'TBC1D16', 'SPATA2', 'HSPA2', 'WRAP73', 'SH3BP4', 'DCUN1D4', 'FAM229B', 'NUDC', 'STRA6', 'MAF1', 'UBTF', 'APBB2', 'ILF3', 'NKAIN4', 'SP8', 'DESI2', 'IRX1', 'FRY', 'CAPS', 'B4GALT2', 'NPEPL1', 'CACNA2D2', 'SYT5', 'EPS8', 'LIFR', 'GGCX', 'ANO10', 'SLC30A9', 'AKAP13', 'RALB', 'PLCG1', 'AGPAT2', 'CYC1', 'C4orf19', 'ACVRL1', 'S100A16', 'TRAPPC4', 'KDM2A', 'CDKN1B', 'GP6', 'PNCK', 'MANEAL', 'COL6A6', 'NEUROD6', 'DDA1', 'MRPL48', 'CALD1', 'PPY', 'THY1', 'PACSIN3', 'C8orf89', 'FXYD7', 'QSOX1', 'SNRNP200', 'ZNF22', 'FASN', 'KCNG2', 'PXDC1', 'SLC22A1', 'KLHL2', 'TGM2', 'YES1', 'GABARAPL2', 'DENND4B', 'ATG4A', 'FAM167B', 'CEP128', 'ARHGAP33', 'RNF125', 'OTOR', 'POLR3D', 'FBXO38', 'PRPF38B', 'ARHGEF10L', 'RPS2', 'TEX12', 'TMEM138', 'CD99L2', 'HAUS8', 'CARD18', 'TFEB', 'GGA2', 'P2RY12', 'LLGL1', 'LAT2', 'HIVEP3', 'GRAMD1C', 'TBC1D8B', 'TMEM182', 'HSDL2', 'SERPINA3', 'RAP2B', 'GABRR1', 'SIRT4', 'PGLS', 'RAB24', 'OSTC', 'PRKAB2', 'CPSF6', 'GAL3ST3', 'UBP1', 'ELMOD1', 'PAN2', 'TMPO', 'ZNF787', 'ANKRD17', 'SDF4', 'SLC2A12', 'FAM222A', 'VAMP5', 'GSS', 'PTCH1', 'PGF', 'ABCC8', 'HPCAL4', 'ZNF395', 'BICD2', 'FLT1', 'MIER3', 'KIAA0141', 'PSMB10', 'C10orf120', 'RANBP3L', 'TGOLN2', 'LRRN1', 'TXLNA', 'SLC39A8', 'SQOR', 'GATC', 'AP3D1', 'SMAD1', 'TMEM114', 'PREX2', 'FADS6', 'LARS2', 'TRIM66', 'TAF6', 'NDUFA10', 'BTBD16', 'SETDB2', 'ACAN', 'BICRAL', 'RGS19', 'EIF5B', 'SAMD4A', 'RGL2', 'WDFY4', 'RGP1', 'WBP2', 'NUDT16', 'CACYBP', 'MAD2L1', 'ARPC1B', 'FAM20B', 'NRXN3', 'SLC38A5', 'TNKS', 'MGA', 'GPAM', 'PRDM6', 'PEA15', 'GRIA1', 'UBA2', 'CAPSL', 'FAM117B', 'FOXP2', 'NEK10', 'TMEM242', 'ARHGAP25', 'HPS1', 'ANKH', 'C21orf58', 'ISCA2', 'ESAM', 'SLC22A15', 'TOP1MT', 'KLF7', 'CLCNKB', 'RMST_2', 'DICER1', 'ILKAP', 'TICAM1', 'UBXN4', 'MEOX1', 'RHOA', 'SPECC1', 'PCP4L1', 'CALY', 'MAPK14', 'RPS6KB2', 'ELAC1', 'AIFM3', 'NRN1', 'FAM110B', 'FAM32A', 'FAM89B', 'STX1B', 'ZNF607', 'NENF', 'SIGLEC10', 'TMEM98', 'PRDM9', 'TPO', 'ANK1', 'OLFM1', 'GRIN2B', 'SCAF1', 'RPS6KA2', 'GAS2L2', 'ASB1', 'LTA4H', 'ACTR1A', 'TMEM87A', 'BMF', 'CSPG4', 'LYSMD3', 'HSPB6', 'ACSL3', 'FNDC1', 'RTN4', 'C10orf143', 'PANK1', 'ATN1', 'ANK2', 'ARHGEF39', 'DAAM1', 'SNORA14', 'CCDC85B', 'TESK1', 'FAM114A2', 'FGGY', 'LSM8', 'ZFPM2', 'UPRT', 'RABGGTB', 'HLA-DPB1', 'BCAP29', 'FABP3', 'HS3ST5', 'C2CD3', 'STX2', 'SLC25A3', 'DHRS3', 'HSPA8', 'ZNRF2', 'LILRA2', 'EHMT1', 'LUZP1', 'COL9A3', 'FNDC8', 'FSIP1', 'EPSTI1', 'ABCA4', 'KLK6', 'VTN', 'NPTX2', 'TACR3', 'FBXO6', 'BCORL1', 'RGS12', 'NR2F1', 'SPDEF', 'MPND', 'TES', 'ITPR3', 'DNAJA4', 'CUL3', 'KCNK4', 'NEDD1', 'DLST', 'ATP9A', 'SEMA4D', 'AP3M2', 'CD68', 'SETD1A', 'MLYCD', 'UNC119B', 'C1QA', 'CACNG7', 'DNAJC13', 'GNA13', 'NRSN1', 'ARPP19', 'SAMD14', 'KITLG', 'IQSEC1', 'MYOG', 'FBXL15', 'RAB33B', 'RBM28', 'IFIT3', 'FGF1', 'NT5DC2', 'GNG3', 'TMEM205', 'WHRN', 'RNF115', 'RCAN3', 'CCL2', 'TBC1D12', 'RNF182', 'LY6L', 'LYZ', 'CDKN2C', 'GLI3', 'DHCR24', 'LRRC28', 'RAB29', 'SYT4', 'NOX1', 'PRSS46', 'TMEM235', 'LGI2', 'ANGPT1', 'WSB1', 'NECAP2', 'RXRA', 'CMTM5', 'ADSSL1', 'AIPL1', 'STEAP2', 'RPS7', 'HSD17B1', 'SP100', 'SHH', 'PMM2', 'NKX2-5', 'RFWD2', 'GPN2', 'KSR1', 'RPS15', 'REEP2', 'PARP6', 'RMST_9', 'SLC7A8', 'PLOD2', 'ASPA', 'RPS21', 'STX4', 'ZKSCAN4', 'C1QTNF5', 'PIK3C2B', 'RAD51AP1', 'FXYD5', 'LGI3', 'CDK7', 'TEC', 'GPSM2', 'MGLL', 'FOCAD', 'LRRN2', 'ZNF423', 'CCL8', 'NELL2', 'RBM7', 'PIWIL4', 'EXOC1L', 'CNN3', 'CPN1', 'PSMB8', 'SYBU', 'DHX37', 'TMEM134', 'RNF144A', 'FOXO6', 'COX4I2', 'INTS5', 'SF3B6', 'AMOT', 'AP4E1', 'USP13', 'HEMK1', 'C8orf82', 'snoU109', 'SLC25A13', 'DOCK2', 'FZR1', 'KCTD2', 'SEMA4C', 'SGTA', 'ARHGEF26', 'NEGR1', 'USF2', 'SLC38A9', 'DCST1', 'NXNL2', 'TFPI', 'LRRCC1', 'KCNK12', 'IL20RA', 'TBXAS1', 'GPAA1', 'SP5', 'PDK1', 'NEPRO', 'NEURL2', 'ARHGAP30', 'CCDC25', 'ARID5A', 'MS4A6A', 'ZNF212', 'TRAK1', 'DCUN1D5', 'TMEM190', 'LNP1', 'SMIM5', 'HSPG2', 'AKR7A3', 'QRICH1', 'SLC7A6', 'PON3', 'PM20D1', 'CLEC2L', 'EBF1', 'PLCL2', 'AVPI1', 'RPRML', 'HINT2', 'CENPV', 'CAPG', 'COPS5', 'FRMD5', 'RORB', 'MED14OS', 'C1QB', 'CDRT4', 'NSMCE4A', 'PSMA6', 'ACVR1C', 'PPP1R36', 'LAMTOR4', 'MDFI', 'TOX', 'CCDC117', 'RPS3A', 'CNBP', 'MTMR8', 'ZBTB44', 'KLHDC2', 'UBE2S', 'IL6R', 'EFR3A', 'SLC6A20', 'ABCA2', 'EMP1', 'SAPCD2', 'USP22', 'WISP1', 'ARPP21', 'LY6E', 'TTLL4', 'CD22', 'MIP', 'XKR6', 'DRP2', 'PYGM', 'SLC25A1', 'VAPB', 'UBE2L5', 'TPRA1', 'STXBP2', 'NUDT8', 'IAH1', 'IKBKB', 'HOPX', 'PRR7', 'SP140', 'C20orf24', 'PTPN13', 'REXO4', 'PRKCI', 'ADGRL3', 'NTM', 'UBE2E1', 'CPA4', 'ZNF324', 'NPC1', 'AGPAT3', 'CCT6B', 'FKBP1A', 'PPP1R17', 'SLC25A40', 'SUPT6H', 'ALAD', 'TMEM53', 'DLGAP3', 'DAZAP1', 'IL31RA', 'CLDN5', 'ASNSD1', 'NFYC', 'AKIP1', 'PAFAH1B1', 'MYCBPAP', 'ID1', 'SASH3', 'VPS18', 'ALDH1B1', 'LZTS2', 'KANK2', 'ABCD4', 'EDNRA', 'NXN', 'STOML2', 'NOL7', 'ELMOD3', 'ZNF222', 'AIMP2', 'ZNF274', 'ARHGEF40', 'TRMU', 'PTGES3', 'CCDC127', 'COL19A1', 'ZFX', 'RAB27B', 'EPHA7', 'MCM8', 'DIS3L', 'OTUD6B', 'NDUFAF3', 'ETV3', 'BSCL2', 'ZNF638', 'SNX4', 'LAMA4', 'CCSAP', 'SMIM27', 'APIP', 'CNEP1R1', 'RASL12', 'GHITM', 'B2M', 'ZNF687', 'CDC14B', 'GTDC1', 'RCBTB1', 'MAN1B1', 'CARD19', 'AKAP7', 'KCNIP1', 'NOS3', 'ZGLP1', 'PPP1R37', 'PFN4', 'KHDRBS3', 'WNT7B', 'CRY2', 'IRAK1BP1', 'PAOX', 'ABHD17A', 'GRIK2', 'RNF217', 'COL3A1', 'CYP26A1', 'TGS1', 'TMEM60', 'SLC25A38', 'RUFY3', 'CAPN5', 'FKBP1B', 'PPP1R35', 'SLC16A5', 'PCDH7', 'PRPF40A', 'DTNA', 'S100A13', 'ARHGDIB', 'SNRNP35', 'FHOD3', 'CDT1', 'TGFBR2', 'PXMP2', 'CNST', 'PHACTR2', 'NBEAL2', 'ASB13', 'RAPGEFL1', 'UNC50', 'PRPF31', 'CTNNAL1', 'POLL', 'GAS7', 'FAM151B', 'EIF3G', 'TLR3', 'YAF2', 'POLI', 'ZNF703', 'ELOF1', 'NUBP2', 'ARIH1', 'TRPM7', 'ETV6', 'NRG3', 'TNFSF12', 'CATSPERE', 'MRPS18A', 'AIF1L', 'ISYNA1', 'SPRED2', 'MTHFSD', 'SOD2', 'TMEM106B', 'SNRPD1', 'PIM2', 'CACNA1E', 'GPX7', 'ARMC8', 'CNP', 'RALGAPA2', 'ARHGAP36', 'FRS3', 'IFIH1', 'WNT5B', 'MAFK', 'AMFR', 'CCR6', 'SUGT1', 'AATK', 'RAPGEF1', 'CFAP161', 'DIMT1', 'ACTR10', 'ZDHHC1', 'SLC9A3R1', 'ZNF710', 'TAOK2', 'SNX20', 'ZNF507', 'ARHGAP31', 'ZNF200', 'SOX2OT_exon1', 'NEK4', 'ASTE1', 'DBNDD1', 'NOP58', 'CIB1', 'EXOC3', 'FADS2', 'KLHDC4', 'SPATA6L', 'SEMA3C', 'ARHGAP32', 'ZFYVE1', 'ITSN2', 'CDK10', 'DNAJB4', 'GPS2', 'IFRD1', 'CTNS', 'SMG8', 'PI16', 'LMO1', 'MED12L', 'TRMT44', 'C1H1orf43', 'CARD6', 'COMMD5', 'ARHGAP22', 'RAB5B', 'SH3RF1', 'GDI1', 'AMER2', 'HOXC4', 'SLC7A4', 'CLEC4A', 'SIRT2', 'PMS1', 'MS4A4A', 'NOD1', 'PDLIM2', 'CDK5R2', 'TAF11', 'RBBP6', 'DERL2', 'INPP4A', 'DENND5B', 'LPCAT1', 'C4orf47', 'MLLT3', 'MAN2A1', 'VEGFC', 'LIN28B', 'MYD88', 'GNAI2', 'DDX50', 'MYO1B', 'MOXD1', 'PSME3', 'RNMT', 'GPANK1', 'SYDE1', 'ANXA2', 'TIMM13', 'FAM124B', 'RASSF1', 'IGSF6', 'HSD17B11', 'USE1', 'GCA', 'ING4', 'SCD5', 'RDH14', 'GSTM3', 'VCPKMT', 'TNFRSF19', 'ABCG5', 'BTK', 'TAF9B', 'CHMP7', 'SNORA20', 'CLYBL', 'ABCF3', 'KLHL32', 'ANAPC5', 'ASTN2', 'LGALS2', 'MRPS30', 'PIP4K2C', 'HBS1L', 'GPR50', 'ID2', 'SART3', 'PGM2', 'CCDC154', 'SLC10A1', 'HEBP2', 'PPM1J', 'PPIL3', 'PIK3CD', 'CTTNBP2', 'ZCCHC14', 'IL4R', 'PEX2', 'FN1', 'PXN', 'RPL3', 'AKAP12', 'PAAF1', 'RPL4', 'TMED7', 'TLR5', 'NPY1R', 'INHBA', 'NOSTRIN', 'SCNN1A', 'LPAR1', 'GRM8', 'NHSL2', 'MRPL9', 'BSG', 'SEMA6D', 'MIF4GD', 'NPAT', 'ACOT13', 'CCR10', 'IFI16', 'ZNF613', 'RTN3', 'OIT3', 'EFNB1', 'NTRK3', 'CCK', 'TFB1M', 'TMCC2', 'ZNF300', 'MRPL47', 'TUT1', 'ENHO', 'FCGR3A', 'PRIMPOL', 'STK16', 'CD300C', 'XRN1', 'JMJD8', 'RASGRF1', 'RETSAT', 'EFCAB8', 'KBTBD6', 'STYXL1', 'MYL9', 'IGFL3', 'RAD52', 'GFRA1', 'LRP12', 'PHF21A', 'PTCHD4', 'NFAT5', 'ATPAF2', 'MECP2', 'SDHAF1', 'DAZL', 'IFT27', 'SLC13A3', 'IFI44', 'RAN', 'STRN3', 'GJC2', 'METTL21A', 'CORO1C', 'DIO1', 'WDR76', 'THYN1', 'HMG20B', 'SH3KBP1', 'OLIG2', 'MCUR1', 'EPHA3', 'MERTK', 'RPRD2', 'STRIP1', 'DKK1', 'CHRM2', 'DMPK', 'ETV1', 'THEM4', 'LTN1', 'SDSL', 'SCN1A', 'SHROOM1', 'NGLY1', 'MDP1', 'EXO5', 'TEAD2', 'BAIAP2', 'ATAD2B', 'EIF3L', 'PIKFYVE', 'PTPMT1', 'TPD52L1', 'ATG2B', 'RRAS2', 'IL11RA', 'NFAM1', 'MMADHC', 'ARL4D', 'GGA1', 'DISP1', 'CDR1', 'MBNL1', 'PHPT1', 'TBC1D8', 'TMEM199', 'MYSM1', 'C14orf37', 'LAS1L', 'THNSL2', 'TRPV6', 'LOX', 'FRMPD4', 'ODF2', 'CLCN2', 'IGKC', 'COX1', 'COMMD1', 'MSRB3', 'TNS2', 'LY86', 'EIF3A', 'RAP1GDS1', 'NPTXR', 'SREBF1', 'TIMMDC1', 'MRAP', 'TDRD3', 'MSN', 'SCAF8', 'THOC3', 'RRAGA', 'SLC22A6', 'TSC1', 'NUDT12', 'STRADB', 'RPL28', 'SV2B', 'DCAF6', 'DCTPP1', 'GTF2E2', 'SLC22A14', 'SNX6', 'CRYM', 'RPGRIP1L', 'TARSL2', 'FAM105A', 'RNASET2', 'NSUN3', 'CCDC163', 'ITPR1', 'PPIL4', 'SELENOF', 'FTX_4', 'FAM217B', 'UQCRQ', 'F11R', 'AHNAK', 'KLHL5', 'PDE8A', 'DBX2', 'CD320', 'CCDC171', 'CDC73', 'FNBP4', 'TRIM47', 'MYLK2', 'PSEN1', 'GCH1', 'SRRT', 'SELENON', 'TMEM126A', 'MSR1', 'JAKMIP3', 'PRKAG3', 'TSPAN11', 'AAK1', 'DDX41', 'TMEM144', 'KDM2B', 'EEPD1', 'CLEC2B', 'RGCC', 'COG1', 'NKAIN1', 'HHATL', 'MGAT5', 'RHEBL1', 'LARP7', 'CCPG1', 'ZNF813', 'NEU4', 'SMAP2', 'IRF8', 'SPINK8', 'TCP1', 'FN3K', 'CLN3', 'RERGL', 'BCL7A', 'OSBPL9', 'CAMK2N1', 'TWF1', 'CHEK2', 'MLLT1', 'NSMCE2', 'PGC', 'NEU1', 'LMOD3', 'COX7A1', 'RNF17', 'JUP', 'SENP5', 'THAP6', 'PHACTR4', 'VWA8', 'APPBP2', 'IFI6', 'NARS2', 'ENAH', 'OXLD1', 'AAGAB', 'ASH1L', 'ZIC3', 'NRGN', 'TMEM196', 'ALDH1L2', 'HP1BP3', 'TMEM163', 'HTR3A', 'HEXIM1', 'FAM184B', 'AARS', 'FHL1', 'C6orf89', 'DNAJC9', 'COMT', 'RNF24', 'APTX', 'PDGFRB', 'USHBP1', 'THBS4', 'NRBP1', 'SCARNA21', 'C11H12orf56', 'CMSS1', 'HPS3', 'PTK7', 'ALDH3A1', 'MTMR6', 'CX3CR1', 'HSD11B1', 'UHMK1', 'AACS', 'PCCB', 'CRY1', 'RPS27L', 'MAN1A2', 'TTC9B', 'SMC3', 'NLRP3', 'PPP2R2B', 'MS4A3', 'ITM2A', 'OGFR', 'OAZ2', 'ERMP1', 'COL4A5', 'WNT7A', 'snoZ39', 'C16orf45', 'MAL2', 'TM4SF18', 'SERP1', 'DDR2', 'ZFYVE9', 'ZFPL1', 'SNORND104', 'GPT', 'CENPP', 'BTBD10', 'LYPD1', 'MAP3K19', 'LYNX1', 'CDK19', 'JUND', 'CD14', 'CRABP2', 'POR', 'SMYD1', 'FKBP4', 'RIF1', 'GPATCH8', 'NFE2L1', 'NAV3', 'MINDY1', 'KCMF1', 'GPATCH2', 'IFNL1', 'RBM23', 'RPF1', 'PIGG', 'FARP2', 'PRSS12', 'ARHGAP45', 'EP400', 'RELT', 'LSM7', 'PLD1', 'ACAD11', 'MMAA', 'YKT6', 'QTRT1', 'CTCF', 'HOXB2', 'SNRPN', 'RHNO1', 'PRCC', 'VNN1', 'TNKS1BP1', 'ST8SIA5', 'PAGR1', 'NPDC1', 'ATRAID', 'HNRNPM', 'MEGF10', 'GYG1', 'MPLKIP', 'FBXO33', 'RGS21', 'PRKCQ', 'HNRNPD', 'NDUFB6', 'VSIR', 'RCSD1', 'HTT', 'SRD5A1', 'IQCB1', 'TMEM184B', 'GTF2F2', 'EPHB3', 'APOBEC3C', 'CDH15', 'MARCH1', 'GMNN', 'MIGA2', 'SERPINB6', 'MAL', 'GIT1', 'CDYL', 'SLC6A5', 'PHC3', 'SYVN1', 'ZFPM1', 'ATP6V0C', 'RECK', 'SCRN1', 'CNNM3', 'ZNF227', 'DHX58', 'MIPOL1', 'PPP4R1', 'CLCA1', 'TPM2', 'PAFAH2', 'HMGCL', 'AHCY', 'SNX17', 'SMYD2', 'BHLHE41', 'RANBP17', 'CHTOP', 'WNK4', 'UQCRC1', 'TMED3', 'SACS', 'SLC7A1', 'RRNAD1', 'FCGR1A', 'INF2', 'C1QTNF6', 'MBLAC2', 'NAA35', 'C19orf33', 'CREG1', 'SIK3', 'HNRNPA1', 'IWS1', 'IQSEC3', 'FCN3', 'IL10RA', 'GOT2', 'DET1', 'OAZ1', 'SH3BP1', 'ENPP6', 'PCSK6', 'EIF3F', 'CHST2', 'KCNMB1', 'ALPK2', 'CDK8', 'PRKCB', 'SLC35F3', 'COX17', 'TASP1', 'GCC2', 'CITED1', 'NCOA3', 'C11orf84', 'COIL', 'LATS1', 'IZUMO4', 'GSG1L', 'DOK5', 'ISOC1', 'BAALC', 'RASL11B', 'ACBD6', 'FRRS1L', 'ADAMTS1', 'KIT', 'AASDH', 'PNLIPRP2', 'ZNF790', 'SIN3A', 'PBDC1', 'TMEM229A', 'FSD1L', 'DDRGK1', 'DGKB', 'ITGA1', 'CETN3', 'UGGT2', 'GIGYF1', 'TF', 'KMT2B', 'RPS17', 'DIP2B', 'PTPRJ', 'MAP7D3', 'SLC35F6', 'SVBP', 'LRRFIP2', 'LIN9', 'GRK6', 'COL25A1', 'AK5', 'PPM1M', 'WDR83OS', 'ALX3', 'SLC30A10', 'RNASEL', 'MGAT3', 'CSF1R', 'PROX1', 'CAPS2', 'TRIM56', 'SEMA6A', 'ZDBF2', 'PCBP1', 'NCKAP1L', 'PIN1', 'CELF3', 'ADH1B', 'PLEK', 'MTSS1L', 'ZNF33A', 'PKNOX1', 'EPHX2', 'LHFPL3', 'SLC2A8', 'LARGE1', 'AP1B1', 'NUP188', 'DDN', 'FBXO31', 'ACAA1', 'MYO1E', 'ZNF655', 'PECAM1', 'CLCC1', 'CEP135', 'MVP', 'PHAX', 'LRRC14', 'GJC3', 'JMJD4', 'HEATR5A', 'UCMA', 'OSTF1', 'ACADM', 'LRRK1', 'TTC21A', 'UST', 'GPR61', 'IGF2R', 'TJAP1', 'SOD3', 'Telomerase-vert', 'AP1S1', 'KCTD20', 'URI1', 'GPRC5C', 'SYPL2', 'TMEM106A', 'PAK4', 'ASPDH', 'RND2', 'SLC14A2', 'MAP3K10', 'MBD5', 'DHX34', 'TMEM80', 'CCDC152', 'WIPF3', 'CTSH', 'MACF1', 'FNDC3B', 'SORL1', 'CSNK2A2', 'RNF43', 'ZDHHC7', 'CA13', 'SLC38A1', 'VCAM1', 'RAD21', 'ATG13', 'CDKN2D', 'POLR2E', 'GPRASP2', 'USH1C', 'ARL14EP', 'IL6ST', 'GPR176', 'SREK1IP1', 'CDH18', 'ATP6V1B2', 'RGS10', 'RUVBL2', 'NR1H4', 'RNASE6', 'SNN', 'NUF2', 'RHEB', 'EGFLAM', 'TNIP1', 'PPFIBP1', 'DDX60', 'TCTA', 'DTX3', 'NSF', 'TLN2', 'MYL6B', 'GNG12', 'EXOC6B', 'DHPS', 'CCDC27', 'MANBA', 'AMMECR1', 'NXF1', 'MFSD14B', 'MASP1', 'UBXN1', 'D2HGDH', 'PENK', 'POLR1C', 'MRM3', 'TXK', 'HAAO', 'TRAF3IP1', 'AZIN1', 'ETV2', 'METTL7B', 'WDR49', 'TRMT1L', 'LAT', 'WFDC3', 'SH2D5', 'DNAJC18', 'EIF4A2', 'LRIG2', 'CEMIP', 'SEC24C', 'SLC5A6', 'CNPY4', 'PCNA', 'TRPC6', 'SMPD1', 'NEURL1B', 'ZNF329', 'MFAP3L', 'ARPC2', 'GTF3C1', 'ASB8', 'PER2', 'ARID2', 'CUEDC1', 'PSPC1', 'PPP2R5A', 'HACD1', 'STAG1', 'ACP7', 'UBL5', 'GABRA5', 'CCDC82', 'CASC3', 'GEMIN8', 'SNCB', 'PPFIBP2', 'USP20', 'LMNTD2', 'ZAR1L', 'TTC23', 'MSANTD4', 'SMIM13', 'ADD3', 'MYC', 'UGT3A1', 'C14orf132', 'RHOB', 'SLC25A33', 'EVX1', 'ZBTB10', 'DNMBP', 'PDZD8', 'NOLC1', 'ZNF207', 'RNF10', 'GNS', 'C1QBP', 'SGMS1', 'BRCA1', 'TNFSF14', 'BDH1', 'CHDH', 'PIK3CA', 'WASHC4', 'TMEM19', 'TP53RK', 'MAP1LC3A', 'MOB3B', 'DCDC2', 'FBXO5', 'UNC13D', 'TMEM74B', 'ABCA1', 'POLD3', 'LRRC75A', 'YDJC', 'SLC40A1', 'MRS2', 'CHCHD6', 'MBIP', 'MAGEE1', 'PPM1K', 'LSM11', 'TP53', 'TM7SF2', 'TMEM243', 'ME1', 'USP1', 'LSM2', 'PACRG', 'CEP162', 'ST3GAL2', 'VAMP8', 'PQLC2L', 'RHOU', 'FZD2', 'NTSR1', 'ITGA7', 'CCDC121', 'HIF1AN', 'RBSN', 'RAD21L1', 'FOXP4', 'CAT', 'WBP1', 'PER1', 'GNG7', 'PANK2', 'ARID1A', 'SECISBP2L', 'CLEC9A', 'RPL18', 'TMEM234', 'ANKIB1', 'TSC22D3', 'GCC1', 'CTU1', 'SNORA24', 'snoMBII-202', 'ZNF396', 'CASK', 'MFSD1', 'PITPNM1', 'NACAD', 'PREPL', 'PLGRKT', 'CERS2', 'ITFG2', 'GNMT', 'NUP85', 'KLHL14', 'AP1S2', 'SALL1', 'CYB5R2', 'RPP25', 'CHUK', 'ANKRD13A', 'RECQL', 'UFSP2', 'ADGRE5', 'MRNIP', 'PLP2', 'BID', 'CCNI', 'OSBP', 'MIIP', 'FRMD6', 'SEMA4F', 'TRPC7', 'LYPLA2', 'CTBP2', 'ZKSCAN2', 'FTSJ3', 'PNPLA8', 'PRRC2B', 'LIMS1', 'DNAJB2', 'UAP1L1', 'SWT1', 'PIP5K1B', 'CHN2', 'LMO7', 'C10orf90', 'EIF3J', 'B4GALT4', 'PCSK2', 'ANAPC7', 'GTF2I', 'SH3PXD2B', 'APC2', 'EIF1', 'PLAT', 'TK1', 'IL13RA1', 'HHIP', 'BSPRY', 'SLC35C1', 'TPPP3', 'SORCS3', 'ZKSCAN8', 'SNX22', 'WDR45B', 'GIMD1', 'RCN2', 'NIFK', 'ZNF606', 'NDUFAF7', 'SLC35B1', 'SLC38A3', 'NWD2', 'PPA1', 'TOR1A', 'USP4', 'SSUH2', 'ROBO4', 'FAM174B', 'MTHFD2L', 'SLC9A5', 'TSPO', 'ZNF555', 'NDUFB4', 'ZNF8', 'GNAS', 'GNL3L', 'CA6', 'FOXA1', 'PCP2', 'PITX1', 'MMD', 'RPS19BP1', 'LCP1', 'GRHPR', 'RALA', 'ABCB1', 'TMEM11', 'FUT10', 'COX3', 'FOXO1', 'FBXO34', 'OLFML2A', 'CHD2', 'SNORD50', 'WFS1', 'TLL2', 'GPX4', 'MOCOS', 'ANAPC2', 'SCAPER', 'TPRN', 'BMPER', 'C4BPA', 'LIPM', 'CLEC6A', 'VPS26A', 'AMOTL2', 'WDR13', 'ATP1A1', 'MRO', 'RYBP', 'ATP6V1E1', 'POLR2C', 'PLOD3', 'TAPBPL', 'PTPN9', 'PRR5L', 'RBM18', 'TMEM106C', 'NECAB1', 'FBLIM1', 'NEU3', 'MAPKAPK2', 'ABI3BP', 'VSIG4', 'QDPR', 'FBXO47', 'IL16', 'CCDC97', 'PC', 'STARD3', 'MR1', 'GDF5', 'AKAP10', 'KCTD8', 'DNM1L', 'LY6H', 'SMAD7', 'MCM6', 'SDC4', 'KCTD6', 'CMKLR1', 'NRXN2', 'PFDN1', 'PLEKHG5', 'EIF4G3', 'BOP1', 'RERG', 'SLC10A7', 'MAT2A', 'LHB', 'KDM5C', 'ZNF444', 'SLC30A7', 'EI24', 'C3orf80', 'TRIP11', 'APBB1IP', 'PITHD1', 'RGS16', 'KCTD9', 'LRRC39', 'RBMX2', 'TACR2', 'JMJD1C', 'ZMIZ1', 'DNAJB12', 'SLC7A10', 'SLC24A2', 'SLC25A34', 'SPTSSA', 'SLC25A19', 'ASB16', 'RPL31', 'HYDIN', 'PIGF', 'TTC4', 'SPIRE2', 'GDF11', 'C5orf42', 'DAPL1', 'CROCC', 'ADAMTS9', 'BAZ1B', 'HRH3', 'RPAP2', 'AUNIP', 'BOK', 'NAA50', 'GHRHR', 'CHD6', 'EFHD1', 'ZC3H13', 'SNF8', 'SLC25A46', 'COPG2', 'DCTN2', 'SEPT6', 'DKK3', 'DPYSL5', 'TMEM132A', 'GLOD4', 'FAAP100', 'ZBTB20', 'HECA', 'ZCCHC24', 'EPHA5', 'PLD2', 'WNK1', 'STARD7', 'FAM53B', 'TSPAN31', 'COL1A1', 'YWHAE', 'SRSF4', 'JOSD1', 'DNASE2B', 'SLC4A1AP', 'RASSF4', 'MRPL35', 'SIGLEC6', 'SPCS3', 'TFEC', 'TFB2M', 'JAZF1', 'TLE3', 'KCNJ13', 'DEFB105A', 'ZNF71', 'FCHO2', 'GSTP1', 'SPON1', 'PRPF40B', 'ANP32E', 'BTBD17', 'ARCN1', 'PDP1', 'ZMYM3', 'C9orf64', 'GIMAP4', 'IDH2', 'CEP41', 'CD101', 'CD48', 'IL1RAP', 'KIF1C', 'HNRNPDL', 'RNF41', 'SNX31', 'RET', 'DAGLA', 'MYH6', 'SLC22A23', 'LPIN2', 'MICALL1', 'N4BP3', 'SLC25A12', 'NF2', 'MPPED1', 'CPE', 'PARP9', 'DACH2', 'SDHAF4', 'YY1', 'MTR', 'ACIN1', 'COLEC11', 'RDM1', 'BLOC1S2', 'TMCO5A', 'SLC13A2', 'OTUD3', 'UBE2B', 'SURF1', 'PKHD1L1', 'FMO4', 'ADAM10', 'FAM89A', 'RGS6', 'CST3', 'HIST2H2BF', 'IGFBP7', 'AXIN2', 'CWC27', 'PITPNB', 'CDA', 'ZC3H18', 'ACOT2', 'TSSK3', 'NDN', 'LASP1', 'CEP131', 'NPR2', 'IRX6', 'ANKRD24', 'ZNF467', 'ZNF830', 'DGKD', 'PRR12', 'HCK', 'CXCL10', 'ZNF827', 'ALDH1A2', 'MAP3K4', 'CDK13', 'BRICD5', 'DNAJC24', 'GRIN1', 'PROSER1', 'CCNA1', 'IL23R', 'FEZF2', 'SUSD4', 'CXCL12', 'PPP1R7', 'CYP2J2', 'TECRL', 'MTMR3', 'NFATC4', 'KLHL23', 'M6PR', 'PAICS', 'LAPTM4B', 'ZNF585A', 'RBM5', 'TRAP1', 'EMX2', 'MYO6', 'GADD45GIP1', 'DLX6', 'C9orf85', 'TRIM5', 'CAMK2A', 'ZC3H10', 'CSNK1G3', 'FAM114A1', 'CASP6', 'TRNP1', 'DEF8', 'MYLK', 'CACNA1I', 'HOXD3', 'ZNFX1-AS1_2', 'SCG3', 'EPOR', 'C10orf128', 'VTI1B', 'C1QL1', 'FAM107A', 'CAMK4', 'PLP1', 'ZDHHC9', 'TUSC5', 'KATNAL1', 'RBM41', 'FANCM', 'ADNP2', 'SYNGAP1', 'GMPPA', 'GNB1', 'EGFL7', 'RPL24', 'BBOX1', 'HDAC5', 'BLOC1S6', 'ADARB2', 'NXPH3', 'ERMN', 'SMTN', 'NFKBIE', 'PLB1', 'S1PR1', 'RREB1', 'APOD', 'GPATCH3', 'SH3GLB1', 'EMP2', 'APOC1B', 'NAXD', 'PRAP1', 'TINAGL1', 'CTDSPL', 'B3GNT6', 'SULT2B1', 'CD84', 'CCDC178', 'HDAC11', 'IGFBPL1', 'ZNF652', 'RPRD1B', 'NID1', 'HOOK1', 'CPAMD8', 'PHLDB1', 'COL6A2', 'ZPR1', 'KLHL4', 'PDCD1LG2', 'IQGAP1', 'COQ2', 'CHADL', 'CAPN2', 'EFHC1', 'CEP63', 'EBNA1BP2', 'TAF6L', 'TTLL11', 'ZNF771', 'PPAN', 'FBXL16', 'OTUD7A', 'TXNL4A', 'TJP2', 'RASIP1', 'MRPL51', 'PHLPP1', 'ND1', 'PSMG3', 'MOBP', 'INPP5D', 'MTFR1L', 'SARDH', 'MYO1G', 'CDK5RAP3', 'PALD1', 'TIMP4', 'HMGN5', 'PRDX6', 'PKP1', 'ELAC2', 'ANKRD13B', 'PLD3', 'ACBD7', 'CALHM2', 'LIG3', 'APCDD1', 'C2orf68', 'EBF4', 'PLPP1', 'CAPN15', 'MYOC', 'ZNF782', 'MTHFD1', 'INSC', 'KDM4B', 'TMEM179B', 'TSPAN13', 'PAX6', 'SLC23A1', 'SQLE', 'ARF3', 'LAMTOR1', 'SS18L2', 'SF3B4', 'CUX1', 'RAD51B', 'PIGN', 'DGKZ', 'SAMD15', 'NETO1', 'CA2', 'SYT16', 'CNTLN', 'KLHDC8B', 'CCDC124', 'GNGT2', 'LRIT1', 'TGFBI', 'CLEC2D', 'NUP35', 'ARAP2', 'BCAM', 'CAMK1', 'HS3ST4', 'TOM1L2', 'SESN3', 'NT5DC1', 'B4GALNT4', 'ZNF205', 'BRI3', 'USMG5', 'FARSB', 'TBC1D19', 'PDLIM5', 'CASP9', 'PLSCR3', 'UBE3B', 'NUDT4', 'LAGE3', 'CCDC50', 'MRPL14', 'WWTR1', 'PMS2', 'RAP2A', 'OLFM4', 'ATP6', 'EXT1', 'NOC2L', 'PPIL6', 'TAF1', 'SERPING1', 'ZNF106', 'CADPS2', 'MFGE8', 'INPP5F', 'STRN4', 'PABPC5', 'USP46', 'ERCC6', 'COG2', 'PIP4K2B', 'STARD5', 'GABRA6', 'RGS1', 'TRAFD1', 'NPVF', 'SLC35B4', 'ALG8', 'LMNA', 'TNK2', 'DHRS1', 'CDC40', 'MTSS1', 'MDC1', 'ACTN4', 'CES1', 'PLCB4', 'SNRNP48', 'PRX', 'UBE2I', 'ZSWIM1', 'TRMT1', 'SCYL2', 'ZCCHC17', 'HSD17B8', 'LZIC', 'RAB36', 'MRPL15', 'ZFYVE21', 'TAF1C', 'FBL', 'LRRC57', 'DDX49', 'MMP2', 'SERPINB1', 'ADGRE1', 'ALKAL1', 'PRPF3', 'BNIP1', 'CHI3L1', 'PURB', 'WDHD1', 'TGFBRAP1', 'NUDT17', 'CPNE6', 'AP4B1', 'MAML3', 'STXBP4', 'C1orf87', 'RARG', 'MBNL2', 'PTX4', 'CCDC107', 'SYK', 'CP', 'ACSM5', 'STARD10', 'DENND1B', 'SGIP1', 'SOS1', 'SLITRK1', 'TMEM59L', 'ZNF558', 'HSD3B7', 'ADAMTS20', 'RPGRIP1', 'NELFA', 'KDM7A', 'ARHGAP42', 'FAM129A', 'LDHC', 'GPM6A', 'EPS15L1', 'PHKA2', 'CACNB4', 'SLC12A7', 'ZHX1', 'CNGB3', 'CELF2', 'LRP10', 'SHROOM4', 'TCEA2', 'RAD51AP2', 'PTGES2', 'TTBK1', 'GTPBP10', 'CRYBB3', 'NCF2', 'USP24', 'CSRP3', 'KLF15', 'SBSPON', 'SCUBE1', 'WDR90', 'CXCL14', 'PDE6G', 'LRRC45', 'DCN', 'ZNF385B', 'CPPED1', 'EXT2', 'ABHD6', 'YWHAG', 'TMOD3', 'GGA3', 'NUP98', 'MRPS16', 'FMOD', 'TMEM240', 'ESF1', 'VWA5B1', 'EFCAB5', 'NSMF', 'GAS6', 'TCERG1', 'XPC', 'FRZB', 'SMCR8', 'KRT7', 'WDR81', 'COTL1', 'POLR3H', 'KRT19', 'GTPBP1', 'SLC35C2', 'LRP1B', 'CD302', 'SYCP3', 'TIPARP', 'FAM107B', 'METTL6', 'KHDRBS1', 'GCK', 'BNIP2', 'HSD17B4', 'WSCD1', 'MNT', 'IFFO1', 'PTPN1', 'SLC25A23', 'NAGK', 'SECISBP2', 'MB21D2', 'TRMT13', 'PTP4A3', 'MOB3C', 'LAIR1', 'RNF32', 'KAT6A', 'ARHGAP27', 'PEBP1', 'Hsp90ab1', 'MS4A7', 'TTC39A', 'PAPD7', 'DYNC1LI2', 'PYCARD', 'GABBR1', 'POLR3E', 'PNPLA7', 'PEX11A', 'UVSSA', 'ESRRG', 'NQO2', 'TNRC18', 'DUSP1', 'CHMP1A', 'UBE2F', 'EXOC5', 'ARSA', 'SIX1', 'SLC16A2', 'DTL', 'MAU2', 'SELE', 'COLEC12', 'DCAF4', 'PTPN23', 'RNF25', 'RASL10A', 'FAM181B', 'ATG9A', 'CTDP1', 'NT5M', 'NUDT1', 'CABP4', 'OGFOD3', 'KCNJ8', 'FAM20A', 'MS4A4E', 'SAMD13', 'KREMEN2', 'CHMP4B', 'TNFSF13', 'USP3', 'LACTB2', 'GIT2', 'ELAVL4', 'PRKD1', 'FEN1', 'AKNA', 'PMM1', 'CTSZ', 'BAZ2B', 'GDAP2', 'KLHL28', 'GYS1', 'ENPP2', 'C12orf54', 'ZNF350', 'GSDMD', 'SPHK2', 'FERMT3', 'SBDS', 'IL17RB', 'CAVIN1', 'BEND6', 'SHD', 'L3HYPDH', 'METAP2', 'APBA2', 'CCDC91', 'ANO5', 'PRDX3', 'CDCA2', 'TEX36', 'LCA5', 'MICALL2', 'FGD3', 'SAXO1', 'NBN', 'COPS3', 'CD248', 'TELO2', 'BIN2', 'MMS22L', 'CBY3', 'PLXNA4', 'STRADA', 'DNAI1', 'RAMP3', 'TEX264', 'HSPA12B', 'DNASE1L1', 'ALDH1A3', 'EXOSC4', 'MPP2', 'INPP4B', 'RCOR2', 'EIF4E2', 'ATF2', 'RHPN2', 'SARS', 'ITFG1', 'ANGPTL3', 'PCK1', 'OSGEP', 'ELSPBP1', 'LUM', 'TMIE', 'RINL', 'CLTA', 'BCL11A', 'CIR1', 'PDE1C', 'TERB1', 'NR2F2', 'NPFFR1', 'ENTPD2', 'ADAM9', 'SAP30', 'DOCK8', 'SGCE', 'PHEX', 'KAZN', 'GABRB2', 'MTX2', 'MFSD5', 'MYCT1', 'TRAF3', 'TSTD1', 'SEC22A', 'TAB2', 'JAGN1', 'SLC35D3', 'POC1B', 'CCND3', 'PBXIP1', 'CACNA2D1', 'TBL1XR1', 'CCP110', 'LAMA3', 'ELK4', 'TMPRSS5', 'CSGALNACT2', 'AKT2', 'ACSF3', 'LCN2', 'NALCN', 'ZNF559', 'PSMC4', 'DHX40', 'NSMCE1', 'NOTCH1', 'HPS4', 'SCAF4', 'MCTS1', 'NUDCD2', 'TMEM132C', 'PDIK1L', 'PTPRH', 'CIC', 'BAMBI', 'CARNS1', 'ZSWIM7', 'ATP5J', 'TMEM27', 'MRPL46', 'CEP295NL', 'ENDOV', 'GIPC2', 'CBLC', 'PLVAP', 'PIGQ', 'RPS24', 'RPE65', 'PRR36', 'HS1BP3', 'PDGFRL', 'PLEKHH1', 'PRMT5', 'RALY', 'MYRF', 'DMRT3', 'DHDDS', 'TMEM63C', 'BBS4', 'ACY3', 'ITPRIPL1', 'RNF185', 'SHTN1', 'CCHCR1', 'C17orf58', 'ATP6V0E1', 'SCARB1', 'GABRR2', 'ETV5', 'C1QL4', 'DSCR3', 'C1orf198', 'CCDC28A', 'ALDH1L1', 'YWHAH', 'SAMD5', 'PTPRZ1', 'RRM2B', 'MGRN1', 'PRKCA', 'AKAP1', 'DNAJB14', 'CCDC181', 'NTRK2', 'COL8A1', 'PRR14L', 'ABTB1', 'SMG7', 'GRASP', 'SRC', 'KIF13B', 'CDC42EP1', 'COL1A2', 'DLG2', 'DCP1B', 'PCYT1A', 'MMP17', 'POLR2I', 'ABCD2', 'HCN1', 'MMD2', 'ARL13B', 'ELAVL2', 'TOE1', 'SETX', 'CAPN11', 'MECOM', 'TCEAL1', 'FAM9A', 'SS18', 'GAREM2', 'MYH7B', 'SLC7A13', 'PAPSS2', 'BLNK', 'GDPD2', 'IL2RB', 'ZBTB24', 'RIT1', 'GLMP', 'POLB', 'MED28', 'MTF1', 'ADAL', 'MXD4', 'PPWD1', 'TFDP2', 'DMAP1', 'CPT1B', 'SNAP23', 'PHF23', 'THOC7', 'TFDP1', 'CEP72', 'RLBP1', 'NAA11', 'PBX1', 'MX1', 'TFAP2C', 'ELAVL3', 'GABARAP', 'SPA17', 'GBE1', 'BRIX1', 'VPS26B', 'U2AF2', 'L3MBTL1', 'ZFHX4', 'MROH6', 'SH2D4A', 'DHRS12', 'RMI1', 'TGFBR3', 'APOL2', 'FMN1', 'AMPD2', 'METTL23', 'SLC35D1', 'PEX6', 'TMEM168', 'DCLRE1C', 'TANK', 'ATP8', 'MT1A', 'NREP', 'UGP2', 'CSNK1G2', 'C3orf52', 'MAP1B', 'RPUSD1', 'TSC22D4', 'VAMP3', 'KIAA0930', 'LSM3', 'CWF19L2', 'PLEKHG3', 'OPTN', 'PCDHB14', 'SOX17', 'IDH1', 'DAB2IP', 'L3MBTL2', 'ALDH2', 'PODXL', 'PEX1', 'GPR17', 'TMA7', 'RAP1GAP', 'KIRREL2', 'FOXO4', 'CNOT4', 'NAPSA', 'GPA33', 'MGST1', 'MYOZ1', 'DYNC2H1', 'NAT16', 'SCPEP1', 'SIX5', 'FGFR3', 'MDM2', 'RAB12', 'SPRED1', 'LYPD4', 'IFI27', 'CYP2A24', 'FAM19A4', 'CDC37', 'DNAJB6', 'PLAA', 'XPR1', 'USO1', 'BOD1', 'OXR1', 'PHF7', 'TEAD3', 'RNF126', 'C12orf66', 'ZNF512B', 'BCKDHA', 'AGT', 'ZNF133', 'MIR421', 'MLEC', 'MTA1', 'UBXN6', 'CAVIN2', 'ATP6V0A1', 'ATG7', 'INTS14', 'SOX7', 'ADAM23', 'PTGFRN', 'SREK1', 'IRAK4', 'CMTM4', 'STOML1', 'EGR1', 'TXNDC17', 'ATP1A4', 'LGALS8', 'CAMKV', 'SIVA1', 'ANKRD52', 'ZFAND5', 'EPB41L2', 'AP3B1', 'CDR2L', 'PAGE5', 'PRIM2', 'B4GALT1', 'MCL1', 'C6orf52', 'KLHL18', 'HSPA14', 'PAK5', 'RASGEF1A', 'TREH', 'BACH2', 'E2F3', 'LRRTM4', 'RFESD', 'ZNF567', 'IFI27L2', 'NUP153', 'SEPHS1', 'IGSF1', 'CDCA5', 'KISS1', 'IPO5', 'ACAA2', 'SERPINA5', 'LPGAT1', 'CADM3', 'RFTN2', 'AS3MT', 'RFC1', 'ENC1', 'ZSCAN18', 'TBR1', 'CPED1', 'RAB27A', 'FRA10AC1', 'ZNF217', 'NOL10', 'MNDA', 'CCL19', 'ARFGAP3', 'RTN1', 'CYB5R3', 'DISP2', 'CD81', 'NFATC2', 'MPPED2', 'COBLL1', 'TMEM71', 'GPSM3', 'TAF12', 'SF3B3', 'ATRNL1', 'LIPE', 'FOSL1', 'WDR46', 'SP110', 'KLF11', 'KIAA1191', 'ARMC10', 'GATA3', 'LTBP1', 'UCHL1', 'CRTC3', 'KLK4', 'ARHGEF10', 'TRIM41', 'CCDC153', 'AGGF1', 'SMAGP', 'ETV7', 'FBXO8', 'TSPYL4', 'CD300A', 'BRSK2', 'TMEM131L', 'PKN2', 'FAM178B', 'SELPLG', 'PGP', 'RPH3AL', 'CEP97', 'UBXN11', 'ARFRP1', 'AGO1', 'ARID4A', 'SLIT1', 'TFRC', 'FOXJ1', 'VSTM5', 'STRC', 'CLSPN', 'CAMK1D', 'WDR24', 'MRC2', 'PLSCR1', 'ACSBG1', 'RDH5', 'UBE3D', 'EPB41L4B', 'GPR137', 'KIF1B', 'KCNK5', 'WNK3', 'SKP2', 'CD2BP2', 'EEF1A1', 'CXXC4', 'SYT14', 'TMPRSS11F', 'RNF112', 'ACBD3', 'ANKUB1', 'KBTBD2', 'PDIA5', 'KIAA2026', 'ORMDL3', 'EFCC1', 'LEO1', 'TOGARAM1', 'NFKBIA', 'FCGRT', 'BRD2', 'DLEU7', 'CEP76', 'POLE2', 'SLC12A8', 'TRAK2', 'GPR27', 'CDHR3', 'MICAL2', 'KLF9', 'MCHR1', 'OTX1', 'ARID5B', 'ZNF622', 'TMEM70', 'SERPINI1', 'NAP1L4', 'SYT2', 'LMO2', 'GNE', 'LHFPL2', 'BCL9L', 'FBXL3', 'RTCB', 'TRIM23', 'CPLX2', 'RPLP2', 'BAHCC1', 'PNN', 'SNX27', 'TSPAN12', 'FSTL1', 'TTC8', 'ZCCHC11', 'TRIM55', 'PTGES', 'PSD', 'NME5', 'MBP', 'PSMD14', 'NUP133', 'RASL10B', 'TMEM159', 'CRTC2', 'OAS1', 'FKBP14', 'TMPRSS12', 'ADM', 'ZKSCAN7', 'PTK2B', 'PANX2', 'FABP5', 'CENPT', 'THOC1', 'CLDN10', 'CSF3R', 'TRIP10', 'FUT7', 'AK8', 'CFAP45', 'BEX1', 'FAM163B', 'RIIAD1', 'METTL13', 'OTUD7B', 'COQ4', 'PRMT8', 'RARS2', 'C2CD5', 'XRCC3', 'SLC12A2', 'RGS20', 'SLC2A13', 'SIRT5', 'VAV1', 'LYVE1', 'KLF4', 'EFS', 'UPF3B', 'CDK16', 'ZFP36L2', 'GRM3', 'ABCG1', 'RASAL1', 'CTSA', 'CYBA', 'SPACA3', 'ETS1', 'BCL2L11', 'GPATCH1', 'MDH1', 'OMA1', 'GIMAP6', 'DVL1', 'MACROD2', 'NSMAF', 'PGBD2', 'BPHL', 'SGPL1', 'VWA1', 'FLYWCH1', 'MPDU1', 'AMER1', 'MAP3K1', 'RC3H2', 'OTUD5', 'TMEM207', 'VSIG2', 'BRWD1', 'SLC2A6', 'RMND5A', 'NRROS', 'ARHGEF3', 'RNF19A', 'KIAA1549', 'RIN2', 'HADH', 'HHEX', 'SLC24A5', 'PNPO', 'PTPRO', 'CFAP43', 'NTNG1', 'TAGLN2', 'PTGFR', 'RSPH14', 'NKD2', 'GNL1', 'C11orf65', 'ZNF511', 'ZNF501', 'CDH5', 'CCND1', 'TIMM17A', 'AGR3', 'AIG1', 'UBE2Q2', 'MRPS25', 'ABCA8', 'UFL1', 'EFR3B', 'TNPO1', 'H3F3A', 'CYB5D2', 'ACP2', 'HPGD', 'FGF12', 'GLYCTK', 'TBX19', 'SLC24A3', 'GATM', 'DNAI2', 'PKDCC', 'TRAPPC11', 'EGR2', 'LGALS3', 'GTPBP4', 'UBE2G2', 'IGFBP4', 'TMEM198', 'ABHD4', 'SCN4B', 'ANKRD34B', 'BRCA2', 'EXOSC7', 'TNFRSF25', 'TNNI2', 'MAGT1', 'CLGN', 'TMEM173', 'PELI3', 'CDK2AP1', 'C7orf50', 'SPOCK3', 'DYNLT1', 'NDUFB10', 'HOMER3', 'HNRNPLL', 'CIZ1', 'EBPL', 'RPTOR', 'TPM4', 'SPESP1', 'SLC5A2', 'FBXO32', 'CCDC136', 'COL22A1', 'CASP7', 'TPST2', 'CHRNG', 'CYBRD1', 'ND6', 'CDH2', 'HVCN1', 'NFYA', 'NUDT6', 'SERTAD2', 'USP38', 'ZDHHC14', 'SOX4', 'CHERP', 'NUDT9', 'LRIG3', 'LDLRAD4', 'SFMBT1', 'IL1RN', 'MIB1', 'PYROXD1', 'NDUFA4L2', 'BIRC3', 'TSN', 'G0S2', 'TLR4', 'MYLK3', 'PRUNE2', 'POLD1', 'B4GALNT3', 'MROH8', 'PKP2', 'ZSCAN10', 'ADIPOR2', 'HMG20A', 'LBHD1', 'TMEM216', 'HIPK2', 'CMTM6', 'SLC1A2', 'IFT80', 'CREB1', 'KDR', 'CLEC11A', 'RAB20', 'IRAK1', 'PPM1G', 'TBX3', 'MYOF', 'AP3M1', 'RP1', 'SLC37A2', 'MTOR', 'HLCS', 'CHCHD5', 'PTGR1', 'HELZ2', 'TRAC', 'SLC44A5', 'PFKFB4', 'SDHAF2', 'RCHY1', 'THBS2', 'TSC2', 'COPZ2', 'NRSN2', 'TAC3', 'LZTR1', 'ABCG2', 'POLR1B', 'NTHL1', 'TMEM151B', 'AIM2', 'PSAT1', 'EEF1G', 'PPP2R1A', 'ARAP3', 'S100A2', 'RILPL1', 'NCOA4', 'STAT6', 'ASAP1', 'COL12A1', 'TRUB2', 'TUBA1B', 'NDRG2', 'MGME1', 'USP16', 'CXCR4', 'ZNF626', 'AOX2', 'FOXN2', 'RASSF2', 'TRADD', 'DNAJC22', 'MRPS26', 'ZNF436', 'UBXN7', 'DECR1', 'MEIS3', 'PSTPIP2', 'VPS4B', 'LAMTOR2', 'STON2', 'TESK2', 'UROD', 'ST6GAL1', 'SEZ6L', 'SMG6', 'MYH11', 'DDX17', 'TIGD2', 'GABRG1', 'TMBIM1', 'LGI1', 'GAS1', 'COX20', 'CSTF1', 'MFSD6', 'CFH', 'MGST3', 'CCDC114', 'SULT1C4', 'MED25', 'CYFIP1', 'DENR', 'FGR', 'SLC2A4', 'PLIN3', 'LBR', 'EFCAB6', 'ZNF800', 'AURKAIP1', 'GSTS1', 'COX7B', 'CANT1', 'NDUFA4', 'MTMR14', 'BROX', 'TMEM37', 'SH3GL3', 'ACE2', 'TMEM150A', 'AMPD3', 'BRWD3', 'DUS1L', 'COPS4', 'HAUS6', 'QSOX2', 'SPOP', 'ABCF1', 'EHMT2', 'HEY1', 'WDSUB1', 'MRTO4', 'SEPT4', 'SERF2', 'NGEF', 'IVNS1ABP', 'PPP2R3A', 'ATP10B', 'UHRF2', 'GMPPB', 'SNORD48', 'FSCN2', 'TRIM59', 'INIP', 'GLYATL1', 'PLA2G6', 'ATP6V1G1', 'STMN1', 'MNS1', 'DLGAP1', 'RHCG', 'RPS6', 'ARRDC2', 'TSHZ2', 'ZNF358', 'RBMS1', 'ADAMTS4', 'KIF5C', 'DOK3', 'RPF2', 'WDR7', 'EPB42', 'PLA2G4E', 'MTCH1', 'NAA38', 'LYRM2', 'SLC19A1', 'TRPM6', 'CLSTN1', 'LZTS3', 'FAM3C', 'PLXDC1', 'SELENBP1', 'SCD', 'C2CD4D', 'PRICKLE1', 'SNX12', 'FAM160B2', 'GRIN2D', 'UBN2', 'AGO2', 'SLC11A1', 'LUC7L3', 'MCF2L2', 'RAB5C', 'C5orf51', 'PDK4', 'HTRA1', 'ZDHHC3', 'SLC22A8', 'TDRD7', 'RTFDC1', 'GRWD1', 'DHX36', 'CBL', 'JADE2', 'TEKT1', 'FRMD8', 'CFAP100', 'RASGRP4', 'PIGA', 'MPP1', 'TRAF4', 'FAM81A', 'N4BP1', 'ATXN1L', 'MYO7B', 'YAP1', 'GLI2', 'RNF103', 'UBAP1L', 'UBR2', 'TPMT', 'TYMS', 'STX5', 'GOLPH3L', 'CMTM7', 'IRF2BP2', 'PHF5A', 'ATP13A2', 'RHOBTB3', 'TMEM192', 'TBC1D1', 'ZNF280D', 'CALCB', 'SLC9A9', 'HYLS1', 'ST8SIA1', 'MAP2', 'COX6A2', 'PSD3', 'CNTN2', 'ADAM12', 'PPHLN1', 'MAGED2', 'CASP3', 'SDS', 'TYK2', 'MNAT1', 'RPS6KA5', 'MCOLN3', 'P2RX1', 'ZNF680', 'CPOX', 'SZRD1', 'PEX3', 'EIF2B3', 'ST6GAL2', 'PPP1R3E', 'TACC1', 'GRIK1', 'SIPA1', 'CRB2', 'ARMC12', 'WASF1', 'ACSL5', 'PISD', 'C6orf223', 'ACTA1', 'LGI4', 'ARHGEF12', 'GEMIN5', 'TMEM203', 'PLSCR4', 'DYDC1', 'TMEM59', 'PHYHD1', 'MAP3K11', 'STPG2', 'RAB3B', 'CCDC18', 'ASH2L', 'PITPNM2', 'ZHX2', 'CDK5R1', 'PNISR', 'LRRC32', 'AP2M1', 'GOLM1', 'TMEM123', 'EMC4', 'FLI1', 'TCEA3', 'ZNF784', 'CASC4', 'CRHBP', 'DPY19L1', 'TCF4', 'CD63', 'TBCB', 'FAM222B', 'THSD1', 'ARVCF', 'JOSD2', 'SNX8', 'ZNF688', 'ZGPAT', 'TC2N', 'C16orf89', 'HSD17B10', 'DUSP16', 'LRRC56', 'CACHD1', 'ATL2', 'GALNT17', 'TRIB1', 'CLNS1A', 'DAXX', 'TRIM54', 'KCNIP4', 'RGMB', 'GOSR2', 'ANKRD40', 'SEMA4A', 'ATAD2', 'KCTD16', 'AKTIP', 'LIAS', 'LDHD', 'FUT8', 'INSR', 'TAF3', 'SHISA2', 'ANGPTL6', 'DUSP4', 'EDF1', 'TMEM44', 'ZNF24', 'SHISA9', 'FAM198B', 'COPZ1', 'IHH', 'EMC10', 'FBXO46', 'HOMER2', 'LNPEP', 'SUPT3H', 'GPC4', 'POLR1A', 'DTX1', 'RPL23', 'ZNF138', 'NAA30', 'NIPAL2', 'MRPL18', 'PLEKHA3', 'RIT2', 'ZNF418', 'SLC6A6', 'MRPL37', 'CBX7', 'FABP6', 'FGF11', 'DPH6', 'ABCA7', 'C22orf31', 'COG4', 'TSPAN2', 'MICU3', 'ANGPT2', 'FERMT2', 'FASTKD3', 'TRPA1', 'PTPRCAP', 'IKZF4', 'EXOC7', 'RBM15', 'PCGF3', 'CCDC90B', 'NUP62', 'PICALM', 'TPPP', 'ZDHHC21', 'CDKN2AIPNL', 'SEC22B', 'LIN54', 'RNF121', 'LEMD2', 'UPF3A', 'CUEDC2', 'ATP10A', 'FOXN3', 'CDK14', 'SCLT1', 'SLFN12', 'FOXP3', 'AK3', 'LIN52', 'TMEM206', 'STMN2', 'ZNF366', 'RBM47', 'SC5D', 'LIX1', 'FAM98A', 'GRIA3', 'RAB26', 'METTL14', 'SNCG', 'ZSWIM6', 'RASA3', 'RPL35', 'AIF1', 'TAF13', 'DAPK2', 'INAVA', 'DDX31', 'ANKRD13C', 'ZNF789', 'MRPS6', 'IFT74', 'TTYH1', 'CDCA7', 'CTSC', 'RING1', 'NDRG4', 'PPP1R1A', 'TFPT', 'ZBTB47', 'RAPGEF4', 'RBM15B', 'ITSN1', 'MRVI1', 'AASS', 'MARCH9', 'GNB4', 'ACSS3', 'PPP5C', 'MMP12', 'FXYD6', 'COPRS', 'SDF2', 'CEP78', 'SST', 'PGPEP1', 'FBXL5', 'TOR1AIP1', 'LPP', 'SLC35E3', 'PEG3', 'MTMR11', 'MSI2', 'RBP1', 'ARL15', 'SUMO2', 'TMEM260', 'FAM20C', 'RGS9', 'FAHD1', 'CADM2', 'TMEM167A', 'ENTPD8', 'CEP112', 'SLFN12L', 'GMFG', 'RAD51', 'SDF2L1', 'ARMC5', 'RDX', 'KCTD10', 'SPTBN4', 'STYK1', 'SMPDL3B', 'ACOT12', 'MSMO1', 'CXCL16', 'MT4', 'SLC26A11', 'BUB1', 'MAP4K4', 'TNFSF10', 'IGFBP2', 'PNMA2', 'SPDYC', 'BCL11B', 'ERBB3', 'CENPM', 'LRRC8C', 'PLCH2', 'RPL10', 'TRAM1', 'ZFP3', 'CCDC146', 'AES', 'APOOL', 'TEX10', 'KDM5A', 'LST1', 'RNLS', 'HMCES', 'LRRC4', 'ARL4A', 'LTBR', 'PLA2G3', 'CCL13', 'ULK1', 'TMEM201', 'ZNF831', 'GFOD2', 'ADAM11', 'KDM6A', 'CORO2A', 'PTDSS1', 'COPB1', 'FSTL4', 'ND2', 'FCRL6', 'PPP4C', 'FAM49A', 'TRIM46', 'ELFN2', 'MAGI1', 'BCL9', 'ZNF202', 'PRDX5', 'HCRTR1', 'RNF141', 'METAP1D', 'ARL3', 'PRLR', 'SLCO3A1', 'RNPC3', 'TOB2', 'GATD1', 'GDPD3', 'CXCL11', 'ADARB1', 'SDC2', 'IL17F', 'RNF146', 'TIMELESS', 'FTH1', 'ST6GALNAC1', 'POMP', 'CSNK1A1L', 'EEF1D', 'CEP44', 'RPP30', 'TXNIP', 'PPP3CA', 'IPP', 'EIF4EBP2', 'EGF', 'SH2D7', 'ZNF343', 'HABP4', 'SLC8B1', 'SUSD3', 'CALM3', 'NUP155', 'GFER', 'MED27', 'KIF13A', 'BNC2', 'MTA2', 'PTBP2', 'CALHM5', 'PAM', 'RCAN2', 'HNRNPUL1', 'SIGIRR', 'CAMK2N2', 'CCDC34', 'RXRG', 'PEX16', 'TOLLIP', 'RAB13', 'PER3', 'CARD9', 'XYLT2', 'SNX18', 'PATZ1', 'PGAP2', 'RIMS4', 'ASB10', 'ZNF888', 'CD99', 'VRK3', 'TSR3', 'ADAMTS3', 'SLC7A5', 'PFN1', 'PTBP3', 'FMR1NB', 'FCRL5', 'ACSF2', 'GAMT', 'MYO1D', 'SKIDA1', 'RNPEP', 'CTSW', 'SH3D19', 'CDK2AP2', 'EIF3H', 'XPA', 'TRIO', 'SGPP2', 'TBRG1', 'KCNJ2', 'SPATA19', 'ROR2', 'ITM2C', 'ARNT2', 'KIF5B', 'PLCB3', 'CALML4', 'SPATS2L', 'TIMP3', 'CMIP', 'MAP3K7', 'INPPL1', 'ZNF112', 'DHTKD1', 'CTXN2', 'SLC4A8', 'SLC29A3', 'MLLT10', 'TUFM', 'EMP3', 'ATP2B1', 'DUSP28', 'KCTD15', 'HABP2', 'THEM5', 'ARV1', 'PAK1', 'SCIN', 'LUZP2', 'CHRNA2', 'PIGK', 'NWD1', 'ATP6AP1L', 'CKB', 'ALDH3A2', 'PPP1R1C', 'CLEC16A', 'JMJD6', 'MORN1', 'PAN3', 'SHANK2', 'REPS2', 'UTRN', 'RAB2B', 'THADA', 'FIGN', 'XKR8', 'FRMD4B', 'ZMYND8', 'HEATR3', 'EVA1C', 'TCOF1', 'DSTYK', 'WIPI1', 'ALMS1', 'NRIP3', 'SGMS2', 'TNRC6C', 'MIS12', 'TTLL8', 'MLIP', 'SYCE3', 'TMEM250', 'ALKBH6', 'CRYAB', 'OBSCN-AS1', 'FKBP5', 'C5orf63', 'COQ5', 'DNM1', 'MRPS33', 'NEMF', 'BRINP2', 'ZNF317', 'PTP4A1', 'TM7SF3', 'GPR83', 'SCO1', 'MIOX', 'SPCS1', 'HOXD1', 'HSP90AA1', 'COL5A1', 'PLRG1', 'RNPEPL1', 'SETD3', 'LAMA2', 'NPAS1', 'MMRN2', 'FOLR1', 'SRXN1', 'GSTO2', 'MEF2C', 'PLPPR4', 'GBP1', 'PIGB', 'ACTR3B', 'ENG', 'KIF20B', 'SYPL1', 'GSE1', 'CASTOR1', 'YTHDF3', 'ZNF142', 'CST6', 'STRN', 'RPS6KA1', 'ZEB2', 'HPN', 'AGK', 'LRRC1', 'PADI2', 'ZCCHC8', 'ARFIP2', 'ABHD11', 'MCM3', 'CD86', 'GAPDH', 'MMS19', 'G6PD', 'RRAS', 'BANF1', 'NRXN1', 'FOXF1', 'RIOK1', 'PGM5', 'CNOT1', 'ARHGAP18', 'PATL1', 'CFAP53', 'ZNF182', 'HSPBP1', 'CEBPB', 'HEXIM2', 'CPLX3', 'ABCC10', 'C1RL', 'GART', 'SERPINC1', 'POLDIP3', 'ING1', 'R3HCC1', 'CCDC9', 'ZNF454', 'JRK', 'CDC20', 'CLPB', 'EMC9', 'F3', 'GRID2', 'ID4', 'CPT1A', 'CNGB1', 'ZRSR2', 'MAPK1IP1L', 'GALNT6', 'HACD2', 'PATL2', 'HEATR4', 'SAP30L', 'SLC25A47', 'FAIM2', 'TMEM255B', 'SLCO1C1', 'CMTM3', 'SEMA5A', 'PCGF2', 'HEXA', 'ZNF225', 'SNRPB', 'ACSBG2', 'EPB41', 'AIP', 'CD37', 'CCDC88A', 'FA2H', 'MEIG1', 'PIAS1', 'SRF', 'DBN1', 'NUP214', 'GNAT1', 'DMD', 'SRSF11', 'FAM78B', 'CYP27A1', 'F5', 'CCDC81', 'MTMR7', 'CTNNBL1', 'RAVER1', 'CLDN11', 'NEAT1_3', 'PACS2', 'WDR3', 'RUNDC3B', 'ZNF316', 'C2CD4C', 'VIM', 'ZBTB8OS', 'ALX1', 'SYP', 'CPLX1', 'PSMG4', 'RASSF9', 'TMEM72', 'TTC24', 'PXK', 'PPM1B', 'SF3A1', 'INCENP', 'GLG1', 'ADH6', 'BOLA3', 'DAAM2', 'MRPL53', 'NF1', 'GAS2L1', 'OPHN1', 'OLR1', 'CLASRP', 'FGF7', 'RNF170', 'GLRB', 'NSDHL', 'WDR37', 'NUPR1', 'TSTD2', 'ICAM2', 'B4GALT3', 'RAMP1', 'NDUFV1', 'IMP4', 'LIN7A', 'INPP5K', 'MCAT', 'ZNF35', 'KIF9', 'XPO4', 'NFKBIL1', 'SLC9A2', 'ZNF425', 'ACP4', 'KLHL38', 'ERC1', 'ALDH4A1', 'ACTB', 'SCAF11', 'TEF', 'TMEM270', 'MTUS2', 'PDE5A', 'ZNF285', 'PCTP', 'CSF1', 'UBOX5', 'ZKSCAN1', 'ZDHHC5', 'ZFP57', 'BCL10', 'CFAP44', 'ASPHD2', 'SUPT5H', 'CEP164', 'VPS36', 'KRTCAP2', 'MTFR1', 'KCNIP2', 'ZBTB18', 'IRGQ', 'REM1', 'SLC38A4', 'NDE1', 'MOGAT2', 'MAD2L1BP', 'LINC00116', 'PSMA5', 'USP44', 'CENPB', 'AP3B2', 'TPX2', 'CACNA1G', 'NES', 'CEBPG', 'PLLP', 'KCNE4', 'KCNJ6', 'PPEF2', 'NRM', 'SLC25A18', 'CBFB', 'STAC2', 'CDC45', 'SUN2', 'GABRB3', 'C9orf116', 'TM6SF1', 'NEXN', 'CMC4', 'STK24', 'POC5', 'NETO2', 'LMAN1', 'SPSB4', 'EXTL3', 'CREB3', 'BASP1', 'ELP3', 'SLC30A2', 'BNIP3', 'LYSMD1', 'GANC', 'RHOBTB2', 'SMAD6', 'RELA', 'MYBPHL', 'RAB41', 'KRT17', 'EIF2A', 'DCAF12', 'YIPF3', 'TET1', 'SFXN3', 'CIB2', 'SERPINF1', 'MAP2K1', 'CASKIN2', 'HOMER1', 'MCCC2', 'HOMEZ', 'BEGAIN', 'RUFY4', 'GPR26', 'ZNF57', 'CLSTN3', 'ATP11C', 'FAM53C', 'ELOA', 'PLEKHM3', 'KIR3DX1', 'PDE6C', 'OTOS', 'PHLDA2', 'ABAT', 'SSBP3', 'SLC14A1', 'FER', 'MAD2L2', 'RAB28', 'ABHD13', 'SYNM', 'TMEM121', 'SEZ6', 'ZC3H15', 'ARL16', 'ESPNL', 'HMGN3', 'CAP2', 'ANXA6', 'ERN1', 'DEPDC1B', 'TAB1', 'NUTF2', 'CCDC80', 'RPS29', 'ZNF610', 'APBA1', 'HNRNPU', 'BIN1', 'HAUS1', 'TUBA4A', 'F2R', 'MYO3B', 'PCDH17', 'PRRC2A', 'CCDC51', 'RTBDN', 'KCTD3', 'TGFB1', 'SCYL3', 'DBI', 'TLR7', 'ZIC1', 'DYRK2', 'VAC14', 'MED20', 'RNF215', 'IQCK', 'DOK1', 'KDM1A', 'ANLN', 'DDX46', 'KIF5A', 'PITPNA', 'ZNF783', 'AFMID', 'METAP1', 'HOXB3', 'RAD23A', 'NSUN4', 'GNPTAB', 'LSS', 'YWHAB', 'PID1', 'TPD52L2', 'CCNG1', 'PRSS41', 'NUMB', 'SURF2', 'BACE2', 'PALLD', 'LARP1', 'ERAP1', 'LRRC10B', 'SYNPO2', 'HTRA3', 'RRP8', 'TEX29', 'SLC39A12', 'KNOP1', 'MYL3', 'DCTD', 'RNF5', 'PPFIA4', 'KBTBD11', 'FUT11', 'SOX10', 'CAB39', 'GPR157', 'UCK1', 'PRAG1', 'SDCCAG8', 'ATP1A3', 'BICD1', 'MPL', 'TRAF1', 'DDIT4L', 'ITGAM', 'CDK2', 'ATP2B4', 'TRAPPC9', 'TUBB', 'ZRANB1', 'GAL', 'TMUB1', 'CCDC13', 'ELOVL5', 'DPY19L3', 'SART1', 'ITPR2', 'EPB41L1', 'MAMSTR', 'WIZ', 'RPL37', 'FJX1', 'DSG3', 'PROX2', 'SYNJ2', 'C9', 'CAMKMT', 'PTPRQ', 'RABGGTA', 'PROC', 'CSRP1', 'FBXW11', 'SMIM15', 'TRAPPC3', 'DOCK10', 'RAD50', 'NDST1', 'SPRYD4', 'CTHRC1', 'CBX5', 'CORO1B', 'CBX6', 'RSPRY1', 'LMO3', 'USP47', 'CDH9', 'UMAD1', 'ZNF114', 'ASB11', 'UGT8', 'GARNL3', 'DRC7', 'ADAP1', 'ZFP64', 'GRTP1', 'TTI2', 'SREBF2', 'ARF6', 'DRAP1', 'ARL6IP4', 'CLASP2', 'MCAM', 'MCC', 'PTCD2', 'UNC5B', 'UTP23', 'FAM172A', 'RBPMS', 'TRIM24', 'IQCF1', 'USP2', 'LYN', 'TEX261', 'TMEM169', 'COPS7A', 'JCHAIN', 'KCNRG', 'FOXH1', 'CXorf36', 'PTPRC', 'MRAS', 'OCIAD2', 'GRB14', 'GMIP', 'RIMS1', 'NPHP1', 'MARCKSL1', 'KCNQ5', 'SMARCD1', 'MIER1', 'FUCA1', 'TPT1', 'ZNF440', 'PRKCD', 'MRC1', 'CACNG4', 'MKNK2', 'RTKN', 'FXYD1', 'SLC22A17', 'ADAP2', 'S100A4', 'EVC2', 'GAB1', 'IQCJ-SCHIP1', 'PIANP', 'SOX2', 'POLDIP2', 'G3BP2', 'ZNF564', 'TMEM52', 'MOGS', 'CFLAR', 'DTNBP1', 'AIMP1', 'DNAJA1', 'ZNF263', 'GPSM1', 'DYRK4', 'MREG', 'CYP3A43', 'NAV2', 'TSTA3', 'FAM189A2', 'RASGRP3', 'CLRN2', 'HINT3', 'HSPB8', 'NRP2', 'WHAMM', 'SFRP1', 'ORC4', 'KIAA1644', 'PSMC3', 'NCEH1', 'RBM39', 'PCBP4', 'GLT1D1', 'MED19', 'B3GALT2', 'ITGA6', 'TRIM2', 'RXFP2', 'GSR', 'ETV4', 'SRPK1', 'RGN', 'TREM2', 'EOGT', 'TTC3', 'BCAT2', 'ZNF75D', 'ADI1', 'CRCP', 'BAG6', 'KRT5', 'NKD1', 'ND3', 'TAL2', 'SUCLG1', 'MATK', 'UPB1', 'DHX9', 'BRMS1L', 'ARMC4', 'YEATS4', 'ARHGAP24', 'RUBCNL', 'UBE2A', 'NLRP4', 'DCUN1D3', 'ELF2', 'PPP1CC', 'SLFN13', 'ACSL6', 'CLIC1', 'SERPINA1', 'SHOX2', 'NCDN', 'GABRA1', 'TTI1', 'REC8', 'MAFG', 'PTPRU', 'AOAH', 'AKAP8', 'FCN2', 'SLC29A2', 'HNRNPH3', 'SAC3D1', 'DSN1', 'VSIG10L', 'CDON', 'EIF3E', 'FARS2', 'SIGLEC1', 'IZUMO2', 'SOCS1', 'TNNC1', 'MYBL2', 'NFKBIB', 'CTNND1', 'ENO3', 'LDLRAD2', 'DNAJC2', 'GRM7', 'GAPVD1', 'SNAP25', 'POP7', 'EVPL', 'GIMAP7', 'S100A1', 'UNG', 'MAVS', 'SLC27A1', 'ALG12', 'TPBG', 'PLK2', 'RTF1', 'GSK3B', 'KANK1', 'ANKFY1', 'MFN1', 'FNDC5', 'SOS2', 'CKAP2L', 'OVOL3', 'WWC1', 'FAM83G', 'SLC6A9', 'TMSB10', 'ACER2', 'PPP1R1B', 'EIF4EBP1', 'IL18R1', 'FDXACB1', 'GPR63', 'STAG2', 'KIAA1755', 'AOC2', 'TAX1BP1', 'KNSTRN', 'OTOA', 'WDR89', 'SGCA', 'SLC8A2', 'ABCE1', 'UBE2D3', 'CEP170B', 'SCARA5', 'ZNRF1', 'KPNA6', 'DLL1', 'PROM1', 'SOBP', 'POU6F2', 'PLA2G15', 'PCED1A', 'CCT4', 'VDAC2', 'ERGIC1', 'MEA1', 'TBC1D24', 'STK3', 'KLHDC1', 'NIM1K', 'ASAP3', 'BNIPL', 'GFOD1', 'FAM217A', 'UHRF1BP1', 'PTN', 'YBX3', 'ZNF253', 'CNR1', 'ZCCHC12', 'NXT2', 'LENG9', 'DNAJB11', 'ADK', 'CTDSP1', 'MORC2', 'PDE9A', 'DZIP1L', 'TMEM208', 'C16H17orf62', 'BCL7C', 'NAGPA', 'IGFBP5', 'TBL2', 'TULP2', 'CFAP221', 'RITA1', 'STRBP', 'SPATA24', 'PIK3R1', 'CERK', 'NDUFB2', 'HACD3', 'LAMA5', 'TMEM108', 'CMAS', 'SPSB1', 'KRBA1', 'IRF2', 'TAF5', 'C20orf204', 'RPL30', 'MAPKAPK5', 'TP53INP2', 'PLEKHA5', 'PFDN5', 'MTMR10', 'RMND5B', 'FXYD3', 'PPP3CB', 'CNTN5', 'SPNS2', 'NCAPH2', 'RNF165', 'DPEP3', 'LRRC29', 'LAMP1', 'CHMP6', 'PCMTD1', 'PTPN18', 'STAB1', 'GPX3', 'RASGRP2', 'CCDC148', 'CENPX', 'CYP2S1', 'ISCU', 'HIC1', 'SUPV3L1', 'ANP32A', 'SPHK1', 'PARVA', 'SLC20A1', 'ARID4B', 'HILPDA', 'DBNDD2', 'TAC1', 'FBXO25', 'MSI1', 'NR2E3', 'SMIM30', 'METTL7A', 'TBX20', 'MED7', 'ERCC2', 'RPL8', 'XPO6', 'ACOX3', 'RAB11FIP4', 'ADIPOR1', 'SFXN1', 'NSG2', 'ARHGAP12', 'TEDC1', 'SPATA5L1', 'ASCL5', 'NDUFA5', 'ANKRD28', 'CAPZB', 'NPM3', 'ZNF503', 'TSPAN17', 'PPP1R10', 'ALDOC', 'AXIN1', 'RSU1', 'B3GALT6', 'ZIC5', 'ORMDL1', 'GMPR2', 'PET100', 'ARHGAP29', 'TAF15', 'LSM4', 'ZNF414', 'GPATCH4', 'IPO8', 'NCKAP5', 'B4GALT7', 'PRRG4', 'THUMPD3', 'BATF3', 'ZNF512', 'CNOT3', 'SAPCD1', 'MTF2', 'CABP5', 'FBXL12', 'SAP30BP', 'GBF1', 'MBD6', 'SLC41A1', 'GUCD1', 'AP5S1', 'MYOM1', 'FBRS', 'CPSF3', 'ZAP70', 'SLC6A2', 'CBR1', 'BTBD2', 'DDX39A', 'GZMB', 'LMOD1', 'POGK', 'LIMS2', 'DDX10', 'RPA2', 'DDHD1', 'ZBTB5', 'CHGA', 'ACAD10', 'PPP1R9B', 'ZNF536', 'SPACA9', 'XPNPEP1', 'PYCR1', 'ELF1', 'CDC42EP3', 'LEF1', 'ENKUR', 'SGPP1', 'PDXK', 'FGF14', 'LRR1', 'STARD13', 'INTS10', 'ACKR4', 'ALPL', 'ZNF689', 'BIRC6', 'CD93', 'ANO7', 'NAPB', 'ELP5', 'TSPAN15', 'NPL', 'HPF1', 'WDTC1', 'PLCD1', 'ZNF750', 'SH3BP2', 'SLC19A3', 'MAPRE2', 'IL33', 'BLVRA', 'ASB7', 'KCTD13', 'SUMF1', 'SMDT1', 'DCAF15', 'CLCN7', 'TTR', 'GAN', 'RPS15A', 'PCBD1', 'ALKBH1', 'RGS14', 'ZC3H4', 'UNC45B', 'MS4A14', 'SPTBN2', 'GRK7', 'ZNF407', 'COX6B1', 'AIFM2', 'PACSIN1', 'TIMM22', 'NUAK1', 'MRM1', 'ACTR6', 'DTX3L', 'CCR2', 'DLEC1', 'CSTB', 'GNG4', 'SEC14L4', 'USP54', 'CDK4', 'RENBP', 'ZNFX1-AS1_3', 'WWP1', 'ZBTB16', 'MLLT6', 'CHST11', 'GPC5', 'GRAMD2B', 'ATG4C', 'MFN2', 'NCR1', 'KBTBD8', 'PHACTR1', 'INTU', 'RGS5', 'CCDC190', 'HPCA', 'SPARCL1', 'VMO1', 'GATA6', 'TMEM164', 'WTIP', 'OPCML', 'GCLM', 'ZBTB45', 'ZNF592', 'ERAL1', 'FSCN1', 'RFWD3', 'SHANK3', 'PALMD', 'SUSD5', 'IFI30', 'ORC2', 'ADAMTS14', 'SOX9', 'ATE1', 'TANGO6', 'CYP4B1', 'HIVEP2', 'UFSP1', 'CRIP2', 'PARK7', 'YARS', 'NEK6', 'ATP1B2', 'SP2', 'VASH1', 'C8orf37', 'EDNRB', 'ATF1', 'EIF5A2', 'CEBPE', 'MIGA1', 'ALOX15B', 'SPACA6', 'SLC2A1', 'ALDH18A1', 'SLC5A8', 'MTUS1', 'CHAC1', 'C17orf67', 'ZNF383', 'SOX5', 'ADCY4', 'ASIC2', 'PRKCZ', 'MAPKBP1', 'SCRG1', 'ZNF32', 'SGO1', 'HIVEP1', 'AKAP9', 'DOCK1', 'TMC7', 'LARP6', 'GLUL', 'ATP13A5', 'TSSK4', 'CIPC', 'ADD2', 'LYAR', 'LINGO1', 'CTNNA3', 'IGSF9', 'DHX29', 'DUSP19', 'ZMIZ2', 'ERG', 'ASB9', 'STN1', 'AMT', 'KDM5B', 'SND1', 'NAPRT', 'ST6GALNAC3', 'TROAP', 'CD34', 'HERC2', 'REXO2', 'DDAH1', 'CCM2L', 'GTF3C2', 'ACPP', 'BST2', 'MAPRE1', 'MAPK4', 'SWAP70', 'DPH7', 'RNF208', 'DDIT3', 'DGKG', 'RAB11FIP2', 'LHPP', 'GLS', 'CPM', 'TBC1D9B', 'NEBL', 'EDIL3', 'APH1A', 'PIH1D3', 'CWC15', 'MRPL44', 'STMP1', 'POMGNT2', 'DDX3X', 'GAS2', 'WNK2', 'AAAS', 'NACC2', 'CNIH2', 'MTBP', 'SMIM22', 'SGK2', 'RIDA', 'CAMK2G', 'GFPT2', 'SSH1', 'FOXJ2', 'RC3H1', 'COG7', 'FIBCD1', 'QARS', 'HERC5', 'PAPD5', 'VWC2', 'THUMPD2', 'HYOU1', 'FMO3', 'PARD3', 'TRNT1', 'ENOSF1', 'QSER1', 'SLC29A4', 'PFAS', 'MRPL39', 'MPHOSPH8', 'SOCS7', 'ZFR2', 'GNB2', 'MRPS31', 'TMEM31', 'DNAJC4', 'CYS1', 'ZNF48', 'ARL2', 'PFDN6', 'B9D2', 'ORC5', 'NBEAL1', 'PRPS1', 'ZMYND15', 'GABRD', 'CUBN', 'PSMC1', 'ING2', 'Mafa-DRA', 'MACC1', 'TAF1D', 'MIEF2', 'CA14', 'DTHD1', 'CTTN', 'ACSL4', 'STARD9', 'TACC3', 'YIF1A', 'RHPN1', 'CYP4V2', 'POLR2G', 'GLIPR1L2', 'RPS6KC1', 'VPS13B', 'RHBDD1', 'YPEL', 'REEP3', 'CMPK2', 'C5', 'VPS39', 'STK26', 'PPFIA2', 'AMMECR1L', 'CACTIN', 'RCN1', 'CDC25A', 'MRPS14', 'MAPK3', 'C1QTNF12', 'SPATA25', 'GTF2IRD1', 'DEGS1', 'LAP3', 'NOSIP', 'CMTM8', 'TOMM40L', 'CYP17A1', 'EPHX3', 'ZNRD1', 'LXN', 'SHOC2', 'MT2', 'LGR6', 'GULP1', 'GNG11', 'ATF7IP', 'CASKIN1', 'ANAPC15', 'DCTN3', 'COL23A1', 'MORF4L1', 'ASPSCR1', 'EHD1', 'BIN3', 'CCDC92', 'SH3BGRL2', 'TNFAIP6', 'KCNH3', 'PPP4R2', 'VPS45', 'TRIP6', 'FBXW4', 'MAPK10', 'FAM229A', 'MYO18A', 'SLC51A', 'ASF1A', 'KIAA0556', 'TP53I3', 'NXPH1', 'IKZF1', 'UNC5C', 'DOK7', 'TGFB3', 'ZC3H7B', 'TTBK2', 'ATPAF1', 'CCDC28B', 'SKA1', 'LMBR1L', 'AP4S1', 'TNNT1', 'SLC7A6OS', 'TMEM100', 'ARHGAP23', 'TBX2', 'S100A6', 'BMP4', 'C11orf94', 'PPP1R15A', 'PABPC4', 'SMC2', 'MEF2D', 'ABCC4', 'MROH2A', 'GBP2', 'SCGB3A1', 'MMGT1', 'XAB2', 'CORO1A', 'DDAH2', 'OBSL1', 'USP35', 'FBLN1', 'BTBD7', 'ICA1', 'LANCL1', 'CYTH4', 'CYB561A3', 'GLIPR2', 'C6H5orf15', 'GINM1', 'HCLS1'], ['Atp1a2', 'Mrpl2', 'Nt5dc2', 'Sphk2', 'Gart', 'Pam16', 'Commd6', 'Znhit2', 'Guk1', 'Kcng2', 'Rpl22', 'Rec114', 'Sult2b1', 'Cxxc4', 'Eef1b2', '1110007C09Rik', 'Ifitm2', 'Tnfrsf21', 'Disp1', 'Abhd6', 'Kif5a', 'Usp46', 'Rab3il1', 'Ndufa11', 'Slc30a10', 'Ccdc28b', 'Uhmk1', 'Itga9', 'Ddx21', 'Gorasp1', 'Hck', 'Cx3cr1', 'Stxbp2', 'Syt2', 'A230083G16Rik', 'Doc2b', 'Gm19938', 'Prox1', 'Itsn2', 'Nipa1', 'Acan', 'Alg8', 'Snn', 'Yif1a', 'Pdgfrb', 'RP24-156O12.1', 'Tmem123', 'Lsm7', 'Zfp128', 'Rspo1', 'Ncaph2', 'Stk10', 'Dnase1l1', 'Napb', 'Tesk1', 'Vsnl1', 'Sgta', 'Coro2a', 'Emx2', 'Garnl3', 'Cemip', 'Aldoart1', 'Scnn1a', 'Rasa2', 'Slc9a2', 'Vta1', 'Cacnb4', 'Mrpl37', 'Gpam', '1810041L15Rik', 'Nt5c', 'Irf9', 'Ttll8', 'Eif3e', 'Pid1', 'Vcp', 'Ccdc171', 'Shd', 'Copz1', 'Fgfbp3', 'Perp', 'Lrrc75a', 'Gda', 'Pde5a', 'Mrps33', 'Id2', '2810402E24Rik', 'Asxl1', 'Fpgt', 'Rfng', 'Gt(ROSA)26Sor', 'Abcd2', 'Casp6', 'Chd3os', 'Panx2', 'Tmcc3', 'Appbp2', 'Npy', 'Gpr89', 'Tgs1', 'Aox1', 'Trafd1', 'Aim2', 'Fam131a', 'Ehmt1', 'Rnf41', 'Tyrobp', 'Col9a3', 'Tmem136', 'Yjefn3', 'Slc35g1', 'Slc35b4', 'Wbp1', 'Rnf32', 'Primpol', 'Mrpl35', 'Fhdc1', 'Ebag9', 'Nol10', 'Ap1s1', 'Kcna4', 'S1pr2', 'Tmed3', 'Vars2', 'Shisa4', 'Fads3', 'Gstm4', 'Rmnd5a', 'Ndufaf2', '2310036O22Rik', 'Trim59', 'Mfsd1', 'Snrnp48', 'Med6', 'Adnp2', 'Rsf1', 'A230056P14Rik', 'Pcna', 'Gas6', 'Apool', 'Mfap3', 'Ezh2', 'F2r', 'Bmf', 'Zfp865', 'Cops5', 'AI464131', 'Bmp6', 'Slc12a7', 'Mtrr', 'Slc25a14', 'Dpp7', 'Ywhaq', 'Vamp5', 'Cdk5r2', 'Ing5', 'Eif3f', 'Crtap', 'Gga1', 'Smek1', '1700003M07Rik', 'Slc44a2', 'Etv6', 'Edem2', 'Arhgap27', 'Rit2', 'Stard7', 'Slc43a2', 'Cd164', 'Cd44', 'Itga1', 'Hhatl', 'Trp53i13', 'Clgn', 'Isoc1', 'Fxyd2', 'Strbp', 'Gabarap', 'Scn8a', 'Nup210l', 'Papss2', 'Tmem64', 'Pecam1', 'Gm16758', 'Zbtb17', 'Daam1', 'Cdk13', 'Dimt1', 'Arfgap1', 'Polr2i', 'Ccdc174', 'Rnasel', 'Glt8d1', 'Nme5', 'Coq5', 'Atp2b4', 'Toe1', 'Rnpep', 'Litaf', 'Zfp946', 'Otud5', 'Phactr1', 'Nek6', 'Rsu1', 'Rora', 'Trp53', 'Wnk1', 'Ccnyl1', 'Rps19bp1', 'Prep', '2410004P03Rik', 'Rpl7', 'Rpl38', 'Polr3b', 'Ttll11', 'Galnt12', 'Arhgef26', 'Slc52a2', 'Itih5', 'Katna1', 'Ppfia2', 'Hmgcl', 'Polr3k', 'Fut8', 'Slc26a11', 'Ccnd3', 'AA415398', 'Hmgcll1', 'Chst1', 'Foxn3', 'Tacc1', 'Sart3', 'Pmvk', 'Nat14', 'Fads2', 'Phf5a', 'Gstk1', 'Fam53c', 'Rassf9', 'Fcor', 'Qsox1', 'Htra3', 'Ralb', 'Serpinb1b', 'Mrpl48', 'Lars2', 'Aldh1a2', 'Gga3', 'Scpep1os', 'Hacd3', 'Pole3', 'Dzip1l', 'Gimap6', 'Large', 'Tmem62', 'Tmprss5', 'Spsb4', 'Wasl', '0610043K17Rik', 'Abhd13', 'Lrig3', 'Inhba', 'Igkc', 'Opa3', '4931428F04Rik', 'Ogn', 'Galnt4', 'Col9a2', 'Ddx41', 'Nptx1', 'Gtf3c6', 'Ran', 'S1pr1', 'Pou6f1', '8430408G22Rik', 'Serping1', 'Snrpb2', 'Brox', 'BC048403', 'Nbea', 'Susd2', 'Pnck', 'Kctd8', 'Dlgap4', 'Mcm4', 'Grik2', 'Armc5', 'Gm26782', 'A430046D13Rik', '1700008J07Rik', 'Brinp2', 'Cnbd2', 'Iffo1', 'Pfkfb4', 'Rfwd3', 'Mllt6', 'Mrps6', 'Hsd11b1', 'Hilpda', 'Gm11808', 'Fech', 'Mark2', 'C330007P06Rik', 'Slc7a5', 'Abcg2', 'Fgf12', 'Ung', 'Tob2', 'Ltbp1', 'Zswim4', 'Txndc12', 'Gapvd1', 'Pfdn5', 'Rnd1', '1700001L19Rik', 'Cep72', 'Gm29367', 'Dennd4b', 'Adgrg2', 'Myo1d', 'Ano10', 'Aifm2', 'Slc22a8', 'Polrmt', 'Sepw1', 'Plekhh1', 'Pdlim3', 'Tex10', 'Arhgdig', 'Slc2a12', 'Klhdc4', 'Tspan12', 'Morc2a', 'Nrg3', 'Slc29a2', 'Tbc1d15', 'Csf1', 'Gnl3l', 'Kxd1', 'Plekhg1', 'Ift172', 'Vamp3', 'Nit2', 'Pcbd1', 'Phf23', 'Lin52', 'Med16', 'Pxn', 'Bloc1s5', 'Ppp1r32', 'Sfi1', 'Pald1', 'Ipp', 'Fkbp15', 'Inip', 'Aldoc', '2810428I15Rik', 'Farsb', 'Meg3', 'Ywhaz', 'Kif22', 'Mtmr14', 'L3mbtl1', 'Kcnip4', 'Recql4', 'Atg7', 'Aldh2', 'Slc35c1', 'Strn', 'Ddt', 'Rab3a', 'Pth1r', 'Rpl31', 'Sox12', 'Srp19', 'Il1rap', 'Stard10', 'Sema6a', 'Tubb5', 'C1qtnf6', 'Psmb5', 'Ethe1', 'Gm9938', 'Ppp5c', 'Tmcc2', 'Pnpo', 'Plcb3', 'Capn2', 'Zdhhc14', 'Vat1', 'Tppp3', 'Cuta', 'Rps6ka1', 'Dgkg', 'Gm13446', 'Col18a1', 'Tmem144', 'Dact3', 'Coro6', 'Mad2l2', '2610002M06Rik', 'Clec5a', 'Agap2', 'Bid', 'Sf3b4', 'Ttll3', 'Rasd2', 'Naa50', 'Polr3d', 'Polr2d', 'Ptpn18', 'Isyna1', 'Map10', 'Wdr93', 'Mapk6', 'Tnfaip3', 'Tada2b', 'Heatr3', 'Tgfbr3', 'Eps8', 'Lgi2', 'Sh3rf1', 'Igfbpl1', 'Stk26', 'Phyhipl', 'Ing2', 'Ncam2', 'Mrpl55', 'Lss', 'Mettl5os', 'Pam', 'Scaf4', 'Rab11fip2', 'Adcy3', 'Rpl29', 'Kifc3', 'Ndufa2', 'Dpy19l3', 'Bean1', 'Fbxo46', 'Prps1', 'Sesn1', 'Prr12', 'Faim2', 'Cep44', 'Usp47', 'Npr2', 'Cxx1a', 'Smim14', 'Jmy', 'Brca2', 'Fam149b', 'Ebpl', 'Fbl', 'Rdx', 'Lrrc8c', 'Cdkn2d', 'Peli3', 'Mrps24', 'Chd7', 'Cacna1e', 'Aup1', 'Tcea2', 'Stk11ip', 'Il31ra', 'Sqle', 'Mcc', 'Cdc40', 'Card6', 'Polr2m', 'Amer2', 'Sobp', 'Gtpbp1', 'Reck', 'Tfrc', 'Rprml', 'Nhp2l1', 'Lipe', 'Thoc7', 'Rap1b', 'Camk1', 'Adamts1', 'Lrrfip2', 'Agt', 'Dpf3', 'Commd1', 'Ostm1', 'Pmepa1', 'Gm29642', 'P2ry13', 'Elac1', 'Dos', 'Mfsd3', 'Ring1', 'Lrrc56', 'Cebpb', 'Gm26787', 'Efcc1', 'Copb1', 'Hnrnpm', 'Car4', 'Amot', 'Aph1c', 'Gm15800', 'Cdon', 'Cmpk2', 'Nedd1', 'Gfpt1', 'Atg4b', 'Zfp64', 'Rps6ka5', 'Rad23a', 'Tmem158', 'Osgep', 'Gnb2', 'Cdk4', 'Usp22', 'Myom1', '4933421O10Rik', 'Abca8b', 'Pik3cd', 'Etv3', 'Mef2d', 'Heca', 'Gprc5c', 'Myh7b', 'Gpatch8', 'Strada', 'Ptk2b', 'Fam13b', 'Aldh4a1', 'Ccdc13', 'Rer1', 'Pdk1', 'Dhcr24', 'Alx4', 'Hacd1', 'Zmym2', 'Zfp106', 'Zfp703', 'Per3', 'A330017A19Rik', 'Eif4e', 'Jmjd8', 'Nudt12', 'Ppp3r1', 'Mtor', 'Unc50', 'Gm10419', 'Sept5', 'Lrrc57', 'Lamp2', 'Nifk', 'Dcaf15', 'Esd', 'Rbfox1', 'Srxn1', 'Neurl1a', 'Atp6v0d1', 'Elmod3', 'Hmces', 'Nbn', 'Grm7', 'Nudt4', 'Bloc1s2', 'Psen1', 'Vash1', 'Sgpp2', 'Ppp1r3c', 'Cobl', 'Rsph9', 'Eef1a1', 'Fcgr1', 'S100a6', 'Clmn', 'Apbb1ip', 'Il18', 'Pkp2', 'Ago2', 'Fam167a', 'Kank1', 'Kif13b', 'Cacng7', 'Wasf1', 'Rnf126', 'Tspan17', 'Msl3', 'Poc5', 'Gnb4', 'Ptgis', 'Nfkbie', 'Lxn', 'Klhl24', 'Neu1', 'Szrd1', 'Zfp457', 'Rec8', 'Hnmt', 'Tpm4', 'Gpr155', 'Rab27a', 'Slc7a6', 'Ppme1', 'Smap2', 'Sod3', 'Clspn', 'Dnajc2', 'Ndufv1', 'Ptprq', 'Picalm', '3110082I17Rik', 'Ttr', 'Ccnj', 'Fam46a', 'Swi5', 'Dtx1', 'AF251705', 'Rnf25', 'Mrps21', 'Smc5', 'Tcp1', 'Trub2', 'Tdrd7', 'Mrps5', '1810055G02Rik', 'Rpl26', 'Zfp931', 'Gm5914', 'Id3', 'Psd3', 'Zkscan4', 'Nthl1', 'Myoc', 'Zbtb5', 'Gls', 'Taf6', 'Npm3', 'Adgre5', 'Cyb5b', 'Lca5l', 'Cst3', 'Las1l', 'Ttyh2', 'Lect1', 'Ccsap', 'Lins', 'Orc5', 'Fam58b', 'Ahcy', 'Mmaa', 'Tmem167b', 'Timm17a', 'Uty', 'Med10', 'Yes1', 'Ccdc82', 'Slc19a1', 'Usp2', 'Gadd45gip1', 'Hipk3', 'Aimp2', '2810455O05Rik', 'Rab3b', 'Sfrp1', 'Adap1', 'Fbxo38', 'Asb8', 'Dtl', 'Dcaf5', 'Fn1', 'Eral1', 'Cyfip1', 'Sparcl1', 'Rgp1', 'C2cd3', 'Fcf1', 'Pde8b', 'Aamp', '9430038I01Rik', 'Myl12b', 'Tmem238', 'Snrk', 'Rnf165', 'Gigyf2', 'Ormdl1', 'Myo1b', 'Pop7', 'Hcls1', '4930444P10Rik', 'Dhx37', 'Btbd10', 'Polg2', 'Rab31', 'Arpc1b', 'Wdr46', 'Gps2', 'Pdzd11', 'Dbndd2', 'Egr1', 'Phf20', 'Eif5b', 'Caly', 'Bhlha9', 'Rnaset2a', 'Prrc1', 'Gm11837', 'Ap3d1', 'Poc1b', 'Iqgap2', 'Rgag4', 'Rc3h1', 'Zfp507', 'Cul9', 'Sag', 'Cactin', 'Epha7', 'Sept10', 'Prr18', 'Sardh', 'H2afv', 'Mtr', 'Cx3cl1', 'Rreb1', 'Znrf2', 'Aida', 'Cdk5rap2', 'Naa30', 'Bnip2', 'Ap2m1', 'Eif4a2', 'Psmd12', 'Cadm4', 'Rpl37a', 'Prdx5', 'Sgk2', 'Degs2', 'Park7', 'Dnajb14', 'Clta', 'Ints10', 'Zfp687', 'Gm38020', 'Gtpbp10', 'Cep126', 'Dok3', 'Camk1d', 'Gm12992', 'Mrpl27', 'Spink8', 'Mrpl41', 'Rps27l', 'Ndufb11', 'Shroom1', 'Actr1a', 'B3galt6', 'Snx29', 'Gtf2ird1', 'Manba', 'Pstpip1', 'Higd1b', 'S100b', 'Fkbp14', 'D330041H03Rik', 'Tax1bp1', '9330162012Rik', 'Rab2b', 'Tns2', 'Det1', 'Ammecr1l', 'Plekhm1', 'Nostrin', 'Cyp4v3', 'Camk2g', 'Mrps16', 'Sh3d19', 'Nppa', 'Exoc5', 'Kcnh5', 'Tmem168', 'Ssr4', 'Vcl', 'Myd88', 'Tbc1d16', 'Edc3', 'Ftl1', 'Pmm2', 'Eif4g3', 'Ash2l', 'Ubqln4', 'Pex3', 'Pdia6', '2810468N07Rik', 'Fhod3', 'Ywhag', 'Zc3h7b', 'NCBP2-AS2', 'E2f1', 'Arl14ep', 'Nanos1', 'C1qtnf4', 'Atp6v0e', 'Gpr37', 'Pmp22', 'Pspc1', 'Sox18', 'Exo5', 'Blnk', 'Zmiz2', 'Cacng4', 'Rexo4', 'Map3k19', 'Nqo2', 'Cox7a1', 'Alpl', 'Meox1', 'Batf3', 'Hnrnpdl', 'S100a16', 'Ubap2', 'Syt16', 'Cops4', 'Lap3', 'Pigf', 'Nipsnap1', 'Ogfod3', 'Necap2', 'Serp2', 'Rgs17', 'A330032B11Rik', 'B4galnt4', 'Tjap1', 'Ltv1', 'Sall3', 'Sdc4', 'Exosc5', 'Zdhhc18', 'Rpl36al', 'Rpf2', 'Nolc1', 'Jund', 'Ccdc160', 'Slc35f2', 'Pabpc4', 'Clybl', 'Rab34', 'Rab1', 'Sh3gl2', 'Tmem203', 'C230037L18Rik', 'Rnf141', 'Klhl14', 'Lysmd3', 'Tcerg1', 'Plcd1', 'Hdac4', 'Nrsn1', 'Homer3', 'Prmt8', 'Abca1', 'Mrs2', 'Efhd2', 'Ctnnal1', 'Zfp300', 'Gm37885', 'Creb1', 'Frs3', 'Scg3', 'Ctxn2', 'RP23-327M1.1', 'Eif5a', 'Tsta3', 'C1ql2', 'Cped1', 'Riiad1', 'Ptges', 'Tasp1', 'Cabp1', 'Dusp16', 'Alkbh4', 'Gm16863', 'Pitpnc1', 'Atxn1l', 'Grn', 'Dpyd', 'Ripk2', 'Scrn1', 'Tap1', 'Actr6', 'Mnt', 'Pex16', 'Gpatch11', 'Idh2', 'Gsk3a', 'Nrxn2', 'Lcmt2', 'Ndufa4', 'Gfod1', 'Tmem201', 'Col12a1', '1700025G04Rik', 'Ap3b2', 'Adam10', 'B930095G15Rik', 'Birc2', 'Camkmt', 'Map3k11', 'Emc10', 'Dlec1', '4933434E20Rik', 'Thada', 'Dfna5', 'Kcnv1', 'Dnm1l', 'Rasgrp2', 'Ephx4', 'Zcchc24', 'Trpm7', 'Sh3bgrl2', 'Gm2061', 'Setd1b', 'Rit1', '1500026H17Rik', 'Ankrd13b', 'Oaf', 'Abi2', 'Dnajc13', 'Ube2g2', 'Nde1', 'Fen1', 'Inppl1', 'Fry', 'B230110G15Rik', 'Slfn2', 'Rpgr', 'Polr3a', 'Polr1c', 'Zfp422', 'Eif3g', 'Rdm1', 'Gm26551', 'Fam78a', '9530082P21Rik', 'Prpf40b', 'Orc4', 'Snhg12', 'Fbxo18', 'Tcn2', 'Fut11', 'Mgst3', 'Spata3', 'Glul', 'Cldnd1', 'Etf1', 'Sypl', 'Memo1', '2410006H16Rik', 'Efnb1', 'Cyp1b1', 'Akap8', 'Bcan', 'Cnot2', 'Gm13844', 'Atp1b2', 'Frmd5', 'Gm26906', 'Tsc22d3', 'Bambi', 'Gca', 'Baz1b', 'Cyb5d2', 'Neu3', '1110001J03Rik', 'Mpst', 'Ephb3', 'Pik3c2b', 'Gtf3c1', 'Fam189a1', 'Ing4', 'Irak4', 'Nedd8', 'Smad6', 'Zpr1', 'Pogk', 'Pxk', 'Pias1', 'Rarg', 'B230323A14Rik', 'Arl16', 'Uqcr11', 'Impa2', 'C130060C02Rik', 'Dlgap3', 'N4bp3', 'Etfdh', 'Nme6', 'Gm20521', 'Klf11', 'Emp2', 'Ier3', '3222401L13Rik', 'Begain', 'Cln3', 'Prdx2', 'Scand1', 'Apbb1', 'Chil1', 'Carns1', 'Atp13a1', 'Lrrn1', '9530036O11Rik', 'Otx1', 'Snx27', 'Rnf5', 'Kcnj13', '4732463B04Rik', 'Shh', 'Csnk1g2', 'Zc3h4', 'Rnf26', 'Fam120c', 'Rbp1', 'Pdpn', 'Tnrc6c', 'Megf6', 'Arhgap4', 'Ano1', 'Clip4', 'Ankib1', 'Becn1', 'Asb13', 'Prr36', 'Isca2', 'Pomgnt2', 'Cenpv', 'Cisd3', 'Mrps26', 'Hpca', 'Fundc2', 'Anp32a', 'Gmnn', 'Nfkbib', 'Ankrd34b', 'Caap1', 'Prkar2a', 'Fnbp4', 'B9d2', 'Hk1', 'Cnot4', 'Dnajc4', 'Hbegf', 'Pnn', 'Nipbl', 'Acad9', 'Pld3', 'Atp10b', 'Srd5a1', 'Gm4980', 'Irf3', 'Osbp', 'Lmo4', 'Asph', 'Stac2', 'Raf1', 'Prrx1', 'Dach2', 'Prpf31', 'Fibp', 'Abcd4', 'Insig2', 'Med19', 'Dph7', 'Lyar', 'Brat1', 'Scrg1', 'Mcur1', 'Sirt2', 'Fuca1', 'Cnn3', 'Fam122b', 'Clstn3', 'Scaf1', 'Enpp6', 'Wwc1', 'Folr1', 'Adcy5', 'Nphp1', 'Plaa', 'Cd68', 'Gm16485', 'Rnf169', 'Rtn1', 'Habp4', 'Intu', 'Ankrd17', 'Ddr1', 'Glmp', 'Anln', 'Serinc1', 'Uhrf1bp1l', 'Gsk3b', 'Rhpn2', 'Catsper2', 'Frs2', 'Pacsin1', 'Actb', 'Bmpr2', 'Ankrd13c', 'Zfand2a', 'Cwc15', 'St8sia1', 'Ubxn7', 'Cul7', 'Mapkbp1', 'Cplx2', 'Rps27a', 'Hist2h3c2', '4933404O12Rik', 'Clpb', 'Tcf7l1', 'Wfdc2', 'Hdac1', 'Plcg1', 'Itpripl1', 'Pkn2', 'Zhx2', 'Anapc13', 'Mrpl51', 'Prepl', 'Smyd3', 'Bin3', 'Elovl5', 'Dnajc19', 'Qtrt1', 'Evc', 'Ndrg4', 'Gm12592', 'Ppm1g', 'Kif9', 'Bzw2', 'Nid1', 'Pomt2', 'Ctnna2', 'Vbp1', 'Olig2', 'Tm7sf3', 'Gm17106', 'Pou3f2', 'Uqcrb', 'Siah1a', '2810407A14Rik', 'Cml1', 'Trnt1', 'Zswim1', 'Trpt1', 'Cd302', 'Myo10', 'Rnf139', 'Sez6', 'Neto2', '2310010J17Rik', 'Shroom4', 'Dab2ip', 'Ifi203', 'Brd3', 'Fam195b', 'Ppfibp2', 'A330033J07Rik', 'Kctd20', 'Lima1', 'Gnmt', 'Rfx4', 'Flt1', 'Cisd2', 'Adgrl2', 'Uhrf2', '6530402F18Rik', 'Atn1', 'Clk3', 'Adarb1', 'Cxx1c', 'Supt6', 'Tppp', 'Ercc6', 'Mycbp2', 'Pold1', 'Rsrc2', 'Mrpl18', 'Wwp1', 'Tysnd1', 'Mgat5', 'Col8a1', 'Sox21', 'Sos2', 'Rapgef3', 'Ccl25', 'Sharpin', 'Smg8', 'Rcn1', 'Taf15', 'Ybx3', '4933407L21Rik', 'Pvrl2', 'Sema6d', 'Cbfb', 'Ppp1r7', 'Abca4', 'Krtcap2', 'Lmo2', 'Vtn', 'Dnaic2', 'Zfp113', 'Gfer', 'Zic3', 'Klhl18', 'Ccdc34', 'Cd53', 'Rps19', 'Tha1', 'Elk4', 'Gnai2', 'Clasp2', 'Hmgn1', 'Ddx10', 'Acpp', 'Wwtr1', 'Cgnl1', 'Mthfsd', 'Bin2', 'Jak2', 'Dagla', 'Tigd2', 'Taz', 'Spata24', 'Irx1', 'Laptm4b', 'Psmc3', 'Psd', 'Timp4', 'Eif3j2', 'Nip7', 'Edf1', 'Mgll', 'Zfpm2', 'Baalc', 'Vamp8', 'Itfg1', 'Srebf1', 'Rcor2', '1700021K19Rik', 'Pla2g16', 'Lbr', 'Ptp4a2', 'Klk6', '2010300C02Rik', '1700023F06Rik', 'Cdh18', 'Bphl', 'Btk', 'Enpp2', 'Tradd', 'Kcnq5', 'Rad50', 'Prkrir', 'Stk16', 'Sgpp1', 'As3mt', 'Insc', 'Slc16a4', 'Rev1', 'Tmem132c', 'Pacsin3', 'Cep41', 'Cox4i2', 'Dock8', 'Rbm47', 'Brip1os', 'Chchd5', 'Snx5', 'Cdkn1b', 'Kdr', 'Evc2', 'Spa17', 'Ehd1', 'Cdo1', 'Specc1l', 'Wnt7a', 'Axl', 'Robo4', 'Abi1', 'Bmyc', 'Cdc73', '6720489N17Rik', 'Calb2', 'Car10', 'Cngb3', 'Gemin8', 'Pglyrp1', 'Smco3', 'Plscr3', 'Cdan1', 'Ccdc127', 'Gdf11', 'Tec', 'Sertm1', 'Khdrbs1', 'Gjc3', 'Pde1b', 'Eif4enif1', 'Nupl1', 'Snx12', 'Mylk', 'Scarb1', 'Fkbp1b', 'Rheb', 'Add2', 'Syk', 'Arid1a', 'Wbp5', 'Dapk2', 'Ppp1r1b', 'Spryd4', 'Dmwd', '2700069I18Rik', 'Cfh', 'Commd4', 'Prkcdbp', 'Luzp1', 'Ogfr', 'Vcpkmt', 'Sdhaf1', 'Tpt1', 'Acadl', 'Ampd3', 'Zic4', 'Sin3b', 'Htr3a', 'Clcn2', 'Tfdp2', 'Cryab', 'Myrf', 'Atp9a', 'Abhd17a', 'Sgpl1', 'Elovl7', 'Gns', 'Wdr4', 'Ctnnbip1', 'Gigyf1', 'Cox6a1', 'Rassf2', 'Arrdc3', 'Pdlim2', 'Sept4', 'Fars2', 'Rai1', 'Gm1673', 'Pax6', 'Srsf11', 'Ezr', 'Snrnp200', 'Pacs2', 'Cpm', 'Lgr6', 'Rgcc', 'Asic2', 'Ylpm1', 'Lancl1', 'Trem2', 'Pkia', 'Asap3', 'Pea15a', 'AI846148', 'Frmd8', 'Rtbdn', 'Ttbk2', 'Stpg2', 'Akip1', 'Polr3e', '2900093K20Rik', 'Prr14l', 'Ube2l3', 'Lrrc73', 'Kat6a', 'Pdgfrl', 'Slc24a3', 'Nptxr', 'Chadl', 'Nop58', 'Cbr2', 'Pdha1', 'Pfdn6', 'Dazap1', 'Zscan26', 'Clec11a', 'Tmem204', 'Nkd1', 'Sertad2', 'Pcolce', 'Gtf2e2', 'Inpp5d', 'Rnf112', 'Gatad1', 'Drc7', 'Prdx6', 'Xpa', 'Tmpo', 'Ctnna3', 'Tab1', 'Rnf144a', 'Hsp90aa1', 'Ptges3', 'Nsf', 'Gli3', 'Rpl28', 'Elavl2', 'Sdccag3', 'Mak16', 'Ttc30b', 'Srsf9', 'Xrcc2', 'Man2b1', 'Trp53rkb', 'Retsat', 'Psme2', 'Smu1', 'Pccb', 'Clstn1', 'Strip1', 'Gm12326', 'Rfc3', 'Jade2', 'Synpo2', 'Max', 'Ankrd36', 'Ar', 'Kcnk12', 'Mettl21a', 'Cd63', 'Gpank1', 'Sema3c', 'Acad10', 'Alkbh6', 'Htra1', 'Tango6', 'Fam63b', 'Lhpp', 'Ube2a', 'Ptrf', 'Stmn1', 'B230354K17Rik', 'Alyref', 'Rnase4', 'Rgs20', 'Atf5', 'Atad2b', 'Myo18a', 'Mrps7', 'Tcta', 'Cep164', 'Cldn10', 'Hipk2', 'Gm960', 'Anxa2', 'Lpin2', 'Ftsj3', 'Ndufaf3', 'Ilkap', 'Arhgef10', 'Elac2', 'Tmem126a', 'Smyd2', 'Patl1', 'Mfsd4', 'Negr1', 'Ints1', 'Nbeal1', 'Shox2', 'Ngfrap1', 'Fam222a', 'Gne', 'Whrn', 'Sgsm2', 'Golga1', 'Usp8', 'Micall2', 'Nhsl2', 'Ophn1', 'Snap91', 'S100a1', 'Smarcad1', 'Gli2', 'Rps6kb1', 'Srrm3', 'Tor1a', 'Kctd3', 'D19Bwg1357e', 'Adarb2', 'Arhgef40', 'Mro', 'Jmjd4', 'Prkcb', 'Snx17', 'Gstt1', 'St3gal4', 'Klhdc8b', 'Yeats4', 'Cul3', 'Upp2', 'Tmem260', 'Adipor2', 'Fxyd5', 'Trpv2', 'Ppp1r37', 'Kctd9', 'Ptdss2', 'Apba3', 'Cby1', 'Zfp160', 'Mr1', 'Iqub', 'Pik3r1', 'Gm28529', 'Tfdp1', 'Fam110b', 'Sypl2', 'Dcdc2a', 'Dstn', 'Sp100', 'Telo2', 'Rbpms', 'Anxa1', 'Fopnl', 'Appl2', 'Prpf40a', 'Scx', 'Rai14', 'Ctdspl', 'Traf3ip2', 'Sh3d21', 'Trim24', 'Zbtb16', 'Ccpg1', 'Aurkaip1', 'Lrig2', 'Lmf2', 'Sephs1', 'Hint2', 'Scd1', 'Capn5', 'Coq2', 'Lpcat3', 'Hibadh', 'Nt5m', 'Trmt44', 'C1d', 'Wnt11', 'Igbp1', 'Foxn2', 'Efs', 'Nars2', 'Zfp639', 'Dnajb4', 'Klf4', 'Dnajc9', 'Tmem80', 'Bex1', 'Chchd7', 'Nacc2', 'Fbxl3', 'Dlx6', 'Wdr83', 'Dph6', 'Aldh7a1', 'Zfp105', 'Slc17a7', 'Grhpr', '4930570G19Rik', 'Ubxn2a', 'Lrrc8a', 'Mapk1ip1l', 'Notch2', 'Slc25a42', 'Nmb', 'Kctd2', 'Dok5', 'Mmd', 'Rbm7', 'Homer1', 'Traf4', 'Per2', 'Ppp3cc', 'Vcan', 'Bcl11b', 'Gab2', 'Rasgrf1', 'Flnb', 'Odf2', 'Tank', 'Rangrf', 'Arfrp1', 'Acvr1b', 'Nup205', 'C2cd5', 'Ppp1r10', 'Rnmt', 'Sapcd2', 'Lrrc16a', 'Fgf1', 'AI854517', 'Sod2', 'Cort', 'Samm50', 'Brsk1', 'Src', 'Pycard', 'Patz1', 'Rpl18a', 'Hyls1', 'Sh2d5', 'Prkci', 'Ripk1', 'Snca', 'Tmem251', 'Ubxn11', 'Apod', 'Mdm2', 'Clec16a', 'Aoc2', 'Sae1', 'Cyp2s1', 'H2-T22', 'mt-Co1', 'Pak1', 'Gm15440', 'Tctex1d2', 'Slc7a8', 'Gm29514', 'Zbtb10', 'Samd5', 'Ppic', 'Rab12', 'Rita1', 'Zfp830', 'Acta2', 'Apol8', 'Siah1b', 'Prune2', 'Katnbl1', 'Abca2', 'Rnf170', 'Gstcd', 'Wdr89', 'Syncrip', 'Rplp2', 'Tmem127', 'Birc6', 'Arl6ip5', 'Fam160b2', 'Smad1', 'Pdzd8', 'Fbrsl1', 'Nek7', 'Sec61a1', 'Gm19426', 'Mrto4', 'Pex14', 'Strn3', 'Ppp2r3a', 'Trim12c', 'Rilpl1', 'Adam12', 'Fbxo8', 'Rraga', 'Ikbkb', 'Smim15', 'Cox7c', 'Padi2', 'Echs1', 'Ppp1r14b', 'Scg2', 'Nub1', 'Cds2', 'Dok7', 'Apba1', 'Rasl12', 'Tmx4', 'Ndufa6', 'Fam133b', 'Grin2d', 'Lamtor2', 'Zfp606', 'Frmd4b', '1110046J04Rik', 'Plch2', 'Klhdc2', 'Gprasp2', 'Trim23', 'Tmem114', '2810001G20Rik', 'Ypel1', 'Sppl2b', 'Tmeff1', 'Pigb', 'Trim30a', 'Zfpm1', 'Itpka', 'Eif6', 'Wapal', 'Pdcd2l', '4933439C10Rik', 'Fra10ac1', 'Dhdds', 'Incenp', 'Lin7b', 'Hpgd', 'Slc27a1', 'Tmcc1', 'Atp5c1', 'mt-Ti', 'C1qc', 'Rapgef4', 'Prmt5', 'Fnta', 'Arhgap32', 'Elf1', 'Cirbp', 'Slc39a12', 'Gm13293', 'Akt1', 'Xrn1', 'Tmem256', 'Hdac8', 'Psmb10', 'Znf512b', 'Prpf38b', 'Parp9', 'Nrn1', 'Abcc8', 'Tma7', 'Epha4', 'Gm2694', 'Dtna', 'Cox6c', 'Pvt1', 'Rph3al', 'Ifnar1', 'Pwwp2a', 'Tvp23a', 'Ankrd32', 'Golm1', 'Ankrd40', 'Pigm', 'Ccdc120', 'Tgfbr2', 'Wipi2', 'Agk', 'Actr10', 'Disp2', 'Enho', 'Rnf111', 'Atg4c', 'Ltbp3', 'Dio2', 'Mapk4', 'Fhl1', 'Ank', 'Cdc42ep3', 'Dcaf6', 'Cyb5r3', 'Ddx50', 'Bicc1', 'Ssbp3', 'Dyrk2', 'Cd14', 'Tm7sf2', 'Atp1a3', 'Klf9', 'Ubxn6', 'Cited1', 'Hook1', 'Adar', 'Pnma2', 'Upf1', 'Rps15a', 'Nxn', 'Sh2b1', 'Hdac5', 'Adipor1', 'Vps72', 'Fam3c', 'Arl4d', 'Cep162', '1110032A03Rik', 'C130046K22Rik', 'Tmem98', 'Gsr', 'Spop', 'Ldlrad3', 'Twf1', 'Pkp4', 'Psph', 'Pik3ca', 'Gm26733', 'Zfp558', 'Bmpr1a', 'Ggcx', 'Mms22l', 'Cyp20a1', 'Tmem176a', 'Ppp1r35', 'Arl10', 'L3mbtl2', 'Nek9', 'Rpl8', 'Trim26', 'Chid1', 'Nadk', 'Dmap1', 'Cdh15', 'Tulp4', 'Hhip', 'Capsl', 'Mysm1', 'Ccdc88a', 'Fbxl18', 'Sec24a', 'Id4', 'Lamtor1', 'Foxp2', 'Trappc9', 'Rpgrip1', 'Lage3', 'Tmem100', 'Efhc1', 'Zbtb45', 'Evl', 'Sep15', 'Gpr61', 'Cmtm3', 'Dgkd', 'Hsd17b4', 'Ssh1', 'Prrc2b', 'Khnyn', 'Nup35', 'Msh2', 'Tomm20', 'Myc', 'Vps26a', 'Sdccag8', 'Sez6l', 'Hcfc1r1', 'Usp13', 'Trip6', 'Scn3a', 'Klhl28', 'Pacrgl', 'Dnajc30', 'Phax', 'Armc7', 'Id1', 'Optn', 'Sh3pxd2b', 'Tomm40l', 'Tfb2m', 'Paip2', 'Sh3bp2', 'Setx', 'Cyth3', 'Zfp775', 'Trpc6', 'Astn2', 'Nat1', 'Mrpl20', 'Gm11974', 'Sco1', 'Uso1', 'Slc6a1', 'Camk4', 'Mthfd2', 'Rad51', 'Hic1', '1500009C09Rik', 'Gal3st1', 'Spon1', 'Lamtor4', 'Ikzf4', 'Nek4', 'Zfp280d', 'Agfg1', 'Nexn', 'Arcn1', 'Lama4', 'Crtc2', 'Mtus1', 'Tpm3-rs7', 'Arv1', 'Aox2', 'Ddx55', 'Hmg20b', 'Mga', 'Stx1a', 'Atp6v1g1', 'Mt1', 'Mat2a', 'Dgat1', 'Rps6ka2', 'Ubn2', 'Git1', 'Kcnj10', 'Tmem216', 'Nfatc2ip', 'Rps15', 'Rpl4', 'Hydin', 'Cd52', 'Cntln', 'Foxj2', 'Clns1a', 'Rexo1', 'Sdf2l1', 'Trmt112', 'Islr2', 'Btd', 'Grid2', 'Hnrnpu', 'Mrpl4', 'Cdh19', 'Mrpl14', 'Hadhb', 'Eng', 'Dnajb2', 'Rasl10a', 'Vps37c', 'Srf', 'Pomp', 'Msx1', 'Fgd3', 'Kcnip2', 'Ranbp3l', 'Dnajc21', 'Nrp2', 'Stard3', '4930451G09Rik', 'D430019H16Rik', 'Homez', 'Fan1', 'Hhex', 'Rhebl1', 'A730056A06Rik', 'Brsk2', 'Ric8b', 'Syde1', 'Tcf4', 'Tmem56', 'Junb', 'Pter', 'Zfp398', 'Mrpl46', 'Atl2', 'Mthfd1l', 'Ano5', 'Calm2', 'Slc9a5', 'M6pr', 'Armc6', 'Tmbim1', 'Gpn3', 'Srrt', 'Cd86', 'Prox2', 'Cry1', 'Thoc3', 'Ceacam1', 'Tyk2', 'Kat2a', 'Ubr2', 'Anks3', 'Traf1', 'Hebp2', 'Axin1', 'Tbl1xr1', 'Pcsk1n', 'Cnr1', 'Arhgap24', 'Zic1', 'Stradb', 'Otoa', '2610035D17Rik', 'Lmod3', 'Ccdc51', 'Gys1', 'Rybp', 'Nek10', 'Fxyd1', 'Rsph14', 'Scyl2', 'Rftn2', 'Arl8a', 'Plcl1', 'Fam120aos', 'Qdpr', 'Lmbr1l', 'Msx2', 'Galnt9', 'Ccdc117', 'Xrcc3', 'Pan3', 'Tnfsf12', 'Tyms', 'Unc5c', 'C230012O17Rik', 'Polq', 'Akt2', 'Wipf3', 'Arxes1', 'Taok2', 'Siglech', 'Rrbp1', 'Cage1', 'Traf3', 'Taf5', 'Cebpa', 'Cchcr1', 'Olfm1', 'N4bp1', 'Cap2', 'Gm9866', 'Ipo5', 'Ly6a', 'Nfkbil1', 'Mien1', 'Smpd1', 'Snd1', 'Vipas39', 'Chgb', 'Glis2', 'Tprn', 'Gnas', 'RP24-317M4.1', 'Sptssb', 'Commd5', 'Uchl1', 'Cdh5', 'Axin2', 'Rars2', 'Fam104a', 'Selplg', 'Fgfr1op', 'Lrif1', 'Zfp280b', 'RP24-230J14.10', 'Gdap2', 'Tom1l2', 'Rbsn', 'Cenpt', 'Mtss1l', 'Ppapdc1a', 'Gpc5', 'Fbxl5', 'Lrpprc', 'Zfp870', 'Atf3', 'Cdc16', 'Lgr4', 'Sdf4', 'Ap4b1', 'Txnl4a', 'Dchs2', 'Gfra1', 'Rab6a', 'Rcbtb1', 'Zdhhc4', 'P4htm', 'Rab13', 'Ppfia4', 'Arrdc2', 'Hopx', 'Anapc5', 'Xpr1', 'Ldhd', 'Aif1l', 'Zc3h18', 'Rpl35a', 'Dock5', 'Hs1bp3', 'Hmgn5', 'Sclt1', 'Dusp19', 'Ppcdc', 'Gm2415', 'Zap70', 'Mta1', 'Pacrg', 'Rpl30', 'Pdp1', 'Wipf2', 'Med22', 'Ly6c1', 'Rapgefl1', 'Brcc3', 'Ifi35', 'Gmppa', 'Rap1gap2', 'Ccdc50', 'Lsm2', 'Usp1', 'Eml1', 'Phactr4', 'Lrrtm4', 'Aspscr1', 'Dock2', 'Pign', 'Arsa', 'Ccdc173', 'Zfp710', 'Rnpc3', 'Ppil6', 'Cdr2l', 'Peg3', 'Ube2ql1', 'Cfap221', 'Kpna6', 'Slc35f6', 'Anxa5', 'Manbal', 'Fstl1', 'Bbs1', 'Pou3f3', 'Dcun1d3', 'Zmym3', 'Stxbp6', 'Mms19', 'Rmst', 'Myo3b', 'Arpp21', 'Thbs4', 'Fkbp5', 'Tmem60', 'Glt1d1', 'Syngap1', 'Plat', 'Smim5', 'Mb21d2', 'Aaas', 'Acta1', 'Tnip2', 'Slc38a5', 'Arhgef2', 'Gsg1l', '1110037F02Rik', 'Dpp10', '2310022B05Rik', 'Rnf208', 'Oxld1', 'Rpap2', 'Snap23', 'Zkscan3', 'Mcts1', 'Farp2', 'Col4a5', 'Zfp831', 'Amz1', '2610318N02Rik', 'Mad1l1', 'Fam53b', 'Srsf4', 'Gfap', 'Atg4a', 'Slc35d1', 'Adrbk2', 'Cbl', 'Nudcd3', 'Suds3', 'Sorcs1', 'Zc3h13', 'Acaa2', 'Fth1', 'Vimp', 'Irf2bp2', 'Haus6', 'Hacd2', 'Slc38a3', 'Gas2', 'Palmd', 'Snx22', 'Btbd11', 'Kdm6a', 'Samd14', 'Abhd11', 'Fam134a', 'Timm8b', 'Tmppe', 'Gm10244', 'Cdc37', 'Cpeb1', 'Cib1', 'Nckap5', 'Taf9b', 'Gm29170', 'Dlx1as', 'Serp1', 'Echdc2', 'Fbxo2', 'Arhgef3', 'Swap70', 'Mtus2', 'Tnip1', 'Hnrnpul1', 'Got2', 'Rhbdd1', 'Fbxo6', 'Rhobtb2', 'Rnf146', 'Suco', 'Ly6e', 'Stau1', 'Kmt2b', 'Amer1', 'Aph1a', 'Foxp4', 'Smyd1', 'Ust', 'Gpbp1', 'Sun2', 'Usp34', 'Ascl4', 'Smoc1', 'Tuba1c', 'Psma6', 'L3hypdh', 'Flcn', 'Gpatch2', 'Dhx34', 'Spred1', 'Dicer1', 'Smox', 'Pin1', 'Paqr4', 'Il1rapl2', 'Otud6b', 'Lman2', 'Ces1d', 'Aldh1l1', 'Kat2b', 'Gcat', '2310022A10Rik', 'Slc7a10', 'Cdk16', 'Tsr3', 'Fbrs', 'Mcm5', 'Plek', 'Map3k1', 'Gsdmd', 'Mtx2', 'Zbtb20', 'Mmab', 'Nampt', 'Gm8730', 'Cxcl12', 'Rap1gap', 'Trps1', 'Nt5dc1', 'Jagn1', 'Fam195a', 'Plcb4', 'Gm20594', 'Pomc', 'Rai2', 'Snap29', 'Mei4', 'Ptpn13', 'Ppp1r3e', 'Gss', 'Auts2', 'Egflam', 'Nr2f6', 'Col4a3bp', 'E430024P14Rik', 'Hexdc', 'Tmem258', 'Ggct', 'Atrnl1', 'Ddah1', 'Cd37', 'Sema4a', 'Capn10', 'Nemf', 'Rpl13', 'Bmper', 'Mroh1', 'Cntn2', 'Ankrd63', 'Cotl1', '9930021J03Rik', 'Vsig2', 'Kitl', 'Sar1a', 'Mon1b', 'Lrrn2', 'Sema4d', 'Wrap53', 'Ube2e1', 'Gpc3', 'Mpnd', 'Pms1', 'Cyp46a1', 'Rnf24', 'Adamts4', 'Coprs', 'Bmp4', 'Mrpl22', 'Prdx3', 'Tnks1bp1', 'Adam19', 'Atp6v1b2', 'Snrnp25', 'Gstm7', 'Ppm1k', 'C1ql1', 'Nr4a2', 'BC051142', 'Dcaf13', 'Scaf8', 'Ddit4l', 'Dtd2', 'Elf2', 'Fiz1', 'Mcm6', 'Cltc', 'Srm', 'Msantd4', 'Isy1', 'Wdfy4', 'Akr1a1', 'Ufsp2', 'Casp7', 'Rdh5', 'Chd8', 'Vstm5', 'Fam107a', 'Rpusd1', 'Acer2', 'Nup155', 'Herc2', 'Ythdf3', 'Creb5', 'Bag6', 'Gatm', 'Sirt3', 'Xpnpep1', 'Pdlim4', 'Gabra1', 'Nudt1', 'Pgf', 'Zfp207', 'Ly86', 'Dda1', 'Baz2b', 'Spire2', 'Sema7a', 'Csnk2a1', 'B230219D22Rik', 'Emg1', 'Decr1', 'Ttc12', 'Spryd3', 'Lrp10', 'Itga7', 'Ptpn1', 'Ppia', 'Spidr', 'Lmo1', 'Gdpd2', 'Erbb3', 'Grp', 'Zfp26', 'Magt1', 'Phc3', 'Atpaf1', 'Def8', 'Ccdc92', 'Cux1', 'Pcyox1', 'Asns', 'Vps4b', 'Lrp4', 'Hemk1', 'Usp3', 'Arhgap33', 'Cmtr1', 'Wash1', 'Crabp2', 'Hfm1', 'Mbip', 'Lrrc28', 'Rnf185', 'Wdr24', 'Mapk10', 'Tmem255b', 'Hcfc1', 'Abcb10', 'Lrmp', 'Notch1', 'Zfp219', 'Smg6', 'Prkd1', 'Dhx9', 'Hrh3', 'Thoc1', 'Gna11', 'Epha8', 'Adamts3', 'Itga6', 'Bahcc1', 'Samd15', 'Dcun1d5', 'Slc25a4', 'Zgpat', 'Jmjd6', 'Slc2a8', 'Kctd13', 'Ppp1r18', 'Cd2bp2', 'Slc2a1', 'Cipc', 'Plekha3', 'Ccdc61', '2700029M09Rik', 'Chuk', 'Qk', 'Plekhf1', 'Mdc1', 'Osbpl2', 'Copz2', 'Cat', 'Mettl6', 'Arrb1', 'Mad2l1bp', 'Dtx3l', 'Ppa1', 'Pak4', 'Tnnt1', 'Slc29a4', 'Hexim2', 'Zfp65', 'Tmem28', 'Slc43a3', 'Malat1', 'Heatr5a', 'Zcchc14', 'Tbx3', 'Il6st', 'Caskin1', 'Epas1', 'Anxa6', 'Vdac2', 'Ss18', 'Trp53inp2', '2310033P09Rik', 'Neu4', '5031439G07Rik', 'Kirrel2', 'Sh3glb1', 'Zfp715', 'Fam213b', 'Gm14582', 'Prom1', 'Stx5a', 'Trmt1l', 'Cox15', 'Mrps31', 'Nsmf', 'Cask', 'Stx12', 'Mgst1', '1190002N15Rik', 'Nudt11', 'Npas1', 'Ppp3cb', 'Eepd1', 'Tnrc18', 'Ndufa1', 'Gpc4', 'Pcmtd1', 'Gpaa1', 'Whamm', 'Mepce', 'Azin1', 'Klhl2', 'Tmem163', 'Rps3a1', 'Churc1', 'Slc4a8', 'Ppp2cb', 'Nfkbia', 'Fzd2', 'Shtn1', 'Tmem63a', 'Siva1', 'Gpr26', 'Nudt16', '5330426P16Rik', 'Trmt10a', 'Lrrc24', 'Kbtbd4', '4930453N24Rik', 'Syne4', 'Acadm', 'Tmem173', 'Cdkn1c', 'Zfp358', 'Cybrd1', 'Gmpr2', 'Cthrc1', 'Pqlc1', 'Zbtb24', 'Lix1', 'Dok1', 'Tead1', 'Commd3', 'Dynlrb2', 'Atpaf2', 'Tgfb1', 'Tti2', 'Mamld1', 'Ntrk2', 'Slc12a6', 'Lpcat2', 'Slc25a36', 'Spag1', 'Gm16754', 'Sec22b', 'Zdhhc5', 'Gm17732', 'Gm10563', 'Vcam1', 'Exosc3', 'Pan2', 'Gm29595', 'Arhgef37', 'Fsd1', 'Suclg2', 'Trim46', 'Lsm11', 'Gm37245', 'Sertad3', 'Prim2', 'Lactb', 'Sec31a', 'Syn2', 'Fbxl21', 'G6pdx', 'Nrros', 'Ankrd52', '1190007I07Rik', 'Rhou', 'Pcp4', 'Crym', 'Rexo2', 'Fli1', 'Fgfr3', 'Msl1', 'Ntsr1', 'Ctps2', 'Rassf1', 'Aph1b', 'Tmem53', 'S100a13', 'Ivns1abp', 'Adap2', 'Polr2b', 'Gjc2', 'Crtc3', 'Ttc28', 'Malsu1', 'Slc22a23', 'mt-Cytb', 'Akap10', 'Fastkd3', 'Trmu', 'Gpr153', 'Pex2', 'Ctsd', 'Camk2a', 'Neurod6', 'Tiparp', 'Itih3', 'Wdr83os', 'Enc1', 'Smg7', 'Zfr2', 'Cck', 'Sst', 'Rock1', 'Asb11', 'Klk8', 'Eps15l1', 'Khdrbs3', 'A330070K13Rik', 'Rps6kc1', 'Spata13', 'Insr', 'Ankfy1', 'Xrcc1', 'Atg2b', 'Ikzf1', 'Myo9b', 'Ptprj', 'Ncald', 'Serf2', 'Cep97', 'Ccdc90b', 'Rad52', 'mt-Tm', 'Rpa2', 'Cfap74', 'Etfb', 'Taf12', 'Dnajb6', 'Recql', 'Ube2f', 'Crip2', 'B4galt2', 'Med28', 'Clip3', 'Aasdh', 'Zc3h15', 'Il17rd', 'Pcyt1a', 'Zbtb7a', 'Shisa9', 'Pcbp1', 'Ptgs1', 'Tfpt', 'Ptpmt1', 'Nop2', 'Pold4', 'Agtrap', 'Pank1', 'Mlec', 'Lonp1', 'Rpe', 'Rnf43', 'Acaa1a', 'Ercc2', 'Selk', 'Ttpal', 'Srek1ip1', 'Clcc1', 'Prkcz', 'Gng12', 'Psme2b', 'Tex40', 'Bloc1s6', 'Gm10863', 'Zkscan1', 'Styxl1', 'Rala', 'Ubox5', 'Igfbp4', 'Fam78b', 'Sugt1', 'Katnal1', 'Rprd2', 'Coro1a', 'Slc20a2', 'Gm15608', 'Sub1', 'Obsl1', 'Pla2g3', '2010204K13Rik', 'Hddc3', 'Rev3l', 'Tmem143', 'Cyp2j9', 'Rpl3', 'Ppp2r5a', 'Rfc1', 'Mtfr1', 'Rap2b', 'Zfyve1', 'Ythdc2', 'Ddx3x', 'Zfp467', 'Ufm1', 'Epsti1', 'RP23-340E6.2', 'Lrsam1', 'Gm4524', 'Bcl11a', 'Slc7a4', 'Use1', 'Psmg4', 'Gm37584', 'Focad', 'Prr5l', 'Gm266', 'Grwd1', 'Cbx7', 'Syne1', 'Igdcc4', 'Sdsl', 'Gtf3c2', 'Mcm3', 'Grin2b', 'Klc1', 'Ptgfrn', 'Fbln5', 'Rtn4', 'Nell2', 'Nudt8', 'Homer2', 'Cep350', 'Atg2a', 'Six5', 'Fyb', 'Zfp51', 'Aldh1b1', 'Lcat', 'Mogs', 'Sf3b3', 'Kazn', 'Gm30238', 'Dusp28', 'Snx8', 'Pex1', 'Zic5', 'Mtmr7', 'Psmg3', 'Sipa1l3', 'Itpr3', 'Enah', 'Stra6', 'Pagr1a', 'Ppp4c', 'AI837181', '6530403H02Rik', 'Fbxo31', 'Dcun1d1', 'Fam188a', 'Rgs16', 'Efr3b', 'H2-M3', 'Ttl', 'Sap30bp', 'Ulk1', 'Gm21984', 'Ablim3', 'Myo9a', 'Ube2b', 'Grtp1', 'Wnk3', 'Phospho2', 'Rpp30', 'Lactb2', 'Mrpl40', 'Camkk2', 'Usf2', 'Taf10', 'Ebf1', 'Elfn2', 'Wdr81', 'Dusp1', 'Endou', 'Doc2a', 'Abca7', 'Kcnip1', 'Mtif3', 'Masp1', 'Haus3', 'Asb1', 'Mbd6', 'Fezf2', 'Tor1aip1', 'Kndc1', 'Sf3b6', 'Gan', 'Unc45b', 'Angpt2', 'Supv3l1', 'Atp6v0e2', 'Atp1b1', 'Cttnbp2nl', 'Cinp', 'Zdhhc21', 'Dus4l', 'Mlip', 'Grm3', 'Atp6v1c1', 'Zdbf2', 'Umad1', 'Evi5l', 'Mettl7a1', 'Hlcs', 'Rps18-ps3', 'Zfp101', 'Ankrd13a', 'Kin', 'Tbrg1', 'Pikfyve', 'Deaf1', 'Lgi3', 'Vti1b', 'I830077J02Rik', 'Dync2h1', 'Zfp385b', 'Rtn3', 'Tmem134', 'Etv5', 'Anp32e', 'Iqsec1', 'Eid2', 'Trap1', 'Pnpla2', 'Fam107b', 'Tmem229a', 'Slc25a1', 'Atf2', 'Gstm1', 'Mphosph8', 'Zfp652os', 'Slc6a20a', 'Maneal', 'Dusp18', 'B4galt7', 'Ocel1', '4931423N10Rik', 'Sidt2', 'Plin3', 'Rpl6', 'Map4', 'Gm4258', 'Prickle1', 'Fes', 'Pus3', 'Aes', 'Ttc21a', 'Htt', 'Aagab', 'Snrnp35', 'Fign', 'Vps45', 'Rims3', 'Lrch3', 'Exoc7', 'Baiap2', 'Tmem14c', 'Trim41', 'Kif3c', 'Drc1', 'Gm15564', 'Aass', 'Prcp', 'Gmppb', 'Xylt1', 'Arhgef28', 'Morc2b', 'Cept1', 'Bicd1', 'Lats1', 'Wdr78', 'Mapk1', 'Zdhhc17', 'RP24-487F9.4', 'Dbn1', '1700001G11Rik', 'Kif5b', 'Cdkn2aipnl', 'Ppp1cc', 'Hdhd2', 'Ccr5', 'Irak1bp1', 'Pik3r4', 'Hnrnpa1', 'Slc7a6os', 'Ccdc58', 'Ccdc146', 'l7Rn6', 'Rbm38', 'Maml2', 'Elp3', 'Lrp12', 'Plekhm3', 'Fasn', 'Chtop', 'Gm14169', 'Dock6', 'Smc2', 'Phb2', 'Tbc1d19', 'Aifm3', 'Phactr2', 'Zfand1', 'Fggy', 'Palld', 'Ndst1', 'Mettl13', 'Ppp1r15a', 'Mmadhc', 'Ndufa9', 'Iscu', 'Timm22', 'Abcf1', 'Trip11', 'Aldh1l2', 'Pygb', 'Slc38a9', 'Cachd1', 'Ddx17', 'Stag2', 'Casp9', 'Efr3a', 'Fscn1', 'Mthfd2l', 'Kcnc2', 'Ankub1', 'Gas2l1', 'Zfp60', 'Gng7', 'Btg2', 'Srebf2', 'Glg1', 'Fam210b', 'Cfap45', 'Zfp804b', 'Tmem240', 'Gm561', 'RP23-307L24.2', 'Hnrnph3', 'Myl9', 'Cnot3', 'Gm17036', 'Net1', 'Pdlim5', 'Apoc1', 'Wdr3', 'Mif4gd', 'Ctu1', 'Ksr1', 'Acbd6', 'Mgrn1', 'Vav1', 'E4f1', 'RP24-317M4.6', '4930452B06Rik', 'Tead3', 'Reps2', 'Emc9', 'Ube2cbp', 'Smim13', 'Tstd2', 'Ncs1', 'Zfp882', 'Pla2g6', 'Psmc4', 'Slc25a26', 'Tmub1', 'Tmem169', 'Hey2', 'Znhit6', 'Palb2', 'Synm', 'Dynll1', 'Sec24c', 'Ets1', 'Fbxo25', 'Sox10', 'Mbp', 'Smap1', 'Slc7a1', 'Hsf4', 'Mavs', 'Fbxl16', 'Gap43', 'Cacna1i', 'Trappc6b', 'Erg', 'Trappc1', '1700123O20Rik', 'Nup160', 'Hps1', 'Rspry1', 'C1qbp', 'Cep83os', 'Tufm', 'Arf2', 'Dmd', 'Chek2', 'Atp13a5', 'Slc9a9', 'Rab36', 'Mtmr10', 'Wac', 'Tgfbr1', 'Agmo', 'Angptl6', 'Dram1', 'Zdhhc1', 'Naprt', '1700112D23Rik', 'Atp6v1g2', 'Dzip1', 'Galm', 'Kdm5a', 'Sox5', 'Bcl9l', 'Cr1l', 'Vapb', 'Ostf1', 'Glipr2', 'Cdk2ap2', 'Commd9', 'Ccdc148', 'Fam19a5', 'Rps11', 'Map9', 'Atp2b2', 'Fndc5', 'Sema5a', 'Cdc25a', 'Gyg', 'Uri1', 'Slit1', 'Adhfe1', 'Acbd7', 'Mpp4', 'Trappc2l', 'Supt4a', 'Nup62', 'Ccni', 'Fabp3', 'Scyl3', 'Itgam', 'Klhdc7a', 'Zbtb44', 'Vwa5b1', 'Zcchc8', 'Rhobtb3', 'Dynlt1a', 'Ndufa10', 'Exosc8', 'Hrsp12', 'Pgm5', 'mt-Rnr2', 'Ndufaf4', 'Kctd6', 'Rab24', 'Tlr3', 'Megf8', 'Acvrl1', 'Sec63', 'Lims2', 'Rptor', 'Cadm2', 'Clcn7', 'Coq4', 'Kit', 'Smdt1', 'Hs3st5', 'Mapkapk2', 'Sfxn1', 'Sv2b', 'Camk2n1', 'Hspb6', '2810410L24Rik', 'Gab1', 'Cmtr2', 'Gm19412', 'Cldn5', 'Mad2l1', 'Chst9', 'Crem', 'Rnf19a', 'Zfp800', 'Kdm2a', 'Spns2', 'Pipox', 'Git2', 'Traf3ip1', 'Gse1', 'Zfp407', 'BC028528', 'Med20', 'Havcr2', 'Ednra', 'Cyp4f15', 'Ccdc181', 'Cerk', 'Map2k1', 'Oprl1', 'Als2', 'Snapin', 'Hcn1', 'Ormdl3', 'Wnt7b', 'Gabbr1', 'Cyba', 'Pim2', 'mt-Tv', 'Nes', 'Stat6', 'Zfp655', 'Polr3gl', 'Chchd3', 'Trio', 'Inafm2', 'Lsm10', 'St3gal1', 'Ebf4', 'Alkbh1', 'Adam9', 'Daam2', 'Dlx1', 'Pdcd6ip', 'Zfp638', 'Dusp4', 'Otud3', 'Agpat3', 'Tox', 'Arhgap42', '1700037H04Rik', 'Rbck1', 'Tbc1d5', 'Zkscan17', 'Hcn3', 'Mtmr6', 'Gdpd3', 'Tcf7', 'Spats2l', 'Usp54', 'Neurl4', 'Sema3b', 'Birc3', 'Cdk5rap3', 'Raph1', 'Zxdb', 'Cbr1', 'Sipa1', 'Kif1a', 'Podxl', 'Egr2', 'Ccl27a', 'Cdhr3', 'Efemp2', 'Arap2', 'Cuedc2', 'Ppp1r16a', 'Itm2c', 'Upf3b', 'Cystm1', 'Smcr8', 'St6galnac6', 'Gm10658', 'Dgkz', 'Sp2', 'Eif2s1', 'Slc8a3', 'Abcb6', 'Knstrn', '9430015G10Rik', 'Trappc4', 'Cog2', 'Mzt2', 'Fkbp1a', 'Sox9', 'Atxn7l1', 'Eif3h', 'Map1b', 'Nhlh1', 'Pde1a', 'Arvcf', '6030443J06Rik', 'Edn1', 'Secisbp2', 'Cep128', 'Txndc15', 'Orc2', 'Tsc22d4', 'Stk3', 'Fam192a', 'Osbpl9', 'Igfbp5', 'Cops7a', 'Pclo', 'N28178', 'Wfs1', 'Sccpdh', 'Col23a1', 'Uqcrq', 'Supt3', 'Thsd1', 'Nsg2', 'Clic4', 'Fabp7', 'Pqbp1', 'Mier1', 'Mecom', 'Ints5', 'Fbxo5', 'Bcl7c', 'F730043M19Rik', 'Nnat', 'Efhb', 'Mcph1', 'Spata2', 'Mtx1', 'Mag', 'Mib1', 'Eogt', 'Dcaf4', 'Aspdh', 'Cfl1', 'Snhg6', 'Wdhd1', 'Hnrnpd', 'Cad', 'Snapc2', 'Kiss1r', 'Ypel5', 'Bola1', 'Hey1', 'Ppp1r3g', 'Gpatch4', 'Ninj2', 'RP23-37I24.1', 'Gpr150', 'Mllt10', 'Ttc4', 'Snx21', 'Mvp', 'Prkcd', 'Ccnl2', 'Ift80', 'Mvk', 'Aqr', 'Npepl1', 'Tm6sf1', 'Strn4', 'Ccdc159', 'Ywhah', 'Hadh', 'Itgb1', 'Micu3', 'Adamts9', 'Asnsd1', 'Glud1', 'Dhx29', 'Neto1', 'Otud7a', 'Rps10', 'Zfp444', 'Npl', 'Dazl', 'Slc8a2', 'Acbd5', 'Gm10964', 'Gm26982', 'Adk', 'Mical3', 'Ccdc107', 'Mtf1', 'Lppos', 'Purb', 'Slc25a17', 'Ube2o', 'Gclm', 'Vegfc', 'Arid2', 'Ankrd28', '9130019P16Rik', 'Adamts5', 'Klf15', 'Haus1', 'Brix1', 'Ugt8a', 'Aacs', 'Cox7b', 'Snrpd1', 'Plekhg3', 'Ash1l', 'Clec2l', 'Rnf217', 'Fxyd6', 'Ap1g1', 'Lum', 'Mob1a', 'Zfp879', 'Chac1', 'Nf2', 'Hsdl2', 'Nckap1l', 'Rhpn1', 'Mid2', 'Slc35a4', 'Adh1', 'Ldlrad4', 'Gm13111', 'Pknox1', 'Mrps25', 'Atp6ap1l', 'Ints12', '1600002K03Rik', 'Tnfrsf19', 'Rab27b', 'Rimbp2', 'Dhrs3', 'Cdk14', 'Il11ra1', 'Erc1', 'Lmo7', 'Esam', 'Atp6v0a1', 'Sstr1', 'Chd1l', 'Oma1', 'Epb4.1l2', '2610020C07Rik', 'Gm527', 'Ammecr1', 'Pdik1l', 'Tspan3', 'Secisbp2l', 'Rnf115', 'Zrsr2', 'Bbox1', 'Pggt1b', 'Denr', 'Heph', 'Man1b1', 'Gm14443', 'Alg1', 'Ldah', 'Lysmd4', '4930447C04Rik', 'Sumf1', 'Tjp2', 'Ppp1r9b', 'Iqck', 'Slc22a15', 'Rabggta', 'Skp1a', 'Gstp1', 'Kctd16', 'Lta4h', 'Chmp7', 'Tsc2', 'Stx2', 'Myh14', 'Vhl', 'Lsm1', 'Chordc1', 'Timm17b', 'Gpatch1', 'Icam2', '4933431E20Rik', 'Zfp217', 'Nr2c2ap', 'Unc5b', 'Fam20a', 'Sptbn4', 'Ccdc25', 'Dtx3', 'Ppil4', 'Itgb3bp', 'Hspe1', 'Mgat3', 'Ginm1', 'Leng1', 'Tbc1d1', 'Tmod3', 'Sri', 'Hivep3', 'Kdm1a', 'Ddx46', 'Dock1', 'Sptbn2', 'Tmsb4x', 'Eef2kmt', 'Txnip', 'C130074G19Rik', 'Pld1', '6820408C15Rik', 'Cenpm', 'Mobp', 'Tm9sf3', 'Plod2', 'Npc1', 'Rgl2', 'Mafb', 'Adamts10', 'Trove2', 'Rnf168', 'Gria2', 'Wdr36', 'Des', 'Nrbp1', 'Senp2', 'Tmem205', 'Sema4c', 'Fcgrt', 'Samd1', 'Gm21967', 'Dnajb11', 'Glcci1', 'Lrrc32', 'Csf1r', 'Xpo4', 'Psat1', 'Mxd4', 'Sec16a', 'Ak5', 'Pms2', 'Pced1b', 'Ppp2r1b', 'Usp42', 'Ccdc12', 'Prr5', 'Rnf220', 'Ttll12', 'Poli', 'Stab1', 'Pnmal2', 'Vwa1', 'Terf2', 'Flt3', 'Lair1', 'Synpr', '3110070M22Rik', 'Prpf3', 'Nsun3', 'Luc7l3', 'Tgoln1', 'Gm26668', 'Ccs', 'Itm2b', 'Mapre2', 'Iqcb1', 'Tuba4a', 'Tmem138', 'Tmem198', 'Cox10', 'Zc3h10', 'Susd6', 'Adra2c', 'Rras', 'Cldn11', 'Dip2b', 'Cd99l2', 'Amn1', 'Ino80', 'Stk24', 'Syt5', 'Pitpna', 'Fbxo32', 'Egfl6', 'Gm26694', 'Tpd52l2', 'Nsmce1', 'Ndufaf7', 'Fancc', 'Ptgds', '9330151L19Rik', 'Fancf', 'Rcan3', 'Tgfb3', 'Galnt6', 'Mbnl1', 'Gm15728', 'H2afj', 'P2ry12', 'Gria1', 'Tecpr1', 'Sptssa', '2900052N01Rik', 'Tsc22d1', 'BC030500', 'Mpp2', 'Ncdn', 'Rad51d', 'Acss1', 'Fkbp10', 'Mmd2', 'Ntng1', 'Rbm43', '1110038F14Rik', 'Pou6f2', 'Rbm5', 'Zswim6', 'Necab3', 'Ncoa6', 'Coro1b', 'Pfn4', 'Glt8d2', 'Sfxn3', 'Rnd2', 'Pkig', 'Sacs', 'Mnat1', 'Serpinf1', 'Abcc4', 'Ccng1', 'Mllt3', 'Fam193a', 'Nipa2', 'Tspan4', 'Ctnnbl1', 'Pmm1', 'Rpp25', 'Fstl4', 'Rps25', 'Prlr', 'Mfap1a', 'Ccp110', 'Wdr37', 'Grin1', 'Disc1', 'Lmtk2', 'Snx4', 'Ccdc18', 'Fam207a', 'Cic', 'Mapkapk5', 'Ccnd1', 'Cnep1r1', 'Slc38a2', 'Ufd1l', 'Cpt1c', 'Zfp652', 'Caskin2', 'Taf1c', 'Skp2', 'Pqlc2', 'Mfap1b', 'Btbd17', 'Usp4', 'Cmpk1', 'Adam11', 'Lin9', 'Mospd1', 'Tbxas1', 'Wipi1', 'Deb1', 'Ncoa4', 'Tacc3', 'Sap30l', 'Scube1', 'U2af2', 'Ccdc124', '2810429I04Rik', 'Gcc2', 'Zfp420', 'Qsox2', 'Acap3', 'Srgn', 'Tpmt', 'Fbf1', 'Pdcd2', 'Rims4', 'Lnpep', 'Ccdc81', 'Golim4', 'Btbd16', 'E2f3', 'Scpep1', 'Dhx36', 'Cmss1', 'March2', 'Eef1g', 'Sc5d', 'Otud7b', 'Nfatc1', 'Bsg', 'Ap4s1', 'Dnpep', 'Megf11', 'Ttc3', 'Ptpn12', 'Zfp551', 'Utp11l', 'Slc38a1', 'Pip4k2b', 'Ago1', 'Ptpru', 'Gng8', 'Kank3', 'Mgat2', 'Nipal2', 'Tmem74b', 'Dleu7', 'Ppp1r2', 'Surf2', 'Sec22a', 'Sart1', 'Fndc1', 'Rtcb', 'Relt', 'Il16', 'Psd2', 'Ranbp9', '1110059E24Rik', '4632404H12Rik', 'Itgb2', 'Snf8', 'Fa2h', 'Kctd12b', 'Tbata', 'Ebna1bp2', 'Repin1', 'Nr4a1', 'Imp4', 'Cdk8', 'Zfp595', 'Myof', 'Dclre1c', 'Dlst', 'Zfp536', 'Rnf182', '9030624J02Rik', 'Shf', 'Serhl', 'Fnip2', 'Csnk1g3', 'Cnpy4', 'Ubxn4', 'Ak8', 'Prss12', 'Ap3b1', 'Rabggtb', 'Zfp609', 'Col6a4', 'Cryz', 'Myo6', 'Msn', 'Adprhl2', 'Zc4h2', 'Elof1', 'Dpysl4', 'Polr2f', 'Fam193b', 'Gpm6a', 'Lamb2', 'Akt3', 'Tial1', 'Gdf9', 'Alox8', 'Ppp1r16b', 'Prrc2a', 'Kif13a', 'Per1', 'Zfp408', 'Cdc45', 'Cep76', 'Syp', 'Opcml', 'Actn4', 'Klf3', 'Magee2', 'Cbx5', 'Col19a1', 'Eftud1', 'Golph3l', 'Irgq', 'Piezo1', 'Rgs8', 'Clcn3', 'Gm16845', 'Ifngr1', 'Rassf4', 'Pithd1', 'Tubb2a', 'Igsf1', 'Fahd1', 'Vps18', 'Rrp12', 'Ptk7', 'Nfe2l3', 'Nrxn1', 'Rars', 'Fgl2', 'Cplx3', 'Gpsm1', 'Ankrd24', 'Narfl', 'Ppfibp1', '3110002H16Rik', 'Mrpl47', 'Iws1', 'Speg', 'Zfp13', 'Fam96b', 'Rab40c', 'Cyp27a1', 'Polr3h', 'Emp1', 'Fbxw17', 'Pex11a', 'Coa5', 'Rdh13', 'Sp110', 'Gnl1', 'Ptger1', 'Zfp277', 'Tmem192', 'Zfp637', 'Scaf11', 'Setd7', 'Brinp1', 'Gm9828', 'Tpm3', 'Slc13a3', 'Hbs1l', 'Nfatc2', 'Rbm28', 'AI480526', 'Tubb3', 'Aldh1a1', 'Fam114a1', 'Mgat4b', 'Scaper', 'Dvl1', 'Apip', 'Tspan31', 'Gas1', 'Rab29', 'Nagpa', 'Dlg2', 'Ddx49', 'Rdh10', 'Polr1b', 'Casc3', 'Stoml3', 'Fam172a', 'Kcmf1', 'Gnl3', 'C030005K06Rik', 'Rps18', 'Dvl2', 'Tmem8b', 'Egf', 'Trim66', 'Lct', 'Cyyr1', 'Lama2', 'Gpr17', 'Pxmp2', 'Tmed9', 'Fam217b', 'Slc12a2', 'Rnf31', 'Atf7ip', 'Eif3k', 'Ptprm', 'Zfand5', 'Cela1', 'Slc27a3', 'Tmem59', 'Ndufb4', 'Pgpep1', 'Glrx2', 'Lztr1', 'Steap2', 'Noc2l', 'Ppwd1', 'Nus1', 'Sema4g', 'Klhl32', 'Mau2', 'Ly6h', 'Neurl1b', 'Rap2a', 'Gm973', 'Calm3', 'Acat1', 'Dstyk', 'Selo', 'Cep112', 'Adcy4', 'Gm10501', 'Tmem37', 'Rbm15b', 'Spred2', 'St8sia5', 'Adgrb1', 'Fibcd1', 'Cyp2d22', 'Sh3bp1', 'Mrpl15', 'Ergic1', 'Cmtm5', 'Ints4', 'Npas3', 'Tsn', 'Lrrc58', 'Tmem117', 'Ncoa3', 'Tollip', 'Kdm2b', 'Sox1', 'Macrod2', 'Ret', 'Dnaja1', 'Arhgap31', 'Necab1', 'Gpatch3', 'Celf3', 'Triobp', 'Ccdc141', 'Pcdh7', 'Epor', 'Tspyl4', 'Gabrb3', 'Ttc8', 'Rnf10', 'Alg2', 'Smtn', 'Tnfrsf25', 'Sphk1', 'Phf7', 'Chst2', 'Ddit3', 'Pex7', 'Inpp4b', 'Fam216a', 'Fam102a', 'Ssbp2', 'Tmem184c', 'Hdac10', 'Lzts3', 'Gm26904', 'B4galt1', 'Tbcc', 'Trpc7', 'Wrn', 'Igf2r', 'Efna1', 'Plcl2', 'March1', 'Sparc', 'Bmp2k', 'Olah', 'Magi1', 'Cep68', 'Gm20696', 'Ttc39b', 'Khk', 'Cmas', 'Ern1', 'Cpeb2', 'Adm', 'Serpinb1a', 'Asf1a', 'Irak1', 'Cmtm8', 'Blzf1', 'Cbx2', 'Puf60', 'Zkscan8', 'Nbeal2', 'Usp20', 'Fam117b', 'Tram1', 'Kdelr2', 'Haus2', 'Eif4e2', 'Xpo6', 'Plxnb1', 'Wdr70', 'Itfg2', 'Ppp1r12c', 'Ptpn9', 'Dcun1d4', 'Ramp3', 'Phlpp1', 'Nsa2', 'Mir6236', 'Derl2', 'Ywhae', 'Dcaf12', 'Grin2a', 'Parp3', 'Lat2', 'Rps6ka4', 'G3bp2', '2310067B10Rik', 'Nkain1', 'Manea', 'Trappc11', 'Gm20604', 'Sema3a', 'Tspan13', 'Scn2a1', '1110065P20Rik', 'Exosc7', 'Nqo1', 'Soat1', 'Gm17092', 'Renbp', 'Mrpl39', 'Insm1', 'Hexb', 'Cst6', 'C330006A16Rik', 'Extl3', '1500012F01Rik', 'Meig1', 'Plvap', 'Tpgs1', 'Cfap43', 'Mtss1', '9930104L06Rik', 'Gamt', 'Rchy1', 'Ggps1', 'Trpc1', 'Col3a1', 'Nwd1', 'Gata2', 'Acsf3', 'Senp5', 'Nr1d1', 'Nyap1', 'B3galt2', 'Ccdc85b', 'Rif1', 'Tab2', 'Brwd3', 'Slc25a34', 'RP24-470E5.4', 'Gbp2', 'Tapbpl', 'Pnisr', 'Jrk', 'Ngdn', 'Coq10a', 'Kif1b', 'Them6', 'Psmb2', 'Chd3', 'Bst2', 'Nmi', 'Rap2c', 'Wdtc1', 'Kcnk4', 'Cnot1', 'Acvr1c', 'Fermt2', 'Ppan', 'Gria3', 'Lig3', 'Pycr1', 'Slc25a47', 'Usp53', 'Syndig1l', 'Nenf', 'Ap1b1', 'Slc29a3', 'Pstpip2', 'Ptcd2', 'Zfp369', 'Desi1', 'Gabra5', 'Mroh8', 'Bola3', 'Slc25a12', 'Calhm2', 'Nudc', 'Timp2', 'Fam163a', 'Cenpp', 'Gpr176', 'Ipo8', 'Fabp5', 'Cdca7l', 'Ccbl2', 'Zfp438', 'H1f0', 'Mlxipl', 'Zfp622', 'Ppdpf', 'Wdyhv1', 'Mras', 'mt-Tt', '6330416G13Rik', 'Slc25a51', 'Tmem87a', 'Nxph3', 'Slc1a2', 'Nos1ap', 'Tmem43', 'Filip1l', 'Ndufa5', 'Tmem242', 'Osbp2', 'Naglu', 'Gcc1', 'Asap1', 'Dnajb1', 'Wsb1', 'Cant1', 'Serpina3n', 'Rcsd1', 'Arhgap18', 'Kctd10', 'Rerg', 'Armc10', 'Cwf19l2', 'Zfp689', 'Nup153', 'Tbc1d8', 'Hspg2', 'Metap1d', 'Mbnl2', 'Shank3', 'Trip10', 'Pofut2', 'Apln', 'Cog4', 'Cxcl16', 'Pkdcc', 'Nfat5', 'St6gal1', 'Ndrg2', 'Ermp1', 'Zfp651', 'Celf6', 'Ushbp1', 'Plrg1', 'Cbs', 'Ptgr1', 'Abhd4', 'Vps53', 'Rgs4', 'Camk2n2', 'Tbl2', 'Trip4', 'Kbtbd2', 'Slc25a23', 'Mettl23', 'Sox4', 'Slc5a6', 'Ror2', 'Pbxip1', 'Abcg1', 'AU021092', 'Msrb3', 'Cpt1a', 'Utp23', 'Tpbg', 'Cox17', 'R3hcc1', 'Fzd6', 'Chmp4b', 'Adrbk1', 'Celf2', 'Gm37069', 'Fam174b', 'Cnnm2', 'Ptp4a3', 'Agpat2', 'Trim39', 'Nox1', 'Tcof1', 'Acot13', 'Idh1', 'Pbrm1', 'Hdac11', 'Pnrc1', 'Arl15', 'Acin1', 'Cyth1', '6330403A02Rik', 'Casp3', 'Gm16075', 'Phtf2', 'Atp11a', 'Kcna6', 'Fzr1', 'Ppp3ca', 'Arap3', 'Hsd17b10', 'Nudt19', 'Cenpb', 'Fgf14', 'Slc39a8', 'Ndufb2', 'Serpinh1', 'Gm26512', 'Slc5a7', 'Tnpo3', 'Gdi1', 'Wiz', 'Nacad', 'Rela', 'Gab3', 'Abcb1b', 'Hspb8', 'Rlbp1', 'Kcnmb4', '1110018N20Rik', 'Wdsub1', 'Agbl4', 'Zswim7', 'Tmem199', 'Tnk2', 'Cmtm6', 'C1qa', 'Dcp1b', 'Lysmd2', 'Isca1', 'Bach2', 'Ptch1', 'Acot5', 'Zfp36l1', 'Rac2', 'Ubxn1', 'Pik3r2', 'Uros', 'Zfp46', 'Tgm2', 'Fam132a', 'Rfc5', 'Enpp5', 'Sox3', 'Zdhhc7', 'Gareml', 'Jun', 'Reep2', 'Rpl35', 'Slc30a5', 'Atf4', 'Ttc23', 'Ank1', 'Dnmbp', 'Aftph', 'Rps8', 'Dkk3', 'Zfp397', 'Slc24a5', 'Ntm', 'Zfp354a', 'Slc22a6', 'Naa38', 'Grm1', 'Slc25a18', 'Hsd3b7', 'Sik3', 'Cox20', 'Asb7', 'Arih1', 'Hmg20a', 'Zcchc12', 'Kank2', 'Spcs2', 'Pet100', 'Msi1', 'Pgrmc2', 'Erbb2ip', 'Vps39', 'Atp11c', 'Rgs10', 'Gk5', 'Ccnk', 'Ifit3b', 'Dctd', 'Slmo1', 'Mafk', 'Iigp1', 'Adcy8', '6230415J03Rik', '6030419C18Rik', 'Smc3', 'Apcdd1', 'Ptbp2', 'Fancm', 'Acot6', 'Arf6', 'Matk', 'Ttc33', 'Sowaha', 'Opalin', 'Apbb2', 'Alms1', 'Nif3l1', 'Hif1an', 'Klhl1', 'Rxrg', 'Tmem5', 'Mid1ip1', 'Prex2', 'Nelfa', 'Zranb1', 'Rps14', 'Mapk3', 'Smim22', 'Knop1', 'Stard8', 'Sesn3', 'Sox17', 'Capn15', 'Smagp', 'Klf13', 'Gm26908', 'Ltn1', 'Ttll4', 'Sqrdl', 'Crocc', 'Prkab1', 'Abce1', 'Pdia3', '1600010M07Rik', '4930579G24Rik', 'Hc', 'Jpx', 'Rbm18', 'Aldh3a2', 'Dpy19l1', 'Med7', 'Tpi1', 'Cetn3', 'Slc7a14', 'Ctnnd1', 'Mfsd5', 'Basp1', 'Snhg4', 'Abat', 'Col5a1', 'Gga2', 'Bmpr1b', 'Osbpl7', 'Hif1a', 'Slc6a9', 'Gbp4', 'Bcl7a', 'Atad5', 'Anapc11', 'Magee1', 'St6gal2', 'Dnajc18', 'Mfsd6', 'Pzp', 'Rab20', 'Aff1', 'Ate1', 'Arid4a', 'Paox', 'Dolk', 'Luzp2', 'Adal', 'Pddc1', 'Vegfb', 'Npy1r', 'Ctbp2', 'Trp53rka', 'Tead2', 'Nrep', 'C1qb', 'Pcgf2', 'Gm10320', 'Nuf2', 'Smad7', 'Kdm5b', 'Uba2', 'Pigk', '9430020K01Rik', 'Lrrc17', '2900026A02Rik', 'Athl1', 'Pdzd4', 'Jmjd1c', 'Bgn', 'Ranbp17', 'Rasip1', 'Tmem167', 'Rnls', 'Tdrd3', 'Rnf103', 'Lgi1', 'Cadm3', 'Bcl2l1', 'Il33', 'Copg2', 'Tmem65', '1700086O06Rik', 'Fbxo9', 'Gas7', 'Setd3', 'Inpp5f', 'Mrc2', 'Crybb1', 'Tesk2', 'Inpp4a', 'Gm26781', 'Iqsec3', 'Zfp827', 'Wasf3', 'Faxc', 'Araf', '1700040D17Rik', 'Avpi1', 'Hvcn1', 'Gm21989', 'Sorl1', 'Snhg20', 'Cdk7', 'Lpgat1', 'Srpk1', 'Unk', 'Bok', 'Nefl', '1700030K09Rik', 'Mtmr11', 'Chd6', 'Pde9a', 'Sox8', 'Npat', 'Amfr', 'Klhl5', 'Pla2g15', 'Fam111a', 'Mal2', 'Nod1', 'Pafah2', 'Plxdc1', 'Nav2', 'Ppm1m', 'Prr7', 'Bcl2l12', 'Ccdc106', 'Leo1', 'Gulp1', 'Lysmd1', 'Lzts2', 'Ptbp3', 'Necap1', 'Sf3b5', 'Eif4ebp1', 'Ddx54', 'Tbcb', 'Lgals3', 'Atp13a2', 'Cttn', 'Arrb2', 'Omg', 'mt-Ts2', 'Bcl2l11', 'Stk40', 'Ptprt', 'Prosc', 'Acat2', 'Usp35', 'Slc2a6', 'Cdk10', 'Gabra4', 'Rps28', 'Phldb1', 'Pitpnb', 'Slc6a15', 'Fam129c', 'Nfyb', 'Samd4', 'Lzic', 'Gxylt1', 'G0s2', 'Rmi1', 'Nfia', 'Uck1', 'Cln8', 'Gabarapl2', 'Rps24', 'Srsf6', 'Rrm2b', 'Tnfrsf1a', 'Pctp', 'Ei24', 'Chst11', 'Zfp142', 'Sgce', 'Acox3', 'Tpk1', 'Mmp17', 'Pard6g', 'Mrps18a', 'Gng5', 'Serpinb6a', 'Uckl1', 'Pias2', 'Abhd17b', 'Tmem106b', 'Eva1b', 'Myl6b', 'Tgif1', 'Tmem63c', 'Csf3r', 'Gm2115', 'Rnf121', 'Ap4e1', 'Leprot', 'Tmem59l', 'Arhgap12', 'Sash1', 'Adcy1', 'Lasp1', 'Foxo3', 'Cfap44', 'Apba2', 'Cflar', 'Bnip3', 'Eva1c', 'Bak1', 'Etv1', 'H2afz', 'Thy1', 'Rps4l', 'Yars', 'Parp6', 'Timeless', 'Gm29491', 'Ckb', 'Plk2', 'Npc2', 'Ifi30', 'Plxna4', 'Nadk2', 'Dgcr6', 'Mpeg1', 'Amotl2', 'Tekt1', 'Zkscan2', 'Pbdc1', 'Apoe', 'Fkbp3', 'Hyou1', 'Hmgb1', 'Pfn2', 'Sncb', 'Mns1', 'Hps4', 'Add3', 'Tmem151b', 'Mmp14', 'Sdhaf2', 'Spock3', 'Itpr2', 'Trim47', 'Fyco1', 'Chrm2', 'Nat2', 'Cbll1', 'Cntn5', 'Mtbp', 'Abtb1', 'Gatc', 'Eif2b3', 'Cys1', 'Map1lc3a', 'Tmem39b', 'Nuak1', 'C130036L24Rik', 'Limk2', 'Dirc2', 'Slc24a2', 'Zfp787', 'Slc37a2', 'B4galt4', 'Gins4', 'Stx16', 'Gpr107', 'D10Wsu102e', 'Ccdc114', 'Pgap2', 'Rhoc', 'Sat1', 'Ube2q2', 'Ptprz1', 'Mob3b', 'Pianp', 'Mlx', 'Crb2', 'Smc2os', 'Mob3c', 'Glod4', 'Sdc2', 'Plec', 'Gm166', 'Rpl36', 'Psmd13', 'Pnpla7', 'Fcrls', 'Tomm7', 'Ncf2', 'Nalcn', 'Epc1', 'Tgfbi', 'Cep135', 'Mrpl9', 'Zfp511', 'Tpm2', 'Socs7', 'Ica1', 'Elavl4', 'Qpctl', 'mt-Rnr1', 'Vps36', 'Aamdc', 'Nup85', 'Umodl1', 'mt-Tp', 'Cdc42ep1', 'Gid8', 'Flt3l', 'Vkorc1l1', 'Fam124a', 'Cd24a', 'Vwc2', '4931406P16Rik', 'Atp6v1e1', 'Cyp4f14', 'Aatk', 'Tsr2', 'Sbf1', 'Mta2', 'Cnn2', 'Nwd2', 'Zfhx4', 'Gramd1c', 'Fam228b', 'Ccdc86', 'Fbxw11', 'Rbmx2', 'Lpp', 'Fgf13', 'Gpsm2', 'Alad', 'Mzt1', 'Pdcd10', 'Macrod1', 'Tmc7', '2010001A14Rik', 'Kcnq2', 'Trim12a', 'Klhdc1', 'Clu', 'Map3k4', 'Mplkip', 'Zfp182', 'Rgs5', 'Bag3', 'Spsb3', 'Plscr4', 'Ppp1r12b', 'Col6a6', 'Lhfpl3', 'Bcl9', 'Ilf3', 'Mamdc4', 'Paqr9', 'Cxcl14', 'Rc3h2', 'Fxyd7', 'Sall1', 'Metap2', 'Pafah1b1', 'Slco3a1', 'mt-Nd2', 'Ndufb10', 'Selenbp1', 'Phf3', 'Gck', 'Lcp1', 'Marcksl1', 'Mpped2', 'Irf8', 'Prcc', 'Cmip', 'Gas5', 'Slc35f3', 'Nol12', 'Edil3', 'Ttc9b', 'D630003M21Rik', 'Mxra8', 'Atp10a', '1700096K18Rik', 'Tmem41a', 'Fam57b', 'Fbxo34', 'Car2', 'Rbm39', 'Ptpn23', 'Atf1', 'Rplp0', 'Por', 'Tfeb', 'Arhgap23', 'Ccdc153', 'Qser1', 'Fam163b', 'Eps8l1', 'Pla2g4e', 'Morn4', 'Syt1', 'Fam20c', 'Zfyve9', 'Cherp', 'Tagln', 'Zfp503', 'Clic1', 'Hp1bp3', 'Tbc1d4', 'Srp68', 'Aak1', 'Gm26644', 'Zmiz1', 'Cdc14b', 'Chtf8', 'Gpx3', 'Fcer1g', 'Tbcel', 'Ptpro', 'Pebp1', 'Mthfd1', 'Parp11', 'Rgs12', 'Gm36975', 'Neurl2', 'Phka2', 'Frmpd4', 'Mis12', 'Scn4b', 'Dtx4', 'Cpne2', 'Zfp688', 'Pgm2l1', 'Prkab2', 'Ccdc23', 'Tet3', 'Tubb2b', 'Pola1', 'Man2a1', 'Cecr6', 'Camkv', 'Sbk1', 'Lypd1', 'Crebrf', 'Cbr3', 'Gnb1', 'Cpped1', 'Rtkn', 'Sirt5', 'Unc93b1', 'Unc13d', 'Myh11', 'Gjb6', 'Dcn', 'Ppp4r1', 'Tmem164', 'Brca1', 'Map3k10', 'Lypla2', 'Arhgap29', 'Setdb2', 'Dll1', 'Rmnd5b', 'Pip5k1b', 'Mafg', 'Phtf1os', 'Grik1', '1810024B03Rik', 'Slc10a7', 'Cnppd1', 'Cuedc1', 'Aff2', 'Dgkb', 'Taf1d', 'St3gal2', 'Pank2', 'Hs3st4', 'Fmn1', 'Pcdh17', 'Btg1', 'Igfbp7', 'Atraid', 'Nr2f1', '3110039M20Rik', 'Colec12', 'Tlr4', 'Parva', 'Fkbp4', 'Ckap2l', 'Mtf2', 'Nkain4', 'Slc22a14', 'Btf3l4', 'Specc1', 'Tigd5', 'Tmem132a', 'Ifit3', 'Mrpl52', 'Nat6', '5730409E04Rik', 'Mrps14', 'St13', 'Bbs4', 'Lmo3', 'Synj2', 'Zeb1', 'Gria4', 'Zeb2', 'Pde12', 'Zmym1', 'mt-Nd1', 'mt-Nd6', 'Sept2', 'Tmem126b', 'Zbtb18', 'Cyp3a13', 'Slc35e3', 'Actr3b', 'Josd1', 'Gm26881', 'Rgmb', 'Eno2', 'Fam117a', 'Il13ra1', 'Cdca3', 'Gm26745', 'Tagap1', 'Hk3', 'Grcc10', 'Ddx28', 'Lor', 'Rnft1', 'Cox6b1', 'Armc8', 'Esrrg', 'Depdc5', 'Rgs19', 'Cog7', 'Col25a1', 'Zfp282', 'Usp16', 'Gng11', 'Sybu', 'Rnf166', 'Gmip', 'Mpdu1', 'Cacybp', 'Lpl', 'Rorb', 'Arfip2', '2310047M10Rik', 'Tmem121', 'Igfbp2', 'Zfp423', 'Rinl', 'Mal', 'Itsn1', 'Fem1b', 'Zfp36', 'Pgm2', 'Prima1', 'Cacng2', 'Stard13', 'Usp38', 'Fbxl12', 'Med9', 'Ahnak', 'Tmem191c', 'Rin2', 'Whsc1l1', 'Dctn2', 'Stmn2', 'Arl4a', 'Rpgrip1l', 'Nap1l4', 'Top1mt', 'Foxo6', 'Nsdhl', 'Ifrd1', 'Klc4', 'Lama3', 'Arxes2', 'Lrrc45', 'Gosr2', 'Ampd2', 'B4galt3', 'Pfdn2', 'Cpsf3', 'Arhgap22', 'Sorcs3', 'Sbds', 'Dusp10', 'Anapc7', 'Crot', 'Foxc1', 'Phpt1', 'Cd33', 'Xpo7', 'Rasal1', 'Dsp', 'Rundc3b', 'Cdk2ap1', 'Grm8', 'Ticam1', 'Akr1b10', 'Oaz2', 'Rab11fip3', 'Eno3', 'Rbms1', 'RP23-111M12.3', 'Sf3a1', 'Dis3l', 'Mcmdc2', 'Eif4ebp2', 'Wdr12', '0610040J01Rik', 'Snhg3', 'Adgrl3', 'mt-Tq', 'Smim10l2a', 'Snx1', 'Xab2', 'Nsmce2', 'Tti1', 'Larp7', 'Hgsnat', 'Elp4', 'Spin1', 'Nfam1', 'Cyp51', 'Gpt', 'RP23-231L15.4', 'Rpl37', 'Cubn', 'Ermn', 'Pitpnm2', 'Comt', 'St6galnac3', 'Slc25a11', 'Zbtb38', 'Slc35e4', 'Atg13', 'Cry2', 'Mbd5', 'Ube2i', 'Ssfa2', '2210013O21Rik', 'Tmsb10', 'Dennd2a', 'Dock10', 'Sgms1', 'Slc25a19', 'Actr2', 'Lgi4', 'Rpl36a', 'Cep78', 'Tst', 'Ift74', 'Ciz1', 'Eif2a', 'Rab7b', 'Rpl34', 'Mchr1', 'Galnt14', 'Slc15a2', 'Ccdc97', 'Tspan15', 'Sp3os', 'Syt4', 'Tpd52l1', 'Gatb', 'Ubald1', 'Ankrd35', 'Snhg8', 'Tsc1', 'Med27', 'Dscr3', 'Pxdc1', 'Nagk', 'Zfp110', 'Gm14326', 'Nfe2l1', 'Tmem19', 'Rprd1b', 'Rap1gds1', 'Dhx40', 'Tex261', 'Akap13', 'Mfng', 'Ldb2', 'Nf1', 'Yipf3', 'Tbc1d9b', 'Gemin5', 'Cbx1', 'Plp1', 'Nhp2', 'Wipf1', 'Cops3', 'Arhgap25', 'Crybb3', 'Atp5d', 'Ppp1r1a', 'Il6ra', 'Cops2', 'Ube3b', 'Ubb', 'Ddx26b', 'Rab26os', 'Pskh1', 'Arpp19', 'Cdh9', 'Polr2l', 'Tgfbrap1', 'Gpx1', 'Mipol1', 'Bccip', 'Synpo', 'Fkbp9', 'Rab11fip4', 'Tle3', 'Nav3', 'AW047730', 'Rpl10', 'Ninj1', 'Mis18a', 'Snx6', 'Unc13c', 'Aif1', 'Tnpo1', 'Mief2', 'Mrpl24', 'Mlycd', 'Gm16432', 'Wnt5a', 'Ctdp1', 'Fam222b', 'Uggt2', 'A330008L17Rik', 'Thnsl2', 'Klhl23', 'Tlk1', 'Poll', 'Krcc1', 'Rasgrp1', 'Aspa', 'Carhsp1', 'Slc22a17', 'Atp5j', 'Trim11', 'Emc4', 'Mrpl11', 'Gna13', 'Usp6nl', 'Ghitm', 'Bcat2', 'Gm5113', 'Stoml2', 'Lias', 'Arid5b', 'Fndc3b', 'Pex5l', 'Hspbp1', 'Gbf1', 'Rrp8', 'Fance', 'Dgke', 'Gprin1', 'Susd5', 'Rnpepl1', 'Pcgf3', 'Eif4a1', 'Mynn', 'Ints2', 'Mapre1', 'Arpc2', 'Enkd1', 'Pgls', 'Gm608', 'Tmem70', 'Cers2', 'Klhl8', 'Sap30', 'Acy3', 'Haus8', 'Raver1', 'Cobll1', 'Zfp202', 'Acsl6', 'Trim56', 'Msi2', 'Mrps30', 'Slc11a1', '2810013P06Rik', 'Ndrg3', 'Frmd6', 'Elavl3', 'Gins1', 'Nxt2', 'Poldip3', 'Pld2', 'Pigq', 'Dip2c', 'Rsbn1l', 'Cops7b', 'Ptprc', 'Spsb2', 'Ing1', 'Gng13', 'Hpcal1', 'Cab39', 'Cep63', 'Zfp273', 'Mef2c', 'Foxo1', 'Fstl5', 'Mxd3', 'E130309D14Rik', 'Nutf2', 'Cdkn2c', 'Wdr76', 'Pllp', 'Sema4f', 'Rab33b', 'Pard3', 'Wnk4', 'C920006O11Rik', 'Prelp', 'Rasgef1a', 'Nmnat3', 'Gng3', 'Pon2', 'Gm11696', 'Foxj1', 'Crcp', 'Larp6', 'Gm16268', 'Prr13', 'Gbe1', 'Dnajc1', 'Eif2ak2', 'Cadps2', 'Adam18', 'Gnb2l1', 'Jarid2', 'Tbr1', 'Fn3k', 'Foxo4', 'Lamb1', 'Alg12', 'Aptx', 'Bdh1', 'Ubp1', 'Hps3', 'Zc3h7a', 'Cox7a2l', 'Rdh14', 'Kcnmb1', 'Akap9', 'Hiat1', 'Mccc2', 'Map3k7', 'Atxn2', 'Fscn2', 'Ccl9', 'Lrrc2', 'Aldh9a1', 'Slco2b1', 'Taf13', 'Ccdc9', 'Sdf2', 'Agpat1', 'Trak2', 'AU041133', 'Arhgef12', 'Sox13', 'Tmem150a', 'Dnajb12', 'Raly', 'Dctn3', 'Sac3d1', '6720427I07Rik', 'Rassf8', 'Taf4a', 'Tnfaip6', 'Tmem44', 'Helz', 'Igfbp6', 'Pyroxd1', 'Rasl10b', 'Fsd1l', 'Aldh5a1', 'Mmp2', 'Inpp5k', 'Bckdha', 'Hspa14', 'Akap1', 'Rims1', 'Nup133', 'Slc7a2', 'Zmynd8', 'Kif1c', 'Ccdc80', '2610507B11Rik', 'Gm13306', '9330171B17Rik', 'Dynlrb1', 'Tmem234', 'Asb16', 'Ptn', 'Pdss2', 'Cct7', 'Cep131', 'Fcho2', 'Shisa2', 'Fyn', 'Ddn', 'Naca', 'Gpx7', 'Pcbp4', 'Thumpd3', '1810058I24Rik', 'Tnks', 'Hspa8', 'Slc4a1ap', 'Mpv17', 'Smarcd3', 'Rttn', 'Nebl', 'Vps26b', 'Morn1', 'Mcu', 'Mycbpap', 'Zic2', 'Ddx31', 'Exoc6b', 'Chn1', 'Cpox', 'Glrb', 'Clcnka', 'Pdk4', 'Mrps34', 'Ubtf', 'Ncoa1', 'Riok1', 'Arnt2', 'Pfkp', 'Armcx4', 'Fer', 'Ociad1', 'Ahcyl1', 'Capzb', 'Tmem72', 'Idua', 'Proser1', 'Slco1c1', 'Il10ra', 'Dnajc11', 'Zfp738', 'Bcl10', 'Dnlz', 'Ctsc', 'Gm9843', 'Cacna2d1', 'Zfp395', 'Snx31', 'Shank2', 'Zfp940', 'Rbm41', 'Oxr1', 'Creg1', 'Arhgap30', 'Ak3', 'Stx4a', 'Ubn1', 'Prkce', 'Slc6a6', 'Ubl5', 'Nacc1', 'Tut1', 'Wdr13', 'Timp3', 'Uqcrh', 'Tenm3', 'Fbxo33', 'Dbi', 'Tfpi', 'Pcx', 'Plekhb1', 'Ntrk3', 'Ddx51', 'Dand5', 'Mbd3', 'Uvssa', 'F3', 'Micall1', 'Etv4', 'Kdelc2', 'Cep290', 'Pon3', 'Sgms2', 'RP23-366P9.8', 'Cwc27', 'Wdr7', 'Metrnl', 'Erich1', 'Dnajc12', 'Psmd14', 'Cdk5r1', 'Slc7a7', 'Exoc3', 'Cstb', 'Syne3', 'Fam208a', 'Hist1h1c', 'Higd1a', 'Lamp1', 'Lrrc55', 'Slc41a1', 'Ptgs2', 'Ptdss1', 'Efhd1', 'Kalrn', 'Angpt1', 'Klhl26', 'F5', 'Ier2', 'Rnaseh2c', 'Rspo2', 'Lyrm2', 'Fam229b', 'Ank2', 'Slc25a13', 'Arl13b', 'Olfr287', 'Reep6', 'Sspn', 'Hapln4', 'Tspo', 'Xlr5a', 'Syce2', 'Ccdc28a', 'Mtch1', 'Ptchd4', 'Bex2', 'Adam23', 'Apc2', 'Dbx2', 'Myo1e', 'Lgals8', 'Penk', 'Inf2', 'Akap12', 'Tceal1', 'Cdc34', 'Fdft1', 'Tstd1', 'Tmem208', 'Itpr1', 'Zbtb12', 'Nxf1', 'Yy1', 'Ccdc91', 'Trappc3', 'Aimp1', 'Ppfia1', 'Sec23b', 'Mtmr3', 'Creb3', 'Cdk19', 'Gltscr2', 'Gm11944', 'Prickle2', 'Mybpc1', 'Fbxl15', 'Lin7a', 'Nudt9', 'Macf1', 'Fam198a', 'Nid2', 'Wnt5b', 'Garem', 'Bnip1', 'Egfl8', 'Arhgef10l', 'Abcc10', 'Ap3m1', 'Gal', 'Mpp6', 'Zfp112', 'Drp2', 'Dync1li2', 'Kcnh3', 'Ext2', 'Stom', 'Hiatl1', 'Ralgapa2', 'Supt5', 'Tmem106c', 'Snrpn', 'Trak1', 'Pld4', 'Spsb1', 'Cox6a2', 'Rab26', '2210016L21Rik', 'Slc30a9', 'Ltbr', 'Smim3', 'Trf', 'Vps13b', 'Tcf7l2', 'Marf1', 'Kdm7a', 'Lrrc16b', 'Chd2', 'Pdzph1', '8430429K09Rik', 'Lrp1b', 'Crip1', 'Kmt2d', 'Cpsf6', 'Psme3', 'Mier3', 'Josd2', 'Trmt1', 'Slc13a4', 'Sh3kbp1', 'Pantr1', 'Rpl27a', 'Mars2', 'Mfap3l', 'Izumo4', 'Caprin1', 'Pum2', 'Mark4', 'Slc25a24', 'Ttc39a', '1500011K16Rik', 'Arc', 'Arf3', 'Pde8a', 'D930048N14Rik', 'Pde1c', 'Txndc17', 'C030014I23Rik', 'Proser3', 'Prkcq', 'Chn2', 'Myadm', 'Plgrkt', 'Mrpl33', 'Cdv3', 'Mtfr1l', 'Zfp771', 'Klhl4', 'Numb', 'Chchd6', 'Cp', 'Cog1', 'Cspg4', 'Mfn1', 'Cda', 'Aip', 'Nkd2', 'Rbm27', 'Elp5', 'Timmdc1', 'Csgalnact2', 'Poldip2', 'Pes1', 'Smim1', 'Atp5e', 'Bop1', 'Zfyve21', 'Rrs1', 'Cir1', 'B2m', 'Dnajc28', 'Mydgf', 'Ndrg1', 'Rcan2', 'Epb4.1l1', 'BC005537', 'Cpe', 'Nasp', 'Rab28', 'Acsl5', 'Uba5', 'Igsf21', 'Ccdc136', 'Immp2l', 'Osgin2', 'Glb1l', 'Nup98', 'Ift140', 'Gm10684', 'Txlna', 'Bcorl1', 'Lpcat1', 'Pgbd5', 'Ndn', 'Lrrc4', 'Nup214', 'Unc119b', 'Rasl11b', 'Ift27', 'Mrpl45', 'Map4k4', 'Hivep1', 'Rnf4', 'Tns1', 'Apopt1', 'Brms1l', 'Krt10', 'Med13l', 'Zbtb8os', 'Fbxw4', 'D2hgdh', 'Plekhg5', 'Slc2a13', 'Zfp3', 'Gabrd', 'Tbc1d8b', 'Oaz1', 'AW495222', 'Pbx1', 'Ruvbl2', 'Rpl5', 'Rbm15', 'Fam20b', 'Brd2', 'Akr1e1', 'Col1a2', 'Ptges2', 'Mdh1', 'Slc40a1', 'Abcf3', 'Aig1', 'Sfmbt1', 'Lrrcc1', 'Efcab5', 'Ufl1', 'Tspan2', 'Akap7', 'Sos1', 'mt-Ta', 'Chga', 'Polr1a', 'Drd5', 'Rpsa', 'Dus1l', 'Ep400', 'E230008N13Rik', 'Man1a2', 'Pusl1', 'Ppargc1a', 'A130014A01Rik', 'Ngf', 'Hk2', 'Mknk2', 'Cbx6', 'Rplp1', 'Snx18', 'Wasf2', 'Cyth4', 'Thyn1', 'Miip', 'Arhgdib', 'Ap1s2', 'Nim1k', 'Ahsa1', 'Dhx57', 'Dctpp1', 'Map4k5', 'Gprc5b', 'Kras', 'Dennd5b', 'Crhbp', 'Zfp784', 'Lppr4', 'Cnp', 'Ppm1b', 'Cebpg', 'Sin3a', 'Paics', 'Serf1', 'Cd320', 'Bin1', 'Frrs1l', 'Syvn1', 'Coro1c', 'Mrc1', 'Lrrc10b', 'Spaca6', 'Jazf1', 'Grb14', 'Eif3i', 'Wdr45b', 'Pigg', 'Kcnj2', 'Swt1', 'Gm29521', 'Rpl23', 'Znrf1', 'Phka1', 'Katnb1', 'Camk2b', 'Nprl3', 'Rbbp6', 'Gtf2i', 'Slc35c2', 'Nup188', 'Trib1', 'Tmem11', 'Supt16', 'Zfpl1', 'Scamp2', 'Map1s', 'Gpx4', 'Cib2', 'Cct4', 'Tmtc2', 'Car1', 'Bicd2', 'Amt', 'Me1', 'Ydjc', 'Pfdn1', 'Gm8098', 'Mpp1', 'Tshz2', 'Cgref1', '2200002D01Rik', 'Atp2a2', 'Vprbp', 'Nicn1', 'Syt14', 'Cdh2', 'Gm14634', 'Bag4', 'Msantd1', 'Slc25a3', 'Bcas1', 'Thumpd2', 'Bscl2', 'Fam167b', 'Celrr', 'Ndufs5', 'Wnk2', 'Hspa12b', 'Cdkl3', 'Sfr1', 'Tagln2', 'Uaca', 'Mblac2', 'Polr2e', 'Cpn1', 'Pmpca', 'Erich6', 'Pip4k2c', 'Airn', 'Gfpt2', 'Gm14325', 'RP23-335C9.1', 'Lhfpl2', 'Gpr3', 'Tac2', 'Ociad2', 'Emp3', 'Aktip', '9530068E07Rik', 'Chdh', 'Wrap73', 'Polb', 'Mcam', 'Rras2', 'Gstm5', 'Arid5a', 'Hipk1', 'Gm15417', 'Slc25a40', 'Nol7', 'Mfge8', 'Pex6', 'Adamts20', 'Stxbp4', 'Lsm8', 'Zfp324', 'Morf4l1', 'Dlgap1', 'Ap5s1', 'Smarcd1', 'Grk6', 'Gnb5', 'Zfp263', 'Rps6kl1', 'Ganc', 'Zfx', 'Vezf1', 'Kdm4b', 'Xpc', 'Adgre1', 'Dennd1b', 'Mcm8', 'Cwc22', '2700060E02Rik', 'Kcnj6', 'Entpd2', 'Piga', 'Tns3', 'Nptx2', 'Hsd17b11', 'Suclg1', 'Vac14', 'Tmem141', 'Nxph1', 'Hnrnpll', 'Gm11627', 'Uqcr10', 'Col6a1', 'Rps6kb2', 'Mcl1', 'Pcbd2', 'Epha5', 'Maf1', 'Phf21a', 'Irf2', 'Bub3', 'Ucma', 'Lims1', 'Rpl11', 'Mxi1', 'Ddr2', 'Zfp316', 'Csnk2a2', 'Hmgn3', 'Arfgap3', 'Dtnbp1', 'Gm37459', 'Ehd3', 'Xkr8', 'Acsl4', 'Gdpd5', 'Adgra1', 'Nbl1', 'Gpd1', 'Vstm2l', 'Acbd3', 'Hint3', 'Cers5', 'Pcid2', 'Slc14a1', 'Mapk9', 'Slc35a1', 'Trim9', 'Pdxk', 'Plcd3', 'Ugp2', 'Gpr137', 'Wfdc18', 'Col1a1', 'Mical2', 'Rps3', 'Hpcal4', 'Aste1', 'Fam184b', 'Arid4b', 'Meis3', 'Kbtbd8', 'Atp2b1', 'Taf11', 'Hexim1', 'Upf3a', 'Ecsit', 'Galc', 'Rpl39', 'Ndufaf5', 'Arl2', 'Blvra', 'Taf1', '1700003E16Rik', 'Slc25a29', 'Wbp2', 'Eif3l', 'Gtpbp4', 'Bhlhe41', 'Dnm1', 'Tmem147', 'Phkg2', 'Esrra', 'Eif3j1', 'Kcnj8', 'Zfp143', 'Ctsh', 'Saal1', 'Pnpla8', 'Rasgrf2', 'Bend6', 'Acsbg1', 'Ddah2', 'Ppp2r1a', 'Slc16a2', 'Fam101b', 'Gm12258', 'Golgb1', 'Psmc5', 'Fam173a', 'Xpo5', 'Mpped1', 'Chmp6', 'Slc25a38', 'Epb4.1l4aos', '6330403K07Rik', 'Dhodh', 'Mrpl44', 'Shkbp1', 'Mgme1', 'Maged2', 'D15Ertd621e', 'D630045J12Rik', 'Icam4', 'Slc1a3', 'Heatr1', 'Comtd1', 'Elmod1', 'Ramp2', 'Srcap', 'Polr2g', 'Stx1b', 'Npdc1', 'Rab5b', 'Cep170b', 'Tjp1', 'D430042O09Rik', 'Mettl14', 'Lyn', 'Rasa3', 'Agl', 'Alg9', 'Eno1b', 'Mesdc1', 'mt-Tl1', 'Rpn1', 'Abhd10', '1110008F13Rik', 'S100a10', 'Iqgap1', 'Fam174a', 'Eef1e1', 'Klhdc9', 'Cdk5rap1', 'Pi4kb', 'A330023F24Rik', 'Cpne6', 'Cenpj', 'Dlg5', 'Mrps18c', 'Dbndd1', '1110008P14Rik', 'Usp24', 'Senp8', 'Lef1', 'Mertk', 'Ppp2r2b', 'Nrsn2', 'Tln2', 'Psma5', '2810029C07Rik', 'Wtip', 'Nsmce4a', 'Gsn', 'Med12l', 'Tacr3', 'Fermt3', 'Lmna', 'Baz2a', 'Scd2', 'Sumo3', 'Frzb', 'B230217C12Rik', 'Gal3st3', 'Snhg11', 'Ap3m2', 'R3hdm4', 'Eif3a', '9030407P20Rik', 'Tcea3', 'Rhoa', 'Slc20a1', 'Brd4', 'E130114P18Rik', 'Rcn2', 'Itm2a', 'Celf1', 'Cnih2', 'Ccm2l', 'Bod1', 'Lamb3', 'Acat3', 'Pcsk6', 'Lrrk1', 'Slco1a4', 'Cnot8', 'Lsm4', 'Stag1', 'Slc14a2', 'Lman1', 'Eif5a2', 'Spcs1', 'Zkscan5', 'Rhno1', 'Cyp2j12', 'Yaf2', 'Ttbk1', 'A730017C20Rik', 'Amotl1', 'Fdx1l', 'Mt2', 'Adrb1', 'Epha3', 'Exosc4', 'Tac1', 'Shoc2', 'Ext1', 'Tpra1', 'Tmem108', 'Lsr', 'Lin28b', 'Ppp4r4', 'Lifr', 'Tbx2', 'Acsl3', 'Ston2', 'Mrm1', 'Lpar1', 'Csrp1', 'Tagln3', 'Slc12a8', 'Enkur', 'Tfb1m', 'Erap1', 'Zdhhc3', 'Esf1', 'Btbd7', 'Cyc1', 'Plekha5', 'Ankrd9', 'Mtdh', 'Plod3', 'Hip1', 'Rapgef1', 'Hbp1', 'Mrps11', 'Adi1', 'Qrich1', 'Gm26561', 'mt-Nd4', 'Maml3', 'Ctcf', 'Sympk', 'Dhps', '1700001O22Rik', 'mt-Nd5', 'Fip1l1', 'Lingo1', 'Tmem243', 'RP23-105M18.2', 'Reep3', 'Csk', 'Rb1cc1', 'Gucd1', 'Hars2', 'Ctns', 'Cyfip2', 'Ascl1', 'Fam32a', 'Catsperd', 'Lrrc1', 'Zfp329', 'Zcchc17', 'Iah1', 'Arl6ip4', 'Ngef', 'Nrgn', 'Mccc1os', 'Dnaja4', 'Slc44a5', 'Kcnt1', 'Rnf144b', 'Rtf1', 'Pdia5', 'Pou3f1', 'Pkn1', 'Zfp513', 'Cd81', 'Sap130', 'Slmap', 'Zfp414', 'Mecp2', 'Uqcrc1', 'Mfn2', 'Kbtbd7', 'Plin2', 'Gbas', 'Lca5', 'Hcrtr1', 'Rad51ap1', 'Dpysl5', 'Rgs9', 'Gm26862', 'Atp6v0a2', 'Fmod', 'Zfp236', 'Nceh1', 'Mlh1', 'Slc25a46', 'Zfp292', 'Ywhab', 'Sirt4', 'Susd4', 'Vwa8', 'Nos3', 'Dut', 'Acp2', 'Serpini1', 'Gabrb2', 'Ero1l', 'Pced1a', 'Mocos', 'Polr2c', 'Jup', 'Mrps17', 'Clec14a', 'Fam151b', 'Tet1', 'Bmp7', 'Foxq1', '9430091E24Rik', 'Timm8a1', 'Umps', 'Slmo2', 'Efcab6', 'Pgp', 'Mllt1', 'Vrk3', 'Cmtm7', 'Tmod1', 'mmu-mir-703', 'Cacna1g', 'Rps27', 'Ctsz', 'Drap1', 'Asphd2', 'Taf6l', 'Arl3', 'Syngr3', 'Rrp36', 'Idh3b', 'Morc3', 'Pitpnm1', 'Hexa', 'Atp1a1', 'Trmt13', 'Metap1', 'Stard5', 'Fam81a', 'Lst1', 'Nrxn3', 'Prelid1', 'Wscd1', 'Cmc1', 'Prkca', 'Hdgfrp3', 'Zfp553', 'Gm17259', 'Gcsh', 'Degs1', 'Urod', 'Cecr2', 'Ngly1', 'Dock9', 'Rad21', 'Ifi27', 'Minos1', 'Flywch1', 'Engase', 'Cstf1', 'Rgs14', 'Diap1', 'Fut10', 'Arhgef6', 'Cdc42se1', 'Capg', 'Zdhhc9', 'Pcgf6', 'Rnf215', 'Mapk14', 'C330018D20Rik', 'F11r', 'Gtf2f2', 'Gm20646', 'Msmo1', 'D330023K18Rik', 'Gm15939', 'Ednrb', 'Ephx2', 'Jakmip3', 'Larp1', 'Eapp', 'Hspb1', '1700101E01Rik', 'Anapc2', 'Dhrs1', 'Ube2m', 'Lin54', 'Pcsk2', 'Glyctk', 'Fam114a2', 'Nfyc', 'Llgl1', 'Stat3', 'Mcat', 'Lemd2', 'Dag1', 'Fbln1', 'Trnp1', 'Krba1', 'Tpst2', 'Ykt6', 'Pphln1', 'Rhot1', 'Gnptab', 'Atrn', 'Bhlhe22', 'Sh3gl3', 'Gm29543', 'Tbc1d24', 'Ttyh1', 'Sh3bp4', 'Ramp1', 'Surf1', 'Nfya', 'Scn1a', 'Tmem222', 'Atp6v1a', 'Laptm5', 'Bace2', 'Cacna2d2', 'Eci1', 'Snap25', 'Ddhd1', 'Gng4', 'Ndufa3', 'Cplx1', 'Pld5', 'Ptges3l', 'Tango2', 'Tbc1d12', 'Cdyl', 'Ptp4a1', 'Clasrp', 'Gm11549', 'Slc8b1', 'Tom1l1', 'Cald1', 'Naga', 'Pdgfd', 'Cdk9', '9330185C12Rik', 'Rtn4ip1', 'Gpsm3', 'Hivep2', 'Fgf11', 'Sgsh', 'Sgip1', 'Bcam', 'Jmjd7', 'Zfp512', 'AI606181', 'Kif5c', 'Wsb2', 'Acss3', 'Moxd1', 'Ddrgk1', 'Cd34', 'Rfesd', 'Gpn2', 'Vim', 'Uap1l1', 'Evi2a', 'Meis2', 'Naa35', 'Nosip', 'Map2', 'D030047H15Rik', 'Ctsa', 'Fam73a', 'Dock11', 'Thrsp', 'Kremen1', 'Pygm', 'Snph', 'Gtdc1', 'P2ry1', 'Taf3', 'Gabrg1', 'Rps21', 'Rgs6', 'Mmgt1', 'Nudt6', 'Phlpp2', 'Nomo1', 'Fam171b', 'Igsf9', 'Tef', 'Nupr1', 'Pfas', 'Eno1', 'Egfl7', 'Akna', 'Tm9sf4', 'Acad11', 'Dgkq', 'Rxra', 'Aldh18a1', 'Kcnj12', 'Tnnc1', 'Zhx1', '4833439L19Rik', 'Nr2f2', 'Cyp2j6', 'Gm16365', 'Cgrrf1', 'Med25', 'Stoml1', 'Fam213a', 'S100a4', 'Desi2', 'Fam98a', 'Fjx1', 'Hcfc2', 'Cnst', 'Tbrg4', 'Nrip3', 'Letm1', 'Yap1', 'Alg3', 'Rasgrp3', 'Tmco5', 'Slc29a1', 'Nubp2', 'Wdr86', 'Mettl9', '1500004A13Rik', 'Cdh3', 'AI314180', 'Rpa3', 'Cd93', 'Car14', 'Gpr173', 'Gkap1', 'Cttnbp2', 'Megf10', 'Vmac', 'Utrn', 'Rps2', 'Snrpb', 'Ehmt2', 'Sncg', 'Zscan18', 'Mea1', 'Ltc4s', 'Rogdi', 'Slc30a7', 'Pfn1', 'Skida1', 'Tpx2']), 'obs_dfs': [                                 gene_area          annotation species_id  \\\n",
      "668_1414_Macaque_T36_4  Macaque_background  Macaque_background    Macaque   \n",
      "668_1415_Macaque_T36_4  Macaque_background  Macaque_background    Macaque   \n",
      "668_1416_Macaque_T36_4  Macaque_background  Macaque_background    Macaque   \n",
      "668_1417_Macaque_T36_4  Macaque_background  Macaque_background    Macaque   \n",
      "668_1418_Macaque_T36_4  Macaque_background  Macaque_background    Macaque   \n",
      "...                                    ...                 ...        ...   \n",
      "911_1362_Macaque_T36_4  Macaque_background  Macaque_background    Macaque   \n",
      "911_1363_Macaque_T36_4  Macaque_background  Macaque_background    Macaque   \n",
      "911_1364_Macaque_T36_4  Macaque_background  Macaque_background    Macaque   \n",
      "911_1365_Macaque_T36_4  Macaque_background  Macaque_background    Macaque   \n",
      "911_1366_Macaque_T36_4  Macaque_background  Macaque_background    Macaque   \n",
      "\n",
      "                       batch_name slice_name louvain mclust mclust_separate  \\\n",
      "668_1414_Macaque_T36_4      T36_4      T36_4       0      9               9   \n",
      "668_1415_Macaque_T36_4      T36_4      T36_4       0      9               9   \n",
      "668_1416_Macaque_T36_4      T36_4      T36_4       0      6               6   \n",
      "668_1417_Macaque_T36_4      T36_4      T36_4       0      6               6   \n",
      "668_1418_Macaque_T36_4      T36_4      T36_4       0      6               6   \n",
      "...                           ...        ...     ...    ...             ...   \n",
      "911_1362_Macaque_T36_4      T36_4      T36_4       0      9               9   \n",
      "911_1363_Macaque_T36_4      T36_4      T36_4       2      9               9   \n",
      "911_1364_Macaque_T36_4      T36_4      T36_4       0      6               6   \n",
      "911_1365_Macaque_T36_4      T36_4      T36_4       0      6               6   \n",
      "911_1366_Macaque_T36_4      T36_4      T36_4       0      1               1   \n",
      "\n",
      "                       STAGATE_annotation      region         region_name  \\\n",
      "668_1414_Macaque_T36_4         background  background  Macaque_background   \n",
      "668_1415_Macaque_T36_4         background  background  Macaque_background   \n",
      "668_1416_Macaque_T36_4         background  background  Macaque_background   \n",
      "668_1417_Macaque_T36_4         background  background  Macaque_background   \n",
      "668_1418_Macaque_T36_4         background  background  Macaque_background   \n",
      "...                                   ...         ...                 ...   \n",
      "911_1362_Macaque_T36_4         background  background  Macaque_background   \n",
      "911_1363_Macaque_T36_4         background  background  Macaque_background   \n",
      "911_1364_Macaque_T36_4         background  background  Macaque_background   \n",
      "911_1365_Macaque_T36_4         background  background  Macaque_background   \n",
      "911_1366_Macaque_T36_4         background  background  Macaque_background   \n",
      "\n",
      "                        Macaque ITPKA  Macaque AMIGO2  Macaque HS3ST4  \\\n",
      "668_1414_Macaque_T36_4            0.0             0.0             0.0   \n",
      "668_1415_Macaque_T36_4            0.0             0.0             0.0   \n",
      "668_1416_Macaque_T36_4            0.0             0.0             0.0   \n",
      "668_1417_Macaque_T36_4            0.0             0.0             0.0   \n",
      "668_1418_Macaque_T36_4            0.0             0.0             0.0   \n",
      "...                               ...             ...             ...   \n",
      "911_1362_Macaque_T36_4            0.0             0.0             0.0   \n",
      "911_1363_Macaque_T36_4            0.0             0.0             0.0   \n",
      "911_1364_Macaque_T36_4            0.0             0.0             0.0   \n",
      "911_1365_Macaque_T36_4            0.0             0.0             0.0   \n",
      "911_1366_Macaque_T36_4            0.0             0.0             0.0   \n",
      "\n",
      "                        Macaque LRRTM4 cluster_region clust_lbs  \n",
      "668_1414_Macaque_T36_4             0.0             58         6  \n",
      "668_1415_Macaque_T36_4             0.0             12        18  \n",
      "668_1416_Macaque_T36_4             0.0             32       182  \n",
      "668_1417_Macaque_T36_4             0.0              9         3  \n",
      "668_1418_Macaque_T36_4             0.0             22         7  \n",
      "...                                ...            ...       ...  \n",
      "911_1362_Macaque_T36_4             0.0             39        18  \n",
      "911_1363_Macaque_T36_4             0.0            119        72  \n",
      "911_1364_Macaque_T36_4             0.0             13        20  \n",
      "911_1365_Macaque_T36_4             0.0             32         3  \n",
      "911_1366_Macaque_T36_4             0.0             58         6  \n",
      "\n",
      "[28499 rows x 17 columns],                       n_genes_by_counts  log1p_n_genes_by_counts  \\\n",
      "GATGCGACTCCTCG_Mouse               4355                 8.379309   \n",
      "TCTCATGGGTGGGA_Mouse               3886                 8.265393   \n",
      "ACAGGGTTTATCGA_Mouse               3891                 8.266678   \n",
      "TGGCGAAACAGATA_Mouse               3897                 8.268219   \n",
      "TTGAGCTTCCGCTT_Mouse               3706                 8.217978   \n",
      "...                                 ...                      ...   \n",
      "ATAAGGGGTGAGTT_Mouse                 10                 2.397895   \n",
      "AAAATATTAAGCCC_Mouse                 10                 2.397895   \n",
      "GGTCAGGTTAACGT_Mouse                  9                 2.302585   \n",
      "CATTATGGAATTCT_Mouse                  9                 2.302585   \n",
      "GTCAATAAAGGGCG_Mouse                  9                 2.302585   \n",
      "\n",
      "                      total_counts  log1p_total_counts  \\\n",
      "GATGCGACTCCTCG_Mouse         12722            9.451167   \n",
      "TCTCATGGGTGGGA_Mouse         10775            9.285077   \n",
      "ACAGGGTTTATCGA_Mouse          9605            9.170143   \n",
      "TGGCGAAACAGATA_Mouse          9342            9.142383   \n",
      "TTGAGCTTCCGCTT_Mouse          8763            9.078408   \n",
      "...                            ...                 ...   \n",
      "ATAAGGGGTGAGTT_Mouse            10            2.397895   \n",
      "AAAATATTAAGCCC_Mouse            10            2.397895   \n",
      "GGTCAGGTTAACGT_Mouse            10            2.397895   \n",
      "CATTATGGAATTCT_Mouse            10            2.397895   \n",
      "GTCAATAAAGGGCG_Mouse            10            2.397895   \n",
      "\n",
      "                      pct_counts_in_top_50_genes  pct_counts_in_top_100_genes  \\\n",
      "GATGCGACTCCTCG_Mouse                   16.436095                    23.219620   \n",
      "TCTCATGGGTGGGA_Mouse                   28.232019                    34.208817   \n",
      "ACAGGGTTTATCGA_Mouse                   15.783446                    22.342530   \n",
      "TGGCGAAACAGATA_Mouse                   14.493684                    20.798544   \n",
      "TTGAGCTTCCGCTT_Mouse                   16.375670                    22.389593   \n",
      "...                                          ...                          ...   \n",
      "ATAAGGGGTGAGTT_Mouse                  100.000000                   100.000000   \n",
      "AAAATATTAAGCCC_Mouse                  100.000000                   100.000000   \n",
      "GGTCAGGTTAACGT_Mouse                  100.000000                   100.000000   \n",
      "CATTATGGAATTCT_Mouse                  100.000000                   100.000000   \n",
      "GTCAATAAAGGGCG_Mouse                  100.000000                   100.000000   \n",
      "\n",
      "                      pct_counts_in_top_200_genes  \\\n",
      "GATGCGACTCCTCG_Mouse                    31.944663   \n",
      "TCTCATGGGTGGGA_Mouse                    41.466357   \n",
      "ACAGGGTTTATCGA_Mouse                    30.754815   \n",
      "TGGCGAAACAGATA_Mouse                    29.319204   \n",
      "TTGAGCTTCCGCTT_Mouse                    30.857012   \n",
      "...                                           ...   \n",
      "ATAAGGGGTGAGTT_Mouse                   100.000000   \n",
      "AAAATATTAAGCCC_Mouse                   100.000000   \n",
      "GGTCAGGTTAACGT_Mouse                   100.000000   \n",
      "CATTATGGAATTCT_Mouse                   100.000000   \n",
      "GTCAATAAAGGGCG_Mouse                   100.000000   \n",
      "\n",
      "                      pct_counts_in_top_500_genes louvain species_id  ...  \\\n",
      "GATGCGACTCCTCG_Mouse                    47.107373       8      Mouse  ...   \n",
      "TCTCATGGGTGGGA_Mouse                    54.542923       7      Mouse  ...   \n",
      "ACAGGGTTTATCGA_Mouse                    46.496616       3      Mouse  ...   \n",
      "TGGCGAAACAGATA_Mouse                    44.872618       4      Mouse  ...   \n",
      "TTGAGCTTCCGCTT_Mouse                    46.901746       3      Mouse  ...   \n",
      "...                                           ...     ...        ...  ...   \n",
      "ATAAGGGGTGAGTT_Mouse                   100.000000       2      Mouse  ...   \n",
      "AAAATATTAAGCCC_Mouse                   100.000000       4      Mouse  ...   \n",
      "GGTCAGGTTAACGT_Mouse                   100.000000       1      Mouse  ...   \n",
      "CATTATGGAATTCT_Mouse                   100.000000       0      Mouse  ...   \n",
      "GTCAATAAAGGGCG_Mouse                   100.000000       1      Mouse  ...   \n",
      "\n",
      "                     slice_name mclust mclust_separate STAGATE_annotation  \\\n",
      "GATGCGACTCCTCG_Mouse      Mouse      8               8                CA2   \n",
      "TCTCATGGGTGGGA_Mouse      Mouse      9               9         background   \n",
      "ACAGGGTTTATCGA_Mouse      Mouse     10              10                CA3   \n",
      "TGGCGAAACAGATA_Mouse      Mouse      7               7         background   \n",
      "TTGAGCTTCCGCTT_Mouse      Mouse     10              10                CA3   \n",
      "...                         ...    ...             ...                ...   \n",
      "ATAAGGGGTGAGTT_Mouse      Mouse      5               5         background   \n",
      "AAAATATTAAGCCC_Mouse      Mouse      2               2                CA1   \n",
      "GGTCAGGTTAACGT_Mouse      Mouse      5               5         background   \n",
      "CATTATGGAATTCT_Mouse      Mouse      5               5         background   \n",
      "GTCAATAAAGGGCG_Mouse      Mouse      5               5         background   \n",
      "\n",
      "                          region       region_name        annotation  \\\n",
      "GATGCGACTCCTCG_Mouse         CA2         Mouse_CA2         Mouse_CA2   \n",
      "TCTCATGGGTGGGA_Mouse  background  Mouse_background  Mouse_background   \n",
      "ACAGGGTTTATCGA_Mouse         CA3         Mouse_CA3         Mouse_CA3   \n",
      "TGGCGAAACAGATA_Mouse  background  Mouse_background  Mouse_background   \n",
      "TTGAGCTTCCGCTT_Mouse         CA3         Mouse_CA3         Mouse_CA3   \n",
      "...                          ...               ...               ...   \n",
      "ATAAGGGGTGAGTT_Mouse  background  Mouse_background  Mouse_background   \n",
      "AAAATATTAAGCCC_Mouse         CA1         Mouse_CA1         Mouse_CA1   \n",
      "GGTCAGGTTAACGT_Mouse  background  Mouse_background  Mouse_background   \n",
      "CATTATGGAATTCT_Mouse  background  Mouse_background  Mouse_background   \n",
      "GTCAATAAAGGGCG_Mouse  background  Mouse_background  Mouse_background   \n",
      "\n",
      "                             gene_area cluster_region clust_lbs  \n",
      "GATGCGACTCCTCG_Mouse         Mouse_CA2              4         6  \n",
      "TCTCATGGGTGGGA_Mouse  Mouse_background             34        28  \n",
      "ACAGGGTTTATCGA_Mouse         Mouse_CA3             11         6  \n",
      "TGGCGAAACAGATA_Mouse  Mouse_background              5         1  \n",
      "TTGAGCTTCCGCTT_Mouse         Mouse_CA3             14         6  \n",
      "...                                ...            ...       ...  \n",
      "ATAAGGGGTGAGTT_Mouse  Mouse_background             33        18  \n",
      "AAAATATTAAGCCC_Mouse         Mouse_CA1            101        39  \n",
      "GGTCAGGTTAACGT_Mouse  Mouse_background             33       153  \n",
      "CATTATGGAATTCT_Mouse  Mouse_background             33        18  \n",
      "GTCAATAAAGGGCG_Mouse  Mouse_background             33        71  \n",
      "\n",
      "[21919 rows x 21 columns]], 'dataset_names': ('Macaque', 'Mouse'), 'ntypes': {'o': 'cell', 'v': 'gene'}, 'etypes': {'ov': 'express', 'vo': 'expressed_by', 'vv': 'homolog_with', 'oo': 'similar_to'}}\n",
      "6256\n",
      "6180\n",
      "Region name 668_1414_Macaque_T36_4    Macaque_background\n",
      "668_1415_Macaque_T36_4    Macaque_background\n",
      "668_1416_Macaque_T36_4    Macaque_background\n",
      "668_1417_Macaque_T36_4    Macaque_background\n",
      "668_1418_Macaque_T36_4    Macaque_background\n",
      "                                 ...        \n",
      "911_1362_Macaque_T36_4    Macaque_background\n",
      "911_1363_Macaque_T36_4    Macaque_background\n",
      "911_1364_Macaque_T36_4    Macaque_background\n",
      "911_1365_Macaque_T36_4    Macaque_background\n",
      "911_1366_Macaque_T36_4    Macaque_background\n",
      "Name: region_name, Length: 28499, dtype: category\n",
      "Categories (9, object): ['Macaque_CA1', 'Macaque_CA2', 'Macaque_CA3', 'Macaque_CA4', ..., 'Macaque_SUB', 'Macaque_background', 'Macaque_paraS', 'Macaque_preS']\n",
      "Region name GATGCGACTCCTCG_Mouse           Mouse_CA2\n",
      "TCTCATGGGTGGGA_Mouse    Mouse_background\n",
      "ACAGGGTTTATCGA_Mouse           Mouse_CA3\n",
      "TGGCGAAACAGATA_Mouse    Mouse_background\n",
      "TTGAGCTTCCGCTT_Mouse           Mouse_CA3\n",
      "                              ...       \n",
      "ATAAGGGGTGAGTT_Mouse    Mouse_background\n",
      "AAAATATTAAGCCC_Mouse           Mouse_CA1\n",
      "GGTCAGGTTAACGT_Mouse    Mouse_background\n",
      "CATTATGGAATTCT_Mouse    Mouse_background\n",
      "GTCAATAAAGGGCG_Mouse    Mouse_background\n",
      "Name: region_name, Length: 21919, dtype: category\n",
      "Categories (5, object): ['Mouse_CA1', 'Mouse_CA2', 'Mouse_CA3', 'Mouse_DG', 'Mouse_background']\n",
      "{'CA1': '#CD4537', 'CA2': '#F59E1D', 'CA3': '#28AF60', 'DG': '#3A97D2', 'preS': '#8A4AA2', 'SUB': '#6E4D44', 'paraS': '#F1C7BC', 'CA4': '#FFACD5', 'Background': '#7FCBBE'}\n",
      "{'Macaque_CA1': '#CD4537', 'Macaque_CA2': '#F59E1D', 'Macaque_CA3': '#28AF60', 'Macaque_DG': '#3A97D2', 'Macaque_preS': '#8A4AA2', 'Macaque_SUB': '#6E4D44', 'Macaque_paraS': '#F1C7BC', 'Macaque_CA4': '#FFACD5', 'Macaque_background': '#7FCBBE', 'Mouse_CA1': '#CD4537', 'Mouse_CA2': '#F59E1D', 'Mouse_CA3': '#28AF60', 'Mouse_DG': '#3A97D2', 'Mouse_background': '#7FCBBE'}\n",
      "{'Macaque_CA1': 'CA1', 'Macaque_CA2': 'CA2', 'Macaque_CA3': 'CA3', 'Macaque_DG': 'DG', 'Macaque_preS': 'preS', 'Macaque_SUB': 'SUB', 'Macaque_paraS': 'paraS', 'Macaque_CA4': 'CA4', 'Macaque_background': 'Background'}\n"
     ]
    },
    {
     "name": "stderr",
     "output_type": "stream",
     "text": [
      "... storing 'dataset' as categorical\n",
      "... storing 'acronym' as categorical\n",
      "... storing 'color_hex_triplet' as categorical\n",
      "... storing 'dataset' as categorical\n",
      "... storing 'acronym' as categorical\n",
      "... storing 'color_hex_triplet' as categorical\n",
      "... storing 'region_name' as categorical\n",
      "... storing 'dataset' as categorical\n",
      "... storing 'acronym' as categorical\n",
      "... storing 'color_hex_triplet' as categorical\n",
      "... storing 'annotation' as categorical\n"
     ]
    },
    {
     "name": "stdout",
     "output_type": "stream",
     "text": [
      "[(0.6509803921568628, 0.807843137254902, 0.8901960784313725), (0.12156862745098039, 0.47058823529411764, 0.7058823529411765)]\n",
      "{'Mouse': '#FE1613', 'Macaque': '#5D8AEF'}\n",
      "adata_human_embedding.X.shape (21919, 128)\n",
      "adata_mouse_embedding.X.shape (28499, 128)\n"
     ]
    },
    {
     "name": "stderr",
     "output_type": "stream",
     "text": [
      "2024-03-21 18:15:26,676 font_manager.py-832-set_size(): INFO\n",
      " Fontsize 0.00 < 1.0 pt not allowed by FreeType. Setting fontsize = 1 pt\n",
      "2024-03-21 18:15:26,677 font_manager.py-832-set_size(): INFO\n",
      " Fontsize 0.00 < 1.0 pt not allowed by FreeType. Setting fontsize = 1 pt\n",
      "2024-03-21 18:15:26,678 font_manager.py-832-set_size(): INFO\n",
      " Fontsize 0.00 < 1.0 pt not allowed by FreeType. Setting fontsize = 1 pt\n",
      "2024-03-21 18:15:26,678 font_manager.py-832-set_size(): INFO\n",
      " Fontsize 0.00 < 1.0 pt not allowed by FreeType. Setting fontsize = 1 pt\n",
      "2024-03-21 18:15:26,679 font_manager.py-832-set_size(): INFO\n",
      " Fontsize 0.00 < 1.0 pt not allowed by FreeType. Setting fontsize = 1 pt\n",
      "2024-03-21 18:15:26,680 font_manager.py-832-set_size(): INFO\n",
      " Fontsize 0.00 < 1.0 pt not allowed by FreeType. Setting fontsize = 1 pt\n",
      "2024-03-21 18:15:26,680 font_manager.py-832-set_size(): INFO\n",
      " Fontsize 0.00 < 1.0 pt not allowed by FreeType. Setting fontsize = 1 pt\n",
      "2024-03-21 18:15:26,681 font_manager.py-832-set_size(): INFO\n",
      " Fontsize 0.00 < 1.0 pt not allowed by FreeType. Setting fontsize = 1 pt\n",
      "2024-03-21 18:15:26,682 font_manager.py-832-set_size(): INFO\n",
      " Fontsize 0.00 < 1.0 pt not allowed by FreeType. Setting fontsize = 1 pt\n",
      "2024-03-21 18:15:26,682 font_manager.py-832-set_size(): INFO\n",
      " Fontsize 0.00 < 1.0 pt not allowed by FreeType. Setting fontsize = 1 pt\n",
      "2024-03-21 18:15:26,683 font_manager.py-832-set_size(): INFO\n",
      " Fontsize 0.00 < 1.0 pt not allowed by FreeType. Setting fontsize = 1 pt\n",
      "2024-03-21 18:15:26,684 font_manager.py-832-set_size(): INFO\n",
      " Fontsize 0.00 < 1.0 pt not allowed by FreeType. Setting fontsize = 1 pt\n",
      "2024-03-21 18:15:26,685 font_manager.py-832-set_size(): INFO\n",
      " Fontsize 0.00 < 1.0 pt not allowed by FreeType. Setting fontsize = 1 pt\n",
      "2024-03-21 18:15:26,685 font_manager.py-832-set_size(): INFO\n",
      " Fontsize 0.00 < 1.0 pt not allowed by FreeType. Setting fontsize = 1 pt\n",
      "2024-03-21 18:15:26,686 font_manager.py-832-set_size(): INFO\n",
      " Fontsize 0.00 < 1.0 pt not allowed by FreeType. Setting fontsize = 1 pt\n",
      "2024-03-21 18:15:26,687 font_manager.py-832-set_size(): INFO\n",
      " Fontsize 0.00 < 1.0 pt not allowed by FreeType. Setting fontsize = 1 pt\n",
      "2024-03-21 18:15:26,687 font_manager.py-832-set_size(): INFO\n",
      " Fontsize 0.00 < 1.0 pt not allowed by FreeType. Setting fontsize = 1 pt\n",
      "2024-03-21 18:15:26,688 font_manager.py-832-set_size(): INFO\n",
      " Fontsize 0.00 < 1.0 pt not allowed by FreeType. Setting fontsize = 1 pt\n",
      "2024-03-21 18:15:26,689 font_manager.py-832-set_size(): INFO\n",
      " Fontsize 0.00 < 1.0 pt not allowed by FreeType. Setting fontsize = 1 pt\n",
      "2024-03-21 18:15:26,689 font_manager.py-832-set_size(): INFO\n",
      " Fontsize 0.00 < 1.0 pt not allowed by FreeType. Setting fontsize = 1 pt\n",
      "2024-03-21 18:15:26,690 font_manager.py-832-set_size(): INFO\n",
      " Fontsize 0.00 < 1.0 pt not allowed by FreeType. Setting fontsize = 1 pt\n",
      "2024-03-21 18:15:26,691 font_manager.py-832-set_size(): INFO\n",
      " Fontsize 0.00 < 1.0 pt not allowed by FreeType. Setting fontsize = 1 pt\n",
      "2024-03-21 18:15:26,692 font_manager.py-832-set_size(): INFO\n",
      " Fontsize 0.00 < 1.0 pt not allowed by FreeType. Setting fontsize = 1 pt\n",
      "2024-03-21 18:15:26,692 font_manager.py-832-set_size(): INFO\n",
      " Fontsize 0.00 < 1.0 pt not allowed by FreeType. Setting fontsize = 1 pt\n",
      "2024-03-21 18:15:26,693 font_manager.py-832-set_size(): INFO\n",
      " Fontsize 0.00 < 1.0 pt not allowed by FreeType. Setting fontsize = 1 pt\n",
      "2024-03-21 18:15:26,694 font_manager.py-832-set_size(): INFO\n",
      " Fontsize 0.00 < 1.0 pt not allowed by FreeType. Setting fontsize = 1 pt\n",
      "2024-03-21 18:15:26,694 font_manager.py-832-set_size(): INFO\n",
      " Fontsize 0.00 < 1.0 pt not allowed by FreeType. Setting fontsize = 1 pt\n",
      "2024-03-21 18:15:26,699 font_manager.py-832-set_size(): INFO\n",
      " Fontsize 0.00 < 1.0 pt not allowed by FreeType. Setting fontsize = 1 pt\n",
      "2024-03-21 18:15:26,700 font_manager.py-832-set_size(): INFO\n",
      " Fontsize 0.00 < 1.0 pt not allowed by FreeType. Setting fontsize = 1 pt\n",
      "2024-03-21 18:15:26,700 font_manager.py-832-set_size(): INFO\n",
      " Fontsize 0.00 < 1.0 pt not allowed by FreeType. Setting fontsize = 1 pt\n",
      "2024-03-21 18:15:26,701 font_manager.py-832-set_size(): INFO\n",
      " Fontsize 0.00 < 1.0 pt not allowed by FreeType. Setting fontsize = 1 pt\n",
      "2024-03-21 18:15:26,702 font_manager.py-832-set_size(): INFO\n",
      " Fontsize 0.00 < 1.0 pt not allowed by FreeType. Setting fontsize = 1 pt\n"
     ]
    },
    {
     "name": "stdout",
     "output_type": "stream",
     "text": [
      "AnnData object with n_obs × n_vars = 50418 × 128\n",
      "    obs: 'region_name', 'dataset', 'acronym', 'color_hex_triplet', 'annotation'\n"
     ]
    },
    {
     "name": "stderr",
     "output_type": "stream",
     "text": [
      "... storing 'region_name' as categorical\n",
      "... storing 'dataset' as categorical\n",
      "... storing 'acronym' as categorical\n",
      "... storing 'color_hex_triplet' as categorical\n",
      "... storing 'annotation' as categorical\n",
      "... storing 'region_name' as categorical\n"
     ]
    },
    {
     "name": "stdout",
     "output_type": "stream",
     "text": [
      "{'Mouse_CA1': '#CD4537', 'Mouse_CA2': '#F59E1D', 'Mouse_CA3': '#28AF60', 'Mouse_DG': '#3A97D2', 'Mouse_background': '#7FCBBE'}\n",
      "       Mouse      Macaque\n",
      "0  Mouse_CA1  Macaque_CA1\n",
      "1  Mouse_CA2  Macaque_CA2\n",
      "2  Mouse_CA3  Macaque_CA3\n",
      "3   Mouse_DG   Macaque_DG\n",
      "['Macaque_CA1', 'Macaque_CA2', 'Macaque_CA3', 'Macaque_DG', 'Mouse_CA1', 'Mouse_CA2', 'Mouse_CA3', 'Mouse_DG']\n"
     ]
    },
    {
     "name": "stderr",
     "output_type": "stream",
     "text": [
      "... storing 'dataset' as categorical\n",
      "... storing 'acronym' as categorical\n",
      "... storing 'color_hex_triplet' as categorical\n",
      "... storing 'annotation' as categorical\n",
      "... storing 'kmeans11' as categorical\n",
      "... storing 'kmeans22' as categorical\n",
      "... storing 'kmeans64' as categorical\n",
      "... storing 'kmeans100' as categorical\n"
     ]
    },
    {
     "name": "stdout",
     "output_type": "stream",
     "text": [
      "['Macaque_CA1', 'Macaque_CA2', 'Macaque_CA3', 'Macaque_DG', 'Mouse_CA1', 'Mouse_CA2', 'Mouse_CA3', 'Mouse_DG']\n"
     ]
    },
    {
     "name": "stderr",
     "output_type": "stream",
     "text": [
      "... storing 'gene_area' as categorical\n",
      "... storing 'annotation' as categorical\n",
      "... storing 'species_id' as categorical\n",
      "... storing 'batch_name' as categorical\n",
      "... storing 'slice_name' as categorical\n",
      "... storing 'louvain' as categorical\n",
      "... storing 'STAGATE_annotation' as categorical\n",
      "... storing 'region' as categorical\n",
      "... storing 'region_name' as categorical\n",
      "... storing 'dataset' as categorical\n",
      "... storing 'region_name' as categorical\n",
      "... storing 'dataset' as categorical\n",
      "... storing 'acronym' as categorical\n",
      "... storing 'color_hex_triplet' as categorical\n",
      "... storing 'annotation' as categorical\n",
      "... storing 'dataset' as categorical\n"
     ]
    },
    {
     "name": "stdout",
     "output_type": "stream",
     "text": [
      "{'Method': ['Unaligned', 'BrainAlign'], 'Alignment score': [0.5054568126608115, 0.8929321759795977]}\n"
     ]
    },
    {
     "name": "stderr",
     "output_type": "stream",
     "text": [
      "... storing 'dataset' as categorical\n"
     ]
    },
    {
     "name": "stdout",
     "output_type": "stream",
     "text": [
      "AnnData object with n_obs × n_vars = 21919 × 14333\n",
      "    obs: 'n_genes_by_counts', 'log1p_n_genes_by_counts', 'total_counts', 'log1p_total_counts', 'pct_counts_in_top_50_genes', 'pct_counts_in_top_100_genes', 'pct_counts_in_top_200_genes', 'pct_counts_in_top_500_genes', 'louvain', 'species_id', 'batch_name', 'slice_name', 'mclust', 'mclust_separate', 'STAGATE_annotation', 'region', 'region_name', 'annotation', 'gene_area'\n",
      "    var: 'n_cells_by_counts', 'mean_counts', 'log1p_mean_counts', 'pct_dropout_by_counts', 'total_counts', 'log1p_total_counts', 'n_cells', 'highly_variable', 'highly_variable_rank', 'means', 'variances', 'variances_norm'\n",
      "    uns: 'Spatial_Net', 'adj', 'batch_name_colors', 'hvg', 'log1p', 'louvain', 'louvain_colors', 'mclust_colors', 'mclust_separate_colors', 'neighbors', 'pca', 'umap'\n",
      "    obsm: 'STAGATE', 'X_pca', 'X_umap', 'spatial'\n",
      "    varm: 'PCs'\n",
      "    obsp: 'connectivities', 'distances'\n",
      "AnnData object with n_obs × n_vars = 28499 × 14932\n",
      "    obs: 'gene_area', 'annotation', 'species_id', 'batch_name', 'slice_name', 'louvain', 'mclust', 'mclust_separate', 'STAGATE_annotation', 'region', 'region_name', 'Macaque ITPKA', 'Macaque AMIGO2', 'Macaque HS3ST4', 'Macaque LRRTM4'\n",
      "    var: 'highly_variable', 'highly_variable_rank', 'means', 'variances', 'variances_norm'\n",
      "    uns: 'STAGATE_annotation_colors', 'Spatial_Net', 'adj', 'annotation_colors', 'batch_name_colors', 'hvg', 'log1p', 'louvain', 'louvain_colors', 'mclust_colors', 'mclust_separate_colors', 'neighbors', 'umap'\n",
      "    obsm: 'STAGATE', 'X_umap', 'spatial'\n",
      "    obsp: 'connectivities', 'distances'\n",
      "       Mouse      Macaque\n",
      "0  Mouse_CA1  Macaque_CA1\n",
      "1  Mouse_CA2  Macaque_CA2\n",
      "2  Mouse_CA3  Macaque_CA3\n",
      "3   Mouse_DG   Macaque_DG\n",
      "1-th region finished!\n",
      "2-th region finished!\n",
      "3-th region finished!\n",
      "4-th region finished!\n",
      "       Mouse      Macaque\n",
      "0  Mouse_CA1  Macaque_CA1\n",
      "1  Mouse_CA2  Macaque_CA2\n",
      "2  Mouse_CA3  Macaque_CA3\n",
      "3   Mouse_DG   Macaque_DG\n",
      "1-th region finished!\n",
      "2-th region finished!\n",
      "3-th region finished!\n",
      "4-th region finished!\n",
      "5-th region finished!\n",
      "6-th region finished!\n",
      "7-th region finished!\n",
      "8-th region finished!\n",
      "9-th region finished!\n",
      "10-th region finished!\n",
      "11-th region finished!\n",
      "12-th region finished!\n",
      "13-th region finished!\n",
      "14-th region finished!\n",
      "15-th region finished!\n",
      "16-th region finished!\n",
      "17-th region finished!\n",
      "18-th region finished!\n",
      "19-th region finished!\n",
      "20-th region finished!\n",
      "21-th region finished!\n",
      "22-th region finished!\n",
      "23-th region finished!\n",
      "24-th region finished!\n",
      "25-th region finished!\n",
      "26-th region finished!\n",
      "27-th region finished!\n",
      "28-th region finished!\n",
      "29-th region finished!\n",
      "30-th region finished!\n",
      "31-th region finished!\n",
      "32-th region finished!\n",
      "33-th region finished!\n",
      "34-th region finished!\n",
      "35-th region finished!\n",
      "36-th region finished!\n",
      "37-th region finished!\n",
      "38-th region finished!\n",
      "39-th region finished!\n",
      "40-th region finished!\n",
      "41-th region finished!\n",
      "p-value annotation legend:\n",
      "ns: 5.00e-02 < p <= 1.00e+00\n",
      "*: 1.00e-02 < p <= 5.00e-02\n",
      "**: 1.00e-03 < p <= 1.00e-02\n",
      "***: 1.00e-04 < p <= 1.00e-03\n",
      "****: p <= 1.00e-04\n",
      "\n",
      "Homologous v.s. Random: t-test independent samples with Bonferroni correction, P_val=2.706e-03 stat=3.183e+00\n",
      "R = -0.2959532721462045, P = 0.7040467278537955\n",
      "Ttest_indResult(statistic=7.699555910519429, pvalue=2.5541011777004947e-06)\n"
     ]
    },
    {
     "name": "stderr",
     "output_type": "stream",
     "text": [
      "2024-03-21 19:30:43,658 font_manager.py-832-set_size(): INFO\n",
      " Fontsize 0.00 < 1.0 pt not allowed by FreeType. Setting fontsize = 1 pt\n",
      "2024-03-21 19:30:43,659 font_manager.py-832-set_size(): INFO\n",
      " Fontsize 0.00 < 1.0 pt not allowed by FreeType. Setting fontsize = 1 pt\n",
      "2024-03-21 19:30:43,660 font_manager.py-832-set_size(): INFO\n",
      " Fontsize 0.00 < 1.0 pt not allowed by FreeType. Setting fontsize = 1 pt\n",
      "2024-03-21 19:30:43,662 font_manager.py-832-set_size(): INFO\n",
      " Fontsize 0.00 < 1.0 pt not allowed by FreeType. Setting fontsize = 1 pt\n",
      "2024-03-21 19:30:43,662 font_manager.py-832-set_size(): INFO\n",
      " Fontsize 0.00 < 1.0 pt not allowed by FreeType. Setting fontsize = 1 pt\n",
      "2024-03-21 19:30:43,663 font_manager.py-832-set_size(): INFO\n",
      " Fontsize 0.00 < 1.0 pt not allowed by FreeType. Setting fontsize = 1 pt\n",
      "2024-03-21 19:30:43,664 font_manager.py-832-set_size(): INFO\n",
      " Fontsize 0.00 < 1.0 pt not allowed by FreeType. Setting fontsize = 1 pt\n",
      "2024-03-21 19:30:43,665 font_manager.py-832-set_size(): INFO\n",
      " Fontsize 0.00 < 1.0 pt not allowed by FreeType. Setting fontsize = 1 pt\n",
      "2024-03-21 19:30:43,666 font_manager.py-832-set_size(): INFO\n",
      " Fontsize 0.00 < 1.0 pt not allowed by FreeType. Setting fontsize = 1 pt\n",
      "2024-03-21 19:30:43,666 font_manager.py-832-set_size(): INFO\n",
      " Fontsize 0.00 < 1.0 pt not allowed by FreeType. Setting fontsize = 1 pt\n",
      "2024-03-21 19:30:43,667 font_manager.py-832-set_size(): INFO\n",
      " Fontsize 0.00 < 1.0 pt not allowed by FreeType. Setting fontsize = 1 pt\n",
      "2024-03-21 19:30:43,668 font_manager.py-832-set_size(): INFO\n",
      " Fontsize 0.00 < 1.0 pt not allowed by FreeType. Setting fontsize = 1 pt\n",
      "2024-03-21 19:30:43,669 font_manager.py-832-set_size(): INFO\n",
      " Fontsize 0.00 < 1.0 pt not allowed by FreeType. Setting fontsize = 1 pt\n",
      "2024-03-21 19:30:43,670 font_manager.py-832-set_size(): INFO\n",
      " Fontsize 0.00 < 1.0 pt not allowed by FreeType. Setting fontsize = 1 pt\n",
      "2024-03-21 19:30:43,671 font_manager.py-832-set_size(): INFO\n",
      " Fontsize 0.00 < 1.0 pt not allowed by FreeType. Setting fontsize = 1 pt\n",
      "2024-03-21 19:30:43,672 font_manager.py-832-set_size(): INFO\n",
      " Fontsize 0.00 < 1.0 pt not allowed by FreeType. Setting fontsize = 1 pt\n",
      "2024-03-21 19:30:43,673 font_manager.py-832-set_size(): INFO\n",
      " Fontsize 0.00 < 1.0 pt not allowed by FreeType. Setting fontsize = 1 pt\n",
      "2024-03-21 19:30:43,673 font_manager.py-832-set_size(): INFO\n",
      " Fontsize 0.00 < 1.0 pt not allowed by FreeType. Setting fontsize = 1 pt\n",
      "2024-03-21 19:30:43,674 font_manager.py-832-set_size(): INFO\n",
      " Fontsize 0.00 < 1.0 pt not allowed by FreeType. Setting fontsize = 1 pt\n",
      "2024-03-21 19:30:43,675 font_manager.py-832-set_size(): INFO\n",
      " Fontsize 0.00 < 1.0 pt not allowed by FreeType. Setting fontsize = 1 pt\n",
      "2024-03-21 19:30:43,676 font_manager.py-832-set_size(): INFO\n",
      " Fontsize 0.00 < 1.0 pt not allowed by FreeType. Setting fontsize = 1 pt\n",
      "2024-03-21 19:30:43,682 font_manager.py-832-set_size(): INFO\n",
      " Fontsize 0.00 < 1.0 pt not allowed by FreeType. Setting fontsize = 1 pt\n",
      "2024-03-21 19:30:43,683 font_manager.py-832-set_size(): INFO\n",
      " Fontsize 0.00 < 1.0 pt not allowed by FreeType. Setting fontsize = 1 pt\n",
      "2024-03-21 19:30:43,684 font_manager.py-832-set_size(): INFO\n",
      " Fontsize 0.00 < 1.0 pt not allowed by FreeType. Setting fontsize = 1 pt\n",
      "2024-03-21 19:30:43,685 font_manager.py-832-set_size(): INFO\n",
      " Fontsize 0.00 < 1.0 pt not allowed by FreeType. Setting fontsize = 1 pt\n",
      "2024-03-21 19:30:43,686 font_manager.py-832-set_size(): INFO\n",
      " Fontsize 0.00 < 1.0 pt not allowed by FreeType. Setting fontsize = 1 pt\n",
      "2024-03-21 19:30:43,686 font_manager.py-832-set_size(): INFO\n",
      " Fontsize 0.00 < 1.0 pt not allowed by FreeType. Setting fontsize = 1 pt\n",
      "2024-03-21 19:30:43,687 font_manager.py-832-set_size(): INFO\n",
      " Fontsize 0.00 < 1.0 pt not allowed by FreeType. Setting fontsize = 1 pt\n",
      "2024-03-21 19:30:43,687 font_manager.py-832-set_size(): INFO\n",
      " Fontsize 0.00 < 1.0 pt not allowed by FreeType. Setting fontsize = 1 pt\n",
      "2024-03-21 19:30:43,688 font_manager.py-832-set_size(): INFO\n",
      " Fontsize 0.00 < 1.0 pt not allowed by FreeType. Setting fontsize = 1 pt\n",
      "2024-03-21 19:30:43,689 font_manager.py-832-set_size(): INFO\n",
      " Fontsize 0.00 < 1.0 pt not allowed by FreeType. Setting fontsize = 1 pt\n",
      "2024-03-21 19:30:43,689 font_manager.py-832-set_size(): INFO\n",
      " Fontsize 0.00 < 1.0 pt not allowed by FreeType. Setting fontsize = 1 pt\n",
      "... storing 'dataset' as categorical\n"
     ]
    },
    {
     "name": "stdout",
     "output_type": "stream",
     "text": [
      "AnnData object with n_obs × n_vars = 10130 × 128\n",
      "    obs: 'dataset'\n",
      "    obsm: 'X_pca', 'X_umap'\n"
     ]
    },
    {
     "name": "stderr",
     "output_type": "stream",
     "text": [
      "2024-03-21 21:08:57,232 analyze.py-673-weight_linked_vars(): INFO\n",
      " sorting links by weights\n",
      "2024-03-21 21:08:59,076 preprocess.py-1780-group_mean_sparse(): INFO\n",
      " Calculating feature averages for 9 groups\n",
      "2024-03-21 21:08:59,327 preprocess.py-1780-group_mean_sparse(): INFO\n",
      " Calculating feature averages for 5 groups\n"
     ]
    },
    {
     "name": "stdout",
     "output_type": "stream",
     "text": [
      "figure has been saved into:\n",
      "\t./Results/embeds/figs/1_alignment_STs/4_experiment_cross_species_genes_analysis/umap_exprAvgs-Macaque-all.png\n"
     ]
    },
    {
     "name": "stderr",
     "output_type": "stream",
     "text": [
      "2024-03-21 21:09:02,394 analyze.py-1350-abstract_ov_edges(): WARNING\n",
      " Edges with weights lower than 0 were cut out\n",
      "2024-03-21 21:09:02,398 analyze.py-1400-adj_to_edges(): WARNING\n",
      " Edges with weights lower than 0 were cut out.\n"
     ]
    },
    {
     "name": "stdout",
     "output_type": "stream",
     "text": [
      "figure has been saved into:\n",
      "\t./Results/embeds/figs/1_alignment_STs/4_experiment_cross_species_genes_analysis/umap_exprAvgs-Mouse-all.png\n"
     ]
    },
    {
     "name": "stderr",
     "output_type": "stream",
     "text": [
      "2024-03-21 21:09:02,482 analyze.py-1350-abstract_ov_edges(): WARNING\n",
      " Edges with weights lower than 0 were cut out\n",
      "2024-03-21 21:09:02,485 analyze.py-1400-adj_to_edges(): WARNING\n",
      " Edges with weights lower than 0 were cut out.\n",
      "2024-03-21 21:09:02,664 plot.py-1457-multipartite_layout(): INFO\n",
      " nodes per layer: {nodes_per_layer}\n",
      "2024-03-21 21:09:03,307 preprocess.py-1780-group_mean_sparse(): INFO\n",
      " Calculating feature averages for 4 groups\n"
     ]
    },
    {
     "name": "stdout",
     "output_type": "stream",
     "text": [
      "figure has been saved into:\n",
      "\t./Results/embeds/figs/1_alignment_STs/4_experiment_cross_species_genes_analysis/abstracted_graph-module-cut0-zs.png\n",
      "object saved into:\n",
      "\t ./Results/embeds/abs_graph.pickle\n",
      "3---------------------------------------------------------------------------\n"
     ]
    },
    {
     "name": "stderr",
     "output_type": "stream",
     "text": [
      "2024-03-21 21:09:03,390 preprocess.py-1780-group_mean_sparse(): INFO\n",
      " Calculating feature averages for 4 groups\n"
     ]
    },
    {
     "name": "stdout",
     "output_type": "stream",
     "text": [
      "gadt1 AnnData object with n_obs × n_vars = 6256 × 128\n",
      "    obs: 'dataset', 'module'\n",
      "    uns: 'pca', 'neighbors', 'umap', 'dataset_colors', 'leiden', 'module_colors'\n",
      "    obsm: 'X_pca', 'X_umap'\n",
      "    varm: 'PCs'\n",
      "    obsp: 'distances', 'connectivities'\n",
      "gadt2 AnnData object with n_obs × n_vars = 6180 × 128\n",
      "    obs: 'dataset', 'module'\n",
      "    uns: 'pca', 'neighbors', 'umap', 'dataset_colors', 'leiden', 'module_colors'\n",
      "    obsm: 'X_pca', 'X_umap'\n",
      "    varm: 'PCs'\n",
      "    obsp: 'distances', 'connectivities'\n",
      "figure has been saved into:\n",
      "\t./Results/embeds/figs/1_alignment_STs/4_experiment_cross_species_genes_analysis/homo_umap_exprAvgs-Macaque-all.png\n"
     ]
    },
    {
     "name": "stderr",
     "output_type": "stream",
     "text": [
      "2024-03-21 21:09:05,153 analyze.py-1350-abstract_ov_edges(): WARNING\n",
      " Edges with weights lower than 0 were cut out\n",
      "2024-03-21 21:09:05,156 analyze.py-1400-adj_to_edges(): WARNING\n",
      " Edges with weights lower than 0 were cut out.\n",
      "2024-03-21 21:09:05,230 analyze.py-1350-abstract_ov_edges(): WARNING\n",
      " Edges with weights lower than 0 were cut out\n",
      "2024-03-21 21:09:05,232 analyze.py-1400-adj_to_edges(): WARNING\n",
      " Edges with weights lower than 0 were cut out.\n"
     ]
    },
    {
     "name": "stdout",
     "output_type": "stream",
     "text": [
      "figure has been saved into:\n",
      "\t./Results/embeds/figs/1_alignment_STs/4_experiment_cross_species_genes_analysis/homo_umap_exprAvgs-Mouse-all.png\n",
      "2---------------------------------------------------------------\n"
     ]
    },
    {
     "name": "stderr",
     "output_type": "stream",
     "text": [
      "2024-03-21 21:09:05,410 plot.py-1457-multipartite_layout(): INFO\n",
      " nodes per layer: {nodes_per_layer}\n"
     ]
    },
    {
     "name": "stdout",
     "output_type": "stream",
     "text": [
      "1---------------------------------------------------------------------------\n",
      "figure has been saved into:\n",
      "\t./Results/embeds/figs/1_alignment_STs/4_experiment_cross_species_genes_analysis/homo_abstracted_graph-module-cut0-zs.png\n",
      "object saved into:\n",
      "\t ./Results/embeds/homo_abs_graph.pickle\n",
      "AnnData object with n_obs × n_vars = 10058 × 128\n",
      "    obs: 'dataset', 'module'\n",
      "    obsm: 'X_pca', 'X_umap'\n",
      "(128, 6256)\n",
      "(128, 6180)\n",
      "mean: 0.058338765955756475 std: 0.6947051415869833\n",
      "Var_Corr: (6256, 6180)\n",
      "p-value annotation legend:\n",
      "ns: 5.00e-02 < p <= 1.00e+00\n",
      "*: 1.00e-02 < p <= 5.00e-02\n",
      "**: 1.00e-03 < p <= 1.00e-02\n",
      "***: 1.00e-04 < p <= 1.00e-03\n",
      "****: p <= 1.00e-04\n",
      "\n",
      "homologous v.s. random: t-test independent samples with Bonferroni correction, P_val=0.000e+00 stat=7.488e+01\n",
      "Ttest_indResult(statistic=316.6913706778851, pvalue=0.0)\n",
      "(128, 6256)\n",
      "(128, 6180)\n",
      "(12436, 12436)\n",
      "mean: 20.74765331483523 std: 11.306020493749857\n",
      "Var_Corr: (6256, 6180)\n",
      "Ttest_indResult(statistic=-235.41549643963808, pvalue=0.0)\n",
      "(128, 6256)\n",
      "(128, 6180)\n",
      "(12436, 12436)\n",
      "mean: 0.9417510331675637 std: 0.6942946399138724\n",
      "Var_Corr: (6256, 6180)\n",
      "Ttest_indResult(statistic=-316.031917396147, pvalue=0.0)\n",
      "(128, 6256)\n",
      "(128, 6180)\n",
      "(12436, 12436)\n",
      "mean: 4.510243423559439 std: 2.269844902073838\n",
      "Var_Corr: (6256, 6180)\n",
      "Ttest_indResult(statistic=-184.39221144821659, pvalue=0.0)\n",
      "(128, 6256)\n",
      "(128, 6180)\n",
      "(12436, 12436)\n",
      "mean: 0.9416612340442435 std: 0.6947051415869833\n",
      "Var_Corr: (6256, 6180)\n",
      "Ttest_indResult(statistic=-316.69137067788455, pvalue=0.0)\n",
      "(128, 6256)\n",
      "(128, 6180)\n",
      "(12436, 12436)\n",
      "mean: 1.1663190528597371 std: 0.8522239875199861\n",
      "Var_Corr: (6256, 6180)\n",
      "Ttest_indResult(statistic=-392.3941618029522, pvalue=0.0)\n",
      "(128, 6256)\n",
      "(128, 6180)\n",
      "(12436, 12436)\n",
      "mean: inf std: nan\n",
      "Var_Corr: (6256, 6180)\n",
      "Ttest_indResult(statistic=nan, pvalue=nan)\n",
      "(128, 6256)\n",
      "(128, 6180)\n",
      "(12436, 12436)\n",
      "mean: 87.1364849290737 std: 26.007094783693468\n",
      "Var_Corr: (6256, 6180)\n",
      "Ttest_indResult(statistic=-179.26786477601303, pvalue=0.0)\n",
      "(128, 6256)\n",
      "(128, 6180)\n",
      "(12436, 12436)\n",
      "mean: 20.74765331483523 std: 11.306020493749857\n",
      "Var_Corr: (6256, 6180)\n",
      "Ttest_indResult(statistic=-235.41549643963808, pvalue=0.0)\n"
     ]
    }
   ],
   "source": [
    "# -- coding: utf-8 --\n",
    "\n",
    "import sys\n",
    "sys.path.append('../../../')\n",
    "from BrainAlign.code.utils import set_params\n",
    "from BrainAlign.brain_analysis.configs import sr_rsc_config_binary\n",
    "from BrainAlign.brain_analysis.data_utils import load_dimensions_binary\n",
    "from BrainAlign.brain_analysis import process\n",
    "from BrainAlign.SR_RSC import main_sr_rsc\n",
    "\n",
    "from BrainAlign.brain_analysis.analysis_general import alignment_STs_analysis,\\\n",
    "    gene_comparison\n",
    "\n",
    "from BrainAlign.brain_analysis.analysis import load_srrsc_embeddings\n",
    "# from BrainAlign.brain_analysis.analysis_anatomical import anatomical_STs_analysis\n",
    "\n",
    "# from BrainAlign.brain_analysis.analysis_genomic import genomic_analysis\n",
    "\n",
    "from BrainAlign.brain_analysis.process import get_spatial_relation\n",
    "\n",
    "# from BrainAlign.brain_analysis.analysis_spatial import spatial_analysis\n",
    "\n",
    "import time\n",
    "\n",
    "import warnings\n",
    "warnings.filterwarnings(\"ignore\")\n",
    "import anndata as ad\n",
    "\n",
    "if __name__ == '__main__':\n",
    "    cfg = sr_rsc_config_binary._C\n",
    "\n",
    "    if_train = True\n",
    "\n",
    "    cfg.SRRSC_args.if_pretrained = False\n",
    "    #cfg.freeze()\n",
    "\n",
    "    cfg.CAME.path_rawdata1 = './Data/Macaque.h5ad'\n",
    "    cfg.CAME.path_rawdata2 = './Data/Mouse_MERFISH.h5ad'\n",
    "\n",
    "    # adata_1 = ad.read_h5ad(cfg.CAME.path_rawdata1)\n",
    "    # print(adata_1)\n",
    "    # adata_1.obs['region_name'] = adata_1.obs['gene_area']\n",
    "    # adata_1 = adata_1[adata_1.obs['annotation'].isin(['Macaque_CA1', 'Macaque_CA2', 'Macaque_CA3', 'Macaque_DG'])]\n",
    "    # adata_1.write_h5ad(cfg.CAME.path_rawdata1)\n",
    "    # print(adata_1.obs['gene_area'].unique())\n",
    "    # adata_2 = ad.read_h5ad(cfg.CAME.path_rawdata2)\n",
    "    # adata_2.obs['region_name'] = adata_2.obs['gene_area']\n",
    "    # adata_2 = adata_2[adata_2.obs['annotation'].isin(['Mouse_CA1', 'Mouse_CA2', 'Mouse_CA3', 'Mouse_DG'])]\n",
    "    # adata_2.write_h5ad(cfg.CAME.path_rawdata2)\n",
    "    # print(adata_2)\n",
    "    # print(adata_2.obs['gene_area'].unique())\n",
    "\n",
    "\n",
    "    cfg.CAME.ROOT = './Results/initial_embedding/Macaque-Mouse/'#Baron_mouse-Baron_human-05-23_21.33.44/ #Baron_mouse-Baron_human-01-03_19.40.04\n",
    "    cfg.CAME.figdir = cfg.CAME.ROOT + 'figs/'\n",
    "\n",
    "    cfg.CAME.homo_region_file_path = './Data/mouse_macaque_homo_region.csv'\n",
    "    cfg.CAME.labels_dir = './Data/'\n",
    "    \n",
    "    cfg.CAME.path_labels_2 = './Data/mouse_region_list.csv'\n",
    "    cfg.CAME.path_labels_1 = './Data/macaque_region_list.csv'\n",
    "    #    ttest_plot_utils.run_came_homo_random(cfg)\n",
    "\n",
    "    cfg.CAME.path_varmap = './Data/Macaque_Mouse_multi2multi.csv'\n",
    "    cfg.CAME.path_varmap_1v1 = './Data/Macaque_Mouse_one2one.csv'\n",
    "\n",
    "    cfg.CAME.human_mouse_homo_region = './Data/mouse_macaque_homo_region.csv'\n",
    "\n",
    "\n",
    "    cfg.BrainAlign.dsnames = ['Macaque', 'Mouse']\n",
    "    cfg.BrainAlign.homo_region_num = 4\n",
    "\n",
    "    cfg.BrainAlign.embedding_type = 'came' #came\n",
    "    cfg.BrainAlign.embedding_pca_dim = 30\n",
    "\n",
    "\n",
    "    cfg.BrainAlign.dataset = 'macaque_mouse_binary'\n",
    "    cfg.BrainAlign.result_save_folder = './Results'\n",
    "    cfg.BrainAlign.experiment_time = '' #'2024-03-12_18-38-54'#time.strftime(\"%Y-%m-%d_%H-%M-%S\")\n",
    "    cfg.BrainAlign.result_save_path = cfg.BrainAlign.result_save_folder + cfg.BrainAlign.experiment_time\n",
    "    cfg.BrainAlign.embeddings_file_path = cfg.BrainAlign.result_save_path + \"/embeds/\"\n",
    "    cfg.BrainAlign.DATA_PATH = cfg.BrainAlign.result_save_path + '/data/'\n",
    "\n",
    "    cfg.SRRSC_args.save_path = cfg.BrainAlign.result_save_path\n",
    "    cfg.SRRSC_args.data_path = cfg.BrainAlign.DATA_PATH\n",
    "\n",
    "    S, M, binary_S, binary_M, binary_H, binary_V = load_dimensions_binary(cfg.CAME.ROOT + 'datapair_init.pickle')\n",
    "\n",
    "    cfg.BrainAlign.S = S  # 21749 + 3682\n",
    "    cfg.BrainAlign.M = M  # 4035 + 6507\n",
    "\n",
    "    cfg.BrainAlign.binary_S = binary_S  # ,\n",
    "    cfg.BrainAlign.binary_M = binary_M  # 1034  # 4035\n",
    "    cfg.BrainAlign.binary_H = binary_H  # 1004  # 6507\n",
    "    cfg.BrainAlign.binary_V = binary_V\n",
    "\n",
    "    cfg.BrainAlign.node_relation = 'spatial_2d'  # 'spatial' # knn\n",
    "    cfg.BrainAlign.spatial_node_neighbor = 4 # set it to 4 for slice data, 5 for 3d data\n",
    "\n",
    "    cfg.ANALYSIS.umap_neighbor = 30  # 30\n",
    "    cfg.ANALYSIS.mouse_umap_neighbor = 30  # 40\n",
    "    cfg.ANALYSIS.human_umap_neighbor = 30\n",
    "\n",
    "    cfg.ANALYSIS.umap_marker_size = 5  # 40\n",
    "    cfg.ANALYSIS.mouse_umap_marker_size = 5  # 40\n",
    "    cfg.ANALYSIS.human_umap_marker_size = 10  # 40\n",
    "\n",
    "    cfg.ANALYSIS.genes_umap_neighbor = 15#15\n",
    "\n",
    "    cfg.ANALYSIS.sample_cluster_num = 60\n",
    "\n",
    "    cfg.ANALYSIS.cut_ov = 0\n",
    "\n",
    "    cfg.SRRSC_args.lr = 0.01\n",
    "    cfg.SRRSC_args.patience = 30\n",
    "\n",
    "    cfg.SRRSC_args.out_ft = 128\n",
    "\n",
    "    cfg.SRRSC_args.drop_prob = 0.6\n",
    "    cfg.SRRSC_args.lamb = 0.5  # coefficient for the losses in node task\n",
    "    cfg.SRRSC_args.lamb_lp = 1.0  # coefficient for the losses in link task\n",
    "    cfg.SRRSC_args.margin = 0.5 #0.8\n",
    "\n",
    "    cfg.BrainAlign.fig_format = 'png'\n",
    "\n",
    "    cfg.SRRSC_args.isAtt = True#True#True\n",
    "    cfg.SRRSC_args.isBias = True\n",
    "\n",
    "    cfg.SRRSC_args.lamb = 0.5  # coefficient for the losses in node task\n",
    "    cfg.SRRSC_args.lamb_lp = 1.0  # coefficient for the losses in link task\n",
    "    cfg.SRRSC_args.margin = 0.8  # coefficient for the margin loss\n",
    "\n",
    "    cfg.SRRSC_args.train_ratio = 0.9\n",
    "    cfg.SRRSC_args.validation_ratio = 0.45\n",
    "    cfg.SRRSC_args.test_ratio = 0.05\n",
    "\n",
    "    cfg.SRRSC_args.lr_stepsize = 20\n",
    "    cfg.SRRSC_args.lr_gamma = 0.5\n",
    "\n",
    "    cfg.SRRSC_args.nb_epochs = 150\n",
    "\n",
    "    print('--------------------------Config:', cfg)\n",
    "    if if_train:\n",
    "        logger = process.get_srrsc_input(cfg)\n",
    "        print('Training BrainAlign...')\n",
    "        main_sr_rsc.run_srrsc(cfg, logger)\n",
    "\n",
    "    print('Analysis of BrainAlign embeddings...')\n",
    "\n",
    "    load_srrsc_embeddings(cfg)  # (21749, 128)\n",
    "    #alignment_STs(cfg)\n",
    "\n",
    "    alignment_STs_analysis_obj = alignment_STs_analysis(cfg)\n",
    "    #alignment_STs_analysis_obj.forward()\n",
    "    alignment_STs_analysis_obj.init_data()\n",
    "    alignment_STs_analysis_obj.experiment_1_cross_species_clustering()\n",
    "\n",
    "    alignment_STs_analysis_obj.experiment_2_umap_evaluation()\n",
    "    \n",
    "    ##alignment_STs_analysis_obj.experiment_2_umap_diagram()\n",
    "    alignment_STs_analysis_obj.experiment_3_homo_random()\n",
    "    alignment_STs_analysis_obj.experiment_3_1_homo_random_beforeAlign\n",
    "    ##self.experiment_3_homo_random()\n",
    "    \n",
    "    alignment_STs_analysis_obj.experiment_4_cross_species_genes_analysis()\n",
    "\n",
    "    alignment_STs_analysis_obj.experiment_5_genes_homo_random()\n",
    "    # alignment_STs_analysis_obj.experiment_6_brain_region_classfier()\n",
    "    #alignment_STs_analysis_obj.experiment_7_align_cross_species()\n",
    "    #alignment_STs_analysis_obj.experiment_7_1_align_cross_species_split()\n",
    "    # alignment_STs_analysis_obj.experiment_8_cross_evaluation_aligment_cluster()\n",
    "    # alignment_STs_analysis_obj.experiment_8_1_cross_aligment_cluster_merge_lines()\n",
    "    # alignment_STs_analysis_obj.experiment_9_name_clusters()\n",
    "    #alignment_STs_analysis_obj.experiment_9_1_region_cluster_heatmap()\n",
    "    #alignment_STs_analysis_obj.experiment_10_check_alignment()\n",
    "    #alignment_STs_analysis_obj.experiment_10_1_check_alignment_plot()\n",
    "    #alignment_STs_analysis_obj.experiment_11_paga()\n",
    "\n",
    "    # alignment_STs_analysis_obj.experiment_14_clusters_alignment()\n",
    "    #\n",
    "    # alignment_STs_analysis_obj.experiment_15_regions_alignment()\n",
    "    # alignment_STs_analysis_obj.experiment_15_1_isocortex_clusters(if_load=True)\n",
    "    #\n",
    "    # alignment_STs_analysis_obj.experiment_16_thalamus_clusters(if_load=True)\n",
    "    # alignment_STs_analysis_obj.experiment_17_hypothalamus_clusters(if_load=True)\n",
    "    # alignment_STs_analysis_obj.experiment_18_pons_clusters(if_load=True)\n",
    "\n",
    "    #alignment_STs_analysis_obj.experiment_18_pons_marker_gene()\n",
    "\n",
    "    #alignment_STs_analysis_obj.experiment_19_Midbrain_hypothalamus(if_load=True, topk=30)\n",
    "\n",
    "    #alignment_STs_analysis_obj.experiment_7_align_cross_species()\n",
    "    #\n",
    "    #alignment_STs_analysis_obj.experiment_4_cross_species_genes_analysis()\n",
    "    #alignment_STs_analysis_obj.experiment_4_1_genes_statistics()\n",
    "    #alignment_STs_analysis_obj.experiment_8_cross_evaluation_aligment_cluster()\n",
    "    #alignment_STs_analysis_obj.experiment_9_name_clusters()\n",
    "    #alignment_STs_analysis_obj.experiment_10_check_alignment()\n",
    "\n",
    "    #alignment_STs_analysis_obj.forward()\n",
    "    #genomic_analysis_obj = genomic_analysis(cfg)\n",
    "    #genomic_analysis_obj.experiment_1_th_clusters_deg()\n",
    "    #genomic_analysis_obj.experiment_2_clusters_deg()\n",
    "    #genomic_analysis_obj.experiment_2_1_homoregions_deg()\n",
    "    #genomic_analysis_obj.experiment_3_regions_gene_module()\n",
    "    #genomic_analysis_obj.experiment_3_1_regions_gene_module_analysis()\n",
    "    #genomic_analysis_obj.experiment_4_clusters_gene_module()\n",
    "    #genomic_analysis_obj.experiment_5_deg_homo_distribution()\n",
    "    #genomic_analysis_obj.experiment_6_regions_gene_module_average_exp()\n",
    "    #genomic_analysis_obj.experiment_6_1_regions_gene_module_cross()\n",
    "    #genomic_analysis_obj.experiment_7_clusters_gene_module_average_exp()\n",
    "    #genomic_analysis_obj.experiment_7_1_clusters_gene_module_cross()\n",
    "    #genomic_analysis_obj.experiment_8_homoregions_go_terms_overlap()\n",
    "    #genomic_analysis_obj.experiment_8_1_plot_heatmap()\n",
    "    #genomic_analysis_obj.experiment_8_2_homoregions_go_terms_cross()\n",
    "\n",
    "    #genomic_analysis_obj.experiment_9_clusters_go_terms_overlap()\n",
    "\n",
    "    #genomic_analysis_obj.experiment_9_1_plot_heatmap()\n",
    "\n",
    "    #genomic_analysis_obj.experiment_10_binary_clustering()\n",
    "\n",
    "    #gene_comparison(cfg)\n",
    "    #anatomical_STs_analysis_obj = anatomical_STs_analysis(cfg)\n",
    "    #anatomical_STs_analysis_obj.forward()\n",
    "    #spatial_analysis_obj = spatial_analysis(cfg)\n",
    "    #spatial_analysis_obj.experiment_1_spatial_hippocampal()\n",
    "    #spatial_analysis_obj.forward()\n",
    "    #spatial_analysis_obj.experiment_2_spatial_isocortex()\n",
    "    #spatial_analysis_obj.experiment_3_spatial_clusters()\n",
    "\n",
    "\n",
    "\n"
   ]
  },
  {
   "cell_type": "code",
   "execution_count": null,
   "id": "d0eac512-5f5f-4b8f-b817-4498e1e91f7e",
   "metadata": {},
   "outputs": [],
   "source": []
  }
 ],
 "metadata": {
  "kernelspec": {
   "display_name": "env_came",
   "language": "python",
   "name": "env_came"
  },
  "language_info": {
   "codemirror_mode": {
    "name": "ipython",
    "version": 3
   },
   "file_extension": ".py",
   "mimetype": "text/x-python",
   "name": "python",
   "nbconvert_exporter": "python",
   "pygments_lexer": "ipython3",
   "version": "3.8.18"
  }
 },
 "nbformat": 4,
 "nbformat_minor": 5
}
