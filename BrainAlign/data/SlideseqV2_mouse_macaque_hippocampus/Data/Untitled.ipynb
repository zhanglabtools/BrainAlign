{
 "cells": [
  {
   "cell_type": "code",
   "execution_count": 5,
   "id": "91f07b93-f89e-41c8-b310-799ee1869995",
   "metadata": {},
   "outputs": [
    {
     "name": "stdout",
     "output_type": "stream",
     "text": [
      "      Gene name Mouse gene name Mouse homology type\n",
      "0        ZNF692          Zfp692    ortholog_one2one\n",
      "1        ZNF672          Zfp672    ortholog_one2one\n",
      "2       SH3BP5L         Sh3bp5l    ortholog_one2one\n",
      "3           NaN           Bend2  ortholog_many2many\n",
      "4         LYPD8           Lypd8    ortholog_one2one\n",
      "...         ...             ...                 ...\n",
      "24961      ND4L         mt-Nd4l    ortholog_one2one\n",
      "24962       ND4          mt-Nd4    ortholog_one2one\n",
      "24963       ND5          mt-Nd5    ortholog_one2one\n",
      "24964       ND6          mt-Nd6   ortholog_one2many\n",
      "24965      CYTB         mt-Cytb    ortholog_one2one\n",
      "\n",
      "[24966 rows x 3 columns]\n",
      "      Gene name Mouse gene name Mouse homology type\n",
      "0        ZNF692          Zfp692    ortholog_one2one\n",
      "1        ZNF672          Zfp672    ortholog_one2one\n",
      "2       SH3BP5L         Sh3bp5l    ortholog_one2one\n",
      "4         LYPD8           Lypd8    ortholog_one2one\n",
      "8           NaN           Lypd9    ortholog_one2one\n",
      "...         ...             ...                 ...\n",
      "24960       ND3          mt-Nd3    ortholog_one2one\n",
      "24961      ND4L         mt-Nd4l    ortholog_one2one\n",
      "24962       ND4          mt-Nd4    ortholog_one2one\n",
      "24963       ND5          mt-Nd5    ortholog_one2one\n",
      "24965      CYTB         mt-Cytb    ortholog_one2one\n",
      "\n",
      "[16080 rows x 3 columns]\n"
     ]
    }
   ],
   "source": [
    "import pandas as pd\n",
    "\n",
    "file_path = './Macaque_Mouse.tsv'\n",
    "df = pd.read_csv(file_path, sep='\\t')\n",
    "\n",
    "print(df)\n",
    "df.to_csv('./Macaque_Mouse_multi2multi.csv', index=False)\n",
    "\n",
    "df = df[df['Mouse homology type'].isin(['ortholog_one2one'])]\n",
    "print(df)\n",
    "\n",
    "df.to_csv('./Macaque_Mouse_one2one.csv', index=False)\n",
    "\n"
   ]
  },
  {
   "cell_type": "code",
   "execution_count": null,
   "id": "d42fc7ae-1696-4ed4-a779-884f08b58ee0",
   "metadata": {},
   "outputs": [],
   "source": []
  }
 ],
 "metadata": {
  "kernelspec": {
   "display_name": "Python 3 (ipykernel)",
   "language": "python",
   "name": "python3"
  },
  "language_info": {
   "codemirror_mode": {
    "name": "ipython",
    "version": 3
   },
   "file_extension": ".py",
   "mimetype": "text/x-python",
   "name": "python",
   "nbconvert_exporter": "python",
   "pygments_lexer": "ipython3",
   "version": "3.8.18"
  }
 },
 "nbformat": 4,
 "nbformat_minor": 5
}
