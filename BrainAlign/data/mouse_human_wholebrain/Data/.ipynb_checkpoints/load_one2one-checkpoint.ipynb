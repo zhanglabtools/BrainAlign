{
 "cells": [
  {
   "cell_type": "code",
   "execution_count": 1,
   "id": "91f07b93-f89e-41c8-b310-799ee1869995",
   "metadata": {},
   "outputs": [
    {
     "name": "stdout",
     "output_type": "stream",
     "text": [
      "      Gene name Human gene name Human homology type\n",
      "0        mt-Nd1          MT-ND1    ortholog_one2one\n",
      "1        mt-Nd2          MT-ND2    ortholog_one2one\n",
      "2        mt-Co1          MT-CO1    ortholog_one2one\n",
      "3        mt-Co2          MT-CO2    ortholog_one2one\n",
      "4       mt-Atp8         MT-ATP8    ortholog_one2one\n",
      "...         ...             ...                 ...\n",
      "26355     Fmnl2           FMNL2    ortholog_one2one\n",
      "26356     Scn9a           SCN9A    ortholog_one2one\n",
      "26357    Abcb11          ABCB11    ortholog_one2one\n",
      "26358      Ubr3            UBR3    ortholog_one2one\n",
      "26359       Ttn             TTN    ortholog_one2one\n",
      "\n",
      "[26360 rows x 3 columns]\n",
      "      Gene name Human gene name Human homology type\n",
      "0        mt-Nd1          MT-ND1    ortholog_one2one\n",
      "1        mt-Nd2          MT-ND2    ortholog_one2one\n",
      "2        mt-Co1          MT-CO1    ortholog_one2one\n",
      "3        mt-Co2          MT-CO2    ortholog_one2one\n",
      "4       mt-Atp8         MT-ATP8    ortholog_one2one\n",
      "...         ...             ...                 ...\n",
      "26355     Fmnl2           FMNL2    ortholog_one2one\n",
      "26356     Scn9a           SCN9A    ortholog_one2one\n",
      "26357    Abcb11          ABCB11    ortholog_one2one\n",
      "26358      Ubr3            UBR3    ortholog_one2one\n",
      "26359       Ttn             TTN    ortholog_one2one\n",
      "\n",
      "[17122 rows x 3 columns]\n"
     ]
    }
   ],
   "source": [
    "import pandas as pd\n",
    "\n",
    "file_path = './Mouse_Human.tsv'\n",
    "df = pd.read_csv(file_path, sep='\\t')\n",
    "\n",
    "print(df)\n",
    "df.to_csv('./Mouse_Human_multi2multi.csv', index=False)\n",
    "\n",
    "df = df[df['Human homology type'].isin(['ortholog_one2one'])]\n",
    "print(df)\n",
    "\n",
    "df.to_csv('./Mouse_Human_one2one.csv', index=False)\n",
    "\n"
   ]
  },
  {
   "cell_type": "code",
   "execution_count": 1,
   "id": "fa2b6491-c4d4-49c2-bf42-b3e940740340",
   "metadata": {},
   "outputs": [
    {
     "name": "stdout",
     "output_type": "stream",
     "text": [
      "      Gene name Mouse gene name Mouse homology type\n",
      "0        MT-ND1          mt-Nd1    ortholog_one2one\n",
      "1        MT-ND2          mt-Nd2    ortholog_one2one\n",
      "2        MT-CO1          mt-Co1    ortholog_one2one\n",
      "3        MT-CO2          mt-Co2    ortholog_one2one\n",
      "4       MT-ATP8         mt-Atp8    ortholog_one2one\n",
      "...         ...             ...                 ...\n",
      "26355    PDIK1L          Pdik1l    ortholog_one2one\n",
      "26356   FAM110D         Fam110d    ortholog_one2one\n",
      "26357  C1orf232         Gm30191    ortholog_one2one\n",
      "26358    ZNF593          Zfp593    ortholog_one2one\n",
      "26359    CNKSR1          Cnksr1    ortholog_one2one\n",
      "\n",
      "[26360 rows x 3 columns]\n",
      "      Gene name Mouse gene name Mouse homology type\n",
      "0        MT-ND1          mt-Nd1    ortholog_one2one\n",
      "1        MT-ND2          mt-Nd2    ortholog_one2one\n",
      "2        MT-CO1          mt-Co1    ortholog_one2one\n",
      "3        MT-CO2          mt-Co2    ortholog_one2one\n",
      "4       MT-ATP8         mt-Atp8    ortholog_one2one\n",
      "...         ...             ...                 ...\n",
      "26355    PDIK1L          Pdik1l    ortholog_one2one\n",
      "26356   FAM110D         Fam110d    ortholog_one2one\n",
      "26357  C1orf232         Gm30191    ortholog_one2one\n",
      "26358    ZNF593          Zfp593    ortholog_one2one\n",
      "26359    CNKSR1          Cnksr1    ortholog_one2one\n",
      "\n",
      "[17122 rows x 3 columns]\n"
     ]
    }
   ],
   "source": [
    "import pandas as pd\n",
    "\n",
    "file_path = './Human_Mouse.tsv'\n",
    "df = pd.read_csv(file_path, sep='\\t')\n",
    "\n",
    "print(df)\n",
    "df.to_csv('./Human_Mouse_multi2multi.csv', index=False)\n",
    "\n",
    "df = df[df['Mouse homology type'].isin(['ortholog_one2one'])]\n",
    "print(df)\n",
    "\n",
    "df.to_csv('./Human_Mouse_one2one.csv', index=False)\n",
    "\n"
   ]
  },
  {
   "cell_type": "code",
   "execution_count": null,
   "id": "d42fc7ae-1696-4ed4-a779-884f08b58ee0",
   "metadata": {},
   "outputs": [],
   "source": []
  }
 ],
 "metadata": {
  "kernelspec": {
   "display_name": "Python 3 (ipykernel)",
   "language": "python",
   "name": "python3"
  },
  "language_info": {
   "codemirror_mode": {
    "name": "ipython",
    "version": 3
   },
   "file_extension": ".py",
   "mimetype": "text/x-python",
   "name": "python",
   "nbconvert_exporter": "python",
   "pygments_lexer": "ipython3",
   "version": "3.8.18"
  }
 },
 "nbformat": 4,
 "nbformat_minor": 5
}
